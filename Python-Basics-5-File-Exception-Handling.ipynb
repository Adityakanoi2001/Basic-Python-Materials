{
 "cells": [
  {
   "cell_type": "markdown",
   "metadata": {
    "toc": true
   },
   "source": [
    "<h1>Table of Contents<span class=\"tocSkip\"></span></h1>\n",
    "<div class=\"toc\"><ul class=\"toc-item\"><li><span><a href=\"#Exception-Handling\" data-toc-modified-id=\"Exception-Handling-1\"><span class=\"toc-item-num\">1&nbsp;&nbsp;</span>Exception Handling</a></span><ul class=\"toc-item\"><li><span><a href=\"#What-is-Exception\" data-toc-modified-id=\"What-is-Exception-1.1\"><span class=\"toc-item-num\">1.1&nbsp;&nbsp;</span>What is Exception</a></span></li><li><span><a href=\"#Handling-Exception\" data-toc-modified-id=\"Handling-Exception-1.2\"><span class=\"toc-item-num\">1.2&nbsp;&nbsp;</span>Handling Exception</a></span></li><li><span><a href=\"#Handling-Multiple-Exceptions\" data-toc-modified-id=\"Handling-Multiple-Exceptions-1.3\"><span class=\"toc-item-num\">1.3&nbsp;&nbsp;</span>Handling Multiple Exceptions</a></span></li><li><span><a href=\"#Using-Finally-Block\" data-toc-modified-id=\"Using-Finally-Block-1.4\"><span class=\"toc-item-num\">1.4&nbsp;&nbsp;</span>Using Finally Block</a></span></li><li><span><a href=\"#Using-Else-Block\" data-toc-modified-id=\"Using-Else-Block-1.5\"><span class=\"toc-item-num\">1.5&nbsp;&nbsp;</span>Using Else Block</a></span></li><li><span><a href=\"#Raise-Exceptions\" data-toc-modified-id=\"Raise-Exceptions-1.6\"><span class=\"toc-item-num\">1.6&nbsp;&nbsp;</span>Raise Exceptions</a></span></li><li><span><a href=\"#Assertions-in-Exception\" data-toc-modified-id=\"Assertions-in-Exception-1.7\"><span class=\"toc-item-num\">1.7&nbsp;&nbsp;</span>Assertions in Exception</a></span></li></ul></li><li><span><a href=\"#File-Handling\" data-toc-modified-id=\"File-Handling-2\"><span class=\"toc-item-num\">2&nbsp;&nbsp;</span>File Handling</a></span><ul class=\"toc-item\"><li><span><a href=\"#Types-of-Files\" data-toc-modified-id=\"Types-of-Files-2.1\"><span class=\"toc-item-num\">2.1&nbsp;&nbsp;</span>Types of Files</a></span></li><li><span><a href=\"#Properties-of-the-file-object\" data-toc-modified-id=\"Properties-of-the-file-object-2.2\"><span class=\"toc-item-num\">2.2&nbsp;&nbsp;</span>Properties of the file object</a></span></li><li><span><a href=\"#Reading-data-from-file\" data-toc-modified-id=\"Reading-data-from-file-2.3\"><span class=\"toc-item-num\">2.3&nbsp;&nbsp;</span>Reading data from file</a></span><ul class=\"toc-item\"><li><span><a href=\"#fileObject.read()\" data-toc-modified-id=\"fileObject.read()-2.3.1\"><span class=\"toc-item-num\">2.3.1&nbsp;&nbsp;</span>fileObject.read()</a></span></li><li><span><a href=\"#fileObject.read(n)\" data-toc-modified-id=\"fileObject.read(n)-2.3.2\"><span class=\"toc-item-num\">2.3.2&nbsp;&nbsp;</span>fileObject.read(n)</a></span></li><li><span><a href=\"#fileObject.readline()\" data-toc-modified-id=\"fileObject.readline()-2.3.3\"><span class=\"toc-item-num\">2.3.3&nbsp;&nbsp;</span>fileObject.readline()</a></span></li><li><span><a href=\"#fileObject.readlines()\" data-toc-modified-id=\"fileObject.readlines()-2.3.4\"><span class=\"toc-item-num\">2.3.4&nbsp;&nbsp;</span>fileObject.readlines()</a></span></li></ul></li><li><span><a href=\"#Write-Operations\" data-toc-modified-id=\"Write-Operations-2.4\"><span class=\"toc-item-num\">2.4&nbsp;&nbsp;</span>Write Operations</a></span></li><li><span><a href=\"#Tell-&amp;-Seek\" data-toc-modified-id=\"Tell-&amp;-Seek-2.5\"><span class=\"toc-item-num\">2.5&nbsp;&nbsp;</span>Tell &amp; Seek</a></span></li><li><span><a href=\"#Applications\" data-toc-modified-id=\"Applications-2.6\"><span class=\"toc-item-num\">2.6&nbsp;&nbsp;</span>Applications</a></span><ul class=\"toc-item\"><li><span><a href=\"#Check-file-Exsists-or-Not\" data-toc-modified-id=\"Check-file-Exsists-or-Not-2.6.1\"><span class=\"toc-item-num\">2.6.1&nbsp;&nbsp;</span>Check file Exsists or Not</a></span></li><li><span><a href=\"#Line-Word-Char---Count\" data-toc-modified-id=\"Line-Word-Char---Count-2.6.2\"><span class=\"toc-item-num\">2.6.2&nbsp;&nbsp;</span>Line Word Char - Count</a></span></li></ul></li><li><span><a href=\"#Binary-Data\" data-toc-modified-id=\"Binary-Data-2.7\"><span class=\"toc-item-num\">2.7&nbsp;&nbsp;</span>Binary Data</a></span></li><li><span><a href=\"#CSV-File-Handingling\" data-toc-modified-id=\"CSV-File-Handingling-2.8\"><span class=\"toc-item-num\">2.8&nbsp;&nbsp;</span>CSV File Handingling</a></span><ul class=\"toc-item\"><li><span><a href=\"#Writer-CSV\" data-toc-modified-id=\"Writer-CSV-2.8.1\"><span class=\"toc-item-num\">2.8.1&nbsp;&nbsp;</span>Writer CSV</a></span></li><li><span><a href=\"#Reader-CSV\" data-toc-modified-id=\"Reader-CSV-2.8.2\"><span class=\"toc-item-num\">2.8.2&nbsp;&nbsp;</span>Reader CSV</a></span></li></ul></li><li><span><a href=\"#Zip-and-UnZip\" data-toc-modified-id=\"Zip-and-UnZip-2.9\"><span class=\"toc-item-num\">2.9&nbsp;&nbsp;</span>Zip and UnZip</a></span><ul class=\"toc-item\"><li><span><a href=\"#zipfile.is_zipfile()\" data-toc-modified-id=\"zipfile.is_zipfile()-2.9.1\"><span class=\"toc-item-num\">2.9.1&nbsp;&nbsp;</span>zipfile.is_zipfile()</a></span></li><li><span><a href=\"#zfObj.write(file)\" data-toc-modified-id=\"zfObj.write(file)-2.9.2\"><span class=\"toc-item-num\">2.9.2&nbsp;&nbsp;</span>zfObj.write(file)</a></span></li><li><span><a href=\"#zfObj.namelist()\" data-toc-modified-id=\"zfObj.namelist()-2.9.3\"><span class=\"toc-item-num\">2.9.3&nbsp;&nbsp;</span>zfObj.namelist()</a></span></li><li><span><a href=\"#zfObj.infolist()\" data-toc-modified-id=\"zfObj.infolist()-2.9.4\"><span class=\"toc-item-num\">2.9.4&nbsp;&nbsp;</span>zfObj.infolist()</a></span></li></ul></li><li><span><a href=\"#OS-Module\" data-toc-modified-id=\"OS-Module-2.10\"><span class=\"toc-item-num\">2.10&nbsp;&nbsp;</span>OS Module</a></span></li></ul></li></ul></div>"
   ]
  },
  {
   "cell_type": "markdown",
   "metadata": {},
   "source": [
    "# Exception Handling\n",
    "\n",
    "`try - except/finally : Try Block requires either except or finally`<br>\n",
    "`try - except - else  : Else Block requires both try and except`<br>"
   ]
  },
  {
   "cell_type": "markdown",
   "metadata": {},
   "source": [
    "## What is Exception\n",
    "When Exceptions occur, the Python interpreter stops the current process and passes it to the calling process until it is handled.\n",
    "If not handled, the program will crash. There are two types<br><br>\n",
    "\n",
    "\n",
    "**1) Syntax Error : Occur when the parser detects an incorrect statement<br>**\n",
    "**2) Runtime Exp : occur at the time of execution**<br><br>\n",
    "\n",
    "\n",
    "1) Pre-Defined Exceptions<br>\n",
    "2) User-Defined Exceptions"
   ]
  },
  {
   "cell_type": "code",
   "execution_count": 2,
   "metadata": {
    "ExecuteTime": {
     "end_time": "2020-08-20T05:31:37.009393Z",
     "start_time": "2020-08-20T05:31:36.962390Z"
    }
   },
   "outputs": [
    {
     "ename": "ZeroDivisionError",
     "evalue": "division by zero",
     "output_type": "error",
     "traceback": [
      "\u001b[1;31m---------------------------------------------------------------------------\u001b[0m",
      "\u001b[1;31mZeroDivisionError\u001b[0m                         Traceback (most recent call last)",
      "\u001b[1;32m<ipython-input-2-fe01563e1bc6>\u001b[0m in \u001b[0;36m<module>\u001b[1;34m\u001b[0m\n\u001b[1;32m----> 1\u001b[1;33m \u001b[0mprint\u001b[0m\u001b[1;33m(\u001b[0m\u001b[1;36m10\u001b[0m\u001b[1;33m/\u001b[0m\u001b[1;36m0\u001b[0m\u001b[1;33m)\u001b[0m\u001b[1;33m\u001b[0m\u001b[1;33m\u001b[0m\u001b[0m\n\u001b[0m",
      "\u001b[1;31mZeroDivisionError\u001b[0m: division by zero"
     ]
    }
   ],
   "source": [
    "print(10/0)"
   ]
  },
  {
   "cell_type": "code",
   "execution_count": 4,
   "metadata": {
    "ExecuteTime": {
     "end_time": "2020-08-20T05:32:16.193634Z",
     "start_time": "2020-08-20T05:32:14.511538Z"
    }
   },
   "outputs": [
    {
     "name": "stdout",
     "output_type": "stream",
     "text": [
      "Enter Number : 10\n",
      "10\n"
     ]
    }
   ],
   "source": [
    "num = int(input(\"Enter Number : \"))\n",
    "print(num)"
   ]
  },
  {
   "cell_type": "code",
   "execution_count": 5,
   "metadata": {
    "ExecuteTime": {
     "end_time": "2020-08-20T05:32:28.707350Z",
     "start_time": "2020-08-20T05:32:25.894189Z"
    }
   },
   "outputs": [
    {
     "name": "stdout",
     "output_type": "stream",
     "text": [
      "Enter NumberVignesh\n"
     ]
    },
    {
     "ename": "ValueError",
     "evalue": "invalid literal for int() with base 10: 'Vignesh'",
     "output_type": "error",
     "traceback": [
      "\u001b[1;31m---------------------------------------------------------------------------\u001b[0m",
      "\u001b[1;31mValueError\u001b[0m                                Traceback (most recent call last)",
      "\u001b[1;32m<ipython-input-5-d5f56d0bc004>\u001b[0m in \u001b[0;36m<module>\u001b[1;34m\u001b[0m\n\u001b[1;32m----> 1\u001b[1;33m \u001b[0mnum\u001b[0m \u001b[1;33m=\u001b[0m \u001b[0mint\u001b[0m\u001b[1;33m(\u001b[0m\u001b[0minput\u001b[0m\u001b[1;33m(\u001b[0m\u001b[1;34m\"Enter Number\"\u001b[0m\u001b[1;33m)\u001b[0m\u001b[1;33m)\u001b[0m\u001b[1;33m\u001b[0m\u001b[1;33m\u001b[0m\u001b[0m\n\u001b[0m\u001b[0;32m      2\u001b[0m \u001b[0mprint\u001b[0m\u001b[1;33m(\u001b[0m\u001b[0mnum\u001b[0m\u001b[1;33m)\u001b[0m\u001b[1;33m\u001b[0m\u001b[1;33m\u001b[0m\u001b[0m\n",
      "\u001b[1;31mValueError\u001b[0m: invalid literal for int() with base 10: 'Vignesh'"
     ]
    }
   ],
   "source": [
    "num = int(input(\"Enter Number\"))\n",
    "print(num)"
   ]
  },
  {
   "cell_type": "markdown",
   "metadata": {
    "ExecuteTime": {
     "end_time": "2020-08-20T05:34:11.173211Z",
     "start_time": "2020-08-20T05:34:11.135208Z"
    }
   },
   "source": [
    "## Handling Exception\n",
    "**Handling Exception : To gracefully terminate the program<br>**\n",
    "- try<br>\n",
    "- except<br>"
   ]
  },
  {
   "cell_type": "code",
   "execution_count": 8,
   "metadata": {
    "ExecuteTime": {
     "end_time": "2020-08-20T05:38:39.336549Z",
     "start_time": "2020-08-20T05:38:39.278545Z"
    }
   },
   "outputs": [
    {
     "name": "stdout",
     "output_type": "stream",
     "text": [
      "====First Line====\n",
      "Issue Found\n",
      "====Last Line====\n"
     ]
    }
   ],
   "source": [
    "print(\"====First Line====\")\n",
    "\n",
    "try:\n",
    "    print(10/0)\n",
    "except:\n",
    "    print(\"Issue Found\")\n",
    "\n",
    "print(\"====Last Line====\")"
   ]
  },
  {
   "cell_type": "code",
   "execution_count": 11,
   "metadata": {
    "ExecuteTime": {
     "end_time": "2020-08-20T05:40:18.471219Z",
     "start_time": "2020-08-20T05:40:18.453218Z"
    }
   },
   "outputs": [
    {
     "name": "stdout",
     "output_type": "stream",
     "text": [
      "====First Line====\n",
      "In Try Loop\n",
      "Issue Found : division by zero\n",
      "====Last Line====\n"
     ]
    }
   ],
   "source": [
    "print(\"====First Line====\")\n",
    "\n",
    "try:\n",
    "    print(\"In Try Loop\")\n",
    "    print(10/0)\n",
    "    print(\"Completed Try Loop\")\n",
    "except Exception as Error:\n",
    "    print(\"Issue Found : {}\".format(Error))\n",
    "\n",
    "print(\"====Last Line====\")"
   ]
  },
  {
   "cell_type": "markdown",
   "metadata": {},
   "source": [
    " ## Handling Multiple Exceptions\n",
    " - Prioritize from Top to Bottom\n",
    " - Exception will **not** handle another Exception (Use Nested Try-Except)\n",
    " - Handling multiple Exceptions in single Except block"
   ]
  },
  {
   "cell_type": "code",
   "execution_count": 13,
   "metadata": {
    "ExecuteTime": {
     "end_time": "2020-08-20T05:47:34.806141Z",
     "start_time": "2020-08-20T05:47:34.792140Z"
    }
   },
   "outputs": [
    {
     "name": "stdout",
     "output_type": "stream",
     "text": [
      "====First Line====\n",
      "In Try Loop\n",
      "Issue Found 1 : division by zero\n",
      "====Last Line====\n"
     ]
    }
   ],
   "source": [
    "print(\"====First Line====\")\n",
    "\n",
    "try:\n",
    "    print(\"In Try Loop\")\n",
    "    print(10/0)\n",
    "    print(\"Completed Try Loop\")\n",
    "except ZeroDivisionError as Error:\n",
    "    print(\"Issue Found 1 : {}\".format(Error))\n",
    "except Exception as Error:\n",
    "    print(\"Issue Found 2 : {}\".format(Error))\n",
    "\n",
    "print(\"====Last Line====\")"
   ]
  },
  {
   "cell_type": "code",
   "execution_count": 17,
   "metadata": {
    "ExecuteTime": {
     "end_time": "2020-08-20T05:48:51.969555Z",
     "start_time": "2020-08-20T05:48:51.952554Z"
    }
   },
   "outputs": [
    {
     "name": "stdout",
     "output_type": "stream",
     "text": [
      "====First Line====\n",
      "In Try Loop\n",
      "Issue Found 2 : unsupported operand type(s) for /: 'int' and 'str'\n",
      "====Last Line====\n"
     ]
    }
   ],
   "source": [
    "print(\"====First Line====\")\n",
    "\n",
    "try:\n",
    "    print(\"In Try Loop\")\n",
    "    print(10/\"zero\")\n",
    "    print(\"Completed Try Loop\")\n",
    "except ZeroDivisionError as Error:\n",
    "    print(\"Issue Found 1 : {}\".format(Error))\n",
    "except TypeError as Error:\n",
    "    print(\"Issue Found 2 : {}\".format(Error))\n",
    "except Exception as Error:\n",
    "    print(\"Issue Found 3 : {}\".format(Error))\n",
    "\n",
    "print(\"====Last Line====\")"
   ]
  },
  {
   "cell_type": "code",
   "execution_count": 18,
   "metadata": {
    "ExecuteTime": {
     "end_time": "2020-08-20T05:50:14.494275Z",
     "start_time": "2020-08-20T05:50:14.474274Z"
    }
   },
   "outputs": [
    {
     "name": "stdout",
     "output_type": "stream",
     "text": [
      "====First Line====\n",
      "In Try Loop\n",
      "Issue Found 1 : unsupported operand type(s) for /: 'int' and 'str'\n",
      "====Last Line====\n"
     ]
    }
   ],
   "source": [
    "print(\"====First Line====\")\n",
    "\n",
    "try:\n",
    "    print(\"In Try Loop\")\n",
    "    print(10/\"zero\")\n",
    "    print(\"Completed Try Loop\")\n",
    "except Exception as Error:\n",
    "    print(\"Issue Found 1 : {}\".format(Error))\n",
    "except TypeError as Error:\n",
    "    print(\"Issue Found 2 : {}\".format(Error))\n",
    "except ZeroDivisionError as Error:\n",
    "    print(\"Issue Found 3 : {}\".format(Error))\n",
    "\n",
    "print(\"====Last Line====\")"
   ]
  },
  {
   "cell_type": "code",
   "execution_count": 19,
   "metadata": {
    "ExecuteTime": {
     "end_time": "2020-08-20T05:51:28.606514Z",
     "start_time": "2020-08-20T05:51:28.532510Z"
    }
   },
   "outputs": [
    {
     "name": "stdout",
     "output_type": "stream",
     "text": [
      "====First Line====\n",
      "In Try Loop\n",
      "Issue Found 2 : unsupported operand type(s) for /: 'int' and 'str'\n"
     ]
    },
    {
     "ename": "ZeroDivisionError",
     "evalue": "division by zero",
     "output_type": "error",
     "traceback": [
      "\u001b[1;31m---------------------------------------------------------------------------\u001b[0m",
      "\u001b[1;31mTypeError\u001b[0m                                 Traceback (most recent call last)",
      "\u001b[1;32m<ipython-input-19-16334bef1f1e>\u001b[0m in \u001b[0;36m<module>\u001b[1;34m\u001b[0m\n\u001b[0;32m      4\u001b[0m     \u001b[0mprint\u001b[0m\u001b[1;33m(\u001b[0m\u001b[1;34m\"In Try Loop\"\u001b[0m\u001b[1;33m)\u001b[0m\u001b[1;33m\u001b[0m\u001b[1;33m\u001b[0m\u001b[0m\n\u001b[1;32m----> 5\u001b[1;33m     \u001b[0mprint\u001b[0m\u001b[1;33m(\u001b[0m\u001b[1;36m10\u001b[0m\u001b[1;33m/\u001b[0m\u001b[1;34m\"zero\"\u001b[0m\u001b[1;33m)\u001b[0m\u001b[1;33m\u001b[0m\u001b[1;33m\u001b[0m\u001b[0m\n\u001b[0m\u001b[0;32m      6\u001b[0m     \u001b[0mprint\u001b[0m\u001b[1;33m(\u001b[0m\u001b[1;34m\"Completed Try Loop\"\u001b[0m\u001b[1;33m)\u001b[0m\u001b[1;33m\u001b[0m\u001b[1;33m\u001b[0m\u001b[0m\n",
      "\u001b[1;31mTypeError\u001b[0m: unsupported operand type(s) for /: 'int' and 'str'",
      "\nDuring handling of the above exception, another exception occurred:\n",
      "\u001b[1;31mZeroDivisionError\u001b[0m                         Traceback (most recent call last)",
      "\u001b[1;32m<ipython-input-19-16334bef1f1e>\u001b[0m in \u001b[0;36m<module>\u001b[1;34m\u001b[0m\n\u001b[0;32m      9\u001b[0m \u001b[1;32mexcept\u001b[0m \u001b[0mTypeError\u001b[0m \u001b[1;32mas\u001b[0m \u001b[0mError\u001b[0m\u001b[1;33m:\u001b[0m\u001b[1;33m\u001b[0m\u001b[1;33m\u001b[0m\u001b[0m\n\u001b[0;32m     10\u001b[0m     \u001b[0mprint\u001b[0m\u001b[1;33m(\u001b[0m\u001b[1;34m\"Issue Found 2 : {}\"\u001b[0m\u001b[1;33m.\u001b[0m\u001b[0mformat\u001b[0m\u001b[1;33m(\u001b[0m\u001b[0mError\u001b[0m\u001b[1;33m)\u001b[0m\u001b[1;33m)\u001b[0m\u001b[1;33m\u001b[0m\u001b[1;33m\u001b[0m\u001b[0m\n\u001b[1;32m---> 11\u001b[1;33m     \u001b[0mprint\u001b[0m\u001b[1;33m(\u001b[0m\u001b[1;36m10\u001b[0m\u001b[1;33m/\u001b[0m\u001b[1;36m0\u001b[0m\u001b[1;33m)\u001b[0m\u001b[1;33m\u001b[0m\u001b[1;33m\u001b[0m\u001b[0m\n\u001b[0m\u001b[0;32m     12\u001b[0m \u001b[1;32mexcept\u001b[0m \u001b[0mException\u001b[0m \u001b[1;32mas\u001b[0m \u001b[0mError\u001b[0m\u001b[1;33m:\u001b[0m\u001b[1;33m\u001b[0m\u001b[1;33m\u001b[0m\u001b[0m\n\u001b[0;32m     13\u001b[0m     \u001b[0mprint\u001b[0m\u001b[1;33m(\u001b[0m\u001b[1;34m\"Issue Found 3 : {}\"\u001b[0m\u001b[1;33m.\u001b[0m\u001b[0mformat\u001b[0m\u001b[1;33m(\u001b[0m\u001b[0mError\u001b[0m\u001b[1;33m)\u001b[0m\u001b[1;33m)\u001b[0m\u001b[1;33m\u001b[0m\u001b[1;33m\u001b[0m\u001b[0m\n",
      "\u001b[1;31mZeroDivisionError\u001b[0m: division by zero"
     ]
    }
   ],
   "source": [
    "print(\"====First Line====\")\n",
    "\n",
    "try:\n",
    "    print(\"In Try Loop\")\n",
    "    print(10/\"zero\")\n",
    "    print(\"Completed Try Loop\")\n",
    "except ZeroDivisionError as Error:\n",
    "    print(\"Issue Found 1 : {}\".format(Error))\n",
    "except TypeError as Error:\n",
    "    print(\"Issue Found 2 : {}\".format(Error))\n",
    "    print(10/0)\n",
    "except Exception as Error:\n",
    "    print(\"Issue Found 3 : {}\".format(Error))\n",
    "\n",
    "print(\"====Last Line====\")"
   ]
  },
  {
   "cell_type": "code",
   "execution_count": 20,
   "metadata": {
    "ExecuteTime": {
     "end_time": "2020-08-20T05:52:23.026626Z",
     "start_time": "2020-08-20T05:52:22.981624Z"
    }
   },
   "outputs": [
    {
     "name": "stdout",
     "output_type": "stream",
     "text": [
      "====First Line====\n",
      "In Try Loop\n",
      "Issue Found 1 : unsupported operand type(s) for /: 'int' and 'str'\n"
     ]
    },
    {
     "ename": "ZeroDivisionError",
     "evalue": "division by zero",
     "output_type": "error",
     "traceback": [
      "\u001b[1;31m---------------------------------------------------------------------------\u001b[0m",
      "\u001b[1;31mTypeError\u001b[0m                                 Traceback (most recent call last)",
      "\u001b[1;32m<ipython-input-20-81d28910eb2b>\u001b[0m in \u001b[0;36m<module>\u001b[1;34m\u001b[0m\n\u001b[0;32m      4\u001b[0m     \u001b[0mprint\u001b[0m\u001b[1;33m(\u001b[0m\u001b[1;34m\"In Try Loop\"\u001b[0m\u001b[1;33m)\u001b[0m\u001b[1;33m\u001b[0m\u001b[1;33m\u001b[0m\u001b[0m\n\u001b[1;32m----> 5\u001b[1;33m     \u001b[0mprint\u001b[0m\u001b[1;33m(\u001b[0m\u001b[1;36m10\u001b[0m\u001b[1;33m/\u001b[0m\u001b[1;34m\"zero\"\u001b[0m\u001b[1;33m)\u001b[0m\u001b[1;33m\u001b[0m\u001b[1;33m\u001b[0m\u001b[0m\n\u001b[0m\u001b[0;32m      6\u001b[0m     \u001b[0mprint\u001b[0m\u001b[1;33m(\u001b[0m\u001b[1;34m\"Completed Try Loop\"\u001b[0m\u001b[1;33m)\u001b[0m\u001b[1;33m\u001b[0m\u001b[1;33m\u001b[0m\u001b[0m\n",
      "\u001b[1;31mTypeError\u001b[0m: unsupported operand type(s) for /: 'int' and 'str'",
      "\nDuring handling of the above exception, another exception occurred:\n",
      "\u001b[1;31mZeroDivisionError\u001b[0m                         Traceback (most recent call last)",
      "\u001b[1;32m<ipython-input-20-81d28910eb2b>\u001b[0m in \u001b[0;36m<module>\u001b[1;34m\u001b[0m\n\u001b[0;32m      7\u001b[0m \u001b[1;32mexcept\u001b[0m \u001b[0mTypeError\u001b[0m \u001b[1;32mas\u001b[0m \u001b[0mError\u001b[0m\u001b[1;33m:\u001b[0m\u001b[1;33m\u001b[0m\u001b[1;33m\u001b[0m\u001b[0m\n\u001b[0;32m      8\u001b[0m     \u001b[0mprint\u001b[0m\u001b[1;33m(\u001b[0m\u001b[1;34m\"Issue Found 1 : {}\"\u001b[0m\u001b[1;33m.\u001b[0m\u001b[0mformat\u001b[0m\u001b[1;33m(\u001b[0m\u001b[0mError\u001b[0m\u001b[1;33m)\u001b[0m\u001b[1;33m)\u001b[0m\u001b[1;33m\u001b[0m\u001b[1;33m\u001b[0m\u001b[0m\n\u001b[1;32m----> 9\u001b[1;33m     \u001b[0mprint\u001b[0m\u001b[1;33m(\u001b[0m\u001b[1;36m10\u001b[0m\u001b[1;33m/\u001b[0m\u001b[1;36m0\u001b[0m\u001b[1;33m)\u001b[0m\u001b[1;33m\u001b[0m\u001b[1;33m\u001b[0m\u001b[0m\n\u001b[0m\u001b[0;32m     10\u001b[0m \u001b[1;32mexcept\u001b[0m \u001b[0mZeroDivisionError\u001b[0m \u001b[1;32mas\u001b[0m \u001b[0mError\u001b[0m\u001b[1;33m:\u001b[0m\u001b[1;33m\u001b[0m\u001b[1;33m\u001b[0m\u001b[0m\n\u001b[0;32m     11\u001b[0m     \u001b[0mprint\u001b[0m\u001b[1;33m(\u001b[0m\u001b[1;34m\"Issue Found 2 : {}\"\u001b[0m\u001b[1;33m.\u001b[0m\u001b[0mformat\u001b[0m\u001b[1;33m(\u001b[0m\u001b[0mError\u001b[0m\u001b[1;33m)\u001b[0m\u001b[1;33m)\u001b[0m\u001b[1;33m\u001b[0m\u001b[1;33m\u001b[0m\u001b[0m\n",
      "\u001b[1;31mZeroDivisionError\u001b[0m: division by zero"
     ]
    }
   ],
   "source": [
    "print(\"====First Line====\")\n",
    "\n",
    "try:\n",
    "    print(\"In Try Loop\")\n",
    "    print(10/\"zero\")\n",
    "    print(\"Completed Try Loop\")\n",
    "except TypeError as Error:\n",
    "    print(\"Issue Found 1 : {}\".format(Error))\n",
    "    print(10/0)\n",
    "except ZeroDivisionError as Error:\n",
    "    print(\"Issue Found 2 : {}\".format(Error))\n",
    "except Exception as Error:\n",
    "    print(\"Issue Found 3 : {}\".format(Error))\n",
    "\n",
    "print(\"====Last Line====\")"
   ]
  },
  {
   "cell_type": "code",
   "execution_count": 21,
   "metadata": {
    "ExecuteTime": {
     "end_time": "2020-08-20T05:56:42.115445Z",
     "start_time": "2020-08-20T05:56:42.092444Z"
    },
    "scrolled": true
   },
   "outputs": [
    {
     "name": "stdout",
     "output_type": "stream",
     "text": [
      "====First Line====\n",
      "In Try Loop\n",
      "Issue Found 1 : unsupported operand type(s) for /: 'int' and 'str'\n",
      "====Last Line====\n"
     ]
    }
   ],
   "source": [
    "print(\"====First Line====\")\n",
    "\n",
    "try:\n",
    "    print(\"In Try Loop\")\n",
    "    print(10/\"zero\")\n",
    "    print(\"Completed Try Loop\")\n",
    "except (TypeError, ZeroDivisionError) as Error:\n",
    "    print(\"Issue Found 1 : {}\".format(Error))\n",
    "\n",
    "print(\"====Last Line====\")"
   ]
  },
  {
   "cell_type": "code",
   "execution_count": 22,
   "metadata": {
    "ExecuteTime": {
     "end_time": "2020-08-20T05:56:59.144419Z",
     "start_time": "2020-08-20T05:56:59.122418Z"
    }
   },
   "outputs": [
    {
     "name": "stdout",
     "output_type": "stream",
     "text": [
      "====First Line====\n",
      "In Try Loop\n",
      "Issue Found 1 : division by zero\n",
      "====Last Line====\n"
     ]
    }
   ],
   "source": [
    "print(\"====First Line====\")\n",
    "\n",
    "try:\n",
    "    print(\"In Try Loop\")\n",
    "    print(10/0)\n",
    "    print(\"Completed Try Loop\")\n",
    "except (TypeError, ZeroDivisionError) as Error:\n",
    "    print(\"Issue Found 1 : {}\".format(Error))\n",
    "\n",
    "print(\"====Last Line====\")"
   ]
  },
  {
   "cell_type": "markdown",
   "metadata": {},
   "source": [
    "## Using Finally Block\n",
    "**Handling Exception : To gracefully terminate the program , Always executes even error occured/handled<br>**\n",
    "- try<br>\n",
    "- except<br>\n",
    "- finally<br>\n",
    "\n",
    "**Only one situation where finally block skips<br>**\n",
    "Exiting the program"
   ]
  },
  {
   "cell_type": "code",
   "execution_count": 1,
   "metadata": {
    "ExecuteTime": {
     "end_time": "2020-08-20T06:26:25.943475Z",
     "start_time": "2020-08-20T06:26:25.367442Z"
    }
   },
   "outputs": [
    {
     "name": "stdout",
     "output_type": "stream",
     "text": [
      "====First Line====\n",
      "In Try Loop\n",
      "Closed DB/Files/other process\n"
     ]
    },
    {
     "ename": "TypeError",
     "evalue": "unsupported operand type(s) for /: 'int' and 'str'",
     "output_type": "error",
     "traceback": [
      "\u001b[1;31m---------------------------------------------------------------------------\u001b[0m",
      "\u001b[1;31mTypeError\u001b[0m                                 Traceback (most recent call last)",
      "\u001b[1;32m<ipython-input-1-1d68ef063108>\u001b[0m in \u001b[0;36m<module>\u001b[1;34m\u001b[0m\n\u001b[0;32m      3\u001b[0m \u001b[1;32mtry\u001b[0m\u001b[1;33m:\u001b[0m\u001b[1;33m\u001b[0m\u001b[1;33m\u001b[0m\u001b[0m\n\u001b[0;32m      4\u001b[0m     \u001b[0mprint\u001b[0m\u001b[1;33m(\u001b[0m\u001b[1;34m\"In Try Loop\"\u001b[0m\u001b[1;33m)\u001b[0m\u001b[1;33m\u001b[0m\u001b[1;33m\u001b[0m\u001b[0m\n\u001b[1;32m----> 5\u001b[1;33m     \u001b[0mprint\u001b[0m\u001b[1;33m(\u001b[0m\u001b[1;36m10\u001b[0m\u001b[1;33m/\u001b[0m\u001b[1;34m\"zero\"\u001b[0m\u001b[1;33m)\u001b[0m\u001b[1;33m\u001b[0m\u001b[1;33m\u001b[0m\u001b[0m\n\u001b[0m\u001b[0;32m      6\u001b[0m     \u001b[0mprint\u001b[0m\u001b[1;33m(\u001b[0m\u001b[1;34m\"Completed Try Loop\"\u001b[0m\u001b[1;33m)\u001b[0m\u001b[1;33m\u001b[0m\u001b[1;33m\u001b[0m\u001b[0m\n\u001b[0;32m      7\u001b[0m \u001b[1;32mexcept\u001b[0m \u001b[0mZeroDivisionError\u001b[0m \u001b[1;32mas\u001b[0m \u001b[0mError\u001b[0m\u001b[1;33m:\u001b[0m\u001b[1;33m\u001b[0m\u001b[1;33m\u001b[0m\u001b[0m\n",
      "\u001b[1;31mTypeError\u001b[0m: unsupported operand type(s) for /: 'int' and 'str'"
     ]
    }
   ],
   "source": [
    "print(\"====First Line====\")\n",
    "\n",
    "try:\n",
    "    print(\"In Try Loop\")\n",
    "    print(10/\"zero\")\n",
    "    print(\"Completed Try Loop\")\n",
    "except ZeroDivisionError as Error:\n",
    "    print(\"Issue Found 1 : {}\".format(Error))\n",
    "finally:\n",
    "    print(\"Closed DB/Files/other process\")\n",
    "\n",
    "print(\"====Last Line====\")"
   ]
  },
  {
   "cell_type": "code",
   "execution_count": null,
   "metadata": {
    "ExecuteTime": {
     "end_time": "2020-08-20T06:26:25.948475Z",
     "start_time": "2020-08-20T06:26:25.670Z"
    }
   },
   "outputs": [],
   "source": [
    "print(\"====First Line====\")\n",
    "\n",
    "try:\n",
    "    print(\"In Try Loop\")\n",
    "    print(10/0)\n",
    "    print(\"Completed Try Loop\")\n",
    "except (TypeError, ZeroDivisionError) as Error:\n",
    "    print(\"Issue Found 1 : {}\".format(Error))\n",
    "finally:\n",
    "    print(\"Closed DB/Files/other process\")\n",
    "\n",
    "print(\"====Last Line====\")"
   ]
  },
  {
   "cell_type": "code",
   "execution_count": null,
   "metadata": {
    "ExecuteTime": {
     "start_time": "2020-08-20T06:26:25.997Z"
    }
   },
   "outputs": [],
   "source": [
    "import os\n",
    "print(\"====First Line====\")\n",
    "\n",
    "try:\n",
    "    print(\"In Try Loop\")\n",
    "    os._exit(0) # ==> Terminate abruptly\n",
    "    print(10/0)\n",
    "    print(\"Completed Try Loop\")\n",
    "except (TypeError, ZeroDivisionError) as Error:\n",
    "    print(\"Issue Found 1 : {}\".format(Error))\n",
    "finally:\n",
    "    print(\"Closed DB/Files/other process\")\n",
    "\n",
    "print(\"====Last Line====\")"
   ]
  },
  {
   "cell_type": "markdown",
   "metadata": {},
   "source": [
    "## Using Else Block\n",
    "**Handling Exception : To gracefully terminate the program , Always executes even error occured/handled<br>**\n",
    "- **try<br>**\n",
    "    - Risky Code\n",
    "- **except<br>**\n",
    "    - Executes if Error in Try block\n",
    "- **else<br>**\n",
    "    - Executes if no Error in Try block / No other except bolck is executed\n",
    "- **finally<br>**\n",
    "    - Executes Always"
   ]
  },
  {
   "cell_type": "code",
   "execution_count": 1,
   "metadata": {
    "ExecuteTime": {
     "end_time": "2020-08-20T06:30:25.892199Z",
     "start_time": "2020-08-20T06:30:25.753191Z"
    }
   },
   "outputs": [
    {
     "name": "stdout",
     "output_type": "stream",
     "text": [
      "====First Line====\n",
      "In Try Loop\n",
      "Issue Found 1 : division by zero\n",
      "Closed DB/Files/other process\n",
      "====Last Line====\n"
     ]
    }
   ],
   "source": [
    "print(\"====First Line====\")\n",
    "\n",
    "try:\n",
    "    print(\"In Try Loop\")\n",
    "    print(10/0)\n",
    "    print(\"Completed Try Loop\")\n",
    "except (TypeError, ZeroDivisionError) as Error:\n",
    "    print(\"Issue Found 1 : {}\".format(Error))\n",
    "else:\n",
    "    print(\"Successfully Executed : {}\".format(Error))\n",
    "finally:\n",
    "    print(\"Closed DB/Files/other process\")\n",
    "\n",
    "print(\"====Last Line====\")"
   ]
  },
  {
   "cell_type": "code",
   "execution_count": 3,
   "metadata": {
    "ExecuteTime": {
     "end_time": "2020-08-20T06:30:49.242522Z",
     "start_time": "2020-08-20T06:30:49.209520Z"
    }
   },
   "outputs": [
    {
     "name": "stdout",
     "output_type": "stream",
     "text": [
      "====First Line====\n",
      "In Try Loop\n",
      "10.0\n",
      "Completed Try Loop\n",
      "Successfully Executed : {}\n",
      "Closed DB/Files/other process\n",
      "====Last Line====\n"
     ]
    }
   ],
   "source": [
    "print(\"====First Line====\")\n",
    "\n",
    "try:\n",
    "    print(\"In Try Loop\")\n",
    "    print(10/1)\n",
    "    print(\"Completed Try Loop\")\n",
    "except (TypeError, ZeroDivisionError) as Error:\n",
    "    print(\"Issue Found 1 : {}\".format(Error))\n",
    "else:\n",
    "    print(\"Successfully Executed : {}\")\n",
    "finally:\n",
    "    print(\"Closed DB/Files/other process\")\n",
    "\n",
    "print(\"====Last Line====\")"
   ]
  },
  {
   "cell_type": "markdown",
   "metadata": {},
   "source": [
    "## Raise Exceptions\n",
    "- Exception class must be defined"
   ]
  },
  {
   "cell_type": "code",
   "execution_count": 11,
   "metadata": {
    "ExecuteTime": {
     "end_time": "2020-08-20T06:55:29.632195Z",
     "start_time": "2020-08-20T06:55:28.075106Z"
    }
   },
   "outputs": [
    {
     "name": "stdout",
     "output_type": "stream",
     "text": [
      "Enter a number: -1\n"
     ]
    },
    {
     "ename": "TypeError",
     "evalue": "exceptions must derive from BaseException",
     "output_type": "error",
     "traceback": [
      "\u001b[1;31m---------------------------------------------------------------------------\u001b[0m",
      "\u001b[1;31mAssertionError\u001b[0m                            Traceback (most recent call last)",
      "\u001b[1;32m<ipython-input-11-308d24183110>\u001b[0m in \u001b[0;36m<module>\u001b[1;34m\u001b[0m\n\u001b[0;32m      4\u001b[0m     \u001b[0mnum\u001b[0m \u001b[1;33m=\u001b[0m \u001b[0mint\u001b[0m\u001b[1;33m(\u001b[0m\u001b[0minput\u001b[0m\u001b[1;33m(\u001b[0m\u001b[1;34m\"Enter a number: \"\u001b[0m\u001b[1;33m)\u001b[0m\u001b[1;33m)\u001b[0m\u001b[1;33m\u001b[0m\u001b[1;33m\u001b[0m\u001b[0m\n\u001b[1;32m----> 5\u001b[1;33m     \u001b[1;32massert\u001b[0m \u001b[0mnum\u001b[0m \u001b[1;33m%\u001b[0m \u001b[1;36m2\u001b[0m \u001b[1;33m==\u001b[0m \u001b[1;36m0\u001b[0m\u001b[1;33m\u001b[0m\u001b[1;33m\u001b[0m\u001b[0m\n\u001b[0m\u001b[0;32m      6\u001b[0m \u001b[1;32mexcept\u001b[0m\u001b[1;33m:\u001b[0m\u001b[1;33m\u001b[0m\u001b[1;33m\u001b[0m\u001b[0m\n",
      "\u001b[1;31mAssertionError\u001b[0m: ",
      "\nDuring handling of the above exception, another exception occurred:\n",
      "\u001b[1;31mTypeError\u001b[0m                                 Traceback (most recent call last)",
      "\u001b[1;32m<ipython-input-11-308d24183110>\u001b[0m in \u001b[0;36m<module>\u001b[1;34m\u001b[0m\n\u001b[0;32m      5\u001b[0m     \u001b[1;32massert\u001b[0m \u001b[0mnum\u001b[0m \u001b[1;33m%\u001b[0m \u001b[1;36m2\u001b[0m \u001b[1;33m==\u001b[0m \u001b[1;36m0\u001b[0m\u001b[1;33m\u001b[0m\u001b[1;33m\u001b[0m\u001b[0m\n\u001b[0;32m      6\u001b[0m \u001b[1;32mexcept\u001b[0m\u001b[1;33m:\u001b[0m\u001b[1;33m\u001b[0m\u001b[1;33m\u001b[0m\u001b[0m\n\u001b[1;32m----> 7\u001b[1;33m     \u001b[1;32mraise\u001b[0m\u001b[1;33m(\u001b[0m\u001b[1;34m\"NotAnEvenNumber\"\u001b[0m\u001b[1;33m)\u001b[0m\u001b[1;33m\u001b[0m\u001b[1;33m\u001b[0m\u001b[0m\n\u001b[0m\u001b[0;32m      8\u001b[0m \u001b[1;32melse\u001b[0m\u001b[1;33m:\u001b[0m\u001b[1;33m\u001b[0m\u001b[1;33m\u001b[0m\u001b[0m\n\u001b[0;32m      9\u001b[0m     \u001b[0mreciprocal\u001b[0m \u001b[1;33m=\u001b[0m \u001b[1;36m1\u001b[0m\u001b[1;33m/\u001b[0m\u001b[0mnum\u001b[0m\u001b[1;33m\u001b[0m\u001b[1;33m\u001b[0m\u001b[0m\n",
      "\u001b[1;31mTypeError\u001b[0m: exceptions must derive from BaseException"
     ]
    }
   ],
   "source": [
    "# program to print the reciprocal of even numbers\n",
    "\n",
    "try:\n",
    "    num = int(input(\"Enter a number: \"))\n",
    "    assert num % 2 == 0\n",
    "except:\n",
    "    raise(\"NotAnEvenNumber\")\n",
    "else:\n",
    "    reciprocal = 1/num\n",
    "    print(reciprocal)"
   ]
  },
  {
   "cell_type": "code",
   "execution_count": 29,
   "metadata": {
    "ExecuteTime": {
     "end_time": "2020-08-20T07:09:28.610182Z",
     "start_time": "2020-08-20T07:09:26.798078Z"
    }
   },
   "outputs": [
    {
     "name": "stdout",
     "output_type": "stream",
     "text": [
      "Enter a number: -1\n"
     ]
    },
    {
     "ename": "NotAnEvenNumber",
     "evalue": "-------",
     "output_type": "error",
     "traceback": [
      "\u001b[1;31m---------------------------------------------------------------------------\u001b[0m",
      "\u001b[1;31mNotAnEvenNumber\u001b[0m                           Traceback (most recent call last)",
      "\u001b[1;32m<ipython-input-29-cedceac38746>\u001b[0m in \u001b[0;36m<module>\u001b[1;34m\u001b[0m\n\u001b[0;32m      6\u001b[0m \u001b[0mnum\u001b[0m \u001b[1;33m=\u001b[0m \u001b[0mint\u001b[0m\u001b[1;33m(\u001b[0m\u001b[0minput\u001b[0m\u001b[1;33m(\u001b[0m\u001b[1;34m\"Enter a number: \"\u001b[0m\u001b[1;33m)\u001b[0m\u001b[1;33m)\u001b[0m\u001b[1;33m\u001b[0m\u001b[1;33m\u001b[0m\u001b[0m\n\u001b[0;32m      7\u001b[0m \u001b[1;32mif\u001b[0m \u001b[0mnum\u001b[0m \u001b[1;33m%\u001b[0m \u001b[1;36m2\u001b[0m \u001b[1;33m!=\u001b[0m \u001b[1;36m0\u001b[0m\u001b[1;33m:\u001b[0m\u001b[1;33m\u001b[0m\u001b[1;33m\u001b[0m\u001b[0m\n\u001b[1;32m----> 8\u001b[1;33m     \u001b[1;32mraise\u001b[0m \u001b[0mNotAnEvenNumber\u001b[0m\u001b[1;33m(\u001b[0m\u001b[1;33m[\u001b[0m\u001b[1;34m\"-------\"\u001b[0m\u001b[1;33m]\u001b[0m\u001b[1;33m)\u001b[0m\u001b[1;33m\u001b[0m\u001b[1;33m\u001b[0m\u001b[0m\n\u001b[0m\u001b[0;32m      9\u001b[0m \u001b[1;32melse\u001b[0m\u001b[1;33m:\u001b[0m\u001b[1;33m\u001b[0m\u001b[1;33m\u001b[0m\u001b[0m\n\u001b[0;32m     10\u001b[0m     \u001b[0mreciprocal\u001b[0m \u001b[1;33m=\u001b[0m \u001b[1;36m1\u001b[0m\u001b[1;33m/\u001b[0m\u001b[0mnum\u001b[0m\u001b[1;33m\u001b[0m\u001b[1;33m\u001b[0m\u001b[0m\n",
      "\u001b[1;31mNotAnEvenNumber\u001b[0m: -------"
     ]
    }
   ],
   "source": [
    "class NotAnEvenNumber(Exception):\n",
    "    def __init__(self, arg):\n",
    "        self.args = arg\n",
    "\n",
    "# program to print the reciprocal of even numbers\n",
    "num = int(input(\"Enter a number: \"))\n",
    "if num % 2 != 0:\n",
    "    raise NotAnEvenNumber([\"-------\"])\n",
    "else:\n",
    "    reciprocal = 1/num\n",
    "    print(reciprocal)"
   ]
  },
  {
   "cell_type": "code",
   "execution_count": 30,
   "metadata": {
    "ExecuteTime": {
     "end_time": "2020-08-20T07:09:35.508576Z",
     "start_time": "2020-08-20T07:09:35.472574Z"
    }
   },
   "outputs": [
    {
     "ename": "NotAnEvenNumber",
     "evalue": "Only integers are allowed",
     "output_type": "error",
     "traceback": [
      "\u001b[1;31m---------------------------------------------------------------------------\u001b[0m",
      "\u001b[1;31mNotAnEvenNumber\u001b[0m                           Traceback (most recent call last)",
      "\u001b[1;32m<ipython-input-30-6df0d664283b>\u001b[0m in \u001b[0;36m<module>\u001b[1;34m\u001b[0m\n\u001b[0;32m      2\u001b[0m \u001b[1;33m\u001b[0m\u001b[0m\n\u001b[0;32m      3\u001b[0m \u001b[1;32mif\u001b[0m \u001b[1;32mnot\u001b[0m \u001b[0mtype\u001b[0m\u001b[1;33m(\u001b[0m\u001b[0mx\u001b[0m\u001b[1;33m)\u001b[0m \u001b[1;32mis\u001b[0m \u001b[0mint\u001b[0m\u001b[1;33m:\u001b[0m\u001b[1;33m\u001b[0m\u001b[1;33m\u001b[0m\u001b[0m\n\u001b[1;32m----> 4\u001b[1;33m     \u001b[1;32mraise\u001b[0m \u001b[0mNotAnEvenNumber\u001b[0m\u001b[1;33m(\u001b[0m\u001b[1;33m[\u001b[0m\u001b[1;34m\"Only integers are allowed\"\u001b[0m\u001b[1;33m]\u001b[0m\u001b[1;33m)\u001b[0m\u001b[1;33m\u001b[0m\u001b[1;33m\u001b[0m\u001b[0m\n\u001b[0m",
      "\u001b[1;31mNotAnEvenNumber\u001b[0m: Only integers are allowed"
     ]
    }
   ],
   "source": [
    "x = \"hello\"\n",
    "\n",
    "if not type(x) is int:\n",
    "    raise NotAnEvenNumber([\"Only integers are allowed\"])"
   ]
  },
  {
   "cell_type": "markdown",
   "metadata": {},
   "source": [
    "## Assertions in Exception"
   ]
  },
  {
   "cell_type": "code",
   "execution_count": 31,
   "metadata": {
    "ExecuteTime": {
     "end_time": "2020-08-20T07:46:06.030749Z",
     "start_time": "2020-08-20T07:46:04.169642Z"
    }
   },
   "outputs": [
    {
     "name": "stdout",
     "output_type": "stream",
     "text": [
      "Enter a number: -1\n",
      "Not an even number!\n"
     ]
    }
   ],
   "source": [
    "class NotAnEvenNumber(Exception):\n",
    "    def __init__(self, arg):\n",
    "        self.args = arg\n",
    "\n",
    "try:\n",
    "    num = int(input(\"Enter a number: \"))\n",
    "    assert num % 2 == 0\n",
    "except:\n",
    "    print(\"Not an even number!\")\n",
    "else:\n",
    "    reciprocal = 1/num\n",
    "    print(reciprocal)"
   ]
  },
  {
   "cell_type": "markdown",
   "metadata": {},
   "source": [
    "# File Handling\n",
    "    \n",
    "|<p align=\"left\">Mode |<p align=\"left\">Meaning|<p align=\"left\">Action|\n",
    "|----------|----------|----------|\n",
    "|<p align=\"left\">'w' <br> 'wb'  |<p align=\"left\">Write       |<p align=\"left\">Erases the existing file and create a new one <br> File pointer is placed at the beginning of the file <br> **File will be created if file is not available**|\n",
    "|<p align=\"left\">'w+'<br> 'w+b' |<p align=\"left\">Write / Read|<p align=\"left\">Erases the existing file and create a new one <br> File pointer is placed at the beginning of the file <br> **File will be created if file is not available**|\n",
    "|<p align=\"left\">'r' <br> 'rb'  |<p align=\"left\">Reading **(default)**|<p align=\"left\">Used only to read & File should be available <br> File pointer is placed at the beginning of the file <br> **FileNotFoundError**|\n",
    "|<p align=\"left\">'r+' <br> 'r+b'|<p align=\"left\">Read / Write|<p align=\"left\">Making changes to the file and reading from it <br> The file pointer is placed at the beginning of the file <br> **FileNotFoundError**|\n",
    "|<p align=\"left\">'a' <br> 'ab'  |<p align=\"left\">Appending    |<p align=\"left\">Adds information to the end of the file <br> File pointer is placed at the end of the file <br> **File will be created if file is not available**|\n",
    "|<p align=\"left\">'a+' <br> 'a+b'|<p align=\"left\">Append / Read|<p align=\"left\">Adds information to the end of the file<br> File pointer is placed at the end of the file <br> **File will be created if file is not available**|\n",
    "|<p align=\"left\">'x' <br> 'xb'  |<p align=\"left\">Exclusive Creation <br> **Python 3**|<p align=\"left\">This mode is used exclusively to create a file <br> If a file already exists, function call will fail<br>Only Write Operation <br> **FileExistsError**|"
   ]
  },
  {
   "cell_type": "markdown",
   "metadata": {},
   "source": [
    "**Opening and closing a file object**\n",
    "\n",
    "|<p align=\"left\">Object|<p align=\"left\">Operation|\n",
    "|-|-|\n",
    "|<p align=\"left\">file_object.open()|<p align=\"left\">Open a file|\n",
    "|<p align=\"left\">file_object.close()|<p align=\"left\">Close a file|\n",
    "|<p align=\"left\">with open() as file_object|<p align=\"left\">Open - Auto Close|"
   ]
  },
  {
   "cell_type": "markdown",
   "metadata": {
    "ExecuteTime": {
     "end_time": "2022-10-08T11:17:58.049518Z",
     "start_time": "2022-10-08T11:17:58.030814Z"
    }
   },
   "source": [
    "## Types of Files\n",
    "| Types | Example |\n",
    "| ----- | ------- |\n",
    "| Text  | All readable Files |\n",
    "| Binary | Not readable Files | "
   ]
  },
  {
   "cell_type": "markdown",
   "metadata": {},
   "source": [
    "## Properties of the file object\n",
    "`1) fileobject.name         | Name of the file`<br>\n",
    "`2) fileobject.mode         | Mode of the file`<br>\n",
    "`3) fileobject.closed       | Check is the file closed`<br>\n",
    "`4) fileobject.readable()   | Check is the file readable`<br>\n",
    "`5) fileobject.writeable()  | Check is the file writeable`<br>"
   ]
  },
  {
   "cell_type": "code",
   "execution_count": 17,
   "metadata": {
    "ExecuteTime": {
     "end_time": "2020-08-20T16:42:35.117844Z",
     "start_time": "2020-08-20T16:42:35.098842Z"
    }
   },
   "outputs": [
    {
     "name": "stdout",
     "output_type": "stream",
     "text": [
      "This is the file name:  query.log\n",
      "This is the mode name:  r\n",
      "Is the file closed   :  False\n",
      "Is the file readable :  True\n",
      "Is the file writable :  False\n",
      "Is the file closed   :  True\n"
     ]
    }
   ],
   "source": [
    "'''\n",
    "Properties of the open function\n",
    "'''\n",
    "with open(\"query.log\", \"r\") as data_file:\n",
    "    print(\"This is the file name: \", data_file.name)                # Variable\n",
    "    print(\"This is the mode name: \", data_file.mode)                # Variable\n",
    "    print(\"Is the file closed   : \", data_file.closed)              # Boolean Variable\n",
    "    print(\"Is the file readable : \", data_file.readable())          # Boolean Function\n",
    "    print(\"Is the file writable : \", data_file.writable())          # Boolean Function\n",
    "print(\"Is the file closed   : \", data_file.closed)"
   ]
  },
  {
   "cell_type": "markdown",
   "metadata": {},
   "source": [
    "## Reading data from file\n",
    "\n",
    "`1) fileObject = open(); fileObject.close()`<br>\n",
    "`2) with open()`<br>\n",
    "\n",
    "`1) fileObject.read()      | returns string | Read all data as strings`   <br>\n",
    "`2) fileObject.read(n)     | returns string | Read all data as chars`     <br>\n",
    "`3) fileObject.readline()  | returns string | Read a single line data`    <br>\n",
    "`4) fileObject.readlines() | returns list   | Read lines of data as List` <br>"
   ]
  },
  {
   "cell_type": "code",
   "execution_count": 17,
   "metadata": {
    "ExecuteTime": {
     "end_time": "2022-10-08T11:29:18.782852Z",
     "start_time": "2022-10-08T11:29:18.778064Z"
    }
   },
   "outputs": [],
   "source": [
    "text_file = 'supported-files/write.txt'\n",
    "query_file = 'supported-files/query.log'"
   ]
  },
  {
   "cell_type": "markdown",
   "metadata": {},
   "source": [
    "### fileObject.read()"
   ]
  },
  {
   "cell_type": "code",
   "execution_count": 7,
   "metadata": {
    "ExecuteTime": {
     "end_time": "2022-10-08T11:25:58.256085Z",
     "start_time": "2022-10-08T11:25:58.248190Z"
    }
   },
   "outputs": [
    {
     "name": "stdout",
     "output_type": "stream",
     "text": [
      "Line 1 Line 2 Line 3 \n",
      "<class 'str'>\n"
     ]
    }
   ],
   "source": [
    "with open(text_file, \"r\") as data_file:\n",
    "    data = data_file.read()\n",
    "    print(data)\n",
    "    print(type(data))"
   ]
  },
  {
   "cell_type": "code",
   "execution_count": 6,
   "metadata": {
    "ExecuteTime": {
     "end_time": "2022-10-08T11:25:41.073456Z",
     "start_time": "2022-10-08T11:25:41.066935Z"
    }
   },
   "outputs": [
    {
     "name": "stdout",
     "output_type": "stream",
     "text": [
      "11-23-2019 11:01:49 PM -- INFO -- Query Executed -- REINDEX TABLE public.test;\n",
      "11-23-2019 11:01:49 PM -- INFO -- Query Executed -- REINDEX TABLE public.test_able;\n",
      "11-23-2019 11:01:49 PM -- INFO -- Query Executed -- REINDEX TABLE public.department;\n",
      "11-23-2019 11:01:49 PM -- INFO -- Query Executed -- REINDEX TABLE public.employee;\n",
      "<class 'str'>\n"
     ]
    }
   ],
   "source": [
    "with open(query_file, \"r\") as data_file:\n",
    "    data = data_file.read()\n",
    "    print(data)\n",
    "    print(type(data))"
   ]
  },
  {
   "cell_type": "markdown",
   "metadata": {},
   "source": [
    "### fileObject.read(n)"
   ]
  },
  {
   "cell_type": "code",
   "execution_count": 20,
   "metadata": {
    "ExecuteTime": {
     "end_time": "2022-10-08T11:36:37.146847Z",
     "start_time": "2022-10-08T11:36:37.138215Z"
    }
   },
   "outputs": [
    {
     "name": "stdout",
     "output_type": "stream",
     "text": [
      "11-23-2019 11:01:49 PM -- INFO --\n",
      "<class 'str'>\n",
      "\n",
      " Query Executed -- REINDEX TABLE public.\n",
      "<class 'str'>\n"
     ]
    }
   ],
   "source": [
    "'''\n",
    "Read n chars from a file\n",
    "'''\n",
    "with open(query_file, \"r\") as data_file:\n",
    "    data = data_file.read(33)\n",
    "    print(data)\n",
    "    print(type(data))\n",
    "    \n",
    "    print()\n",
    "    \n",
    "    data = data_file.read(40)\n",
    "    print(data)\n",
    "    print(type(data))"
   ]
  },
  {
   "cell_type": "markdown",
   "metadata": {},
   "source": [
    "### fileObject.readline()"
   ]
  },
  {
   "cell_type": "code",
   "execution_count": 13,
   "metadata": {
    "ExecuteTime": {
     "end_time": "2022-10-08T11:27:28.629915Z",
     "start_time": "2022-10-08T11:27:28.622394Z"
    }
   },
   "outputs": [
    {
     "name": "stdout",
     "output_type": "stream",
     "text": [
      "11-23-2019 11:01:49 PM -- INFO -- Query Executed -- REINDEX TABLE public.test;\n",
      "\n",
      "<class 'str'>\n",
      "11-23-2019 11:01:49 PM -- INFO -- Query Executed -- REINDEX TABLE public.test_able;\n",
      "\n",
      "<class 'str'>\n"
     ]
    }
   ],
   "source": [
    "'''\n",
    "Read line by line\n",
    "'''\n",
    "with open(query_file, \"r\") as data_file:\n",
    "    data = data_file.readline()\n",
    "    print(data)\n",
    "    print(type(data))\n",
    "    \n",
    "    data = data_file.readline()\n",
    "    print(data)\n",
    "    print(type(data))"
   ]
  },
  {
   "cell_type": "markdown",
   "metadata": {},
   "source": [
    "### fileObject.readlines()"
   ]
  },
  {
   "cell_type": "code",
   "execution_count": 19,
   "metadata": {
    "ExecuteTime": {
     "end_time": "2022-10-08T11:34:08.891170Z",
     "start_time": "2022-10-08T11:34:08.884675Z"
    }
   },
   "outputs": [
    {
     "name": "stdout",
     "output_type": "stream",
     "text": [
      "['11-23-2019 11:01:49 PM -- INFO -- Query Executed -- REINDEX TABLE public.test;\\n', '11-23-2019 11:01:49 PM -- INFO -- Query Executed -- REINDEX TABLE public.test_able;\\n', '11-23-2019 11:01:49 PM -- INFO -- Query Executed -- REINDEX TABLE public.department;\\n', '11-23-2019 11:01:49 PM -- INFO -- Query Executed -- REINDEX TABLE public.employee;']\n",
      "<class 'list'>\n"
     ]
    }
   ],
   "source": [
    "'''\n",
    "Read and Print all the lines of a file is a single line\n",
    "'''\n",
    "with open(query_file, \"r\") as data_file:\n",
    "    data = data_file.readlines()\n",
    "    print(data)\n",
    "    print(type(data))"
   ]
  },
  {
   "cell_type": "code",
   "execution_count": 16,
   "metadata": {
    "ExecuteTime": {
     "end_time": "2022-10-08T11:28:39.737186Z",
     "start_time": "2022-10-08T11:28:39.726648Z"
    }
   },
   "outputs": [
    {
     "name": "stdout",
     "output_type": "stream",
     "text": [
      "11-23-2019 11:01:49 PM -- INFO -- Query Executed -- REINDEX TABLE public.test;\n",
      "\n",
      "11-23-2019 11:01:49 PM -- INFO -- Query Executed -- REINDEX TABLE public.test_able;\n",
      "\n",
      "11-23-2019 11:01:49 PM -- INFO -- Query Executed -- REINDEX TABLE public.department;\n",
      "\n",
      "11-23-2019 11:01:49 PM -- INFO -- Query Executed -- REINDEX TABLE public.employee;\n"
     ]
    }
   ],
   "source": [
    "'''\n",
    "Read and Print lines in loop\n",
    "'''\n",
    "with open(query_file, \"r\") as data_file:\n",
    "    for data in data_file.readlines():\n",
    "        print(data)"
   ]
  },
  {
   "cell_type": "markdown",
   "metadata": {},
   "source": [
    "## Write Operations\n",
    "\n",
    "`1) fileObject.write(object)         | input as string`<br>\n",
    "`2) fileObject.writelines(object)    | input as list`<br>"
   ]
  },
  {
   "cell_type": "code",
   "execution_count": 17,
   "metadata": {
    "ExecuteTime": {
     "end_time": "2022-10-08T11:29:18.782852Z",
     "start_time": "2022-10-08T11:29:18.778064Z"
    }
   },
   "outputs": [],
   "source": [
    "text_file = 'supported-files/write.txt'\n",
    "query_file = 'supported-files/query.log'"
   ]
  },
  {
   "cell_type": "code",
   "execution_count": 23,
   "metadata": {
    "ExecuteTime": {
     "end_time": "2022-10-08T11:38:00.736427Z",
     "start_time": "2022-10-08T11:38:00.727061Z"
    }
   },
   "outputs": [
    {
     "name": "stdout",
     "output_type": "stream",
     "text": [
      "['Line 1-Line 2-Line 3-']\n"
     ]
    }
   ],
   "source": [
    "'''\n",
    "Write a string will write continuously\n",
    "'''\n",
    "with open(text_file,'w+') as test:\n",
    "    test.write('Line 1-')\n",
    "    test.write('Line 2-')\n",
    "    test.write('Line 3-')\n",
    "\n",
    "with open(file_name,'r') as test:\n",
    "    print(test.readlines())"
   ]
  },
  {
   "cell_type": "code",
   "execution_count": 26,
   "metadata": {
    "ExecuteTime": {
     "end_time": "2022-10-08T11:39:39.845271Z",
     "start_time": "2022-10-08T11:39:39.836280Z"
    }
   },
   "outputs": [
    {
     "name": "stdout",
     "output_type": "stream",
     "text": [
      "['Line 1-Line 2-Line 3-']\n"
     ]
    }
   ],
   "source": [
    "'''\n",
    "Write a list will also write continuously\n",
    "'''\n",
    "l = ['Line 1-','Line 2-', 'Line 3-']\n",
    "with open(text_file,'w+') as test:\n",
    "    test.writelines(l)\n",
    "\n",
    "\n",
    "with open(text_file,'r') as test:\n",
    "    print(test.readlines())"
   ]
  },
  {
   "cell_type": "code",
   "execution_count": 27,
   "metadata": {
    "ExecuteTime": {
     "end_time": "2022-10-08T11:39:40.142957Z",
     "start_time": "2022-10-08T11:39:40.132603Z"
    }
   },
   "outputs": [
    {
     "name": "stdout",
     "output_type": "stream",
     "text": [
      "['Line 1 \\n', 'Line 2 \\n', 'Line 3 \\n']\n"
     ]
    }
   ],
   "source": [
    "'''\n",
    "If we want new line , we need add explicitly on both string | List\n",
    "'''\n",
    "l = ['Line 1 \\n','Line 2 \\n', 'Line 3 \\n']\n",
    "with open(text_file,'w+') as test:\n",
    "    test.writelines(l)\n",
    "\n",
    "\n",
    "with open(text_file,'r') as test:\n",
    "    print(test.readlines())"
   ]
  },
  {
   "cell_type": "code",
   "execution_count": 28,
   "metadata": {
    "ExecuteTime": {
     "end_time": "2022-10-08T11:39:41.917458Z",
     "start_time": "2022-10-08T11:39:41.909174Z"
    }
   },
   "outputs": [
    {
     "name": "stdout",
     "output_type": "stream",
     "text": [
      "['Line 1 \\n', 'Line 2 \\n', 'Line 3 \\n']\n"
     ]
    }
   ],
   "source": [
    "'''\n",
    "Looping through and adding new line for each element in list\n",
    "'''\n",
    "l = ['Line 1 ','Line 2 ', 'Line 3 ']\n",
    "with open(text_file,'w+') as test:\n",
    "    for i in l:\n",
    "        test.write(i)\n",
    "        test.write('\\n')\n",
    "\n",
    "        \n",
    "with open(text_file,'r') as test:\n",
    "    print(test.readlines())"
   ]
  },
  {
   "cell_type": "code",
   "execution_count": 23,
   "metadata": {
    "ExecuteTime": {
     "end_time": "2020-08-20T16:47:53.961080Z",
     "start_time": "2020-08-20T16:47:53.941079Z"
    }
   },
   "outputs": [
    {
     "name": "stdout",
     "output_type": "stream",
     "text": [
      "['Line 1', 'Line 2', 'Line 3']\n"
     ]
    }
   ],
   "source": [
    "'''\n",
    "Removing new line from file using readlines and looping through the element\n",
    "'''\n",
    "all_data_new = list()\n",
    "with open(text_file, \"r\") as data_file:\n",
    "    all_data = data_file.readlines()\n",
    "    \n",
    "    for i in all_data:\n",
    "        all_data_new.append(i.rstrip())\n",
    "    print(all_data_new)"
   ]
  },
  {
   "cell_type": "markdown",
   "metadata": {},
   "source": [
    "## Tell & Seek\n",
    "\n",
    "|<p align=\"left\">Object|<p align=\"left\">Type|<p align=\"left\">Operation|\n",
    "|-|-|-|\n",
    "|<p align=\"left\">file_object.tell() |<p align=\"left\">Integer|<p align=\"left\">Get the cursor / index location|\n",
    "|<p align=\"left\">file_object.seek() |<p align=\"left\">String|<p align=\"left\">To move the cursor to location from beginning|"
   ]
  },
  {
   "cell_type": "markdown",
   "metadata": {},
   "source": [
    "| Mode | Seek Position |\n",
    "| ---- | ------------- |\n",
    "| Read | Start |\n",
    "| Append | End |"
   ]
  },
  {
   "cell_type": "code",
   "execution_count": 2,
   "metadata": {
    "ExecuteTime": {
     "end_time": "2022-10-08T11:59:06.062476Z",
     "start_time": "2022-10-08T11:59:06.057459Z"
    }
   },
   "outputs": [],
   "source": [
    "text_file = 'supported-files/write.txt'\n",
    "query_file = 'supported-files/query.log'"
   ]
  },
  {
   "cell_type": "code",
   "execution_count": 3,
   "metadata": {
    "ExecuteTime": {
     "end_time": "2022-10-08T11:59:06.246032Z",
     "start_time": "2022-10-08T11:59:06.236114Z"
    }
   },
   "outputs": [
    {
     "name": "stdout",
     "output_type": "stream",
     "text": [
      "0\n"
     ]
    }
   ],
   "source": [
    "'''\n",
    "Finding the read\\Write Pointer\n",
    "'''\n",
    "with open(text_file, \"r\") as data_file:\n",
    "    print(data_file.tell())"
   ]
  },
  {
   "cell_type": "code",
   "execution_count": 4,
   "metadata": {
    "ExecuteTime": {
     "end_time": "2022-10-08T12:00:12.648175Z",
     "start_time": "2022-10-08T12:00:12.639037Z"
    }
   },
   "outputs": [
    {
     "name": "stdout",
     "output_type": "stream",
     "text": [
      "24\n"
     ]
    }
   ],
   "source": [
    "'''\n",
    "Finding the read\\Write Pointer\n",
    "'''\n",
    "with open(text_file, \"a\") as data_file:\n",
    "    print(data_file.tell())"
   ]
  },
  {
   "cell_type": "code",
   "execution_count": 5,
   "metadata": {
    "ExecuteTime": {
     "end_time": "2022-10-08T12:05:54.406123Z",
     "start_time": "2022-10-08T12:05:54.396573Z"
    }
   },
   "outputs": [
    {
     "name": "stdout",
     "output_type": "stream",
     "text": [
      "0\n",
      "1000\n"
     ]
    }
   ],
   "source": [
    "'''\n",
    "Seek function will get the read\\write pointer to to the specied charecter (n+1)\n",
    "'''\n",
    "with open(text_file, \"r+\") as data_file:\n",
    "    print(data_file.tell())\n",
    "    \n",
    "    data_file.seek(1000, 0)\n",
    "    \n",
    "    print(data_file.tell())"
   ]
  },
  {
   "cell_type": "code",
   "execution_count": 6,
   "metadata": {
    "ExecuteTime": {
     "end_time": "2022-10-08T12:06:25.425580Z",
     "start_time": "2022-10-08T12:06:25.414881Z"
    }
   },
   "outputs": [
    {
     "name": "stdout",
     "output_type": "stream",
     "text": [
      "24\n",
      "36\n"
     ]
    }
   ],
   "source": [
    "'''\n",
    "Appending charecters to the file\n",
    "i.e : The specified string will be appended to last\n",
    "'''\n",
    "with open(text_file, \"a\") as data_file:\n",
    "    print(data_file.tell())\n",
    "    \n",
    "    data_file.write('This is Seek')\n",
    "    \n",
    "    print(data_file.tell())"
   ]
  },
  {
   "cell_type": "code",
   "execution_count": 17,
   "metadata": {
    "ExecuteTime": {
     "end_time": "2022-10-08T12:15:58.082870Z",
     "start_time": "2022-10-08T12:15:58.063794Z"
    }
   },
   "outputs": [
    {
     "name": "stdout",
     "output_type": "stream",
     "text": [
      "0\n",
      "Line 1 \n",
      "\n",
      "Line 2 \n",
      "\n",
      "LineThis is Seek....\n",
      "20\n",
      "37\n",
      "Line 1 \n",
      "\n",
      "Line 2 \n",
      "\n",
      "LineThis is Seek ||||\n"
     ]
    }
   ],
   "source": [
    "'''\n",
    "Seek function will get the read\\write pointer to to the specied charecter (n+1)\n",
    "Rewrite the charecters from n+1 with write function\n",
    "i.e : 20..25 charecters are replaced \n",
    "'''\n",
    "with open(text_file, \"r+\") as data_file:\n",
    "    print(data_file.tell())\n",
    "    for data in data_file.readlines():\n",
    "        print(data)\n",
    "    \n",
    "    data_file.seek(20, 0)\n",
    "    print(data_file.tell())\n",
    "    \n",
    "    data_file.write('This is Seek ||||')\n",
    "    print(data_file.tell())\n",
    "    \n",
    "    for data in data_file.readlines():\n",
    "        print(data)\n",
    "    \n",
    "    data_file.seek(0)\n",
    "    for data in data_file.readlines():\n",
    "        print(data)"
   ]
  },
  {
   "cell_type": "markdown",
   "metadata": {},
   "source": [
    "## Applications"
   ]
  },
  {
   "cell_type": "markdown",
   "metadata": {},
   "source": [
    "### Check file Exsists or Not"
   ]
  },
  {
   "cell_type": "code",
   "execution_count": 39,
   "metadata": {
    "ExecuteTime": {
     "end_time": "2022-10-08T13:17:31.856175Z",
     "start_time": "2022-10-08T13:17:31.845380Z"
    }
   },
   "outputs": [
    {
     "name": "stdout",
     "output_type": "stream",
     "text": [
      "O File Exsists: supported-files/write.txt\n",
      "Line 1 \n",
      "Line 2 \n",
      "LineThis is Seek ||||\n",
      "\n",
      "O File Exsists: supported-files/query.log\n",
      "11-23-2019 11:01:49 PM -- INFO -- Query Executed -- REINDEX TABLE public.test;\n",
      "11-23-2019 11:01:49 PM -- INFO -- Query Executed -- REINDEX TABLE public.test_able;\n",
      "11-23-2019 11:01:49 PM -- INFO -- Query Executed -- REINDEX TABLE public.department;\n",
      "11-23-2019 11:01:49 PM -- INFO -- Query Executed -- REINDEX TABLE public.employee;\n",
      "\n",
      "X File not Exsists: supported-files/query1.log\n"
     ]
    }
   ],
   "source": [
    "'''\n",
    "Check the input is a file or not\n",
    "'''\n",
    "\n",
    "import os\n",
    "import sys\n",
    "\n",
    "text_file = 'supported-files/write.txt'\n",
    "query_file = 'supported-files/query.log'\n",
    "query1_file = 'supported-files/query1.log'\n",
    "\n",
    "for file in [text_file, query_file, query1_file]:\n",
    "    if os.path.isfile(file):\n",
    "        print(f'O File Exsists: {file}')\n",
    "        with open(file, 'r') as read_file:\n",
    "            print(read_file.read())\n",
    "            print()\n",
    "    else:\n",
    "        print(f'X File not Exsists: {file}')\n",
    "            "
   ]
  },
  {
   "cell_type": "markdown",
   "metadata": {},
   "source": [
    "### Line Word Char - Count"
   ]
  },
  {
   "cell_type": "code",
   "execution_count": 48,
   "metadata": {
    "ExecuteTime": {
     "end_time": "2022-10-08T13:21:38.705991Z",
     "start_time": "2022-10-08T13:21:38.692576Z"
    }
   },
   "outputs": [
    {
     "name": "stdout",
     "output_type": "stream",
     "text": [
      "O File Exsists: supported-files/query.log\n",
      "Number of lines :  4\n",
      "Number of words :  48\n",
      "Number of charas:  283\n",
      "Number of spaces:  44\n"
     ]
    }
   ],
   "source": [
    "import os\n",
    "import sys\n",
    "\n",
    "query_file = 'supported-files/query.log'\n",
    "\n",
    "if os.path.isfile(query_file):\n",
    "    print(f'O File Exsists: {query_file}')\n",
    "    with open(query_file, 'r') as read_file:\n",
    "        num_lines = num_words = num_charc = num_spaces = 0\n",
    "\n",
    "        if read_file:\n",
    "            for line in read_file:\n",
    "                line = line.strip(os.linesep)\n",
    "                num_lines = num_lines + 1\n",
    "\n",
    "                num_words += len(line.split())\n",
    "\n",
    "                num_charc += sum(1 for c in line if c not in (os.linesep, ' '))\n",
    "\n",
    "                num_spaces += sum(1 for c in line if c in (os.linesep, ' '))\n",
    "    \n",
    "    # printing total line count\n",
    "    print(\"Number of lines : \", num_lines)\n",
    "    \n",
    "    # printing total word count\n",
    "    print(\"Number of words : \", num_words)\n",
    "     \n",
    "    # printing total character count\n",
    "    print(\"Number of charas: \", num_charc)\n",
    "     \n",
    "    # printing total space count\n",
    "    print(\"Number of spaces: \", num_spaces)\n",
    "else:\n",
    "    print(f'X File not Exsists: {file}')"
   ]
  },
  {
   "cell_type": "markdown",
   "metadata": {},
   "source": [
    "## Binary Data\n",
    "```\n",
    "Read/Write Video File\n",
    "Read/Write Image File\n",
    "```"
   ]
  },
  {
   "cell_type": "markdown",
   "metadata": {
    "ExecuteTime": {
     "end_time": "2022-10-08T13:30:58.147487Z",
     "start_time": "2022-10-08T13:30:58.142648Z"
    }
   },
   "source": [
    "## CSV File Handingling\n",
    "```\n",
    "|    Object  |           Usage               |\n",
    "| ---------- | ----------------------------- |\n",
    "| csv.writer | Accepts List as Input         |\n",
    "| csv.reader | Return Generator of List Data |\n",
    "```"
   ]
  },
  {
   "cell_type": "code",
   "execution_count": 51,
   "metadata": {
    "ExecuteTime": {
     "end_time": "2022-10-08T13:44:20.364210Z",
     "start_time": "2022-10-08T13:44:20.358416Z"
    }
   },
   "outputs": [],
   "source": [
    "text_file = 'supported-files/write.txt'\n",
    "query_file = 'supported-files/query.log'\n",
    "csv_file = 'supported-files/emp.csv'"
   ]
  },
  {
   "cell_type": "markdown",
   "metadata": {},
   "source": [
    "### Writer CSV"
   ]
  },
  {
   "cell_type": "code",
   "execution_count": 55,
   "metadata": {
    "ExecuteTime": {
     "end_time": "2022-10-08T13:48:02.771918Z",
     "start_time": "2022-10-08T13:47:41.447985Z"
    },
    "scrolled": true
   },
   "outputs": [
    {
     "name": "stdout",
     "output_type": "stream",
     "text": [
      "Enter no of Employees: 2\n",
      "Enter Employee Number: 111\n",
      "Enter Employee Name   : Vignesh\n",
      "Enter Employee Salary : 10\n",
      "Enter Employee Address: BLR\n",
      "Enter Employee Number: 222\n",
      "Enter Employee Name   : Dhivya\n",
      "Enter Employee Salary : 20\n",
      "Enter Employee Address: BLR\n",
      "Completed CSV file creation\n"
     ]
    }
   ],
   "source": [
    "import csv\n",
    "\n",
    "\n",
    "with open(csv_file, 'w', newline='') as csv_obj:\n",
    "    writer = csv.writer(csv_obj)\n",
    "    writer.writerow(['ENO', 'ENAME', 'ESAL', 'EADDR'])\n",
    "    n = int(input('Enter no of Employees: '))\n",
    "    \n",
    "    for i in range(n):\n",
    "        eno = int(input('Enter Employee Number: '))\n",
    "        ename = input('Enter Employee Name   : ')\n",
    "        esal = int(input('Enter Employee Salary : '))\n",
    "        eadd = input('Enter Employee Address: ')\n",
    "        writer.writerow([eno, ename, esal, eadd])\n",
    "\n",
    "print('Completed CSV file creation')"
   ]
  },
  {
   "cell_type": "markdown",
   "metadata": {},
   "source": [
    "### Reader CSV"
   ]
  },
  {
   "cell_type": "code",
   "execution_count": 62,
   "metadata": {
    "ExecuteTime": {
     "end_time": "2022-10-08T14:25:44.018077Z",
     "start_time": "2022-10-08T14:25:44.007349Z"
    }
   },
   "outputs": [
    {
     "name": "stdout",
     "output_type": "stream",
     "text": [
      "ENO \tENAME \tESAL \tEADDR \t\n",
      "111 \tVignesh \t10 \tBLR \t\n",
      "222 \tDhivya \t20 \tBLR \t\n"
     ]
    }
   ],
   "source": [
    "import csv\n",
    "\n",
    "with open(csv_file, 'r') as csv_obj:\n",
    "    reader = csv.reader(csv_obj)\n",
    "    for line in reader:\n",
    "        for word in line:\n",
    "            print(word, '\\t', end='')\n",
    "        print()"
   ]
  },
  {
   "cell_type": "markdown",
   "metadata": {},
   "source": [
    "## Zip and UnZip\n",
    "```\n",
    "1) Compression\n",
    "2) Reduce Size\n",
    "\n",
    "- zipfile.is_zipfile(filename)\n",
    "- zfObj.write(file)\n",
    "- zfObj.namelist()\n",
    "```\n"
   ]
  },
  {
   "cell_type": "code",
   "execution_count": 75,
   "metadata": {
    "ExecuteTime": {
     "end_time": "2022-10-08T15:03:36.211499Z",
     "start_time": "2022-10-08T15:03:36.204602Z"
    }
   },
   "outputs": [],
   "source": [
    "text_file = 'supported-files/write.txt'\n",
    "query_file = 'supported-files/query.log'\n",
    "csv_file = 'supported-files/emp.csv'\n",
    "zip_file = 'supported-files/write.zip'"
   ]
  },
  {
   "cell_type": "markdown",
   "metadata": {},
   "source": [
    "### zipfile.is_zipfile()"
   ]
  },
  {
   "cell_type": "code",
   "execution_count": 67,
   "metadata": {
    "ExecuteTime": {
     "end_time": "2022-10-08T14:55:01.604821Z",
     "start_time": "2022-10-08T14:55:01.591045Z"
    }
   },
   "outputs": [
    {
     "name": "stdout",
     "output_type": "stream",
     "text": [
      "     supported-files/write.txt  False\n",
      "     supported-files/query.log  False\n",
      "       supported-files/emp.csv  False\n"
     ]
    }
   ],
   "source": [
    "import zipfile\n",
    "\n",
    "for filename in [text_file, query_file, csv_file]:\n",
    "    print('{:>30}  {}'.format(filename, zipfile.is_zipfile(filename)))"
   ]
  },
  {
   "cell_type": "markdown",
   "metadata": {},
   "source": [
    "### zfObj.write(file)"
   ]
  },
  {
   "cell_type": "code",
   "execution_count": 77,
   "metadata": {
    "ExecuteTime": {
     "end_time": "2022-10-08T15:04:16.371936Z",
     "start_time": "2022-10-08T15:04:16.361232Z"
    }
   },
   "outputs": [
    {
     "name": "stdout",
     "output_type": "stream",
     "text": [
      "Creating Archive...\n",
      "Adding file: supported-files/write.txt\n",
      "Adding file: supported-files/query.log\n",
      "Adding file: supported-files/emp.csv\n"
     ]
    }
   ],
   "source": [
    "import zipfile\n",
    "\n",
    "print('Creating Archive...')\n",
    "with zipfile.ZipFile(zip_file, 'w') as zf:\n",
    "    for file in [text_file, query_file, csv_file]:\n",
    "        print(f'Adding file: {file}')\n",
    "        zf.write(file)"
   ]
  },
  {
   "cell_type": "markdown",
   "metadata": {},
   "source": [
    "### zfObj.namelist()"
   ]
  },
  {
   "cell_type": "code",
   "execution_count": 81,
   "metadata": {
    "ExecuteTime": {
     "end_time": "2022-10-08T15:09:18.689007Z",
     "start_time": "2022-10-08T15:09:18.679611Z"
    }
   },
   "outputs": [
    {
     "name": "stdout",
     "output_type": "stream",
     "text": [
      "['supported-files/write.txt', 'supported-files/query.log', 'supported-files/emp.csv']\n"
     ]
    }
   ],
   "source": [
    "import zipfile\n",
    "\n",
    "with zipfile.ZipFile(zip_file, 'r') as zf:\n",
    "    print(zf.namelist())"
   ]
  },
  {
   "cell_type": "markdown",
   "metadata": {},
   "source": [
    "### zfObj.infolist()\n",
    "```\n",
    "info.filename\n",
    "info.comment\n",
    "info.date_time\n",
    "info.create_system\n",
    "info.create_version\n",
    "info.compress_size\n",
    "info.file_size, 'bytes\n",
    "```"
   ]
  },
  {
   "cell_type": "code",
   "execution_count": 86,
   "metadata": {
    "ExecuteTime": {
     "end_time": "2022-10-08T15:52:06.841524Z",
     "start_time": "2022-10-08T15:52:06.829429Z"
    }
   },
   "outputs": [
    {
     "name": "stdout",
     "output_type": "stream",
     "text": [
      "info.filename : supported-files/write.txt\n",
      "  Comment     : b''\n",
      "info.date_time: (2022, 10, 8, 17, 45, 58)\n",
      "  Modified    : 2022-10-08 17:45:58\n",
      "  System      : Unix\n",
      "  ZIP version : 20\n",
      "  Compressed  : 37 bytes\n",
      "  Uncompressed: 37 bytes\n",
      "\n",
      "info.filename : supported-files/query.log\n",
      "  Comment     : b''\n",
      "info.date_time: (2022, 10, 8, 16, 54, 46)\n",
      "  Modified    : 2022-10-08 16:54:46\n",
      "  System      : Unix\n",
      "  ZIP version : 20\n",
      "  Compressed  : 330 bytes\n",
      "  Uncompressed: 330 bytes\n",
      "\n",
      "info.filename : supported-files/emp.csv\n",
      "  Comment     : b''\n",
      "info.date_time: (2022, 10, 8, 19, 18, 2)\n",
      "  Modified    : 2022-10-08 19:18:02\n",
      "  System      : Unix\n",
      "  ZIP version : 20\n",
      "  Compressed  : 61 bytes\n",
      "  Uncompressed: 61 bytes\n",
      "\n"
     ]
    }
   ],
   "source": [
    "import datetime\n",
    "import zipfile\n",
    "\n",
    "with zipfile.ZipFile(zip_file) as zf:\n",
    "    for info in zf.infolist():\n",
    "        print(f'info.filename : {info.filename}')\n",
    "        print(f'  Comment     : {info.comment}')\n",
    "        print(f'info.date_time: {info.date_time}')\n",
    "        \n",
    "        mod_date = datetime.datetime(*info.date_time)\n",
    "        print('  Modified    :', mod_date)\n",
    "        \n",
    "        if info.create_system == 0:\n",
    "            system = 'Windows'\n",
    "        elif info.create_system == 3:\n",
    "            system = 'Unix'\n",
    "        else:\n",
    "            system = 'UNKNOWN'\n",
    "        \n",
    "        print('  System      :', system)\n",
    "        print('  ZIP version :', info.create_version)\n",
    "        print('  Compressed  :', info.compress_size, 'bytes')\n",
    "        print('  Uncompressed:', info.file_size, 'bytes')\n",
    "        print()"
   ]
  },
  {
   "cell_type": "markdown",
   "metadata": {},
   "source": [
    "## OS Module\n",
    "```\n",
    "- os.getcwd()\n",
    "- os.mkdir()\n",
    "- os.makedirs()\n",
    "- os.rmdir()\n",
    "- os.removedirs()\n",
    "- os.rename()\n",
    "- os.listdir()\n",
    "- os.walk(path, topdown=True, onerror=None, followlinks=False)\n",
    "- os.system(cmd)\n",
    "--------------------------------------------------------------\n",
    "\n",
    "- os.stat(file)\n",
    "    - st_mode = Protection Bits \n",
    "    - st_ino  = Inode Number\n",
    "    - st_dev  = Device\n",
    "    - st_nlink= No of Hard Links\n",
    "    - st_uid  = User-Id of the Owner\n",
    "    - st_git  = Group-Id of the Owner\n",
    "    - st_size = Size of the File\n",
    "    - st_atime= Last Accessed Time\n",
    "    - st_mtime= Last Modified Time\n",
    "    - st_ctime= Last Change in Metadata\n",
    "``` "
   ]
  },
  {
   "cell_type": "code",
   "execution_count": 87,
   "metadata": {
    "ExecuteTime": {
     "end_time": "2022-10-08T16:17:26.580541Z",
     "start_time": "2022-10-08T16:17:26.571308Z"
    }
   },
   "outputs": [
    {
     "data": {
      "text/plain": [
       "'/Users/dhivyamalathirajasekaran/PycharmProjects/MLProjects/PythonMaterials'"
      ]
     },
     "execution_count": 87,
     "metadata": {},
     "output_type": "execute_result"
    }
   ],
   "source": [
    "import os\n",
    "\n",
    "os.getcwd()"
   ]
  },
  {
   "cell_type": "code",
   "execution_count": 88,
   "metadata": {
    "ExecuteTime": {
     "end_time": "2022-10-08T16:17:55.974240Z",
     "start_time": "2022-10-08T16:17:55.965158Z"
    }
   },
   "outputs": [
    {
     "data": {
      "text/plain": [
       "['Python-Basics-4.ipynb',\n",
       " 'Python-Basics-ShallowCopy-DeepCopy-RegEx-.ipynb',\n",
       " 'Python-Basics-2.ipynb',\n",
       " 'Python-Basics-OOPS.ipynb',\n",
       " 'Python-Basics-3.ipynb',\n",
       " 'Python-Basics-1.ipynb',\n",
       " 'README.md',\n",
       " '.gitignore',\n",
       " 'supported-files',\n",
       " 'Python-Basics-ScopeOfVariables.ipynb',\n",
       " 'Python-PEP8.ipynb',\n",
       " 'templates',\n",
       " '.ipynb_checkpoints',\n",
       " '.git',\n",
       " 'Practice_Programs.ipynb']"
      ]
     },
     "execution_count": 88,
     "metadata": {},
     "output_type": "execute_result"
    }
   ],
   "source": [
    "import os\n",
    "os.listdir('.')"
   ]
  },
  {
   "cell_type": "code",
   "execution_count": 94,
   "metadata": {
    "ExecuteTime": {
     "end_time": "2022-10-08T16:24:29.260416Z",
     "start_time": "2022-10-08T16:24:29.245238Z"
    },
    "scrolled": false
   },
   "outputs": [
    {
     "name": "stdout",
     "output_type": "stream",
     "text": [
      "dirpath  : /Users/dhivyamalathirajasekaran/PycharmProjects/MLProjects/PythonMaterials\n",
      "dirnames : ['supported-files', 'templates', '.ipynb_checkpoints', '.git']\n",
      "filenames: ['Python-Basics-4.ipynb', 'Python-Basics-ShallowCopy-DeepCopy-RegEx-.ipynb', 'Python-Basics-2.ipynb', 'Python-Basics-OOPS.ipynb', 'Python-Basics-3.ipynb', 'Python-Basics-1.ipynb', 'README.md', '.gitignore', 'Python-Basics-ScopeOfVariables.ipynb', 'Python-PEP8.ipynb', 'Practice_Programs.ipynb']\n",
      "\n",
      "dirpath  : /Users/dhivyamalathirajasekaran/PycharmProjects/MLProjects/PythonMaterials/supported-files\n",
      "dirnames : ['.ipynb_checkpoints']\n",
      "filenames: ['query.log', 'write.zip', 'emp.csv', 'write.txt']\n",
      "\n",
      "dirpath  : /Users/dhivyamalathirajasekaran/PycharmProjects/MLProjects/PythonMaterials/templates\n",
      "dirnames : []\n",
      "filenames: ['Index_Jinja_Template.html']\n",
      "\n"
     ]
    }
   ],
   "source": [
    "import os\n",
    "\n",
    "for dirpath, dirnames, filenames in os.walk('/Users/dhivyamalathirajasekaran/PycharmProjects/MLProjects/PythonMaterials'):\n",
    "    if '.git' not in dirpath and '.' not in dirpath and '__pycache__' not in dirpath: \n",
    "        print(f'dirpath  : {dirpath}')\n",
    "        print(f'dirnames : {dirnames}')\n",
    "        print(f'filenames: {filenames}')\n",
    "        print()"
   ]
  },
  {
   "cell_type": "code",
   "execution_count": 106,
   "metadata": {
    "ExecuteTime": {
     "end_time": "2022-10-08T16:44:28.382089Z",
     "start_time": "2022-10-08T16:44:28.373302Z"
    }
   },
   "outputs": [
    {
     "data": {
      "text/plain": [
       "os.stat_result(st_mode=33188, st_ino=25526593, st_dev=16777220, st_nlink=1, st_uid=501, st_gid=20, st_size=330, st_atime=1665228292, st_mtime=1665228287, st_ctime=1665228291)"
      ]
     },
     "execution_count": 106,
     "metadata": {},
     "output_type": "execute_result"
    }
   ],
   "source": [
    "import os\n",
    "\n",
    "os.stat('supported-files/query.log')"
   ]
  },
  {
   "cell_type": "code",
   "execution_count": 112,
   "metadata": {
    "ExecuteTime": {
     "end_time": "2022-10-08T16:50:46.438260Z",
     "start_time": "2022-10-08T16:50:46.429511Z"
    }
   },
   "outputs": [
    {
     "name": "stdout",
     "output_type": "stream",
     "text": [
      "2022-10-08 16:54:47.199668\n"
     ]
    }
   ],
   "source": [
    "import os\n",
    "import datetime\n",
    "\n",
    "stat = os.stat('supported-files/query.log')\n",
    "print(datetime.datetime.fromtimestamp(stat.st_mtime))"
   ]
  }
 ],
 "metadata": {
  "kernelspec": {
   "display_name": "Python 3 (ipykernel)",
   "language": "python",
   "name": "python3"
  },
  "language_info": {
   "codemirror_mode": {
    "name": "ipython",
    "version": 3
   },
   "file_extension": ".py",
   "mimetype": "text/x-python",
   "name": "python",
   "nbconvert_exporter": "python",
   "pygments_lexer": "ipython3",
   "version": "3.8.13"
  },
  "latex_envs": {
   "LaTeX_envs_menu_present": true,
   "autoclose": true,
   "autocomplete": true,
   "bibliofile": "biblio.bib",
   "cite_by": "apalike",
   "current_citInitial": 1,
   "eqLabelWithNumbers": true,
   "eqNumInitial": 1,
   "hotkeys": {
    "equation": "Ctrl-E",
    "itemize": "Ctrl-I"
   },
   "labels_anchors": false,
   "latex_user_defs": false,
   "report_style_numbering": true,
   "user_envs_cfg": false
  },
  "toc": {
   "base_numbering": 1,
   "nav_menu": {},
   "number_sections": true,
   "sideBar": true,
   "skip_h1_title": false,
   "title_cell": "Table of Contents",
   "title_sidebar": "Contents",
   "toc_cell": true,
   "toc_position": {
    "height": "calc(100% - 180px)",
    "left": "10px",
    "top": "150px",
    "width": "384px"
   },
   "toc_section_display": false,
   "toc_window_display": true
  },
  "varInspector": {
   "cols": {
    "lenName": 16,
    "lenType": 16,
    "lenVar": 40
   },
   "kernels_config": {
    "python": {
     "delete_cmd_postfix": "",
     "delete_cmd_prefix": "del ",
     "library": "var_list.py",
     "varRefreshCmd": "print(var_dic_list())"
    },
    "r": {
     "delete_cmd_postfix": ") ",
     "delete_cmd_prefix": "rm(",
     "library": "var_list.r",
     "varRefreshCmd": "cat(var_dic_list()) "
    }
   },
   "types_to_exclude": [
    "module",
    "function",
    "builtin_function_or_method",
    "instance",
    "_Feature"
   ],
   "window_display": false
  }
 },
 "nbformat": 4,
 "nbformat_minor": 4
}
