{
 "cells": [
  {
   "cell_type": "markdown",
   "metadata": {
    "toc": true
   },
   "source": [
    "<h1>Table of Contents<span class=\"tocSkip\"></span></h1>\n",
    "<div class=\"toc\"><ul class=\"toc-item\"><li><span><a href=\"#Data-Types-and-TypeCasting\" data-toc-modified-id=\"Data-Types-and-TypeCasting-1\"><span class=\"toc-item-num\">1&nbsp;&nbsp;</span>Data Types and TypeCasting</a></span><ul class=\"toc-item\"><li><span><a href=\"#Datatypes\" data-toc-modified-id=\"Datatypes-1.1\"><span class=\"toc-item-num\">1.1&nbsp;&nbsp;</span>Datatypes</a></span><ul class=\"toc-item\"><li><span><a href=\"#Integer-Datatype\" data-toc-modified-id=\"Integer-Datatype-1.1.1\"><span class=\"toc-item-num\">1.1.1&nbsp;&nbsp;</span>Integer Datatype</a></span></li><li><span><a href=\"#Float-Datatype\" data-toc-modified-id=\"Float-Datatype-1.1.2\"><span class=\"toc-item-num\">1.1.2&nbsp;&nbsp;</span>Float Datatype</a></span></li><li><span><a href=\"#Complex-Datatype\" data-toc-modified-id=\"Complex-Datatype-1.1.3\"><span class=\"toc-item-num\">1.1.3&nbsp;&nbsp;</span>Complex Datatype</a></span></li><li><span><a href=\"#Boolean-Datatype\" data-toc-modified-id=\"Boolean-Datatype-1.1.4\"><span class=\"toc-item-num\">1.1.4&nbsp;&nbsp;</span>Boolean Datatype</a></span></li><li><span><a href=\"#String-Datatype\" data-toc-modified-id=\"String-Datatype-1.1.5\"><span class=\"toc-item-num\">1.1.5&nbsp;&nbsp;</span>String Datatype</a></span></li></ul></li><li><span><a href=\"#Type-casting\" data-toc-modified-id=\"Type-casting-1.2\"><span class=\"toc-item-num\">1.2&nbsp;&nbsp;</span>Type casting</a></span><ul class=\"toc-item\"><li><span><a href=\"#Type-Casting-(float-&amp;-int)\" data-toc-modified-id=\"Type-Casting-(float-&amp;-int)-1.2.1\"><span class=\"toc-item-num\">1.2.1&nbsp;&nbsp;</span>Type Casting (float &amp; int)</a></span></li><li><span><a href=\"#Type-Casting-(complex-&amp;-bool-&amp;-str)\" data-toc-modified-id=\"Type-Casting-(complex-&amp;-bool-&amp;-str)-1.2.2\"><span class=\"toc-item-num\">1.2.2&nbsp;&nbsp;</span>Type Casting (complex &amp; bool &amp; str)</a></span></li></ul></li><li><span><a href=\"#Advanced-DataTypes-(Mutable-&amp;-Immutable)\" data-toc-modified-id=\"Advanced-DataTypes-(Mutable-&amp;-Immutable)-1.3\"><span class=\"toc-item-num\">1.3&nbsp;&nbsp;</span>Advanced DataTypes (Mutable &amp; Immutable)</a></span><ul class=\"toc-item\"><li><span><a href=\"#Bytes-and-Bytearray-Datatype\" data-toc-modified-id=\"Bytes-and-Bytearray-Datatype-1.3.1\"><span class=\"toc-item-num\">1.3.1&nbsp;&nbsp;</span>Bytes and Bytearray Datatype</a></span></li><li><span><a href=\"#List-and-Tuple-Datatype\" data-toc-modified-id=\"List-and-Tuple-Datatype-1.3.2\"><span class=\"toc-item-num\">1.3.2&nbsp;&nbsp;</span>List and Tuple Datatype</a></span></li><li><span><a href=\"#Range-Datatype\" data-toc-modified-id=\"Range-Datatype-1.3.3\"><span class=\"toc-item-num\">1.3.3&nbsp;&nbsp;</span>Range Datatype</a></span></li><li><span><a href=\"#Set-and-Frozen-Set\" data-toc-modified-id=\"Set-and-Frozen-Set-1.3.4\"><span class=\"toc-item-num\">1.3.4&nbsp;&nbsp;</span>Set and Frozen Set</a></span></li><li><span><a href=\"#Dictionary-Datatype\" data-toc-modified-id=\"Dictionary-Datatype-1.3.5\"><span class=\"toc-item-num\">1.3.5&nbsp;&nbsp;</span>Dictionary Datatype</a></span></li><li><span><a href=\"#None-Datatype\" data-toc-modified-id=\"None-Datatype-1.3.6\"><span class=\"toc-item-num\">1.3.6&nbsp;&nbsp;</span>None Datatype</a></span></li></ul></li></ul></li><li><span><a href=\"#Exercise-and-Answer\" data-toc-modified-id=\"Exercise-and-Answer-2\"><span class=\"toc-item-num\">2&nbsp;&nbsp;</span>Exercise and Answer</a></span><ul class=\"toc-item\"><li><span><a href=\"#Exercise\" data-toc-modified-id=\"Exercise-2.1\"><span class=\"toc-item-num\">2.1&nbsp;&nbsp;</span>Exercise</a></span></li><li><span><a href=\"#Answers\" data-toc-modified-id=\"Answers-2.2\"><span class=\"toc-item-num\">2.2&nbsp;&nbsp;</span>Answers</a></span></li></ul></li></ul></div>"
   ]
  },
  {
   "cell_type": "markdown",
   "metadata": {},
   "source": [
    "# Data Types and TypeCasting"
   ]
  },
  {
   "cell_type": "markdown",
   "metadata": {},
   "source": [
    "## Datatypes\n",
    "**Types**<br>\n",
    "    * Fundamental Datatype\n",
    "    * Advanced Datatype\n",
    "\n",
    "**Rules of Datatype**<br>\n",
    "    * Dynamically Typed Programming Language (datatype will be assigned automatically)\n",
    "    * long keyword is not available in Python 3.X (only available in Python 2.X)\n",
    "    * In python everything is OBJECTS()"
   ]
  },
  {
   "cell_type": "code",
   "execution_count": 9,
   "metadata": {
    "ExecuteTime": {
     "end_time": "2022-09-24T14:27:38.262502Z",
     "start_time": "2022-09-24T14:27:38.252359Z"
    }
   },
   "outputs": [
    {
     "name": "stdout",
     "output_type": "stream",
     "text": [
      "{'bool', 'int', 'float', 'complex', 'str'}\n",
      "{'dict', 'set', 'bytearray', 'list', 'tuple', 'bytes', 'frozenset'}\n"
     ]
    }
   ],
   "source": [
    "fundamental_datatypes = {'int','float','complex','bool','str'}\n",
    "advanced_datatypes    = {'bytes','bytearray','list','tuple','set','frozenset','dict'}\n",
    "\n",
    "print(fundamental_datatypes)                                      #List all the Fundamental Datatypes\n",
    "print (advanced_datatypes)                                        #List all the Advanced Datatypes"
   ]
  },
  {
   "cell_type": "code",
   "execution_count": 10,
   "metadata": {
    "ExecuteTime": {
     "end_time": "2022-09-24T14:27:38.282493Z",
     "start_time": "2022-09-24T14:27:38.274782Z"
    }
   },
   "outputs": [
    {
     "name": "stdout",
     "output_type": "stream",
     "text": [
      "{'bytes': '[]', 'bytearray': '[]', 'list': '[]', 'tuple': '()', 'set': '{}', 'frozenset': '{}', 'dict': '{}'}\n"
     ]
    }
   ],
   "source": [
    "datatype_representation     = {'bytes'      :'[]',\n",
    "                               'bytearray'  :'[]',\n",
    "                               'list'       :'[]',\n",
    "                               'tuple'      :'()',\n",
    "                               'set'        :'{}',\n",
    "                               'frozenset'  :'{}',\n",
    "                               'dict'       :'{}'\n",
    "                              }\n",
    "print (datatype_representation)"
   ]
  },
  {
   "cell_type": "markdown",
   "metadata": {},
   "source": [
    "### Integer Datatype\n",
    "`1) In Python 3, There is no limit to how long an integer value can be.`<br>\n",
    "`2) We can express integral data type in 4 types/other bases.`<br>\n",
    "`3) By Defaut - Python will give output in Decimal`<br>\n",
    "`4) We can convert any base to any base values`<br>\n",
    "\n",
    "|Base Name|Base Value|Prefix (+/-)|Base Conversion Func|\n",
    "|---------|----------|------|--------------------|\n",
    "|<p align=\"left\">Decimal|<p align=\"left\">Base-10 (0-9)|<p align=\"left\">Normal Form|<p align=\"left\">|\n",
    "|<p align=\"left\">Binary|<p align=\"left\">Base-2  (0-1)|<p align=\"left\">0B1010|<p align=\"left\">bin()|\n",
    "|<p align=\"left\">Octal|<p align=\"left\">Base-8  (0-7)|<p align=\"left\">0O777|<p align=\"left\">oct()|\n",
    "|<p align=\"left\">Hexa Decimal|<p align=\"left\">Base-16 (0-F)|<p align=\"left\">0xFacE|<p align=\"left\">hex()|\n",
    "\n",
    "\n",
    "**Error Message**<br>\n",
    "`5) SyntaxError`"
   ]
  },
  {
   "cell_type": "code",
   "execution_count": 11,
   "metadata": {
    "ExecuteTime": {
     "end_time": "2022-09-24T14:27:38.297468Z",
     "start_time": "2022-09-24T14:27:38.286709Z"
    }
   },
   "outputs": [
    {
     "name": "stdout",
     "output_type": "stream",
     "text": [
      "110 6 -72 272\n"
     ]
    }
   ],
   "source": [
    "decimal = 110                                                     #Decimal - Default -> Output is Decimal\n",
    "binay   = 0B110                                                   #Binary            -> Output is Decimal\n",
    "octal   = -0o110                                                  #Octal             -> Output is Decimal\n",
    "hexaDeci= 0X110                                                   #HexaDecimal       -> Output is Decimal\n",
    "\n",
    "print (decimal,binay,octal,hexaDeci)"
   ]
  },
  {
   "cell_type": "code",
   "execution_count": 12,
   "metadata": {
    "ExecuteTime": {
     "end_time": "2022-09-24T14:27:38.311566Z",
     "start_time": "2022-09-24T14:27:38.301292Z"
    }
   },
   "outputs": [
    {
     "name": "stdout",
     "output_type": "stream",
     "text": [
      "5789 53 -3750 48879 64206\n"
     ]
    }
   ],
   "source": [
    "decimal = 5789                                                    #Decimal - Default -> Output is Decimal\n",
    "binay   = 0B110101                                                #Binary            -> Output is Decimal\n",
    "octal   = -0o7246                                                 #Octal             -> Output is Decimal\n",
    "hexaDec1= 0XBeef                                                  #HexaDecimal       -> Output is Decimal\n",
    "hexaDec2= 0xFacE                                                  #HexaDecimal       -> Output is Decimal\n",
    "\n",
    "print (decimal,binay,octal,hexaDec1,hexaDec2)"
   ]
  },
  {
   "cell_type": "code",
   "execution_count": 13,
   "metadata": {
    "ExecuteTime": {
     "end_time": "2022-09-24T13:44:23.523281Z",
     "start_time": "2022-09-24T13:44:23.518006Z"
    },
    "deletable": false,
    "editable": false,
    "run_control": {
     "frozen": true
    }
   },
   "outputs": [
    {
     "ename": "SyntaxError",
     "evalue": "invalid syntax (2233347947.py, line 1)",
     "output_type": "error",
     "traceback": [
      "\u001b[0;36m  Input \u001b[0;32mIn [13]\u001b[0;36m\u001b[0m\n\u001b[0;31m    hexaDec3= 0xBeeR                                                  #HexaDecimal       -> Error is invalid-syntax\u001b[0m\n\u001b[0m                   ^\u001b[0m\n\u001b[0;31mSyntaxError\u001b[0m\u001b[0;31m:\u001b[0m invalid syntax\n"
     ]
    }
   ],
   "source": [
    "hexaDec3= 0xBeeR                                                  #HexaDecimal       -> Error is invalid-syntax"
   ]
  },
  {
   "cell_type": "code",
   "execution_count": 13,
   "metadata": {
    "ExecuteTime": {
     "end_time": "2022-09-24T14:27:38.343653Z",
     "start_time": "2022-09-24T14:27:38.318379Z"
    }
   },
   "outputs": [
    {
     "data": {
      "text/plain": [
       "'0b1111'"
      ]
     },
     "execution_count": 13,
     "metadata": {},
     "output_type": "execute_result"
    }
   ],
   "source": [
    "bin(15)                                                           #Decimal to Binary"
   ]
  },
  {
   "cell_type": "code",
   "execution_count": 14,
   "metadata": {
    "ExecuteTime": {
     "end_time": "2022-09-24T14:27:38.367082Z",
     "start_time": "2022-09-24T14:27:38.353874Z"
    }
   },
   "outputs": [
    {
     "data": {
      "text/plain": [
       "'0o17'"
      ]
     },
     "execution_count": 14,
     "metadata": {},
     "output_type": "execute_result"
    }
   ],
   "source": [
    "oct(15)                                                           #Decimal to Octal"
   ]
  },
  {
   "cell_type": "code",
   "execution_count": 15,
   "metadata": {
    "ExecuteTime": {
     "end_time": "2022-09-24T14:27:38.380486Z",
     "start_time": "2022-09-24T14:27:38.372143Z"
    }
   },
   "outputs": [
    {
     "data": {
      "text/plain": [
       "'0xf'"
      ]
     },
     "execution_count": 15,
     "metadata": {},
     "output_type": "execute_result"
    }
   ],
   "source": [
    "hex(15)                                                           #Decimal to HexaDecimal"
   ]
  },
  {
   "cell_type": "code",
   "execution_count": 16,
   "metadata": {
    "ExecuteTime": {
     "end_time": "2022-09-24T14:27:38.400024Z",
     "start_time": "2022-09-24T14:27:38.386961Z"
    }
   },
   "outputs": [
    {
     "data": {
      "text/plain": [
       "'0b1111101011001110'"
      ]
     },
     "execution_count": 16,
     "metadata": {},
     "output_type": "execute_result"
    }
   ],
   "source": [
    "bin(0xFacE)                                                       #HexaDecimal to Binary"
   ]
  },
  {
   "cell_type": "code",
   "execution_count": 17,
   "metadata": {
    "ExecuteTime": {
     "end_time": "2022-09-24T14:27:38.412316Z",
     "start_time": "2022-09-24T14:27:38.405088Z"
    }
   },
   "outputs": [
    {
     "data": {
      "text/plain": [
       "'0o137357'"
      ]
     },
     "execution_count": 17,
     "metadata": {},
     "output_type": "execute_result"
    }
   ],
   "source": [
    "oct(0XBeeF)                                                       #HexaDecimal to Octal"
   ]
  },
  {
   "cell_type": "code",
   "execution_count": 18,
   "metadata": {
    "ExecuteTime": {
     "end_time": "2022-09-24T14:27:38.431792Z",
     "start_time": "2022-09-24T14:27:38.421223Z"
    }
   },
   "outputs": [
    {
     "data": {
      "text/plain": [
       "'0b111110111'"
      ]
     },
     "execution_count": 18,
     "metadata": {},
     "output_type": "execute_result"
    }
   ],
   "source": [
    "bin(0o767)                                                        #Octal to Binary"
   ]
  },
  {
   "cell_type": "code",
   "execution_count": 19,
   "metadata": {
    "ExecuteTime": {
     "end_time": "2022-09-24T14:27:38.459575Z",
     "start_time": "2022-09-24T14:27:38.438072Z"
    }
   },
   "outputs": [
    {
     "data": {
      "text/plain": [
       "'0x1f7'"
      ]
     },
     "execution_count": 19,
     "metadata": {},
     "output_type": "execute_result"
    }
   ],
   "source": [
    "hex(0O767)                                                        #Octal to HexaDecimal"
   ]
  },
  {
   "cell_type": "code",
   "execution_count": 20,
   "metadata": {
    "ExecuteTime": {
     "end_time": "2022-09-24T14:27:38.497858Z",
     "start_time": "2022-09-24T14:27:38.484064Z"
    }
   },
   "outputs": [
    {
     "data": {
      "text/plain": [
       "'0o535'"
      ]
     },
     "execution_count": 20,
     "metadata": {},
     "output_type": "execute_result"
    }
   ],
   "source": [
    "oct(0B101011101)                                                  #Binary to Octal"
   ]
  },
  {
   "cell_type": "code",
   "execution_count": 21,
   "metadata": {
    "ExecuteTime": {
     "end_time": "2022-09-24T14:27:38.512864Z",
     "start_time": "2022-09-24T14:27:38.501916Z"
    }
   },
   "outputs": [
    {
     "data": {
      "text/plain": [
       "'0x15d'"
      ]
     },
     "execution_count": 21,
     "metadata": {},
     "output_type": "execute_result"
    }
   ],
   "source": [
    "hex(0b101011101)                                                  #Binary to HexaDecimal"
   ]
  },
  {
   "cell_type": "markdown",
   "metadata": {},
   "source": [
    "### Float Datatype\n",
    "`1) Floating Point values only be represented in Decimal Form(base-10)`<br>\n",
    "`2) Internally all the values represented in binary form, hence it cannot be represented by floating point`<br>\n",
    "`3) Optionally, We can use e or E followed by a (+ | -) exponential integer`\n",
    "\n",
    "**Error Message**<br>\n",
    "`4) AttributeError`"
   ]
  },
  {
   "cell_type": "code",
   "execution_count": 22,
   "metadata": {
    "ExecuteTime": {
     "end_time": "2022-09-24T14:27:38.525483Z",
     "start_time": "2022-09-24T14:27:38.516924Z"
    }
   },
   "outputs": [
    {
     "data": {
      "text/plain": [
       "10.124484"
      ]
     },
     "execution_count": 22,
     "metadata": {},
     "output_type": "execute_result"
    }
   ],
   "source": [
    "10.124484                                                         #Floating values only be represented in Decimal(int)"
   ]
  },
  {
   "cell_type": "code",
   "execution_count": 23,
   "metadata": {
    "ExecuteTime": {
     "end_time": "2022-09-24T13:46:11.955367Z",
     "start_time": "2022-09-24T13:46:11.216712Z"
    },
    "deletable": false,
    "editable": false,
    "run_control": {
     "frozen": true
    }
   },
   "outputs": [
    {
     "ename": "AttributeError",
     "evalue": "'int' object has no attribute 'abcd'",
     "output_type": "error",
     "traceback": [
      "\u001b[0;31m---------------------------------------------------------------------------\u001b[0m",
      "\u001b[0;31mAttributeError\u001b[0m                            Traceback (most recent call last)",
      "Input \u001b[0;32mIn [23]\u001b[0m, in \u001b[0;36m<cell line: 1>\u001b[0;34m()\u001b[0m\n\u001b[0;32m----> 1\u001b[0m \u001b[38;5;241;43m0Xabcd\u001b[39;49m\u001b[38;5;241;43m.\u001b[39;49m\u001b[43mabcd\u001b[49m\n",
      "\u001b[0;31mAttributeError\u001b[0m: 'int' object has no attribute 'abcd'"
     ]
    }
   ],
   "source": [
    "0Xabcd.abcd                                                       #Floating values only be represented in Decimal(int)"
   ]
  },
  {
   "cell_type": "code",
   "execution_count": 23,
   "metadata": {
    "ExecuteTime": {
     "end_time": "2022-09-24T14:27:38.538538Z",
     "start_time": "2022-09-24T14:27:38.530355Z"
    }
   },
   "outputs": [
    {
     "data": {
      "text/plain": [
       "1200.0"
      ]
     },
     "execution_count": 23,
     "metadata": {},
     "output_type": "execute_result"
    }
   ],
   "source": [
    "1.2e3                                                             #Exponential Function always gives float value"
   ]
  },
  {
   "cell_type": "code",
   "execution_count": 24,
   "metadata": {
    "ExecuteTime": {
     "end_time": "2022-09-24T14:27:38.553238Z",
     "start_time": "2022-09-24T14:27:38.543687Z"
    }
   },
   "outputs": [
    {
     "data": {
      "text/plain": [
       "1.8e+307"
      ]
     },
     "execution_count": 24,
     "metadata": {},
     "output_type": "execute_result"
    }
   ],
   "source": [
    "1.8e307                                                           #Maximum value of the floating point "
   ]
  },
  {
   "cell_type": "code",
   "execution_count": 25,
   "metadata": {
    "ExecuteTime": {
     "end_time": "2022-09-24T14:27:38.570167Z",
     "start_time": "2022-09-24T14:27:38.559334Z"
    }
   },
   "outputs": [
    {
     "data": {
      "text/plain": [
       "inf"
      ]
     },
     "execution_count": 25,
     "metadata": {},
     "output_type": "execute_result"
    }
   ],
   "source": [
    "1.8e308                                                           #Above Maximum value of the floating point "
   ]
  },
  {
   "cell_type": "code",
   "execution_count": 26,
   "metadata": {
    "ExecuteTime": {
     "end_time": "2022-09-24T14:27:38.586765Z",
     "start_time": "2022-09-24T14:27:38.576590Z"
    }
   },
   "outputs": [
    {
     "data": {
      "text/plain": [
       "5e-324"
      ]
     },
     "execution_count": 26,
     "metadata": {},
     "output_type": "execute_result"
    }
   ],
   "source": [
    "5e-324                                                            #Minimum value of the floating point "
   ]
  },
  {
   "cell_type": "code",
   "execution_count": 27,
   "metadata": {
    "ExecuteTime": {
     "end_time": "2022-09-24T14:27:38.602086Z",
     "start_time": "2022-09-24T14:27:38.593568Z"
    }
   },
   "outputs": [
    {
     "data": {
      "text/plain": [
       "0.0"
      ]
     },
     "execution_count": 27,
     "metadata": {},
     "output_type": "execute_result"
    }
   ],
   "source": [
    "5e-325                                                            #Below Minimum value of the floating point "
   ]
  },
  {
   "cell_type": "markdown",
   "metadata": {},
   "source": [
    "### Complex Datatype\n",
    "|Value|Part|Representation|\n",
    "|-----|----|--------------|\n",
    "|<p align=\"left\">a|<p align=\"left\">Real Part|<p align=\"left\">Can be represented in any Base|\n",
    "|<p align=\"left\">b|<p align=\"left\">Imaginary Part|<p align=\"left\">Can only be represented in **Decimal/Base(10)**|\n",
    "\n",
    "\n",
    "$j=\\sqrt-1$<br>\n",
    "$j^2=-1$\n",
    "\n",
    "**Error Message**<br>\n",
    "`SyntaxError`<br>\n",
    "`NameError`"
   ]
  },
  {
   "cell_type": "code",
   "execution_count": 28,
   "metadata": {
    "ExecuteTime": {
     "end_time": "2022-09-24T14:27:38.662965Z",
     "start_time": "2022-09-24T14:27:38.651083Z"
    }
   },
   "outputs": [
    {
     "data": {
      "text/plain": [
       "(10+20j)"
      ]
     },
     "execution_count": 28,
     "metadata": {},
     "output_type": "execute_result"
    }
   ],
   "source": [
    "10 + 20j                                                          #Complex Datatype experssion - int"
   ]
  },
  {
   "cell_type": "code",
   "execution_count": 29,
   "metadata": {
    "ExecuteTime": {
     "end_time": "2022-09-24T14:27:38.680863Z",
     "start_time": "2022-09-24T14:27:38.670216Z"
    }
   },
   "outputs": [
    {
     "data": {
      "text/plain": [
       "(10.547-18.272j)"
      ]
     },
     "execution_count": 29,
     "metadata": {},
     "output_type": "execute_result"
    }
   ],
   "source": [
    "10.547 - 18.272j                                                  #Complex Datatype experssion - Float"
   ]
  },
  {
   "cell_type": "code",
   "execution_count": 30,
   "metadata": {
    "ExecuteTime": {
     "end_time": "2022-09-24T14:27:38.696868Z",
     "start_time": "2022-09-24T14:27:38.686535Z"
    }
   },
   "outputs": [
    {
     "data": {
      "text/plain": [
       "(-43981+1542.2574j)"
      ]
     },
     "execution_count": 30,
     "metadata": {},
     "output_type": "execute_result"
    }
   ],
   "source": [
    "-0XABCD + 1542.2574j                                              #Complex Datatype experssion - hexa + float"
   ]
  },
  {
   "cell_type": "code",
   "execution_count": 31,
   "metadata": {
    "ExecuteTime": {
     "end_time": "2022-09-24T13:46:52.210653Z",
     "start_time": "2022-09-24T13:46:52.199046Z"
    },
    "deletable": false,
    "editable": false,
    "run_control": {
     "frozen": true
    }
   },
   "outputs": [
    {
     "ename": "SyntaxError",
     "evalue": "invalid syntax (250858702.py, line 1)",
     "output_type": "error",
     "traceback": [
      "\u001b[0;36m  Input \u001b[0;32mIn [31]\u001b[0;36m\u001b[0m\n\u001b[0;31m    0XABCD + 0XABCDj                                                  #Imaginary part can only be represented by Decimal\u001b[0m\n\u001b[0m                   ^\u001b[0m\n\u001b[0;31mSyntaxError\u001b[0m\u001b[0;31m:\u001b[0m invalid syntax\n"
     ]
    }
   ],
   "source": [
    "0XABCD + 0XABCDj                                                  #Imaginary part can only be represented by Decimal"
   ]
  },
  {
   "cell_type": "code",
   "execution_count": 31,
   "metadata": {
    "ExecuteTime": {
     "end_time": "2022-09-24T13:47:49.265640Z",
     "start_time": "2022-09-24T13:47:49.254598Z"
    },
    "deletable": false,
    "editable": false,
    "run_control": {
     "frozen": true
    }
   },
   "outputs": [
    {
     "ename": "SyntaxError",
     "evalue": "invalid syntax (2118192199.py, line 1)",
     "output_type": "error",
     "traceback": [
      "\u001b[0;36m  Input \u001b[0;32mIn [31]\u001b[0;36m\u001b[0m\n\u001b[0;31m    10 + 20i                                                          #Only j is supported in complex\u001b[0m\n\u001b[0m           ^\u001b[0m\n\u001b[0;31mSyntaxError\u001b[0m\u001b[0;31m:\u001b[0m invalid syntax\n"
     ]
    }
   ],
   "source": [
    "10 + 20i                                                          #Only j is supported in complex"
   ]
  },
  {
   "cell_type": "code",
   "execution_count": 31,
   "metadata": {
    "ExecuteTime": {
     "end_time": "2022-09-24T13:49:43.480429Z",
     "start_time": "2022-09-24T13:49:42.572393Z"
    },
    "deletable": false,
    "editable": false,
    "run_control": {
     "frozen": true
    }
   },
   "outputs": [
    {
     "ename": "NameError",
     "evalue": "name 'j20' is not defined",
     "output_type": "error",
     "traceback": [
      "\u001b[0;31m---------------------------------------------------------------------------\u001b[0m",
      "\u001b[0;31mNameError\u001b[0m                                 Traceback (most recent call last)",
      "Input \u001b[0;32mIn [31]\u001b[0m, in \u001b[0;36m<cell line: 1>\u001b[0;34m()\u001b[0m\n\u001b[0;32m----> 1\u001b[0m \u001b[38;5;241m10\u001b[39m \u001b[38;5;241m+\u001b[39m \u001b[43mj20\u001b[49m\n",
      "\u001b[0;31mNameError\u001b[0m: name 'j20' is not defined"
     ]
    }
   ],
   "source": [
    "10 + j20                                                          #Should follow Pre-Defined form "
   ]
  },
  {
   "cell_type": "code",
   "execution_count": 31,
   "metadata": {
    "ExecuteTime": {
     "end_time": "2022-09-24T14:27:38.712701Z",
     "start_time": "2022-09-24T14:27:38.702282Z"
    }
   },
   "outputs": [],
   "source": [
    "a= 10+20j\n",
    "b= 10.547+1248.58j                                                #Addition of imaginary numbers"
   ]
  },
  {
   "cell_type": "code",
   "execution_count": 32,
   "metadata": {
    "ExecuteTime": {
     "end_time": "2022-09-24T14:27:38.738505Z",
     "start_time": "2022-09-24T14:27:38.725893Z"
    }
   },
   "outputs": [
    {
     "data": {
      "text/plain": [
       "(20.547+1268.58j)"
      ]
     },
     "execution_count": 32,
     "metadata": {},
     "output_type": "execute_result"
    }
   ],
   "source": [
    " a + b                                                            #Addition of imaginary numbers"
   ]
  },
  {
   "cell_type": "code",
   "execution_count": 33,
   "metadata": {
    "ExecuteTime": {
     "end_time": "2022-09-24T14:27:38.754452Z",
     "start_time": "2022-09-24T14:27:38.745555Z"
    }
   },
   "outputs": [
    {
     "data": {
      "text/plain": [
       "(-0.5470000000000006-1228.58j)"
      ]
     },
     "execution_count": 33,
     "metadata": {},
     "output_type": "execute_result"
    }
   ],
   "source": [
    "a - b                                                             #Subtraction of imaginary numbers"
   ]
  },
  {
   "cell_type": "code",
   "execution_count": 34,
   "metadata": {
    "ExecuteTime": {
     "end_time": "2022-09-24T14:27:38.770022Z",
     "start_time": "2022-09-24T14:27:38.760007Z"
    }
   },
   "outputs": [
    {
     "data": {
      "text/plain": [
       "(-24866.129999999997+12696.74j)"
      ]
     },
     "execution_count": 34,
     "metadata": {},
     "output_type": "execute_result"
    }
   ],
   "source": [
    "a * b                                                             #Multiplication of imaginary numbers"
   ]
  },
  {
   "cell_type": "code",
   "execution_count": 35,
   "metadata": {
    "ExecuteTime": {
     "end_time": "2022-09-24T14:27:38.788665Z",
     "start_time": "2022-09-24T14:27:38.777577Z"
    }
   },
   "outputs": [
    {
     "data": {
      "text/plain": [
       "(0.01608470336901399-0.00787322769351344j)"
      ]
     },
     "execution_count": 35,
     "metadata": {},
     "output_type": "execute_result"
    }
   ],
   "source": [
    "a / b                                                             #Division of imaginary numbers"
   ]
  },
  {
   "cell_type": "code",
   "execution_count": 36,
   "metadata": {
    "ExecuteTime": {
     "end_time": "2022-09-24T14:27:38.812751Z",
     "start_time": "2022-09-24T14:27:38.796186Z"
    }
   },
   "outputs": [
    {
     "data": {
      "text/plain": [
       "10.0"
      ]
     },
     "execution_count": 36,
     "metadata": {},
     "output_type": "execute_result"
    }
   ],
   "source": [
    "a.real                                                            #Functions for complex numbers"
   ]
  },
  {
   "cell_type": "code",
   "execution_count": 37,
   "metadata": {
    "ExecuteTime": {
     "end_time": "2022-09-24T14:27:38.828430Z",
     "start_time": "2022-09-24T14:27:38.820697Z"
    }
   },
   "outputs": [
    {
     "data": {
      "text/plain": [
       "1248.58"
      ]
     },
     "execution_count": 37,
     "metadata": {},
     "output_type": "execute_result"
    }
   ],
   "source": [
    "b.imag                                                            #Functions for complex numbers"
   ]
  },
  {
   "cell_type": "markdown",
   "metadata": {},
   "source": [
    "### Boolean Datatype\n",
    "$True = 1$<br>\n",
    "$False = 0$\n",
    "\n",
    "**Error Message**<br>\n",
    "`NameError`"
   ]
  },
  {
   "cell_type": "code",
   "execution_count": 38,
   "metadata": {
    "ExecuteTime": {
     "end_time": "2022-09-24T14:27:38.842485Z",
     "start_time": "2022-09-24T14:27:38.834167Z"
    }
   },
   "outputs": [
    {
     "name": "stdout",
     "output_type": "stream",
     "text": [
      "True\n"
     ]
    }
   ],
   "source": [
    "a = 10\n",
    "b = 20\n",
    "c = a < b\n",
    "print (c)                                                         #Boolean type - Comparison"
   ]
  },
  {
   "cell_type": "code",
   "execution_count": 39,
   "metadata": {
    "ExecuteTime": {
     "end_time": "2022-09-24T14:27:38.854764Z",
     "start_time": "2022-09-24T14:27:38.849773Z"
    }
   },
   "outputs": [],
   "source": [
    "a = True\n",
    "b = False"
   ]
  },
  {
   "cell_type": "code",
   "execution_count": 40,
   "metadata": {
    "ExecuteTime": {
     "end_time": "2022-09-24T14:27:38.875074Z",
     "start_time": "2022-09-24T14:27:38.867381Z"
    }
   },
   "outputs": [
    {
     "name": "stdout",
     "output_type": "stream",
     "text": [
      "False\n"
     ]
    }
   ],
   "source": [
    "c = a < b\n",
    "print (c)                                                         #Boolean type - Comparison"
   ]
  },
  {
   "cell_type": "code",
   "execution_count": 41,
   "metadata": {
    "ExecuteTime": {
     "end_time": "2022-09-24T14:27:38.891831Z",
     "start_time": "2022-09-24T14:27:38.879957Z"
    }
   },
   "outputs": [
    {
     "data": {
      "text/plain": [
       "2"
      ]
     },
     "execution_count": 41,
     "metadata": {},
     "output_type": "execute_result"
    }
   ],
   "source": [
    "True + True + False + True - True                                 #Boolean type - Addition"
   ]
  },
  {
   "cell_type": "code",
   "execution_count": 42,
   "metadata": {
    "ExecuteTime": {
     "end_time": "2022-09-24T14:27:38.908294Z",
     "start_time": "2022-09-24T14:27:38.899760Z"
    }
   },
   "outputs": [
    {
     "data": {
      "text/plain": [
       "1"
      ]
     },
     "execution_count": 42,
     "metadata": {},
     "output_type": "execute_result"
    }
   ],
   "source": [
    "True * True                                                       #Boolean type - Multiplication"
   ]
  },
  {
   "cell_type": "code",
   "execution_count": 43,
   "metadata": {
    "ExecuteTime": {
     "end_time": "2022-09-24T14:27:38.923150Z",
     "start_time": "2022-09-24T14:27:38.914744Z"
    }
   },
   "outputs": [
    {
     "data": {
      "text/plain": [
       "0"
      ]
     },
     "execution_count": 43,
     "metadata": {},
     "output_type": "execute_result"
    }
   ],
   "source": [
    "True * True * False * True * True                                 #Boolean type - Multiplication"
   ]
  },
  {
   "cell_type": "code",
   "execution_count": 44,
   "metadata": {
    "ExecuteTime": {
     "end_time": "2022-09-24T13:50:33.502010Z",
     "start_time": "2022-09-24T13:50:32.750358Z"
    },
    "deletable": false,
    "editable": false,
    "run_control": {
     "frozen": true
    }
   },
   "outputs": [
    {
     "ename": "NameError",
     "evalue": "name 'true' is not defined",
     "output_type": "error",
     "traceback": [
      "\u001b[0;31m---------------------------------------------------------------------------\u001b[0m",
      "\u001b[0;31mNameError\u001b[0m                                 Traceback (most recent call last)",
      "Input \u001b[0;32mIn [44]\u001b[0m, in \u001b[0;36m<cell line: 1>\u001b[0;34m()\u001b[0m\n\u001b[0;32m----> 1\u001b[0m c \u001b[38;5;241m=\u001b[39m \u001b[43mtrue\u001b[49m\n",
      "\u001b[0;31mNameError\u001b[0m: name 'true' is not defined"
     ]
    }
   ],
   "source": [
    "c = true                                                          #Assiging boolean to variable"
   ]
  },
  {
   "cell_type": "markdown",
   "metadata": {},
   "source": [
    " ### String Datatype\n",
    " 1) No Char datatype in python.<br>\n",
    " 2) Can be represented in **Single** | __Double__ | **Triple Quotes**<br>\n",
    " 3) Always **Output will be in Single Quotes only**<br>\n",
    " 4) Access charecters using below methods,Both **Positive** and **Negetive** index is possible<br>\n",
    " \n",
    "    • Index\n",
    "         * string [ index ]\n",
    "    • Slicing\n",
    "         * string [ begin : end-1 ]\n",
    "         * string [ begin : end-1 : step ]\n",
    "     \n",
    "**Error Values**<br>\n",
    "`IndexError`<br>\n",
    "`ValueError`"
   ]
  },
  {
   "cell_type": "code",
   "execution_count": 44,
   "metadata": {
    "ExecuteTime": {
     "end_time": "2022-09-24T14:27:38.939449Z",
     "start_time": "2022-09-24T14:27:38.928683Z"
    }
   },
   "outputs": [
    {
     "name": "stdout",
     "output_type": "stream",
     "text": [
      "\"Python\" is 'very easy' to learn.\n",
      "\"Python\" is 'very easy' to learn.\n",
      "\"Python\" is 'very easy' to learn.\n",
      "\"Python\" is 'very easy' to learn.\n",
      "\"Python\" is 'very easy' to learn.\n",
      "s 'very easy' to learn.\n",
      "s 'very easy' to learn.\n",
      "s \n",
      "s 'very ea\n",
      "\"Python\" is 'very easy' t\n",
      "o\"i vr ay \n",
      "\"osrsor\n"
     ]
    }
   ],
   "source": [
    "string = '''\"Python\" is 'very easy' to learn.'''\n",
    "print(string)                                                     #Full Slicing a string\n",
    "print(string [:255:])                                             #Full Slicing a string[ 1 : Maximum : 1 ]\n",
    "print(string [:255])                                              #Full Slicing a string[ 1 : Maximum : 1 ]\n",
    "print(string [:])                                                 #Full Slicing a string[ 1 :   End   : 1 ]\n",
    "print(string [::1])                                               #Full Slicing a string[ 1 :   End   : 1 ]\n",
    "\n",
    "print(string [10:])                                               #Slicing a string[ 10 :    1   : 1 ]\n",
    "print(string [10:200])                                            #Slicing a string[ 10 :  200   : 1 ]\n",
    "\n",
    "print(string [10:12])\n",
    "print(string [10:20])\n",
    "print(string [:25:])\n",
    "print(string [5:25:2])\n",
    "print(string [::5])"
   ]
  },
  {
   "cell_type": "code",
   "execution_count": 45,
   "metadata": {
    "ExecuteTime": {
     "end_time": "2022-09-24T14:27:38.951798Z",
     "start_time": "2022-09-24T14:27:38.945195Z"
    }
   },
   "outputs": [
    {
     "name": "stdout",
     "output_type": "stream",
     "text": [
      "\n",
      "Ha !\n",
      "Ha !\n",
      "\n"
     ]
    }
   ],
   "source": [
    "string = '''\n",
    "Ha !\n",
    "Ha !\n",
    "'''\n",
    "print(string)"
   ]
  },
  {
   "cell_type": "code",
   "execution_count": 46,
   "metadata": {
    "ExecuteTime": {
     "end_time": "2022-09-24T14:27:38.969054Z",
     "start_time": "2022-09-24T14:27:38.960789Z"
    }
   },
   "outputs": [
    {
     "data": {
      "text/plain": [
       "'P'"
      ]
     },
     "execution_count": 46,
     "metadata": {},
     "output_type": "execute_result"
    }
   ],
   "source": [
    "s = 'Python'\n",
    "s[0]"
   ]
  },
  {
   "cell_type": "code",
   "execution_count": 47,
   "metadata": {
    "ExecuteTime": {
     "end_time": "2022-09-24T13:51:25.211623Z",
     "start_time": "2022-09-24T13:51:24.000755Z"
    },
    "deletable": false,
    "editable": false,
    "run_control": {
     "frozen": true
    }
   },
   "outputs": [
    {
     "ename": "IndexError",
     "evalue": "string index out of range",
     "output_type": "error",
     "traceback": [
      "\u001b[0;31m---------------------------------------------------------------------------\u001b[0m",
      "\u001b[0;31mIndexError\u001b[0m                                Traceback (most recent call last)",
      "Input \u001b[0;32mIn [47]\u001b[0m, in \u001b[0;36m<cell line: 1>\u001b[0;34m()\u001b[0m\n\u001b[0;32m----> 1\u001b[0m \u001b[43ms\u001b[49m\u001b[43m[\u001b[49m\u001b[38;5;241;43m100\u001b[39;49m\u001b[43m]\u001b[49m\n",
      "\u001b[0;31mIndexError\u001b[0m: string index out of range"
     ]
    }
   ],
   "source": [
    "s[100]"
   ]
  },
  {
   "cell_type": "code",
   "execution_count": 47,
   "metadata": {
    "ExecuteTime": {
     "end_time": "2022-09-24T13:52:11.817966Z",
     "start_time": "2022-09-24T13:52:11.001135Z"
    },
    "deletable": false,
    "editable": false,
    "run_control": {
     "frozen": true
    }
   },
   "outputs": [
    {
     "ename": "ValueError",
     "evalue": "slice step cannot be zero",
     "output_type": "error",
     "traceback": [
      "\u001b[0;31m---------------------------------------------------------------------------\u001b[0m",
      "\u001b[0;31mValueError\u001b[0m                                Traceback (most recent call last)",
      "Input \u001b[0;32mIn [47]\u001b[0m, in \u001b[0;36m<cell line: 1>\u001b[0;34m()\u001b[0m\n\u001b[0;32m----> 1\u001b[0m \u001b[43mstring\u001b[49m\u001b[43m \u001b[49m\u001b[43m[\u001b[49m\u001b[43m:\u001b[49m\u001b[38;5;241;43m25\u001b[39;49m\u001b[43m:\u001b[49m\u001b[38;5;241;43m0\u001b[39;49m\u001b[43m]\u001b[49m\n",
      "\u001b[0;31mValueError\u001b[0m: slice step cannot be zero"
     ]
    }
   ],
   "source": [
    "string [:25:0]"
   ]
  },
  {
   "cell_type": "code",
   "execution_count": 47,
   "metadata": {
    "ExecuteTime": {
     "end_time": "2022-09-24T14:27:38.983501Z",
     "start_time": "2022-09-24T14:27:38.975845Z"
    }
   },
   "outputs": [
    {
     "data": {
      "text/plain": [
       "'\\n! aH\\n! aH\\n'"
      ]
     },
     "execution_count": 47,
     "metadata": {},
     "output_type": "execute_result"
    }
   ],
   "source": [
    "string [::-1]                                                    #Reverse using Slicing a string[ 0 :   End   : -1 ]"
   ]
  },
  {
   "cell_type": "code",
   "execution_count": 48,
   "metadata": {
    "ExecuteTime": {
     "end_time": "2022-09-24T14:27:38.999737Z",
     "start_time": "2022-09-24T14:27:38.989879Z"
    }
   },
   "outputs": [
    {
     "data": {
      "text/plain": [
       "11"
      ]
     },
     "execution_count": 48,
     "metadata": {},
     "output_type": "execute_result"
    }
   ],
   "source": [
    "len(string)                                                       #Function to find the length of the string"
   ]
  },
  {
   "cell_type": "markdown",
   "metadata": {},
   "source": [
    "## Type casting"
   ]
  },
  {
   "cell_type": "markdown",
   "metadata": {},
   "source": [
    "### Type Casting (float & int)\n",
    "`Type casting also called conversion or casting or coersion.`\n",
    "\n",
    "|From Type|To Type|Possibility   |\n",
    "|---------|-------|--------------|\n",
    "|<p align=\"left\">Float|<p align=\"left\">Int|<p align=\"left\">Possible|\n",
    "|<p align=\"left\">Complex|<p align=\"left\">Int|<p align=\"left\">Not Possible **TypeError**|\n",
    "|<p align=\"left\">Boolean|<p align=\"left\">Int|<p align=\"left\">Possible|\n",
    "|<p align=\"left\">String|<p align=\"left\">Int|<p align=\"left\">Value with only int base-10 else **ValueError**|\n",
    "|<p align=\"left\">Int|<p align=\"left\">Float|<p align=\"left\">Possible|\n",
    "|<p align=\"left\">Complex|<p align=\"left\">Float|<p align=\"left\">Not Possible **TypeError**|\n",
    "|<p align=\"left\">Boolean|<p align=\"left\">Float|<p align=\"left\">Possible|\n",
    "|<p align=\"left\">String|<p align=\"left\">Float|<p align=\"left\">Value with int/float with base-10 else **ValueError**|"
   ]
  },
  {
   "cell_type": "code",
   "execution_count": 49,
   "metadata": {
    "ExecuteTime": {
     "end_time": "2022-09-24T14:27:39.017369Z",
     "start_time": "2022-09-24T14:27:39.007017Z"
    }
   },
   "outputs": [
    {
     "name": "stdout",
     "output_type": "stream",
     "text": [
      "10 10.0\n"
     ]
    }
   ],
   "source": [
    "print (int(10.6482),float(10))"
   ]
  },
  {
   "cell_type": "code",
   "execution_count": 50,
   "metadata": {
    "ExecuteTime": {
     "end_time": "2022-09-24T14:27:39.033129Z",
     "start_time": "2022-09-24T14:27:39.025913Z"
    }
   },
   "outputs": [
    {
     "name": "stdout",
     "output_type": "stream",
     "text": [
      "0 1.0\n"
     ]
    }
   ],
   "source": [
    "print (int(False),float(True))"
   ]
  },
  {
   "cell_type": "code",
   "execution_count": 51,
   "metadata": {
    "ExecuteTime": {
     "end_time": "2022-09-24T14:27:39.046326Z",
     "start_time": "2022-09-24T14:27:39.040411Z"
    }
   },
   "outputs": [
    {
     "name": "stdout",
     "output_type": "stream",
     "text": [
      "17 17.0\n"
     ]
    }
   ],
   "source": [
    "print (int(\"17\"),float('17'))"
   ]
  },
  {
   "cell_type": "code",
   "execution_count": 52,
   "metadata": {
    "ExecuteTime": {
     "end_time": "2022-09-24T13:54:06.898865Z",
     "start_time": "2022-09-24T13:54:06.104850Z"
    },
    "deletable": false,
    "editable": false,
    "run_control": {
     "frozen": true
    }
   },
   "outputs": [
    {
     "ename": "TypeError",
     "evalue": "can't convert complex to int",
     "output_type": "error",
     "traceback": [
      "\u001b[0;31m---------------------------------------------------------------------------\u001b[0m",
      "\u001b[0;31mTypeError\u001b[0m                                 Traceback (most recent call last)",
      "Input \u001b[0;32mIn [52]\u001b[0m, in \u001b[0;36m<cell line: 1>\u001b[0;34m()\u001b[0m\n\u001b[0;32m----> 1\u001b[0m \u001b[38;5;28;43mint\u001b[39;49m\u001b[43m(\u001b[49m\u001b[38;5;241;43m5.12\u001b[39;49m\u001b[43m \u001b[49m\u001b[38;5;241;43m+\u001b[39;49m\u001b[43m \u001b[49m\u001b[38;5;241;43m11\u001b[39;49m\u001b[43mj\u001b[49m\u001b[43m)\u001b[49m\n",
      "\u001b[0;31mTypeError\u001b[0m: can't convert complex to int"
     ]
    }
   ],
   "source": [
    "int(5.12 + 11j)"
   ]
  },
  {
   "cell_type": "code",
   "execution_count": 52,
   "metadata": {
    "ExecuteTime": {
     "end_time": "2022-09-24T13:55:04.667042Z",
     "start_time": "2022-09-24T13:55:03.903885Z"
    },
    "deletable": false,
    "editable": false,
    "run_control": {
     "frozen": true
    }
   },
   "outputs": [
    {
     "ename": "ValueError",
     "evalue": "invalid literal for int() with base 10: '17.5'",
     "output_type": "error",
     "traceback": [
      "\u001b[0;31m---------------------------------------------------------------------------\u001b[0m",
      "\u001b[0;31mValueError\u001b[0m                                Traceback (most recent call last)",
      "Input \u001b[0;32mIn [52]\u001b[0m, in \u001b[0;36m<cell line: 1>\u001b[0;34m()\u001b[0m\n\u001b[0;32m----> 1\u001b[0m \u001b[38;5;28;43mint\u001b[39;49m\u001b[43m(\u001b[49m\u001b[38;5;124;43m\"\u001b[39;49m\u001b[38;5;124;43m17.5\u001b[39;49m\u001b[38;5;124;43m\"\u001b[39;49m\u001b[43m)\u001b[49m\n",
      "\u001b[0;31mValueError\u001b[0m: invalid literal for int() with base 10: '17.5'"
     ]
    }
   ],
   "source": [
    "int(\"17.5\")"
   ]
  },
  {
   "cell_type": "code",
   "execution_count": 53,
   "metadata": {
    "ExecuteTime": {
     "end_time": "2022-09-24T13:55:44.818037Z",
     "start_time": "2022-09-24T13:55:44.797631Z"
    },
    "deletable": false,
    "editable": false,
    "run_control": {
     "frozen": true
    }
   },
   "outputs": [
    {
     "ename": "ValueError",
     "evalue": "invalid literal for int() with base 10: '0X101101'",
     "output_type": "error",
     "traceback": [
      "\u001b[0;31m---------------------------------------------------------------------------\u001b[0m",
      "\u001b[0;31mValueError\u001b[0m                                Traceback (most recent call last)",
      "Input \u001b[0;32mIn [53]\u001b[0m, in \u001b[0;36m<cell line: 1>\u001b[0;34m()\u001b[0m\n\u001b[0;32m----> 1\u001b[0m \u001b[38;5;28;43mint\u001b[39;49m\u001b[43m(\u001b[49m\u001b[38;5;124;43m\"\u001b[39;49m\u001b[38;5;124;43m0X101101\u001b[39;49m\u001b[38;5;124;43m\"\u001b[39;49m\u001b[43m)\u001b[49m\n",
      "\u001b[0;31mValueError\u001b[0m: invalid literal for int() with base 10: '0X101101'"
     ]
    }
   ],
   "source": [
    "int(\"0X101101\")"
   ]
  },
  {
   "cell_type": "code",
   "execution_count": 52,
   "metadata": {
    "ExecuteTime": {
     "end_time": "2022-09-24T14:27:39.065375Z",
     "start_time": "2022-09-24T14:27:39.055869Z"
    }
   },
   "outputs": [
    {
     "data": {
      "text/plain": [
       "17.5"
      ]
     },
     "execution_count": 52,
     "metadata": {},
     "output_type": "execute_result"
    }
   ],
   "source": [
    "float(\"17.5\")"
   ]
  },
  {
   "cell_type": "code",
   "execution_count": 55,
   "metadata": {
    "ExecuteTime": {
     "end_time": "2022-09-24T13:55:45.219028Z",
     "start_time": "2022-09-24T13:55:45.192553Z"
    },
    "deletable": false,
    "editable": false,
    "run_control": {
     "frozen": true
    }
   },
   "outputs": [
    {
     "ename": "TypeError",
     "evalue": "can't convert complex to float",
     "output_type": "error",
     "traceback": [
      "\u001b[0;31m---------------------------------------------------------------------------\u001b[0m",
      "\u001b[0;31mTypeError\u001b[0m                                 Traceback (most recent call last)",
      "Input \u001b[0;32mIn [55]\u001b[0m, in \u001b[0;36m<cell line: 1>\u001b[0;34m()\u001b[0m\n\u001b[0;32m----> 1\u001b[0m \u001b[38;5;28;43mfloat\u001b[39;49m\u001b[43m(\u001b[49m\u001b[38;5;241;43m5.12\u001b[39;49m\u001b[43m \u001b[49m\u001b[38;5;241;43m+\u001b[39;49m\u001b[43m \u001b[49m\u001b[38;5;241;43m11\u001b[39;49m\u001b[43mj\u001b[49m\u001b[43m)\u001b[49m\n",
      "\u001b[0;31mTypeError\u001b[0m: can't convert complex to float"
     ]
    }
   ],
   "source": [
    "float(5.12 + 11j)"
   ]
  },
  {
   "cell_type": "code",
   "execution_count": 56,
   "metadata": {
    "ExecuteTime": {
     "end_time": "2022-09-24T13:56:10.563956Z",
     "start_time": "2022-09-24T13:56:10.542898Z"
    },
    "deletable": false,
    "editable": false,
    "run_control": {
     "frozen": true
    }
   },
   "outputs": [
    {
     "ename": "ValueError",
     "evalue": "could not convert string to float: '0X101101'",
     "output_type": "error",
     "traceback": [
      "\u001b[0;31m---------------------------------------------------------------------------\u001b[0m",
      "\u001b[0;31mValueError\u001b[0m                                Traceback (most recent call last)",
      "Input \u001b[0;32mIn [56]\u001b[0m, in \u001b[0;36m<cell line: 1>\u001b[0;34m()\u001b[0m\n\u001b[0;32m----> 1\u001b[0m \u001b[38;5;28;43mfloat\u001b[39;49m\u001b[43m(\u001b[49m\u001b[38;5;124;43m\"\u001b[39;49m\u001b[38;5;124;43m0X101101\u001b[39;49m\u001b[38;5;124;43m\"\u001b[39;49m\u001b[43m)\u001b[49m\n",
      "\u001b[0;31mValueError\u001b[0m: could not convert string to float: '0X101101'"
     ]
    }
   ],
   "source": [
    "float(\"0X101101\")"
   ]
  },
  {
   "cell_type": "markdown",
   "metadata": {},
   "source": [
    "### Type Casting (complex & bool & str)\n",
    "It is also called **conversion** or **casting** or **coersion**.\n",
    "\n",
    "|From Type|To Type|Possibility|\n",
    "|---------|-------|-----------|\n",
    "|<p align=\"left\">Int|<p align=\"left\">Complex|<p align=\"left\">Possible|\n",
    "|<p align=\"left\">Float|<p align=\"left\">Complex|<p align=\"left\">Possible|\n",
    "|<p align=\"left\">Boolean|<p align=\"left\">Complex|<p align=\"left\">Possible|\n",
    "|<p align=\"left\">String|<p align=\"left\">Complex|<p align=\"left\">Only one argument can be passed else **TypeError**|\n",
    "|<p align=\"left\">Int|<p align=\"left\">Boolean & String|<p align=\"left\">Possible|\n",
    "|<p align=\"left\">Float|<p align=\"left\">Boolean & String|<p align=\"left\">Possible|\n",
    "|<p align=\"left\">Complex|<p align=\"left\">Boolean & String|<p align=\"left\">Possible|\n",
    "|<p align=\"left\">String|<p align=\"left\">Boolean & String|<p align=\"left\">Possible|\n",
    "    \n",
    "    \n",
    "**Error Values**<br>\n",
    "`TypeError`<br>\n",
    "`ValueError`<br>\n"
   ]
  },
  {
   "cell_type": "code",
   "execution_count": 53,
   "metadata": {
    "ExecuteTime": {
     "end_time": "2022-09-24T14:27:39.078416Z",
     "start_time": "2022-09-24T14:27:39.071407Z"
    }
   },
   "outputs": [
    {
     "name": "stdout",
     "output_type": "stream",
     "text": [
      "(10+0j) (10.5+0j) (10+20j)\n"
     ]
    }
   ],
   "source": [
    "print (complex(10),complex(10.5),complex(10,20))"
   ]
  },
  {
   "cell_type": "code",
   "execution_count": 54,
   "metadata": {
    "ExecuteTime": {
     "end_time": "2022-09-24T14:27:39.090303Z",
     "start_time": "2022-09-24T14:27:39.084186Z"
    }
   },
   "outputs": [
    {
     "name": "stdout",
     "output_type": "stream",
     "text": [
      "(1+0j) 0j (1+0j)\n"
     ]
    }
   ],
   "source": [
    "print (complex(True),complex(False),complex(True,False))"
   ]
  },
  {
   "cell_type": "code",
   "execution_count": 55,
   "metadata": {
    "ExecuteTime": {
     "end_time": "2022-09-24T14:27:39.101385Z",
     "start_time": "2022-09-24T14:27:39.094572Z"
    }
   },
   "outputs": [
    {
     "name": "stdout",
     "output_type": "stream",
     "text": [
      "(10+0j) (10.5+0j)\n"
     ]
    }
   ],
   "source": [
    "print (complex('10'),complex('10.5'))"
   ]
  },
  {
   "cell_type": "code",
   "execution_count": 60,
   "metadata": {
    "ExecuteTime": {
     "end_time": "2022-09-24T13:58:52.465157Z",
     "start_time": "2022-09-24T13:58:52.429338Z"
    },
    "deletable": false,
    "editable": false,
    "run_control": {
     "frozen": true
    }
   },
   "outputs": [
    {
     "ename": "TypeError",
     "evalue": "complex() can't take second arg if first is a string",
     "output_type": "error",
     "traceback": [
      "\u001b[0;31m---------------------------------------------------------------------------\u001b[0m",
      "\u001b[0;31mTypeError\u001b[0m                                 Traceback (most recent call last)",
      "Input \u001b[0;32mIn [60]\u001b[0m, in \u001b[0;36m<cell line: 1>\u001b[0;34m()\u001b[0m\n\u001b[0;32m----> 1\u001b[0m \u001b[38;5;28mprint\u001b[39m (\u001b[38;5;28;43mcomplex\u001b[39;49m\u001b[43m(\u001b[49m\u001b[38;5;124;43m'\u001b[39;49m\u001b[38;5;124;43m10\u001b[39;49m\u001b[38;5;124;43m'\u001b[39;49m\u001b[43m,\u001b[49m\u001b[38;5;241;43m10\u001b[39;49m\u001b[43m)\u001b[49m)\n",
      "\u001b[0;31mTypeError\u001b[0m: complex() can't take second arg if first is a string"
     ]
    }
   ],
   "source": [
    "print (complex('10',10))"
   ]
  },
  {
   "cell_type": "code",
   "execution_count": 61,
   "metadata": {
    "ExecuteTime": {
     "end_time": "2022-09-24T13:58:52.672779Z",
     "start_time": "2022-09-24T13:58:52.592514Z"
    },
    "deletable": false,
    "editable": false,
    "run_control": {
     "frozen": true
    }
   },
   "outputs": [
    {
     "ename": "ValueError",
     "evalue": "complex() arg is a malformed string",
     "output_type": "error",
     "traceback": [
      "\u001b[0;31m---------------------------------------------------------------------------\u001b[0m",
      "\u001b[0;31mValueError\u001b[0m                                Traceback (most recent call last)",
      "Input \u001b[0;32mIn [61]\u001b[0m, in \u001b[0;36m<cell line: 1>\u001b[0;34m()\u001b[0m\n\u001b[0;32m----> 1\u001b[0m \u001b[38;5;28;43mcomplex\u001b[39;49m\u001b[43m(\u001b[49m\u001b[38;5;124;43m'\u001b[39;49m\u001b[38;5;124;43mten\u001b[39;49m\u001b[38;5;124;43m'\u001b[39;49m\u001b[43m)\u001b[49m\n",
      "\u001b[0;31mValueError\u001b[0m: complex() arg is a malformed string"
     ]
    }
   ],
   "source": [
    "complex('ten')"
   ]
  },
  {
   "cell_type": "code",
   "execution_count": 62,
   "metadata": {
    "ExecuteTime": {
     "end_time": "2022-09-24T13:58:52.792068Z",
     "start_time": "2022-09-24T13:58:52.771982Z"
    },
    "deletable": false,
    "editable": false,
    "run_control": {
     "frozen": true
    }
   },
   "outputs": [
    {
     "ename": "ValueError",
     "evalue": "complex() arg is a malformed string",
     "output_type": "error",
     "traceback": [
      "\u001b[0;31m---------------------------------------------------------------------------\u001b[0m",
      "\u001b[0;31mValueError\u001b[0m                                Traceback (most recent call last)",
      "Input \u001b[0;32mIn [62]\u001b[0m, in \u001b[0;36m<cell line: 1>\u001b[0;34m()\u001b[0m\n\u001b[0;32m----> 1\u001b[0m \u001b[38;5;28;43mcomplex\u001b[39;49m\u001b[43m(\u001b[49m\u001b[38;5;124;43m'\u001b[39;49m\u001b[38;5;124;43m0XABCD\u001b[39;49m\u001b[38;5;124;43m'\u001b[39;49m\u001b[43m)\u001b[49m\n",
      "\u001b[0;31mValueError\u001b[0m: complex() arg is a malformed string"
     ]
    }
   ],
   "source": [
    "complex('0XABCD')"
   ]
  },
  {
   "cell_type": "code",
   "execution_count": 56,
   "metadata": {
    "ExecuteTime": {
     "end_time": "2022-09-24T14:27:39.118667Z",
     "start_time": "2022-09-24T14:27:39.108083Z"
    }
   },
   "outputs": [
    {
     "name": "stdout",
     "output_type": "stream",
     "text": [
      "False True\n"
     ]
    }
   ],
   "source": [
    "print (bool(0.0),bool(10))"
   ]
  },
  {
   "cell_type": "code",
   "execution_count": 57,
   "metadata": {
    "ExecuteTime": {
     "end_time": "2022-09-24T14:27:39.156812Z",
     "start_time": "2022-09-24T14:27:39.132226Z"
    }
   },
   "outputs": [
    {
     "name": "stdout",
     "output_type": "stream",
     "text": [
      "True True True\n"
     ]
    }
   ],
   "source": [
    "print (bool(-10.5),bool(10.5 + 10.5j),bool(0.0001))"
   ]
  },
  {
   "cell_type": "code",
   "execution_count": 58,
   "metadata": {
    "ExecuteTime": {
     "end_time": "2022-09-24T14:27:39.185790Z",
     "start_time": "2022-09-24T14:27:39.176812Z"
    }
   },
   "outputs": [
    {
     "name": "stdout",
     "output_type": "stream",
     "text": [
      "True False True\n"
     ]
    }
   ],
   "source": [
    "print (bool(10.5 + 10.5j),bool(0 + 0j),bool(0 + 0.1j))"
   ]
  },
  {
   "cell_type": "code",
   "execution_count": 59,
   "metadata": {
    "ExecuteTime": {
     "end_time": "2022-09-24T14:27:39.213207Z",
     "start_time": "2022-09-24T14:27:39.206052Z"
    }
   },
   "outputs": [
    {
     "name": "stdout",
     "output_type": "stream",
     "text": [
      "False True\n"
     ]
    }
   ],
   "source": [
    "print (bool(''),bool(' '))"
   ]
  },
  {
   "cell_type": "code",
   "execution_count": 60,
   "metadata": {
    "ExecuteTime": {
     "end_time": "2022-09-24T14:27:39.248991Z",
     "start_time": "2022-09-24T14:27:39.238558Z"
    }
   },
   "outputs": [
    {
     "data": {
      "text/plain": [
       "'0.0'"
      ]
     },
     "execution_count": 60,
     "metadata": {},
     "output_type": "execute_result"
    }
   ],
   "source": [
    "str(0.0)"
   ]
  },
  {
   "cell_type": "code",
   "execution_count": 61,
   "metadata": {
    "ExecuteTime": {
     "end_time": "2022-09-24T14:27:39.262701Z",
     "start_time": "2022-09-24T14:27:39.254280Z"
    }
   },
   "outputs": [
    {
     "data": {
      "text/plain": [
       "'  '"
      ]
     },
     "execution_count": 61,
     "metadata": {},
     "output_type": "execute_result"
    }
   ],
   "source": [
    "str ('  ')"
   ]
  },
  {
   "cell_type": "markdown",
   "metadata": {},
   "source": [
    "## Advanced DataTypes (Mutable & Immutable)\n",
    "`If the same content required repeatedly, then no need to create new objects everytime in RAM`.<br>\n",
    "`All Fundamental Datatypes are immutable`\n",
    "\n",
    "    * Increase Object Re-Usability\n",
    "    * Decrease Memory Utilization\n",
    "    * Increase Performance\n",
    "    \n",
    "`To verify the objects having same reference, **is** Operator can be used.`<br>\n",
    "`It will verify the Underlying Memory block.`<br>\n",
    "`The below default objects will be created while python interpretor initilize.`\n",
    "   \n",
    "    * Strings without whitespaces,Special charecters and only less than 20 characters\n",
    "\t* Integers from -5 to +256 and boolean.\n",
    "    * Float & Complex is Not Possible"
   ]
  },
  {
   "cell_type": "code",
   "execution_count": 62,
   "metadata": {
    "ExecuteTime": {
     "end_time": "2022-09-24T14:27:39.275658Z",
     "start_time": "2022-09-24T14:27:39.269551Z"
    }
   },
   "outputs": [],
   "source": [
    "obj_1 = 'Chennai'\n",
    "obj_2 = 'Chennai'\n",
    "obj_3 = 'Chennai'\n",
    "obj_4 = 'Chennai'"
   ]
  },
  {
   "cell_type": "code",
   "execution_count": 63,
   "metadata": {
    "ExecuteTime": {
     "end_time": "2022-09-24T14:27:39.290138Z",
     "start_time": "2022-09-24T14:27:39.282234Z"
    }
   },
   "outputs": [
    {
     "name": "stdout",
     "output_type": "stream",
     "text": [
      "140320513895728 140320513895728 140320513895728 140320513895728\n"
     ]
    }
   ],
   "source": [
    "print (id(obj_1),id(obj_2),id(obj_3),id(obj_4))"
   ]
  },
  {
   "cell_type": "code",
   "execution_count": 64,
   "metadata": {
    "ExecuteTime": {
     "end_time": "2022-09-24T14:27:39.305376Z",
     "start_time": "2022-09-24T14:27:39.298131Z"
    }
   },
   "outputs": [
    {
     "name": "stdout",
     "output_type": "stream",
     "text": [
      "140320513895728 140320513895728 140320513895728 140320514081648\n"
     ]
    }
   ],
   "source": [
    "obj_4 = 'Coimbatore'\n",
    "print (id(obj_1),id(obj_2),id(obj_3),id(obj_4))"
   ]
  },
  {
   "cell_type": "code",
   "execution_count": 65,
   "metadata": {
    "ExecuteTime": {
     "end_time": "2022-09-24T14:27:39.319287Z",
     "start_time": "2022-09-24T14:27:39.311693Z"
    }
   },
   "outputs": [
    {
     "data": {
      "text/plain": [
       "True"
      ]
     },
     "execution_count": 65,
     "metadata": {},
     "output_type": "execute_result"
    }
   ],
   "source": [
    "obj_1 is obj_2"
   ]
  },
  {
   "cell_type": "code",
   "execution_count": 66,
   "metadata": {
    "ExecuteTime": {
     "end_time": "2022-09-24T14:27:39.334130Z",
     "start_time": "2022-09-24T14:27:39.324261Z"
    }
   },
   "outputs": [
    {
     "data": {
      "text/plain": [
       "False"
      ]
     },
     "execution_count": 66,
     "metadata": {},
     "output_type": "execute_result"
    }
   ],
   "source": [
    "obj_1 is obj_4"
   ]
  },
  {
   "cell_type": "code",
   "execution_count": 67,
   "metadata": {
    "ExecuteTime": {
     "end_time": "2022-09-24T14:27:39.345103Z",
     "start_time": "2022-09-24T14:27:39.338506Z"
    }
   },
   "outputs": [],
   "source": [
    "x = True\n",
    "y = True\n",
    "z = True"
   ]
  },
  {
   "cell_type": "code",
   "execution_count": 68,
   "metadata": {
    "ExecuteTime": {
     "end_time": "2022-09-24T14:27:39.359167Z",
     "start_time": "2022-09-24T14:27:39.349279Z"
    }
   },
   "outputs": [
    {
     "data": {
      "text/plain": [
       "True"
      ]
     },
     "execution_count": 68,
     "metadata": {},
     "output_type": "execute_result"
    }
   ],
   "source": [
    "x is y is z"
   ]
  },
  {
   "cell_type": "code",
   "execution_count": 69,
   "metadata": {
    "ExecuteTime": {
     "end_time": "2022-09-24T14:27:39.382245Z",
     "start_time": "2022-09-24T14:27:39.363096Z"
    }
   },
   "outputs": [
    {
     "data": {
      "text/plain": [
       "False"
      ]
     },
     "execution_count": 69,
     "metadata": {},
     "output_type": "execute_result"
    }
   ],
   "source": [
    "a = False\n",
    "x is y is z is a"
   ]
  },
  {
   "cell_type": "code",
   "execution_count": 70,
   "metadata": {
    "ExecuteTime": {
     "end_time": "2022-09-24T14:27:39.393927Z",
     "start_time": "2022-09-24T14:27:39.387694Z"
    }
   },
   "outputs": [
    {
     "name": "stdout",
     "output_type": "stream",
     "text": [
      "4363467088 4363467088\n"
     ]
    }
   ],
   "source": [
    "x = -5\n",
    "y = -5\n",
    "print (id(x),id(y))"
   ]
  },
  {
   "cell_type": "code",
   "execution_count": 71,
   "metadata": {
    "ExecuteTime": {
     "end_time": "2022-09-24T14:27:39.405970Z",
     "start_time": "2022-09-24T14:27:39.399376Z"
    }
   },
   "outputs": [
    {
     "name": "stdout",
     "output_type": "stream",
     "text": [
      "140320513989904 140320513989616\n"
     ]
    }
   ],
   "source": [
    "x = -6\n",
    "y = -6\n",
    "print (id(x),id(y))"
   ]
  },
  {
   "cell_type": "code",
   "execution_count": 72,
   "metadata": {
    "ExecuteTime": {
     "end_time": "2022-09-24T14:27:39.502342Z",
     "start_time": "2022-09-24T14:27:39.493542Z"
    }
   },
   "outputs": [
    {
     "name": "stdout",
     "output_type": "stream",
     "text": [
      "140320512881392 140320512881392\n"
     ]
    }
   ],
   "source": [
    "x = y = -7\n",
    "print (id(x),id(y))"
   ]
  },
  {
   "cell_type": "code",
   "execution_count": 73,
   "metadata": {
    "ExecuteTime": {
     "end_time": "2022-09-24T14:27:39.513442Z",
     "start_time": "2022-09-24T14:27:39.507692Z"
    }
   },
   "outputs": [
    {
     "name": "stdout",
     "output_type": "stream",
     "text": [
      "140320513989904 140320513989808\n"
     ]
    }
   ],
   "source": [
    "x = 257 + 256j\n",
    "y = 257 + 256j\n",
    "print (id(x),id(y))"
   ]
  },
  {
   "cell_type": "code",
   "execution_count": 74,
   "metadata": {
    "ExecuteTime": {
     "end_time": "2022-09-24T14:27:39.527892Z",
     "start_time": "2022-09-24T14:27:39.520624Z"
    }
   },
   "outputs": [
    {
     "name": "stdout",
     "output_type": "stream",
     "text": [
      "140320512881040 140320513990064\n"
     ]
    }
   ],
   "source": [
    "x = 10.56\n",
    "y = 10.56\n",
    "print (id(x),id(y))"
   ]
  },
  {
   "cell_type": "code",
   "execution_count": 75,
   "metadata": {
    "ExecuteTime": {
     "end_time": "2022-09-24T14:27:39.543069Z",
     "start_time": "2022-09-24T14:27:39.534712Z"
    }
   },
   "outputs": [
    {
     "name": "stdout",
     "output_type": "stream",
     "text": [
      "140320513909584 140320513915360\n"
     ]
    }
   ],
   "source": [
    "x = 'Vignesh Palanivel'\n",
    "y = 'Vignesh Palanivel'\n",
    "print (id(x),id(y))"
   ]
  },
  {
   "cell_type": "code",
   "execution_count": 76,
   "metadata": {
    "ExecuteTime": {
     "end_time": "2022-09-24T14:27:39.555006Z",
     "start_time": "2022-09-24T14:27:39.549220Z"
    }
   },
   "outputs": [
    {
     "name": "stdout",
     "output_type": "stream",
     "text": [
      "140320513870384 140320513870384\n"
     ]
    }
   ],
   "source": [
    "x = 'VigneshPalanivel'\n",
    "y = 'VigneshPalanivel'\n",
    "print (id(x),id(y))"
   ]
  },
  {
   "cell_type": "code",
   "execution_count": 77,
   "metadata": {
    "ExecuteTime": {
     "end_time": "2022-09-24T14:27:39.570770Z",
     "start_time": "2022-09-24T14:27:39.561231Z"
    }
   },
   "outputs": [
    {
     "name": "stdout",
     "output_type": "stream",
     "text": [
      "140320513466240 140320513466240\n"
     ]
    }
   ],
   "source": [
    "x = 'Vignesh_Palanivel'\n",
    "y = 'Vignesh_Palanivel'\n",
    "print (id(x),id(y))"
   ]
  },
  {
   "cell_type": "code",
   "execution_count": 78,
   "metadata": {
    "ExecuteTime": {
     "end_time": "2022-09-24T14:27:39.606743Z",
     "start_time": "2022-09-24T14:27:39.584846Z"
    }
   },
   "outputs": [
    {
     "name": "stdout",
     "output_type": "stream",
     "text": [
      "140320513870064 140320514243360\n"
     ]
    }
   ],
   "source": [
    "x = 'Vignesh&Palanivel'\n",
    "y = 'Vignesh&Palanivel'\n",
    "print (id(x),id(y))"
   ]
  },
  {
   "cell_type": "code",
   "execution_count": 79,
   "metadata": {
    "ExecuteTime": {
     "end_time": "2022-09-24T14:27:39.632911Z",
     "start_time": "2022-09-24T14:27:39.623158Z"
    },
    "scrolled": false
   },
   "outputs": [
    {
     "name": "stdout",
     "output_type": "stream",
     "text": [
      "{\n",
      "    \"Im-Mutable\": [\n",
      "        \"bytes\",\n",
      "        \"tuple\",\n",
      "        \"frozenset\",\n",
      "        \"range\"\n",
      "    ],\n",
      "    \"Mutable\": [\n",
      "        \"bytearray\",\n",
      "        \"list\",\n",
      "        \"set\",\n",
      "        \"dict\"\n",
      "    ],\n",
      "    \"Special\": [\n",
      "        \"range\",\n",
      "        \"None\"\n",
      "    ]\n",
      "}\n"
     ]
    }
   ],
   "source": [
    "import json\n",
    "mutable_immutable     = {'Mutable' : ['bytearray','list','set','dict'],\n",
    "                      'Im-Mutable' : ['bytes','tuple','frozenset','range'],\n",
    "                         'Special' : ['range','None']\n",
    "                        }\n",
    "print(json.dumps(mutable_immutable,sort_keys=True,indent=4))"
   ]
  },
  {
   "cell_type": "markdown",
   "metadata": {},
   "source": [
    "### Bytes and Bytearray Datatype\n",
    "A group of byte numbers(like array)<br>\n",
    "Used in **Images, Videos, Documnets**, etc....\n",
    "\n",
    "\n",
    "|Bytes Datatype|ByteArray Datatype|\n",
    "|-----|---------|\n",
    "|<p align=\"left\">Range is 0 - 256|<p align=\"left\">Range is 0 - 256|\n",
    "|<p align=\"left\">Immutable datatype|<p align=\"left\">Mutable datatype|\n",
    "|<p align=\"left\">(No - Item Assignement)|<p align=\"left\">(Item Assignement)|\n",
    "\n",
    "\n",
    "**Error**<br>\n",
    "`ValueError`<br>\n",
    "`TypeError`<br>"
   ]
  },
  {
   "cell_type": "code",
   "execution_count": 80,
   "metadata": {
    "ExecuteTime": {
     "end_time": "2022-09-24T14:27:39.657584Z",
     "start_time": "2022-09-24T14:27:39.645481Z"
    }
   },
   "outputs": [
    {
     "data": {
      "text/plain": [
       "bytes"
      ]
     },
     "execution_count": 80,
     "metadata": {},
     "output_type": "execute_result"
    }
   ],
   "source": [
    "a = [10,20,30,40]\n",
    "a = bytes(a)\n",
    "type(a)"
   ]
  },
  {
   "cell_type": "code",
   "execution_count": 81,
   "metadata": {
    "ExecuteTime": {
     "end_time": "2022-09-24T14:27:39.677516Z",
     "start_time": "2022-09-24T14:27:39.665968Z"
    }
   },
   "outputs": [
    {
     "data": {
      "text/plain": [
       "b'\\n\\x14\\x1e'"
      ]
     },
     "execution_count": 81,
     "metadata": {},
     "output_type": "execute_result"
    }
   ],
   "source": [
    "a[0:3]"
   ]
  },
  {
   "cell_type": "code",
   "execution_count": 82,
   "metadata": {
    "ExecuteTime": {
     "end_time": "2022-09-24T14:27:39.706942Z",
     "start_time": "2022-09-24T14:27:39.698673Z"
    }
   },
   "outputs": [
    {
     "data": {
      "text/plain": [
       "30"
      ]
     },
     "execution_count": 82,
     "metadata": {},
     "output_type": "execute_result"
    }
   ],
   "source": [
    "a[2]"
   ]
  },
  {
   "cell_type": "code",
   "execution_count": 83,
   "metadata": {
    "ExecuteTime": {
     "end_time": "2022-09-24T13:59:41.930090Z",
     "start_time": "2022-09-24T13:59:41.033165Z"
    },
    "deletable": false,
    "editable": false,
    "run_control": {
     "frozen": true
    }
   },
   "outputs": [
    {
     "ename": "TypeError",
     "evalue": "'bytes' object does not support item assignment",
     "output_type": "error",
     "traceback": [
      "\u001b[0;31m---------------------------------------------------------------------------\u001b[0m",
      "\u001b[0;31mTypeError\u001b[0m                                 Traceback (most recent call last)",
      "Input \u001b[0;32mIn [83]\u001b[0m, in \u001b[0;36m<cell line: 1>\u001b[0;34m()\u001b[0m\n\u001b[0;32m----> 1\u001b[0m a[\u001b[38;5;241m2\u001b[39m] \u001b[38;5;241m=\u001b[39m \u001b[38;5;241m300\u001b[39m\n",
      "\u001b[0;31mTypeError\u001b[0m: 'bytes' object does not support item assignment"
     ]
    }
   ],
   "source": [
    "a[2] = 300"
   ]
  },
  {
   "cell_type": "code",
   "execution_count": 84,
   "metadata": {
    "ExecuteTime": {
     "end_time": "2022-09-24T14:02:43.583962Z",
     "start_time": "2022-09-24T14:02:43.562074Z"
    },
    "deletable": false,
    "editable": false,
    "run_control": {
     "frozen": true
    }
   },
   "outputs": [
    {
     "ename": "ValueError",
     "evalue": "bytes must be in range(0, 256)",
     "output_type": "error",
     "traceback": [
      "\u001b[0;31m---------------------------------------------------------------------------\u001b[0m",
      "\u001b[0;31mValueError\u001b[0m                                Traceback (most recent call last)",
      "Input \u001b[0;32mIn [84]\u001b[0m, in \u001b[0;36m<cell line: 2>\u001b[0;34m()\u001b[0m\n\u001b[1;32m      1\u001b[0m a \u001b[38;5;241m=\u001b[39m [\u001b[38;5;241m10\u001b[39m,\u001b[38;5;241m20\u001b[39m,\u001b[38;5;241m30\u001b[39m,\u001b[38;5;241m40\u001b[39m,\u001b[38;5;241m257\u001b[39m]\n\u001b[0;32m----> 2\u001b[0m a \u001b[38;5;241m=\u001b[39m \u001b[38;5;28;43mbytes\u001b[39;49m\u001b[43m(\u001b[49m\u001b[43ma\u001b[49m\u001b[43m)\u001b[49m\n",
      "\u001b[0;31mValueError\u001b[0m: bytes must be in range(0, 256)"
     ]
    }
   ],
   "source": [
    "a = [10,20,30,40,257]\n",
    "a = bytes(a)"
   ]
  },
  {
   "cell_type": "code",
   "execution_count": 83,
   "metadata": {
    "ExecuteTime": {
     "end_time": "2022-09-24T14:27:39.723656Z",
     "start_time": "2022-09-24T14:27:39.714039Z"
    }
   },
   "outputs": [
    {
     "data": {
      "text/plain": [
       "bytearray"
      ]
     },
     "execution_count": 83,
     "metadata": {},
     "output_type": "execute_result"
    }
   ],
   "source": [
    "a = [10,20,30,40]\n",
    "a = bytearray(a)\n",
    "type(a)"
   ]
  },
  {
   "cell_type": "code",
   "execution_count": 84,
   "metadata": {
    "ExecuteTime": {
     "end_time": "2022-09-24T14:27:39.741103Z",
     "start_time": "2022-09-24T14:27:39.730036Z"
    }
   },
   "outputs": [
    {
     "data": {
      "text/plain": [
       "bytearray(b'\\n\\x14\\x1e')"
      ]
     },
     "execution_count": 84,
     "metadata": {},
     "output_type": "execute_result"
    }
   ],
   "source": [
    "a[0:3]"
   ]
  },
  {
   "cell_type": "code",
   "execution_count": 85,
   "metadata": {
    "ExecuteTime": {
     "end_time": "2022-09-24T14:27:39.761437Z",
     "start_time": "2022-09-24T14:27:39.748165Z"
    }
   },
   "outputs": [
    {
     "data": {
      "text/plain": [
       "30"
      ]
     },
     "execution_count": 85,
     "metadata": {},
     "output_type": "execute_result"
    }
   ],
   "source": [
    "a[2]"
   ]
  },
  {
   "cell_type": "code",
   "execution_count": 86,
   "metadata": {
    "ExecuteTime": {
     "end_time": "2022-09-24T14:27:39.774233Z",
     "start_time": "2022-09-24T14:27:39.767034Z"
    }
   },
   "outputs": [
    {
     "name": "stdout",
     "output_type": "stream",
     "text": [
      "bytearray(b'\\n\\x14\\x19(')\n"
     ]
    }
   ],
   "source": [
    "a[2] = 25\n",
    "print(a)"
   ]
  },
  {
   "cell_type": "code",
   "execution_count": 89,
   "metadata": {
    "ExecuteTime": {
     "end_time": "2022-09-24T14:03:04.071682Z",
     "start_time": "2022-09-24T14:03:04.042256Z"
    },
    "deletable": false,
    "editable": false,
    "run_control": {
     "frozen": true
    }
   },
   "outputs": [
    {
     "ename": "ValueError",
     "evalue": "byte must be in range(0, 256)",
     "output_type": "error",
     "traceback": [
      "\u001b[0;31m---------------------------------------------------------------------------\u001b[0m",
      "\u001b[0;31mValueError\u001b[0m                                Traceback (most recent call last)",
      "Input \u001b[0;32mIn [89]\u001b[0m, in \u001b[0;36m<cell line: 2>\u001b[0;34m()\u001b[0m\n\u001b[1;32m      1\u001b[0m a \u001b[38;5;241m=\u001b[39m [\u001b[38;5;241m10\u001b[39m,\u001b[38;5;241m20\u001b[39m,\u001b[38;5;241m30\u001b[39m,\u001b[38;5;241m40\u001b[39m,\u001b[38;5;241m257\u001b[39m]\n\u001b[0;32m----> 2\u001b[0m a \u001b[38;5;241m=\u001b[39m \u001b[38;5;28;43mbytearray\u001b[39;49m\u001b[43m(\u001b[49m\u001b[43ma\u001b[49m\u001b[43m)\u001b[49m\n",
      "\u001b[0;31mValueError\u001b[0m: byte must be in range(0, 256)"
     ]
    }
   ],
   "source": [
    "a = [10,20,30,40,257]\n",
    "a = bytearray(a)"
   ]
  },
  {
   "cell_type": "markdown",
   "metadata": {},
   "source": [
    "### List and Tuple Datatype\n",
    "\n",
    "Repetation Operator can be used with both the types\n",
    "\n",
    "|List Dataype|Tuple Datatype|\n",
    "|-----|---------|\n",
    "|<p align=\"left\">Insertion Order is preserved|<p align=\"left\">Insertion Order is preserved|\n",
    "|<p align=\"left\">Duplicates are Allowed|<p align=\"left\">Duplicates are Allowed|\n",
    "|<p align=\"left\">Hetrogeneous objects are allowed|<p align=\"left\">Hetrogeneous objects are allowed|\n",
    "|<p align=\"left\">Mutable(Item Assignement,etc...)|<p align=\"left\">Im-Mutable(Item Assignement,etc...)|\n",
    "|<p align=\"left\">Inserstion and Deletion|<p align=\"left\">No Inserstion and Deletion|\n",
    "    \n",
    "\n",
    "**Error**<br>\n",
    "`TypeError`<br>\n",
    "`AttributeError`<br>"
   ]
  },
  {
   "cell_type": "code",
   "execution_count": 87,
   "metadata": {
    "ExecuteTime": {
     "end_time": "2022-09-24T14:27:39.792515Z",
     "start_time": "2022-09-24T14:27:39.781424Z"
    }
   },
   "outputs": [
    {
     "data": {
      "text/plain": [
       "[10, 20, 1, 2, 10]"
      ]
     },
     "execution_count": 87,
     "metadata": {},
     "output_type": "execute_result"
    }
   ],
   "source": [
    "l = []\n",
    "l.append(10)\n",
    "l.append(20)\n",
    "l.append(1)\n",
    "l.append(2)\n",
    "l.append(10)\n",
    "l"
   ]
  },
  {
   "cell_type": "code",
   "execution_count": 88,
   "metadata": {
    "ExecuteTime": {
     "end_time": "2022-09-24T14:27:39.810662Z",
     "start_time": "2022-09-24T14:27:39.798910Z"
    }
   },
   "outputs": [
    {
     "data": {
      "text/plain": [
       "['Vignesh', None, True, str]"
      ]
     },
     "execution_count": 88,
     "metadata": {},
     "output_type": "execute_result"
    }
   ],
   "source": [
    "l = []\n",
    "l.append('Vignesh')\n",
    "l.append(None)\n",
    "l.append(True)\n",
    "l.append(str)\n",
    "l"
   ]
  },
  {
   "cell_type": "code",
   "execution_count": 89,
   "metadata": {
    "ExecuteTime": {
     "end_time": "2022-09-24T14:27:39.840786Z",
     "start_time": "2022-09-24T14:27:39.817884Z"
    }
   },
   "outputs": [
    {
     "data": {
      "text/plain": [
       "str"
      ]
     },
     "execution_count": 89,
     "metadata": {},
     "output_type": "execute_result"
    }
   ],
   "source": [
    "type(l[0])"
   ]
  },
  {
   "cell_type": "code",
   "execution_count": 90,
   "metadata": {
    "ExecuteTime": {
     "end_time": "2022-09-24T14:27:39.891679Z",
     "start_time": "2022-09-24T14:27:39.844782Z"
    }
   },
   "outputs": [
    {
     "data": {
      "text/plain": [
       "type"
      ]
     },
     "execution_count": 90,
     "metadata": {},
     "output_type": "execute_result"
    }
   ],
   "source": [
    "type(l[3])"
   ]
  },
  {
   "cell_type": "code",
   "execution_count": 91,
   "metadata": {
    "ExecuteTime": {
     "end_time": "2022-09-24T14:27:39.907249Z",
     "start_time": "2022-09-24T14:27:39.896404Z"
    }
   },
   "outputs": [
    {
     "data": {
      "text/plain": [
       "['Vignesh',\n",
       " None,\n",
       " True,\n",
       " str,\n",
       " 'Vignesh',\n",
       " None,\n",
       " True,\n",
       " str,\n",
       " 'Vignesh',\n",
       " None,\n",
       " True,\n",
       " str]"
      ]
     },
     "execution_count": 91,
     "metadata": {},
     "output_type": "execute_result"
    }
   ],
   "source": [
    "l * 3"
   ]
  },
  {
   "cell_type": "code",
   "execution_count": 95,
   "metadata": {
    "ExecuteTime": {
     "end_time": "2022-09-24T14:03:20.580205Z",
     "start_time": "2022-09-24T14:03:20.557967Z"
    },
    "deletable": false,
    "editable": false,
    "run_control": {
     "frozen": true
    }
   },
   "outputs": [
    {
     "ename": "TypeError",
     "evalue": "can't multiply sequence by non-int of type 'list'",
     "output_type": "error",
     "traceback": [
      "\u001b[0;31m---------------------------------------------------------------------------\u001b[0m",
      "\u001b[0;31mTypeError\u001b[0m                                 Traceback (most recent call last)",
      "Input \u001b[0;32mIn [95]\u001b[0m, in \u001b[0;36m<cell line: 1>\u001b[0;34m()\u001b[0m\n\u001b[0;32m----> 1\u001b[0m \u001b[43ml\u001b[49m\u001b[43m \u001b[49m\u001b[38;5;241;43m*\u001b[39;49m\u001b[43m \u001b[49m\u001b[43ml\u001b[49m\n",
      "\u001b[0;31mTypeError\u001b[0m: can't multiply sequence by non-int of type 'list'"
     ]
    }
   ],
   "source": [
    "l * l"
   ]
  },
  {
   "cell_type": "code",
   "execution_count": 92,
   "metadata": {
    "ExecuteTime": {
     "end_time": "2022-09-24T14:27:39.923459Z",
     "start_time": "2022-09-24T14:27:39.910618Z"
    }
   },
   "outputs": [
    {
     "data": {
      "text/plain": [
       "(10, 100, 1000, 10)"
      ]
     },
     "execution_count": 92,
     "metadata": {},
     "output_type": "execute_result"
    }
   ],
   "source": [
    "t = [10,100,1000,10]\n",
    "t = tuple(t)\n",
    "t"
   ]
  },
  {
   "cell_type": "code",
   "execution_count": 97,
   "metadata": {
    "ExecuteTime": {
     "end_time": "2022-09-24T14:03:38.163682Z",
     "start_time": "2022-09-24T14:03:38.130785Z"
    },
    "deletable": false,
    "editable": false,
    "run_control": {
     "frozen": true
    }
   },
   "outputs": [
    {
     "ename": "AttributeError",
     "evalue": "'tuple' object has no attribute 'append'",
     "output_type": "error",
     "traceback": [
      "\u001b[0;31m---------------------------------------------------------------------------\u001b[0m",
      "\u001b[0;31mAttributeError\u001b[0m                            Traceback (most recent call last)",
      "Input \u001b[0;32mIn [97]\u001b[0m, in \u001b[0;36m<cell line: 1>\u001b[0;34m()\u001b[0m\n\u001b[0;32m----> 1\u001b[0m \u001b[43mt\u001b[49m\u001b[38;5;241;43m.\u001b[39;49m\u001b[43mappend\u001b[49m(\u001b[38;5;28mstr\u001b[39m)\n",
      "\u001b[0;31mAttributeError\u001b[0m: 'tuple' object has no attribute 'append'"
     ]
    }
   ],
   "source": [
    "t.append(str)"
   ]
  },
  {
   "cell_type": "code",
   "execution_count": 98,
   "metadata": {
    "ExecuteTime": {
     "end_time": "2022-09-24T14:03:38.302165Z",
     "start_time": "2022-09-24T14:03:38.278466Z"
    },
    "deletable": false,
    "editable": false,
    "run_control": {
     "frozen": true
    }
   },
   "outputs": [
    {
     "ename": "TypeError",
     "evalue": "'tuple' object does not support item assignment",
     "output_type": "error",
     "traceback": [
      "\u001b[0;31m---------------------------------------------------------------------------\u001b[0m",
      "\u001b[0;31mTypeError\u001b[0m                                 Traceback (most recent call last)",
      "Input \u001b[0;32mIn [98]\u001b[0m, in \u001b[0;36m<cell line: 1>\u001b[0;34m()\u001b[0m\n\u001b[0;32m----> 1\u001b[0m t[\u001b[38;5;241m1\u001b[39m] \u001b[38;5;241m=\u001b[39m \u001b[38;5;241m10\u001b[39m\n",
      "\u001b[0;31mTypeError\u001b[0m: 'tuple' object does not support item assignment"
     ]
    }
   ],
   "source": [
    "t[1] = 10"
   ]
  },
  {
   "cell_type": "code",
   "execution_count": 93,
   "metadata": {
    "ExecuteTime": {
     "end_time": "2022-09-24T14:27:39.937932Z",
     "start_time": "2022-09-24T14:27:39.927655Z"
    }
   },
   "outputs": [
    {
     "data": {
      "text/plain": [
       "140320514279120"
      ]
     },
     "execution_count": 93,
     "metadata": {},
     "output_type": "execute_result"
    }
   ],
   "source": [
    "id(t)"
   ]
  },
  {
   "cell_type": "code",
   "execution_count": 94,
   "metadata": {
    "ExecuteTime": {
     "end_time": "2022-09-24T14:27:39.951843Z",
     "start_time": "2022-09-24T14:27:39.942084Z"
    }
   },
   "outputs": [
    {
     "data": {
      "text/plain": [
       "(10, 100, 1000)"
      ]
     },
     "execution_count": 94,
     "metadata": {},
     "output_type": "execute_result"
    }
   ],
   "source": [
    "t[0:3]"
   ]
  },
  {
   "cell_type": "code",
   "execution_count": 95,
   "metadata": {
    "ExecuteTime": {
     "end_time": "2022-09-24T14:27:39.966815Z",
     "start_time": "2022-09-24T14:27:39.957123Z"
    }
   },
   "outputs": [
    {
     "data": {
      "text/plain": [
       "(10, 100, 1000, 10, 10, 100, 1000, 10, 10, 100, 1000, 10)"
      ]
     },
     "execution_count": 95,
     "metadata": {},
     "output_type": "execute_result"
    }
   ],
   "source": [
    "t * 3"
   ]
  },
  {
   "cell_type": "markdown",
   "metadata": {},
   "source": [
    "### Range Datatype\n",
    "\n",
    "`1) Its a function as well as datatype.`<br>\n",
    "`2) Most Commanly datatype.`<br>\n",
    "`3) Represents a sequence of values.`<br>\n",
    "`4) Im-Mutable.`<br>\n",
    "`5) Only applicable in Integer Value.`<br>\n",
    "\n",
    "    • Type 1:\n",
    "        * range(End-1)\n",
    "    • Form 2:\n",
    "        * range(Start,End-1)\n",
    "    • Form 3:\n",
    "        * range(Start,End-1,step)\n",
    "    \n",
    "**Error Value**<br>\n",
    "`TypeError`"
   ]
  },
  {
   "cell_type": "code",
   "execution_count": 96,
   "metadata": {
    "ExecuteTime": {
     "end_time": "2022-09-24T14:27:39.981723Z",
     "start_time": "2022-09-24T14:27:39.973125Z"
    }
   },
   "outputs": [
    {
     "name": "stdout",
     "output_type": "stream",
     "text": [
      "0\n",
      "1\n",
      "2\n",
      "3\n",
      "4\n",
      "5\n",
      "6\n",
      "7\n",
      "8\n",
      "9\n"
     ]
    }
   ],
   "source": [
    "r = range(10)\n",
    "for i in r:print (i);"
   ]
  },
  {
   "cell_type": "code",
   "execution_count": 97,
   "metadata": {
    "ExecuteTime": {
     "end_time": "2022-09-24T14:27:40.011592Z",
     "start_time": "2022-09-24T14:27:39.992019Z"
    }
   },
   "outputs": [
    {
     "data": {
      "text/plain": [
       "range(4, 10)"
      ]
     },
     "execution_count": 97,
     "metadata": {},
     "output_type": "execute_result"
    }
   ],
   "source": [
    "r[4:]"
   ]
  },
  {
   "cell_type": "code",
   "execution_count": 98,
   "metadata": {
    "ExecuteTime": {
     "end_time": "2022-09-24T14:03:54.282771Z",
     "start_time": "2022-09-24T14:03:53.381222Z"
    },
    "deletable": false,
    "editable": false,
    "run_control": {
     "frozen": true
    }
   },
   "outputs": [
    {
     "ename": "TypeError",
     "evalue": "'range' object does not support item assignment",
     "output_type": "error",
     "traceback": [
      "\u001b[0;31m---------------------------------------------------------------------------\u001b[0m",
      "\u001b[0;31mTypeError\u001b[0m                                 Traceback (most recent call last)",
      "Input \u001b[0;32mIn [98]\u001b[0m, in \u001b[0;36m<cell line: 1>\u001b[0;34m()\u001b[0m\n\u001b[0;32m----> 1\u001b[0m r[\u001b[38;5;241m0\u001b[39m] \u001b[38;5;241m=\u001b[39m \u001b[38;5;241m777\u001b[39m\n",
      "\u001b[0;31mTypeError\u001b[0m: 'range' object does not support item assignment"
     ]
    }
   ],
   "source": [
    "r[0] = 777"
   ]
  },
  {
   "cell_type": "code",
   "execution_count": 98,
   "metadata": {
    "ExecuteTime": {
     "end_time": "2022-09-24T14:27:40.032052Z",
     "start_time": "2022-09-24T14:27:40.023636Z"
    }
   },
   "outputs": [
    {
     "name": "stdout",
     "output_type": "stream",
     "text": [
      "4\n",
      "5\n",
      "6\n",
      "7\n",
      "8\n",
      "9\n"
     ]
    }
   ],
   "source": [
    "r = range(4, 10)\n",
    "for i in r:print (i);"
   ]
  },
  {
   "cell_type": "code",
   "execution_count": 99,
   "metadata": {
    "ExecuteTime": {
     "end_time": "2022-09-24T14:27:40.052362Z",
     "start_time": "2022-09-24T14:27:40.038058Z"
    }
   },
   "outputs": [
    {
     "name": "stdout",
     "output_type": "stream",
     "text": [
      "5\n",
      "10\n",
      "15\n",
      "20\n",
      "25\n",
      "30\n",
      "35\n",
      "40\n",
      "45\n"
     ]
    }
   ],
   "source": [
    "r = range(5, 50, 5)\n",
    "for i in r:print (i);"
   ]
  },
  {
   "cell_type": "code",
   "execution_count": 101,
   "metadata": {
    "ExecuteTime": {
     "end_time": "2022-09-24T14:04:45.663486Z",
     "start_time": "2022-09-24T14:04:45.635622Z"
    },
    "deletable": false,
    "editable": false,
    "run_control": {
     "frozen": true
    }
   },
   "outputs": [
    {
     "ename": "TypeError",
     "evalue": "'float' object cannot be interpreted as an integer",
     "output_type": "error",
     "traceback": [
      "\u001b[0;31m---------------------------------------------------------------------------\u001b[0m",
      "\u001b[0;31mTypeError\u001b[0m                                 Traceback (most recent call last)",
      "Input \u001b[0;32mIn [101]\u001b[0m, in \u001b[0;36m<cell line: 1>\u001b[0;34m()\u001b[0m\n\u001b[0;32m----> 1\u001b[0m r \u001b[38;5;241m=\u001b[39m \u001b[38;5;28;43mrange\u001b[39;49m\u001b[43m(\u001b[49m\u001b[38;5;241;43m5\u001b[39;49m\u001b[43m,\u001b[49m\u001b[43m \u001b[49m\u001b[38;5;241;43m50.5\u001b[39;49m\u001b[43m,\u001b[49m\u001b[43m \u001b[49m\u001b[38;5;241;43m5.5\u001b[39;49m\u001b[43m)\u001b[49m\n\u001b[1;32m      2\u001b[0m \u001b[38;5;28;01mfor\u001b[39;00m i \u001b[38;5;129;01min\u001b[39;00m r:\u001b[38;5;28mprint\u001b[39m (i)\n",
      "\u001b[0;31mTypeError\u001b[0m: 'float' object cannot be interpreted as an integer"
     ]
    }
   ],
   "source": [
    "r = range(5, 50.5, 5.5)\n",
    "for i in r:print (i);"
   ]
  },
  {
   "cell_type": "markdown",
   "metadata": {},
   "source": [
    "### Set and Frozen Set\n",
    "|<p align=\"left\">List|<p align=\"left\">Set|<p align=\"left\">frozenSet|\n",
    "|----|---|---------|\n",
    "|<p align=\"left\">Order of insertion|<p align=\"left\">**NO** Order|<p align=\"left\">**NO** Order|\n",
    "|<p align=\"left\">Duplicates|<p align=\"left\">**NO** Duplicates|<p align=\"left\">**NO** Duplicates|\n",
    "|<p align=\"left\">Indexing and Slicing|<p align=\"left\">**NO** Indexing & Slicing|<p align=\"left\">**NO** Indexing & Slicing|\n",
    "|<p align=\"left\">Hetrogenious|<p align=\"left\">Hetrogenious|<p align=\"left\">Hetrogenious|\n",
    "|<p align=\"left\">Mutable|<p align=\"left\">Mutable|<p align=\"left\">**Im**-Mutable|\n",
    "|<p align=\"left\">Add & Remove|<p align=\"left\">Add & Remove|<p align=\"left\">Cannot Add & Remove|\n",
    "    \n",
    "**Error Value**<br>\n",
    "`TypeError`<br>\n",
    "`AttributeError`"
   ]
  },
  {
   "cell_type": "code",
   "execution_count": 100,
   "metadata": {
    "ExecuteTime": {
     "end_time": "2022-09-24T14:27:40.077387Z",
     "start_time": "2022-09-24T14:27:40.067445Z"
    }
   },
   "outputs": [
    {
     "data": {
      "text/plain": [
       "set()"
      ]
     },
     "execution_count": 100,
     "metadata": {},
     "output_type": "execute_result"
    }
   ],
   "source": [
    "s = set()\n",
    "s"
   ]
  },
  {
   "cell_type": "code",
   "execution_count": 101,
   "metadata": {
    "ExecuteTime": {
     "end_time": "2022-09-24T14:27:40.097006Z",
     "start_time": "2022-09-24T14:27:40.084403Z"
    }
   },
   "outputs": [
    {
     "data": {
      "text/plain": [
       "{10, 20, 30}"
      ]
     },
     "execution_count": 101,
     "metadata": {},
     "output_type": "execute_result"
    }
   ],
   "source": [
    "s = {10,20,30,10,20,30}\n",
    "s"
   ]
  },
  {
   "cell_type": "code",
   "execution_count": 104,
   "metadata": {
    "ExecuteTime": {
     "end_time": "2022-09-24T14:05:03.644082Z",
     "start_time": "2022-09-24T14:05:03.577000Z"
    },
    "deletable": false,
    "editable": false,
    "run_control": {
     "frozen": true
    }
   },
   "outputs": [
    {
     "ename": "TypeError",
     "evalue": "'set' object is not subscriptable",
     "output_type": "error",
     "traceback": [
      "\u001b[0;31m---------------------------------------------------------------------------\u001b[0m",
      "\u001b[0;31mTypeError\u001b[0m                                 Traceback (most recent call last)",
      "Input \u001b[0;32mIn [104]\u001b[0m, in \u001b[0;36m<cell line: 1>\u001b[0;34m()\u001b[0m\n\u001b[0;32m----> 1\u001b[0m \u001b[43ms\u001b[49m\u001b[43m[\u001b[49m\u001b[38;5;241;43m0\u001b[39;49m\u001b[43m]\u001b[49m\n",
      "\u001b[0;31mTypeError\u001b[0m: 'set' object is not subscriptable"
     ]
    }
   ],
   "source": [
    "s[0]"
   ]
  },
  {
   "cell_type": "code",
   "execution_count": 105,
   "metadata": {
    "ExecuteTime": {
     "end_time": "2022-09-24T14:05:03.711123Z",
     "start_time": "2022-09-24T14:05:03.693342Z"
    },
    "deletable": false,
    "editable": false,
    "run_control": {
     "frozen": true
    }
   },
   "outputs": [
    {
     "ename": "TypeError",
     "evalue": "'set' object is not subscriptable",
     "output_type": "error",
     "traceback": [
      "\u001b[0;31m---------------------------------------------------------------------------\u001b[0m",
      "\u001b[0;31mTypeError\u001b[0m                                 Traceback (most recent call last)",
      "Input \u001b[0;32mIn [105]\u001b[0m, in \u001b[0;36m<cell line: 1>\u001b[0;34m()\u001b[0m\n\u001b[0;32m----> 1\u001b[0m \u001b[43ms\u001b[49m\u001b[43m[\u001b[49m\u001b[38;5;241;43m1\u001b[39;49m\u001b[43m:\u001b[49m\u001b[43m]\u001b[49m\n",
      "\u001b[0;31mTypeError\u001b[0m: 'set' object is not subscriptable"
     ]
    }
   ],
   "source": [
    "s[1:]"
   ]
  },
  {
   "cell_type": "code",
   "execution_count": 102,
   "metadata": {
    "ExecuteTime": {
     "end_time": "2022-09-24T14:27:40.111242Z",
     "start_time": "2022-09-24T14:27:40.100413Z"
    }
   },
   "outputs": [
    {
     "data": {
      "text/plain": [
       "{10, 20, 30, 'Python'}"
      ]
     },
     "execution_count": 102,
     "metadata": {},
     "output_type": "execute_result"
    }
   ],
   "source": [
    "s.add('Python')\n",
    "s"
   ]
  },
  {
   "cell_type": "code",
   "execution_count": 103,
   "metadata": {
    "ExecuteTime": {
     "end_time": "2022-09-24T14:27:40.126379Z",
     "start_time": "2022-09-24T14:27:40.114436Z"
    }
   },
   "outputs": [
    {
     "data": {
      "text/plain": [
       "{20, 30, 'Python'}"
      ]
     },
     "execution_count": 103,
     "metadata": {},
     "output_type": "execute_result"
    }
   ],
   "source": [
    "s.remove(10)\n",
    "s"
   ]
  },
  {
   "cell_type": "code",
   "execution_count": 104,
   "metadata": {
    "ExecuteTime": {
     "end_time": "2022-09-24T14:27:40.142683Z",
     "start_time": "2022-09-24T14:27:40.131826Z"
    }
   },
   "outputs": [
    {
     "data": {
      "text/plain": [
       "frozenset({10, 20, 30, 40})"
      ]
     },
     "execution_count": 104,
     "metadata": {},
     "output_type": "execute_result"
    }
   ],
   "source": [
    "fs = {10,20,30,40,40}\n",
    "fs = frozenset(fs)\n",
    "fs"
   ]
  },
  {
   "cell_type": "code",
   "execution_count": 109,
   "metadata": {
    "ExecuteTime": {
     "end_time": "2022-09-24T14:05:29.789979Z",
     "start_time": "2022-09-24T14:05:29.768213Z"
    },
    "deletable": false,
    "editable": false,
    "run_control": {
     "frozen": true
    }
   },
   "outputs": [
    {
     "ename": "TypeError",
     "evalue": "'frozenset' object is not subscriptable",
     "output_type": "error",
     "traceback": [
      "\u001b[0;31m---------------------------------------------------------------------------\u001b[0m",
      "\u001b[0;31mTypeError\u001b[0m                                 Traceback (most recent call last)",
      "Input \u001b[0;32mIn [109]\u001b[0m, in \u001b[0;36m<cell line: 1>\u001b[0;34m()\u001b[0m\n\u001b[0;32m----> 1\u001b[0m \u001b[43mfs\u001b[49m\u001b[43m[\u001b[49m\u001b[38;5;241;43m1\u001b[39;49m\u001b[43m]\u001b[49m\n",
      "\u001b[0;31mTypeError\u001b[0m: 'frozenset' object is not subscriptable"
     ]
    }
   ],
   "source": [
    "fs[1]"
   ]
  },
  {
   "cell_type": "code",
   "execution_count": 110,
   "metadata": {
    "ExecuteTime": {
     "end_time": "2022-09-24T14:05:30.011687Z",
     "start_time": "2022-09-24T14:05:29.983129Z"
    },
    "deletable": false,
    "editable": false,
    "run_control": {
     "frozen": true
    }
   },
   "outputs": [
    {
     "ename": "AttributeError",
     "evalue": "'frozenset' object has no attribute 'add'",
     "output_type": "error",
     "traceback": [
      "\u001b[0;31m---------------------------------------------------------------------------\u001b[0m",
      "\u001b[0;31mAttributeError\u001b[0m                            Traceback (most recent call last)",
      "Input \u001b[0;32mIn [110]\u001b[0m, in \u001b[0;36m<cell line: 1>\u001b[0;34m()\u001b[0m\n\u001b[0;32m----> 1\u001b[0m \u001b[43mfs\u001b[49m\u001b[38;5;241;43m.\u001b[39;49m\u001b[43madd\u001b[49m(\u001b[38;5;124m'\u001b[39m\u001b[38;5;124mPython\u001b[39m\u001b[38;5;124m'\u001b[39m)\n",
      "\u001b[0;31mAttributeError\u001b[0m: 'frozenset' object has no attribute 'add'"
     ]
    }
   ],
   "source": [
    "fs.add('Python')"
   ]
  },
  {
   "cell_type": "markdown",
   "metadata": {},
   "source": [
    "### Dictionary Datatype\n",
    "`1) A group of individual objects with Key-Value pairs.`<br>\n",
    "`2) Both Key-Value can be Hetrogeneous.`<br>\n",
    "`3) **No** Duplicate in Key, It will always update if dupicate key comes.`<br>\n",
    "`4) Duplicate in Value.`<br>\n",
    "`5) Mutable.`<br>"
   ]
  },
  {
   "cell_type": "code",
   "execution_count": 105,
   "metadata": {
    "ExecuteTime": {
     "end_time": "2022-09-24T14:27:40.163538Z",
     "start_time": "2022-09-24T14:27:40.149908Z"
    }
   },
   "outputs": [
    {
     "data": {
      "text/plain": [
       "{}"
      ]
     },
     "execution_count": 105,
     "metadata": {},
     "output_type": "execute_result"
    }
   ],
   "source": [
    "d = {}\n",
    "d"
   ]
  },
  {
   "cell_type": "code",
   "execution_count": 106,
   "metadata": {
    "ExecuteTime": {
     "end_time": "2022-09-24T14:27:40.185713Z",
     "start_time": "2022-09-24T14:27:40.173476Z"
    }
   },
   "outputs": [
    {
     "data": {
      "text/plain": [
       "{100: 'Sunny', 200: 'Lenone'}"
      ]
     },
     "execution_count": 106,
     "metadata": {},
     "output_type": "execute_result"
    }
   ],
   "source": [
    "d[100] = 'Sunny'\n",
    "d[200] = 'Lenone'\n",
    "d"
   ]
  },
  {
   "cell_type": "code",
   "execution_count": 107,
   "metadata": {
    "ExecuteTime": {
     "end_time": "2022-09-24T14:27:40.199804Z",
     "start_time": "2022-09-24T14:27:40.189906Z"
    }
   },
   "outputs": [
    {
     "data": {
      "text/plain": [
       "{100: 'SUNNY', 200: 'Lenone'}"
      ]
     },
     "execution_count": 107,
     "metadata": {},
     "output_type": "execute_result"
    }
   ],
   "source": [
    "d[100] = 'SUNNY'\n",
    "d"
   ]
  },
  {
   "cell_type": "code",
   "execution_count": 1,
   "metadata": {
    "ExecuteTime": {
     "end_time": "2022-10-09T10:05:08.213749Z",
     "start_time": "2022-10-09T10:05:08.200802Z"
    }
   },
   "outputs": [],
   "source": [
    "spam = dict() # Initializing the dict variable\n",
    "\n",
    "if 'color' not in spam:\n",
    "    spam['color'] = 'black'"
   ]
  },
  {
   "cell_type": "code",
   "execution_count": 4,
   "metadata": {
    "ExecuteTime": {
     "end_time": "2022-10-09T10:06:15.822068Z",
     "start_time": "2022-10-09T10:06:15.814652Z"
    }
   },
   "outputs": [
    {
     "name": "stdout",
     "output_type": "stream",
     "text": [
      "{'color': 'black'}\n",
      "{'color': 'black'}\n"
     ]
    }
   ],
   "source": [
    "spam = dict() # Initializing the dict variable\n",
    "\n",
    "spam.setdefault('color','black')\n",
    "print(spam)\n",
    "spam.setdefault('color','white')\n",
    "print(spam)"
   ]
  },
  {
   "cell_type": "markdown",
   "metadata": {},
   "source": [
    "### None Datatype\n",
    "`No Value associated, will not return anything.`<br>\n",
    "`Almost equivalent to Void.`<br>"
   ]
  },
  {
   "cell_type": "code",
   "execution_count": 108,
   "metadata": {
    "ExecuteTime": {
     "end_time": "2022-09-24T14:27:40.221486Z",
     "start_time": "2022-09-24T14:27:40.207500Z"
    }
   },
   "outputs": [],
   "source": [
    "def f1():\n",
    "    a = 10\n",
    "def f2():\n",
    "    print ('Hello, Welcome to Python !!!')\n",
    "def f3():\n",
    "    pass"
   ]
  },
  {
   "cell_type": "code",
   "execution_count": 109,
   "metadata": {
    "ExecuteTime": {
     "end_time": "2022-09-24T14:27:40.232547Z",
     "start_time": "2022-09-24T14:27:40.225786Z"
    }
   },
   "outputs": [],
   "source": [
    "f1()"
   ]
  },
  {
   "cell_type": "code",
   "execution_count": 110,
   "metadata": {
    "ExecuteTime": {
     "end_time": "2022-09-24T14:27:40.245517Z",
     "start_time": "2022-09-24T14:27:40.237425Z"
    }
   },
   "outputs": [
    {
     "name": "stdout",
     "output_type": "stream",
     "text": [
      "Hello, Welcome to Python !!!\n"
     ]
    }
   ],
   "source": [
    "f2()"
   ]
  },
  {
   "cell_type": "code",
   "execution_count": 111,
   "metadata": {
    "ExecuteTime": {
     "end_time": "2022-09-24T14:27:40.260393Z",
     "start_time": "2022-09-24T14:27:40.252835Z"
    }
   },
   "outputs": [
    {
     "name": "stdout",
     "output_type": "stream",
     "text": [
      "None\n",
      "None\n"
     ]
    }
   ],
   "source": [
    "print (f1())\n",
    "print (f3())"
   ]
  },
  {
   "cell_type": "code",
   "execution_count": 112,
   "metadata": {
    "ExecuteTime": {
     "end_time": "2022-09-24T14:05:52.914898Z",
     "start_time": "2022-09-24T14:05:52.899414Z"
    },
    "deletable": false,
    "editable": false,
    "run_control": {
     "frozen": true
    },
    "scrolled": true
   },
   "outputs": [
    {
     "ename": "SyntaxError",
     "evalue": "unexpected EOF while parsing (1020112714.py, line 1)",
     "output_type": "error",
     "traceback": [
      "\u001b[0;36m  Input \u001b[0;32mIn [112]\u001b[0;36m\u001b[0m\n\u001b[0;31m    def empty():\u001b[0m\n\u001b[0m                ^\u001b[0m\n\u001b[0;31mSyntaxError\u001b[0m\u001b[0;31m:\u001b[0m unexpected EOF while parsing\n"
     ]
    }
   ],
   "source": [
    "def empty():"
   ]
  },
  {
   "cell_type": "code",
   "execution_count": null,
   "metadata": {},
   "outputs": [],
   "source": []
  },
  {
   "cell_type": "markdown",
   "metadata": {},
   "source": [
    "# Exercise and Answer"
   ]
  },
  {
   "cell_type": "markdown",
   "metadata": {},
   "source": [
    "## Exercise"
   ]
  },
  {
   "cell_type": "markdown",
   "metadata": {},
   "source": [
    "Q1. What will be type of expression ( 5 + 4.5 - 3)"
   ]
  },
  {
   "cell_type": "code",
   "execution_count": null,
   "metadata": {},
   "outputs": [],
   "source": [
    "#Try it here\n"
   ]
  },
  {
   "cell_type": "markdown",
   "metadata": {},
   "source": [
    "Q2. Use type() function to check type of 'one', '1 or 2', '1.4' and '1/2'"
   ]
  },
  {
   "cell_type": "code",
   "execution_count": 51,
   "metadata": {},
   "outputs": [],
   "source": [
    "#Try it here\n"
   ]
  },
  {
   "cell_type": "markdown",
   "metadata": {},
   "source": [
    "## Answers "
   ]
  },
  {
   "cell_type": "code",
   "execution_count": 1,
   "metadata": {
    "ExecuteTime": {
     "end_time": "2024-11-09T13:02:02.438627Z",
     "start_time": "2024-11-09T13:02:02.359665Z"
    }
   },
   "outputs": [
    {
     "data": {
      "text/plain": [
       "float"
      ]
     },
     "execution_count": 1,
     "metadata": {},
     "output_type": "execute_result"
    }
   ],
   "source": [
    "# Q1. solution\n",
    "type(5 + 4.5 - 3)"
   ]
  },
  {
   "cell_type": "code",
   "execution_count": 2,
   "metadata": {
    "ExecuteTime": {
     "end_time": "2024-11-09T13:02:05.699836Z",
     "start_time": "2024-11-09T13:02:05.690600Z"
    }
   },
   "outputs": [
    {
     "name": "stdout",
     "output_type": "stream",
     "text": [
      "<class 'str'>\n",
      "<class 'str'>\n",
      "<class 'str'>\n",
      "<class 'str'>\n"
     ]
    }
   ],
   "source": [
    "# Q2. solution\n",
    "print(type('one'))\n",
    "print(type('1 or 2'))\n",
    "print(type('1.4'))\n",
    "print(type('1/2'))"
   ]
  }
 ],
 "metadata": {
  "kernelspec": {
   "display_name": "Python 3 (ipykernel)",
   "language": "python",
   "name": "python3"
  },
  "language_info": {
   "codemirror_mode": {
    "name": "ipython",
    "version": 3
   },
   "file_extension": ".py",
   "mimetype": "text/x-python",
   "name": "python",
   "nbconvert_exporter": "python",
   "pygments_lexer": "ipython3",
   "version": "3.8.13"
  },
  "toc": {
   "base_numbering": 1,
   "nav_menu": {},
   "number_sections": true,
   "sideBar": true,
   "skip_h1_title": false,
   "title_cell": "Table of Contents",
   "title_sidebar": "Contents",
   "toc_cell": true,
   "toc_position": {
    "height": "calc(100% - 180px)",
    "left": "10px",
    "top": "150px",
    "width": "360px"
   },
   "toc_section_display": true,
   "toc_window_display": true
  }
 },
 "nbformat": 4,
 "nbformat_minor": 2
}
