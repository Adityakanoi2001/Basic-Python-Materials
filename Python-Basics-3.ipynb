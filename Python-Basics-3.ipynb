{
 "cells": [
  {
   "cell_type": "markdown",
   "metadata": {
    "toc": true
   },
   "source": [
    "<h1>Table of Contents<span class=\"tocSkip\"></span></h1>\n",
    "<div class=\"toc\"><ul class=\"toc-item\"><li><span><a href=\"#Functions-&amp;-Arguments\" data-toc-modified-id=\"Functions-&amp;-Arguments-1\"><span class=\"toc-item-num\">1&nbsp;&nbsp;</span>Functions &amp; Arguments</a></span><ul class=\"toc-item\"><li><span><a href=\"#Types-of-Arguments\" data-toc-modified-id=\"Types-of-Arguments-1.1\"><span class=\"toc-item-num\">1.1&nbsp;&nbsp;</span>Types of Arguments</a></span><ul class=\"toc-item\"><li><span><a href=\"#Positional-Arguments\" data-toc-modified-id=\"Positional-Arguments-1.1.1\"><span class=\"toc-item-num\">1.1.1&nbsp;&nbsp;</span>Positional Arguments</a></span></li><li><span><a href=\"#Keyword-Argument\" data-toc-modified-id=\"Keyword-Argument-1.1.2\"><span class=\"toc-item-num\">1.1.2&nbsp;&nbsp;</span>Keyword Argument</a></span></li><li><span><a href=\"#Default-Argument\" data-toc-modified-id=\"Default-Argument-1.1.3\"><span class=\"toc-item-num\">1.1.3&nbsp;&nbsp;</span>Default Argument</a></span></li><li><span><a href=\"#Variable-Length-Argument--(TUPLE)\" data-toc-modified-id=\"Variable-Length-Argument--(TUPLE)-1.1.4\"><span class=\"toc-item-num\">1.1.4&nbsp;&nbsp;</span>Variable Length Argument  (TUPLE)</a></span></li><li><span><a href=\"#Variable-length-Argument--(DICT)\" data-toc-modified-id=\"Variable-length-Argument--(DICT)-1.1.5\"><span class=\"toc-item-num\">1.1.5&nbsp;&nbsp;</span>Variable length Argument  (DICT)</a></span></li><li><span><a href=\"#Combinations\" data-toc-modified-id=\"Combinations-1.1.6\"><span class=\"toc-item-num\">1.1.6&nbsp;&nbsp;</span>Combinations</a></span><ul class=\"toc-item\"><li><span><a href=\"#Positional-+-Variable\" data-toc-modified-id=\"Positional-+-Variable-1.1.6.1\"><span class=\"toc-item-num\">1.1.6.1&nbsp;&nbsp;</span>Positional + Variable</a></span></li><li><span><a href=\"#Variable-+-Keyword\" data-toc-modified-id=\"Variable-+-Keyword-1.1.6.2\"><span class=\"toc-item-num\">1.1.6.2&nbsp;&nbsp;</span>Variable + Keyword</a></span></li><li><span><a href=\"#Variable-+-Default\" data-toc-modified-id=\"Variable-+-Default-1.1.6.3\"><span class=\"toc-item-num\">1.1.6.3&nbsp;&nbsp;</span>Variable + Default</a></span></li><li><span><a href=\"#Default-+-Variable\" data-toc-modified-id=\"Default-+-Variable-1.1.6.4\"><span class=\"toc-item-num\">1.1.6.4&nbsp;&nbsp;</span>Default + Variable</a></span></li></ul></li><li><span><a href=\"#Examples-on-Combinations\" data-toc-modified-id=\"Examples-on-Combinations-1.1.7\"><span class=\"toc-item-num\">1.1.7&nbsp;&nbsp;</span>Examples on Combinations</a></span></li></ul></li></ul></li><li><span><a href=\"#User-Defined-Functions\" data-toc-modified-id=\"User-Defined-Functions-2\"><span class=\"toc-item-num\">2&nbsp;&nbsp;</span>User Defined Functions</a></span><ul class=\"toc-item\"><li><span><a href=\"#Recursive-Functions\" data-toc-modified-id=\"Recursive-Functions-2.1\"><span class=\"toc-item-num\">2.1&nbsp;&nbsp;</span>Recursive Functions</a></span><ul class=\"toc-item\"><li><span><a href=\"#Factorial\" data-toc-modified-id=\"Factorial-2.1.1\"><span class=\"toc-item-num\">2.1.1&nbsp;&nbsp;</span>Factorial</a></span></li><li><span><a href=\"#Fibonacci\" data-toc-modified-id=\"Fibonacci-2.1.2\"><span class=\"toc-item-num\">2.1.2&nbsp;&nbsp;</span>Fibonacci</a></span></li></ul></li><li><span><a href=\"#Anonymous-Function\" data-toc-modified-id=\"Anonymous-Function-2.2\"><span class=\"toc-item-num\">2.2&nbsp;&nbsp;</span>Anonymous Function</a></span><ul class=\"toc-item\"><li><span><a href=\"#Lambda-Basics\" data-toc-modified-id=\"Lambda-Basics-2.2.1\"><span class=\"toc-item-num\">2.2.1&nbsp;&nbsp;</span>Lambda Basics</a></span></li><li><span><a href=\"#Lambdas-in-Print-Function\" data-toc-modified-id=\"Lambdas-in-Print-Function-2.2.2\"><span class=\"toc-item-num\">2.2.2&nbsp;&nbsp;</span>Lambdas in Print Function</a></span></li><li><span><a href=\"#Filter\" data-toc-modified-id=\"Filter-2.2.3\"><span class=\"toc-item-num\">2.2.3&nbsp;&nbsp;</span>Filter</a></span></li><li><span><a href=\"#Map\" data-toc-modified-id=\"Map-2.2.4\"><span class=\"toc-item-num\">2.2.4&nbsp;&nbsp;</span>Map</a></span></li><li><span><a href=\"#Reduce\" data-toc-modified-id=\"Reduce-2.2.5\"><span class=\"toc-item-num\">2.2.5&nbsp;&nbsp;</span>Reduce</a></span></li></ul></li><li><span><a href=\"#Nested-Functions\" data-toc-modified-id=\"Nested-Functions-2.3\"><span class=\"toc-item-num\">2.3&nbsp;&nbsp;</span>Nested Functions</a></span></li><li><span><a href=\"#Function-Aliasing/Call\" data-toc-modified-id=\"Function-Aliasing/Call-2.4\"><span class=\"toc-item-num\">2.4&nbsp;&nbsp;</span>Function Aliasing/Call</a></span></li><li><span><a href=\"#Closures-&amp;-First-Class-Function\" data-toc-modified-id=\"Closures-&amp;-First-Class-Function-2.5\"><span class=\"toc-item-num\">2.5&nbsp;&nbsp;</span>Closures &amp; First Class Function</a></span></li><li><span><a href=\"#Decorators\" data-toc-modified-id=\"Decorators-2.6\"><span class=\"toc-item-num\">2.6&nbsp;&nbsp;</span>Decorators</a></span><ul class=\"toc-item\"><li><span><a href=\"#Function-Decorator\" data-toc-modified-id=\"Function-Decorator-2.6.1\"><span class=\"toc-item-num\">2.6.1&nbsp;&nbsp;</span>Function Decorator</a></span></li><li><span><a href=\"#Class-vs-Function-Decorators\" data-toc-modified-id=\"Class-vs-Function-Decorators-2.6.2\"><span class=\"toc-item-num\">2.6.2&nbsp;&nbsp;</span>Class vs Function Decorators</a></span></li><li><span><a href=\"#Chaining-of-Decorator\" data-toc-modified-id=\"Chaining-of-Decorator-2.6.3\"><span class=\"toc-item-num\">2.6.3&nbsp;&nbsp;</span>Chaining of Decorator</a></span></li></ul></li><li><span><a href=\"#Generator-Function\" data-toc-modified-id=\"Generator-Function-2.7\"><span class=\"toc-item-num\">2.7&nbsp;&nbsp;</span>Generator Function</a></span><ul class=\"toc-item\"><li><span><a href=\"#Fibonacci-in-generators\" data-toc-modified-id=\"Fibonacci-in-generators-2.7.1\"><span class=\"toc-item-num\">2.7.1&nbsp;&nbsp;</span>Fibonacci in generators</a></span></li></ul></li></ul></li></ul></div>"
   ]
  },
  {
   "cell_type": "markdown",
   "metadata": {},
   "source": [
    "# Functions & Arguments\n",
    "**There are Two Types of functions in Python**\n",
    "\n",
    "`1) Built-In     Functions`<br>\n",
    "`2) User Defined Functions`<br><br><br>\n",
    "\n",
    "\n",
    "**User Defined**<br>\n",
    "`1) Recursive Functions`<br>\n",
    "`2) Anonymous Functions`<br>\n",
    "`3) Nested Functions`<br>\n",
    "`4) Functions Aliasing`<br>\n",
    "`5) Function Decorators`<br>\n",
    "`6) Generator Function`<br>\n",
    "\n",
    "**Default Return Value : None**"
   ]
  },
  {
   "cell_type": "code",
   "execution_count": 4,
   "metadata": {
    "ExecuteTime": {
     "end_time": "2020-05-21T15:57:15.698728Z",
     "start_time": "2020-05-21T15:57:15.686727Z"
    }
   },
   "outputs": [
    {
     "name": "stdout",
     "output_type": "stream",
     "text": [
      "None\n"
     ]
    }
   ],
   "source": [
    "'''\n",
    "Function : User Defined Func\n",
    "Return   : None (Default)\n",
    "'''\n",
    "def fact():\n",
    "    pass\n",
    "\n",
    "print (fact())"
   ]
  },
  {
   "cell_type": "code",
   "execution_count": 37,
   "metadata": {
    "ExecuteTime": {
     "end_time": "2020-05-21T16:45:24.470385Z",
     "start_time": "2020-05-21T16:45:24.454384Z"
    }
   },
   "outputs": [
    {
     "name": "stdout",
     "output_type": "stream",
     "text": [
      "(15, 5, 50, 2.0)\n",
      "(1, 2, 3, 4)\n"
     ]
    }
   ],
   "source": [
    "'''\n",
    "Function : User Defined Func\n",
    "Return   : Custom\n",
    "'''\n",
    "def fact(a, b):\n",
    "    sum = a + b\n",
    "    sub = a - b\n",
    "    mul = a * b\n",
    "    div = a / b\n",
    "    return sum, sub, mul, div\n",
    "\n",
    "t = fact(10, 5)\n",
    "print (t)\n",
    "\n",
    "x = 1,2,3,4\n",
    "print (x)"
   ]
  },
  {
   "cell_type": "markdown",
   "metadata": {},
   "source": [
    "## Types of Arguments\n",
    "**1)  Positional Arguments**\n",
    "    * Order \n",
    "    * Number of arguments\n",
    "    * Positional arg followed by Keyword arg\n",
    "\n",
    "**2)  Keyword Argument**\n",
    "    * Any Order \n",
    "    * Number of arguments\n",
    "    * After Keyword arg no positional arg is allowed\n",
    "\n",
    "**3)  Default Argument**\n",
    "    * Default arguments after non-deafult args\n",
    "    \n",
    "**4)  Variable Length Argument**\n",
    "    * A kind of positional argument\n",
    "\n",
    "**5)  Keyword Variable length Argument**\n",
    "    * A kind of positional argument in terms of Keyword(Key-Value)\n",
    "\n",
    "function(Positional, Variable(Keyword Variable), Keyword, Default))\n",
    "\n",
    "- Formal Arguments **def x(a, b)**\n",
    "- Actual Arguments **x(5, 10)**"
   ]
  },
  {
   "cell_type": "markdown",
   "metadata": {},
   "source": [
    "### Positional Arguments\n",
    "    * Order is Important\n",
    "    * Number of arguments are fixed and cannot be changed\n",
    "    * Positional args followed by Keyword args"
   ]
  },
  {
   "cell_type": "code",
   "execution_count": 18,
   "metadata": {
    "ExecuteTime": {
     "end_time": "2020-05-23T03:53:52.459600Z",
     "start_time": "2020-05-23T03:53:52.429600Z"
    }
   },
   "outputs": [
    {
     "name": "stdout",
     "output_type": "stream",
     "text": [
      "# Order is important\n",
      "50\n",
      "\n",
      "# Order is important\n",
      "-50\n",
      "\n",
      "# Number of args are important\n"
     ]
    },
    {
     "ename": "TypeError",
     "evalue": "sub() takes 2 positional arguments but 3 were given",
     "output_type": "error",
     "traceback": [
      "\u001b[1;31m---------------------------------------------------------------------------\u001b[0m",
      "\u001b[1;31mTypeError\u001b[0m                                 Traceback (most recent call last)",
      "\u001b[1;32m<ipython-input-18-1498778747af>\u001b[0m in \u001b[0;36m<module>\u001b[1;34m\u001b[0m\n\u001b[0;32m     18\u001b[0m \u001b[1;34m'''Number of args are important'''\u001b[0m\u001b[1;33m\u001b[0m\u001b[1;33m\u001b[0m\u001b[0m\n\u001b[0;32m     19\u001b[0m \u001b[0mprint\u001b[0m\u001b[1;33m(\u001b[0m\u001b[1;34m'''# Number of args are important'''\u001b[0m\u001b[1;33m)\u001b[0m\u001b[1;33m\u001b[0m\u001b[1;33m\u001b[0m\u001b[0m\n\u001b[1;32m---> 20\u001b[1;33m \u001b[0msub\u001b[0m\u001b[1;33m(\u001b[0m\u001b[1;36m100\u001b[0m\u001b[1;33m,\u001b[0m \u001b[1;36m50\u001b[0m\u001b[1;33m,\u001b[0m \u001b[1;36m10\u001b[0m\u001b[1;33m)\u001b[0m\u001b[1;33m\u001b[0m\u001b[1;33m\u001b[0m\u001b[0m\n\u001b[0m",
      "\u001b[1;31mTypeError\u001b[0m: sub() takes 2 positional arguments but 3 were given"
     ]
    }
   ],
   "source": [
    "def sub(a, b):\n",
    "    print (a-b)\n",
    "\n",
    "'''\n",
    "Args position cannot be changed while calling\n",
    "If changed, results will be Collapsed\n",
    "'''\n",
    "'''Order is important'''\n",
    "print('''# Order is important''')\n",
    "sub(100, 50)\n",
    "print()\n",
    "\n",
    "'''Order is important'''\n",
    "print('''# Order is important''')\n",
    "sub(50, 100)\n",
    "print()\n",
    "\n",
    "'''Number of args are important'''\n",
    "print('''# Number of args are important''')\n",
    "sub(100, 50, 10)"
   ]
  },
  {
   "cell_type": "markdown",
   "metadata": {},
   "source": [
    "### Keyword Argument\n",
    "    * Any Order \n",
    "    * Number of arguments are fixed \n",
    "    * After Keyword args no positional args is allowed"
   ]
  },
  {
   "cell_type": "code",
   "execution_count": 24,
   "metadata": {
    "ExecuteTime": {
     "end_time": "2020-05-23T03:56:42.232463Z",
     "start_time": "2020-05-23T03:56:42.211863Z"
    }
   },
   "outputs": [
    {
     "name": "stdout",
     "output_type": "stream",
     "text": [
      "# Order is NOT important\n",
      "Hello - Vignesh - Good Expert in ML\n",
      "Hello - Vignesh - Good Expert in ML\n",
      "\n",
      "# Positional Args follows Keyword\n",
      "Hello - Vignesh - Good Expert in ML\n"
     ]
    }
   ],
   "source": [
    "def wish(name, msg):\n",
    "    print ('Hello - {} - {}'.format(name, msg))\n",
    "\n",
    "'''Order is NOT important'''\n",
    "print('''# Order is NOT important''')\n",
    "wish(name='Vignesh'          , msg ='Good Expert in ML')\n",
    "wish(msg ='Good Expert in ML', name='Vignesh')\n",
    "\n",
    "\n",
    "'''Positional Args followes Keyword'''\n",
    "print ()\n",
    "print('''# Positional Args follows Keyword''')\n",
    "wish('Vignesh', msg='Good Expert in ML')"
   ]
  },
  {
   "cell_type": "code",
   "execution_count": 25,
   "metadata": {
    "ExecuteTime": {
     "end_time": "2020-05-23T03:56:46.226510Z",
     "start_time": "2020-05-23T03:56:46.214010Z"
    }
   },
   "outputs": [
    {
     "ename": "SyntaxError",
     "evalue": "positional argument follows keyword argument (<ipython-input-25-c1280e76380e>, line 4)",
     "output_type": "error",
     "traceback": [
      "\u001b[1;36m  File \u001b[1;32m\"<ipython-input-25-c1280e76380e>\"\u001b[1;36m, line \u001b[1;32m4\u001b[0m\n\u001b[1;33m    wish(name='Vignesh', 'Good Expert in ML')\u001b[0m\n\u001b[1;37m                        ^\u001b[0m\n\u001b[1;31mSyntaxError\u001b[0m\u001b[1;31m:\u001b[0m positional argument follows keyword argument\n"
     ]
    }
   ],
   "source": [
    "'''Keyword Args shld NOT be before Positional'''\n",
    "print ()\n",
    "print('''# Keyword Args shld NOT be before Positional''')\n",
    "wish(name='Vignesh', 'Good Expert in ML')"
   ]
  },
  {
   "cell_type": "markdown",
   "metadata": {},
   "source": [
    "### Default Argument\n",
    "    * Any Order\n",
    "    * Any Number of args\n",
    "    * Needs to be used only when required\n",
    "    * Default arguments after non-deafult args (Positional & Keyword)"
   ]
  },
  {
   "cell_type": "code",
   "execution_count": 31,
   "metadata": {
    "ExecuteTime": {
     "end_time": "2020-05-23T04:02:32.190026Z",
     "start_time": "2020-05-23T04:02:32.158826Z"
    }
   },
   "outputs": [
    {
     "name": "stdout",
     "output_type": "stream",
     "text": [
      "# Need not to be used unless required\n",
      "Hello - Vignesh\n",
      "\n",
      "# Need not to be used unless required\n",
      "Hello - Vignesh_Palanivel\n",
      "\n"
     ]
    }
   ],
   "source": [
    "def wish(name='Vignesh'):\n",
    "    print ('Hello - {}'.format(name))\n",
    "\n",
    "'''Need not to be used unless required'''\n",
    "print('''# Need not to be used unless required''')\n",
    "wish()\n",
    "print()\n",
    "\n",
    "'''Need not to be used unless required'''\n",
    "print('''# Need not to be used unless required''')\n",
    "wish(name='Vignesh_Palanivel')\n",
    "print()"
   ]
  },
  {
   "cell_type": "code",
   "execution_count": 36,
   "metadata": {
    "ExecuteTime": {
     "end_time": "2020-05-23T04:05:55.021363Z",
     "start_time": "2020-05-23T04:05:55.006363Z"
    }
   },
   "outputs": [
    {
     "name": "stdout",
     "output_type": "stream",
     "text": [
      "# Positional Args declared before Keyword and Default\n",
      "Hello - Vignesh_Palanivel - To here\n",
      "\n"
     ]
    }
   ],
   "source": [
    "def wish(name, msg='Always Welcome'):\n",
    "    print ('Hello - {} - {}'.format(name, msg))\n",
    "\n",
    "'''Positional Args declared before Keyword and Default'''\n",
    "print('''# Positional Args declared before Keyword and Default''')\n",
    "wish('Vignesh_Palanivel', msg='To here')\n",
    "print()"
   ]
  },
  {
   "cell_type": "code",
   "execution_count": 37,
   "metadata": {
    "ExecuteTime": {
     "end_time": "2020-05-23T04:06:07.223195Z",
     "start_time": "2020-05-23T04:06:07.210695Z"
    }
   },
   "outputs": [
    {
     "ename": "SyntaxError",
     "evalue": "positional argument follows keyword argument (<ipython-input-37-a2d2c84289e9>, line 3)",
     "output_type": "error",
     "traceback": [
      "\u001b[1;36m  File \u001b[1;32m\"<ipython-input-37-a2d2c84289e9>\"\u001b[1;36m, line \u001b[1;32m3\u001b[0m\n\u001b[1;33m    wish(msg='To here', 'Vignesh_Palanivel')\u001b[0m\n\u001b[1;37m                       ^\u001b[0m\n\u001b[1;31mSyntaxError\u001b[0m\u001b[1;31m:\u001b[0m positional argument follows keyword argument\n"
     ]
    }
   ],
   "source": [
    "'''Positional Args declared before Keyword and Default'''\n",
    "print('''# Positional Args declared before Keyword and Default''')\n",
    "wish(msg='To here', 'Vignesh_Palanivel')\n",
    "print()"
   ]
  },
  {
   "cell_type": "code",
   "execution_count": 38,
   "metadata": {
    "ExecuteTime": {
     "end_time": "2020-05-23T04:06:32.069596Z",
     "start_time": "2020-05-23T04:06:32.057095Z"
    }
   },
   "outputs": [
    {
     "name": "stdout",
     "output_type": "stream",
     "text": [
      "# Positional Args can be used as a Keyword argument\n",
      "Hello - Vignesh_Palanivel - To here\n"
     ]
    }
   ],
   "source": [
    "'''Positional Args can be used as a Keyword argument'''\n",
    "print('''# Positional Args can be used as a Keyword argument''')\n",
    "wish(name='Vignesh_Palanivel', msg='To here')"
   ]
  },
  {
   "cell_type": "markdown",
   "metadata": {},
   "source": [
    "### Variable Length Argument  (TUPLE)\n",
    "    * A kind of Positional argument\n",
    "    * A kind of Keyword argument (with Empty value)\n",
    "    * Positional argument follows Keyword argument\n",
    "    \n",
    "    * To minimize the multiple functions\n",
    "    * Store all values in tuple"
   ]
  },
  {
   "cell_type": "code",
   "execution_count": 43,
   "metadata": {
    "ExecuteTime": {
     "end_time": "2020-05-23T04:10:18.766182Z",
     "start_time": "2020-05-23T04:10:18.745582Z"
    }
   },
   "outputs": [
    {
     "name": "stdout",
     "output_type": "stream",
     "text": [
      "# Different Functions are required for differnt number of arguments\n",
      "15\n",
      "16\n"
     ]
    }
   ],
   "source": [
    "def fact_1(a, b):\n",
    "    sum = a + b\n",
    "    return sum\n",
    "\n",
    "def fact_2(a, b, c):\n",
    "    sum = a + b + c\n",
    "    return sum\n",
    "\n",
    "'''Different Functions are required for differnt number of arguments'''\n",
    "print('''# Different Functions are required for differnt number of arguments''')\n",
    "print (fact_1(10, 5))\n",
    "print (fact_2(10, 5, 1))"
   ]
  },
  {
   "cell_type": "code",
   "execution_count": 2,
   "metadata": {
    "ExecuteTime": {
     "end_time": "2020-06-28T07:28:41.624682Z",
     "start_time": "2020-06-28T07:28:41.602681Z"
    },
    "scrolled": false
   },
   "outputs": [
    {
     "name": "stdout",
     "output_type": "stream",
     "text": [
      "# Functions reduced by adding a starred variable\n",
      "(10, 5, 1, 100)\n",
      "<class 'tuple'>\n",
      "\n",
      "(10, 5, 1)\n",
      "<class 'tuple'>\n",
      "\n",
      "(10, 5)\n",
      "<class 'tuple'>\n",
      "\n",
      "(10, 10)\n",
      "<class 'tuple'>\n"
     ]
    }
   ],
   "source": [
    "def fact_2(*args):\n",
    "    print (args)\n",
    "    print (type(args))\n",
    "\n",
    "'''Functions reduced by adding a starred variable'''\n",
    "print('''# Functions reduced by adding a starred variable''')\n",
    "fact_2(10, 5, 1, 100)\n",
    "print ()\n",
    "fact_2(10, 5, 1)\n",
    "print ()\n",
    "fact_2(10, 5)\n",
    "print ()\n",
    "fact_2(10, 10)"
   ]
  },
  {
   "cell_type": "markdown",
   "metadata": {},
   "source": [
    "### Variable length Argument  (DICT)"
   ]
  },
  {
   "cell_type": "code",
   "execution_count": 125,
   "metadata": {
    "ExecuteTime": {
     "end_time": "2020-05-23T05:18:31.447604Z",
     "start_time": "2020-05-23T05:18:31.439603Z"
    }
   },
   "outputs": [
    {
     "name": "stdout",
     "output_type": "stream",
     "text": [
      "# Variable length Argument\n",
      "{'x': 1, 'y': 2, 'z': 3}\n",
      "<class 'dict'>\n"
     ]
    }
   ],
   "source": [
    "def display(**kwargs):\n",
    "    print (kwargs)\n",
    "    print (type(kwargs))\n",
    "\n",
    "'''Variable length Argument'''\n",
    "print('''# Variable length Argument''')\n",
    "display(x=1,y=2,z=3)"
   ]
  },
  {
   "cell_type": "code",
   "execution_count": 127,
   "metadata": {
    "ExecuteTime": {
     "end_time": "2020-05-23T05:19:11.018119Z",
     "start_time": "2020-05-23T05:19:10.995518Z"
    },
    "scrolled": true
   },
   "outputs": [
    {
     "name": "stdout",
     "output_type": "stream",
     "text": [
      "# Keyword-Variable length Argument\n",
      "{'name': 'Vignesh', 'age': 25, 'Studies': 'BE-EEE'}\n",
      "<class 'dict'>\n",
      "\n",
      "{'name': 'Vignesh', 'age': 25, 'Studies': 'BE-EEE', 'Year': '2014'}\n",
      "<class 'dict'>\n"
     ]
    }
   ],
   "source": [
    "def display(**kwargs):\n",
    "    print (kwargs)\n",
    "    print (type(kwargs))\n",
    "\n",
    "'''Keyword-Variable length Argument'''\n",
    "print('''# Keyword-Variable length Argument''')\n",
    "display(name='Vignesh', age=25, Studies='BE-EEE')\n",
    "print()\n",
    "display(name='Vignesh', age=25, Studies='BE-EEE', Year='2014')"
   ]
  },
  {
   "cell_type": "markdown",
   "metadata": {},
   "source": [
    "### Combinations\n",
    "#### Positional + Variable"
   ]
  },
  {
   "cell_type": "code",
   "execution_count": 105,
   "metadata": {
    "ExecuteTime": {
     "end_time": "2020-05-23T05:07:08.768748Z",
     "start_time": "2020-05-23T05:07:08.748746Z"
    }
   },
   "outputs": [
    {
     "name": "stdout",
     "output_type": "stream",
     "text": [
      "# A kind of positional argument\n",
      "(10, 5, 1, 100) vignesh\n",
      "\n",
      "(10, 5, 1) vignesh\n",
      "\n",
      "(10, 5) vignesh\n",
      "\n",
      "(5,) 10\n",
      "\n",
      "(5, 15) 10\n"
     ]
    }
   ],
   "source": [
    "def fact_2(name, *args):\n",
    "    print (args , name)\n",
    "\n",
    "'''A kind of positional argument'''\n",
    "print('''# A kind of positional argument''')\n",
    "fact_2('vignesh', 10, 5, 1, 100)\n",
    "print ()\n",
    "fact_2('vignesh', 10, 5, 1)\n",
    "print ()\n",
    "fact_2('vignesh', 10, 5)\n",
    "print ()\n",
    "\n",
    "\n",
    "fact_2(10, 5)\n",
    "print()\n",
    "fact_2(10, 5, 15)"
   ]
  },
  {
   "cell_type": "code",
   "execution_count": 114,
   "metadata": {
    "ExecuteTime": {
     "end_time": "2020-05-23T05:12:57.916527Z",
     "start_time": "2020-05-23T05:12:57.902526Z"
    }
   },
   "outputs": [
    {
     "ename": "SyntaxError",
     "evalue": "positional argument follows keyword argument (<ipython-input-114-511049882a9f>, line 6)",
     "output_type": "error",
     "traceback": [
      "\u001b[1;36m  File \u001b[1;32m\"<ipython-input-114-511049882a9f>\"\u001b[1;36m, line \u001b[1;32m6\u001b[0m\n\u001b[1;33m    fact_2(name='vignesh', 10, 5, 15)\u001b[0m\n\u001b[1;37m                          ^\u001b[0m\n\u001b[1;31mSyntaxError\u001b[0m\u001b[1;31m:\u001b[0m positional argument follows keyword argument\n"
     ]
    }
   ],
   "source": [
    "'''A kind of positional argument after keyword args is not possible'''\n",
    "def fact_2(name, *args):\n",
    "    print (args , name)\n",
    "\n",
    "print()\n",
    "fact_2(name='vignesh', 10, 5, 15)"
   ]
  },
  {
   "cell_type": "code",
   "execution_count": 113,
   "metadata": {
    "ExecuteTime": {
     "end_time": "2020-05-23T05:12:38.904500Z",
     "start_time": "2020-05-23T05:12:38.879499Z"
    }
   },
   "outputs": [
    {
     "name": "stdout",
     "output_type": "stream",
     "text": [
      "\n"
     ]
    },
    {
     "ename": "TypeError",
     "evalue": "fact_2() got multiple values for argument 'name'",
     "output_type": "error",
     "traceback": [
      "\u001b[1;31m---------------------------------------------------------------------------\u001b[0m",
      "\u001b[1;31mTypeError\u001b[0m                                 Traceback (most recent call last)",
      "\u001b[1;32m<ipython-input-113-3bdbabe7125f>\u001b[0m in \u001b[0;36m<module>\u001b[1;34m\u001b[0m\n\u001b[0;32m      4\u001b[0m \u001b[1;33m\u001b[0m\u001b[0m\n\u001b[0;32m      5\u001b[0m \u001b[0mprint\u001b[0m\u001b[1;33m(\u001b[0m\u001b[1;33m)\u001b[0m\u001b[1;33m\u001b[0m\u001b[1;33m\u001b[0m\u001b[0m\n\u001b[1;32m----> 6\u001b[1;33m \u001b[0mfact_2\u001b[0m\u001b[1;33m(\u001b[0m\u001b[1;36m10\u001b[0m\u001b[1;33m,\u001b[0m \u001b[1;36m5\u001b[0m\u001b[1;33m,\u001b[0m \u001b[1;36m15\u001b[0m\u001b[1;33m,\u001b[0m \u001b[0mname\u001b[0m\u001b[1;33m=\u001b[0m\u001b[1;34m'vignesh'\u001b[0m\u001b[1;33m)\u001b[0m\u001b[1;33m\u001b[0m\u001b[1;33m\u001b[0m\u001b[0m\n\u001b[0m",
      "\u001b[1;31mTypeError\u001b[0m: fact_2() got multiple values for argument 'name'"
     ]
    }
   ],
   "source": [
    "'''A kind of positional argument after keyword args is not possible'''\n",
    "def fact_2(name, *args):\n",
    "    print (args , name)\n",
    "\n",
    "print()\n",
    "fact_2(10, 5, 15, name='vignesh')"
   ]
  },
  {
   "cell_type": "markdown",
   "metadata": {},
   "source": [
    "#### Variable + Keyword"
   ]
  },
  {
   "cell_type": "code",
   "execution_count": 117,
   "metadata": {
    "ExecuteTime": {
     "end_time": "2020-05-23T05:14:29.741059Z",
     "start_time": "2020-05-23T05:14:29.725058Z"
    }
   },
   "outputs": [
    {
     "name": "stdout",
     "output_type": "stream",
     "text": [
      "() vignesh\n",
      "\n",
      "('vignesh', 10, 5, 1) vignesh\n",
      "\n",
      "('vignesh', 10, 5) vignesh\n"
     ]
    }
   ],
   "source": [
    "def fact_3(*args, name):\n",
    "    print (args , name)\n",
    "\n",
    "fact_3(name='vignesh')\n",
    "print ()\n",
    "fact_3('vignesh', 10, 5, 1, name='vignesh')\n",
    "print ()\n",
    "fact_3('vignesh', 10, 5, name='vignesh')"
   ]
  },
  {
   "cell_type": "code",
   "execution_count": 118,
   "metadata": {
    "ExecuteTime": {
     "end_time": "2020-05-23T05:14:46.618264Z",
     "start_time": "2020-05-23T05:14:46.591263Z"
    }
   },
   "outputs": [
    {
     "name": "stdout",
     "output_type": "stream",
     "text": [
      "# Looking for Keyword argument\n"
     ]
    },
    {
     "ename": "TypeError",
     "evalue": "fact_3() missing 1 required keyword-only argument: 'name'",
     "output_type": "error",
     "traceback": [
      "\u001b[1;31m---------------------------------------------------------------------------\u001b[0m",
      "\u001b[1;31mTypeError\u001b[0m                                 Traceback (most recent call last)",
      "\u001b[1;32m<ipython-input-118-6e4dc9b53648>\u001b[0m in \u001b[0;36m<module>\u001b[1;34m\u001b[0m\n\u001b[0;32m      1\u001b[0m \u001b[1;34m'''Looking for Keyword argument'''\u001b[0m\u001b[1;33m\u001b[0m\u001b[1;33m\u001b[0m\u001b[0m\n\u001b[0;32m      2\u001b[0m \u001b[0mprint\u001b[0m\u001b[1;33m(\u001b[0m\u001b[1;34m'''# Looking for Keyword argument'''\u001b[0m\u001b[1;33m)\u001b[0m\u001b[1;33m\u001b[0m\u001b[1;33m\u001b[0m\u001b[0m\n\u001b[1;32m----> 3\u001b[1;33m \u001b[0mfact_3\u001b[0m\u001b[1;33m(\u001b[0m\u001b[1;36m10\u001b[0m\u001b[1;33m,\u001b[0m \u001b[1;36m5\u001b[0m\u001b[1;33m,\u001b[0m \u001b[1;36m1\u001b[0m\u001b[1;33m,\u001b[0m \u001b[1;36m100\u001b[0m\u001b[1;33m,\u001b[0m \u001b[1;34m'vignesh'\u001b[0m\u001b[1;33m)\u001b[0m\u001b[1;33m\u001b[0m\u001b[1;33m\u001b[0m\u001b[0m\n\u001b[0m\u001b[0;32m      4\u001b[0m \u001b[0mprint\u001b[0m \u001b[1;33m(\u001b[0m\u001b[1;33m)\u001b[0m\u001b[1;33m\u001b[0m\u001b[1;33m\u001b[0m\u001b[0m\n",
      "\u001b[1;31mTypeError\u001b[0m: fact_3() missing 1 required keyword-only argument: 'name'"
     ]
    }
   ],
   "source": [
    "'''Looking for Keyword argument'''\n",
    "print('''# Looking for Keyword argument''')\n",
    "fact_3(10, 5, 1, 100, 'vignesh')\n",
    "print ()"
   ]
  },
  {
   "cell_type": "code",
   "execution_count": 119,
   "metadata": {
    "ExecuteTime": {
     "end_time": "2020-05-23T05:14:57.413700Z",
     "start_time": "2020-05-23T05:14:57.381698Z"
    }
   },
   "outputs": [
    {
     "name": "stdout",
     "output_type": "stream",
     "text": [
      "# Looking for Keyword argument\n",
      "\n"
     ]
    },
    {
     "ename": "TypeError",
     "evalue": "fact_3() missing 1 required keyword-only argument: 'name'",
     "output_type": "error",
     "traceback": [
      "\u001b[1;31m---------------------------------------------------------------------------\u001b[0m",
      "\u001b[1;31mTypeError\u001b[0m                                 Traceback (most recent call last)",
      "\u001b[1;32m<ipython-input-119-a13976f03c4e>\u001b[0m in \u001b[0;36m<module>\u001b[1;34m\u001b[0m\n\u001b[0;32m      2\u001b[0m \u001b[0mprint\u001b[0m\u001b[1;33m(\u001b[0m\u001b[1;34m'''# Looking for Keyword argument'''\u001b[0m\u001b[1;33m)\u001b[0m\u001b[1;33m\u001b[0m\u001b[1;33m\u001b[0m\u001b[0m\n\u001b[0;32m      3\u001b[0m \u001b[0mprint\u001b[0m\u001b[1;33m(\u001b[0m\u001b[1;33m)\u001b[0m\u001b[1;33m\u001b[0m\u001b[1;33m\u001b[0m\u001b[0m\n\u001b[1;32m----> 4\u001b[1;33m \u001b[0mfact_3\u001b[0m\u001b[1;33m(\u001b[0m\u001b[1;36m10\u001b[0m\u001b[1;33m,\u001b[0m \u001b[1;36m5\u001b[0m\u001b[1;33m,\u001b[0m \u001b[1;36m1\u001b[0m\u001b[1;33m,\u001b[0m \u001b[1;36m100\u001b[0m\u001b[1;33m)\u001b[0m\u001b[1;33m\u001b[0m\u001b[1;33m\u001b[0m\u001b[0m\n\u001b[0m",
      "\u001b[1;31mTypeError\u001b[0m: fact_3() missing 1 required keyword-only argument: 'name'"
     ]
    }
   ],
   "source": [
    "'''Looking for Keyword argument'''\n",
    "print('''# Looking for Keyword argument''')\n",
    "print()\n",
    "fact_3(10, 5, 1, 100)"
   ]
  },
  {
   "cell_type": "code",
   "execution_count": 74,
   "metadata": {
    "ExecuteTime": {
     "end_time": "2020-05-23T04:30:42.755648Z",
     "start_time": "2020-05-23T04:30:42.737548Z"
    }
   },
   "outputs": [
    {
     "ename": "SyntaxError",
     "evalue": "positional argument follows keyword argument (<ipython-input-74-c00eab217a38>, line 3)",
     "output_type": "error",
     "traceback": [
      "\u001b[1;36m  File \u001b[1;32m\"<ipython-input-74-c00eab217a38>\"\u001b[1;36m, line \u001b[1;32m3\u001b[0m\n\u001b[1;33m    fact_3(name='vignesh', 10, 5)\u001b[0m\n\u001b[1;37m                          ^\u001b[0m\n\u001b[1;31mSyntaxError\u001b[0m\u001b[1;31m:\u001b[0m positional argument follows keyword argument\n"
     ]
    }
   ],
   "source": [
    "'''positional argument follows keyword argument'''\n",
    "print('''# positional argument follows keyword argument''')\n",
    "fact_3(name='vignesh', 10, 5)"
   ]
  },
  {
   "cell_type": "markdown",
   "metadata": {},
   "source": [
    "#### Variable + Default"
   ]
  },
  {
   "cell_type": "code",
   "execution_count": 120,
   "metadata": {
    "ExecuteTime": {
     "end_time": "2020-05-23T05:15:32.158026Z",
     "start_time": "2020-05-23T05:15:32.125425Z"
    }
   },
   "outputs": [
    {
     "name": "stdout",
     "output_type": "stream",
     "text": [
      "# A kind of Default argument\n",
      "()\n",
      "<class 'tuple'>\n",
      "\n",
      "(10, 5, 1, 100)\n",
      "<class 'tuple'>\n",
      "\n",
      "('vignesh', 10, 5, 1)\n",
      "<class 'tuple'>\n",
      "\n",
      "('vignesh', 10, 5)\n",
      "<class 'tuple'>\n",
      "\n",
      "# Keyword no need to be mentioned\n",
      "(10, 5, 1, 100)\n",
      "<class 'tuple'>\n"
     ]
    }
   ],
   "source": [
    "def fact_4(*args, name='vignesh'):\n",
    "    print (args)\n",
    "    print (type(args))\n",
    "\n",
    "'''A kind of Default argument'''\n",
    "print('''# A kind of Default argument''')\n",
    "fact_4(name='vignesh')\n",
    "print ()\n",
    "fact_4(10, 5, 1, 100, name='vignesh')\n",
    "print ()\n",
    "fact_4('vignesh', 10, 5, 1, name='vignesh')\n",
    "print ()\n",
    "fact_4('vignesh', 10, 5, name='vignesh')\n",
    "\n",
    "print()\n",
    "print('''# Keyword no need to be mentioned''')\n",
    "fact_4(10, 5, 1, 100)"
   ]
  },
  {
   "cell_type": "markdown",
   "metadata": {},
   "source": [
    "#### Default + Variable\n",
    "    * Default will become Positional"
   ]
  },
  {
   "cell_type": "code",
   "execution_count": 121,
   "metadata": {
    "ExecuteTime": {
     "end_time": "2020-05-23T05:15:43.437463Z",
     "start_time": "2020-05-23T05:15:43.423462Z"
    }
   },
   "outputs": [
    {
     "name": "stdout",
     "output_type": "stream",
     "text": [
      "# A kind of Default argument with Empty Value\n",
      "() vignesh\n",
      "\n",
      "() VIGNESH\n"
     ]
    }
   ],
   "source": [
    "def fact_5(name='vignesh', *args):\n",
    "    print (args, name)\n",
    "\n",
    "'''A kind of Default argument with Empty Value'''\n",
    "print('''# A kind of Default argument with Empty Value''')\n",
    "fact_5()\n",
    "\n",
    "print()\n",
    "fact_5(name='VIGNESH')"
   ]
  },
  {
   "cell_type": "code",
   "execution_count": 122,
   "metadata": {
    "ExecuteTime": {
     "end_time": "2020-05-23T05:15:49.329295Z",
     "start_time": "2020-05-23T05:15:49.302695Z"
    }
   },
   "outputs": [
    {
     "name": "stdout",
     "output_type": "stream",
     "text": [
      "# A kind of Positional argument\n",
      "(5, 1, 100) 10\n",
      "\n"
     ]
    }
   ],
   "source": [
    "'''A kind of Positional argument'''\n",
    "print('''# A kind of Positional argument''')\n",
    "fact_5(10, 5, 1, 100)\n",
    "print ()"
   ]
  },
  {
   "cell_type": "code",
   "execution_count": 101,
   "metadata": {
    "ExecuteTime": {
     "end_time": "2020-05-23T04:55:33.139543Z",
     "start_time": "2020-05-23T04:55:33.102043Z"
    }
   },
   "outputs": [
    {
     "ename": "SyntaxError",
     "evalue": "positional argument follows keyword argument (<ipython-input-101-0156aad47ffa>, line 1)",
     "output_type": "error",
     "traceback": [
      "\u001b[1;36m  File \u001b[1;32m\"<ipython-input-101-0156aad47ffa>\"\u001b[1;36m, line \u001b[1;32m1\u001b[0m\n\u001b[1;33m    fact_5(name='vignesh', 10, 5, 1, 100)\u001b[0m\n\u001b[1;37m                          ^\u001b[0m\n\u001b[1;31mSyntaxError\u001b[0m\u001b[1;31m:\u001b[0m positional argument follows keyword argument\n"
     ]
    }
   ],
   "source": [
    "fact_5(name='vignesh', 10, 5, 1, 100)\n",
    "print()"
   ]
  },
  {
   "cell_type": "code",
   "execution_count": 98,
   "metadata": {
    "ExecuteTime": {
     "end_time": "2020-05-23T04:54:04.912681Z",
     "start_time": "2020-05-23T04:54:04.882681Z"
    }
   },
   "outputs": [
    {
     "ename": "TypeError",
     "evalue": "fact_5() got multiple values for argument 'name'",
     "output_type": "error",
     "traceback": [
      "\u001b[1;31m---------------------------------------------------------------------------\u001b[0m",
      "\u001b[1;31mTypeError\u001b[0m                                 Traceback (most recent call last)",
      "\u001b[1;32m<ipython-input-98-57a46351fb39>\u001b[0m in \u001b[0;36m<module>\u001b[1;34m\u001b[0m\n\u001b[1;32m----> 1\u001b[1;33m \u001b[0mfact_5\u001b[0m\u001b[1;33m(\u001b[0m\u001b[1;36m10\u001b[0m\u001b[1;33m,\u001b[0m \u001b[1;36m5\u001b[0m\u001b[1;33m,\u001b[0m \u001b[1;36m1\u001b[0m\u001b[1;33m,\u001b[0m \u001b[1;36m100\u001b[0m\u001b[1;33m,\u001b[0m \u001b[0mname\u001b[0m\u001b[1;33m=\u001b[0m\u001b[1;34m'vignesh'\u001b[0m\u001b[1;33m)\u001b[0m\u001b[1;33m\u001b[0m\u001b[1;33m\u001b[0m\u001b[0m\n\u001b[0m\u001b[0;32m      2\u001b[0m \u001b[0mprint\u001b[0m\u001b[1;33m(\u001b[0m\u001b[1;33m)\u001b[0m\u001b[1;33m\u001b[0m\u001b[1;33m\u001b[0m\u001b[0m\n",
      "\u001b[1;31mTypeError\u001b[0m: fact_5() got multiple values for argument 'name'"
     ]
    }
   ],
   "source": [
    "fact_5(10, 5, 1, 100, name='vignesh')\n",
    "print()"
   ]
  },
  {
   "cell_type": "markdown",
   "metadata": {},
   "source": [
    "### Examples on Combinations"
   ]
  },
  {
   "cell_type": "code",
   "execution_count": 139,
   "metadata": {
    "ExecuteTime": {
     "end_time": "2020-05-23T05:29:01.403875Z",
     "start_time": "2020-05-23T05:29:01.387874Z"
    }
   },
   "outputs": [
    {
     "name": "stdout",
     "output_type": "stream",
     "text": [
      "# Case-1 : Positional\n",
      "10 20 30 40\n",
      "\n",
      "# Case-2 : Keyword\n",
      "1 3 10 100\n",
      "\n",
      "# Case-3 : Positional + Default\n",
      "3 5 10 50\n",
      "\n",
      "# Case-4 : Positional + Default + Keyword\n",
      "25 50 10 100\n"
     ]
    }
   ],
   "source": [
    "'''Positional + Default'''\n",
    "def func(arg1, arg2, arg3=10, arg4=50):\n",
    "    print (arg1, arg2, arg3, arg4)\n",
    "\n",
    "print('''# Case-1 : Positional''')\n",
    "func(10, 20, 30, 40)\n",
    "print()\n",
    "print('''# Case-2 : Keyword''')\n",
    "func(arg4=100, arg1=1, arg2=3)\n",
    "print()\n",
    "print('''# Case-3 : Positional + Default''')\n",
    "func(3, 5)\n",
    "print()\n",
    "print('''# Case-4 : Positional + Default + Keyword''')\n",
    "func(25, 50, arg4=100)"
   ]
  },
  {
   "cell_type": "code",
   "execution_count": 142,
   "metadata": {
    "ExecuteTime": {
     "end_time": "2020-05-23T05:30:52.622065Z",
     "start_time": "2020-05-23T05:30:52.605064Z"
    }
   },
   "outputs": [
    {
     "name": "stdout",
     "output_type": "stream",
     "text": [
      "# Case-5 : Error\n"
     ]
    },
    {
     "ename": "TypeError",
     "evalue": "func() missing 2 required positional arguments: 'arg1' and 'arg2'",
     "output_type": "error",
     "traceback": [
      "\u001b[1;31m---------------------------------------------------------------------------\u001b[0m",
      "\u001b[1;31mTypeError\u001b[0m                                 Traceback (most recent call last)",
      "\u001b[1;32m<ipython-input-142-c12565f03c8f>\u001b[0m in \u001b[0;36m<module>\u001b[1;34m\u001b[0m\n\u001b[0;32m      3\u001b[0m \u001b[1;33m\u001b[0m\u001b[0m\n\u001b[0;32m      4\u001b[0m \u001b[0mprint\u001b[0m\u001b[1;33m(\u001b[0m\u001b[1;34m'''# Case-5 : Error'''\u001b[0m\u001b[1;33m)\u001b[0m\u001b[1;33m\u001b[0m\u001b[1;33m\u001b[0m\u001b[0m\n\u001b[1;32m----> 5\u001b[1;33m \u001b[0mfunc\u001b[0m\u001b[1;33m(\u001b[0m\u001b[1;33m)\u001b[0m\u001b[1;33m\u001b[0m\u001b[1;33m\u001b[0m\u001b[0m\n\u001b[0m",
      "\u001b[1;31mTypeError\u001b[0m: func() missing 2 required positional arguments: 'arg1' and 'arg2'"
     ]
    }
   ],
   "source": [
    "def func(arg1, arg2, arg3=10, arg4=50):\n",
    "    print (arg1, arg2, arg3, arg4)\n",
    "\n",
    "print('''# Case-5 : Error''')\n",
    "func()"
   ]
  },
  {
   "cell_type": "code",
   "execution_count": 144,
   "metadata": {
    "ExecuteTime": {
     "end_time": "2020-05-23T05:31:06.898066Z",
     "start_time": "2020-05-23T05:31:06.874466Z"
    }
   },
   "outputs": [
    {
     "name": "stdout",
     "output_type": "stream",
     "text": [
      "# Case-6 : Error\n"
     ]
    },
    {
     "ename": "TypeError",
     "evalue": "func() missing 2 required positional arguments: 'arg1' and 'arg2'",
     "output_type": "error",
     "traceback": [
      "\u001b[1;31m---------------------------------------------------------------------------\u001b[0m",
      "\u001b[1;31mTypeError\u001b[0m                                 Traceback (most recent call last)",
      "\u001b[1;32m<ipython-input-144-7043fcb392a0>\u001b[0m in \u001b[0;36m<module>\u001b[1;34m\u001b[0m\n\u001b[0;32m      3\u001b[0m \u001b[1;33m\u001b[0m\u001b[0m\n\u001b[0;32m      4\u001b[0m \u001b[0mprint\u001b[0m\u001b[1;33m(\u001b[0m\u001b[1;34m'''# Case-6 : Error'''\u001b[0m\u001b[1;33m)\u001b[0m\u001b[1;33m\u001b[0m\u001b[1;33m\u001b[0m\u001b[0m\n\u001b[1;32m----> 5\u001b[1;33m \u001b[0mfunc\u001b[0m\u001b[1;33m(\u001b[0m\u001b[0marg3\u001b[0m\u001b[1;33m=\u001b[0m\u001b[1;36m100\u001b[0m\u001b[1;33m,\u001b[0m \u001b[0marg4\u001b[0m\u001b[1;33m=\u001b[0m\u001b[1;36m500\u001b[0m\u001b[1;33m)\u001b[0m\u001b[1;33m\u001b[0m\u001b[1;33m\u001b[0m\u001b[0m\n\u001b[0m",
      "\u001b[1;31mTypeError\u001b[0m: func() missing 2 required positional arguments: 'arg1' and 'arg2'"
     ]
    }
   ],
   "source": [
    "def func(arg1, arg2, arg3=10, arg4=50):\n",
    "    print (arg1, arg2, arg3, arg4)\n",
    "\n",
    "print('''# Case-6 : Error''')\n",
    "func(arg3=100, arg4=500)"
   ]
  },
  {
   "cell_type": "code",
   "execution_count": 145,
   "metadata": {
    "ExecuteTime": {
     "end_time": "2020-05-23T05:32:07.974196Z",
     "start_time": "2020-05-23T05:32:07.959196Z"
    }
   },
   "outputs": [
    {
     "ename": "SyntaxError",
     "evalue": "positional argument follows keyword argument (<ipython-input-145-42cd6d5e01bb>, line 5)",
     "output_type": "error",
     "traceback": [
      "\u001b[1;36m  File \u001b[1;32m\"<ipython-input-145-42cd6d5e01bb>\"\u001b[1;36m, line \u001b[1;32m5\u001b[0m\n\u001b[1;33m    func(arg3=100, arg4=500, 1, 2)\u001b[0m\n\u001b[1;37m                            ^\u001b[0m\n\u001b[1;31mSyntaxError\u001b[0m\u001b[1;31m:\u001b[0m positional argument follows keyword argument\n"
     ]
    }
   ],
   "source": [
    "def func(arg1, arg2, arg3=10, arg4=50):\n",
    "    print (arg1, arg2, arg3, arg4)\n",
    "\n",
    "print('''# Case-7 : Error : positional argument follows keyword argument''')\n",
    "func(arg3=100, arg4=500, 1, 2)"
   ]
  },
  {
   "cell_type": "code",
   "execution_count": 149,
   "metadata": {
    "ExecuteTime": {
     "end_time": "2020-05-23T05:33:09.447954Z",
     "start_time": "2020-05-23T05:33:09.432953Z"
    }
   },
   "outputs": [
    {
     "name": "stdout",
     "output_type": "stream",
     "text": [
      "# Case-8 : Error\n"
     ]
    },
    {
     "ename": "TypeError",
     "evalue": "func() got multiple values for argument 'arg2'",
     "output_type": "error",
     "traceback": [
      "\u001b[1;31m---------------------------------------------------------------------------\u001b[0m",
      "\u001b[1;31mTypeError\u001b[0m                                 Traceback (most recent call last)",
      "\u001b[1;32m<ipython-input-149-123f549db442>\u001b[0m in \u001b[0;36m<module>\u001b[1;34m\u001b[0m\n\u001b[0;32m      3\u001b[0m \u001b[1;33m\u001b[0m\u001b[0m\n\u001b[0;32m      4\u001b[0m \u001b[0mprint\u001b[0m\u001b[1;33m(\u001b[0m\u001b[1;34m'''# Case-8 : Error'''\u001b[0m\u001b[1;33m)\u001b[0m\u001b[1;33m\u001b[0m\u001b[1;33m\u001b[0m\u001b[0m\n\u001b[1;32m----> 5\u001b[1;33m \u001b[0mfunc\u001b[0m\u001b[1;33m(\u001b[0m\u001b[1;36m1\u001b[0m\u001b[1;33m,\u001b[0m \u001b[1;36m5\u001b[0m\u001b[1;33m,\u001b[0m \u001b[0marg2\u001b[0m\u001b[1;33m=\u001b[0m\u001b[1;36m100\u001b[0m\u001b[1;33m)\u001b[0m\u001b[1;33m\u001b[0m\u001b[1;33m\u001b[0m\u001b[0m\n\u001b[0m",
      "\u001b[1;31mTypeError\u001b[0m: func() got multiple values for argument 'arg2'"
     ]
    }
   ],
   "source": [
    "def func(arg1, arg2, arg3=10, arg4=50):\n",
    "    print (arg1, arg2, arg3, arg4)\n",
    "\n",
    "print('''# Case-8 : Error''')\n",
    "func(1, 5, arg2=100)"
   ]
  },
  {
   "cell_type": "code",
   "execution_count": 147,
   "metadata": {
    "ExecuteTime": {
     "end_time": "2020-05-23T05:32:58.285570Z",
     "start_time": "2020-05-23T05:32:58.269569Z"
    }
   },
   "outputs": [
    {
     "name": "stdout",
     "output_type": "stream",
     "text": [
      "# Case-9 : Error\n"
     ]
    },
    {
     "ename": "TypeError",
     "evalue": "func() got an unexpected keyword argument 'arg5'",
     "output_type": "error",
     "traceback": [
      "\u001b[1;31m---------------------------------------------------------------------------\u001b[0m",
      "\u001b[1;31mTypeError\u001b[0m                                 Traceback (most recent call last)",
      "\u001b[1;32m<ipython-input-147-d14bd5faa869>\u001b[0m in \u001b[0;36m<module>\u001b[1;34m\u001b[0m\n\u001b[0;32m      3\u001b[0m \u001b[1;33m\u001b[0m\u001b[0m\n\u001b[0;32m      4\u001b[0m \u001b[0mprint\u001b[0m\u001b[1;33m(\u001b[0m\u001b[1;34m'''# Case-9 : Error'''\u001b[0m\u001b[1;33m)\u001b[0m\u001b[1;33m\u001b[0m\u001b[1;33m\u001b[0m\u001b[0m\n\u001b[1;32m----> 5\u001b[1;33m \u001b[0mfunc\u001b[0m\u001b[1;33m(\u001b[0m\u001b[1;36m1\u001b[0m\u001b[1;33m,\u001b[0m \u001b[1;36m5\u001b[0m\u001b[1;33m,\u001b[0m \u001b[0marg3\u001b[0m\u001b[1;33m=\u001b[0m\u001b[1;36m100\u001b[0m\u001b[1;33m,\u001b[0m \u001b[0marg5\u001b[0m\u001b[1;33m=\u001b[0m\u001b[1;36m6\u001b[0m\u001b[1;33m)\u001b[0m\u001b[1;33m\u001b[0m\u001b[1;33m\u001b[0m\u001b[0m\n\u001b[0m",
      "\u001b[1;31mTypeError\u001b[0m: func() got an unexpected keyword argument 'arg5'"
     ]
    }
   ],
   "source": [
    "def func(arg1, arg2, arg3=10, arg4=50):\n",
    "    print (arg1, arg2, arg3, arg4)\n",
    "\n",
    "print('''# Case-9 : Error''')\n",
    "func(1, 5, arg3=100, arg5=6)"
   ]
  },
  {
   "cell_type": "markdown",
   "metadata": {},
   "source": [
    "# User Defined Functions\n",
    "## Recursive Functions\n",
    "`Recursion has something to do with infinity.`\n",
    "\n",
    "`Factorial : n! = n * (n-1)!,  if n > 1  and 0! = 1`<br>\n",
    "`Fibonacci : Fn = Fn-1 + Fn-2, if F0 = 0 and F1 = 1`\n",
    "\n",
    "\n",
    "https://www.python-course.eu/python3_recursive_functions.php<br>"
   ]
  },
  {
   "cell_type": "markdown",
   "metadata": {},
   "source": [
    "### Factorial"
   ]
  },
  {
   "cell_type": "code",
   "execution_count": 4,
   "metadata": {
    "ExecuteTime": {
     "end_time": "2020-06-21T08:19:13.739656Z",
     "start_time": "2020-06-21T08:19:13.727655Z"
    }
   },
   "outputs": [
    {
     "data": {
      "text/plain": [
       "120"
      ]
     },
     "execution_count": 4,
     "metadata": {},
     "output_type": "execute_result"
    }
   ],
   "source": [
    "def factorial(n):\n",
    "    if n == 1:\n",
    "        return 1\n",
    "    else:\n",
    "        return n * factorial(n-1)\n",
    "\n",
    "factorial(5)"
   ]
  },
  {
   "cell_type": "code",
   "execution_count": 15,
   "metadata": {
    "ExecuteTime": {
     "end_time": "2020-06-21T08:27:30.624076Z",
     "start_time": "2020-06-21T08:27:30.601075Z"
    }
   },
   "outputs": [
    {
     "name": "stdout",
     "output_type": "stream",
     "text": [
      "factorial has been called with n: 5\n",
      "factorial has been called with n: 4\n",
      "factorial has been called with n: 3\n",
      "factorial has been called with n: 2\n",
      "factorial has been called with n: 1\n",
      "\n",
      "intermediate result for 1 * factorial(0): 1\n",
      "intermediate result for 2 * factorial(1): 2\n",
      "intermediate result for 3 * factorial(2): 6\n",
      "intermediate result for 4 * factorial(3): 24\n",
      "intermediate result for 5 * factorial(4): 120\n",
      "\n",
      "Complete Result for factorial(5): 120\n"
     ]
    }
   ],
   "source": [
    "n=5\n",
    "\n",
    "def factorial(n):\n",
    "    print(\"factorial has been called with n: {}\".format(n))\n",
    "    \n",
    "    if n == 1:\n",
    "        print(\"\\nintermediate result for {} * factorial({}): {}\".format(n,n-1,1))\n",
    "        return 1\n",
    "    else:\n",
    "        res = n * factorial(n-1)\n",
    "        print(\"intermediate result for {} * factorial({}): {}\".format(n,n-1,res))\n",
    "        return res\n",
    "\n",
    "result = factorial(n)\n",
    "print(\"\\nComplete Result for factorial({}): {}\".format(n,result))"
   ]
  },
  {
   "cell_type": "markdown",
   "metadata": {},
   "source": [
    "### Fibonacci"
   ]
  },
  {
   "cell_type": "code",
   "execution_count": 17,
   "metadata": {
    "ExecuteTime": {
     "end_time": "2020-06-21T08:32:55.572662Z",
     "start_time": "2020-06-21T08:32:55.552661Z"
    }
   },
   "outputs": [
    {
     "data": {
      "text/plain": [
       "55"
      ]
     },
     "execution_count": 17,
     "metadata": {},
     "output_type": "execute_result"
    }
   ],
   "source": [
    "def fib(n):\n",
    "    if n == 0:\n",
    "        return 0\n",
    "    elif n == 1:\n",
    "        return 1\n",
    "    else:\n",
    "        return fib(n-1) + fib(n-2)\n",
    "\n",
    "fib(10)"
   ]
  },
  {
   "cell_type": "code",
   "execution_count": 20,
   "metadata": {
    "ExecuteTime": {
     "end_time": "2020-06-21T08:36:56.976469Z",
     "start_time": "2020-06-21T08:36:56.958468Z"
    }
   },
   "outputs": [
    {
     "name": "stdout",
     "output_type": "stream",
     "text": [
      "0 1\n",
      "1 1\n",
      "1 2\n",
      "2 3\n",
      "3 5\n",
      "5 8\n",
      "8 13\n",
      "13 21\n",
      "21 34\n"
     ]
    },
    {
     "data": {
      "text/plain": [
       "55"
      ]
     },
     "execution_count": 20,
     "metadata": {},
     "output_type": "execute_result"
    }
   ],
   "source": [
    "def fibi(n):\n",
    "    old, new = 0, 1\n",
    "    if n == 0:\n",
    "        return 0\n",
    "    for i in range(n-1):\n",
    "        print(old, new)\n",
    "        old, new = new, old + new\n",
    "    return new\n",
    "fibi(10)"
   ]
  },
  {
   "cell_type": "markdown",
   "metadata": {},
   "source": [
    "## Anonymous Function\n",
    "\n",
    "**1) But why doesn't the program print the string we pass?<br>**\n",
    "**2) This is because the lambda itself returns a function object.<br>**\n",
    "**3) The lambda is not being called by the print function but simply returning the function object and the memory location where it is stored.<br>**\n",
    "\n",
    "`This ability of lambdas to be invoked immediately, Allows you to use them inside functions like map() and reduce().`<br>\n",
    "`lambda in filter('A function','A sequence')`<br>\n",
    "\n",
    "`lambda input:return exp`\n",
    "\n",
    "\n",
    "Ref: https://www.guru99.com/python-lambda-function.html"
   ]
  },
  {
   "cell_type": "markdown",
   "metadata": {},
   "source": [
    "### Lambda Basics"
   ]
  },
  {
   "cell_type": "code",
   "execution_count": 21,
   "metadata": {
    "ExecuteTime": {
     "end_time": "2020-06-21T13:17:10.585153Z",
     "start_time": "2020-06-21T13:17:10.527149Z"
    }
   },
   "outputs": [
    {
     "name": "stdout",
     "output_type": "stream",
     "text": [
      "4\n",
      "400\n",
      "144\n"
     ]
    }
   ],
   "source": [
    "res = lambda n:n*n\n",
    "\n",
    "print(res(2))\n",
    "print(res(20))\n",
    "print(res(12))"
   ]
  },
  {
   "cell_type": "code",
   "execution_count": 22,
   "metadata": {
    "ExecuteTime": {
     "end_time": "2020-06-21T13:17:53.006579Z",
     "start_time": "2020-06-21T13:17:52.992578Z"
    }
   },
   "outputs": [
    {
     "name": "stdout",
     "output_type": "stream",
     "text": [
      "6\n",
      "50\n",
      "20\n"
     ]
    }
   ],
   "source": [
    "res = lambda a,b:a+b\n",
    "\n",
    "print(res(2,4))\n",
    "print(res(20,30))\n",
    "print(res(12,8))"
   ]
  },
  {
   "cell_type": "code",
   "execution_count": 23,
   "metadata": {
    "ExecuteTime": {
     "end_time": "2020-06-21T13:19:56.297631Z",
     "start_time": "2020-06-21T13:19:56.277630Z"
    }
   },
   "outputs": [
    {
     "name": "stdout",
     "output_type": "stream",
     "text": [
      "4\n",
      "30\n",
      "12\n"
     ]
    }
   ],
   "source": [
    "res = lambda a,b:a if a>b else b\n",
    "\n",
    "print(res(2,4))\n",
    "print(res(20,30))\n",
    "print(res(12,8))"
   ]
  },
  {
   "cell_type": "markdown",
   "metadata": {},
   "source": [
    "### Lambdas in Print Function"
   ]
  },
  {
   "cell_type": "code",
   "execution_count": 30,
   "metadata": {
    "ExecuteTime": {
     "end_time": "2020-06-21T13:59:13.842475Z",
     "start_time": "2020-06-21T13:59:13.832474Z"
    }
   },
   "outputs": [
    {
     "name": "stdout",
     "output_type": "stream",
     "text": [
      "some kind of a useless lambda\n"
     ]
    }
   ],
   "source": [
    "x=\"some kind of a useless lambda\"\n",
    "(lambda x : print(x))(x)"
   ]
  },
  {
   "cell_type": "code",
   "execution_count": 46,
   "metadata": {
    "ExecuteTime": {
     "end_time": "2020-06-21T14:10:14.899285Z",
     "start_time": "2020-06-21T14:10:14.879284Z"
    }
   },
   "outputs": [
    {
     "name": "stdout",
     "output_type": "stream",
     "text": [
      "printer 1 REGULAR CALL\n",
      "printer 2 REGULAR CALL \n",
      "\n",
      "printer 1 LAMBDA CALL\n",
      "printer 2 LAMBDA CALL\n"
     ]
    }
   ],
   "source": [
    "#A REGULAR FUNCTION\n",
    "def guru( funct, *args ):\n",
    "    funct( *args )\n",
    "def printer_one( arg ):\n",
    "    return print (arg)\n",
    "def printer_two( arg ):\n",
    "    print(arg)\n",
    "\n",
    "#CALL A REGULAR FUNCTION \n",
    "guru( printer_one, 'printer 1 REGULAR CALL' )\n",
    "guru( printer_two, 'printer 2 REGULAR CALL \\n' )\n",
    "\n",
    "#CALL A REGULAR FUNCTION THRU A LAMBDA\n",
    "guru(lambda: printer_one('printer 1 LAMBDA CALL'))\n",
    "guru(lambda: printer_two('printer 2 LAMBDA CALL'))"
   ]
  },
  {
   "cell_type": "markdown",
   "metadata": {},
   "source": [
    "### Filter\n",
    "**`Requires True or False for every element in data`**<br>\n",
    "**`Passing Function as Argument`**\n",
    "\n",
    "**Boolean Condition for every element**"
   ]
  },
  {
   "cell_type": "code",
   "execution_count": 57,
   "metadata": {
    "ExecuteTime": {
     "end_time": "2020-06-21T14:35:31.871051Z",
     "start_time": "2020-06-21T14:35:31.824048Z"
    }
   },
   "outputs": [
    {
     "name": "stdout",
     "output_type": "stream",
     "text": [
      "[10, 8, 7, 5, 11]\n"
     ]
    }
   ],
   "source": [
    "'''\n",
    "filter(Function, data_to_filter)\n",
    "'''\n",
    "\n",
    "sequences       = [10,2,8,7,5,4,3,11,0, 1]\n",
    "\n",
    "def ismorethanFour(x):\n",
    "    if x > 4:\n",
    "        return True\n",
    "    else:\n",
    "        return False\n",
    "\n",
    "print(list(filter(ismorethanFour, sequences)))"
   ]
  },
  {
   "cell_type": "code",
   "execution_count": 52,
   "metadata": {
    "ExecuteTime": {
     "end_time": "2020-06-21T14:22:08.901124Z",
     "start_time": "2020-06-21T14:22:08.883123Z"
    }
   },
   "outputs": [
    {
     "name": "stdout",
     "output_type": "stream",
     "text": [
      "[10, 8, 7, 5, 11]\n"
     ]
    }
   ],
   "source": [
    "sequences       = [10,2,8,7,5,4,3,11,0, 1]\n",
    "\n",
    "print(list(filter(lambda x: x > 4, sequences)))"
   ]
  },
  {
   "cell_type": "markdown",
   "metadata": {},
   "source": [
    "### Map\n",
    "**`Requires to apply an operation to every element in a sequence`**<br>\n",
    "**`Passing Function as Argument`**\n",
    "\n",
    "**Generate some value for every element by some function**"
   ]
  },
  {
   "cell_type": "code",
   "execution_count": 54,
   "metadata": {
    "ExecuteTime": {
     "end_time": "2020-06-21T14:30:28.649708Z",
     "start_time": "2020-06-21T14:30:28.605705Z"
    }
   },
   "outputs": [
    {
     "name": "stdout",
     "output_type": "stream",
     "text": [
      "[100, 4, 64, 49, 25, 16, 9, 121, 0, 1]\n"
     ]
    }
   ],
   "source": [
    "sequences       = [10,2,8,7,5,4,3,11,0, 1]\n",
    "\n",
    "print(list(map(lambda x: x*x, sequences)))"
   ]
  },
  {
   "cell_type": "code",
   "execution_count": 55,
   "metadata": {
    "ExecuteTime": {
     "end_time": "2020-06-21T14:34:21.231011Z",
     "start_time": "2020-06-21T14:34:21.194008Z"
    }
   },
   "outputs": [
    {
     "name": "stdout",
     "output_type": "stream",
     "text": [
      "[40, 6, 88, 0, 5]\n"
     ]
    }
   ],
   "source": [
    "sequence_1       = [10,2,8,7,5]\n",
    "sequence_2       = [4,3,11,0,1]\n",
    "\n",
    "print(list(map(lambda x,y: x*y, sequence_1, sequence_2)))"
   ]
  },
  {
   "cell_type": "markdown",
   "metadata": {},
   "source": [
    "### Reduce\n",
    "**`Reducing the number of Arguments by doing some operation`**<br>\n",
    "**`Passing Function as Argument`**<br><br>\n",
    "Step 1) Perform the defined operation on the first 2 elements of the sequence.<br>\n",
    "Step 2) Save this result<br>\n",
    "Step 3) Perform the operation with the saved result and the next element in the sequence.<br>\n",
    "Step 4) Repeat until no more elements are left.<br>"
   ]
  },
  {
   "cell_type": "code",
   "execution_count": 58,
   "metadata": {
    "ExecuteTime": {
     "end_time": "2020-06-21T14:58:57.448445Z",
     "start_time": "2020-06-21T14:58:57.433445Z"
    }
   },
   "outputs": [
    {
     "name": "stdout",
     "output_type": "stream",
     "text": [
      "120\n"
     ]
    }
   ],
   "source": [
    "from functools import reduce\n",
    "\n",
    "sequences = [1,2,3,4,5]\n",
    "print(reduce(lambda x, y: x*y, sequences))"
   ]
  },
  {
   "cell_type": "markdown",
   "metadata": {},
   "source": [
    "## Nested Functions"
   ]
  },
  {
   "cell_type": "code",
   "execution_count": 71,
   "metadata": {
    "ExecuteTime": {
     "end_time": "2020-06-21T15:11:58.668129Z",
     "start_time": "2020-06-21T15:11:58.655128Z"
    }
   },
   "outputs": [
    {
     "name": "stdout",
     "output_type": "stream",
     "text": [
      "Outer Function Started\n"
     ]
    }
   ],
   "source": [
    "def outer():\n",
    "    print('Outer Function Started')\n",
    "    \n",
    "    def inner():\n",
    "        print('Inner Function executed')\n",
    "    return inner\n",
    "\n",
    "f1 = outer() # Function Call"
   ]
  },
  {
   "cell_type": "code",
   "execution_count": 72,
   "metadata": {
    "ExecuteTime": {
     "end_time": "2020-06-21T15:12:01.509291Z",
     "start_time": "2020-06-21T15:12:01.504291Z"
    }
   },
   "outputs": [
    {
     "name": "stdout",
     "output_type": "stream",
     "text": [
      "Inner Function executed\n"
     ]
    }
   ],
   "source": [
    "f1()"
   ]
  },
  {
   "cell_type": "markdown",
   "metadata": {},
   "source": [
    "## Function Aliasing/Call"
   ]
  },
  {
   "cell_type": "code",
   "execution_count": 20,
   "metadata": {
    "ExecuteTime": {
     "end_time": "2020-06-28T03:58:48.197089Z",
     "start_time": "2020-06-28T03:58:48.183088Z"
    }
   },
   "outputs": [
    {
     "name": "stdout",
     "output_type": "stream",
     "text": [
      "Outer Function Started\n"
     ]
    }
   ],
   "source": [
    "def outer():\n",
    "    print('Outer Function Started')\n",
    "    \n",
    "    def inner():\n",
    "        print('Inner Function executed')\n",
    "    return inner\n",
    "\n",
    "f1 = outer() # Function Call\n",
    "f2 = outer  # Function Aliasing"
   ]
  },
  {
   "cell_type": "code",
   "execution_count": 19,
   "metadata": {
    "ExecuteTime": {
     "end_time": "2020-06-28T03:57:32.494759Z",
     "start_time": "2020-06-28T03:57:32.486759Z"
    }
   },
   "outputs": [
    {
     "name": "stdout",
     "output_type": "stream",
     "text": [
      "Outer Function Started\n",
      "Inner Function executed\n"
     ]
    }
   ],
   "source": [
    "def outer_1():\n",
    "    print('Outer Function Started')\n",
    "    \n",
    "    def inner():\n",
    "        print('Inner Function executed')\n",
    "    return inner()\n",
    "\n",
    "func = outer_1() # Function Call"
   ]
  },
  {
   "cell_type": "markdown",
   "metadata": {},
   "source": [
    "## Closures & First Class Function"
   ]
  },
  {
   "cell_type": "markdown",
   "metadata": {},
   "source": [
    "## Decorators\n",
    "**A decorator takes in a function, adds some functionality and returns it**<br>\n",
    "**This is also called `metaprogramming` because a part of the program tries to modify another part of the program at compile time.**\n",
    "\n",
    "**Decorator Function shld be defined before**"
   ]
  },
  {
   "cell_type": "code",
   "execution_count": 2,
   "metadata": {
    "ExecuteTime": {
     "end_time": "2020-06-22T05:03:31.917601Z",
     "start_time": "2020-06-22T05:03:31.898600Z"
    }
   },
   "outputs": [
    {
     "name": "stdout",
     "output_type": "stream",
     "text": [
      "Hello Vignesh, Good Morning !!!\n",
      "Hello Vicky, Good Morning !!!\n",
      "Hello Praga, Good Morning !!!\n"
     ]
    }
   ],
   "source": [
    "def wish(name):\n",
    "    print('Hello {}, Good Morning !!!'.format(name))\n",
    "\n",
    "wish('Vignesh')\n",
    "wish('Vicky')\n",
    "wish('Praga')"
   ]
  },
  {
   "cell_type": "markdown",
   "metadata": {},
   "source": [
    "### Function Decorator\n",
    "\n",
    "`Steps : `<br>\n",
    "`1) wish_deco(func) => func : wish`<br>\n",
    "`2) Inside Decorator, if we call base funtion - it will execute`"
   ]
  },
  {
   "cell_type": "code",
   "execution_count": 22,
   "metadata": {
    "ExecuteTime": {
     "end_time": "2020-06-28T04:21:21.676671Z",
     "start_time": "2020-06-28T04:21:21.660670Z"
    }
   },
   "outputs": [
    {
     "name": "stdout",
     "output_type": "stream",
     "text": [
      "Hello Vignesh , Good Morning !!!\n",
      "Hello Vicky , Good Morning !!!\n",
      "Hello Praga , Very Good Morning !!!\n"
     ]
    }
   ],
   "source": [
    "def wish_deco(func):\n",
    "    def inner(name):\n",
    "        if name == 'Praga':\n",
    "            print('Hello {} , Very Good Morning !!!'.format(name))\n",
    "        else:\n",
    "            print('Hello {} , Good Morning !!!'.format(name))\n",
    "    return inner\n",
    "\n",
    "@wish_deco\n",
    "def wish(name):\n",
    "    print('Hello {}, Good Morning !!!'.format(name))\n",
    "\n",
    "wish('Vignesh')\n",
    "wish('Vicky')\n",
    "wish('Praga')"
   ]
  },
  {
   "cell_type": "code",
   "execution_count": 23,
   "metadata": {
    "ExecuteTime": {
     "end_time": "2020-06-28T04:21:40.671757Z",
     "start_time": "2020-06-28T04:21:40.651756Z"
    }
   },
   "outputs": [
    {
     "name": "stdout",
     "output_type": "stream",
     "text": [
      "Hello Vignesh, Good Morning !!!\n",
      "Hello Vicky, Good Morning !!!\n",
      "Hello Praga , Very Good Morning !!!\n"
     ]
    }
   ],
   "source": [
    "def wish_deco(func):\n",
    "    def inner(name):\n",
    "        if name == 'Praga':\n",
    "            print('Hello {} , Very Good Morning !!!'.format(name))\n",
    "        else:\n",
    "            func(name)\n",
    "    return inner\n",
    "\n",
    "@wish_deco\n",
    "def wish(name):\n",
    "    print('Hello {}, Good Morning !!!'.format(name))\n",
    "\n",
    "wish('Vignesh')\n",
    "wish('Vicky')\n",
    "wish('Praga')"
   ]
  },
  {
   "cell_type": "code",
   "execution_count": 1,
   "metadata": {
    "ExecuteTime": {
     "end_time": "2020-08-18T03:08:49.588851Z",
     "start_time": "2020-08-18T03:08:49.515847Z"
    }
   },
   "outputs": [
    {
     "name": "stdout",
     "output_type": "stream",
     "text": [
      "Hello Vignesh, Good Morning !!!\n",
      "Hello Vicky, Good Morning !!!\n",
      "Hello Praga, Good Morning !!!\n",
      "\n",
      "Hello Vignesh, Good Morning !!!\n",
      "Hello Vicky, Good Morning !!!\n",
      "Hello Praga, Very Good Morning !!! - wish\n"
     ]
    }
   ],
   "source": [
    "def wish_deco(func):\n",
    "    def inner(name):\n",
    "        if name == 'Praga':\n",
    "            print('Hello {}, Very Good Morning !!! - {}'.format(name, func.__name__))\n",
    "        else:\n",
    "            func(name)\n",
    "    return inner\n",
    "\n",
    "def wish(name):\n",
    "    print('Hello {}, Good Morning !!!'.format(name))\n",
    "\n",
    "wish_dec_func = wish_deco(wish)\n",
    "    \n",
    "wish('Vignesh')\n",
    "wish('Vicky')\n",
    "wish('Praga')\n",
    "print()\n",
    "wish_dec_func('Vignesh')\n",
    "wish_dec_func('Vicky')\n",
    "wish_dec_func('Praga')"
   ]
  },
  {
   "cell_type": "code",
   "execution_count": 5,
   "metadata": {
    "ExecuteTime": {
     "end_time": "2020-08-18T03:32:49.924510Z",
     "start_time": "2020-08-18T03:32:49.840505Z"
    }
   },
   "outputs": [
    {
     "name": "stdout",
     "output_type": "stream",
     "text": [
      "1.0\n",
      "How can you divide 10 with : 0\n"
     ]
    }
   ],
   "source": [
    "def smartDivision(func):\n",
    "    def inner(a, b):\n",
    "        if b==0:\n",
    "            return 'How can you divide {} with : {}'.format(a,b)\n",
    "        else:\n",
    "            return func(a, b)\n",
    "    return inner\n",
    "\n",
    "@smartDivision\n",
    "def division(a, b):\n",
    "    return a/b\n",
    "\n",
    "\n",
    "print(division(10,10))\n",
    "print(division(10,0))"
   ]
  },
  {
   "cell_type": "code",
   "execution_count": 56,
   "metadata": {
    "ExecuteTime": {
     "end_time": "2020-08-18T08:53:46.204454Z",
     "start_time": "2020-08-18T08:53:46.175452Z"
    }
   },
   "outputs": [
    {
     "name": "stdout",
     "output_type": "stream",
     "text": [
      "Hello Vignesh, Good Morning !!!\n",
      "Hello Vicky, Good Morning !!!\n",
      "Hello Praga, Very Good Morning !!! - wish\n",
      "\n",
      "Hello Vignesh, Good Morning !!!\n",
      "Hello Vicky, Good Morning !!!\n",
      "Hello Praga, Very Good Morning !!! - wish\n",
      "\n",
      "Hello Vignesh, Good Morning !!!\n",
      "Hello Vicky, Good Morning !!!\n",
      "Hello Praga, Very Good Morning !!! - wish\n",
      "\n",
      "Hello Dude, Good Morning !!!\n"
     ]
    }
   ],
   "source": [
    "def wish_deco(func):\n",
    "    def inner(*args, **kwargs):\n",
    "        if args or kwargs:\n",
    "            if args:\n",
    "                if args[0] == 'Praga':\n",
    "                    print('Hello {}, Very Good Morning !!! - {}'.format(args[0], func.__name__))\n",
    "                else:\n",
    "                    func(*args)\n",
    "            if kwargs:\n",
    "                if kwargs['name'] == 'Praga':\n",
    "                    print('Hello {}, Very Good Morning !!! - {}'.format(kwargs['name'], func.__name__))\n",
    "                else:\n",
    "                    func(**kwargs)\n",
    "        else:\n",
    "            func()\n",
    "    return inner\n",
    "\n",
    "@wish_deco\n",
    "def wish(name='Dude'):\n",
    "    print('Hello {}, Good Morning !!!'.format(name))\n",
    "\n",
    "    \n",
    "wish('Vignesh')\n",
    "wish('Vicky')\n",
    "wish('Praga')\n",
    "print()\n",
    "wish_dec_func('Vignesh')\n",
    "wish_dec_func('Vicky')\n",
    "wish_dec_func('Praga')\n",
    "print()\n",
    "wish(name='Vignesh')\n",
    "wish(name='Vicky')\n",
    "wish(name='Praga')\n",
    "print()\n",
    "wish()"
   ]
  },
  {
   "cell_type": "markdown",
   "metadata": {},
   "source": [
    "### Class vs Function Decorators"
   ]
  },
  {
   "cell_type": "code",
   "execution_count": 54,
   "metadata": {
    "ExecuteTime": {
     "end_time": "2020-08-18T08:51:39.085390Z",
     "start_time": "2020-08-18T08:51:39.068389Z"
    }
   },
   "outputs": [
    {
     "name": "stdout",
     "output_type": "stream",
     "text": [
      "Assigning original_function : display\n",
      "Assigning original_function : display_info\n"
     ]
    }
   ],
   "source": [
    "class decorator_class(object):\n",
    "\n",
    "    def __init__(self, original_function):\n",
    "        print('Assigning original_function : {}'.format(original_function.__name__))\n",
    "        self.original_function = original_function\n",
    "\n",
    "    def __call__(self, *args, **kwargs):\n",
    "        print('call method before {}'.format(self.original_function.__name__))\n",
    "        self.original_function(*args, **kwargs)\n",
    "\n",
    "@decorator_class\n",
    "def display():\n",
    "    print('Display Function')\n",
    "\n",
    "@decorator_class\n",
    "def display_info(name, age):\n",
    "    print('Display Function : {} : {}'.format(name, age))"
   ]
  },
  {
   "cell_type": "code",
   "execution_count": 58,
   "metadata": {
    "ExecuteTime": {
     "end_time": "2020-08-18T08:58:44.905530Z",
     "start_time": "2020-08-18T08:58:44.889529Z"
    }
   },
   "outputs": [
    {
     "name": "stdout",
     "output_type": "stream",
     "text": [
      "\n",
      "Call Method Before Function : display\n",
      "Display Function\n",
      "\n",
      "Call Method Before Function : display_info\n",
      "Display Info Function : Vignesh : 20\n"
     ]
    }
   ],
   "source": [
    "class decorator_class(object):\n",
    "    def __init__(self, original_function):\n",
    "        #print('Assigning original_function : {}'.format(original_function.__name__))\n",
    "        self.original_function = original_function\n",
    "\n",
    "    def __call__(self, *args, **kwargs):\n",
    "        print('\\nCall Method Before Function : {}'.format(self.original_function.__name__))\n",
    "        return self.original_function(*args, **kwargs)\n",
    "\n",
    "@decorator_class\n",
    "def display():\n",
    "    print('Display Function')\n",
    "\n",
    "@decorator_class\n",
    "def display_info(name, age):\n",
    "    print('Display Info Function : {} : {}'.format(name, age))\n",
    "\n",
    "display()\n",
    "display_info('Vignesh', 20)"
   ]
  },
  {
   "cell_type": "markdown",
   "metadata": {},
   "source": [
    "### Chaining of Decorator\n",
    "`Order : Top to Bottom`<br>\n",
    "`func  : Top to Bottom => func is defined (func = 2nd decorator else base))`"
   ]
  },
  {
   "cell_type": "code",
   "execution_count": 18,
   "metadata": {
    "ExecuteTime": {
     "end_time": "2020-07-11T08:02:53.429180Z",
     "start_time": "2020-07-11T08:02:53.374177Z"
    }
   },
   "outputs": [
    {
     "name": "stdout",
     "output_type": "stream",
     "text": [
      "Display Info Function : Vignesh : 20\n"
     ]
    }
   ],
   "source": [
    "def my_logger(orig_func):\n",
    "    import logging\n",
    "    logging.basicConfig(filename='{}.log'.format(orig_func.__name__), level=logging.INFO)\n",
    "\n",
    "    def wrapper(*args, **kwargs):\n",
    "        logging.info(\n",
    "            'Ran with args: {}, and kwargs: {}'.format(args, kwargs))\n",
    "        return orig_func(*args, **kwargs)\n",
    "\n",
    "    return wrapper\n",
    "\n",
    "@my_logger\n",
    "def display_info(name, age):\n",
    "    print('Display Info Function : {} : {}'.format(name, age))\n",
    "\n",
    "display_info('Vignesh', 20)"
   ]
  },
  {
   "cell_type": "code",
   "execution_count": 22,
   "metadata": {
    "ExecuteTime": {
     "end_time": "2020-07-11T08:10:53.458636Z",
     "start_time": "2020-07-11T08:10:52.430577Z"
    }
   },
   "outputs": [
    {
     "name": "stdout",
     "output_type": "stream",
     "text": [
      "Display Info Function : Vignesh : 20\n",
      "display_info ran in: 1.0000569820404053 sec\n"
     ]
    }
   ],
   "source": [
    "def my_logger(orig_func):\n",
    "    import logging\n",
    "    logging.basicConfig(filename='{}.log'.format(orig_func.__name__), level=logging.INFO)\n",
    "\n",
    "    def wrapper(*args, **kwargs):\n",
    "        logging.info(\n",
    "            'Ran with args: {}, and kwargs: {}'.format(args, kwargs))\n",
    "        return orig_func(*args, **kwargs)\n",
    "\n",
    "    return wrapper\n",
    "\n",
    "def my_timer(orig_func):\n",
    "    import time\n",
    "\n",
    "    def wrapper(*args, **kwargs):\n",
    "        t1     = time.time()\n",
    "        result = orig_func(*args, **kwargs)\n",
    "        t2     = time.time() - t1\n",
    "        print('{} ran in: {} sec'.format(orig_func.__name__, t2))\n",
    "        return result\n",
    "\n",
    "    return wrapper\n",
    "\n",
    "import time\n",
    "\n",
    "@my_timer\n",
    "def display_info(name, age):\n",
    "    time.sleep(1)\n",
    "    print('Display Info Function : {} : {}'.format(name, age))\n",
    "\n",
    "display_info('Vignesh', 20)"
   ]
  },
  {
   "cell_type": "code",
   "execution_count": 63,
   "metadata": {
    "ExecuteTime": {
     "end_time": "2020-08-18T09:27:47.910219Z",
     "start_time": "2020-08-18T09:27:46.888160Z"
    }
   },
   "outputs": [
    {
     "name": "stdout",
     "output_type": "stream",
     "text": [
      "wrapper_1\n",
      "Display Info Function : Vignesh : 20\n",
      "wrapper_1 ran in: 1.0000574588775635 sec\n"
     ]
    }
   ],
   "source": [
    "def my_logger(orig_func):\n",
    "    import logging\n",
    "    logging.basicConfig(filename='{}.log'.format(orig_func.__name__), level=logging.INFO)\n",
    "\n",
    "    def wrapper_1(*args, **kwargs):\n",
    "        logging.info(\n",
    "            'Ran with args: {}, and kwargs: {}'.format(args, kwargs))\n",
    "        return orig_func(*args, **kwargs)\n",
    "\n",
    "    return wrapper_1\n",
    "\n",
    "def my_timer(orig_func):\n",
    "    import time\n",
    "    print(orig_func.__name__)\n",
    "    \n",
    "    def wrapper(*args, **kwargs):\n",
    "        t1     = time.time()\n",
    "        result = orig_func(*args, **kwargs)\n",
    "        t2     = time.time() - t1\n",
    "        print('{} ran in: {} sec'.format(orig_func.__name__, t2))\n",
    "        return result\n",
    "\n",
    "    return wrapper\n",
    "\n",
    "import time\n",
    "\n",
    "\n",
    "@my_timer\n",
    "@my_logger\n",
    "def display_info(name, age):\n",
    "    time.sleep(1)\n",
    "    print('Display Info Function : {} : {}'.format(name, age))\n",
    "\n",
    "display_info('Vignesh', 20)"
   ]
  },
  {
   "cell_type": "code",
   "execution_count": 65,
   "metadata": {
    "ExecuteTime": {
     "end_time": "2020-08-18T09:29:32.542203Z",
     "start_time": "2020-08-18T09:29:31.514144Z"
    }
   },
   "outputs": [
    {
     "name": "stdout",
     "output_type": "stream",
     "text": [
      "display_info\n",
      "Display Info Function : Vignesh : 20\n",
      "display_info ran in: 1.0000572204589844 sec\n"
     ]
    }
   ],
   "source": [
    "def my_logger(orig_func):\n",
    "    import logging\n",
    "    logging.basicConfig(filename='{}.log'.format(orig_func.__name__), level=logging.INFO)\n",
    "\n",
    "    def wrapper_1(*args, **kwargs):\n",
    "        logging.info(\n",
    "            'Ran with args: {}, and kwargs: {}'.format(args, kwargs))\n",
    "        return orig_func(*args, **kwargs)\n",
    "\n",
    "    return wrapper_1\n",
    "\n",
    "def my_timer(orig_func):\n",
    "    import time\n",
    "    print(orig_func.__name__)\n",
    "\n",
    "    def wrapper(*args, **kwargs):\n",
    "        t1     = time.time()\n",
    "        result = orig_func(*args, **kwargs)\n",
    "        t2     = time.time() - t1\n",
    "        print('{} ran in: {} sec'.format(orig_func.__name__, t2))\n",
    "        return result\n",
    "\n",
    "    return wrapper\n",
    "\n",
    "import time\n",
    "\n",
    "@my_logger\n",
    "@my_timer\n",
    "def display_info(name, age):\n",
    "    time.sleep(1)\n",
    "    print('Display Info Function : {} : {}'.format(name, age))\n",
    "\n",
    "display_info('Vignesh', 20)"
   ]
  },
  {
   "cell_type": "code",
   "execution_count": 66,
   "metadata": {
    "ExecuteTime": {
     "end_time": "2020-08-18T09:30:00.279790Z",
     "start_time": "2020-08-18T09:29:59.257731Z"
    }
   },
   "outputs": [
    {
     "name": "stdout",
     "output_type": "stream",
     "text": [
      "display_info\n",
      "Display Info Function : Vignesh : 20\n",
      "display_info ran in: 1.0000572204589844 sec\n"
     ]
    }
   ],
   "source": [
    "def my_logger(orig_func):\n",
    "    import logging\n",
    "    logging.basicConfig(filename='{}.log'.format(orig_func.__name__), level=logging.INFO)\n",
    "\n",
    "    def wrapper(*args, **kwargs):\n",
    "        logging.info(\n",
    "            'Ran with args: {}, and kwargs: {}'.format(args, kwargs))\n",
    "        return orig_func(*args, **kwargs)\n",
    "\n",
    "    return wrapper\n",
    "\n",
    "def my_timer(orig_func):\n",
    "    import time\n",
    "    print(orig_func.__name__)\n",
    "\n",
    "    def wrapper(*args, **kwargs):\n",
    "        t1     = time.time()\n",
    "        result = orig_func(*args, **kwargs)\n",
    "        t2     = time.time() - t1\n",
    "        print('{} ran in: {} sec'.format(orig_func.__name__, t2))\n",
    "        return result\n",
    "\n",
    "    return wrapper\n",
    "\n",
    "import time\n",
    "\n",
    "def display_info(name, age):\n",
    "    time.sleep(1)\n",
    "    print('Display Info Function : {} : {}'.format(name, age))\n",
    "\n",
    "display_info = my_logger(my_timer(display_info))\n",
    "display_info('Vignesh', 20)"
   ]
  },
  {
   "cell_type": "code",
   "execution_count": 67,
   "metadata": {
    "ExecuteTime": {
     "end_time": "2020-08-18T09:30:28.721011Z",
     "start_time": "2020-08-18T09:30:27.698953Z"
    }
   },
   "outputs": [
    {
     "name": "stdout",
     "output_type": "stream",
     "text": [
      "wrapper_1\n",
      "Display Info Function : Vignesh : 20\n",
      "wrapper_1 ran in: 1.0010576248168945 sec\n"
     ]
    }
   ],
   "source": [
    "def my_logger(orig_func):\n",
    "    import logging\n",
    "    logging.basicConfig(filename='{}.log'.format(orig_func.__name__), level=logging.INFO)\n",
    "\n",
    "    def wrapper_1(*args, **kwargs):\n",
    "        logging.info(\n",
    "            'Ran with args: {}, and kwargs: {}'.format(args, kwargs))\n",
    "        return orig_func(*args, **kwargs)\n",
    "\n",
    "    return wrapper_1\n",
    "\n",
    "def my_timer(orig_func):\n",
    "    import time\n",
    "    print(orig_func.__name__)\n",
    "\n",
    "    def wrapper(*args, **kwargs):\n",
    "        t1     = time.time()\n",
    "        result = orig_func(*args, **kwargs)\n",
    "        t2     = time.time() - t1\n",
    "        print('{} ran in: {} sec'.format(orig_func.__name__, t2))\n",
    "        return result\n",
    "\n",
    "    return wrapper\n",
    "\n",
    "import time\n",
    "\n",
    "def display_info(name, age):\n",
    "    time.sleep(1)\n",
    "    print('Display Info Function : {} : {}'.format(name, age))\n",
    "\n",
    "display_info = my_timer(my_logger(display_info))\n",
    "display_info('Vignesh', 20)"
   ]
  },
  {
   "cell_type": "code",
   "execution_count": 29,
   "metadata": {
    "ExecuteTime": {
     "end_time": "2020-06-28T05:02:52.171069Z",
     "start_time": "2020-06-28T05:02:52.145068Z"
    }
   },
   "outputs": [
    {
     "name": "stdout",
     "output_type": "stream",
     "text": [
      "Hello - 2 Vignesh , Good Morning !!!\n",
      "Hello - 2 Vicky , Good Morning !!!\n",
      "Hello - 2 Praga , Very Good Morning !!!\n"
     ]
    }
   ],
   "source": [
    "def wish_deco(func):\n",
    "    def inner(name):\n",
    "        if name == 'Praga':\n",
    "            print('Hello - 1 {} , Very Good Morning !!!'.format(name))\n",
    "        else:\n",
    "            print('Hello - 1 {} , Good Morning !!!'.format(name))\n",
    "    return inner\n",
    "\n",
    "def wish_deco_2(func):\n",
    "    def inner(name):\n",
    "        if name == 'Praga':\n",
    "            print('Hello - 2 {} , Very Good Morning !!!'.format(name))\n",
    "        else:\n",
    "            print('Hello - 2 {} , Good Morning !!!'.format(name))\n",
    "    return inner\n",
    "\n",
    "@wish_deco_2\n",
    "@wish_deco\n",
    "def wish(name):\n",
    "    print('Hello {}, Good Morning !!!'.format(name))\n",
    "\n",
    "wish('Vignesh')\n",
    "wish('Vicky')\n",
    "wish('Praga')"
   ]
  },
  {
   "cell_type": "code",
   "execution_count": 33,
   "metadata": {
    "ExecuteTime": {
     "end_time": "2020-06-28T05:13:30.778595Z",
     "start_time": "2020-06-28T05:13:30.746594Z"
    }
   },
   "outputs": [
    {
     "name": "stdout",
     "output_type": "stream",
     "text": [
      "Hello Vignesh, Good Morning !!!\n",
      "Hello Vicky, Good Morning !!!\n",
      "Hello - 2 Praga , Very Good Morning !!!\n",
      "Hello - 1 Praga , Very Good Morning !!!\n",
      "Hello Praga, Good Morning !!!\n",
      "Hello - 1 Praga , Very Good Morning !!!\n",
      "Hello - 2 Praga , Very Good Morning !!!\n"
     ]
    }
   ],
   "source": [
    "def wish_deco(func):\n",
    "    def inner(name):\n",
    "        if name == 'Praga':\n",
    "            print('Hello - 1 {} , Very Good Morning !!!'.format(name))\n",
    "            func(name)\n",
    "            print('Hello - 1 {} , Very Good Morning !!!'.format(name))\n",
    "        else:\n",
    "            func(name)\n",
    "    return inner\n",
    "\n",
    "def wish_deco_2(func):\n",
    "    def inner(name):\n",
    "        if name == 'Praga':\n",
    "            print('Hello - 2 {} , Very Good Morning !!!'.format(name))\n",
    "            func(name)\n",
    "            print('Hello - 2 {} , Very Good Morning !!!'.format(name))\n",
    "        else:\n",
    "            func(name)\n",
    "    return inner\n",
    "\n",
    "@wish_deco_2\n",
    "@wish_deco\n",
    "def wish(name):\n",
    "    print('Hello {}, Good Morning !!!'.format(name))\n",
    "\n",
    "wish('Vignesh')\n",
    "wish('Vicky')\n",
    "wish('Praga')"
   ]
  },
  {
   "cell_type": "code",
   "execution_count": 35,
   "metadata": {
    "ExecuteTime": {
     "end_time": "2020-06-28T05:14:28.575901Z",
     "start_time": "2020-06-28T05:14:28.553900Z"
    }
   },
   "outputs": [
    {
     "name": "stdout",
     "output_type": "stream",
     "text": [
      "10\n",
      "100\n"
     ]
    },
    {
     "data": {
      "text/plain": [
       "200"
      ]
     },
     "execution_count": 35,
     "metadata": {},
     "output_type": "execute_result"
    }
   ],
   "source": [
    "def multiply(func):\n",
    "    def inner():\n",
    "        x = func()\n",
    "        print (x)\n",
    "        return 2*x\n",
    "    return inner\n",
    "\n",
    "def square(func):\n",
    "    def inner():\n",
    "        x = func()\n",
    "        print (x)\n",
    "        return x*x\n",
    "    return inner\n",
    "\n",
    "@multiply\n",
    "@square\n",
    "def value():\n",
    "    return 10\n",
    "\n",
    "value()"
   ]
  },
  {
   "cell_type": "markdown",
   "metadata": {},
   "source": [
    "## Generator Function\n",
    "\n",
    "**`1) Very Easy to Use`**<br>\n",
    "**`2) Memory Utilization is Less`**<br>\n",
    "**`3) Performance is Very High`**<br>\n",
    "**`4) Best Suitable for Huge data`**<br><br>\n",
    "\n",
    "**`Ex: Web Scraping/crawling`**<br>"
   ]
  },
  {
   "cell_type": "code",
   "execution_count": 15,
   "metadata": {
    "ExecuteTime": {
     "end_time": "2020-06-28T08:52:56.186333Z",
     "start_time": "2020-06-28T08:52:56.168332Z"
    }
   },
   "outputs": [
    {
     "name": "stdout",
     "output_type": "stream",
     "text": [
      "0\n",
      "1\n",
      "2\n",
      "3\n",
      "4\n",
      "5\n",
      "6\n",
      "7\n",
      "8\n",
      "9\n",
      "\n",
      "0\n",
      "1\n",
      "2\n",
      "3\n",
      "4\n",
      "5\n",
      "6\n",
      "7\n",
      "8\n",
      "9\n"
     ]
    }
   ],
   "source": [
    "num_list = [x for x in range(10)]\n",
    "\n",
    "# What, If we need one by one element from sum\n",
    "for i in num_list:\n",
    "    print(i)\n",
    "\n",
    "print()\n",
    "num_gene = (x for x in range(10))\n",
    "\n",
    "# What, If we need one by one element from sum\n",
    "for i in num_gene:\n",
    "    print(i)"
   ]
  },
  {
   "cell_type": "code",
   "execution_count": 17,
   "metadata": {
    "ExecuteTime": {
     "end_time": "2020-06-28T08:53:27.697136Z",
     "start_time": "2020-06-28T08:53:23.726909Z"
    }
   },
   "outputs": [
    {
     "ename": "KeyboardInterrupt",
     "evalue": "",
     "output_type": "error",
     "traceback": [
      "\u001b[1;31m---------------------------------------------------------------------------\u001b[0m",
      "\u001b[1;31mKeyboardInterrupt\u001b[0m                         Traceback (most recent call last)",
      "\u001b[1;32m<ipython-input-17-43d03c6a03c4>\u001b[0m in \u001b[0;36m<module>\u001b[1;34m\u001b[0m\n\u001b[1;32m----> 1\u001b[1;33m \u001b[0mnum_list\u001b[0m \u001b[1;33m=\u001b[0m \u001b[1;33m[\u001b[0m\u001b[0mx\u001b[0m \u001b[1;32mfor\u001b[0m \u001b[0mx\u001b[0m \u001b[1;32min\u001b[0m \u001b[0mrange\u001b[0m\u001b[1;33m(\u001b[0m\u001b[1;36m1000000000000000000\u001b[0m\u001b[1;33m)\u001b[0m\u001b[1;33m]\u001b[0m\u001b[1;33m\u001b[0m\u001b[1;33m\u001b[0m\u001b[0m\n\u001b[0m\u001b[0;32m      2\u001b[0m \u001b[1;33m\u001b[0m\u001b[0m\n\u001b[0;32m      3\u001b[0m \u001b[0mprint\u001b[0m\u001b[1;33m(\u001b[0m\u001b[0mnum_list\u001b[0m\u001b[1;33m)\u001b[0m\u001b[1;33m\u001b[0m\u001b[1;33m\u001b[0m\u001b[0m\n\u001b[0;32m      4\u001b[0m \u001b[0mprint\u001b[0m\u001b[1;33m(\u001b[0m\u001b[1;33m)\u001b[0m\u001b[1;33m\u001b[0m\u001b[1;33m\u001b[0m\u001b[0m\n\u001b[0;32m      5\u001b[0m \u001b[1;33m\u001b[0m\u001b[0m\n",
      "\u001b[1;32m<ipython-input-17-43d03c6a03c4>\u001b[0m in \u001b[0;36m<listcomp>\u001b[1;34m(.0)\u001b[0m\n\u001b[1;32m----> 1\u001b[1;33m \u001b[0mnum_list\u001b[0m \u001b[1;33m=\u001b[0m \u001b[1;33m[\u001b[0m\u001b[0mx\u001b[0m \u001b[1;32mfor\u001b[0m \u001b[0mx\u001b[0m \u001b[1;32min\u001b[0m \u001b[0mrange\u001b[0m\u001b[1;33m(\u001b[0m\u001b[1;36m1000000000000000000\u001b[0m\u001b[1;33m)\u001b[0m\u001b[1;33m]\u001b[0m\u001b[1;33m\u001b[0m\u001b[1;33m\u001b[0m\u001b[0m\n\u001b[0m\u001b[0;32m      2\u001b[0m \u001b[1;33m\u001b[0m\u001b[0m\n\u001b[0;32m      3\u001b[0m \u001b[0mprint\u001b[0m\u001b[1;33m(\u001b[0m\u001b[0mnum_list\u001b[0m\u001b[1;33m)\u001b[0m\u001b[1;33m\u001b[0m\u001b[1;33m\u001b[0m\u001b[0m\n\u001b[0;32m      4\u001b[0m \u001b[0mprint\u001b[0m\u001b[1;33m(\u001b[0m\u001b[1;33m)\u001b[0m\u001b[1;33m\u001b[0m\u001b[1;33m\u001b[0m\u001b[0m\n\u001b[0;32m      5\u001b[0m \u001b[1;33m\u001b[0m\u001b[0m\n",
      "\u001b[1;31mKeyboardInterrupt\u001b[0m: "
     ]
    }
   ],
   "source": [
    "num_list = [x for x in range(1000000000000000000)]\n",
    "\n",
    "print(num_list)\n",
    "print()\n",
    "\n",
    "# What, If we need one by one element from sum\n",
    "# System - Stuck\n",
    "for i in num_list:\n",
    "    print(i)"
   ]
  },
  {
   "cell_type": "code",
   "execution_count": 18,
   "metadata": {
    "ExecuteTime": {
     "end_time": "2020-06-28T08:54:08.475468Z",
     "start_time": "2020-06-28T08:54:08.462467Z"
    }
   },
   "outputs": [
    {
     "name": "stdout",
     "output_type": "stream",
     "text": [
      "0\n",
      "1\n",
      "2\n",
      "3\n",
      "4\n"
     ]
    }
   ],
   "source": [
    "num_gene = (x for x in range(1000000000000000000))\n",
    "\n",
    "print(next(num_gene))\n",
    "print(next(num_gene))\n",
    "print(next(num_gene))\n",
    "print(next(num_gene))\n",
    "print(next(num_gene))"
   ]
  },
  {
   "cell_type": "code",
   "execution_count": 19,
   "metadata": {
    "ExecuteTime": {
     "end_time": "2020-06-28T08:54:11.332631Z",
     "start_time": "2020-06-28T08:54:11.318631Z"
    }
   },
   "outputs": [
    {
     "name": "stdout",
     "output_type": "stream",
     "text": [
      "<class 'list'> \t\t [0, 1, 2, 3, 4, 5, 6, 7, 8, 9]\n",
      "<class 'generator'> \t <generator object <genexpr> at 0x0000000005666848>\n"
     ]
    }
   ],
   "source": [
    "num_list = [x for x in range(10)]\n",
    "num_gene = (x for x in range(10))\n",
    "\n",
    "print(type(num_list),'\\t\\t', num_list)\n",
    "print(type(num_gene),'\\t', num_gene)"
   ]
  },
  {
   "cell_type": "code",
   "execution_count": 17,
   "metadata": {
    "ExecuteTime": {
     "end_time": "2020-06-29T03:42:56.776286Z",
     "start_time": "2020-06-29T03:42:31.336957Z"
    }
   },
   "outputs": [
    {
     "name": "stdout",
     "output_type": "stream",
     "text": [
      "Requirement already satisfied: line_profiler in c:\\programdata\\anaconda3\\lib\\site-packages (2.1.2)The line_profiler extension is already loaded. To reload it, use:\n",
      "Requirement already satisfied: IPython>=0.13 in c:\\programdata\\anaconda3\\lib\\site-packages (from line_profiler) (7.13.0)\n",
      "Requirement already satisfied: pickleshare in c:\\programdata\\anaconda3\\lib\\site-packages (from IPython>=0.13->line_profiler) (0.7.5)\n",
      "Requirement already satisfied: jedi>=0.10 in c:\\programdata\\anaconda3\\lib\\site-packages (from IPython>=0.13->line_profiler) (0.15.2)\n",
      "Requirement already satisfied: backcall in c:\\programdata\\anaconda3\\lib\\site-packages (from IPython>=0.13->line_profiler) (0.1.0)\n",
      "Requirement already satisfied: traitlets>=4.2 in c:\\programdata\\anaconda3\\lib\\site-packages (from IPython>=0.13->line_profiler) (4.3.3)\n",
      "Requirement already satisfied: setuptools>=18.5 in c:\\programdata\\anaconda3\\lib\\site-packages (from IPython>=0.13->line_profiler) (46.4.0.post20200518)\n",
      "Requirement already satisfied: decorator in c:\\programdata\\anaconda3\\lib\\site-packages (from IPython>=0.13->line_profiler) (4.4.2)\n",
      "Requirement already satisfied: pygments in c:\\programdata\\anaconda3\\lib\\site-packages (from IPython>=0.13->line_profiler) (2.6.1)\n",
      "Requirement already satisfied: colorama; sys_platform == \"win32\" in c:\\programdata\\anaconda3\\lib\\site-packages (from IPython>=0.13->line_profiler) (0.4.3)\n",
      "Requirement already satisfied: prompt-toolkit!=3.0.0,!=3.0.1,<3.1.0,>=2.0.0 in c:\\programdata\\anaconda3\\lib\\site-packages (from IPython>=0.13->line_profiler) (3.0.4)\n",
      "Requirement already satisfied: parso>=0.5.2 in c:\\programdata\\anaconda3\\lib\\site-packages (from jedi>=0.10->IPython>=0.13->line_profiler) (0.5.2)\n",
      "Requirement already satisfied: six in c:\\programdata\\anaconda3\\lib\\site-packages (from traitlets>=4.2->IPython>=0.13->line_profiler) (1.14.0)\n",
      "Requirement already satisfied: ipython-genutils in c:\\programdata\\anaconda3\\lib\\site-packages (from traitlets>=4.2->IPython>=0.13->line_profiler) (0.2.0)\n",
      "Requirement already satisfied: wcwidth in c:\\programdata\\anaconda3\\lib\\site-packages (from prompt-toolkit!=3.0.0,!=3.0.1,<3.1.0,>=2.0.0->IPython>=0.13->line_profiler) (0.1.9)\n",
      "\n",
      "  %reload_ext line_profiler\n"
     ]
    },
    {
     "name": "stderr",
     "output_type": "stream",
     "text": [
      "UsageError: Line magic function `%memit` not found.\n"
     ]
    }
   ],
   "source": [
    "!pip install line_profiler\n",
    "%load_ext line_profiler\n",
    "%memit num_list()"
   ]
  },
  {
   "cell_type": "code",
   "execution_count": 19,
   "metadata": {
    "ExecuteTime": {
     "end_time": "2020-06-29T03:47:58.267361Z",
     "start_time": "2020-06-29T03:47:39.338038Z"
    }
   },
   "outputs": [
    {
     "name": "stdout",
     "output_type": "stream",
     "text": [
      "Collecting memory_profiler\n",
      "  Downloading memory_profiler-0.57.0.tar.gz (34 kB)\n",
      "Requirement already satisfied: psutil in c:\\programdata\\anaconda3\\lib\\site-packages (from memory_profiler) (5.7.0)\n",
      "Building wheels for collected packages: memory-profiler\n",
      "  Building wheel for memory-profiler (setup.py): started\n",
      "  Building wheel for memory-profiler (setup.py): finished with status 'done'\n",
      "  Created wheel for memory-profiler: filename=memory_profiler-0.57.0-py3-none-any.whl size=28995 sha256=357d883342c428c3dcb82ff98b4f8076150c36b3b98aa0ee9b7b75d2a9860154\n",
      "  Stored in directory: c:\\users\\vignesh_palanivel\\appdata\\local\\pip\\cache\\wheels\\0c\\84\\4a\\8afc0620ec149b2c0a4ed08b021e3a2dc7063fa08e1fcb40c8\n",
      "Successfully built memory-profiler\n",
      "Installing collected packages: memory-profiler\n",
      "Successfully installed memory-profiler-0.57.0\n"
     ]
    }
   ],
   "source": [
    "!pip install memory_profiler\n",
    "%load_ext memory_profiler"
   ]
  },
  {
   "cell_type": "code",
   "execution_count": 5,
   "metadata": {
    "ExecuteTime": {
     "end_time": "2020-07-05T09:41:07.013822Z",
     "start_time": "2020-07-05T09:41:06.993821Z"
    }
   },
   "outputs": [
    {
     "name": "stdout",
     "output_type": "stream",
     "text": [
      "[{'id': 0, 'name': 'Praga', 'subject': 'Python'}, {'id': 1, 'name': 'Vishu', 'subject': 'BlackChain'}, {'id': 2, 'name': 'Vicky', 'subject': 'BlackChain'}, {'id': 3, 'name': 'Vishu', 'subject': 'BlackChain'}, {'id': 4, 'name': 'Praga', 'subject': 'Python'}, {'id': 5, 'name': 'Vishu', 'subject': 'Java'}, {'id': 6, 'name': 'Vishu', 'subject': 'Python'}, {'id': 7, 'name': 'Vicky', 'subject': 'Python'}, {'id': 8, 'name': 'Vishu', 'subject': 'BlackChain'}, {'id': 9, 'name': 'Vishu', 'subject': 'Java'}, {'id': 10, 'name': 'Praga', 'subject': 'BlackChain'}, {'id': 11, 'name': 'Praga', 'subject': 'Python'}, {'id': 12, 'name': 'Vicky', 'subject': 'Java'}, {'id': 13, 'name': 'Vicky', 'subject': 'Java'}, {'id': 14, 'name': 'Vicky', 'subject': 'Java'}, {'id': 15, 'name': 'Vishu', 'subject': 'Java'}, {'id': 16, 'name': 'Vishu', 'subject': 'Python'}, {'id': 17, 'name': 'Praga', 'subject': 'Python'}, {'id': 18, 'name': 'Vicky', 'subject': 'Python'}, {'id': 19, 'name': 'Vishu', 'subject': 'Python'}]\n"
     ]
    }
   ],
   "source": [
    "import random\n",
    "\n",
    "names = ['Vicky',  'Praga', 'Vishu']\n",
    "subj  = ['Python', 'Java',  'BlackChain']\n",
    "\n",
    "def people_list(num):\n",
    "    result = []\n",
    "    for i in range(num):\n",
    "        person = {\n",
    "            'id'      : i,\n",
    "            'name'    : random.choice(names),\n",
    "            'subject' : random.choice(subj)\n",
    "        }\n",
    "        result.append(person)\n",
    "    return result\n",
    "\n",
    "print(people_list(20))"
   ]
  },
  {
   "cell_type": "code",
   "execution_count": 6,
   "metadata": {
    "ExecuteTime": {
     "end_time": "2020-06-29T03:03:34.783755Z",
     "start_time": "2020-06-29T03:03:34.754753Z"
    }
   },
   "outputs": [
    {
     "name": "stdout",
     "output_type": "stream",
     "text": [
      "{'id': 0, 'name': 'Praga', 'subject': 'BlackChain'}\n",
      "{'id': 1, 'name': 'Vishu', 'subject': 'Java'}\n"
     ]
    },
    {
     "ename": "StopIteration",
     "evalue": "",
     "output_type": "error",
     "traceback": [
      "\u001b[1;31m---------------------------------------------------------------------------\u001b[0m",
      "\u001b[1;31mStopIteration\u001b[0m                             Traceback (most recent call last)",
      "\u001b[1;32m<ipython-input-6-725967581bb2>\u001b[0m in \u001b[0;36m<module>\u001b[1;34m\u001b[0m\n\u001b[0;32m     16\u001b[0m \u001b[0mprint\u001b[0m \u001b[1;33m(\u001b[0m\u001b[0mnext\u001b[0m\u001b[1;33m(\u001b[0m\u001b[0mgen\u001b[0m\u001b[1;33m)\u001b[0m\u001b[1;33m)\u001b[0m\u001b[1;33m\u001b[0m\u001b[1;33m\u001b[0m\u001b[0m\n\u001b[0;32m     17\u001b[0m \u001b[0mprint\u001b[0m \u001b[1;33m(\u001b[0m\u001b[0mnext\u001b[0m\u001b[1;33m(\u001b[0m\u001b[0mgen\u001b[0m\u001b[1;33m)\u001b[0m\u001b[1;33m)\u001b[0m\u001b[1;33m\u001b[0m\u001b[1;33m\u001b[0m\u001b[0m\n\u001b[1;32m---> 18\u001b[1;33m \u001b[0mprint\u001b[0m \u001b[1;33m(\u001b[0m\u001b[0mnext\u001b[0m\u001b[1;33m(\u001b[0m\u001b[0mgen\u001b[0m\u001b[1;33m)\u001b[0m\u001b[1;33m)\u001b[0m\u001b[1;33m\u001b[0m\u001b[1;33m\u001b[0m\u001b[0m\n\u001b[0m",
      "\u001b[1;31mStopIteration\u001b[0m: "
     ]
    }
   ],
   "source": [
    "import random\n",
    "\n",
    "names = ['Vicky',  'Praga', 'Vishu']\n",
    "subj  = ['Python', 'Java',  'BlackChain']\n",
    "\n",
    "def people_generator(num):\n",
    "    for i in range(num):\n",
    "        person = {\n",
    "            'id'      : i,\n",
    "            'name'    : random.choice(names),\n",
    "            'subject' : random.choice(subj)\n",
    "        }\n",
    "        yield person\n",
    "\n",
    "gen = (people_generator(2))\n",
    "print (next(gen))\n",
    "print (next(gen))\n",
    "print (next(gen)) # Value out of memory"
   ]
  },
  {
   "cell_type": "code",
   "execution_count": 4,
   "metadata": {
    "ExecuteTime": {
     "end_time": "2020-07-05T09:41:00.273543Z",
     "start_time": "2020-07-05T09:41:00.248543Z"
    }
   },
   "outputs": [
    {
     "name": "stdout",
     "output_type": "stream",
     "text": [
      "{'id': 0, 'name': 'Praga', 'subject': 'BlackChain'}\n",
      "{'id': 1, 'name': 'Vishu', 'subject': 'Python'}\n",
      "{'id': 2, 'name': 'Vishu', 'subject': 'Python'}\n",
      "{'id': 3, 'name': 'Vishu', 'subject': 'BlackChain'}\n",
      "{'id': 4, 'name': 'Praga', 'subject': 'BlackChain'}\n",
      "{'id': 5, 'name': 'Praga', 'subject': 'Python'}\n",
      "{'id': 6, 'name': 'Vishu', 'subject': 'Python'}\n",
      "{'id': 7, 'name': 'Vicky', 'subject': 'Python'}\n",
      "{'id': 8, 'name': 'Praga', 'subject': 'BlackChain'}\n",
      "{'id': 9, 'name': 'Praga', 'subject': 'Python'}\n",
      "{'id': 10, 'name': 'Praga', 'subject': 'Python'}\n",
      "{'id': 11, 'name': 'Vishu', 'subject': 'BlackChain'}\n",
      "{'id': 12, 'name': 'Vishu', 'subject': 'BlackChain'}\n",
      "{'id': 13, 'name': 'Praga', 'subject': 'Java'}\n",
      "{'id': 14, 'name': 'Praga', 'subject': 'BlackChain'}\n",
      "{'id': 15, 'name': 'Vishu', 'subject': 'Python'}\n",
      "{'id': 16, 'name': 'Praga', 'subject': 'Python'}\n",
      "{'id': 17, 'name': 'Vishu', 'subject': 'Python'}\n",
      "{'id': 18, 'name': 'Vishu', 'subject': 'Java'}\n",
      "{'id': 19, 'name': 'Vicky', 'subject': 'Python'}\n"
     ]
    }
   ],
   "source": [
    "import random\n",
    "\n",
    "names = ['Vicky',  'Praga', 'Vishu']\n",
    "subj  = ['Python', 'Java',  'BlackChain']\n",
    "\n",
    "def people_generator(num):\n",
    "    for i in range(num):\n",
    "        person = {\n",
    "            'id'      : i,\n",
    "            'name'    : random.choice(names),\n",
    "            'subject' : random.choice(subj)\n",
    "        }\n",
    "        yield person\n",
    "\n",
    "for element in people_generator(20):\n",
    "    print (element)"
   ]
  },
  {
   "cell_type": "markdown",
   "metadata": {},
   "source": [
    "### Fibonacci in generators"
   ]
  },
  {
   "cell_type": "code",
   "execution_count": 57,
   "metadata": {
    "ExecuteTime": {
     "end_time": "2020-06-28T10:37:40.370676Z",
     "start_time": "2020-06-28T10:37:40.355675Z"
    }
   },
   "outputs": [
    {
     "name": "stdout",
     "output_type": "stream",
     "text": [
      "0\n",
      "1\n",
      "1\n",
      "2\n",
      "3\n",
      "5\n"
     ]
    }
   ],
   "source": [
    "def fibonacci():\n",
    "    a, b = 0, 1\n",
    "    while True:\n",
    "        yield a\n",
    "        a, b = b, a+b\n",
    "\n",
    "fib = fibonacci()\n",
    "\n",
    "for i in fib:\n",
    "    if i > 5:\n",
    "        break;\n",
    "    print(i)"
   ]
  }
 ],
 "metadata": {
  "kernelspec": {
   "display_name": "Python 3",
   "language": "python",
   "name": "python3"
  },
  "language_info": {
   "codemirror_mode": {
    "name": "ipython",
    "version": 3
   },
   "file_extension": ".py",
   "mimetype": "text/x-python",
   "name": "python",
   "nbconvert_exporter": "python",
   "pygments_lexer": "ipython3",
   "version": "3.8.8"
  },
  "latex_envs": {
   "LaTeX_envs_menu_present": true,
   "autoclose": true,
   "autocomplete": true,
   "bibliofile": "biblio.bib",
   "cite_by": "apalike",
   "current_citInitial": 1,
   "eqLabelWithNumbers": true,
   "eqNumInitial": 1,
   "hotkeys": {
    "equation": "Ctrl-E",
    "itemize": "Ctrl-I"
   },
   "labels_anchors": false,
   "latex_user_defs": false,
   "report_style_numbering": true,
   "user_envs_cfg": false
  },
  "toc": {
   "base_numbering": 1,
   "nav_menu": {},
   "number_sections": true,
   "sideBar": true,
   "skip_h1_title": false,
   "title_cell": "Table of Contents",
   "title_sidebar": "Contents",
   "toc_cell": true,
   "toc_position": {
    "height": "calc(100% - 180px)",
    "left": "10px",
    "top": "150px",
    "width": "341.458px"
   },
   "toc_section_display": true,
   "toc_window_display": true
  },
  "varInspector": {
   "cols": {
    "lenName": 16,
    "lenType": 16,
    "lenVar": 40
   },
   "kernels_config": {
    "python": {
     "delete_cmd_postfix": "",
     "delete_cmd_prefix": "del ",
     "library": "var_list.py",
     "varRefreshCmd": "print(var_dic_list())"
    },
    "r": {
     "delete_cmd_postfix": ") ",
     "delete_cmd_prefix": "rm(",
     "library": "var_list.r",
     "varRefreshCmd": "cat(var_dic_list()) "
    }
   },
   "types_to_exclude": [
    "module",
    "function",
    "builtin_function_or_method",
    "instance",
    "_Feature"
   ],
   "window_display": false
  }
 },
 "nbformat": 4,
 "nbformat_minor": 4
}
