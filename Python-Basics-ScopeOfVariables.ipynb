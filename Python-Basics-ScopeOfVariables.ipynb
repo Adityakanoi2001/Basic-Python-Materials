{
 "cells": [
  {
   "cell_type": "markdown",
   "metadata": {
    "toc": true
   },
   "source": [
    "<h1>Table of Contents<span class=\"tocSkip\"></span></h1>\n",
    "<div class=\"toc\"><ul class=\"toc-item\"><li><span><a href=\"#Variables-Scope---LEGB\" data-toc-modified-id=\"Variables-Scope---LEGB-1\"><span class=\"toc-item-num\">1&nbsp;&nbsp;</span>Variables Scope - LEGB</a></span><ul class=\"toc-item\"><li><span><a href=\"#L-:-Local-Scope\" data-toc-modified-id=\"L-:-Local-Scope-1.1\"><span class=\"toc-item-num\">1.1&nbsp;&nbsp;</span>L : Local Scope</a></span></li><li><span><a href=\"#E-:-Enclosing-Scope\" data-toc-modified-id=\"E-:-Enclosing-Scope-1.2\"><span class=\"toc-item-num\">1.2&nbsp;&nbsp;</span>E : Enclosing Scope</a></span><ul class=\"toc-item\"><li><span><a href=\"#Enclosing-vs-Local\" data-toc-modified-id=\"Enclosing-vs-Local-1.2.1\"><span class=\"toc-item-num\">1.2.1&nbsp;&nbsp;</span>Enclosing vs Local</a></span></li><li><span><a href=\"#Global-vs-Enclosing-vs-Local\" data-toc-modified-id=\"Global-vs-Enclosing-vs-Local-1.2.2\"><span class=\"toc-item-num\">1.2.2&nbsp;&nbsp;</span>Global vs Enclosing vs Local</a></span></li></ul></li><li><span><a href=\"#G-:-Global-Scope\" data-toc-modified-id=\"G-:-Global-Scope-1.3\"><span class=\"toc-item-num\">1.3&nbsp;&nbsp;</span>G : Global Scope</a></span><ul class=\"toc-item\"><li><span><a href=\"#Global-vs-Local\" data-toc-modified-id=\"Global-vs-Local-1.3.1\"><span class=\"toc-item-num\">1.3.1&nbsp;&nbsp;</span>Global vs Local</a></span></li></ul></li><li><span><a href=\"#Built-In-Scope\" data-toc-modified-id=\"Built-In-Scope-1.4\"><span class=\"toc-item-num\">1.4&nbsp;&nbsp;</span>Built-In Scope</a></span><ul class=\"toc-item\"><li><span><a href=\"#Global-vs-Built-In\" data-toc-modified-id=\"Global-vs-Built-In-1.4.1\"><span class=\"toc-item-num\">1.4.1&nbsp;&nbsp;</span>Global vs Built-In</a></span></li></ul></li></ul></li></ul></div>"
   ]
  },
  {
   "cell_type": "markdown",
   "metadata": {},
   "source": [
    "# Variables Scope - LEGB\n",
    "In a Programe, Scope of variables determines<br>\n",
    "\n",
    "    • Where the variables can be accessed from\n",
    "    • What values the variables holding in different context\n",
    "\n",
    "`1) Local       : Variables defined with-in a Function`<br>\n",
    "`2) Enclosing   : Variables in Local scope of Enclosing function(Func with Func)`<br>\n",
    "`3) Global      : Variables declared in the Top level of the Module OR mentioned using Global KeyWord`<br>\n",
    "`4) Built-in    : Names that are Pre-Assigned in Python`<br>"
   ]
  },
  {
   "cell_type": "markdown",
   "metadata": {},
   "source": [
    "## L : Local Scope\n",
    "    • Variables that will live until the function execution completes\n",
    "    • We cannot refer these variables anymore outside of the function\n",
    "    • If you want to Access these variables use **return**\n",
    "    \n",
    "    • SELF CONTAINED : It will not worry about what outside program doing"
   ]
  },
  {
   "cell_type": "code",
   "execution_count": 6,
   "metadata": {
    "ExecuteTime": {
     "end_time": "2020-05-14T04:44:05.627991Z",
     "start_time": "2020-05-14T04:44:05.607990Z"
    }
   },
   "outputs": [
    {
     "name": "stdout",
     "output_type": "stream",
     "text": [
      "Local Variable Y\n"
     ]
    }
   ],
   "source": [
    "def local_scope():\n",
    "  y = 'Local Variable Y'\n",
    "  print (y)\n",
    "\n",
    "local_scope()"
   ]
  },
  {
   "cell_type": "code",
   "execution_count": 7,
   "metadata": {
    "ExecuteTime": {
     "end_time": "2020-05-14T04:46:52.345910Z",
     "start_time": "2020-05-14T04:46:51.904897Z"
    }
   },
   "outputs": [
    {
     "name": "stdout",
     "output_type": "stream",
     "text": [
      "Local Variable Y\n"
     ]
    },
    {
     "ename": "NameError",
     "evalue": "name 'y' is not defined",
     "output_type": "error",
     "traceback": [
      "\u001b[1;31m---------------------------------------------------------------------------\u001b[0m",
      "\u001b[1;31mNameError\u001b[0m                                 Traceback (most recent call last)",
      "\u001b[1;32m<ipython-input-7-f66eef0d6dce>\u001b[0m in \u001b[0;36m<module>\u001b[1;34m\u001b[0m\n\u001b[0;32m      4\u001b[0m \u001b[1;33m\u001b[0m\u001b[0m\n\u001b[0;32m      5\u001b[0m \u001b[0mlocal_scope\u001b[0m\u001b[1;33m(\u001b[0m\u001b[1;33m)\u001b[0m\u001b[1;33m\u001b[0m\u001b[1;33m\u001b[0m\u001b[0m\n\u001b[1;32m----> 6\u001b[1;33m \u001b[0mprint\u001b[0m \u001b[1;33m(\u001b[0m\u001b[0my\u001b[0m\u001b[1;33m)\u001b[0m\u001b[1;33m\u001b[0m\u001b[1;33m\u001b[0m\u001b[0m\n\u001b[0m",
      "\u001b[1;31mNameError\u001b[0m: name 'y' is not defined"
     ]
    }
   ],
   "source": [
    "def local_scope():\n",
    "  y = 'Local Variable Y'\n",
    "  print (y)\n",
    "\n",
    "local_scope()\n",
    "print (y)"
   ]
  },
  {
   "cell_type": "code",
   "execution_count": 12,
   "metadata": {
    "ExecuteTime": {
     "end_time": "2020-05-14T04:49:47.446297Z",
     "start_time": "2020-05-14T04:49:47.430697Z"
    }
   },
   "outputs": [
    {
     "name": "stdout",
     "output_type": "stream",
     "text": [
      "Local Variable Y - Become Global\n"
     ]
    }
   ],
   "source": [
    "def local_scope():\n",
    "  y = 'Local Variable Y'\n",
    "  return (y)\n",
    "\n",
    "print (local_scope() + ' - Become Global')"
   ]
  },
  {
   "cell_type": "markdown",
   "metadata": {},
   "source": [
    "## E : Enclosing Scope\n",
    "    • Enclosing scope is a nested functions\n",
    "    • Variable will always look for local scope if not found go for Enclosing scope\n",
    "    • Similar to Global and Local"
   ]
  },
  {
   "cell_type": "code",
   "execution_count": 3,
   "metadata": {
    "ExecuteTime": {
     "end_time": "2020-05-14T05:24:47.677398Z",
     "start_time": "2020-05-14T05:24:47.649898Z"
    }
   },
   "outputs": [
    {
     "name": "stdout",
     "output_type": "stream",
     "text": [
      "inner func x\n",
      "outer func x\n"
     ]
    }
   ],
   "source": [
    "def outer():\n",
    "  x = 'outer func x'\n",
    "  \n",
    "  def inner():\n",
    "    x = 'inner func x'\n",
    "    print (x)\n",
    "    \n",
    "  inner()\n",
    "  print(x)\n",
    "\n",
    "outer()"
   ]
  },
  {
   "cell_type": "markdown",
   "metadata": {},
   "source": [
    "### Enclosing vs Local"
   ]
  },
  {
   "cell_type": "code",
   "execution_count": 4,
   "metadata": {
    "ExecuteTime": {
     "end_time": "2020-05-14T05:26:28.156836Z",
     "start_time": "2020-05-14T05:26:28.139336Z"
    }
   },
   "outputs": [
    {
     "name": "stdout",
     "output_type": "stream",
     "text": [
      "outer func x\n",
      "outer func x\n"
     ]
    }
   ],
   "source": [
    "def outer():\n",
    "  x = 'outer func x'\n",
    "  \n",
    "  def inner():\n",
    "    #x = 'inner func x'\n",
    "    print (x)\n",
    "    \n",
    "  inner()\n",
    "  print(x)\n",
    "\n",
    "outer()"
   ]
  },
  {
   "cell_type": "code",
   "execution_count": 5,
   "metadata": {
    "ExecuteTime": {
     "end_time": "2020-05-14T05:28:56.468102Z",
     "start_time": "2020-05-14T05:28:56.091081Z"
    }
   },
   "outputs": [
    {
     "name": "stdout",
     "output_type": "stream",
     "text": [
      "inner func x\n"
     ]
    },
    {
     "ename": "NameError",
     "evalue": "name 'x' is not defined",
     "output_type": "error",
     "traceback": [
      "\u001b[1;31m---------------------------------------------------------------------------\u001b[0m",
      "\u001b[1;31mNameError\u001b[0m                                 Traceback (most recent call last)",
      "\u001b[1;32m<ipython-input-5-60ad6c2327f0>\u001b[0m in \u001b[0;36m<module>\u001b[1;34m\u001b[0m\n\u001b[0;32m      9\u001b[0m   \u001b[0mprint\u001b[0m\u001b[1;33m(\u001b[0m\u001b[0mx\u001b[0m\u001b[1;33m)\u001b[0m\u001b[1;33m\u001b[0m\u001b[1;33m\u001b[0m\u001b[0m\n\u001b[0;32m     10\u001b[0m \u001b[1;33m\u001b[0m\u001b[0m\n\u001b[1;32m---> 11\u001b[1;33m \u001b[0mouter\u001b[0m\u001b[1;33m(\u001b[0m\u001b[1;33m)\u001b[0m\u001b[1;33m\u001b[0m\u001b[1;33m\u001b[0m\u001b[0m\n\u001b[0m",
      "\u001b[1;32m<ipython-input-5-60ad6c2327f0>\u001b[0m in \u001b[0;36mouter\u001b[1;34m()\u001b[0m\n\u001b[0;32m      7\u001b[0m \u001b[1;33m\u001b[0m\u001b[0m\n\u001b[0;32m      8\u001b[0m   \u001b[0minner\u001b[0m\u001b[1;33m(\u001b[0m\u001b[1;33m)\u001b[0m\u001b[1;33m\u001b[0m\u001b[1;33m\u001b[0m\u001b[0m\n\u001b[1;32m----> 9\u001b[1;33m   \u001b[0mprint\u001b[0m\u001b[1;33m(\u001b[0m\u001b[0mx\u001b[0m\u001b[1;33m)\u001b[0m\u001b[1;33m\u001b[0m\u001b[1;33m\u001b[0m\u001b[0m\n\u001b[0m\u001b[0;32m     10\u001b[0m \u001b[1;33m\u001b[0m\u001b[0m\n\u001b[0;32m     11\u001b[0m \u001b[0mouter\u001b[0m\u001b[1;33m(\u001b[0m\u001b[1;33m)\u001b[0m\u001b[1;33m\u001b[0m\u001b[1;33m\u001b[0m\u001b[0m\n",
      "\u001b[1;31mNameError\u001b[0m: name 'x' is not defined"
     ]
    }
   ],
   "source": [
    "def outer():\n",
    "  #x = 'outer func x'\n",
    "  \n",
    "  def inner():\n",
    "    x = 'inner func x'\n",
    "    print (x)\n",
    "    \n",
    "  inner()\n",
    "  print(x)\n",
    "\n",
    "outer()"
   ]
  },
  {
   "cell_type": "code",
   "execution_count": 9,
   "metadata": {
    "ExecuteTime": {
     "end_time": "2020-05-14T05:33:41.949001Z",
     "start_time": "2020-05-14T05:33:41.927401Z"
    }
   },
   "outputs": [
    {
     "name": "stdout",
     "output_type": "stream",
     "text": [
      "inner func x\n",
      "inner func x\n"
     ]
    }
   ],
   "source": [
    "def outer():\n",
    "  x = 'outer func x'\n",
    "  \n",
    "  def inner():\n",
    "    nonlocal x\n",
    "    x = 'inner func x'\n",
    "    print (x)\n",
    "    \n",
    "  inner()\n",
    "  print(x)\n",
    "\n",
    "outer()"
   ]
  },
  {
   "cell_type": "markdown",
   "metadata": {},
   "source": [
    "### Global vs Enclosing vs Local"
   ]
  },
  {
   "cell_type": "code",
   "execution_count": 8,
   "metadata": {
    "ExecuteTime": {
     "end_time": "2020-05-14T05:32:59.613981Z",
     "start_time": "2020-05-14T05:32:59.602981Z"
    }
   },
   "outputs": [
    {
     "name": "stdout",
     "output_type": "stream",
     "text": [
      "inner func x\n",
      "Global Variabe X\n"
     ]
    }
   ],
   "source": [
    "x = 'Global Variabe X'\n",
    "\n",
    "def outer():\n",
    "  #x = 'outer func x'\n",
    "  \n",
    "  def inner():\n",
    "    x = 'inner func x'\n",
    "    print (x)\n",
    "    \n",
    "  inner()\n",
    "  print(x)\n",
    "\n",
    "outer()"
   ]
  },
  {
   "cell_type": "code",
   "execution_count": 10,
   "metadata": {
    "ExecuteTime": {
     "end_time": "2020-05-14T05:34:28.817956Z",
     "start_time": "2020-05-14T05:34:28.784756Z"
    }
   },
   "outputs": [
    {
     "ename": "SyntaxError",
     "evalue": "no binding for nonlocal 'x' found (<ipython-input-10-00528ab043f1>, line 8)",
     "output_type": "error",
     "traceback": [
      "\u001b[1;36m  File \u001b[1;32m\"<ipython-input-10-00528ab043f1>\"\u001b[1;36m, line \u001b[1;32m8\u001b[0m\n\u001b[1;33m    nonlocal x\u001b[0m\n\u001b[1;37m    ^\u001b[0m\n\u001b[1;31mSyntaxError\u001b[0m\u001b[1;31m:\u001b[0m no binding for nonlocal 'x' found\n"
     ]
    }
   ],
   "source": [
    "x = 'Global Variabe X'\n",
    "\n",
    "def outer():\n",
    "  global x\n",
    "  x = 'outer func x'\n",
    "  # At this point no Enclosing x\n",
    "  \n",
    "  def inner():\n",
    "    nonlocal x\n",
    "    # So, nonlocal x cannot refer enclosing x\n",
    "    x = 'inner func x'\n",
    "    print (x)\n",
    "    \n",
    "  inner()\n",
    "  print(x)\n",
    "\n",
    "outer()"
   ]
  },
  {
   "cell_type": "code",
   "execution_count": 11,
   "metadata": {
    "ExecuteTime": {
     "end_time": "2020-05-14T05:36:23.134484Z",
     "start_time": "2020-05-14T05:36:23.118484Z"
    }
   },
   "outputs": [
    {
     "ename": "SyntaxError",
     "evalue": "name 'x' is assigned to before global declaration (<ipython-input-11-a31d99b39955>, line 7)",
     "output_type": "error",
     "traceback": [
      "\u001b[1;36m  File \u001b[1;32m\"<ipython-input-11-a31d99b39955>\"\u001b[1;36m, line \u001b[1;32m7\u001b[0m\n\u001b[1;33m    global x\u001b[0m\n\u001b[1;37m    ^\u001b[0m\n\u001b[1;31mSyntaxError\u001b[0m\u001b[1;31m:\u001b[0m name 'x' is assigned to before global declaration\n"
     ]
    }
   ],
   "source": [
    "x = 'Global Variabe X'\n",
    "\n",
    "def outer():\n",
    "  x = 'outer func x'\n",
    "  # At this point there is a Enclosing x\n",
    "  \n",
    "  global x\n",
    "  x = 'outer func x'\n",
    "  \n",
    "  def inner():\n",
    "    nonlocal x\n",
    "    \n",
    "    x = 'inner func x'\n",
    "    print (x)\n",
    "    \n",
    "  inner()\n",
    "  print(x)\n",
    "\n",
    "outer()"
   ]
  },
  {
   "cell_type": "code",
   "execution_count": 13,
   "metadata": {
    "ExecuteTime": {
     "end_time": "2020-05-14T05:37:32.753466Z",
     "start_time": "2020-05-14T05:37:32.714464Z"
    }
   },
   "outputs": [
    {
     "name": "stdout",
     "output_type": "stream",
     "text": [
      "inner func x\n",
      "outer func x\n",
      "Global Variabe X\n"
     ]
    }
   ],
   "source": [
    "x = 'Global Variabe X'\n",
    "\n",
    "def outer():\n",
    "  x = 'outer func x'\n",
    "  \n",
    "  def inner():\n",
    "    x = 'inner func x'\n",
    "    print (x)\n",
    "    \n",
    "  inner()\n",
    "  print(x)\n",
    "\n",
    "outer()\n",
    "print(x)"
   ]
  },
  {
   "cell_type": "code",
   "execution_count": 14,
   "metadata": {
    "ExecuteTime": {
     "end_time": "2020-05-14T05:37:54.742724Z",
     "start_time": "2020-05-14T05:37:54.713723Z"
    }
   },
   "outputs": [
    {
     "name": "stdout",
     "output_type": "stream",
     "text": [
      "Global Variabe X\n",
      "Global Variabe X\n",
      "Global Variabe X\n"
     ]
    }
   ],
   "source": [
    "x = 'Global Variabe X'\n",
    "\n",
    "def outer():\n",
    "  #x = 'outer func x'\n",
    "  \n",
    "  def inner():\n",
    "    #x = 'inner func x'\n",
    "    print (x)\n",
    "    \n",
    "  inner()\n",
    "  print(x)\n",
    "\n",
    "outer()\n",
    "print(x)"
   ]
  },
  {
   "cell_type": "markdown",
   "metadata": {},
   "source": [
    "## G : Global Scope\n",
    "    • Global Variables are defined for the whole program or module\n",
    "    • If a function variables having same variable name with global, it will act in local scope\n",
    "    • Global scope will never affect other scope until global keyword is used\n",
    "    • Should not use global keyword more often\n",
    "    \n",
    "    • It will not worry about what functions are doing - Until global keyword"
   ]
  },
  {
   "cell_type": "code",
   "execution_count": 15,
   "metadata": {
    "ExecuteTime": {
     "end_time": "2020-05-14T04:52:55.257378Z",
     "start_time": "2020-05-14T04:52:55.234777Z"
    }
   },
   "outputs": [
    {
     "name": "stdout",
     "output_type": "stream",
     "text": [
      "Global Variable X\n",
      "Local Variable Y\n"
     ]
    }
   ],
   "source": [
    "x = 'Global Variable X'\n",
    "\n",
    "def local_scope():\n",
    "  y = 'Local Variable Y'\n",
    "  print (y)\n",
    "\n",
    "print (x)\n",
    "local_scope()"
   ]
  },
  {
   "cell_type": "code",
   "execution_count": 19,
   "metadata": {
    "ExecuteTime": {
     "end_time": "2020-05-14T04:53:55.059811Z",
     "start_time": "2020-05-14T04:53:55.034210Z"
    }
   },
   "outputs": [
    {
     "name": "stdout",
     "output_type": "stream",
     "text": [
      "Global Variable X\n",
      "Global Variable X\n",
      "Local Variable Y\n"
     ]
    }
   ],
   "source": [
    "x = 'Global Variable X'\n",
    "\n",
    "def local_scope():\n",
    "  y = 'Local Variable Y'\n",
    "  print (x)\n",
    "  print (y)\n",
    "\n",
    "print (x)\n",
    "local_scope()"
   ]
  },
  {
   "cell_type": "code",
   "execution_count": 3,
   "metadata": {
    "ExecuteTime": {
     "end_time": "2020-06-21T07:00:05.678082Z",
     "start_time": "2020-06-21T07:00:05.622079Z"
    },
    "scrolled": false
   },
   "outputs": [
    {
     "name": "stdout",
     "output_type": "stream",
     "text": [
      "Global Variable X\n",
      "Global Variable X\n",
      "Local Variable Y\n",
      "{'In': ['',\n",
      "        'x '\n",
      "        '= '\n",
      "        \"'Global \"\n",
      "        'Variable '\n",
      "        \"X'\\n\"\n",
      "        '\\n'\n",
      "        'def '\n",
      "        'local_scope():\\n'\n",
      "        '  '\n",
      "        'y '\n",
      "        '= '\n",
      "        \"'Local \"\n",
      "        'Variable '\n",
      "        \"Y'\\n\"\n",
      "        '  '\n",
      "        'print '\n",
      "        '(x)\\n'\n",
      "        '  '\n",
      "        'print '\n",
      "        '(y)\\n'\n",
      "        '  '\n",
      "        'print(globals())\\n'\n",
      "        '\\n'\n",
      "        'print '\n",
      "        '(x)\\n'\n",
      "        'local_scope()',\n",
      "        'import '\n",
      "        'pprint\\n'\n",
      "        'x '\n",
      "        '= '\n",
      "        \"'Global \"\n",
      "        'Variable '\n",
      "        \"X'\\n\"\n",
      "        '\\n'\n",
      "        'def '\n",
      "        'local_scope():\\n'\n",
      "        '  '\n",
      "        'y '\n",
      "        '= '\n",
      "        \"'Local \"\n",
      "        'Variable '\n",
      "        \"Y'\\n\"\n",
      "        '  '\n",
      "        'print '\n",
      "        '(x)\\n'\n",
      "        '  '\n",
      "        'print '\n",
      "        '(y)\\n'\n",
      "        '  '\n",
      "        'print(globals())\\n'\n",
      "        '  '\n",
      "        'pprint.pprint(dict(globals()), '\n",
      "        'width '\n",
      "        '= '\n",
      "        '1)\\n'\n",
      "        '\\n'\n",
      "        'print '\n",
      "        '(x)\\n'\n",
      "        'local_scope()',\n",
      "        'import '\n",
      "        'pprint\\n'\n",
      "        'x '\n",
      "        '= '\n",
      "        \"'Global \"\n",
      "        'Variable '\n",
      "        \"X'\\n\"\n",
      "        '\\n'\n",
      "        'def '\n",
      "        'local_scope():\\n'\n",
      "        '  '\n",
      "        'y '\n",
      "        '= '\n",
      "        \"'Local \"\n",
      "        'Variable '\n",
      "        \"Y'\\n\"\n",
      "        '  '\n",
      "        'print '\n",
      "        '(x)\\n'\n",
      "        '  '\n",
      "        'print '\n",
      "        '(y)\\n'\n",
      "        '  '\n",
      "        'pprint.pprint(dict(globals()), '\n",
      "        'width '\n",
      "        '= '\n",
      "        '1)\\n'\n",
      "        '\\n'\n",
      "        'print '\n",
      "        '(x)\\n'\n",
      "        'local_scope()'],\n",
      " 'NamespaceMagics': <class 'IPython.core.magics.namespace.NamespaceMagics'>,\n",
      " 'Out': {},\n",
      " '_': '',\n",
      " '_Jupyter': <ipykernel.zmqshell.ZMQInteractiveShell object at 0x0000000004E93388>,\n",
      " '__': '',\n",
      " '___': '',\n",
      " '__builtin__': <module 'builtins' (built-in)>,\n",
      " '__builtins__': <module 'builtins' (built-in)>,\n",
      " '__doc__': 'Automatically '\n",
      "            'created '\n",
      "            'module '\n",
      "            'for '\n",
      "            'IPython '\n",
      "            'interactive '\n",
      "            'environment',\n",
      " '__loader__': None,\n",
      " '__name__': '__main__',\n",
      " '__package__': None,\n",
      " '__spec__': None,\n",
      " '_dh': ['C:\\\\Users\\\\Vignesh_Palanivel\\\\Google '\n",
      "         'Drive\\\\Jupyter '\n",
      "         'Notebooks\\\\Python_Notebooks'],\n",
      " '_getshapeof': <function _getshapeof at 0x0000000004FF5F78>,\n",
      " '_getsizeof': <function _getsizeof at 0x00000000050224C8>,\n",
      " '_i': 'import '\n",
      "       'pprint\\n'\n",
      "       'x '\n",
      "       '= '\n",
      "       \"'Global \"\n",
      "       'Variable '\n",
      "       \"X'\\n\"\n",
      "       '\\n'\n",
      "       'def '\n",
      "       'local_scope():\\n'\n",
      "       '  '\n",
      "       'y '\n",
      "       '= '\n",
      "       \"'Local \"\n",
      "       'Variable '\n",
      "       \"Y'\\n\"\n",
      "       '  '\n",
      "       'print '\n",
      "       '(x)\\n'\n",
      "       '  '\n",
      "       'print '\n",
      "       '(y)\\n'\n",
      "       '  '\n",
      "       'print(globals())\\n'\n",
      "       '  '\n",
      "       'pprint.pprint(dict(globals()), '\n",
      "       'width '\n",
      "       '= '\n",
      "       '1)\\n'\n",
      "       '\\n'\n",
      "       'print '\n",
      "       '(x)\\n'\n",
      "       'local_scope()',\n",
      " '_i1': 'x '\n",
      "        '= '\n",
      "        \"'Global \"\n",
      "        'Variable '\n",
      "        \"X'\\n\"\n",
      "        '\\n'\n",
      "        'def '\n",
      "        'local_scope():\\n'\n",
      "        '  '\n",
      "        'y '\n",
      "        '= '\n",
      "        \"'Local \"\n",
      "        'Variable '\n",
      "        \"Y'\\n\"\n",
      "        '  '\n",
      "        'print '\n",
      "        '(x)\\n'\n",
      "        '  '\n",
      "        'print '\n",
      "        '(y)\\n'\n",
      "        '  '\n",
      "        'print(globals())\\n'\n",
      "        '\\n'\n",
      "        'print '\n",
      "        '(x)\\n'\n",
      "        'local_scope()',\n",
      " '_i2': 'import '\n",
      "        'pprint\\n'\n",
      "        'x '\n",
      "        '= '\n",
      "        \"'Global \"\n",
      "        'Variable '\n",
      "        \"X'\\n\"\n",
      "        '\\n'\n",
      "        'def '\n",
      "        'local_scope():\\n'\n",
      "        '  '\n",
      "        'y '\n",
      "        '= '\n",
      "        \"'Local \"\n",
      "        'Variable '\n",
      "        \"Y'\\n\"\n",
      "        '  '\n",
      "        'print '\n",
      "        '(x)\\n'\n",
      "        '  '\n",
      "        'print '\n",
      "        '(y)\\n'\n",
      "        '  '\n",
      "        'print(globals())\\n'\n",
      "        '  '\n",
      "        'pprint.pprint(dict(globals()), '\n",
      "        'width '\n",
      "        '= '\n",
      "        '1)\\n'\n",
      "        '\\n'\n",
      "        'print '\n",
      "        '(x)\\n'\n",
      "        'local_scope()',\n",
      " '_i3': 'import '\n",
      "        'pprint\\n'\n",
      "        'x '\n",
      "        '= '\n",
      "        \"'Global \"\n",
      "        'Variable '\n",
      "        \"X'\\n\"\n",
      "        '\\n'\n",
      "        'def '\n",
      "        'local_scope():\\n'\n",
      "        '  '\n",
      "        'y '\n",
      "        '= '\n",
      "        \"'Local \"\n",
      "        'Variable '\n",
      "        \"Y'\\n\"\n",
      "        '  '\n",
      "        'print '\n",
      "        '(x)\\n'\n",
      "        '  '\n",
      "        'print '\n",
      "        '(y)\\n'\n",
      "        '  '\n",
      "        'pprint.pprint(dict(globals()), '\n",
      "        'width '\n",
      "        '= '\n",
      "        '1)\\n'\n",
      "        '\\n'\n",
      "        'print '\n",
      "        '(x)\\n'\n",
      "        'local_scope()',\n",
      " '_ih': ['',\n",
      "         'x '\n",
      "         '= '\n",
      "         \"'Global \"\n",
      "         'Variable '\n",
      "         \"X'\\n\"\n",
      "         '\\n'\n",
      "         'def '\n",
      "         'local_scope():\\n'\n",
      "         '  '\n",
      "         'y '\n",
      "         '= '\n",
      "         \"'Local \"\n",
      "         'Variable '\n",
      "         \"Y'\\n\"\n",
      "         '  '\n",
      "         'print '\n",
      "         '(x)\\n'\n",
      "         '  '\n",
      "         'print '\n",
      "         '(y)\\n'\n",
      "         '  '\n",
      "         'print(globals())\\n'\n",
      "         '\\n'\n",
      "         'print '\n",
      "         '(x)\\n'\n",
      "         'local_scope()',\n",
      "         'import '\n",
      "         'pprint\\n'\n",
      "         'x '\n",
      "         '= '\n",
      "         \"'Global \"\n",
      "         'Variable '\n",
      "         \"X'\\n\"\n",
      "         '\\n'\n",
      "         'def '\n",
      "         'local_scope():\\n'\n",
      "         '  '\n",
      "         'y '\n",
      "         '= '\n",
      "         \"'Local \"\n",
      "         'Variable '\n",
      "         \"Y'\\n\"\n",
      "         '  '\n",
      "         'print '\n",
      "         '(x)\\n'\n",
      "         '  '\n",
      "         'print '\n",
      "         '(y)\\n'\n",
      "         '  '\n",
      "         'print(globals())\\n'\n",
      "         '  '\n",
      "         'pprint.pprint(dict(globals()), '\n",
      "         'width '\n",
      "         '= '\n",
      "         '1)\\n'\n",
      "         '\\n'\n",
      "         'print '\n",
      "         '(x)\\n'\n",
      "         'local_scope()',\n",
      "         'import '\n",
      "         'pprint\\n'\n",
      "         'x '\n",
      "         '= '\n",
      "         \"'Global \"\n",
      "         'Variable '\n",
      "         \"X'\\n\"\n",
      "         '\\n'\n",
      "         'def '\n",
      "         'local_scope():\\n'\n",
      "         '  '\n",
      "         'y '\n",
      "         '= '\n",
      "         \"'Local \"\n",
      "         'Variable '\n",
      "         \"Y'\\n\"\n",
      "         '  '\n",
      "         'print '\n",
      "         '(x)\\n'\n",
      "         '  '\n",
      "         'print '\n",
      "         '(y)\\n'\n",
      "         '  '\n",
      "         'pprint.pprint(dict(globals()), '\n",
      "         'width '\n",
      "         '= '\n",
      "         '1)\\n'\n",
      "         '\\n'\n",
      "         'print '\n",
      "         '(x)\\n'\n",
      "         'local_scope()'],\n",
      " '_ii': 'x '\n",
      "        '= '\n",
      "        \"'Global \"\n",
      "        'Variable '\n",
      "        \"X'\\n\"\n",
      "        '\\n'\n",
      "        'def '\n",
      "        'local_scope():\\n'\n",
      "        '  '\n",
      "        'y '\n",
      "        '= '\n",
      "        \"'Local \"\n",
      "        'Variable '\n",
      "        \"Y'\\n\"\n",
      "        '  '\n",
      "        'print '\n",
      "        '(x)\\n'\n",
      "        '  '\n",
      "        'print '\n",
      "        '(y)\\n'\n",
      "        '  '\n",
      "        'print(globals())\\n'\n",
      "        '\\n'\n",
      "        'print '\n",
      "        '(x)\\n'\n",
      "        'local_scope()',\n",
      " '_iii': '',\n",
      " '_nms': <IPython.core.magics.namespace.NamespaceMagics object at 0x0000000005C5DB08>,\n",
      " '_oh': {},\n",
      " 'exit': <IPython.core.autocall.ZMQExitAutocall object at 0x0000000004FA4348>,\n",
      " 'get_ipython': <function get_ipython at 0x0000000002A3F0D8>,\n",
      " 'getsizeof': <built-in function getsizeof>,\n",
      " 'json': <module 'json' from 'C:\\\\ProgramData\\\\Anaconda3\\\\lib\\\\json\\\\__init__.py'>,\n",
      " 'local_scope': <function local_scope at 0x0000000004FF5E58>,\n",
      " 'np': <module 'numpy' from 'C:\\\\ProgramData\\\\Anaconda3\\\\lib\\\\site-packages\\\\numpy\\\\__init__.py'>,\n",
      " 'pprint': <module 'pprint' from 'C:\\\\ProgramData\\\\Anaconda3\\\\lib\\\\pprint.py'>,\n",
      " 'quit': <IPython.core.autocall.ZMQExitAutocall object at 0x0000000004FA4348>,\n",
      " 'var_dic_list': <function var_dic_list at 0x0000000004FF55E8>,\n",
      " 'x': 'Global '\n",
      "      'Variable '\n",
      "      'X',\n",
      " 'yapf_reformat': <function yapf_reformat at 0x00000000050220D8>}\n"
     ]
    }
   ],
   "source": [
    "import pprint\n",
    "x = 'Global Variable X'\n",
    "\n",
    "def local_scope():\n",
    "  y = 'Local Variable Y'\n",
    "  print (x)\n",
    "  print (y)\n",
    "  pprint.pprint(dict(globals()), width = 1)\n",
    "\n",
    "print (x)\n",
    "local_scope()"
   ]
  },
  {
   "cell_type": "markdown",
   "metadata": {},
   "source": [
    "### Global vs Local"
   ]
  },
  {
   "cell_type": "code",
   "execution_count": 20,
   "metadata": {
    "ExecuteTime": {
     "end_time": "2020-05-14T04:54:02.384345Z",
     "start_time": "2020-05-14T04:54:02.352343Z"
    }
   },
   "outputs": [
    {
     "name": "stdout",
     "output_type": "stream",
     "text": [
      "Global Variable X\n",
      "Global Variable X\n",
      "Local Variable Y\n"
     ]
    },
    {
     "ename": "NameError",
     "evalue": "name 'y' is not defined",
     "output_type": "error",
     "traceback": [
      "\u001b[1;31m---------------------------------------------------------------------------\u001b[0m",
      "\u001b[1;31mNameError\u001b[0m                                 Traceback (most recent call last)",
      "\u001b[1;32m<ipython-input-20-8bd01e0bb1a7>\u001b[0m in \u001b[0;36m<module>\u001b[1;34m\u001b[0m\n\u001b[0;32m      8\u001b[0m \u001b[0mprint\u001b[0m \u001b[1;33m(\u001b[0m\u001b[0mx\u001b[0m\u001b[1;33m)\u001b[0m\u001b[1;33m\u001b[0m\u001b[1;33m\u001b[0m\u001b[0m\n\u001b[0;32m      9\u001b[0m \u001b[0mlocal_scope\u001b[0m\u001b[1;33m(\u001b[0m\u001b[1;33m)\u001b[0m\u001b[1;33m\u001b[0m\u001b[1;33m\u001b[0m\u001b[0m\n\u001b[1;32m---> 10\u001b[1;33m \u001b[0mprint\u001b[0m \u001b[1;33m(\u001b[0m\u001b[0my\u001b[0m\u001b[1;33m)\u001b[0m\u001b[1;33m\u001b[0m\u001b[1;33m\u001b[0m\u001b[0m\n\u001b[0m",
      "\u001b[1;31mNameError\u001b[0m: name 'y' is not defined"
     ]
    }
   ],
   "source": [
    "x = 'Global Variable X'\n",
    "\n",
    "def local_scope():\n",
    "  y = 'Local Variable Y'\n",
    "  print (x)\n",
    "  print (y)\n",
    "\n",
    "print (x)\n",
    "local_scope()\n",
    "print (y)"
   ]
  },
  {
   "cell_type": "code",
   "execution_count": 22,
   "metadata": {
    "ExecuteTime": {
     "end_time": "2020-05-14T04:57:01.281404Z",
     "start_time": "2020-05-14T04:57:01.265804Z"
    }
   },
   "outputs": [
    {
     "name": "stdout",
     "output_type": "stream",
     "text": [
      "Local Variable Y\n",
      "Global Variable X\n"
     ]
    }
   ],
   "source": [
    "x = 'Global Variable X'\n",
    "\n",
    "def local_scope():\n",
    "  x = 'Local Variable Y'\n",
    "  print (x)\n",
    "\n",
    "local_scope()\n",
    "print (x)"
   ]
  },
  {
   "cell_type": "code",
   "execution_count": 24,
   "metadata": {
    "ExecuteTime": {
     "end_time": "2020-05-14T05:02:00.804176Z",
     "start_time": "2020-05-14T05:02:00.783576Z"
    }
   },
   "outputs": [
    {
     "name": "stdout",
     "output_type": "stream",
     "text": [
      "Local Variable Y\n",
      "Local Variable Y\n"
     ]
    }
   ],
   "source": [
    "x = 'Global Variable X'\n",
    "\n",
    "def local_scope():\n",
    "  global x\n",
    "  x = 'Local Variable Y'\n",
    "  print (x)\n",
    "\n",
    "local_scope()\n",
    "print (x)"
   ]
  },
  {
   "cell_type": "code",
   "execution_count": 30,
   "metadata": {
    "ExecuteTime": {
     "end_time": "2020-05-14T05:03:17.168453Z",
     "start_time": "2020-05-14T05:03:17.142853Z"
    }
   },
   "outputs": [
    {
     "name": "stdout",
     "output_type": "stream",
     "text": [
      "Local Variable Y\n",
      "Local Variable Y\n"
     ]
    }
   ],
   "source": [
    "def local_scope():\n",
    "  global x\n",
    "  x = 'Local Variable Y'\n",
    "  print (x)\n",
    "\n",
    "x = 'Global Variable X'\n",
    "\n",
    "local_scope()\n",
    "print (x)"
   ]
  },
  {
   "cell_type": "code",
   "execution_count": 32,
   "metadata": {
    "ExecuteTime": {
     "end_time": "2020-05-14T05:08:57.856413Z",
     "start_time": "2020-05-14T05:08:57.831413Z"
    }
   },
   "outputs": [
    {
     "name": "stdout",
     "output_type": "stream",
     "text": [
      "Local Variable Y\n",
      "Global Variable X\n"
     ]
    }
   ],
   "source": [
    "def local_scope():\n",
    "  global x\n",
    "  x = 'Local Variable Y'\n",
    "  print (x)\n",
    "\n",
    "local_scope()\n",
    "\n",
    "x = 'Global Variable X'\n",
    "print (x)"
   ]
  },
  {
   "cell_type": "code",
   "execution_count": 34,
   "metadata": {
    "ExecuteTime": {
     "end_time": "2020-05-14T05:09:35.245373Z",
     "start_time": "2020-05-14T05:09:35.219772Z"
    }
   },
   "outputs": [
    {
     "name": "stdout",
     "output_type": "stream",
     "text": [
      "Local Variable Z\n"
     ]
    }
   ],
   "source": [
    "def local_scope(z):\n",
    "  print (z)\n",
    "\n",
    "local_scope('Local Variable Z')"
   ]
  },
  {
   "cell_type": "code",
   "execution_count": 35,
   "metadata": {
    "ExecuteTime": {
     "end_time": "2020-05-14T05:09:46.412948Z",
     "start_time": "2020-05-14T05:09:46.371748Z"
    }
   },
   "outputs": [
    {
     "name": "stdout",
     "output_type": "stream",
     "text": [
      "Local Variable Z\n"
     ]
    },
    {
     "ename": "NameError",
     "evalue": "name 'z' is not defined",
     "output_type": "error",
     "traceback": [
      "\u001b[1;31m---------------------------------------------------------------------------\u001b[0m",
      "\u001b[1;31mNameError\u001b[0m                                 Traceback (most recent call last)",
      "\u001b[1;32m<ipython-input-35-a2d15469465f>\u001b[0m in \u001b[0;36m<module>\u001b[1;34m\u001b[0m\n\u001b[0;32m      3\u001b[0m \u001b[1;33m\u001b[0m\u001b[0m\n\u001b[0;32m      4\u001b[0m \u001b[0mlocal_scope\u001b[0m\u001b[1;33m(\u001b[0m\u001b[1;34m'Local Variable Z'\u001b[0m\u001b[1;33m)\u001b[0m\u001b[1;33m\u001b[0m\u001b[1;33m\u001b[0m\u001b[0m\n\u001b[1;32m----> 5\u001b[1;33m \u001b[0mprint\u001b[0m \u001b[1;33m(\u001b[0m\u001b[0mz\u001b[0m\u001b[1;33m)\u001b[0m\u001b[1;33m\u001b[0m\u001b[1;33m\u001b[0m\u001b[0m\n\u001b[0m",
      "\u001b[1;31mNameError\u001b[0m: name 'z' is not defined"
     ]
    }
   ],
   "source": [
    "def local_scope(z):\n",
    "  print (z)\n",
    "\n",
    "local_scope('Local Variable Z')\n",
    "print (z)"
   ]
  },
  {
   "cell_type": "markdown",
   "metadata": {},
   "source": [
    "## Built-In Scope\n",
    "    • Nmes that are Pre-Assigned (Pre-Defined Functions)\n",
    "    • If we use the same name for user defined function, our function will override built-ins"
   ]
  },
  {
   "cell_type": "code",
   "execution_count": 38,
   "metadata": {
    "ExecuteTime": {
     "end_time": "2020-05-14T05:13:21.284124Z",
     "start_time": "2020-05-14T05:13:21.268524Z"
    }
   },
   "outputs": [
    {
     "name": "stdout",
     "output_type": "stream",
     "text": [
      "['ArithmeticError', 'AssertionError', 'AttributeError', 'BaseException', 'BlockingIOError', 'BrokenPipeError', 'BufferError', 'BytesWarning', 'ChildProcessError', 'ConnectionAbortedError', 'ConnectionError', 'ConnectionRefusedError', 'ConnectionResetError', 'DeprecationWarning', 'EOFError', 'Ellipsis', 'EnvironmentError', 'Exception', 'False', 'FileExistsError', 'FileNotFoundError', 'FloatingPointError', 'FutureWarning', 'GeneratorExit', 'IOError', 'ImportError', 'ImportWarning', 'IndentationError', 'IndexError', 'InterruptedError', 'IsADirectoryError', 'KeyError', 'KeyboardInterrupt', 'LookupError', 'MemoryError', 'ModuleNotFoundError', 'NameError', 'None', 'NotADirectoryError', 'NotImplemented', 'NotImplementedError', 'OSError', 'OverflowError', 'PendingDeprecationWarning', 'PermissionError', 'ProcessLookupError', 'RecursionError', 'ReferenceError', 'ResourceWarning', 'RuntimeError', 'RuntimeWarning', 'StopAsyncIteration', 'StopIteration', 'SyntaxError', 'SyntaxWarning', 'SystemError', 'SystemExit', 'TabError', 'TimeoutError', 'True', 'TypeError', 'UnboundLocalError', 'UnicodeDecodeError', 'UnicodeEncodeError', 'UnicodeError', 'UnicodeTranslateError', 'UnicodeWarning', 'UserWarning', 'ValueError', 'Warning', 'WindowsError', 'ZeroDivisionError', '__IPYTHON__', '__build_class__', '__debug__', '__doc__', '__import__', '__loader__', '__name__', '__package__', '__spec__', 'abs', 'all', 'any', 'ascii', 'bin', 'bool', 'breakpoint', 'bytearray', 'bytes', 'callable', 'chr', 'classmethod', 'compile', 'complex', 'copyright', 'credits', 'delattr', 'dict', 'dir', 'display', 'divmod', 'enumerate', 'eval', 'exec', 'filter', 'float', 'format', 'frozenset', 'get_ipython', 'getattr', 'globals', 'hasattr', 'hash', 'help', 'hex', 'id', 'input', 'int', 'isinstance', 'issubclass', 'iter', 'len', 'license', 'list', 'locals', 'map', 'max', 'memoryview', 'min', 'next', 'object', 'oct', 'open', 'ord', 'pow', 'print', 'property', 'range', 'repr', 'reversed', 'round', 'set', 'setattr', 'slice', 'sorted', 'staticmethod', 'str', 'sum', 'super', 'tuple', 'type', 'vars', 'zip']\n"
     ]
    }
   ],
   "source": [
    "import builtins\n",
    "\n",
    "print(dir(builtins))"
   ]
  },
  {
   "cell_type": "code",
   "execution_count": 36,
   "metadata": {
    "ExecuteTime": {
     "end_time": "2020-05-14T05:12:07.851151Z",
     "start_time": "2020-05-14T05:12:07.833051Z"
    }
   },
   "outputs": [
    {
     "name": "stdout",
     "output_type": "stream",
     "text": [
      "1\n"
     ]
    }
   ],
   "source": [
    "m = min([5,4,3,2,1])\n",
    "print (m)"
   ]
  },
  {
   "cell_type": "markdown",
   "metadata": {},
   "source": [
    "### Global vs Built-In"
   ]
  },
  {
   "cell_type": "code",
   "execution_count": 44,
   "metadata": {
    "ExecuteTime": {
     "end_time": "2020-05-14T05:20:02.646324Z",
     "start_time": "2020-05-14T05:20:02.625724Z"
    }
   },
   "outputs": [
    {
     "name": "stdout",
     "output_type": "stream",
     "text": [
      "[5, 4, 3, 2, 1]\n"
     ]
    }
   ],
   "source": [
    "def min(x):\n",
    "  #print (x)\n",
    "\n",
    "m = min([5,4,3,2,1])"
   ]
  },
  {
   "cell_type": "code",
   "execution_count": null,
   "metadata": {},
   "outputs": [],
   "source": [
    "#Restart kernal"
   ]
  },
  {
   "cell_type": "code",
   "execution_count": 2,
   "metadata": {
    "ExecuteTime": {
     "end_time": "2020-05-14T05:20:51.978928Z",
     "start_time": "2020-05-14T05:20:51.941428Z"
    }
   },
   "outputs": [
    {
     "name": "stdout",
     "output_type": "stream",
     "text": [
      "1\n"
     ]
    }
   ],
   "source": [
    "def my_min(x):\n",
    "  print (x)\n",
    "\n",
    "m = min([5,4,3,2,1])\n",
    "print (m)"
   ]
  }
 ],
 "metadata": {
  "kernelspec": {
   "display_name": "Python 3 (ipykernel)",
   "language": "python",
   "name": "python3"
  },
  "language_info": {
   "codemirror_mode": {
    "name": "ipython",
    "version": 3
   },
   "file_extension": ".py",
   "mimetype": "text/x-python",
   "name": "python",
   "nbconvert_exporter": "python",
   "pygments_lexer": "ipython3",
   "version": "3.8.13"
  },
  "latex_envs": {
   "LaTeX_envs_menu_present": true,
   "autoclose": false,
   "autocomplete": true,
   "bibliofile": "biblio.bib",
   "cite_by": "apalike",
   "current_citInitial": 1,
   "eqLabelWithNumbers": true,
   "eqNumInitial": 1,
   "hotkeys": {
    "equation": "Ctrl-E",
    "itemize": "Ctrl-I"
   },
   "labels_anchors": false,
   "latex_user_defs": false,
   "report_style_numbering": false,
   "user_envs_cfg": false
  },
  "toc": {
   "base_numbering": 1,
   "nav_menu": {},
   "number_sections": true,
   "sideBar": true,
   "skip_h1_title": false,
   "title_cell": "Table of Contents",
   "title_sidebar": "Contents",
   "toc_cell": true,
   "toc_position": {
    "height": "601.25px",
    "left": "33px",
    "top": "103.469px",
    "width": "318.958px"
   },
   "toc_section_display": true,
   "toc_window_display": true
  },
  "varInspector": {
   "cols": {
    "lenName": 16,
    "lenType": 16,
    "lenVar": 40
   },
   "kernels_config": {
    "python": {
     "delete_cmd_postfix": "",
     "delete_cmd_prefix": "del ",
     "library": "var_list.py",
     "varRefreshCmd": "print(var_dic_list())"
    },
    "r": {
     "delete_cmd_postfix": ") ",
     "delete_cmd_prefix": "rm(",
     "library": "var_list.r",
     "varRefreshCmd": "cat(var_dic_list()) "
    }
   },
   "types_to_exclude": [
    "module",
    "function",
    "builtin_function_or_method",
    "instance",
    "_Feature"
   ],
   "window_display": false
  }
 },
 "nbformat": 4,
 "nbformat_minor": 2
}
