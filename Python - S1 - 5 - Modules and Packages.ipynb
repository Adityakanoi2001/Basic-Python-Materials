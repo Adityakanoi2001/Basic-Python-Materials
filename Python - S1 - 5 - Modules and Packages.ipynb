{
 "cells": [
  {
   "cell_type": "markdown",
   "metadata": {
    "toc": true
   },
   "source": [
    "<h1>Table of Contents<span class=\"tocSkip\"></span></h1>\n",
    "<div class=\"toc\"><ul class=\"toc-item\"><li><span><a href=\"#Modules-and-Packages\" data-toc-modified-id=\"Modules-and-Packages-1\"><span class=\"toc-item-num\">1&nbsp;&nbsp;</span>Modules and Packages</a></span><ul class=\"toc-item\"><li><span><a href=\"#Modules\" data-toc-modified-id=\"Modules-1.1\"><span class=\"toc-item-num\">1.1&nbsp;&nbsp;</span>Modules</a></span><ul class=\"toc-item\"><li><span><a href=\"#Built-in-Python-Modules\" data-toc-modified-id=\"Built-in-Python-Modules-1.1.1\"><span class=\"toc-item-num\">1.1.1&nbsp;&nbsp;</span>Built in Python Modules</a></span></li><li><span><a href=\"#Ways-of-importing-modules\" data-toc-modified-id=\"Ways-of-importing-modules-1.1.2\"><span class=\"toc-item-num\">1.1.2&nbsp;&nbsp;</span>Ways of importing modules</a></span></li><li><span><a href=\"#Using-Alias\" data-toc-modified-id=\"Using-Alias-1.1.3\"><span class=\"toc-item-num\">1.1.3&nbsp;&nbsp;</span>Using Alias</a></span></li><li><span><a href=\"#Getting-help\" data-toc-modified-id=\"Getting-help-1.1.4\"><span class=\"toc-item-num\">1.1.4&nbsp;&nbsp;</span>Getting help</a></span></li></ul></li><li><span><a href=\"#Packages\" data-toc-modified-id=\"Packages-1.2\"><span class=\"toc-item-num\">1.2&nbsp;&nbsp;</span>Packages</a></span></li></ul></li><li><span><a href=\"#Exercise-&amp;-Answers\" data-toc-modified-id=\"Exercise-&amp;-Answers-2\"><span class=\"toc-item-num\">2&nbsp;&nbsp;</span>Exercise &amp; Answers</a></span><ul class=\"toc-item\"><li><span><a href=\"#Exercise\" data-toc-modified-id=\"Exercise-2.1\"><span class=\"toc-item-num\">2.1&nbsp;&nbsp;</span>Exercise</a></span></li><li><span><a href=\"#Answers\" data-toc-modified-id=\"Answers-2.2\"><span class=\"toc-item-num\">2.2&nbsp;&nbsp;</span>Answers</a></span></li></ul></li></ul></div>"
   ]
  },
  {
   "cell_type": "markdown",
   "metadata": {},
   "source": [
    "# Modules and Packages "
   ]
  },
  {
   "cell_type": "markdown",
   "metadata": {},
   "source": [
    "## Modules"
   ]
  },
  {
   "cell_type": "markdown",
   "metadata": {},
   "source": [
    "A module is a piece of software that has a specific functionality. For example, math module has functionality related to mathematical operations.\n",
    "In Python, A module is a file containing Python definitions and statements. The file name is the module name with the suffix .py appended. "
   ]
  },
  {
   "cell_type": "markdown",
   "metadata": {},
   "source": [
    "As your program gets longer, you may want to split it into several files for easier maintenance. You may also want to use a handy function that you’ve written in several programs without copying its definition into each program.\n",
    "\n",
    "To support this, Python has a way to put definitions in a file and use them in a script or in an interactive instance of the interpreter. Such a file is called a module; definitions from a module can be imported into other modules or into the main module (the collection of variables that you have access to in a script executed at the top level and in calculator mode)."
   ]
  },
  {
   "cell_type": "markdown",
   "metadata": {},
   "source": [
    "### Built in Python Modules"
   ]
  },
  {
   "cell_type": "markdown",
   "metadata": {},
   "source": [
    "Python comes with a library of standard modules. In order to make use of the modules, they needs to imported into the script or notebook first. Then the definitions from that module can be used within the program."
   ]
  },
  {
   "cell_type": "code",
   "execution_count": null,
   "metadata": {},
   "outputs": [],
   "source": [
    "import sys\n",
    "print(sys.version)"
   ]
  },
  {
   "cell_type": "code",
   "execution_count": null,
   "metadata": {},
   "outputs": [],
   "source": [
    "import math\n",
    "math.sqrt(5) # compute the square root of a number"
   ]
  },
  {
   "cell_type": "code",
   "execution_count": null,
   "metadata": {},
   "outputs": [],
   "source": [
    "import time\n",
    "time.sleep(5) # halts the execution for 5 seconds"
   ]
  },
  {
   "cell_type": "code",
   "execution_count": 1,
   "metadata": {
    "ExecuteTime": {
     "end_time": "2024-11-09T17:09:02.829214Z",
     "start_time": "2024-11-09T17:09:02.801246Z"
    }
   },
   "outputs": [
    {
     "name": "stdout",
     "output_type": "stream",
     "text": [
      "['_abc', '_ast', '_codecs', '_collections', '_functools', '_imp', '_io', '_locale', '_operator', '_signal', '_sre', '_stat', '_string', '_symtable', '_thread', '_tracemalloc', '_warnings', '_weakref', 'atexit', 'builtins', 'errno', 'faulthandler', 'gc', 'itertools', 'marshal', 'posix', 'pwd', 'sys', 'time', 'xxsubtype']\n"
     ]
    }
   ],
   "source": [
    "import sys\n",
    "builtin_modules = sys.builtin_module_names\n",
    "print(list(builtin_modules))"
   ]
  },
  {
   "cell_type": "markdown",
   "metadata": {},
   "source": [
    "### Ways of importing modules"
   ]
  },
  {
   "cell_type": "markdown",
   "metadata": {},
   "source": [
    "There are couple of ways to import modules. Here are several ways to import some functions from Random module. "
   ]
  },
  {
   "cell_type": "code",
   "execution_count": null,
   "metadata": {},
   "outputs": [],
   "source": [
    "from random import randint\n",
    "from random import *\n",
    "import random"
   ]
  },
  {
   "cell_type": "markdown",
   "metadata": {},
   "source": [
    "1. First way imports just function randint from the random module. <br>\n",
    "2. Second way imports all the functions from the random module. Generally to be avoided as some names in module that might interfere with your own varibales.\n",
    "3. Third way import module in a way that will not interfere with your variables names."
   ]
  },
  {
   "cell_type": "markdown",
   "metadata": {},
   "source": [
    "### Using Alias"
   ]
  },
  {
   "cell_type": "markdown",
   "metadata": {},
   "source": [
    "The as keyword can be used to refere the module with different name. Then use that alias to call the funcions from that module."
   ]
  },
  {
   "cell_type": "code",
   "execution_count": null,
   "metadata": {},
   "outputs": [],
   "source": [
    "import numpy as np \n",
    "np.arange(5) #creats array of 5 elements holding vales 0 to 4 "
   ]
  },
  {
   "cell_type": "markdown",
   "metadata": {},
   "source": [
    "### Getting help"
   ]
  },
  {
   "cell_type": "markdown",
   "metadata": {},
   "source": [
    "To get a help on module, import it adn then use dir(module_name) to get the list of functions defined in that module."
   ]
  },
  {
   "cell_type": "code",
   "execution_count": null,
   "metadata": {},
   "outputs": [],
   "source": [
    "dir(np)"
   ]
  },
  {
   "cell_type": "code",
   "execution_count": null,
   "metadata": {},
   "outputs": [],
   "source": [
    "help(np.arange)"
   ]
  },
  {
   "cell_type": "markdown",
   "metadata": {},
   "source": [
    "## Packages"
   ]
  },
  {
   "cell_type": "markdown",
   "metadata": {},
   "source": [
    "Packages are namespaces which contain multiple packages and modules themselves. They are simply directories, but with a twist.\n",
    "\n",
    "Each package in Python is a directory which MUST contain a special file called __init__.py. This file can be empty, and it indicates that the directory it contains is a Python package, so it can be imported the same way a module can be imported."
   ]
  },
  {
   "cell_type": "markdown",
   "metadata": {},
   "source": [
    "Packages are a way of structuring Python’s module namespace by using “dotted module names”. For example, the module name A.B designates a submodule named B in a package named A. Just like the use of modules saves the authors of different modules from having to worry about each other’s global variable names, the use of dotted module names saves the authors of multi-module packages like NumPy or Pillow from having to worry about each other’s module names."
   ]
  },
  {
   "cell_type": "markdown",
   "metadata": {},
   "source": [
    "# Exercise & Answers"
   ]
  },
  {
   "cell_type": "markdown",
   "metadata": {},
   "source": [
    "## Exercise "
   ]
  },
  {
   "cell_type": "markdown",
   "metadata": {},
   "source": [
    "Q1. Explore the contents of math module. Try using following functions from it \n",
    "    exp \n",
    "    floor\n",
    "    ceil\n",
    "    log \n",
    "    factorial"
   ]
  },
  {
   "cell_type": "code",
   "execution_count": null,
   "metadata": {},
   "outputs": [],
   "source": [
    "#Try it here\n"
   ]
  },
  {
   "cell_type": "markdown",
   "metadata": {},
   "source": [
    "Q2. Explore the way to generate the random numbers using the random module by setting different seed values. "
   ]
  },
  {
   "cell_type": "code",
   "execution_count": null,
   "metadata": {},
   "outputs": [],
   "source": [
    "#Try it here\n"
   ]
  },
  {
   "cell_type": "markdown",
   "metadata": {},
   "source": [
    "## Answers "
   ]
  },
  {
   "cell_type": "code",
   "execution_count": null,
   "metadata": {},
   "outputs": [],
   "source": [
    "# Q1. Solution \n",
    "import math \n",
    "print(\"e^2   --->\", math.exp(2))\n",
    "print()\n",
    "print(\"floor(2.3) ----> \", math.floor(2.3))\n",
    "print(\"floor(2.9) ----> \", math.floor(2.9))\n",
    "print()\n",
    "print(\"ceil(2.3) ----> \", math.ceil(2.3))\n",
    "print(\"ceil(2.9) ----> \", math.ceil(2.9))\n",
    "print()\n",
    "print(\"log(2.3) ----> \", math.log(2.3))\n",
    "print()\n",
    "print(\"factorial(5) ----> \", math.factorial(5))"
   ]
  },
  {
   "cell_type": "code",
   "execution_count": null,
   "metadata": {},
   "outputs": [],
   "source": [
    "#Q2. Solution\n",
    "import random \n",
    "random.seed(1)\n",
    "print(\"Random number in first run ----> \", random.randint(1,10)) #generate random number between 1 to 10\n",
    "print(\"Random number in second run ----> \", random.randint(1,10))\n",
    "print(\"Random number in third run ----> \", random.randint(1,10))"
   ]
  },
  {
   "cell_type": "code",
   "execution_count": null,
   "metadata": {},
   "outputs": [],
   "source": []
  }
 ],
 "metadata": {
  "kernelspec": {
   "display_name": "Python 3 (ipykernel)",
   "language": "python",
   "name": "python3"
  },
  "language_info": {
   "codemirror_mode": {
    "name": "ipython",
    "version": 3
   },
   "file_extension": ".py",
   "mimetype": "text/x-python",
   "name": "python",
   "nbconvert_exporter": "python",
   "pygments_lexer": "ipython3",
   "version": "3.8.13"
  },
  "toc": {
   "base_numbering": 1,
   "nav_menu": {},
   "number_sections": true,
   "sideBar": true,
   "skip_h1_title": false,
   "title_cell": "Table of Contents",
   "title_sidebar": "Contents",
   "toc_cell": true,
   "toc_position": {},
   "toc_section_display": true,
   "toc_window_display": true
  }
 },
 "nbformat": 4,
 "nbformat_minor": 2
}
