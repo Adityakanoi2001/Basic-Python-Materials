{
 "cells": [
  {
   "cell_type": "markdown",
   "metadata": {
    "toc": true
   },
   "source": [
    "<h1>Table of Contents<span class=\"tocSkip\"></span></h1>\n",
    "<div class=\"toc\"><ul class=\"toc-item\"><li><span><a href=\"#OOPS-Concepts\" data-toc-modified-id=\"OOPS-Concepts-1\"><span class=\"toc-item-num\">1&nbsp;&nbsp;</span>OOPS Concepts</a></span><ul class=\"toc-item\"><li><span><a href=\"#Basics-of-OOPS\" data-toc-modified-id=\"Basics-of-OOPS-1.1\"><span class=\"toc-item-num\">1.1&nbsp;&nbsp;</span>Basics of OOPS</a></span><ul class=\"toc-item\"><li><span><a href=\"#self-pointer\" data-toc-modified-id=\"self-pointer-1.1.1\"><span class=\"toc-item-num\">1.1.1&nbsp;&nbsp;</span>self pointer</a></span></li><li><span><a href=\"#Instance-or-Object-level-variable\" data-toc-modified-id=\"Instance-or-Object-level-variable-1.1.2\"><span class=\"toc-item-num\">1.1.2&nbsp;&nbsp;</span>Instance or Object level variable</a></span></li><li><span><a href=\"#Static-or-Class-level-variable\" data-toc-modified-id=\"Static-or-Class-level-variable-1.1.3\"><span class=\"toc-item-num\">1.1.3&nbsp;&nbsp;</span>Static or Class level variable</a></span></li></ul></li></ul></li></ul></div>"
   ]
  },
  {
   "cell_type": "markdown",
   "metadata": {},
   "source": [
    "# OOPS Concepts"
   ]
  },
  {
   "cell_type": "markdown",
   "metadata": {},
   "source": [
    "## Basics of OOPS"
   ]
  },
  {
   "cell_type": "markdown",
   "metadata": {},
   "source": [
    "**class ClassName():**<br>\n",
    "    &emsp;&emsp; **'''Documentation String'''**<br>\n",
    "    &emsp;&emsp; **Variables** : Instance, Static, Local<br>\n",
    "    &emsp;&emsp; **Methods**   : Instance, Static, Class<br>"
   ]
  },
  {
   "cell_type": "markdown",
   "metadata": {},
   "source": [
    "**Constructor**<br>\n",
    "`It is a Special Method : __init__`<br>\n",
    "`It will be executed automatically when initializing class Object`<br>\n",
    "`It can only be executed only once when initializing class object`<br>\n",
    "`Used to Declare and Initialize instance Variables`<br>\n",
    "`One or more constructor not possible, if so, executes latest(Constructor Overloading not possible)`<br>"
   ]
  },
  {
   "cell_type": "markdown",
   "metadata": {},
   "source": [
    "**self:**<br>\n",
    "`Python provided implicit variable always pointing to class object`<br>\n",
    "`By Using self, We can access Instance Variables & Methods`<br>\n",
    "`Self can also be replaced with any variable`"
   ]
  },
  {
   "cell_type": "markdown",
   "metadata": {},
   "source": [
    "**variable:**<br>\n",
    "`Instance Variable : Object Level Variable`<br>\n",
    "`Static Variable   : Class Level Variable`<br>\n",
    "`Local Variable    : Method Level Variable`<br>"
   ]
  },
  {
   "cell_type": "markdown",
   "metadata": {},
   "source": [
    "### self pointer"
   ]
  },
  {
   "cell_type": "code",
   "execution_count": 5,
   "metadata": {
    "ExecuteTime": {
     "end_time": "2020-10-03T09:32:51.483419Z",
     "start_time": "2020-10-03T09:32:51.465418Z"
    }
   },
   "outputs": [],
   "source": [
    "# Self Example\n",
    "\n",
    "class Student():\n",
    "    def __init__(self, x, y):\n",
    "        self.x = x\n",
    "        self.y = y\n",
    "    def show(self):\n",
    "        print('X : {}, Y: {}'.format(self.x, self.y))"
   ]
  },
  {
   "cell_type": "code",
   "execution_count": 6,
   "metadata": {
    "ExecuteTime": {
     "end_time": "2020-10-03T09:32:56.179688Z",
     "start_time": "2020-10-03T09:32:56.158687Z"
    }
   },
   "outputs": [
    {
     "name": "stdout",
     "output_type": "stream",
     "text": [
      "X : 1, Y: 2\n"
     ]
    }
   ],
   "source": [
    "s = Student(1, 2)\n",
    "s.show()"
   ]
  },
  {
   "cell_type": "code",
   "execution_count": 7,
   "metadata": {
    "ExecuteTime": {
     "end_time": "2020-10-03T09:33:41.802297Z",
     "start_time": "2020-10-03T09:33:41.791297Z"
    }
   },
   "outputs": [],
   "source": [
    "# Self can also be replaced with any variable\n",
    "\n",
    "class Student():\n",
    "    def __init__(var, x, y):\n",
    "        var.x = x\n",
    "        var.y = y\n",
    "    def show(var):\n",
    "        print('X : {}, Y: {}'.format(var.x, var.y))"
   ]
  },
  {
   "cell_type": "code",
   "execution_count": 8,
   "metadata": {
    "ExecuteTime": {
     "end_time": "2020-10-03T09:33:46.992594Z",
     "start_time": "2020-10-03T09:33:46.983594Z"
    }
   },
   "outputs": [
    {
     "name": "stdout",
     "output_type": "stream",
     "text": [
      "X : 1, Y: 2\n"
     ]
    }
   ],
   "source": [
    "s = Student(1, 2)\n",
    "s.show()"
   ]
  },
  {
   "cell_type": "code",
   "execution_count": 14,
   "metadata": {
    "ExecuteTime": {
     "end_time": "2020-10-03T09:41:06.049707Z",
     "start_time": "2020-10-03T09:41:06.029706Z"
    }
   },
   "outputs": [],
   "source": [
    "# Variable self is having same ID(which is Class)\n",
    "\n",
    "class Student():\n",
    "    def __init__(var, x, y):\n",
    "        var.x = x\n",
    "        var.y = y\n",
    "        print(id(var))\n",
    "    def show(var):\n",
    "        print('X : {}, Y: {}'.format(var.x, var.y))\n",
    "        print(id(var))"
   ]
  },
  {
   "cell_type": "code",
   "execution_count": 15,
   "metadata": {
    "ExecuteTime": {
     "end_time": "2020-10-03T09:41:06.581737Z",
     "start_time": "2020-10-03T09:41:06.548736Z"
    }
   },
   "outputs": [
    {
     "name": "stdout",
     "output_type": "stream",
     "text": [
      "87705672\n",
      "X : 1, Y: 2\n",
      "87705672\n"
     ]
    },
    {
     "data": {
      "text/plain": [
       "87705672"
      ]
     },
     "execution_count": 15,
     "metadata": {},
     "output_type": "execute_result"
    }
   ],
   "source": [
    "s = Student(1, 2)\n",
    "s.show()\n",
    "id(s)"
   ]
  },
  {
   "cell_type": "code",
   "execution_count": 18,
   "metadata": {
    "ExecuteTime": {
     "end_time": "2020-10-03T09:49:29.564440Z",
     "start_time": "2020-10-03T09:49:29.555439Z"
    }
   },
   "outputs": [
    {
     "name": "stdout",
     "output_type": "stream",
     "text": [
      "87705672\n",
      "87705672\n"
     ]
    }
   ],
   "source": [
    "s.__init__(10,20)\n",
    "s.__init__(20,30)"
   ]
  },
  {
   "cell_type": "code",
   "execution_count": 19,
   "metadata": {
    "ExecuteTime": {
     "end_time": "2020-10-03T14:20:47.010389Z",
     "start_time": "2020-10-03T14:20:46.985387Z"
    }
   },
   "outputs": [
    {
     "name": "stdout",
     "output_type": "stream",
     "text": [
      "87691720\n",
      "87692232\n",
      "87692424\n",
      "X : 1, Y: 2\n",
      "87691720\n",
      "X : 10, Y: 20\n",
      "87692232\n",
      "X : 100, Y: 200\n",
      "87692424\n"
     ]
    }
   ],
   "source": [
    "student = [Student(1, 2), Student(10, 20), Student(100, 200)]\n",
    "for i in student:\n",
    "    i.show()"
   ]
  },
  {
   "cell_type": "markdown",
   "metadata": {},
   "source": [
    "### Instance or Object level variable"
   ]
  },
  {
   "cell_type": "markdown",
   "metadata": {},
   "source": [
    "`- Defining Instance or Object level variable`<br>\n",
    "`1) Inside Class Methods - Using self variable`<br>\n",
    "`2) Outside Class - Using Object reference variable`<br><br>\n",
    "\n",
    "`- How to Access these variables`<br>\n",
    "`1) Inside Class  - Using self variable`<br>\n",
    "`2) Outside Class - Using Object reference variable`<br>"
   ]
  },
  {
   "cell_type": "code",
   "execution_count": 39,
   "metadata": {
    "ExecuteTime": {
     "end_time": "2020-10-03T14:39:17.867926Z",
     "start_time": "2020-10-03T14:39:17.845925Z"
    }
   },
   "outputs": [],
   "source": [
    "class Student():\n",
    "    def __init__(var, x, y):\n",
    "        var.x = x                    # Inside Class Methods - Using self variable\n",
    "        var.y = y\n",
    "    def show(var):\n",
    "        print('X : {}, Y: {}'.format(var.x, var.y))  # Inside Class  - Using self variable"
   ]
  },
  {
   "cell_type": "code",
   "execution_count": 52,
   "metadata": {
    "ExecuteTime": {
     "end_time": "2020-10-03T14:43:00.928684Z",
     "start_time": "2020-10-03T14:43:00.904683Z"
    }
   },
   "outputs": [
    {
     "name": "stdout",
     "output_type": "stream",
     "text": [
      "{'x': 1, 'y': 2}\n",
      "10\n",
      "\n",
      "{'x': 1, 'y': 2, 'b': 100}\n"
     ]
    }
   ],
   "source": [
    "s = Student(1, 2)\n",
    "print(s.__dict__)\n",
    "print()\n",
    "\n",
    "s.b = 100                            # Outside Class - Using Object reference variable\n",
    "print(s.__dict__)"
   ]
  },
  {
   "cell_type": "markdown",
   "metadata": {},
   "source": [
    "### Static or Class level variable\n",
    "`- Defining Static or Class level variable`<br>\n",
    "`1) Inside Class - Normal Declaration`<br>\n",
    "`2) Inside Class Method - Using Classname`<br>"
   ]
  },
  {
   "cell_type": "code",
   "execution_count": 67,
   "metadata": {
    "ExecuteTime": {
     "end_time": "2020-10-03T15:50:30.386240Z",
     "start_time": "2020-10-03T15:50:30.368239Z"
    }
   },
   "outputs": [],
   "source": [
    "class Student():\n",
    "    a = 10                           # Inside Class  - Normal Declaration\n",
    "    def __init__(var, x, y):\n",
    "        var.x = x                    # Inside Class Methods - Using self variable\n",
    "        var.y = y\n",
    "    def show(var):\n",
    "        print('X : {}, Y: {}'.format(var.x, var.y))  # Inside Class  - Using self variable"
   ]
  },
  {
   "cell_type": "code",
   "execution_count": 68,
   "metadata": {
    "ExecuteTime": {
     "end_time": "2020-10-03T15:50:30.599252Z",
     "start_time": "2020-10-03T15:50:30.564250Z"
    }
   },
   "outputs": [
    {
     "name": "stdout",
     "output_type": "stream",
     "text": [
      "{'x': 1, 'y': 2, 'a': 100}\n",
      "{'__module__': '__main__', 'a': 10, '__init__': <function Student.__init__ at 0x000000000537DDC8>, 'show': <function Student.show at 0x00000000050C3048>, '__dict__': <attribute '__dict__' of 'Student' objects>, '__weakref__': <attribute '__weakref__' of 'Student' objects>, '__doc__': None}\n",
      "10\n",
      "100\n",
      "\n",
      "{'x': 10, 'y': 20}\n",
      "{'__module__': '__main__', 'a': 10, '__init__': <function Student.__init__ at 0x000000000537DDC8>, 'show': <function Student.show at 0x00000000050C3048>, '__dict__': <attribute '__dict__' of 'Student' objects>, '__weakref__': <attribute '__weakref__' of 'Student' objects>, '__doc__': None}\n",
      "10\n",
      "10\n"
     ]
    }
   ],
   "source": [
    "s1 = Student(1, 2)\n",
    "s1.a = 100\n",
    "print(s1.__dict__)\n",
    "print(Student.__dict__)\n",
    "print(Student.a)                      # Outside Class - Using Object reference variable\n",
    "print(s1.a)\n",
    "print()\n",
    "\n",
    "s2 = Student(10, 20)\n",
    "print(s2.__dict__)\n",
    "print(Student.__dict__)\n",
    "print(Student.a)                      # Outside Class - Using Object reference variable\n",
    "print(s2.a)"
   ]
  },
  {
   "cell_type": "code",
   "execution_count": 69,
   "metadata": {
    "ExecuteTime": {
     "end_time": "2020-10-03T15:50:47.262206Z",
     "start_time": "2020-10-03T15:50:47.239204Z"
    }
   },
   "outputs": [
    {
     "name": "stdout",
     "output_type": "stream",
     "text": [
      "{'__module__': '__main__', 'a': 100, '__init__': <function Student.__init__ at 0x000000000537DDC8>, 'show': <function Student.show at 0x00000000050C3048>, '__dict__': <attribute '__dict__' of 'Student' objects>, '__weakref__': <attribute '__weakref__' of 'Student' objects>, '__doc__': None}\n",
      "100\n",
      "100\n"
     ]
    }
   ],
   "source": [
    "Student.a = 100\n",
    "print(Student.__dict__)\n",
    "print(s1.a)\n",
    "print(s2.a)"
   ]
  },
  {
   "cell_type": "code",
   "execution_count": 80,
   "metadata": {
    "ExecuteTime": {
     "end_time": "2020-10-03T16:00:57.578114Z",
     "start_time": "2020-10-03T16:00:57.556112Z"
    }
   },
   "outputs": [],
   "source": [
    "class Student():\n",
    "    a = 10                           # Inside Class  - Normal Declaration\n",
    "    \n",
    "    def __init__(var, x, y):\n",
    "        var.x = x                    # Inside Class Methods - Using self variable\n",
    "        var.y = y\n",
    "    \n",
    "    def show(var):\n",
    "        print('X : {}, Y: {}'.format(var.x, var.y))  # Inside Class  - Using self variable\n",
    "    \n",
    "    @classmethod\n",
    "    def m1(cls):\n",
    "        Student.z = 50\n",
    "    \n",
    "    @staticmethod\n",
    "    def m2():\n",
    "        Student.b = 100"
   ]
  },
  {
   "cell_type": "code",
   "execution_count": 78,
   "metadata": {
    "ExecuteTime": {
     "end_time": "2020-10-03T16:00:29.742522Z",
     "start_time": "2020-10-03T16:00:29.719520Z"
    }
   },
   "outputs": [
    {
     "name": "stdout",
     "output_type": "stream",
     "text": [
      "{'__module__': '__main__', 'a': 10, '__init__': <function Student.__init__ at 0x00000000053CE708>, 'show': <function Student.show at 0x00000000053CE288>, 'm1': <classmethod object at 0x00000000053C7CC8>, 'm2': <staticmethod object at 0x00000000053C7A88>, '__dict__': <attribute '__dict__' of 'Student' objects>, '__weakref__': <attribute '__weakref__' of 'Student' objects>, '__doc__': None, 'z': 50}\n"
     ]
    }
   ],
   "source": [
    "s = Student(1, 2)\n",
    "Student.m1()\n",
    "print(Student.__dict__)"
   ]
  },
  {
   "cell_type": "code",
   "execution_count": 81,
   "metadata": {
    "ExecuteTime": {
     "end_time": "2020-10-03T16:00:59.338214Z",
     "start_time": "2020-10-03T16:00:59.317213Z"
    }
   },
   "outputs": [
    {
     "name": "stdout",
     "output_type": "stream",
     "text": [
      "{'__module__': '__main__', 'a': 10, '__init__': <function Student.__init__ at 0x00000000053CEAF8>, 'show': <function Student.show at 0x00000000053CEB88>, 'm1': <classmethod object at 0x00000000053CBDC8>, 'm2': <staticmethod object at 0x00000000053CB908>, '__dict__': <attribute '__dict__' of 'Student' objects>, '__weakref__': <attribute '__weakref__' of 'Student' objects>, '__doc__': None, 'b': 100}\n"
     ]
    }
   ],
   "source": [
    "s = Student(10, 20)\n",
    "Student.m2()\n",
    "print(Student.__dict__)"
   ]
  },
  {
   "cell_type": "code",
   "execution_count": null,
   "metadata": {},
   "outputs": [],
   "source": []
  }
 ],
 "metadata": {
  "kernelspec": {
   "display_name": "Python 3",
   "language": "python",
   "name": "python3"
  },
  "language_info": {
   "codemirror_mode": {
    "name": "ipython",
    "version": 3
   },
   "file_extension": ".py",
   "mimetype": "text/x-python",
   "name": "python",
   "nbconvert_exporter": "python",
   "pygments_lexer": "ipython3",
   "version": "3.8.8"
  },
  "toc": {
   "base_numbering": 1,
   "nav_menu": {},
   "number_sections": true,
   "sideBar": true,
   "skip_h1_title": false,
   "title_cell": "Table of Contents",
   "title_sidebar": "Contents",
   "toc_cell": true,
   "toc_position": {},
   "toc_section_display": true,
   "toc_window_display": true
  }
 },
 "nbformat": 4,
 "nbformat_minor": 4
}
