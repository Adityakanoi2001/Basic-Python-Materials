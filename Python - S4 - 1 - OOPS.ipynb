{
 "cells": [
  {
   "cell_type": "markdown",
   "id": "a8903f11",
   "metadata": {
    "toc": true
   },
   "source": [
    "<h1>Table of Contents<span class=\"tocSkip\"></span></h1>\n",
    "<div class=\"toc\"><ul class=\"toc-item\"><li><span><a href=\"#OOPS-Concepts\" data-toc-modified-id=\"OOPS-Concepts-1\"><span class=\"toc-item-num\">1&nbsp;&nbsp;</span>OOPS Concepts</a></span><ul class=\"toc-item\"><li><span><a href=\"#Basics-of-OOPS\" data-toc-modified-id=\"Basics-of-OOPS-1.1\"><span class=\"toc-item-num\">1.1&nbsp;&nbsp;</span>Basics of OOPS</a></span><ul class=\"toc-item\"><li><span><a href=\"#self-pointer\" data-toc-modified-id=\"self-pointer-1.1.1\"><span class=\"toc-item-num\">1.1.1&nbsp;&nbsp;</span>self pointer</a></span></li><li><span><a href=\"#Instance-or-Object-level-variable\" data-toc-modified-id=\"Instance-or-Object-level-variable-1.1.2\"><span class=\"toc-item-num\">1.1.2&nbsp;&nbsp;</span>Instance or Object level variable</a></span></li><li><span><a href=\"#Static-or-Class-level-variable\" data-toc-modified-id=\"Static-or-Class-level-variable-1.1.3\"><span class=\"toc-item-num\">1.1.3&nbsp;&nbsp;</span>Static or Class level variable</a></span></li></ul></li><li><span><a href=\"#Class-&amp;-Instance\" data-toc-modified-id=\"Class-&amp;-Instance-1.2\"><span class=\"toc-item-num\">1.2&nbsp;&nbsp;</span>Class &amp; Instance</a></span></li><li><span><a href=\"#Constructor\" data-toc-modified-id=\"Constructor-1.3\"><span class=\"toc-item-num\">1.3&nbsp;&nbsp;</span>Constructor</a></span><ul class=\"toc-item\"><li><span><a href=\"#What-is-self-?\" data-toc-modified-id=\"What-is-self-?-1.3.1\"><span class=\"toc-item-num\">1.3.1&nbsp;&nbsp;</span>What is self ?</a></span></li><li><span><a href=\"#Constructor-Overloading\" data-toc-modified-id=\"Constructor-Overloading-1.3.2\"><span class=\"toc-item-num\">1.3.2&nbsp;&nbsp;</span>Constructor Overloading</a></span></li></ul></li></ul></li></ul></div>"
   ]
  },
  {
   "cell_type": "markdown",
   "id": "7478e1e2",
   "metadata": {},
   "source": [
    "\n",
    "# OOPS Concepts"
   ]
  },
  {
   "cell_type": "markdown",
   "id": "c816fbab",
   "metadata": {},
   "source": [
    "## Basics of OOPS"
   ]
  },
  {
   "cell_type": "markdown",
   "id": "a14a5098",
   "metadata": {},
   "source": [
    "**class ClassName():**<br>\n",
    "    &emsp;&emsp; **'''Documentation String'''**<br>\n",
    "    &emsp;&emsp; **Variables** : Instance, Static, Local<br>\n",
    "    &emsp;&emsp; **Methods**   : Instance, Static, Class<br>"
   ]
  },
  {
   "cell_type": "markdown",
   "id": "7f208363",
   "metadata": {},
   "source": [
    "**Constructor**<br>\n",
    "`It is a Special Method : __init__`<br>\n",
    "`It will be executed automatically when initializing class Object`<br>\n",
    "`It can only be executed only once when initializing class object`<br>\n",
    "`Used to Declare and Initialize instance Variables`<br>\n",
    "`One or more constructor not possible, if so, executes latest(Constructor Overloading not possible)`<br>"
   ]
  },
  {
   "cell_type": "markdown",
   "id": "52093b15",
   "metadata": {},
   "source": [
    "**self:**<br>\n",
    "`Python provided implicit variable always pointing to class object`<br>\n",
    "`By Using self, We can access Instance Variables & Methods`<br>\n",
    "`Self can also be replaced with any variable`"
   ]
  },
  {
   "cell_type": "markdown",
   "id": "c02faf7e",
   "metadata": {},
   "source": [
    "**variable:**<br>\n",
    "`Instance Variable : Object Level Variable`<br>\n",
    "`Static Variable   : Class Level Variable`<br>\n",
    "`Local Variable    : Method Level Variable`<br>"
   ]
  },
  {
   "cell_type": "markdown",
   "id": "712c00ea",
   "metadata": {},
   "source": [
    "### self pointer"
   ]
  },
  {
   "cell_type": "code",
   "execution_count": 5,
   "id": "d70b0f70",
   "metadata": {
    "ExecuteTime": {
     "end_time": "2020-10-03T09:32:51.483419Z",
     "start_time": "2020-10-03T09:32:51.465418Z"
    }
   },
   "outputs": [],
   "source": [
    "# Self Example\n",
    "\n",
    "class Student():\n",
    "    def __init__(self, x, y):\n",
    "        self.x = x\n",
    "        self.y = y\n",
    "    def show(self):\n",
    "        print('X : {}, Y: {}'.format(self.x, self.y))"
   ]
  },
  {
   "cell_type": "code",
   "execution_count": 6,
   "id": "c49e70ad",
   "metadata": {
    "ExecuteTime": {
     "end_time": "2020-10-03T09:32:56.179688Z",
     "start_time": "2020-10-03T09:32:56.158687Z"
    }
   },
   "outputs": [
    {
     "name": "stdout",
     "output_type": "stream",
     "text": [
      "X : 1, Y: 2\n"
     ]
    }
   ],
   "source": [
    "s = Student(1, 2)\n",
    "s.show()"
   ]
  },
  {
   "cell_type": "code",
   "execution_count": 7,
   "id": "7aac2b83",
   "metadata": {
    "ExecuteTime": {
     "end_time": "2020-10-03T09:33:41.802297Z",
     "start_time": "2020-10-03T09:33:41.791297Z"
    }
   },
   "outputs": [],
   "source": [
    "# Self can also be replaced with any variable\n",
    "\n",
    "class Student():\n",
    "    def __init__(var, x, y):\n",
    "        var.x = x\n",
    "        var.y = y\n",
    "    def show(var):\n",
    "        print('X : {}, Y: {}'.format(var.x, var.y))"
   ]
  },
  {
   "cell_type": "code",
   "execution_count": 8,
   "id": "f0766349",
   "metadata": {
    "ExecuteTime": {
     "end_time": "2020-10-03T09:33:46.992594Z",
     "start_time": "2020-10-03T09:33:46.983594Z"
    }
   },
   "outputs": [
    {
     "name": "stdout",
     "output_type": "stream",
     "text": [
      "X : 1, Y: 2\n"
     ]
    }
   ],
   "source": [
    "s = Student(1, 2)\n",
    "s.show()"
   ]
  },
  {
   "cell_type": "code",
   "execution_count": 14,
   "id": "c5ab266a",
   "metadata": {
    "ExecuteTime": {
     "end_time": "2020-10-03T09:41:06.049707Z",
     "start_time": "2020-10-03T09:41:06.029706Z"
    }
   },
   "outputs": [],
   "source": [
    "# Variable self is having same ID(which is Class)\n",
    "\n",
    "class Student():\n",
    "    def __init__(var, x, y):\n",
    "        var.x = x\n",
    "        var.y = y\n",
    "        print(id(var))\n",
    "    def show(var):\n",
    "        print('X : {}, Y: {}'.format(var.x, var.y))\n",
    "        print(id(var))"
   ]
  },
  {
   "cell_type": "code",
   "execution_count": 15,
   "id": "eb616da0",
   "metadata": {
    "ExecuteTime": {
     "end_time": "2020-10-03T09:41:06.581737Z",
     "start_time": "2020-10-03T09:41:06.548736Z"
    }
   },
   "outputs": [
    {
     "name": "stdout",
     "output_type": "stream",
     "text": [
      "87705672\n",
      "X : 1, Y: 2\n",
      "87705672\n"
     ]
    },
    {
     "data": {
      "text/plain": [
       "87705672"
      ]
     },
     "execution_count": 15,
     "metadata": {},
     "output_type": "execute_result"
    }
   ],
   "source": [
    "s = Student(1, 2)\n",
    "s.show()\n",
    "id(s)"
   ]
  },
  {
   "cell_type": "code",
   "execution_count": 18,
   "id": "34bd608d",
   "metadata": {
    "ExecuteTime": {
     "end_time": "2020-10-03T09:49:29.564440Z",
     "start_time": "2020-10-03T09:49:29.555439Z"
    }
   },
   "outputs": [
    {
     "name": "stdout",
     "output_type": "stream",
     "text": [
      "87705672\n",
      "87705672\n"
     ]
    }
   ],
   "source": [
    "s.__init__(10,20)\n",
    "s.__init__(20,30)"
   ]
  },
  {
   "cell_type": "code",
   "execution_count": 19,
   "id": "2e108b66",
   "metadata": {
    "ExecuteTime": {
     "end_time": "2020-10-03T14:20:47.010389Z",
     "start_time": "2020-10-03T14:20:46.985387Z"
    }
   },
   "outputs": [
    {
     "name": "stdout",
     "output_type": "stream",
     "text": [
      "87691720\n",
      "87692232\n",
      "87692424\n",
      "X : 1, Y: 2\n",
      "87691720\n",
      "X : 10, Y: 20\n",
      "87692232\n",
      "X : 100, Y: 200\n",
      "87692424\n"
     ]
    }
   ],
   "source": [
    "student = [Student(1, 2), Student(10, 20), Student(100, 200)]\n",
    "for i in student:\n",
    "    i.show()"
   ]
  },
  {
   "cell_type": "markdown",
   "id": "65739205",
   "metadata": {},
   "source": [
    "### Instance or Object level variable"
   ]
  },
  {
   "cell_type": "markdown",
   "id": "66c53523",
   "metadata": {},
   "source": [
    "`- Defining Instance or Object level variable`<br>\n",
    "`1) Inside Class Methods - Using self variable`<br>\n",
    "`2) Outside Class - Using Object reference variable`<br><br>\n",
    "\n",
    "`- How to Access these variables`<br>\n",
    "`1) Inside Class  - Using self variable`<br>\n",
    "`2) Outside Class - Using Object reference variable`<br>"
   ]
  },
  {
   "cell_type": "code",
   "execution_count": 39,
   "id": "f6500328",
   "metadata": {
    "ExecuteTime": {
     "end_time": "2020-10-03T14:39:17.867926Z",
     "start_time": "2020-10-03T14:39:17.845925Z"
    }
   },
   "outputs": [],
   "source": [
    "class Student():\n",
    "    def __init__(var, x, y):\n",
    "        var.x = x                    # Inside Class Methods - Using self variable\n",
    "        var.y = y\n",
    "    def show(var):\n",
    "        print('X : {}, Y: {}'.format(var.x, var.y))  # Inside Class  - Using self variable"
   ]
  },
  {
   "cell_type": "code",
   "execution_count": 52,
   "id": "8b428add",
   "metadata": {
    "ExecuteTime": {
     "end_time": "2020-10-03T14:43:00.928684Z",
     "start_time": "2020-10-03T14:43:00.904683Z"
    }
   },
   "outputs": [
    {
     "name": "stdout",
     "output_type": "stream",
     "text": [
      "{'x': 1, 'y': 2}\n",
      "10\n",
      "\n",
      "{'x': 1, 'y': 2, 'b': 100}\n"
     ]
    }
   ],
   "source": [
    "s = Student(1, 2)\n",
    "print(s.__dict__)\n",
    "print()\n",
    "\n",
    "s.b = 100                            # Outside Class - Using Object reference variable\n",
    "print(s.__dict__)"
   ]
  },
  {
   "cell_type": "markdown",
   "id": "6646ea8f",
   "metadata": {},
   "source": [
    "### Static or Class level variable\n",
    "`- Defining Static or Class level variable`<br>\n",
    "`1) Inside Class - Normal Declaration`<br>\n",
    "`2) Inside Class Method - Using Classname`<br>"
   ]
  },
  {
   "cell_type": "code",
   "execution_count": 67,
   "id": "cfacb847",
   "metadata": {
    "ExecuteTime": {
     "end_time": "2020-10-03T15:50:30.386240Z",
     "start_time": "2020-10-03T15:50:30.368239Z"
    }
   },
   "outputs": [],
   "source": [
    "class Student():\n",
    "    a = 10                           # Inside Class  - Normal Declaration\n",
    "    def __init__(var, x, y):\n",
    "        var.x = x                    # Inside Class Methods - Using self variable\n",
    "        var.y = y\n",
    "    def show(var):\n",
    "        print('X : {}, Y: {}'.format(var.x, var.y))  # Inside Class  - Using self variable"
   ]
  },
  {
   "cell_type": "code",
   "execution_count": 68,
   "id": "8a29ab89",
   "metadata": {
    "ExecuteTime": {
     "end_time": "2020-10-03T15:50:30.599252Z",
     "start_time": "2020-10-03T15:50:30.564250Z"
    }
   },
   "outputs": [
    {
     "name": "stdout",
     "output_type": "stream",
     "text": [
      "{'x': 1, 'y': 2, 'a': 100}\n",
      "{'__module__': '__main__', 'a': 10, '__init__': <function Student.__init__ at 0x000000000537DDC8>, 'show': <function Student.show at 0x00000000050C3048>, '__dict__': <attribute '__dict__' of 'Student' objects>, '__weakref__': <attribute '__weakref__' of 'Student' objects>, '__doc__': None}\n",
      "10\n",
      "100\n",
      "\n",
      "{'x': 10, 'y': 20}\n",
      "{'__module__': '__main__', 'a': 10, '__init__': <function Student.__init__ at 0x000000000537DDC8>, 'show': <function Student.show at 0x00000000050C3048>, '__dict__': <attribute '__dict__' of 'Student' objects>, '__weakref__': <attribute '__weakref__' of 'Student' objects>, '__doc__': None}\n",
      "10\n",
      "10\n"
     ]
    }
   ],
   "source": [
    "s1 = Student(1, 2)\n",
    "s1.a = 100\n",
    "print(s1.__dict__)\n",
    "print(Student.__dict__)\n",
    "print(Student.a)                      # Outside Class - Using Object reference variable\n",
    "print(s1.a)\n",
    "print()\n",
    "\n",
    "s2 = Student(10, 20)\n",
    "print(s2.__dict__)\n",
    "print(Student.__dict__)\n",
    "print(Student.a)                      # Outside Class - Using Object reference variable\n",
    "print(s2.a)"
   ]
  },
  {
   "cell_type": "code",
   "execution_count": 69,
   "id": "157e1ea3",
   "metadata": {
    "ExecuteTime": {
     "end_time": "2020-10-03T15:50:47.262206Z",
     "start_time": "2020-10-03T15:50:47.239204Z"
    }
   },
   "outputs": [
    {
     "name": "stdout",
     "output_type": "stream",
     "text": [
      "{'__module__': '__main__', 'a': 100, '__init__': <function Student.__init__ at 0x000000000537DDC8>, 'show': <function Student.show at 0x00000000050C3048>, '__dict__': <attribute '__dict__' of 'Student' objects>, '__weakref__': <attribute '__weakref__' of 'Student' objects>, '__doc__': None}\n",
      "100\n",
      "100\n"
     ]
    }
   ],
   "source": [
    "Student.a = 100\n",
    "print(Student.__dict__)\n",
    "print(s1.a)\n",
    "print(s2.a)"
   ]
  },
  {
   "cell_type": "code",
   "execution_count": 80,
   "id": "b4de02c2",
   "metadata": {
    "ExecuteTime": {
     "end_time": "2020-10-03T16:00:57.578114Z",
     "start_time": "2020-10-03T16:00:57.556112Z"
    }
   },
   "outputs": [],
   "source": [
    "class Student():\n",
    "    a = 10                           # Inside Class  - Normal Declaration\n",
    "    \n",
    "    def __init__(var, x, y):\n",
    "        var.x = x                    # Inside Class Methods - Using self variable\n",
    "        var.y = y\n",
    "    \n",
    "    def show(var):\n",
    "        print('X : {}, Y: {}'.format(var.x, var.y))  # Inside Class  - Using self variable\n",
    "    \n",
    "    @classmethod\n",
    "    def m1(cls):\n",
    "        Student.z = 50\n",
    "    \n",
    "    @staticmethod\n",
    "    def m2():\n",
    "        Student.b = 100"
   ]
  },
  {
   "cell_type": "code",
   "execution_count": 78,
   "id": "bca18930",
   "metadata": {
    "ExecuteTime": {
     "end_time": "2020-10-03T16:00:29.742522Z",
     "start_time": "2020-10-03T16:00:29.719520Z"
    }
   },
   "outputs": [
    {
     "name": "stdout",
     "output_type": "stream",
     "text": [
      "{'__module__': '__main__', 'a': 10, '__init__': <function Student.__init__ at 0x00000000053CE708>, 'show': <function Student.show at 0x00000000053CE288>, 'm1': <classmethod object at 0x00000000053C7CC8>, 'm2': <staticmethod object at 0x00000000053C7A88>, '__dict__': <attribute '__dict__' of 'Student' objects>, '__weakref__': <attribute '__weakref__' of 'Student' objects>, '__doc__': None, 'z': 50}\n"
     ]
    }
   ],
   "source": [
    "s = Student(1, 2)\n",
    "Student.m1()\n",
    "print(Student.__dict__)"
   ]
  },
  {
   "cell_type": "code",
   "execution_count": 81,
   "id": "0c372e65",
   "metadata": {
    "ExecuteTime": {
     "end_time": "2020-10-03T16:00:59.338214Z",
     "start_time": "2020-10-03T16:00:59.317213Z"
    },
    "scrolled": true
   },
   "outputs": [
    {
     "name": "stdout",
     "output_type": "stream",
     "text": [
      "{'__module__': '__main__', 'a': 10, '__init__': <function Student.__init__ at 0x00000000053CEAF8>, 'show': <function Student.show at 0x00000000053CEB88>, 'm1': <classmethod object at 0x00000000053CBDC8>, 'm2': <staticmethod object at 0x00000000053CB908>, '__dict__': <attribute '__dict__' of 'Student' objects>, '__weakref__': <attribute '__weakref__' of 'Student' objects>, '__doc__': None, 'b': 100}\n"
     ]
    }
   ],
   "source": [
    "s = Student(10, 20)\n",
    "Student.m2()\n",
    "print(Student.__dict__)"
   ]
  },
  {
   "cell_type": "markdown",
   "id": "47e0b40c",
   "metadata": {},
   "source": [
    "## Class & Instance"
   ]
  },
  {
   "cell_type": "raw",
   "id": "17103a5a",
   "metadata": {},
   "source": [
    "A class is a code template for creating objects.\n",
    "Objects have member variables and have behaviour associated with them.\n",
    "An object is created using the constructor of the class. \n",
    "This object will then be called the instance of the class."
   ]
  },
  {
   "cell_type": "code",
   "execution_count": 7,
   "id": "8e299362",
   "metadata": {
    "ExecuteTime": {
     "end_time": "2020-08-23T09:22:45.111875Z",
     "start_time": "2020-08-23T09:22:45.104874Z"
    }
   },
   "outputs": [],
   "source": [
    "class className:\n",
    "    '''======= Example Doc String ========'''\n",
    "    pass\n",
    "Instance = className()"
   ]
  },
  {
   "cell_type": "code",
   "execution_count": 8,
   "id": "b0ac5015",
   "metadata": {
    "ExecuteTime": {
     "end_time": "2020-08-23T09:22:46.220938Z",
     "start_time": "2020-08-23T09:22:46.211938Z"
    }
   },
   "outputs": [
    {
     "name": "stdout",
     "output_type": "stream",
     "text": [
      "<__main__.className object at 0x000000000509F448>\n"
     ]
    }
   ],
   "source": [
    "print(Instance)"
   ]
  },
  {
   "cell_type": "code",
   "execution_count": 9,
   "id": "222a1b94",
   "metadata": {
    "ExecuteTime": {
     "end_time": "2020-08-23T09:22:46.529956Z",
     "start_time": "2020-08-23T09:22:46.522955Z"
    }
   },
   "outputs": [
    {
     "name": "stdout",
     "output_type": "stream",
     "text": [
      "======= Example Doc String ========\n"
     ]
    }
   ],
   "source": [
    "print(Instance.__doc__)"
   ]
  },
  {
   "cell_type": "code",
   "execution_count": 10,
   "id": "b62dbaa7",
   "metadata": {
    "ExecuteTime": {
     "end_time": "2020-08-23T09:23:41.668110Z",
     "start_time": "2020-08-23T09:23:41.656109Z"
    }
   },
   "outputs": [
    {
     "name": "stdout",
     "output_type": "stream",
     "text": [
      "Help on className in module __main__ object:\n",
      "\n",
      "class className(builtins.object)\n",
      " |  ======= Example Doc String ========\n",
      " |  \n",
      " |  Data descriptors defined here:\n",
      " |  \n",
      " |  __dict__\n",
      " |      dictionary for instance variables (if defined)\n",
      " |  \n",
      " |  __weakref__\n",
      " |      list of weak references to the object (if defined)\n",
      "\n"
     ]
    }
   ],
   "source": [
    "help(Instance)"
   ]
  },
  {
   "cell_type": "markdown",
   "id": "66d6fbbc",
   "metadata": {},
   "source": [
    "## Constructor\n",
    "Python the __init__() method is called the constructor.<br>\n",
    "It is always called when a class is created."
   ]
  },
  {
   "cell_type": "markdown",
   "id": "256b19eb",
   "metadata": {},
   "source": [
    "### What is self ?"
   ]
  },
  {
   "cell_type": "code",
   "execution_count": 22,
   "id": "1e558299",
   "metadata": {
    "ExecuteTime": {
     "end_time": "2020-08-23T10:23:32.795510Z",
     "start_time": "2020-08-23T10:23:32.779509Z"
    }
   },
   "outputs": [
    {
     "name": "stdout",
     "output_type": "stream",
     "text": [
      "\n",
      "Vignesh\n",
      "15\n",
      "\n",
      "Vignesh\n",
      "15\n",
      "X\n"
     ]
    }
   ],
   "source": [
    "class Student: \n",
    "    # constructor \n",
    "    def __init__(self):\n",
    "        self.Name  = \"Vignesh\"\n",
    "        self.Age   = \"15\"\n",
    "        self.Class = \"X\"\n",
    "    def talk(self):\n",
    "        print(self.Name)\n",
    "        print(self.Age)\n",
    "        print(self.Class)\n",
    "\n",
    "s=Student()     # ===> Instance\n",
    "print()\n",
    "\n",
    "print(s.Name)   # ===> Instance Attributes\n",
    "print(s.Age)    # ===> Instance Attributes\n",
    "print()\n",
    "\n",
    "s.talk()        # ===> Instance Methods"
   ]
  },
  {
   "cell_type": "code",
   "execution_count": 27,
   "id": "f1933e3d",
   "metadata": {
    "ExecuteTime": {
     "end_time": "2020-08-23T10:26:48.970731Z",
     "start_time": "2020-08-23T10:26:48.952730Z"
    }
   },
   "outputs": [
    {
     "name": "stdout",
     "output_type": "stream",
     "text": [
      "Vignesh\n",
      "15\n",
      "X\n",
      "\n",
      "Vignesh_1\n",
      "16\n",
      "XI\n"
     ]
    }
   ],
   "source": [
    "class Student: \n",
    "    # parametrized constructor \n",
    "    def __init__(self, name, age, std):\n",
    "        self.Name  = name\n",
    "        self.Age   = age\n",
    "        self.std   = std\n",
    "    def talk(self):\n",
    "        print(self.Name)\n",
    "        print(self.Age)\n",
    "        print(self.std)\n",
    "\n",
    "s=Student(\"Vignesh\", 15, \"X\")     # ===> Instance\n",
    "s.talk()                          # ===> Instance Methods\n",
    "print()\n",
    "s=Student(\"Vignesh_1\", 16, \"XI\")     # ===> Instance\n",
    "s.talk()                          # ===> Instance Methods"
   ]
  },
  {
   "cell_type": "markdown",
   "id": "b54e7009",
   "metadata": {},
   "source": [
    "### Constructor Overloading\n",
    "Accessing variables in the class.<br>\n",
    "Passing variables from methods to class."
   ]
  },
  {
   "cell_type": "code",
   "execution_count": 28,
   "id": "7c76b512",
   "metadata": {
    "ExecuteTime": {
     "end_time": "2020-08-23T10:27:29.250035Z",
     "start_time": "2020-08-23T10:27:29.224033Z"
    }
   },
   "outputs": [
    {
     "ename": "TypeError",
     "evalue": "__init__() takes 3 positional arguments but 4 were given",
     "output_type": "error",
     "traceback": [
      "\u001b[1;31m---------------------------------------------------------------------------\u001b[0m",
      "\u001b[1;31mTypeError\u001b[0m                                 Traceback (most recent call last)",
      "\u001b[1;32m<ipython-input-28-8ade2c48c153>\u001b[0m in \u001b[0;36m<module>\u001b[1;34m\u001b[0m\n\u001b[0;32m     10\u001b[0m         \u001b[0mprint\u001b[0m\u001b[1;33m(\u001b[0m\u001b[0mself\u001b[0m\u001b[1;33m.\u001b[0m\u001b[0mstd\u001b[0m\u001b[1;33m)\u001b[0m\u001b[1;33m\u001b[0m\u001b[1;33m\u001b[0m\u001b[0m\n\u001b[0;32m     11\u001b[0m \u001b[1;33m\u001b[0m\u001b[0m\n\u001b[1;32m---> 12\u001b[1;33m \u001b[0ms\u001b[0m\u001b[1;33m=\u001b[0m\u001b[0mStudent\u001b[0m\u001b[1;33m(\u001b[0m\u001b[1;34m\"Vignesh\"\u001b[0m\u001b[1;33m,\u001b[0m \u001b[1;36m15\u001b[0m\u001b[1;33m,\u001b[0m \u001b[1;34m\"X\"\u001b[0m\u001b[1;33m)\u001b[0m     \u001b[1;31m# ===> Instance\u001b[0m\u001b[1;33m\u001b[0m\u001b[1;33m\u001b[0m\u001b[0m\n\u001b[0m",
      "\u001b[1;31mTypeError\u001b[0m: __init__() takes 3 positional arguments but 4 were given"
     ]
    }
   ],
   "source": [
    "class Student: \n",
    "    # parametrized constructor \n",
    "    def __init__( name, age, std):\n",
    "        self.Name  = name\n",
    "        self.Age   = age\n",
    "        self.std   = std\n",
    "    def talk(self):\n",
    "        print(self.Name)\n",
    "        print(self.Age)\n",
    "        print(self.std)\n",
    "\n",
    "s=Student(\"Vignesh\", 15, \"X\")     # ===> Instance"
   ]
  },
  {
   "cell_type": "code",
   "execution_count": 32,
   "id": "b2ff891e",
   "metadata": {
    "ExecuteTime": {
     "end_time": "2020-08-23T10:28:49.016597Z",
     "start_time": "2020-08-23T10:28:48.993596Z"
    }
   },
   "outputs": [
    {
     "name": "stdout",
     "output_type": "stream",
     "text": [
      "87639048\n",
      "\n",
      "Vignesh\n",
      "15\n",
      "X\n",
      "87639048\n"
     ]
    }
   ],
   "source": [
    "class Student: \n",
    "    # parametrized constructor \n",
    "    def __init__(self, name, age, std):\n",
    "        self.Name  = name\n",
    "        self.Age   = age\n",
    "        self.std   = std\n",
    "        print(id(self))\n",
    "    def talk(self):\n",
    "        print(self.Name)\n",
    "        print(self.Age)\n",
    "        print(self.std)\n",
    "        print(id(self))\n",
    "\n",
    "s=Student(\"Vignesh\", 15, \"X\")     # ===> Instance\n",
    "print()\n",
    "s.talk()                          # ===> Instance Methods"
   ]
  },
  {
   "cell_type": "code",
   "execution_count": 39,
   "id": "44f1b69d",
   "metadata": {
    "ExecuteTime": {
     "end_time": "2020-08-23T16:03:46.787124Z",
     "start_time": "2020-08-23T16:03:46.770123Z"
    }
   },
   "outputs": [
    {
     "name": "stdout",
     "output_type": "stream",
     "text": [
      "87565704\n",
      "{'Name': 'Vignesh', 'Age': 15, 'std': 'X'}\n"
     ]
    }
   ],
   "source": [
    "class Student: \n",
    "    # parametrized constructor \n",
    "    def __init__(self, name, age, std):\n",
    "        self.Name  = name\n",
    "        self.Age   = age\n",
    "        self.std   = std\n",
    "        print(id(self))\n",
    "    def talk(self):\n",
    "        print(self.Name)\n",
    "        print(self.Age)\n",
    "        print(self.std)\n",
    "        print(id(self))\n",
    "\n",
    "s=Student(\"Vignesh\", 15, \"X\")     # ===> Instance\n",
    "print(s.__dict__)"
   ]
  },
  {
   "cell_type": "code",
   "execution_count": 41,
   "id": "3c392498",
   "metadata": {
    "ExecuteTime": {
     "end_time": "2020-08-23T16:04:01.116943Z",
     "start_time": "2020-08-23T16:04:01.100943Z"
    }
   },
   "outputs": [
    {
     "name": "stdout",
     "output_type": "stream",
     "text": [
      "87462856\n",
      "{'Name': 'Vignesh', 'Age': 15, 'std': 'X'}\n",
      "Vicky\n"
     ]
    }
   ],
   "source": [
    "class Student: \n",
    "    # parametrized constructor \n",
    "    def __init__(self, name, age, std):\n",
    "        self.Name  = name\n",
    "        self.Age   = age\n",
    "        self.std   = std\n",
    "        print(id(self))\n",
    "    def talk(self):\n",
    "        print(self.Name)\n",
    "        print(self.Age)\n",
    "        print(self.std)\n",
    "        print(id(self))\n",
    "\n",
    "s=Student(\"Vignesh\", 15, \"X\")     # ===> Instance\n",
    "print(s.__dict__)\n",
    "s.Name = \"Vicky\"\n",
    "print(s.Name)"
   ]
  },
  {
   "cell_type": "code",
   "execution_count": 35,
   "id": "04d0b972",
   "metadata": {
    "ExecuteTime": {
     "end_time": "2020-08-23T10:46:33.867503Z",
     "start_time": "2020-08-23T10:46:33.845502Z"
    }
   },
   "outputs": [
    {
     "ename": "TypeError",
     "evalue": "__init__() takes 1 positional argument but 2 were given",
     "output_type": "error",
     "traceback": [
      "\u001b[1;31m---------------------------------------------------------------------------\u001b[0m",
      "\u001b[1;31mTypeError\u001b[0m                                 Traceback (most recent call last)",
      "\u001b[1;32m<ipython-input-35-b17b92906637>\u001b[0m in \u001b[0;36m<module>\u001b[1;34m\u001b[0m\n\u001b[0;32m      5\u001b[0m     \u001b[1;32mdef\u001b[0m \u001b[0m__init__\u001b[0m\u001b[1;33m(\u001b[0m\u001b[0mself\u001b[0m\u001b[1;33m)\u001b[0m\u001b[1;33m:\u001b[0m\u001b[1;33m\u001b[0m\u001b[1;33m\u001b[0m\u001b[0m\n\u001b[0;32m      6\u001b[0m         \u001b[0mprint\u001b[0m\u001b[1;33m(\u001b[0m\u001b[1;34m\"No Args Constructor\"\u001b[0m\u001b[1;33m)\u001b[0m\u001b[1;33m\u001b[0m\u001b[1;33m\u001b[0m\u001b[0m\n\u001b[1;32m----> 7\u001b[1;33m \u001b[0ms\u001b[0m\u001b[1;33m=\u001b[0m\u001b[0mStudent\u001b[0m\u001b[1;33m(\u001b[0m\u001b[1;34m\"Vignesh\"\u001b[0m\u001b[1;33m)\u001b[0m\u001b[1;33m\u001b[0m\u001b[1;33m\u001b[0m\u001b[0m\n\u001b[0m",
      "\u001b[1;31mTypeError\u001b[0m: __init__() takes 1 positional argument but 2 were given"
     ]
    }
   ],
   "source": [
    "class Student: \n",
    "    # constructor overloading\n",
    "    def __init__(self, name):\n",
    "        print(\"One Args Constructor\")\n",
    "    def __init__(self):\n",
    "        print(\"No Args Constructor\")\n",
    "s=Student(\"Vignesh\")"
   ]
  },
  {
   "cell_type": "code",
   "execution_count": 36,
   "id": "a555a9fd",
   "metadata": {
    "ExecuteTime": {
     "end_time": "2020-08-23T10:47:07.390420Z",
     "start_time": "2020-08-23T10:47:07.379420Z"
    }
   },
   "outputs": [
    {
     "name": "stdout",
     "output_type": "stream",
     "text": [
      "One Args Constructor\n"
     ]
    }
   ],
   "source": [
    "class Student: \n",
    "    # constructor overloading\n",
    "    def __init__(self):\n",
    "        print(\"No Args Constructor\")\n",
    "    def __init__(self, name):\n",
    "        print(\"One Args Constructor\")\n",
    "s=Student(\"Vignesh\")"
   ]
  },
  {
   "cell_type": "code",
   "execution_count": 4,
   "id": "bec93c4b",
   "metadata": {
    "ExecuteTime": {
     "end_time": "2020-08-23T16:30:20.421274Z",
     "start_time": "2020-08-23T16:30:20.404273Z"
    }
   },
   "outputs": [
    {
     "name": "stdout",
     "output_type": "stream",
     "text": [
      "{'__module__': '__main__', 'a': 10, '__init__': <function Student.__init__ at 0x000000000537D678>, 'talk': <function Student.talk at 0x000000000537D9D8>, '__dict__': <attribute '__dict__' of 'Student' objects>, '__weakref__': <attribute '__weakref__' of 'Student' objects>, '__doc__': None}\n",
      "{'b': 20}\n",
      "{'b': 20, 'c': 30}\n"
     ]
    }
   ],
   "source": [
    "class Student: \n",
    "    # parametrized constructor\n",
    "    a = 10\n",
    "    def __init__(self):\n",
    "        self.b = 20\n",
    "    \n",
    "    def talk(self):\n",
    "        self.c = 30\n",
    "        d = 40\n",
    "\n",
    "print(Student.__dict__)\n",
    "s=Student()\n",
    "\n",
    "print(s.__dict__)\n",
    "s.talk()\n",
    "print(s.__dict__)"
   ]
  },
  {
   "cell_type": "code",
   "execution_count": 6,
   "id": "464592ec",
   "metadata": {
    "ExecuteTime": {
     "end_time": "2020-11-08T19:04:00.114766Z",
     "start_time": "2020-11-08T19:03:58.451671Z"
    }
   },
   "outputs": [
    {
     "name": "stdout",
     "output_type": "stream",
     "text": [
      "Enter the value of n: 10\n",
      "[1, 4, 9, 16, 25, 36, 49, 64, 81, 100]\n",
      "1\n",
      "5\n",
      "14\n",
      "30\n",
      "55\n",
      "91\n",
      "140\n",
      "204\n",
      "285\n",
      "385\n"
     ]
    }
   ],
   "source": [
    "def f(n):\n",
    "    squares = [n**2 for n in range(1,n+1)]\n",
    "    print(squares)\n",
    "    \n",
    "    partsum=0\n",
    "    i=0\n",
    "    \n",
    "    while(i<n):\n",
    "        partsum=partsum+squares[i]\n",
    "        i +=1\n",
    "        print(partsum)\n",
    "\n",
    "n=int(input(\"Enter the value of n: \"))\n",
    "f(n)"
   ]
  },
  {
   "cell_type": "code",
   "execution_count": 23,
   "id": "f88ba76f",
   "metadata": {
    "ExecuteTime": {
     "end_time": "2020-11-08T19:59:54.413621Z",
     "start_time": "2020-11-08T19:59:52.462510Z"
    },
    "scrolled": true
   },
   "outputs": [
    {
     "name": "stdout",
     "output_type": "stream",
     "text": [
      "Enter the value of n: 4\n",
      "Sum of squares from 1-4 is 1+8+27+64 = 100\n",
      "\n",
      "The Partial sum of 4 is 100\n"
     ]
    }
   ],
   "source": [
    "# Defining Partial Sum\n",
    "def createseq(n):\n",
    "    for i in range(1, n+1):\n",
    "        yield i**3\n",
    "\n",
    "if __name__ == \"__main__\":\n",
    "    # Reading the input values from user\n",
    "    n = int(input(\"Enter the value of n: \"))\n",
    "   \n",
    "    list_of_n = [i for i in createseq(n)]\n",
    "    print(\"Sum of squares from 1-{} is \".format(n) + \"+\".join([str(i) for i in list_of_n]) + \" = {}\".format(sum(list_of_n)))\n",
    "    print(\"\\nThe Partial sum of {} is {}\".format(n,sum(list_of_n)))"
   ]
  },
  {
   "cell_type": "code",
   "execution_count": null,
   "id": "d41b9716",
   "metadata": {},
   "outputs": [],
   "source": [
    "\n",
    "# OOPS Concepts\n",
    "\n",
    "## Basics of OOPS\n",
    "\n",
    "**class ClassName():**<br>\n",
    "    &emsp;&emsp; **'''Documentation String'''**<br>\n",
    "    &emsp;&emsp; **Variables** : Instance, Static, Local<br>\n",
    "    &emsp;&emsp; **Methods**   : Instance, Static, Class<br>\n",
    "\n",
    "**Constructor**<br>\n",
    "`It is a Special Method : __init__`<br>\n",
    "`It will be executed automatically when initializing class Object`<br>\n",
    "`It can only be executed only once when initializing class object`<br>\n",
    "`Used to Declare and Initialize instance Variables`<br>\n",
    "`One or more constructor not possible, if so, executes latest(Constructor Overloading not possible)`<br>\n",
    "\n",
    "**self:**<br>\n",
    "`Python provided implicit variable always pointing to class object`<br>\n",
    "`By Using self, We can access Instance Variables & Methods`<br>\n",
    "`Self can also be replaced with any variable`\n",
    "\n",
    "**variable:**<br>\n",
    "`Instance Variable : Object Level Variable`<br>\n",
    "`Static Variable   : Class Level Variable`<br>\n",
    "`Local Variable    : Method Level Variable`<br>\n",
    "\n",
    "### self pointer\n",
    "\n",
    "# Self Example\n",
    "\n",
    "class Student():\n",
    "    def __init__(self, x, y):\n",
    "        self.x = x\n",
    "        self.y = y\n",
    "    def show(self):\n",
    "        print('X : {}, Y: {}'.format(self.x, self.y))\n",
    "\n",
    "s = Student(1, 2)\n",
    "s.show()\n",
    "\n",
    "# Self can also be replaced with any variable\n",
    "\n",
    "class Student():\n",
    "    def __init__(var, x, y):\n",
    "        var.x = x\n",
    "        var.y = y\n",
    "    def show(var):\n",
    "        print('X : {}, Y: {}'.format(var.x, var.y))\n",
    "\n",
    "s = Student(1, 2)\n",
    "s.show()\n",
    "\n",
    "# Variable self is having same ID(which is Class)\n",
    "\n",
    "class Student():\n",
    "    def __init__(var, x, y):\n",
    "        var.x = x\n",
    "        var.y = y\n",
    "        print(id(var))\n",
    "    def show(var):\n",
    "        print('X : {}, Y: {}'.format(var.x, var.y))\n",
    "        print(id(var))\n",
    "\n",
    "s = Student(1, 2)\n",
    "s.show()\n",
    "id(s)\n",
    "\n",
    "s.__init__(10,20)\n",
    "s.__init__(20,30)\n",
    "\n",
    "student = [Student(1, 2), Student(10, 20), Student(100, 200)]\n",
    "for i in student:\n",
    "    i.show()\n",
    "\n",
    "### Instance or Object level variable\n",
    "\n",
    "`- Defining Instance or Object level variable`<br>\n",
    "`1) Inside Class Methods - Using self variable`<br>\n",
    "`2) Outside Class - Using Object reference variable`<br><br>\n",
    "\n",
    "`- How to Access these variables`<br>\n",
    "`1) Inside Class  - Using self variable`<br>\n",
    "`2) Outside Class - Using Object reference variable`<br>\n",
    "\n",
    "class Student():\n",
    "    def __init__(var, x, y):\n",
    "        var.x = x                    # Inside Class Methods - Using self variable\n",
    "        var.y = y\n",
    "    def show(var):\n",
    "        print('X : {}, Y: {}'.format(var.x, var.y))  # Inside Class  - Using self variable\n",
    "\n",
    "s = Student(1, 2)\n",
    "print(s.__dict__)\n",
    "print()\n",
    "\n",
    "s.b = 100                            # Outside Class - Using Object reference variable\n",
    "print(s.__dict__)\n",
    "\n",
    "### Static or Class level variable\n",
    "`- Defining Static or Class level variable`<br>\n",
    "`1) Inside Class - Normal Declaration`<br>\n",
    "`2) Inside Class Method - Using Classname`<br>\n",
    "\n",
    "class Student():\n",
    "    a = 10                           # Inside Class  - Normal Declaration\n",
    "    def __init__(var, x, y):\n",
    "        var.x = x                    # Inside Class Methods - Using self variable\n",
    "        var.y = y\n",
    "    def show(var):\n",
    "        print('X : {}, Y: {}'.format(var.x, var.y))  # Inside Class  - Using self variable\n",
    "\n",
    "s1 = Student(1, 2)\n",
    "s1.a = 100\n",
    "print(s1.__dict__)\n",
    "print(Student.__dict__)\n",
    "print(Student.a)                      # Outside Class - Using Object reference variable\n",
    "print(s1.a)\n",
    "print()\n",
    "\n",
    "s2 = Student(10, 20)\n",
    "print(s2.__dict__)\n",
    "print(Student.__dict__)\n",
    "print(Student.a)                      # Outside Class - Using Object reference variable\n",
    "print(s2.a)\n",
    "\n",
    "Student.a = 100\n",
    "print(Student.__dict__)\n",
    "print(s1.a)\n",
    "print(s2.a)\n",
    "\n",
    "class Student():\n",
    "    a = 10                           # Inside Class  - Normal Declaration\n",
    "    \n",
    "    def __init__(var, x, y):\n",
    "        var.x = x                    # Inside Class Methods - Using self variable\n",
    "        var.y = y\n",
    "    \n",
    "    def show(var):\n",
    "        print('X : {}, Y: {}'.format(var.x, var.y))  # Inside Class  - Using self variable\n",
    "    \n",
    "    @classmethod\n",
    "    def m1(cls):\n",
    "        Student.z = 50\n",
    "    \n",
    "    @staticmethod\n",
    "    def m2():\n",
    "        Student.b = 100\n",
    "\n",
    "s = Student(1, 2)\n",
    "Student.m1()\n",
    "print(Student.__dict__)\n",
    "\n",
    "s = Student(10, 20)\n",
    "Student.m2()\n",
    "print(Student.__dict__)## Class & Instance\n",
    "\n",
    "A class is a code template for creating objects.\n",
    "Objects have member variables and have behaviour associated with them.\n",
    "An object is created using the constructor of the class. \n",
    "This object will then be called the instance of the class.\n",
    "\n",
    "class className:\n",
    "    '''======= Example Doc String ========'''\n",
    "    pass\n",
    "Instance = className()\n",
    "\n",
    "print(Instance)\n",
    "\n",
    "print(Instance.__doc__)\n",
    "\n",
    "help(Instance)\n",
    "\n",
    "## Constructor\n",
    "Python the __init__() method is called the constructor.<br>\n",
    "It is always called when a class is created.\n",
    "\n",
    "### What is self ?\n",
    "\n",
    "class Student: \n",
    "    # constructor \n",
    "    def __init__(self):\n",
    "        self.Name  = \"Vignesh\"\n",
    "        self.Age   = \"15\"\n",
    "        self.Class = \"X\"\n",
    "    def talk(self):\n",
    "        print(self.Name)\n",
    "        print(self.Age)\n",
    "        print(self.Class)\n",
    "\n",
    "s=Student()     # ===> Instance\n",
    "print()\n",
    "\n",
    "print(s.Name)   # ===> Instance Attributes\n",
    "print(s.Age)    # ===> Instance Attributes\n",
    "print()\n",
    "\n",
    "s.talk()        # ===> Instance Methods\n",
    "\n",
    "class Student: \n",
    "    # parametrized constructor \n",
    "    def __init__(self, name, age, std):\n",
    "        self.Name  = name\n",
    "        self.Age   = age\n",
    "        self.std   = std\n",
    "    def talk(self):\n",
    "        print(self.Name)\n",
    "        print(self.Age)\n",
    "        print(self.std)\n",
    "\n",
    "s=Student(\"Vignesh\", 15, \"X\")     # ===> Instance\n",
    "s.talk()                          # ===> Instance Methods\n",
    "print()\n",
    "s=Student(\"Vignesh_1\", 16, \"XI\")     # ===> Instance\n",
    "s.talk()                          # ===> Instance Methods\n",
    "\n",
    "### Constructor Overloading\n",
    "Accessing variables in the class.<br>\n",
    "Passing variables from methods to class.\n",
    "\n",
    "class Student: \n",
    "    # parametrized constructor \n",
    "    def __init__( name, age, std):\n",
    "        self.Name  = name\n",
    "        self.Age   = age\n",
    "        self.std   = std\n",
    "    def talk(self):\n",
    "        print(self.Name)\n",
    "        print(self.Age)\n",
    "        print(self.std)\n",
    "\n",
    "s=Student(\"Vignesh\", 15, \"X\")     # ===> Instance\n",
    "\n",
    "class Student: \n",
    "    # parametrized constructor \n",
    "    def __init__(self, name, age, std):\n",
    "        self.Name  = name\n",
    "        self.Age   = age\n",
    "        self.std   = std\n",
    "        print(id(self))\n",
    "    def talk(self):\n",
    "        print(self.Name)\n",
    "        print(self.Age)\n",
    "        print(self.std)\n",
    "        print(id(self))\n",
    "\n",
    "s=Student(\"Vignesh\", 15, \"X\")     # ===> Instance\n",
    "print()\n",
    "s.talk()                          # ===> Instance Methods\n",
    "\n",
    "class Student: \n",
    "    # parametrized constructor \n",
    "    def __init__(self, name, age, std):\n",
    "        self.Name  = name\n",
    "        self.Age   = age\n",
    "        self.std   = std\n",
    "        print(id(self))\n",
    "    def talk(self):\n",
    "        print(self.Name)\n",
    "        print(self.Age)\n",
    "        print(self.std)\n",
    "        print(id(self))\n",
    "\n",
    "s=Student(\"Vignesh\", 15, \"X\")     # ===> Instance\n",
    "print(s.__dict__)\n",
    "\n",
    "class Student: \n",
    "    # parametrized constructor \n",
    "    def __init__(self, name, age, std):\n",
    "        self.Name  = name\n",
    "        self.Age   = age\n",
    "        self.std   = std\n",
    "        print(id(self))\n",
    "    def talk(self):\n",
    "        print(self.Name)\n",
    "        print(self.Age)\n",
    "        print(self.std)\n",
    "        print(id(self))\n",
    "\n",
    "s=Student(\"Vignesh\", 15, \"X\")     # ===> Instance\n",
    "print(s.__dict__)\n",
    "s.Name = \"Vicky\"\n",
    "print(s.Name)\n",
    "\n",
    "class Student: \n",
    "    # constructor overloading\n",
    "    def __init__(self, name):\n",
    "        print(\"One Args Constructor\")\n",
    "    def __init__(self):\n",
    "        print(\"No Args Constructor\")\n",
    "s=Student(\"Vignesh\")\n",
    "\n",
    "class Student: \n",
    "    # constructor overloading\n",
    "    def __init__(self):\n",
    "        print(\"No Args Constructor\")\n",
    "    def __init__(self, name):\n",
    "        print(\"One Args Constructor\")\n",
    "s=Student(\"Vignesh\")\n",
    "\n",
    "class Student: \n",
    "    # parametrized constructor\n",
    "    a = 10\n",
    "    def __init__(self):\n",
    "        self.b = 20\n",
    "    \n",
    "    def talk(self):\n",
    "        self.c = 30\n",
    "        d = 40\n",
    "\n",
    "print(Student.__dict__)\n",
    "s=Student()\n",
    "\n",
    "print(s.__dict__)\n",
    "s.talk()\n",
    "print(s.__dict__)\n",
    "\n",
    "def f(n):\n",
    "    squares = [n**2 for n in range(1,n+1)]\n",
    "    print(squares)\n",
    "    \n",
    "    partsum=0\n",
    "    i=0\n",
    "    \n",
    "    while(i<n):\n",
    "        partsum=partsum+squares[i]\n",
    "        i +=1\n",
    "        print(partsum)\n",
    "\n",
    "n=int(input(\"Enter the value of n: \"))\n",
    "f(n)\n",
    "\n",
    "# Defining Partial Sum\n",
    "def createseq(n):\n",
    "    for i in range(1, n+1):\n",
    "        yield i**3\n",
    "\n",
    "if __name__ == \"__main__\":\n",
    "    # Reading the input values from user\n",
    "    n = int(input(\"Enter the value of n: \"))\n",
    "   \n",
    "    list_of_n = [i for i in createseq(n)]\n",
    "    print(\"Sum of squares from 1-{} is \".format(n) + \"+\".join([str(i) for i in list_of_n]) + \" = {}\".format(sum(list_of_n)))\n",
    "    print(\"\\nThe Partial sum of {} is {}\".format(n,sum(list_of_n)))"
   ]
  }
 ],
 "metadata": {
  "kernelspec": {
   "display_name": "Python 3 (ipykernel)",
   "language": "python",
   "name": "python3"
  },
  "language_info": {
   "codemirror_mode": {
    "name": "ipython",
    "version": 3
   },
   "file_extension": ".py",
   "mimetype": "text/x-python",
   "name": "python",
   "nbconvert_exporter": "python",
   "pygments_lexer": "ipython3",
   "version": "3.8.13"
  },
  "toc": {
   "base_numbering": 1,
   "nav_menu": {},
   "number_sections": true,
   "sideBar": true,
   "skip_h1_title": false,
   "title_cell": "Table of Contents",
   "title_sidebar": "Contents",
   "toc_cell": true,
   "toc_position": {},
   "toc_section_display": true,
   "toc_window_display": true
  }
 },
 "nbformat": 4,
 "nbformat_minor": 5
}
