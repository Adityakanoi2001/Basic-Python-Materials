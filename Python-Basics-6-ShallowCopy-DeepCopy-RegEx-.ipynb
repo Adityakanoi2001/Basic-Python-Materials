{
 "cells": [
  {
   "cell_type": "markdown",
   "metadata": {
    "toc": true
   },
   "source": [
    "<h1>Table of Contents<span class=\"tocSkip\"></span></h1>\n",
    "<div class=\"toc\"><ul class=\"toc-item\"><li><span><a href=\"#Shallow-Copy-and--Deep-Copy\" data-toc-modified-id=\"Shallow-Copy-and--Deep-Copy-1\"><span class=\"toc-item-num\">1&nbsp;&nbsp;</span>Shallow Copy and  Deep Copy</a></span><ul class=\"toc-item\"><li><span><a href=\"#Assignment\" data-toc-modified-id=\"Assignment-1.1\"><span class=\"toc-item-num\">1.1&nbsp;&nbsp;</span>Assignment</a></span></li><li><span><a href=\"#Copy\" data-toc-modified-id=\"Copy-1.2\"><span class=\"toc-item-num\">1.2&nbsp;&nbsp;</span>Copy</a></span></li><li><span><a href=\"#Shallow-Copy\" data-toc-modified-id=\"Shallow-Copy-1.3\"><span class=\"toc-item-num\">1.3&nbsp;&nbsp;</span>Shallow Copy</a></span></li><li><span><a href=\"#Deep-Copy\" data-toc-modified-id=\"Deep-Copy-1.4\"><span class=\"toc-item-num\">1.4&nbsp;&nbsp;</span>Deep Copy</a></span></li></ul></li><li><span><a href=\"#RegEx\" data-toc-modified-id=\"RegEx-2\"><span class=\"toc-item-num\">2&nbsp;&nbsp;</span>RegEx</a></span><ul class=\"toc-item\"><li><span><a href=\"#Character-Class\" data-toc-modified-id=\"Character-Class-2.1\"><span class=\"toc-item-num\">2.1&nbsp;&nbsp;</span>Character Class</a></span></li><li><span><a href=\"#Pre-Defined-Character-Classes\" data-toc-modified-id=\"Pre-Defined-Character-Classes-2.2\"><span class=\"toc-item-num\">2.2&nbsp;&nbsp;</span>Pre-Defined Character Classes</a></span></li><li><span><a href=\"#Quantifiers\" data-toc-modified-id=\"Quantifiers-2.3\"><span class=\"toc-item-num\">2.3&nbsp;&nbsp;</span>Quantifiers</a></span></li><li><span><a href=\"#Special-Chars\" data-toc-modified-id=\"Special-Chars-2.4\"><span class=\"toc-item-num\">2.4&nbsp;&nbsp;</span>Special Chars</a></span></li><li><span><a href=\"#Important-Function-in-re\" data-toc-modified-id=\"Important-Function-in-re-2.5\"><span class=\"toc-item-num\">2.5&nbsp;&nbsp;</span>Important Function in re</a></span><ul class=\"toc-item\"><li><span><a href=\"#re.match()\" data-toc-modified-id=\"re.match()-2.5.1\"><span class=\"toc-item-num\">2.5.1&nbsp;&nbsp;</span>re.match()</a></span></li><li><span><a href=\"#re.fullmatch()\" data-toc-modified-id=\"re.fullmatch()-2.5.2\"><span class=\"toc-item-num\">2.5.2&nbsp;&nbsp;</span>re.fullmatch()</a></span></li><li><span><a href=\"#re.search()\" data-toc-modified-id=\"re.search()-2.5.3\"><span class=\"toc-item-num\">2.5.3&nbsp;&nbsp;</span>re.search()</a></span></li><li><span><a href=\"#re.findall()\" data-toc-modified-id=\"re.findall()-2.5.4\"><span class=\"toc-item-num\">2.5.4&nbsp;&nbsp;</span>re.findall()</a></span></li><li><span><a href=\"#re.finditer()\" data-toc-modified-id=\"re.finditer()-2.5.5\"><span class=\"toc-item-num\">2.5.5&nbsp;&nbsp;</span>re.finditer()</a></span></li><li><span><a href=\"#re.sub()\" data-toc-modified-id=\"re.sub()-2.5.6\"><span class=\"toc-item-num\">2.5.6&nbsp;&nbsp;</span>re.sub()</a></span></li><li><span><a href=\"#re.subn()\" data-toc-modified-id=\"re.subn()-2.5.7\"><span class=\"toc-item-num\">2.5.7&nbsp;&nbsp;</span>re.subn()</a></span></li><li><span><a href=\"#re.split()\" data-toc-modified-id=\"re.split()-2.5.8\"><span class=\"toc-item-num\">2.5.8&nbsp;&nbsp;</span>re.split()</a></span></li></ul></li><li><span><a href=\"#Applications\" data-toc-modified-id=\"Applications-2.6\"><span class=\"toc-item-num\">2.6&nbsp;&nbsp;</span>Applications</a></span><ul class=\"toc-item\"><li><span><a href=\"#Mobile-Number-Identification\" data-toc-modified-id=\"Mobile-Number-Identification-2.6.1\"><span class=\"toc-item-num\">2.6.1&nbsp;&nbsp;</span>Mobile Number Identification</a></span></li><li><span><a href=\"#Send-SMS-to-all-Mobile-Numbers\" data-toc-modified-id=\"Send-SMS-to-all-Mobile-Numbers-2.6.2\"><span class=\"toc-item-num\">2.6.2&nbsp;&nbsp;</span>Send SMS to all Mobile Numbers</a></span></li><li><span><a href=\"#Web-Scrapping---Intro-Using-RegEx\" data-toc-modified-id=\"Web-Scrapping---Intro-Using-RegEx-2.6.3\"><span class=\"toc-item-num\">2.6.3&nbsp;&nbsp;</span>Web Scrapping - Intro Using RegEx</a></span></li><li><span><a href=\"#Web-Scrapping---redbus.in-using-RegEx\" data-toc-modified-id=\"Web-Scrapping---redbus.in-using-RegEx-2.6.4\"><span class=\"toc-item-num\">2.6.4&nbsp;&nbsp;</span>Web Scrapping - redbus.in using RegEx</a></span></li><li><span><a href=\"#Validate-Main-Id\" data-toc-modified-id=\"Validate-Main-Id-2.6.5\"><span class=\"toc-item-num\">2.6.5&nbsp;&nbsp;</span>Validate Main-Id</a></span></li><li><span><a href=\"#Validate-Vehical-Registration-Number\" data-toc-modified-id=\"Validate-Vehical-Registration-Number-2.6.6\"><span class=\"toc-item-num\">2.6.6&nbsp;&nbsp;</span>Validate Vehical Registration Number</a></span></li></ul></li></ul></li><li><span><a href=\"#OOPS-Concepts\" data-toc-modified-id=\"OOPS-Concepts-3\"><span class=\"toc-item-num\">3&nbsp;&nbsp;</span>OOPS Concepts</a></span><ul class=\"toc-item\"><li><span><a href=\"#Basics-of-OOPS\" data-toc-modified-id=\"Basics-of-OOPS-3.1\"><span class=\"toc-item-num\">3.1&nbsp;&nbsp;</span>Basics of OOPS</a></span><ul class=\"toc-item\"><li><span><a href=\"#self-pointer\" data-toc-modified-id=\"self-pointer-3.1.1\"><span class=\"toc-item-num\">3.1.1&nbsp;&nbsp;</span>self pointer</a></span></li><li><span><a href=\"#Instance-or-Object-level-variable\" data-toc-modified-id=\"Instance-or-Object-level-variable-3.1.2\"><span class=\"toc-item-num\">3.1.2&nbsp;&nbsp;</span>Instance or Object level variable</a></span></li><li><span><a href=\"#Static-or-Class-level-variable\" data-toc-modified-id=\"Static-or-Class-level-variable-3.1.3\"><span class=\"toc-item-num\">3.1.3&nbsp;&nbsp;</span>Static or Class level variable</a></span></li></ul></li></ul></li></ul></div>"
   ]
  },
  {
   "cell_type": "code",
   "execution_count": 17,
   "metadata": {
    "ExecuteTime": {
     "end_time": "2022-10-02T10:47:40.030180Z",
     "start_time": "2022-10-02T10:47:40.021598Z"
    }
   },
   "outputs": [
    {
     "data": {
      "text/plain": [
       "'foo bar'"
      ]
     },
     "execution_count": 17,
     "metadata": {},
     "output_type": "execute_result"
    }
   ],
   "source": [
    "'foo {}'.format('bar')"
   ]
  },
  {
   "cell_type": "code",
   "execution_count": 20,
   "metadata": {
    "ExecuteTime": {
     "end_time": "2022-10-02T10:48:09.103366Z",
     "start_time": "2022-10-02T10:48:09.094647Z"
    }
   },
   "outputs": [
    {
     "data": {
      "text/plain": [
       "\"foo 'bar'\""
      ]
     },
     "execution_count": 20,
     "metadata": {},
     "output_type": "execute_result"
    }
   ],
   "source": [
    "'foo {!r}'.format(\"\"\"bar\"\"\")"
   ]
  },
  {
   "cell_type": "markdown",
   "metadata": {},
   "source": [
    "# Shallow Copy and  Deep Copy"
   ]
  },
  {
   "cell_type": "markdown",
   "metadata": {},
   "source": [
    "## Assignment"
   ]
  },
  {
   "cell_type": "code",
   "execution_count": 48,
   "metadata": {
    "ExecuteTime": {
     "end_time": "2022-09-25T12:54:52.342052Z",
     "start_time": "2022-09-25T12:54:52.332274Z"
    }
   },
   "outputs": [],
   "source": [
    "l = [1,2,3,4]\n",
    "\n",
    "# Duplicate references created for the same object\n",
    "m = l"
   ]
  },
  {
   "cell_type": "code",
   "execution_count": 49,
   "metadata": {
    "ExecuteTime": {
     "end_time": "2022-09-25T12:55:13.963171Z",
     "start_time": "2022-09-25T12:55:13.956369Z"
    }
   },
   "outputs": [
    {
     "name": "stdout",
     "output_type": "stream",
     "text": [
      "[1, 2, 3, 4] 140174459579520\n",
      "\n",
      "[1, 2, 3, 4] 140174459579520\n"
     ]
    }
   ],
   "source": [
    "print(l, id(l))\n",
    "print()\n",
    "print(m, id(m))"
   ]
  },
  {
   "cell_type": "markdown",
   "metadata": {},
   "source": [
    "## Copy"
   ]
  },
  {
   "cell_type": "code",
   "execution_count": 52,
   "metadata": {
    "ExecuteTime": {
     "end_time": "2022-09-25T12:57:07.123077Z",
     "start_time": "2022-09-25T12:57:07.118807Z"
    }
   },
   "outputs": [],
   "source": [
    "x = [10,20,30,40]\n",
    "\n",
    "# It will create a copy of the object, but not object under object\n",
    "y = x.copy()"
   ]
  },
  {
   "cell_type": "code",
   "execution_count": 53,
   "metadata": {
    "ExecuteTime": {
     "end_time": "2022-09-25T12:57:07.664837Z",
     "start_time": "2022-09-25T12:57:07.658950Z"
    }
   },
   "outputs": [
    {
     "name": "stdout",
     "output_type": "stream",
     "text": [
      "[10, 20, 30, 40] 140174459580096\n",
      "\n",
      "[10, 20, 30, 40] 140174459591616\n"
     ]
    }
   ],
   "source": [
    "print(x, id(x))\n",
    "print()\n",
    "print(y, id(y))"
   ]
  },
  {
   "cell_type": "code",
   "execution_count": 54,
   "metadata": {
    "ExecuteTime": {
     "end_time": "2022-09-25T12:57:26.327107Z",
     "start_time": "2022-09-25T12:57:26.320947Z"
    }
   },
   "outputs": [],
   "source": [
    "x.append(9999)"
   ]
  },
  {
   "cell_type": "code",
   "execution_count": 55,
   "metadata": {
    "ExecuteTime": {
     "end_time": "2022-09-25T12:57:30.970008Z",
     "start_time": "2022-09-25T12:57:30.963196Z"
    }
   },
   "outputs": [
    {
     "name": "stdout",
     "output_type": "stream",
     "text": [
      "[10, 20, 30, 40, 9999] 140174459580096\n",
      "\n",
      "[10, 20, 30, 40] 140174459591616\n"
     ]
    }
   ],
   "source": [
    "print(x, id(x))\n",
    "print()\n",
    "print(y, id(y))"
   ]
  },
  {
   "cell_type": "markdown",
   "metadata": {},
   "source": [
    "## Shallow Copy"
   ]
  },
  {
   "cell_type": "code",
   "execution_count": 35,
   "metadata": {
    "ExecuteTime": {
     "end_time": "2022-09-25T12:53:23.158588Z",
     "start_time": "2022-09-25T12:53:23.151316Z"
    }
   },
   "outputs": [],
   "source": [
    "import copy\n",
    "x = [10,20,30,40]\n",
    "\n",
    "# It will create a copy of the object, if that object contain any references it will be reused\n",
    "y = copy.copy(x)"
   ]
  },
  {
   "cell_type": "code",
   "execution_count": 36,
   "metadata": {
    "ExecuteTime": {
     "end_time": "2022-09-25T12:53:23.737366Z",
     "start_time": "2022-09-25T12:53:23.730680Z"
    }
   },
   "outputs": [
    {
     "name": "stdout",
     "output_type": "stream",
     "text": [
      "[10, 20, 30, 40] 140174459461184\n",
      "\n",
      "[10, 20, 30, 40] 140174459581568\n"
     ]
    }
   ],
   "source": [
    "print(x, id(x))\n",
    "print()\n",
    "print(y, id(y))"
   ]
  },
  {
   "cell_type": "code",
   "execution_count": 37,
   "metadata": {
    "ExecuteTime": {
     "end_time": "2022-09-25T12:53:26.246210Z",
     "start_time": "2022-09-25T12:53:26.240807Z"
    }
   },
   "outputs": [],
   "source": [
    "x.append(100)"
   ]
  },
  {
   "cell_type": "code",
   "execution_count": 38,
   "metadata": {
    "ExecuteTime": {
     "end_time": "2022-09-25T12:53:26.785867Z",
     "start_time": "2022-09-25T12:53:26.779009Z"
    }
   },
   "outputs": [
    {
     "name": "stdout",
     "output_type": "stream",
     "text": [
      "[10, 20, 30, 40, 100] 140174459461184\n",
      "\n",
      "[10, 20, 30, 40] 140174459581568\n"
     ]
    }
   ],
   "source": [
    "print(x, id(x))\n",
    "print()\n",
    "print(y, id(y))"
   ]
  },
  {
   "cell_type": "code",
   "execution_count": 56,
   "metadata": {
    "ExecuteTime": {
     "end_time": "2022-09-25T12:59:58.844263Z",
     "start_time": "2022-09-25T12:59:58.829533Z"
    }
   },
   "outputs": [],
   "source": [
    "import copy\n",
    "x = [10,20, [1000, 2000] ,40]\n",
    "\n",
    "# It will create a copy of the object, if that object contain any references it will be reused\n",
    "y = copy.copy(x)"
   ]
  },
  {
   "cell_type": "code",
   "execution_count": 57,
   "metadata": {
    "ExecuteTime": {
     "end_time": "2022-09-25T12:59:59.192776Z",
     "start_time": "2022-09-25T12:59:59.174228Z"
    }
   },
   "outputs": [
    {
     "name": "stdout",
     "output_type": "stream",
     "text": [
      "[10, 20, [1000, 2000], 40] 140174459594176\n",
      "\n",
      "[10, 20, [1000, 2000], 40] 140174459457728\n"
     ]
    }
   ],
   "source": [
    "print(x, id(x))\n",
    "print()\n",
    "print(y, id(y))"
   ]
  },
  {
   "cell_type": "code",
   "execution_count": 58,
   "metadata": {
    "ExecuteTime": {
     "end_time": "2022-09-25T12:59:59.803951Z",
     "start_time": "2022-09-25T12:59:59.798211Z"
    }
   },
   "outputs": [],
   "source": [
    "x[2][0] = 9999"
   ]
  },
  {
   "cell_type": "code",
   "execution_count": 60,
   "metadata": {
    "ExecuteTime": {
     "end_time": "2022-09-25T13:00:05.156362Z",
     "start_time": "2022-09-25T13:00:05.147313Z"
    }
   },
   "outputs": [
    {
     "name": "stdout",
     "output_type": "stream",
     "text": [
      "[10, 20, [9999, 2000], 40] 140174459594176\n",
      "\n",
      "[10, 20, [9999, 2000], 40] 140174459457728\n"
     ]
    }
   ],
   "source": [
    "print(x, id(x))\n",
    "print()\n",
    "print(y, id(y))"
   ]
  },
  {
   "cell_type": "code",
   "execution_count": 61,
   "metadata": {
    "ExecuteTime": {
     "end_time": "2022-09-25T13:00:19.042528Z",
     "start_time": "2022-09-25T13:00:19.034068Z"
    }
   },
   "outputs": [
    {
     "name": "stdout",
     "output_type": "stream",
     "text": [
      "[10, 20, [9999, 2000], 40] 140174459645440\n",
      "\n",
      "[10, 20, [9999, 2000], 40] 140174459645440\n"
     ]
    }
   ],
   "source": [
    "print(x, id(x[2]))\n",
    "print()\n",
    "print(y, id(y[2]))"
   ]
  },
  {
   "cell_type": "code",
   "execution_count": 43,
   "metadata": {
    "ExecuteTime": {
     "end_time": "2022-09-25T12:53:54.479462Z",
     "start_time": "2022-09-25T12:53:54.474758Z"
    }
   },
   "outputs": [],
   "source": [
    "x.append(101010)"
   ]
  },
  {
   "cell_type": "code",
   "execution_count": 44,
   "metadata": {
    "ExecuteTime": {
     "end_time": "2022-09-25T12:53:57.261011Z",
     "start_time": "2022-09-25T12:53:57.254000Z"
    }
   },
   "outputs": [
    {
     "name": "stdout",
     "output_type": "stream",
     "text": [
      "[10, 20, [9999, 2000], 40, 101010] 140174459414784\n",
      "\n",
      "[10, 20, [9999, 2000], 40] 140174459268160\n"
     ]
    }
   ],
   "source": [
    "print(x, id(x))\n",
    "print()\n",
    "print(y, id(y))"
   ]
  },
  {
   "cell_type": "markdown",
   "metadata": {},
   "source": [
    "## Deep Copy"
   ]
  },
  {
   "cell_type": "code",
   "execution_count": 62,
   "metadata": {
    "ExecuteTime": {
     "end_time": "2022-09-25T13:05:02.968710Z",
     "start_time": "2022-09-25T13:05:02.956904Z"
    }
   },
   "outputs": [],
   "source": [
    "import copy\n",
    "x = [10,20, [1000, 2000] ,40]\n",
    "\n",
    "# It will create a copy of the object and underlying objects as well\n",
    "y = copy.deepcopy(x)"
   ]
  },
  {
   "cell_type": "code",
   "execution_count": 64,
   "metadata": {
    "ExecuteTime": {
     "end_time": "2022-09-25T13:05:12.901377Z",
     "start_time": "2022-09-25T13:05:12.892520Z"
    }
   },
   "outputs": [
    {
     "name": "stdout",
     "output_type": "stream",
     "text": [
      "[10, 20, [1000, 2000], 40] 140174459632512\n",
      "\n",
      "[10, 20, [1000, 2000], 40] 140174459591616\n"
     ]
    }
   ],
   "source": [
    "print(x, id(x))\n",
    "print()\n",
    "print(y, id(y))"
   ]
  },
  {
   "cell_type": "code",
   "execution_count": 67,
   "metadata": {
    "ExecuteTime": {
     "end_time": "2022-09-25T13:05:38.704678Z",
     "start_time": "2022-09-25T13:05:38.628037Z"
    }
   },
   "outputs": [
    {
     "name": "stdout",
     "output_type": "stream",
     "text": [
      "[10, 20, [1000, 2000], 40] 140174459637376\n",
      "\n",
      "[10, 20, [1000, 2000], 40] 140174459594944\n"
     ]
    }
   ],
   "source": [
    "print(x, id(x[2]))\n",
    "print()\n",
    "print(y, id(y[2]))"
   ]
  },
  {
   "cell_type": "code",
   "execution_count": 68,
   "metadata": {
    "ExecuteTime": {
     "end_time": "2022-09-25T13:06:08.949440Z",
     "start_time": "2022-09-25T13:06:08.945949Z"
    }
   },
   "outputs": [],
   "source": [
    "x[2].append(9999)"
   ]
  },
  {
   "cell_type": "code",
   "execution_count": 69,
   "metadata": {
    "ExecuteTime": {
     "end_time": "2022-09-25T13:06:17.857065Z",
     "start_time": "2022-09-25T13:06:17.851128Z"
    }
   },
   "outputs": [
    {
     "name": "stdout",
     "output_type": "stream",
     "text": [
      "[10, 20, [1000, 2000, 9999], 40] 140174459632512\n",
      "\n",
      "[10, 20, [1000, 2000], 40] 140174459591616\n"
     ]
    }
   ],
   "source": [
    "print(x, id(x))\n",
    "print()\n",
    "print(y, id(y))"
   ]
  },
  {
   "cell_type": "markdown",
   "metadata": {},
   "source": [
    "# RegEx"
   ]
  },
  {
   "cell_type": "markdown",
   "metadata": {},
   "source": [
    "## Character Class\n",
    "| Symbole      | Uses      |\n",
    "| ------------ | --------- |\n",
    "| [abc]        | a or b or c |\n",
    "| [^abc]       | except a or b or c |\n",
    "| [a-z]        | a to z    |\n",
    "| [^a-z]       | except a to z |\n",
    "| [a-zA-Z]     | a to z A to Z |\n",
    "| [^a-zA-Z]    | except a to z A to Z |\n",
    "| [0-9]        | 0 to 9    |\n",
    "| [a-zA-Z0-9]  | a to z A to Z 0 to 9 |\n",
    "| [^a-zA-Z0-9] | except a to z A to Z 0 to 9 |"
   ]
  },
  {
   "cell_type": "markdown",
   "metadata": {},
   "source": [
    "## Pre-Defined Character Classes\n",
    "\n",
    "| Symbole | Uses      |\n",
    "| ------- | --------  |\n",
    "| \\s      | Space     |\n",
    "| \\S      | Not Space |\n",
    "| \\d      | Digit     |\n",
    "| \\D      | Not Digit |\n",
    "| \\w      | Aplha Neumeric Char |\n",
    "| \\W      | Not Aplha Neumeric  |\n",
    "| .       | Any Char  |"
   ]
  },
  {
   "cell_type": "code",
   "execution_count": 60,
   "metadata": {
    "ExecuteTime": {
     "end_time": "2022-10-02T12:07:45.206931Z",
     "start_time": "2022-10-02T12:07:45.200352Z"
    }
   },
   "outputs": [
    {
     "name": "stdout",
     "output_type": "stream",
     "text": [
      "3...' '\n"
     ]
    }
   ],
   "source": [
    "import re\n",
    "match = re.finditer('\\s', 'a7b @K9Z')\n",
    "\n",
    "for i in match:\n",
    "    print(f\"{i.start()}...'{i.group()}'\")"
   ]
  },
  {
   "cell_type": "code",
   "execution_count": 62,
   "metadata": {
    "ExecuteTime": {
     "end_time": "2022-10-02T12:07:58.671385Z",
     "start_time": "2022-10-02T12:07:58.663706Z"
    }
   },
   "outputs": [
    {
     "name": "stdout",
     "output_type": "stream",
     "text": [
      "0...'a'\n",
      "1...'7'\n",
      "2...'b'\n",
      "4...'@'\n",
      "5...'K'\n",
      "6...'9'\n",
      "7...'Z'\n"
     ]
    }
   ],
   "source": [
    "import re\n",
    "match = re.finditer('\\S', 'a7b @K9Z')\n",
    "\n",
    "for i in match:\n",
    "    print(f\"{i.start()}...'{i.group()}'\")"
   ]
  },
  {
   "cell_type": "code",
   "execution_count": 64,
   "metadata": {
    "ExecuteTime": {
     "end_time": "2022-10-02T12:08:11.933587Z",
     "start_time": "2022-10-02T12:08:11.926355Z"
    }
   },
   "outputs": [
    {
     "name": "stdout",
     "output_type": "stream",
     "text": [
      "1...'7'\n",
      "6...'9'\n"
     ]
    }
   ],
   "source": [
    "import re\n",
    "match = re.finditer('\\d', 'a7b @K9Z')\n",
    "\n",
    "for i in match:\n",
    "    print(f\"{i.start()}...'{i.group()}'\")"
   ]
  },
  {
   "cell_type": "code",
   "execution_count": 66,
   "metadata": {
    "ExecuteTime": {
     "end_time": "2022-10-02T12:08:22.062805Z",
     "start_time": "2022-10-02T12:08:22.055835Z"
    }
   },
   "outputs": [
    {
     "name": "stdout",
     "output_type": "stream",
     "text": [
      "0...'a'\n",
      "2...'b'\n",
      "3...' '\n",
      "4...'@'\n",
      "5...'K'\n",
      "7...'Z'\n"
     ]
    }
   ],
   "source": [
    "import re\n",
    "match = re.finditer('\\D', 'a7b @K9Z')\n",
    "\n",
    "for i in match:\n",
    "    print(f\"{i.start()}...'{i.group()}'\")"
   ]
  },
  {
   "cell_type": "code",
   "execution_count": 68,
   "metadata": {
    "ExecuteTime": {
     "end_time": "2022-10-02T12:08:29.478631Z",
     "start_time": "2022-10-02T12:08:29.469693Z"
    }
   },
   "outputs": [
    {
     "name": "stdout",
     "output_type": "stream",
     "text": [
      "0...'a'\n",
      "1...'7'\n",
      "2...'b'\n",
      "5...'K'\n",
      "6...'9'\n",
      "7...'Z'\n"
     ]
    }
   ],
   "source": [
    "import re\n",
    "match = re.finditer('\\w', 'a7b @K9Z')\n",
    "\n",
    "for i in match:\n",
    "    print(f\"{i.start()}...'{i.group()}'\")"
   ]
  },
  {
   "cell_type": "code",
   "execution_count": 70,
   "metadata": {
    "ExecuteTime": {
     "end_time": "2022-10-02T12:08:37.356266Z",
     "start_time": "2022-10-02T12:08:37.349029Z"
    }
   },
   "outputs": [
    {
     "name": "stdout",
     "output_type": "stream",
     "text": [
      "3...' '\n",
      "4...'@'\n"
     ]
    }
   ],
   "source": [
    "import re\n",
    "match = re.finditer('\\W', 'a7b @K9Z')\n",
    "\n",
    "for i in match:\n",
    "    print(f\"{i.start()}...'{i.group()}'\")"
   ]
  },
  {
   "cell_type": "code",
   "execution_count": 72,
   "metadata": {
    "ExecuteTime": {
     "end_time": "2022-10-02T12:08:56.654078Z",
     "start_time": "2022-10-02T12:08:56.647676Z"
    }
   },
   "outputs": [
    {
     "name": "stdout",
     "output_type": "stream",
     "text": [
      "0...'a'\n",
      "1...'7'\n",
      "2...'b'\n",
      "3...' '\n",
      "4...'@'\n",
      "5...'K'\n",
      "6...'9'\n",
      "7...'Z'\n"
     ]
    }
   ],
   "source": [
    "import re\n",
    "match = re.finditer('.', 'a7b @K9Z')\n",
    "\n",
    "for i in match:\n",
    "    print(f\"{i.start()}...'{i.group()}'\")"
   ]
  },
  {
   "cell_type": "markdown",
   "metadata": {},
   "source": [
    "## Quantifiers\n",
    "| Quantifiers | Uses |\n",
    "| ----------- | ---- |\n",
    "| a          | Single match 'a'   |\n",
    "| a+         | One or more  'a'   |\n",
    "| a*         | Zero or More 'a'   |\n",
    "| a?         | Zero or One of 'a' |\n",
    "| a{n}       | Exactly n n'of 'a' |\n",
    "| a{min, max}| Min to Max 'a'     |\n",
    "| ^a         | Starts with 'a'    |\n",
    "| a$         | Ends with 'a'      |"
   ]
  },
  {
   "cell_type": "code",
   "execution_count": 74,
   "metadata": {
    "ExecuteTime": {
     "end_time": "2022-10-02T12:16:03.657027Z",
     "start_time": "2022-10-02T12:16:03.643774Z"
    }
   },
   "outputs": [
    {
     "name": "stdout",
     "output_type": "stream",
     "text": [
      "0...'a'\n",
      "1...''\n",
      "2...'aaaaa'\n",
      "7...''\n",
      "8...'a'\n",
      "9...''\n",
      "10...'a'\n",
      "11...''\n",
      "12...'aa'\n",
      "14...''\n",
      "15...''\n",
      "16...''\n",
      "17...''\n"
     ]
    }
   ],
   "source": [
    "import re\n",
    "match = re.finditer('a*', 'abaaaaabababaabbb')\n",
    "\n",
    "for i in match:\n",
    "    print(f\"{i.start()}...'{i.group()}'\")"
   ]
  },
  {
   "cell_type": "code",
   "execution_count": 76,
   "metadata": {
    "ExecuteTime": {
     "end_time": "2022-10-02T12:18:27.768721Z",
     "start_time": "2022-10-02T12:18:27.762215Z"
    }
   },
   "outputs": [
    {
     "name": "stdout",
     "output_type": "stream",
     "text": [
      "0...'a'\n",
      "1...''\n",
      "2...'a'\n",
      "3...'a'\n",
      "4...'a'\n",
      "5...'a'\n",
      "6...'a'\n",
      "7...''\n",
      "8...'a'\n",
      "9...''\n",
      "10...'a'\n",
      "11...''\n",
      "12...'a'\n",
      "13...'a'\n",
      "14...''\n",
      "15...''\n",
      "16...''\n",
      "17...''\n"
     ]
    }
   ],
   "source": [
    "import re\n",
    "match = re.finditer('a?', 'abaaaaabababaabbb')\n",
    "\n",
    "for i in match:\n",
    "    print(f\"{i.start()}...'{i.group()}'\")"
   ]
  },
  {
   "cell_type": "code",
   "execution_count": 77,
   "metadata": {
    "ExecuteTime": {
     "end_time": "2022-10-02T12:20:16.584476Z",
     "start_time": "2022-10-02T12:20:16.565692Z"
    }
   },
   "outputs": [
    {
     "name": "stdout",
     "output_type": "stream",
     "text": [
      "2...'aa'\n",
      "4...'aa'\n",
      "12...'aa'\n"
     ]
    }
   ],
   "source": [
    "import re\n",
    "match = re.finditer('a{2}', 'abaaaaabababaabbb')\n",
    "\n",
    "for i in match:\n",
    "    print(f\"{i.start()}...'{i.group()}'\")"
   ]
  },
  {
   "cell_type": "code",
   "execution_count": 78,
   "metadata": {
    "ExecuteTime": {
     "end_time": "2022-10-02T12:20:41.594795Z",
     "start_time": "2022-10-02T12:20:41.583737Z"
    }
   },
   "outputs": [
    {
     "name": "stdout",
     "output_type": "stream",
     "text": [
      "2...'aaa'\n",
      "5...'aa'\n",
      "12...'aa'\n"
     ]
    }
   ],
   "source": [
    "import re\n",
    "match = re.finditer('a{2,3}', 'abaaaaabababaabbb')\n",
    "\n",
    "for i in match:\n",
    "    print(f\"{i.start()}...'{i.group()}'\")"
   ]
  },
  {
   "cell_type": "code",
   "execution_count": 81,
   "metadata": {
    "ExecuteTime": {
     "end_time": "2022-10-02T12:22:58.499495Z",
     "start_time": "2022-10-02T12:22:58.492304Z"
    }
   },
   "outputs": [
    {
     "name": "stdout",
     "output_type": "stream",
     "text": [
      "0...'a'\n",
      "2...'aaaaa'\n",
      "8...'a'\n",
      "10...'a'\n",
      "12...'aa'\n"
     ]
    }
   ],
   "source": [
    "import re\n",
    "match = re.finditer('a{1,}', 'abaaaaabababaabbb')\n",
    "\n",
    "for i in match:\n",
    "    print(f\"{i.start()}...'{i.group()}'\")"
   ]
  },
  {
   "cell_type": "code",
   "execution_count": 83,
   "metadata": {
    "ExecuteTime": {
     "end_time": "2022-10-02T12:29:01.894374Z",
     "start_time": "2022-10-02T12:29:01.886047Z"
    }
   },
   "outputs": [
    {
     "name": "stdout",
     "output_type": "stream",
     "text": [
      "0...'a'\n"
     ]
    }
   ],
   "source": [
    "import re\n",
    "match = re.finditer('^a', 'abaaaaabababaabbb')\n",
    "\n",
    "for i in match:\n",
    "    print(f\"{i.start()}...'{i.group()}'\")"
   ]
  },
  {
   "cell_type": "code",
   "execution_count": 85,
   "metadata": {
    "ExecuteTime": {
     "end_time": "2022-10-02T12:29:18.820617Z",
     "start_time": "2022-10-02T12:29:18.811611Z"
    }
   },
   "outputs": [
    {
     "name": "stdout",
     "output_type": "stream",
     "text": [
      "16...'b'\n"
     ]
    }
   ],
   "source": [
    "import re\n",
    "match = re.finditer('b$', 'abaaaaabababaabbb')\n",
    "\n",
    "for i in match:\n",
    "    print(f\"{i.start()}...'{i.group()}'\")"
   ]
  },
  {
   "cell_type": "markdown",
   "metadata": {},
   "source": [
    "## Special Chars"
   ]
  },
  {
   "cell_type": "markdown",
   "metadata": {},
   "source": [
    "| Special Symbols       | Purpose |\n",
    "| --------------------- | ------- |\n",
    "| ?:                    | Non-Capturing Groups |\n",
    "| re.IGNORECASE (re.I)  | Case Ignore |\n",
    "| re.MULTILINE          | ^, $ Matches Before & After New Line |\n",
    "| re.DOTALL             | DOT  Matches New Line |\n",
    "| re.VERBOSE            | Allows to Visually Sep the Patterns |"
   ]
  },
  {
   "cell_type": "markdown",
   "metadata": {},
   "source": [
    "## Important Function in re\n",
    "```\n",
    "re.match()      # Returns Match Obj - Check if the match in the beggining\n",
    "                # Else None\n",
    "re.fullmatch()  # Returns Match Obj - Check if full regex is Matched in entier String\n",
    "                # Else None\n",
    "re.search()     # Returns List of 1st occurance\n",
    "                # Else None\n",
    "re.findall()    # Returns List of all the matched strings\n",
    "                # Else Empty List\n",
    "re.finditer()   # Returns the Iterator of the Match Obj\n",
    "                # Else Empty Iterator\n",
    "re.sub()        # Replace the patten with the replaced string\n",
    "                # Returns String\n",
    "re.subn()       # Replace the patten with the replaced string\n",
    "                # Returns Tuple (String, No)\n",
    "re.split()      # Returns List with Splitted Strings\n",
    "```"
   ]
  },
  {
   "cell_type": "markdown",
   "metadata": {},
   "source": [
    "### re.match()"
   ]
  },
  {
   "cell_type": "code",
   "execution_count": 128,
   "metadata": {
    "ExecuteTime": {
     "end_time": "2022-10-05T07:18:27.685051Z",
     "start_time": "2022-10-05T07:18:27.678375Z"
    }
   },
   "outputs": [
    {
     "name": "stdout",
     "output_type": "stream",
     "text": [
      "None\n"
     ]
    }
   ],
   "source": [
    "import re\n",
    "\n",
    "match = re.match('this', 'Does this text match the pattern?')\n",
    "\n",
    "print(match)\n",
    "if match:\n",
    "    print(match.start())\n",
    "    print(match.end())\n",
    "    print(match.group())"
   ]
  },
  {
   "cell_type": "markdown",
   "metadata": {},
   "source": [
    "### re.fullmatch()"
   ]
  },
  {
   "cell_type": "code",
   "execution_count": 130,
   "metadata": {
    "ExecuteTime": {
     "end_time": "2022-10-05T07:20:44.039818Z",
     "start_time": "2022-10-05T07:20:44.032667Z"
    }
   },
   "outputs": [
    {
     "name": "stdout",
     "output_type": "stream",
     "text": [
      "<re.Match object; span=(0, 3), match='k8a'>\n",
      "0\n",
      "3\n",
      "k8a\n",
      "[a-k][0-9][a-zA-Z0-9#]\n",
      "k8a\n"
     ]
    }
   ],
   "source": [
    "import re\n",
    "\n",
    "match = re.fullmatch('[a-k][0-9][a-zA-Z0-9#]','k8a')\n",
    "print(match)\n",
    "if match:\n",
    "    print(match.start())\n",
    "    print(match.end())\n",
    "    print(match.group())\n",
    "    print(match.re.pattern)\n",
    "    print(match.string)"
   ]
  },
  {
   "cell_type": "code",
   "execution_count": 125,
   "metadata": {
    "ExecuteTime": {
     "end_time": "2022-10-05T07:07:15.264173Z",
     "start_time": "2022-10-05T07:07:15.257602Z"
    }
   },
   "outputs": [
    {
     "name": "stdout",
     "output_type": "stream",
     "text": [
      "None\n"
     ]
    }
   ],
   "source": [
    "import re\n",
    "\n",
    "match = re.fullmatch('[a-k][0-9][a-zA-Z0-9#]','k8!')\n",
    "print(match)\n",
    "if match:\n",
    "    print(match.start())\n",
    "    print(match.end())\n",
    "    print(match.group())"
   ]
  },
  {
   "cell_type": "markdown",
   "metadata": {},
   "source": [
    "### re.search()"
   ]
  },
  {
   "cell_type": "code",
   "execution_count": 131,
   "metadata": {
    "ExecuteTime": {
     "end_time": "2022-10-05T07:21:35.267529Z",
     "start_time": "2022-10-05T07:21:35.259900Z"
    }
   },
   "outputs": [
    {
     "name": "stdout",
     "output_type": "stream",
     "text": [
      "<re.Match object; span=(0, 5), match='Learn'>\n",
      "0\n",
      "5\n",
      "Learn\n",
      "^Learn\n",
      "Learn Python\n"
     ]
    }
   ],
   "source": [
    "import re\n",
    "\n",
    "match = re.search('^Learn', 'Learn Python')\n",
    "print(match)\n",
    "if match:\n",
    "    print(match.start())\n",
    "    print(match.end())\n",
    "    print(match.group())\n",
    "    print(match.re.pattern)\n",
    "    print(match.string)"
   ]
  },
  {
   "cell_type": "code",
   "execution_count": 132,
   "metadata": {
    "ExecuteTime": {
     "end_time": "2022-10-05T07:23:34.453848Z",
     "start_time": "2022-10-05T07:23:34.446764Z"
    }
   },
   "outputs": [
    {
     "name": "stdout",
     "output_type": "stream",
     "text": [
      "None\n"
     ]
    }
   ],
   "source": [
    "import re\n",
    "\n",
    "match = re.search('^Learn', '1) Learn Python')\n",
    "print(match)\n",
    "if match:\n",
    "    print(match.start())\n",
    "    print(match.end())\n",
    "    print(match.group())"
   ]
  },
  {
   "cell_type": "code",
   "execution_count": 134,
   "metadata": {
    "ExecuteTime": {
     "end_time": "2022-10-05T07:23:57.966937Z",
     "start_time": "2022-10-05T07:23:57.958839Z"
    }
   },
   "outputs": [
    {
     "name": "stdout",
     "output_type": "stream",
     "text": [
      "<re.Match object; span=(0, 5), match='Learn'>\n",
      "0\n",
      "5\n",
      "Learn\n"
     ]
    }
   ],
   "source": [
    "import re\n",
    "\n",
    "match = re.search('Learn', 'Learn Python Learn')\n",
    "print(match)\n",
    "if match:\n",
    "    print(match.start())\n",
    "    print(match.end())\n",
    "    print(match.group())"
   ]
  },
  {
   "cell_type": "markdown",
   "metadata": {},
   "source": [
    "### re.findall()"
   ]
  },
  {
   "cell_type": "code",
   "execution_count": 88,
   "metadata": {
    "ExecuteTime": {
     "end_time": "2022-10-05T06:20:52.163076Z",
     "start_time": "2022-10-05T06:20:52.153236Z"
    }
   },
   "outputs": [
    {
     "name": "stdout",
     "output_type": "stream",
     "text": [
      "['(', '&', '@', '#', '$', ')']\n"
     ]
    }
   ],
   "source": [
    "import re\n",
    "\n",
    "print(re.findall('\\W', 'oiv94coknc(&75@#$)'))"
   ]
  },
  {
   "cell_type": "code",
   "execution_count": 91,
   "metadata": {
    "ExecuteTime": {
     "end_time": "2022-10-05T06:23:48.185766Z",
     "start_time": "2022-10-05T06:23:48.179659Z"
    }
   },
   "outputs": [
    {
     "name": "stdout",
     "output_type": "stream",
     "text": [
      "[]\n"
     ]
    }
   ],
   "source": [
    "print(re.findall('\\W', 'oiv'))"
   ]
  },
  {
   "cell_type": "markdown",
   "metadata": {},
   "source": [
    "### re.finditer()"
   ]
  },
  {
   "cell_type": "code",
   "execution_count": 99,
   "metadata": {
    "ExecuteTime": {
     "end_time": "2022-10-05T06:29:14.108819Z",
     "start_time": "2022-10-05T06:29:14.095725Z"
    }
   },
   "outputs": [
    {
     "name": "stdout",
     "output_type": "stream",
     "text": [
      "<callable_iterator object at 0x7f9c3a4912e0>\n",
      "\n",
      "Start: 10, End: 11, String: (\n",
      "Start: 11, End: 12, String: &\n",
      "Start: 14, End: 15, String: @\n",
      "Start: 15, End: 16, String: #\n",
      "Start: 16, End: 17, String: $\n",
      "Start: 17, End: 18, String: )\n"
     ]
    }
   ],
   "source": [
    "import re\n",
    "\n",
    "print(re.finditer('\\W', 'oiv94coknc(&75@#$)'))\n",
    "print()\n",
    "for match in re.finditer('\\W', 'oiv94coknc(&75@#$)'):\n",
    "    print(f'Start: {match.start()}, End: {match.end()}, String: {match.group()}')"
   ]
  },
  {
   "cell_type": "code",
   "execution_count": 101,
   "metadata": {
    "ExecuteTime": {
     "end_time": "2022-10-05T06:30:20.707705Z",
     "start_time": "2022-10-05T06:30:20.697683Z"
    }
   },
   "outputs": [
    {
     "name": "stdout",
     "output_type": "stream",
     "text": [
      "<callable_iterator object at 0x7f9c3a491370>\n",
      "\n"
     ]
    }
   ],
   "source": [
    "import re\n",
    "\n",
    "print(re.finditer('\\W', 'oiv94coknc(&75@#$)'))\n",
    "print()\n",
    "\n",
    "for match in re.finditer('\\DW', 'oiv94coknc'):\n",
    "    print(f'Start: {match.start()}, End: {match.end()}, String: {match.group()}')"
   ]
  },
  {
   "cell_type": "markdown",
   "metadata": {},
   "source": [
    "### re.sub()"
   ]
  },
  {
   "cell_type": "code",
   "execution_count": 102,
   "metadata": {
    "ExecuteTime": {
     "end_time": "2022-10-05T06:33:18.686908Z",
     "start_time": "2022-10-05T06:33:18.680276Z"
    }
   },
   "outputs": [
    {
     "name": "stdout",
     "output_type": "stream",
     "text": [
      "oiv94coknc##75####\n"
     ]
    }
   ],
   "source": [
    "import re\n",
    "\n",
    "print(re.sub('\\W', '#','oiv94coknc(&75@#$)'))"
   ]
  },
  {
   "cell_type": "markdown",
   "metadata": {},
   "source": [
    "### re.subn()"
   ]
  },
  {
   "cell_type": "code",
   "execution_count": 103,
   "metadata": {
    "ExecuteTime": {
     "end_time": "2022-10-05T06:34:59.718596Z",
     "start_time": "2022-10-05T06:34:59.707711Z"
    }
   },
   "outputs": [
    {
     "name": "stdout",
     "output_type": "stream",
     "text": [
      "('oiv94coknc##75####', 6)\n"
     ]
    }
   ],
   "source": [
    "import re\n",
    "\n",
    "print(re.subn('\\W', '#','oiv94coknc(&75@#$)'))"
   ]
  },
  {
   "cell_type": "markdown",
   "metadata": {},
   "source": [
    "### re.split()"
   ]
  },
  {
   "cell_type": "code",
   "execution_count": 105,
   "metadata": {
    "ExecuteTime": {
     "end_time": "2022-10-05T06:39:07.248276Z",
     "start_time": "2022-10-05T06:39:07.241929Z"
    }
   },
   "outputs": [
    {
     "name": "stdout",
     "output_type": "stream",
     "text": [
      "['oiv94co', 'kn', 'c(&75@#$)']\n"
     ]
    }
   ],
   "source": [
    "import re\n",
    "\n",
    "print(re.split('-','oiv94co-kn-c(&75@#$)'))"
   ]
  },
  {
   "cell_type": "code",
   "execution_count": 108,
   "metadata": {
    "ExecuteTime": {
     "end_time": "2022-10-05T06:39:31.017518Z",
     "start_time": "2022-10-05T06:39:31.000851Z"
    }
   },
   "outputs": [
    {
     "name": "stdout",
     "output_type": "stream",
     "text": [
      "['', '', '', '', '', '', '', '', '', '', '', '', '', '', '']\n"
     ]
    }
   ],
   "source": [
    "print(re.split('.','www.google.com'))"
   ]
  },
  {
   "cell_type": "code",
   "execution_count": 110,
   "metadata": {
    "ExecuteTime": {
     "end_time": "2022-10-05T06:40:21.420973Z",
     "start_time": "2022-10-05T06:40:21.413701Z"
    }
   },
   "outputs": [
    {
     "name": "stdout",
     "output_type": "stream",
     "text": [
      "['www', 'google', 'com']\n"
     ]
    }
   ],
   "source": [
    "print(re.split('[.]','www.google.com'))"
   ]
  },
  {
   "cell_type": "code",
   "execution_count": 112,
   "metadata": {
    "ExecuteTime": {
     "end_time": "2022-10-05T06:41:18.518114Z",
     "start_time": "2022-10-05T06:41:18.511533Z"
    }
   },
   "outputs": [
    {
     "name": "stdout",
     "output_type": "stream",
     "text": [
      "['www', 'google', 'com']\n"
     ]
    }
   ],
   "source": [
    "print(re.split('\\.','www.google.com'))"
   ]
  },
  {
   "cell_type": "code",
   "execution_count": 114,
   "metadata": {
    "ExecuteTime": {
     "end_time": "2022-10-05T06:41:29.648449Z",
     "start_time": "2022-10-05T06:41:29.638597Z"
    }
   },
   "outputs": [
    {
     "name": "stdout",
     "output_type": "stream",
     "text": [
      "['', 'w', 'w', 'w', '.', 'g', 'o', 'o', 'g', 'l', 'e', '.', 'c', 'o', 'm', '']\n"
     ]
    }
   ],
   "source": [
    "print(re.split('','www.google.com'))"
   ]
  },
  {
   "cell_type": "code",
   "execution_count": 115,
   "metadata": {
    "ExecuteTime": {
     "end_time": "2022-10-05T06:41:35.326578Z",
     "start_time": "2022-10-05T06:41:35.319433Z"
    }
   },
   "outputs": [
    {
     "name": "stdout",
     "output_type": "stream",
     "text": [
      "['www.google.com']\n"
     ]
    }
   ],
   "source": [
    "print(re.split(' ','www.google.com')) "
   ]
  },
  {
   "cell_type": "markdown",
   "metadata": {},
   "source": [
    "## Applications"
   ]
  },
  {
   "cell_type": "markdown",
   "metadata": {},
   "source": [
    "### Mobile Number Identification\n",
    "```\n",
    "10 - Chars - All should be numbers \n",
    "           - Should start with 6, 7, 8 or 9\n",
    "11 - Chars - 1st Digit should start with 0\n",
    "12 - Chars - 1st Couple of Digits should start with 91\n",
    "12 - Chars - 1st Three Digits should start with +91\n",
    "```"
   ]
  },
  {
   "cell_type": "code",
   "execution_count": 262,
   "metadata": {
    "ExecuteTime": {
     "end_time": "2022-10-05T10:48:40.085326Z",
     "start_time": "2022-10-05T10:48:32.754593Z"
    },
    "deletable": false,
    "editable": false,
    "run_control": {
     "frozen": true
    }
   },
   "outputs": [
    {
     "name": "stdout",
     "output_type": "stream",
     "text": [
      "Enter a Mobile No: 6666666666\n",
      "It\"s a 10 digit ph number\n",
      "<re.Match object; span=(0, 10), match='6666666666'>\n"
     ]
    }
   ],
   "source": [
    "mobileNo = input('Enter a Mobile No: ')  # 6666666666\n",
    "count = len(mobileNo)\n",
    "\n",
    "if count == 10:\n",
    "    print(f'It\"s a {count} digit ph number')\n",
    "    print(re.match('[6-9][0-9]{9}', mobileNo))"
   ]
  },
  {
   "cell_type": "code",
   "execution_count": 263,
   "metadata": {
    "ExecuteTime": {
     "end_time": "2022-10-05T10:49:15.830295Z",
     "start_time": "2022-10-05T10:49:14.545772Z"
    },
    "deletable": false,
    "editable": false,
    "run_control": {
     "frozen": true
    }
   },
   "outputs": [
    {
     "name": "stdout",
     "output_type": "stream",
     "text": [
      "Enter a Mobile No: 06666666666\n",
      "It\"s a 11 digit ph number\n",
      "<re.Match object; span=(0, 11), match='06666666666'>\n"
     ]
    }
   ],
   "source": [
    "mobileNo = input('Enter a Mobile No: ')  # 06666666666\n",
    "count = len(mobileNo)\n",
    "\n",
    "if count == 10:\n",
    "    print(f'It\"s a {count} digit ph number')\n",
    "    print(re.match('[6-9][0-9]{9}', mobileNo))\n",
    "elif count == 11:\n",
    "    print(f'It\"s a {count} digit ph number')\n",
    "    print(re.match('[0][0-9]{10}', mobileNo))"
   ]
  },
  {
   "cell_type": "code",
   "execution_count": 264,
   "metadata": {
    "ExecuteTime": {
     "end_time": "2022-10-05T10:50:05.241554Z",
     "start_time": "2022-10-05T10:50:03.812075Z"
    },
    "deletable": false,
    "editable": false,
    "run_control": {
     "frozen": true
    }
   },
   "outputs": [
    {
     "name": "stdout",
     "output_type": "stream",
     "text": [
      "Enter a Mobile No: 916666666666\n",
      "It\"s a 12 digit ph number\n",
      "<re.Match object; span=(0, 12), match='916666666666'>\n"
     ]
    }
   ],
   "source": [
    "mobileNo = input('Enter a Mobile No: ')  # 916666666666\n",
    "count = len(mobileNo)\n",
    "\n",
    "if count == 10:\n",
    "    print(f'It\"s a {count} digit ph number')\n",
    "    print(re.match('[6-9][0-9]{9}', mobileNo))\n",
    "elif count == 11:\n",
    "    print(f'It\"s a {count} digit ph number')\n",
    "    print(re.match('[0][0-9]{10}', mobileNo))\n",
    "elif count == 12:\n",
    "    print(f'It\"s a {count} digit ph number')\n",
    "    print(re.match('91[0-9]{10}', mobileNo))"
   ]
  },
  {
   "cell_type": "code",
   "execution_count": 266,
   "metadata": {
    "ExecuteTime": {
     "end_time": "2022-10-05T10:51:38.316655Z",
     "start_time": "2022-10-05T10:51:36.539572Z"
    },
    "deletable": false,
    "editable": false,
    "run_control": {
     "frozen": true
    }
   },
   "outputs": [
    {
     "name": "stdout",
     "output_type": "stream",
     "text": [
      "Enter a Mobile No: +916666666666\n",
      "It\"s a 13 digit ph number\n",
      "<re.Match object; span=(0, 13), match='+916666666666'>\n"
     ]
    }
   ],
   "source": [
    "mobileNo = input('Enter a Mobile No: ')  # +916666666666\n",
    "count = len(mobileNo)\n",
    "\n",
    "if count == 10:\n",
    "    print(f'It\"s a {count} digit ph number')\n",
    "    print(re.match('[6-9][0-9]{9}', mobileNo))\n",
    "elif count == 11:\n",
    "    print(f'It\"s a {count} digit ph number')\n",
    "    print(re.match('[0][0-9]{10}', mobileNo))\n",
    "elif count == 12:\n",
    "    print(f'It\"s a {count} digit ph number')\n",
    "    print(re.match('91[0-9]{10}', mobileNo))\n",
    "elif count == 13:\n",
    "    print(f'It\"s a {count} digit ph number')\n",
    "    print(re.match('[+]91[0-9]{10}', mobileNo))"
   ]
  },
  {
   "cell_type": "markdown",
   "metadata": {},
   "source": [
    "### Send SMS to all Mobile Numbers"
   ]
  },
  {
   "cell_type": "code",
   "execution_count": 140,
   "metadata": {
    "ExecuteTime": {
     "end_time": "2022-10-05T07:39:01.577939Z",
     "start_time": "2022-10-05T07:39:01.570444Z"
    }
   },
   "outputs": [
    {
     "name": "stdout",
     "output_type": "stream",
     "text": [
      "6234789422: Please come tomorrow Morning at 9AM\n",
      "6234789432: Please come tomorrow Morning at 9AM\n",
      "7234789422: Please come tomorrow Morning at 9AM\n",
      "7234789432: Please come tomorrow Morning at 9AM\n",
      "8234789422: Please come tomorrow Morning at 9AM\n",
      "8234789432: Please come tomorrow Morning at 9AM\n",
      "9234789422: Please come tomorrow Morning at 9AM\n",
      "9234789432: Please come tomorrow Morning at 9AM\n"
     ]
    }
   ],
   "source": [
    "import re\n",
    "\n",
    "Data = \"\"\"\n",
    "       This is my number 5234789432 & This is my number 6234789422\\n\n",
    "       This is my number 6234789432 & This is my number 7234789422\\n\n",
    "       This is my number 7234789432 & This is my number 8234789422\\n\n",
    "       This is my number 8234789432 & This is my number 9234789422\\n\n",
    "       This is my number 9234789432 & This is my number 5234789422\n",
    "       \"\"\"\n",
    "for no in re.findall('[6-9]\\d{9}', Data):\n",
    "    print(f'{no}: Please come tomorrow Morning at 9AM')"
   ]
  },
  {
   "cell_type": "markdown",
   "metadata": {},
   "source": [
    "### Web Scrapping - Intro Using RegEx"
   ]
  },
  {
   "cell_type": "code",
   "execution_count": 149,
   "metadata": {
    "ExecuteTime": {
     "end_time": "2022-10-05T07:53:30.430009Z",
     "start_time": "2022-10-05T07:53:24.669007Z"
    }
   },
   "outputs": [
    {
     "name": "stdout",
     "output_type": "stream",
     "text": [
      "Searching in http://google.com...\n",
      "<title>Google</title>\n",
      "\n",
      "Searching in http://rediff.com...\n",
      "<title>Rediff.com: News | Rediffmail | Stock Quotes | Shopping</title>\n",
      "\n",
      "Searching in http://google.com...\n",
      "<title>Google</title>\n",
      "\n",
      "Searching in http://rediff.com...\n",
      "<title>Rediff.com: News | Rediffmail | Stock Quotes | Shopping</title>\n",
      "\n"
     ]
    }
   ],
   "source": [
    "import re\n",
    "import urllib\n",
    "\n",
    "sites = [\"http://google.com\", \"http://rediff.com\"]\n",
    "\n",
    "# Using Search\n",
    "for site in sites:\n",
    "    print(f'Searching in {site}...')\n",
    "    url  = urllib.request.urlopen(site)\n",
    "    text = url.read()\n",
    "    title = re.search('<title>.*</title>', str(text), re.IGNORECASE)\n",
    "    print(title.group())\n",
    "    print()\n",
    "\n",
    "# Using Findall\n",
    "for site in sites:\n",
    "    print(f'Searching in {site}...')\n",
    "    url  = urllib.request.urlopen(site)\n",
    "    text = url.read()\n",
    "    title = re.findall('<title>.*</title>', str(text), re.IGNORECASE)\n",
    "    for match in title:\n",
    "        print(match)\n",
    "    print()"
   ]
  },
  {
   "cell_type": "markdown",
   "metadata": {},
   "source": [
    "### Web Scrapping - redbus.in using RegEx"
   ]
  },
  {
   "cell_type": "code",
   "execution_count": 193,
   "metadata": {
    "ExecuteTime": {
     "end_time": "2022-10-05T09:44:39.300620Z",
     "start_time": "2022-10-05T09:44:38.903159Z"
    },
    "scrolled": false
   },
   "outputs": [
    {
     "data": {
      "text/plain": [
       "{'+91-22-26531122',\n",
       " '+91-22-3344',\n",
       " '+91-22-3344 6699',\n",
       " '+91-22-33667777',\n",
       " '011 33446699',\n",
       " '011 33667777',\n",
       " '0213-1830719696',\n",
       " '022 33446699',\n",
       " '022 33667777',\n",
       " '033 33446699',\n",
       " '033 33667777',\n",
       " '044 33446699',\n",
       " '044 33667777',\n",
       " '1800 102 0123',\n",
       " '1800 1020 1239',\n",
       " '1800 103 8181',\n",
       " '1800 200 3344 ',\n",
       " '1860 120 3399',\n",
       " '1860 120 6699',\n",
       " '1860 120 6699 ',\n",
       " '1860 120 7777',\n",
       " '1860 120 7777 ',\n",
       " '1860 120 8181',\n",
       " '2484-647541654',\n",
       " '3118-1746049100',\n",
       " '3261-736142551',\n",
       " '4308-2094700893',\n",
       " '4736-540114569',\n",
       " '5600-8888888888',\n",
       " '5841-2027452287',\n",
       " '6145-2145502912',\n",
       " '7629-1091648180',\n",
       " '7932-1056488937',\n",
       " '9449-8888888888',\n",
       " '9907-567969004',\n",
       " '9955-1358593337'}"
      ]
     },
     "execution_count": 193,
     "metadata": {},
     "output_type": "execute_result"
    }
   ],
   "source": [
    "import re\n",
    "import urllib\n",
    "#from BeautifulSoup import BeautifulSoup\n",
    "\n",
    "url  = urllib.request.urlopen('https://www.icicibank.com/customer-care')\n",
    "url_text = url.read()\n",
    "all_ph_num = []\n",
    "for number in re.finditer('[+0-9]{3,4}[- ][0-9]{2,3}[-0-9 ]{4,}',str(url_text)):\n",
    "    all_ph_num.append(number.group())\n",
    "set(all_ph_num)"
   ]
  },
  {
   "cell_type": "markdown",
   "metadata": {},
   "source": [
    "### Validate Main-Id\n",
    "```\n",
    "It should start with Alphabatical Charecter\n",
    "It can support '.', '_'\n",
    "It should have '@' and followed by 'gmail | yahoo | hotmail'\n",
    "It shoyuld end with '.com'\n",
    "```"
   ]
  },
  {
   "cell_type": "code",
   "execution_count": 235,
   "metadata": {
    "ExecuteTime": {
     "end_time": "2022-10-05T10:21:37.014969Z",
     "start_time": "2022-10-05T10:21:22.812957Z"
    },
    "deletable": false,
    "editable": false,
    "run_control": {
     "frozen": true
    }
   },
   "outputs": [
    {
     "name": "stdout",
     "output_type": "stream",
     "text": [
      "Enter a Mail-id: v.palanivel@gmail.com\n",
      "<re.Match object; span=(0, 21), match='v.palanivel@gmail.com'>\n"
     ]
    }
   ],
   "source": [
    "import re\n",
    "\n",
    "mailid = input('Enter a Mail-id: ')  # v.palanivel@gmail.com\n",
    "print(re.fullmatch('[a-zA-Z0-9]+[._]?[a-zA-Z0-9]+[._]?[a-zA-Z0-9]+@(gmail|yahoo|hotmail)[.]com', mailid))"
   ]
  },
  {
   "cell_type": "code",
   "execution_count": 237,
   "metadata": {
    "ExecuteTime": {
     "end_time": "2022-10-05T10:22:31.919907Z",
     "start_time": "2022-10-05T10:22:30.101488Z"
    },
    "deletable": false,
    "editable": false,
    "run_control": {
     "frozen": true
    }
   },
   "outputs": [
    {
     "name": "stdout",
     "output_type": "stream",
     "text": [
      "Enter a Mail-id: vpalanivel@gmail.com\n",
      "<re.Match object; span=(0, 20), match='vpalanivel@gmail.com'>\n"
     ]
    }
   ],
   "source": [
    "mailid = input('Enter a Mail-id: ')  # vpalanivel@gmail.com\n",
    "print(re.fullmatch('[a-zA-Z0-9]+[._]?[a-zA-Z0-9]+[._]?[a-zA-Z0-9]+@(gmail|yahoo|hotmail)[.]com', mailid))"
   ]
  },
  {
   "cell_type": "code",
   "execution_count": 238,
   "metadata": {
    "ExecuteTime": {
     "end_time": "2022-10-05T10:22:51.844169Z",
     "start_time": "2022-10-05T10:22:50.109768Z"
    },
    "deletable": false,
    "editable": false,
    "run_control": {
     "frozen": true
    }
   },
   "outputs": [
    {
     "name": "stdout",
     "output_type": "stream",
     "text": [
      "Enter a Mail-id: v_palanivel@gmail.com\n",
      "<re.Match object; span=(0, 21), match='v_palanivel@gmail.com'>\n"
     ]
    }
   ],
   "source": [
    "mailid = input('Enter a Mail-id: ')  # v_palanivel@gmail.com\n",
    "print(re.fullmatch('[a-zA-Z0-9]+[._]?[a-zA-Z0-9]+[._]?[a-zA-Z0-9]+@(gmail|yahoo|hotmail)[.]com', mailid))"
   ]
  },
  {
   "cell_type": "code",
   "execution_count": 240,
   "metadata": {
    "ExecuteTime": {
     "end_time": "2022-10-05T10:23:35.394690Z",
     "start_time": "2022-10-05T10:23:33.403297Z"
    },
    "deletable": false,
    "editable": false,
    "run_control": {
     "frozen": true
    }
   },
   "outputs": [
    {
     "name": "stdout",
     "output_type": "stream",
     "text": [
      "Enter a Mail-id: v_pala_nivel@gmail.com\n",
      "<re.Match object; span=(0, 22), match='v_pala_nivel@gmail.com'>\n"
     ]
    }
   ],
   "source": [
    "mailid = input('Enter a Mail-id: ')  # v_pala_nivel@gmail.com\n",
    "print(re.fullmatch('[a-zA-Z0-9]+[._]?[a-zA-Z0-9]+[._]?[a-zA-Z0-9]+@(gmail|yahoo|hotmail)[.]com', mailid))"
   ]
  },
  {
   "cell_type": "code",
   "execution_count": 241,
   "metadata": {
    "ExecuteTime": {
     "end_time": "2022-10-05T10:23:55.241864Z",
     "start_time": "2022-10-05T10:23:53.390792Z"
    },
    "deletable": false,
    "editable": false,
    "run_control": {
     "frozen": true
    }
   },
   "outputs": [
    {
     "name": "stdout",
     "output_type": "stream",
     "text": [
      "Enter a Mail-id: v_.palanivel@gmail.com\n",
      "None\n"
     ]
    }
   ],
   "source": [
    "mailid = input('Enter a Mail-id: ')  # v_.palanivel@gmail.com\n",
    "print(re.fullmatch('[a-zA-Z0-9]+[._]?[a-zA-Z0-9]+[._]?[a-zA-Z0-9]+@(gmail|yahoo|hotmail)[.]com', mailid))"
   ]
  },
  {
   "cell_type": "code",
   "execution_count": 242,
   "metadata": {
    "ExecuteTime": {
     "end_time": "2022-10-05T10:25:05.380236Z",
     "start_time": "2022-10-05T10:25:02.738968Z"
    },
    "deletable": false,
    "editable": false,
    "run_control": {
     "frozen": true
    }
   },
   "outputs": [
    {
     "name": "stdout",
     "output_type": "stream",
     "text": [
      "Enter a Mail-id: v_palanivel@tv9.com\n",
      "None\n"
     ]
    }
   ],
   "source": [
    "mailid = input('Enter a Mail-id: ')  # v_palanivel@tv9.com\n",
    "print(re.fullmatch('[a-zA-Z0-9]+[._]?[a-zA-Z0-9]+@(gmail|yahoo|hotmail)[.]com', mailid))"
   ]
  },
  {
   "cell_type": "code",
   "execution_count": 243,
   "metadata": {
    "ExecuteTime": {
     "end_time": "2022-10-05T10:25:28.656602Z",
     "start_time": "2022-10-05T10:25:27.388481Z"
    },
    "deletable": false,
    "editable": false,
    "run_control": {
     "frozen": true
    }
   },
   "outputs": [
    {
     "name": "stdout",
     "output_type": "stream",
     "text": [
      "Enter a Mail-id: v_pala_nivel@gmail.com\n",
      "None\n"
     ]
    }
   ],
   "source": [
    "mailid = input('Enter a Mail-id: ')  # v_pala_nivel@gmail.com\n",
    "print(re.fullmatch('[a-zA-Z0-9]+[._]?[a-zA-Z0-9]+@(gmail|yahoo|hotmail)[.]com', mailid))"
   ]
  },
  {
   "cell_type": "markdown",
   "metadata": {},
   "source": [
    "### Validate Vehical Registration Number"
   ]
  },
  {
   "cell_type": "code",
   "execution_count": 252,
   "metadata": {
    "ExecuteTime": {
     "end_time": "2022-10-05T10:33:33.580468Z",
     "start_time": "2022-10-05T10:33:32.280143Z"
    },
    "deletable": false,
    "editable": false,
    "run_control": {
     "frozen": true
    }
   },
   "outputs": [
    {
     "name": "stdout",
     "output_type": "stream",
     "text": [
      "Enter a Vehical No: TN07CC3907\n",
      "<re.Match object; span=(0, 10), match='TN07CC3907'>\n"
     ]
    }
   ],
   "source": [
    "import re\n",
    "\n",
    "regno = input('Enter a Vehical No: ')  # TN07CC3907\n",
    "print(re.fullmatch('TN[0-6]?[0-9][A-Z]{1,2}\\d{1,4}', regno))"
   ]
  },
  {
   "cell_type": "code",
   "execution_count": 251,
   "metadata": {
    "ExecuteTime": {
     "end_time": "2022-10-05T10:33:18.036613Z",
     "start_time": "2022-10-05T10:33:16.641030Z"
    },
    "deletable": false,
    "editable": false,
    "run_control": {
     "frozen": true
    }
   },
   "outputs": [
    {
     "name": "stdout",
     "output_type": "stream",
     "text": [
      "Enter a Vehical No: TN7C7\n",
      "<re.Match object; span=(0, 5), match='TN7C7'>\n"
     ]
    }
   ],
   "source": [
    "regno = input('Enter a Vehical No: ')  # TN7C7\n",
    "print(re.fullmatch('TN[0-6]?[0-9][A-Z]{1,2}\\d{1,4}', regno))"
   ]
  },
  {
   "cell_type": "code",
   "execution_count": 254,
   "metadata": {
    "ExecuteTime": {
     "end_time": "2022-10-05T10:35:49.962869Z",
     "start_time": "2022-10-05T10:35:48.385599Z"
    },
    "deletable": false,
    "editable": false,
    "run_control": {
     "frozen": true
    }
   },
   "outputs": [
    {
     "name": "stdout",
     "output_type": "stream",
     "text": [
      "Enter a Vehical No: TN777C7\n",
      "None\n"
     ]
    }
   ],
   "source": [
    "regno = input('Enter a Vehical No: ')  # TN777C7\n",
    "print(re.fullmatch('TN[0-6]?[0-9][A-Z]{1,2}\\d{1,4}', regno))"
   ]
  },
  {
   "cell_type": "code",
   "execution_count": 253,
   "metadata": {
    "ExecuteTime": {
     "end_time": "2022-10-05T10:33:49.640287Z",
     "start_time": "2022-10-05T10:33:48.283855Z"
    },
    "deletable": false,
    "editable": false,
    "run_control": {
     "frozen": true
    }
   },
   "outputs": [
    {
     "name": "stdout",
     "output_type": "stream",
     "text": [
      "Enter a Vehical No: AP7C7\n",
      "None\n"
     ]
    }
   ],
   "source": [
    "regno = input('Enter a Vehical No: ')  # AP7C7\n",
    "print(re.fullmatch('TN[0-6]?[0-9][A-Z]{1,2}\\d{1,4}', regno))"
   ]
  },
  {
   "cell_type": "markdown",
   "metadata": {},
   "source": [
    "\n",
    "# OOPS Concepts"
   ]
  },
  {
   "cell_type": "markdown",
   "metadata": {},
   "source": [
    "## Basics of OOPS"
   ]
  },
  {
   "cell_type": "markdown",
   "metadata": {},
   "source": [
    "**class ClassName():**<br>\n",
    "    &emsp;&emsp; **'''Documentation String'''**<br>\n",
    "    &emsp;&emsp; **Variables** : Instance, Static, Local<br>\n",
    "    &emsp;&emsp; **Methods**   : Instance, Static, Class<br>"
   ]
  },
  {
   "cell_type": "markdown",
   "metadata": {},
   "source": [
    "**Constructor**<br>\n",
    "`It is a Special Method : __init__`<br>\n",
    "`It will be executed automatically when initializing class Object`<br>\n",
    "`It can only be executed only once when initializing class object`<br>\n",
    "`Used to Declare and Initialize instance Variables`<br>\n",
    "`One or more constructor not possible, if so, executes latest(Constructor Overloading not possible)`<br>"
   ]
  },
  {
   "cell_type": "markdown",
   "metadata": {},
   "source": [
    "**self:**<br>\n",
    "`Python provided implicit variable always pointing to class object`<br>\n",
    "`By Using self, We can access Instance Variables & Methods`<br>\n",
    "`Self can also be replaced with any variable`"
   ]
  },
  {
   "cell_type": "markdown",
   "metadata": {},
   "source": [
    "**variable:**<br>\n",
    "`Instance Variable : Object Level Variable`<br>\n",
    "`Static Variable   : Class Level Variable`<br>\n",
    "`Local Variable    : Method Level Variable`<br>"
   ]
  },
  {
   "cell_type": "markdown",
   "metadata": {},
   "source": [
    "### self pointer"
   ]
  },
  {
   "cell_type": "code",
   "execution_count": 5,
   "metadata": {
    "ExecuteTime": {
     "end_time": "2020-10-03T09:32:51.483419Z",
     "start_time": "2020-10-03T09:32:51.465418Z"
    }
   },
   "outputs": [],
   "source": [
    "# Self Example\n",
    "\n",
    "class Student():\n",
    "    def __init__(self, x, y):\n",
    "        self.x = x\n",
    "        self.y = y\n",
    "    def show(self):\n",
    "        print('X : {}, Y: {}'.format(self.x, self.y))"
   ]
  },
  {
   "cell_type": "code",
   "execution_count": 6,
   "metadata": {
    "ExecuteTime": {
     "end_time": "2020-10-03T09:32:56.179688Z",
     "start_time": "2020-10-03T09:32:56.158687Z"
    }
   },
   "outputs": [
    {
     "name": "stdout",
     "output_type": "stream",
     "text": [
      "X : 1, Y: 2\n"
     ]
    }
   ],
   "source": [
    "s = Student(1, 2)\n",
    "s.show()"
   ]
  },
  {
   "cell_type": "code",
   "execution_count": 7,
   "metadata": {
    "ExecuteTime": {
     "end_time": "2020-10-03T09:33:41.802297Z",
     "start_time": "2020-10-03T09:33:41.791297Z"
    }
   },
   "outputs": [],
   "source": [
    "# Self can also be replaced with any variable\n",
    "\n",
    "class Student():\n",
    "    def __init__(var, x, y):\n",
    "        var.x = x\n",
    "        var.y = y\n",
    "    def show(var):\n",
    "        print('X : {}, Y: {}'.format(var.x, var.y))"
   ]
  },
  {
   "cell_type": "code",
   "execution_count": 8,
   "metadata": {
    "ExecuteTime": {
     "end_time": "2020-10-03T09:33:46.992594Z",
     "start_time": "2020-10-03T09:33:46.983594Z"
    }
   },
   "outputs": [
    {
     "name": "stdout",
     "output_type": "stream",
     "text": [
      "X : 1, Y: 2\n"
     ]
    }
   ],
   "source": [
    "s = Student(1, 2)\n",
    "s.show()"
   ]
  },
  {
   "cell_type": "code",
   "execution_count": 14,
   "metadata": {
    "ExecuteTime": {
     "end_time": "2020-10-03T09:41:06.049707Z",
     "start_time": "2020-10-03T09:41:06.029706Z"
    }
   },
   "outputs": [],
   "source": [
    "# Variable self is having same ID(which is Class)\n",
    "\n",
    "class Student():\n",
    "    def __init__(var, x, y):\n",
    "        var.x = x\n",
    "        var.y = y\n",
    "        print(id(var))\n",
    "    def show(var):\n",
    "        print('X : {}, Y: {}'.format(var.x, var.y))\n",
    "        print(id(var))"
   ]
  },
  {
   "cell_type": "code",
   "execution_count": 15,
   "metadata": {
    "ExecuteTime": {
     "end_time": "2020-10-03T09:41:06.581737Z",
     "start_time": "2020-10-03T09:41:06.548736Z"
    }
   },
   "outputs": [
    {
     "name": "stdout",
     "output_type": "stream",
     "text": [
      "87705672\n",
      "X : 1, Y: 2\n",
      "87705672\n"
     ]
    },
    {
     "data": {
      "text/plain": [
       "87705672"
      ]
     },
     "execution_count": 15,
     "metadata": {},
     "output_type": "execute_result"
    }
   ],
   "source": [
    "s = Student(1, 2)\n",
    "s.show()\n",
    "id(s)"
   ]
  },
  {
   "cell_type": "code",
   "execution_count": 18,
   "metadata": {
    "ExecuteTime": {
     "end_time": "2020-10-03T09:49:29.564440Z",
     "start_time": "2020-10-03T09:49:29.555439Z"
    }
   },
   "outputs": [
    {
     "name": "stdout",
     "output_type": "stream",
     "text": [
      "87705672\n",
      "87705672\n"
     ]
    }
   ],
   "source": [
    "s.__init__(10,20)\n",
    "s.__init__(20,30)"
   ]
  },
  {
   "cell_type": "code",
   "execution_count": 19,
   "metadata": {
    "ExecuteTime": {
     "end_time": "2020-10-03T14:20:47.010389Z",
     "start_time": "2020-10-03T14:20:46.985387Z"
    }
   },
   "outputs": [
    {
     "name": "stdout",
     "output_type": "stream",
     "text": [
      "87691720\n",
      "87692232\n",
      "87692424\n",
      "X : 1, Y: 2\n",
      "87691720\n",
      "X : 10, Y: 20\n",
      "87692232\n",
      "X : 100, Y: 200\n",
      "87692424\n"
     ]
    }
   ],
   "source": [
    "student = [Student(1, 2), Student(10, 20), Student(100, 200)]\n",
    "for i in student:\n",
    "    i.show()"
   ]
  },
  {
   "cell_type": "markdown",
   "metadata": {},
   "source": [
    "### Instance or Object level variable"
   ]
  },
  {
   "cell_type": "markdown",
   "metadata": {},
   "source": [
    "`- Defining Instance or Object level variable`<br>\n",
    "`1) Inside Class Methods - Using self variable`<br>\n",
    "`2) Outside Class - Using Object reference variable`<br><br>\n",
    "\n",
    "`- How to Access these variables`<br>\n",
    "`1) Inside Class  - Using self variable`<br>\n",
    "`2) Outside Class - Using Object reference variable`<br>"
   ]
  },
  {
   "cell_type": "code",
   "execution_count": 39,
   "metadata": {
    "ExecuteTime": {
     "end_time": "2020-10-03T14:39:17.867926Z",
     "start_time": "2020-10-03T14:39:17.845925Z"
    }
   },
   "outputs": [],
   "source": [
    "class Student():\n",
    "    def __init__(var, x, y):\n",
    "        var.x = x                    # Inside Class Methods - Using self variable\n",
    "        var.y = y\n",
    "    def show(var):\n",
    "        print('X : {}, Y: {}'.format(var.x, var.y))  # Inside Class  - Using self variable"
   ]
  },
  {
   "cell_type": "code",
   "execution_count": 52,
   "metadata": {
    "ExecuteTime": {
     "end_time": "2020-10-03T14:43:00.928684Z",
     "start_time": "2020-10-03T14:43:00.904683Z"
    }
   },
   "outputs": [
    {
     "name": "stdout",
     "output_type": "stream",
     "text": [
      "{'x': 1, 'y': 2}\n",
      "10\n",
      "\n",
      "{'x': 1, 'y': 2, 'b': 100}\n"
     ]
    }
   ],
   "source": [
    "s = Student(1, 2)\n",
    "print(s.__dict__)\n",
    "print()\n",
    "\n",
    "s.b = 100                            # Outside Class - Using Object reference variable\n",
    "print(s.__dict__)"
   ]
  },
  {
   "cell_type": "markdown",
   "metadata": {},
   "source": [
    "### Static or Class level variable\n",
    "`- Defining Static or Class level variable`<br>\n",
    "`1) Inside Class - Normal Declaration`<br>\n",
    "`2) Inside Class Method - Using Classname`<br>"
   ]
  },
  {
   "cell_type": "code",
   "execution_count": 67,
   "metadata": {
    "ExecuteTime": {
     "end_time": "2020-10-03T15:50:30.386240Z",
     "start_time": "2020-10-03T15:50:30.368239Z"
    }
   },
   "outputs": [],
   "source": [
    "class Student():\n",
    "    a = 10                           # Inside Class  - Normal Declaration\n",
    "    def __init__(var, x, y):\n",
    "        var.x = x                    # Inside Class Methods - Using self variable\n",
    "        var.y = y\n",
    "    def show(var):\n",
    "        print('X : {}, Y: {}'.format(var.x, var.y))  # Inside Class  - Using self variable"
   ]
  },
  {
   "cell_type": "code",
   "execution_count": 68,
   "metadata": {
    "ExecuteTime": {
     "end_time": "2020-10-03T15:50:30.599252Z",
     "start_time": "2020-10-03T15:50:30.564250Z"
    }
   },
   "outputs": [
    {
     "name": "stdout",
     "output_type": "stream",
     "text": [
      "{'x': 1, 'y': 2, 'a': 100}\n",
      "{'__module__': '__main__', 'a': 10, '__init__': <function Student.__init__ at 0x000000000537DDC8>, 'show': <function Student.show at 0x00000000050C3048>, '__dict__': <attribute '__dict__' of 'Student' objects>, '__weakref__': <attribute '__weakref__' of 'Student' objects>, '__doc__': None}\n",
      "10\n",
      "100\n",
      "\n",
      "{'x': 10, 'y': 20}\n",
      "{'__module__': '__main__', 'a': 10, '__init__': <function Student.__init__ at 0x000000000537DDC8>, 'show': <function Student.show at 0x00000000050C3048>, '__dict__': <attribute '__dict__' of 'Student' objects>, '__weakref__': <attribute '__weakref__' of 'Student' objects>, '__doc__': None}\n",
      "10\n",
      "10\n"
     ]
    }
   ],
   "source": [
    "s1 = Student(1, 2)\n",
    "s1.a = 100\n",
    "print(s1.__dict__)\n",
    "print(Student.__dict__)\n",
    "print(Student.a)                      # Outside Class - Using Object reference variable\n",
    "print(s1.a)\n",
    "print()\n",
    "\n",
    "s2 = Student(10, 20)\n",
    "print(s2.__dict__)\n",
    "print(Student.__dict__)\n",
    "print(Student.a)                      # Outside Class - Using Object reference variable\n",
    "print(s2.a)"
   ]
  },
  {
   "cell_type": "code",
   "execution_count": 69,
   "metadata": {
    "ExecuteTime": {
     "end_time": "2020-10-03T15:50:47.262206Z",
     "start_time": "2020-10-03T15:50:47.239204Z"
    }
   },
   "outputs": [
    {
     "name": "stdout",
     "output_type": "stream",
     "text": [
      "{'__module__': '__main__', 'a': 100, '__init__': <function Student.__init__ at 0x000000000537DDC8>, 'show': <function Student.show at 0x00000000050C3048>, '__dict__': <attribute '__dict__' of 'Student' objects>, '__weakref__': <attribute '__weakref__' of 'Student' objects>, '__doc__': None}\n",
      "100\n",
      "100\n"
     ]
    }
   ],
   "source": [
    "Student.a = 100\n",
    "print(Student.__dict__)\n",
    "print(s1.a)\n",
    "print(s2.a)"
   ]
  },
  {
   "cell_type": "code",
   "execution_count": 80,
   "metadata": {
    "ExecuteTime": {
     "end_time": "2020-10-03T16:00:57.578114Z",
     "start_time": "2020-10-03T16:00:57.556112Z"
    }
   },
   "outputs": [],
   "source": [
    "class Student():\n",
    "    a = 10                           # Inside Class  - Normal Declaration\n",
    "    \n",
    "    def __init__(var, x, y):\n",
    "        var.x = x                    # Inside Class Methods - Using self variable\n",
    "        var.y = y\n",
    "    \n",
    "    def show(var):\n",
    "        print('X : {}, Y: {}'.format(var.x, var.y))  # Inside Class  - Using self variable\n",
    "    \n",
    "    @classmethod\n",
    "    def m1(cls):\n",
    "        Student.z = 50\n",
    "    \n",
    "    @staticmethod\n",
    "    def m2():\n",
    "        Student.b = 100"
   ]
  },
  {
   "cell_type": "code",
   "execution_count": 78,
   "metadata": {
    "ExecuteTime": {
     "end_time": "2020-10-03T16:00:29.742522Z",
     "start_time": "2020-10-03T16:00:29.719520Z"
    }
   },
   "outputs": [
    {
     "name": "stdout",
     "output_type": "stream",
     "text": [
      "{'__module__': '__main__', 'a': 10, '__init__': <function Student.__init__ at 0x00000000053CE708>, 'show': <function Student.show at 0x00000000053CE288>, 'm1': <classmethod object at 0x00000000053C7CC8>, 'm2': <staticmethod object at 0x00000000053C7A88>, '__dict__': <attribute '__dict__' of 'Student' objects>, '__weakref__': <attribute '__weakref__' of 'Student' objects>, '__doc__': None, 'z': 50}\n"
     ]
    }
   ],
   "source": [
    "s = Student(1, 2)\n",
    "Student.m1()\n",
    "print(Student.__dict__)"
   ]
  },
  {
   "cell_type": "code",
   "execution_count": 81,
   "metadata": {
    "ExecuteTime": {
     "end_time": "2020-10-03T16:00:59.338214Z",
     "start_time": "2020-10-03T16:00:59.317213Z"
    }
   },
   "outputs": [
    {
     "name": "stdout",
     "output_type": "stream",
     "text": [
      "{'__module__': '__main__', 'a': 10, '__init__': <function Student.__init__ at 0x00000000053CEAF8>, 'show': <function Student.show at 0x00000000053CEB88>, 'm1': <classmethod object at 0x00000000053CBDC8>, 'm2': <staticmethod object at 0x00000000053CB908>, '__dict__': <attribute '__dict__' of 'Student' objects>, '__weakref__': <attribute '__weakref__' of 'Student' objects>, '__doc__': None, 'b': 100}\n"
     ]
    }
   ],
   "source": [
    "s = Student(10, 20)\n",
    "Student.m2()\n",
    "print(Student.__dict__)"
   ]
  }
 ],
 "metadata": {
  "kernelspec": {
   "display_name": "Python 3 (ipykernel)",
   "language": "python",
   "name": "python3"
  },
  "language_info": {
   "codemirror_mode": {
    "name": "ipython",
    "version": 3
   },
   "file_extension": ".py",
   "mimetype": "text/x-python",
   "name": "python",
   "nbconvert_exporter": "python",
   "pygments_lexer": "ipython3",
   "version": "3.8.13"
  },
  "toc": {
   "base_numbering": 1,
   "nav_menu": {},
   "number_sections": true,
   "sideBar": true,
   "skip_h1_title": false,
   "title_cell": "Table of Contents",
   "title_sidebar": "Contents",
   "toc_cell": true,
   "toc_position": {
    "height": "calc(100% - 180px)",
    "left": "10px",
    "top": "150px",
    "width": "384px"
   },
   "toc_section_display": true,
   "toc_window_display": true
  }
 },
 "nbformat": 4,
 "nbformat_minor": 4
}
