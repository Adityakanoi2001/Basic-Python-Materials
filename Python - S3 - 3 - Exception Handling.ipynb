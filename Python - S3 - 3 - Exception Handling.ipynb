{
 "cells": [
  {
   "cell_type": "markdown",
   "id": "3c376bbf",
   "metadata": {
    "toc": true
   },
   "source": [
    "<h1>Table of Contents<span class=\"tocSkip\"></span></h1>\n",
    "<div class=\"toc\"><ul class=\"toc-item\"><li><span><a href=\"#Exception-Handling\" data-toc-modified-id=\"Exception-Handling-1\"><span class=\"toc-item-num\">1&nbsp;&nbsp;</span>Exception Handling</a></span><ul class=\"toc-item\"><li><span><a href=\"#What-is-Exception\" data-toc-modified-id=\"What-is-Exception-1.1\"><span class=\"toc-item-num\">1.1&nbsp;&nbsp;</span>What is Exception</a></span></li><li><span><a href=\"#Handling-Exception\" data-toc-modified-id=\"Handling-Exception-1.2\"><span class=\"toc-item-num\">1.2&nbsp;&nbsp;</span>Handling Exception</a></span></li><li><span><a href=\"#Handling-Multiple-Exceptions\" data-toc-modified-id=\"Handling-Multiple-Exceptions-1.3\"><span class=\"toc-item-num\">1.3&nbsp;&nbsp;</span>Handling Multiple Exceptions</a></span></li><li><span><a href=\"#Using-Finally-Block\" data-toc-modified-id=\"Using-Finally-Block-1.4\"><span class=\"toc-item-num\">1.4&nbsp;&nbsp;</span>Using Finally Block</a></span></li><li><span><a href=\"#Using-Else-Block\" data-toc-modified-id=\"Using-Else-Block-1.5\"><span class=\"toc-item-num\">1.5&nbsp;&nbsp;</span>Using Else Block</a></span></li><li><span><a href=\"#Raise-Exceptions\" data-toc-modified-id=\"Raise-Exceptions-1.6\"><span class=\"toc-item-num\">1.6&nbsp;&nbsp;</span>Raise Exceptions</a></span></li><li><span><a href=\"#Assertions-in-Exception\" data-toc-modified-id=\"Assertions-in-Exception-1.7\"><span class=\"toc-item-num\">1.7&nbsp;&nbsp;</span>Assertions in Exception</a></span></li></ul></li></ul></div>"
   ]
  },
  {
   "cell_type": "markdown",
   "id": "fbfaac19",
   "metadata": {},
   "source": [
    "# Exception Handling\n",
    "\n",
    "`try - except/finally : Try Block requires either except or finally`<br>\n",
    "`try - except - else  : Else Block requires both try and except`<br>"
   ]
  },
  {
   "cell_type": "markdown",
   "id": "bc892e4b",
   "metadata": {},
   "source": [
    "## What is Exception\n",
    "When Exceptions occur, the Python interpreter stops the current process and passes it to the calling process until it is handled.\n",
    "If not handled, the program will crash. There are two types<br><br>\n",
    "\n",
    "\n",
    "**1) Syntax Error : Occur when the parser detects an incorrect statement<br>**\n",
    "**2) Runtime Exp : occur at the time of execution**<br><br>\n",
    "\n",
    "\n",
    "1) Pre-Defined Exceptions<br>\n",
    "2) User-Defined Exceptions"
   ]
  },
  {
   "cell_type": "code",
   "execution_count": 2,
   "id": "872c74e1",
   "metadata": {
    "ExecuteTime": {
     "end_time": "2020-08-20T05:31:37.009393Z",
     "start_time": "2020-08-20T05:31:36.962390Z"
    }
   },
   "outputs": [
    {
     "ename": "ZeroDivisionError",
     "evalue": "division by zero",
     "output_type": "error",
     "traceback": [
      "\u001b[1;31m---------------------------------------------------------------------------\u001b[0m",
      "\u001b[1;31mZeroDivisionError\u001b[0m                         Traceback (most recent call last)",
      "\u001b[1;32m<ipython-input-2-fe01563e1bc6>\u001b[0m in \u001b[0;36m<module>\u001b[1;34m\u001b[0m\n\u001b[1;32m----> 1\u001b[1;33m \u001b[0mprint\u001b[0m\u001b[1;33m(\u001b[0m\u001b[1;36m10\u001b[0m\u001b[1;33m/\u001b[0m\u001b[1;36m0\u001b[0m\u001b[1;33m)\u001b[0m\u001b[1;33m\u001b[0m\u001b[1;33m\u001b[0m\u001b[0m\n\u001b[0m",
      "\u001b[1;31mZeroDivisionError\u001b[0m: division by zero"
     ]
    }
   ],
   "source": [
    "print(10/0)"
   ]
  },
  {
   "cell_type": "code",
   "execution_count": 4,
   "id": "7d6aa97c",
   "metadata": {
    "ExecuteTime": {
     "end_time": "2020-08-20T05:32:16.193634Z",
     "start_time": "2020-08-20T05:32:14.511538Z"
    }
   },
   "outputs": [
    {
     "name": "stdout",
     "output_type": "stream",
     "text": [
      "Enter Number : 10\n",
      "10\n"
     ]
    }
   ],
   "source": [
    "num = int(input(\"Enter Number : \"))\n",
    "print(num)"
   ]
  },
  {
   "cell_type": "code",
   "execution_count": 5,
   "id": "e29bc978",
   "metadata": {
    "ExecuteTime": {
     "end_time": "2020-08-20T05:32:28.707350Z",
     "start_time": "2020-08-20T05:32:25.894189Z"
    }
   },
   "outputs": [
    {
     "name": "stdout",
     "output_type": "stream",
     "text": [
      "Enter NumberVignesh\n"
     ]
    },
    {
     "ename": "ValueError",
     "evalue": "invalid literal for int() with base 10: 'Vignesh'",
     "output_type": "error",
     "traceback": [
      "\u001b[1;31m---------------------------------------------------------------------------\u001b[0m",
      "\u001b[1;31mValueError\u001b[0m                                Traceback (most recent call last)",
      "\u001b[1;32m<ipython-input-5-d5f56d0bc004>\u001b[0m in \u001b[0;36m<module>\u001b[1;34m\u001b[0m\n\u001b[1;32m----> 1\u001b[1;33m \u001b[0mnum\u001b[0m \u001b[1;33m=\u001b[0m \u001b[0mint\u001b[0m\u001b[1;33m(\u001b[0m\u001b[0minput\u001b[0m\u001b[1;33m(\u001b[0m\u001b[1;34m\"Enter Number\"\u001b[0m\u001b[1;33m)\u001b[0m\u001b[1;33m)\u001b[0m\u001b[1;33m\u001b[0m\u001b[1;33m\u001b[0m\u001b[0m\n\u001b[0m\u001b[0;32m      2\u001b[0m \u001b[0mprint\u001b[0m\u001b[1;33m(\u001b[0m\u001b[0mnum\u001b[0m\u001b[1;33m)\u001b[0m\u001b[1;33m\u001b[0m\u001b[1;33m\u001b[0m\u001b[0m\n",
      "\u001b[1;31mValueError\u001b[0m: invalid literal for int() with base 10: 'Vignesh'"
     ]
    }
   ],
   "source": [
    "num = int(input(\"Enter Number\"))\n",
    "print(num)"
   ]
  },
  {
   "cell_type": "markdown",
   "id": "484d1eb7",
   "metadata": {
    "ExecuteTime": {
     "end_time": "2020-08-20T05:34:11.173211Z",
     "start_time": "2020-08-20T05:34:11.135208Z"
    }
   },
   "source": [
    "## Handling Exception\n",
    "**Handling Exception : To gracefully terminate the program<br>**\n",
    "- try<br>\n",
    "- except<br>"
   ]
  },
  {
   "cell_type": "code",
   "execution_count": 8,
   "id": "0703bcee",
   "metadata": {
    "ExecuteTime": {
     "end_time": "2020-08-20T05:38:39.336549Z",
     "start_time": "2020-08-20T05:38:39.278545Z"
    }
   },
   "outputs": [
    {
     "name": "stdout",
     "output_type": "stream",
     "text": [
      "====First Line====\n",
      "Issue Found\n",
      "====Last Line====\n"
     ]
    }
   ],
   "source": [
    "print(\"====First Line====\")\n",
    "\n",
    "try:\n",
    "    print(10/0)\n",
    "except:\n",
    "    print(\"Issue Found\")\n",
    "\n",
    "print(\"====Last Line====\")"
   ]
  },
  {
   "cell_type": "code",
   "execution_count": 11,
   "id": "836eb080",
   "metadata": {
    "ExecuteTime": {
     "end_time": "2020-08-20T05:40:18.471219Z",
     "start_time": "2020-08-20T05:40:18.453218Z"
    }
   },
   "outputs": [
    {
     "name": "stdout",
     "output_type": "stream",
     "text": [
      "====First Line====\n",
      "In Try Loop\n",
      "Issue Found : division by zero\n",
      "====Last Line====\n"
     ]
    }
   ],
   "source": [
    "print(\"====First Line====\")\n",
    "\n",
    "try:\n",
    "    print(\"In Try Loop\")\n",
    "    print(10/0)\n",
    "    print(\"Completed Try Loop\")\n",
    "except Exception as Error:\n",
    "    print(\"Issue Found : {}\".format(Error))\n",
    "\n",
    "print(\"====Last Line====\")"
   ]
  },
  {
   "cell_type": "markdown",
   "id": "b899377f",
   "metadata": {},
   "source": [
    " ## Handling Multiple Exceptions\n",
    " - Prioritize from Top to Bottom\n",
    " - Exception will **not** handle another Exception (Use Nested Try-Except)\n",
    " - Handling multiple Exceptions in single Except block"
   ]
  },
  {
   "cell_type": "code",
   "execution_count": 13,
   "id": "2d3aed7f",
   "metadata": {
    "ExecuteTime": {
     "end_time": "2020-08-20T05:47:34.806141Z",
     "start_time": "2020-08-20T05:47:34.792140Z"
    }
   },
   "outputs": [
    {
     "name": "stdout",
     "output_type": "stream",
     "text": [
      "====First Line====\n",
      "In Try Loop\n",
      "Issue Found 1 : division by zero\n",
      "====Last Line====\n"
     ]
    }
   ],
   "source": [
    "print(\"====First Line====\")\n",
    "\n",
    "try:\n",
    "    print(\"In Try Loop\")\n",
    "    print(10/0)\n",
    "    print(\"Completed Try Loop\")\n",
    "except ZeroDivisionError as Error:\n",
    "    print(\"Issue Found 1 : {}\".format(Error))\n",
    "except Exception as Error:\n",
    "    print(\"Issue Found 2 : {}\".format(Error))\n",
    "\n",
    "print(\"====Last Line====\")"
   ]
  },
  {
   "cell_type": "code",
   "execution_count": 17,
   "id": "95b1eb78",
   "metadata": {
    "ExecuteTime": {
     "end_time": "2020-08-20T05:48:51.969555Z",
     "start_time": "2020-08-20T05:48:51.952554Z"
    }
   },
   "outputs": [
    {
     "name": "stdout",
     "output_type": "stream",
     "text": [
      "====First Line====\n",
      "In Try Loop\n",
      "Issue Found 2 : unsupported operand type(s) for /: 'int' and 'str'\n",
      "====Last Line====\n"
     ]
    }
   ],
   "source": [
    "print(\"====First Line====\")\n",
    "\n",
    "try:\n",
    "    print(\"In Try Loop\")\n",
    "    print(10/\"zero\")\n",
    "    print(\"Completed Try Loop\")\n",
    "except ZeroDivisionError as Error:\n",
    "    print(\"Issue Found 1 : {}\".format(Error))\n",
    "except TypeError as Error:\n",
    "    print(\"Issue Found 2 : {}\".format(Error))\n",
    "except Exception as Error:\n",
    "    print(\"Issue Found 3 : {}\".format(Error))\n",
    "\n",
    "print(\"====Last Line====\")"
   ]
  },
  {
   "cell_type": "code",
   "execution_count": 18,
   "id": "b1615da5",
   "metadata": {
    "ExecuteTime": {
     "end_time": "2020-08-20T05:50:14.494275Z",
     "start_time": "2020-08-20T05:50:14.474274Z"
    }
   },
   "outputs": [
    {
     "name": "stdout",
     "output_type": "stream",
     "text": [
      "====First Line====\n",
      "In Try Loop\n",
      "Issue Found 1 : unsupported operand type(s) for /: 'int' and 'str'\n",
      "====Last Line====\n"
     ]
    }
   ],
   "source": [
    "print(\"====First Line====\")\n",
    "\n",
    "try:\n",
    "    print(\"In Try Loop\")\n",
    "    print(10/\"zero\")\n",
    "    print(\"Completed Try Loop\")\n",
    "except Exception as Error:\n",
    "    print(\"Issue Found 1 : {}\".format(Error))\n",
    "except TypeError as Error:\n",
    "    print(\"Issue Found 2 : {}\".format(Error))\n",
    "except ZeroDivisionError as Error:\n",
    "    print(\"Issue Found 3 : {}\".format(Error))\n",
    "\n",
    "print(\"====Last Line====\")"
   ]
  },
  {
   "cell_type": "code",
   "execution_count": 19,
   "id": "9c6800e4",
   "metadata": {
    "ExecuteTime": {
     "end_time": "2020-08-20T05:51:28.606514Z",
     "start_time": "2020-08-20T05:51:28.532510Z"
    }
   },
   "outputs": [
    {
     "name": "stdout",
     "output_type": "stream",
     "text": [
      "====First Line====\n",
      "In Try Loop\n",
      "Issue Found 2 : unsupported operand type(s) for /: 'int' and 'str'\n"
     ]
    },
    {
     "ename": "ZeroDivisionError",
     "evalue": "division by zero",
     "output_type": "error",
     "traceback": [
      "\u001b[1;31m---------------------------------------------------------------------------\u001b[0m",
      "\u001b[1;31mTypeError\u001b[0m                                 Traceback (most recent call last)",
      "\u001b[1;32m<ipython-input-19-16334bef1f1e>\u001b[0m in \u001b[0;36m<module>\u001b[1;34m\u001b[0m\n\u001b[0;32m      4\u001b[0m     \u001b[0mprint\u001b[0m\u001b[1;33m(\u001b[0m\u001b[1;34m\"In Try Loop\"\u001b[0m\u001b[1;33m)\u001b[0m\u001b[1;33m\u001b[0m\u001b[1;33m\u001b[0m\u001b[0m\n\u001b[1;32m----> 5\u001b[1;33m     \u001b[0mprint\u001b[0m\u001b[1;33m(\u001b[0m\u001b[1;36m10\u001b[0m\u001b[1;33m/\u001b[0m\u001b[1;34m\"zero\"\u001b[0m\u001b[1;33m)\u001b[0m\u001b[1;33m\u001b[0m\u001b[1;33m\u001b[0m\u001b[0m\n\u001b[0m\u001b[0;32m      6\u001b[0m     \u001b[0mprint\u001b[0m\u001b[1;33m(\u001b[0m\u001b[1;34m\"Completed Try Loop\"\u001b[0m\u001b[1;33m)\u001b[0m\u001b[1;33m\u001b[0m\u001b[1;33m\u001b[0m\u001b[0m\n",
      "\u001b[1;31mTypeError\u001b[0m: unsupported operand type(s) for /: 'int' and 'str'",
      "\nDuring handling of the above exception, another exception occurred:\n",
      "\u001b[1;31mZeroDivisionError\u001b[0m                         Traceback (most recent call last)",
      "\u001b[1;32m<ipython-input-19-16334bef1f1e>\u001b[0m in \u001b[0;36m<module>\u001b[1;34m\u001b[0m\n\u001b[0;32m      9\u001b[0m \u001b[1;32mexcept\u001b[0m \u001b[0mTypeError\u001b[0m \u001b[1;32mas\u001b[0m \u001b[0mError\u001b[0m\u001b[1;33m:\u001b[0m\u001b[1;33m\u001b[0m\u001b[1;33m\u001b[0m\u001b[0m\n\u001b[0;32m     10\u001b[0m     \u001b[0mprint\u001b[0m\u001b[1;33m(\u001b[0m\u001b[1;34m\"Issue Found 2 : {}\"\u001b[0m\u001b[1;33m.\u001b[0m\u001b[0mformat\u001b[0m\u001b[1;33m(\u001b[0m\u001b[0mError\u001b[0m\u001b[1;33m)\u001b[0m\u001b[1;33m)\u001b[0m\u001b[1;33m\u001b[0m\u001b[1;33m\u001b[0m\u001b[0m\n\u001b[1;32m---> 11\u001b[1;33m     \u001b[0mprint\u001b[0m\u001b[1;33m(\u001b[0m\u001b[1;36m10\u001b[0m\u001b[1;33m/\u001b[0m\u001b[1;36m0\u001b[0m\u001b[1;33m)\u001b[0m\u001b[1;33m\u001b[0m\u001b[1;33m\u001b[0m\u001b[0m\n\u001b[0m\u001b[0;32m     12\u001b[0m \u001b[1;32mexcept\u001b[0m \u001b[0mException\u001b[0m \u001b[1;32mas\u001b[0m \u001b[0mError\u001b[0m\u001b[1;33m:\u001b[0m\u001b[1;33m\u001b[0m\u001b[1;33m\u001b[0m\u001b[0m\n\u001b[0;32m     13\u001b[0m     \u001b[0mprint\u001b[0m\u001b[1;33m(\u001b[0m\u001b[1;34m\"Issue Found 3 : {}\"\u001b[0m\u001b[1;33m.\u001b[0m\u001b[0mformat\u001b[0m\u001b[1;33m(\u001b[0m\u001b[0mError\u001b[0m\u001b[1;33m)\u001b[0m\u001b[1;33m)\u001b[0m\u001b[1;33m\u001b[0m\u001b[1;33m\u001b[0m\u001b[0m\n",
      "\u001b[1;31mZeroDivisionError\u001b[0m: division by zero"
     ]
    }
   ],
   "source": [
    "print(\"====First Line====\")\n",
    "\n",
    "try:\n",
    "    print(\"In Try Loop\")\n",
    "    print(10/\"zero\")\n",
    "    print(\"Completed Try Loop\")\n",
    "except ZeroDivisionError as Error:\n",
    "    print(\"Issue Found 1 : {}\".format(Error))\n",
    "except TypeError as Error:\n",
    "    print(\"Issue Found 2 : {}\".format(Error))\n",
    "    print(10/0)\n",
    "except Exception as Error:\n",
    "    print(\"Issue Found 3 : {}\".format(Error))\n",
    "\n",
    "print(\"====Last Line====\")"
   ]
  },
  {
   "cell_type": "code",
   "execution_count": 20,
   "id": "e6ab5262",
   "metadata": {
    "ExecuteTime": {
     "end_time": "2020-08-20T05:52:23.026626Z",
     "start_time": "2020-08-20T05:52:22.981624Z"
    }
   },
   "outputs": [
    {
     "name": "stdout",
     "output_type": "stream",
     "text": [
      "====First Line====\n",
      "In Try Loop\n",
      "Issue Found 1 : unsupported operand type(s) for /: 'int' and 'str'\n"
     ]
    },
    {
     "ename": "ZeroDivisionError",
     "evalue": "division by zero",
     "output_type": "error",
     "traceback": [
      "\u001b[1;31m---------------------------------------------------------------------------\u001b[0m",
      "\u001b[1;31mTypeError\u001b[0m                                 Traceback (most recent call last)",
      "\u001b[1;32m<ipython-input-20-81d28910eb2b>\u001b[0m in \u001b[0;36m<module>\u001b[1;34m\u001b[0m\n\u001b[0;32m      4\u001b[0m     \u001b[0mprint\u001b[0m\u001b[1;33m(\u001b[0m\u001b[1;34m\"In Try Loop\"\u001b[0m\u001b[1;33m)\u001b[0m\u001b[1;33m\u001b[0m\u001b[1;33m\u001b[0m\u001b[0m\n\u001b[1;32m----> 5\u001b[1;33m     \u001b[0mprint\u001b[0m\u001b[1;33m(\u001b[0m\u001b[1;36m10\u001b[0m\u001b[1;33m/\u001b[0m\u001b[1;34m\"zero\"\u001b[0m\u001b[1;33m)\u001b[0m\u001b[1;33m\u001b[0m\u001b[1;33m\u001b[0m\u001b[0m\n\u001b[0m\u001b[0;32m      6\u001b[0m     \u001b[0mprint\u001b[0m\u001b[1;33m(\u001b[0m\u001b[1;34m\"Completed Try Loop\"\u001b[0m\u001b[1;33m)\u001b[0m\u001b[1;33m\u001b[0m\u001b[1;33m\u001b[0m\u001b[0m\n",
      "\u001b[1;31mTypeError\u001b[0m: unsupported operand type(s) for /: 'int' and 'str'",
      "\nDuring handling of the above exception, another exception occurred:\n",
      "\u001b[1;31mZeroDivisionError\u001b[0m                         Traceback (most recent call last)",
      "\u001b[1;32m<ipython-input-20-81d28910eb2b>\u001b[0m in \u001b[0;36m<module>\u001b[1;34m\u001b[0m\n\u001b[0;32m      7\u001b[0m \u001b[1;32mexcept\u001b[0m \u001b[0mTypeError\u001b[0m \u001b[1;32mas\u001b[0m \u001b[0mError\u001b[0m\u001b[1;33m:\u001b[0m\u001b[1;33m\u001b[0m\u001b[1;33m\u001b[0m\u001b[0m\n\u001b[0;32m      8\u001b[0m     \u001b[0mprint\u001b[0m\u001b[1;33m(\u001b[0m\u001b[1;34m\"Issue Found 1 : {}\"\u001b[0m\u001b[1;33m.\u001b[0m\u001b[0mformat\u001b[0m\u001b[1;33m(\u001b[0m\u001b[0mError\u001b[0m\u001b[1;33m)\u001b[0m\u001b[1;33m)\u001b[0m\u001b[1;33m\u001b[0m\u001b[1;33m\u001b[0m\u001b[0m\n\u001b[1;32m----> 9\u001b[1;33m     \u001b[0mprint\u001b[0m\u001b[1;33m(\u001b[0m\u001b[1;36m10\u001b[0m\u001b[1;33m/\u001b[0m\u001b[1;36m0\u001b[0m\u001b[1;33m)\u001b[0m\u001b[1;33m\u001b[0m\u001b[1;33m\u001b[0m\u001b[0m\n\u001b[0m\u001b[0;32m     10\u001b[0m \u001b[1;32mexcept\u001b[0m \u001b[0mZeroDivisionError\u001b[0m \u001b[1;32mas\u001b[0m \u001b[0mError\u001b[0m\u001b[1;33m:\u001b[0m\u001b[1;33m\u001b[0m\u001b[1;33m\u001b[0m\u001b[0m\n\u001b[0;32m     11\u001b[0m     \u001b[0mprint\u001b[0m\u001b[1;33m(\u001b[0m\u001b[1;34m\"Issue Found 2 : {}\"\u001b[0m\u001b[1;33m.\u001b[0m\u001b[0mformat\u001b[0m\u001b[1;33m(\u001b[0m\u001b[0mError\u001b[0m\u001b[1;33m)\u001b[0m\u001b[1;33m)\u001b[0m\u001b[1;33m\u001b[0m\u001b[1;33m\u001b[0m\u001b[0m\n",
      "\u001b[1;31mZeroDivisionError\u001b[0m: division by zero"
     ]
    }
   ],
   "source": [
    "print(\"====First Line====\")\n",
    "\n",
    "try:\n",
    "    print(\"In Try Loop\")\n",
    "    print(10/\"zero\")\n",
    "    print(\"Completed Try Loop\")\n",
    "except TypeError as Error:\n",
    "    print(\"Issue Found 1 : {}\".format(Error))\n",
    "    print(10/0)\n",
    "except ZeroDivisionError as Error:\n",
    "    print(\"Issue Found 2 : {}\".format(Error))\n",
    "except Exception as Error:\n",
    "    print(\"Issue Found 3 : {}\".format(Error))\n",
    "\n",
    "print(\"====Last Line====\")"
   ]
  },
  {
   "cell_type": "code",
   "execution_count": 21,
   "id": "3568e16a",
   "metadata": {
    "ExecuteTime": {
     "end_time": "2020-08-20T05:56:42.115445Z",
     "start_time": "2020-08-20T05:56:42.092444Z"
    },
    "scrolled": true
   },
   "outputs": [
    {
     "name": "stdout",
     "output_type": "stream",
     "text": [
      "====First Line====\n",
      "In Try Loop\n",
      "Issue Found 1 : unsupported operand type(s) for /: 'int' and 'str'\n",
      "====Last Line====\n"
     ]
    }
   ],
   "source": [
    "print(\"====First Line====\")\n",
    "\n",
    "try:\n",
    "    print(\"In Try Loop\")\n",
    "    print(10/\"zero\")\n",
    "    print(\"Completed Try Loop\")\n",
    "except (TypeError, ZeroDivisionError) as Error:\n",
    "    print(\"Issue Found 1 : {}\".format(Error))\n",
    "\n",
    "print(\"====Last Line====\")"
   ]
  },
  {
   "cell_type": "code",
   "execution_count": 22,
   "id": "a775f23a",
   "metadata": {
    "ExecuteTime": {
     "end_time": "2020-08-20T05:56:59.144419Z",
     "start_time": "2020-08-20T05:56:59.122418Z"
    },
    "scrolled": true
   },
   "outputs": [
    {
     "name": "stdout",
     "output_type": "stream",
     "text": [
      "====First Line====\n",
      "In Try Loop\n",
      "Issue Found 1 : division by zero\n",
      "====Last Line====\n"
     ]
    }
   ],
   "source": [
    "print(\"====First Line====\")\n",
    "\n",
    "try:\n",
    "    print(\"In Try Loop\")\n",
    "    print(10/0)\n",
    "    print(\"Completed Try Loop\")\n",
    "except (TypeError, ZeroDivisionError) as Error:\n",
    "    print(\"Issue Found 1 : {}\".format(Error))\n",
    "\n",
    "print(\"====Last Line====\")"
   ]
  },
  {
   "cell_type": "markdown",
   "id": "0efdf3d1",
   "metadata": {},
   "source": [
    "## Using Finally Block\n",
    "**Handling Exception : To gracefully terminate the program , Always executes even error occured/handled<br>**\n",
    "- try<br>\n",
    "- except<br>\n",
    "- finally<br>\n",
    "\n",
    "**Only one situation where finally block skips<br>**\n",
    "Exiting the program"
   ]
  },
  {
   "cell_type": "code",
   "execution_count": 1,
   "id": "617035a8",
   "metadata": {
    "ExecuteTime": {
     "end_time": "2020-08-20T06:26:25.943475Z",
     "start_time": "2020-08-20T06:26:25.367442Z"
    }
   },
   "outputs": [
    {
     "name": "stdout",
     "output_type": "stream",
     "text": [
      "====First Line====\n",
      "In Try Loop\n",
      "Closed DB/Files/other process\n"
     ]
    },
    {
     "ename": "TypeError",
     "evalue": "unsupported operand type(s) for /: 'int' and 'str'",
     "output_type": "error",
     "traceback": [
      "\u001b[1;31m---------------------------------------------------------------------------\u001b[0m",
      "\u001b[1;31mTypeError\u001b[0m                                 Traceback (most recent call last)",
      "\u001b[1;32m<ipython-input-1-1d68ef063108>\u001b[0m in \u001b[0;36m<module>\u001b[1;34m\u001b[0m\n\u001b[0;32m      3\u001b[0m \u001b[1;32mtry\u001b[0m\u001b[1;33m:\u001b[0m\u001b[1;33m\u001b[0m\u001b[1;33m\u001b[0m\u001b[0m\n\u001b[0;32m      4\u001b[0m     \u001b[0mprint\u001b[0m\u001b[1;33m(\u001b[0m\u001b[1;34m\"In Try Loop\"\u001b[0m\u001b[1;33m)\u001b[0m\u001b[1;33m\u001b[0m\u001b[1;33m\u001b[0m\u001b[0m\n\u001b[1;32m----> 5\u001b[1;33m     \u001b[0mprint\u001b[0m\u001b[1;33m(\u001b[0m\u001b[1;36m10\u001b[0m\u001b[1;33m/\u001b[0m\u001b[1;34m\"zero\"\u001b[0m\u001b[1;33m)\u001b[0m\u001b[1;33m\u001b[0m\u001b[1;33m\u001b[0m\u001b[0m\n\u001b[0m\u001b[0;32m      6\u001b[0m     \u001b[0mprint\u001b[0m\u001b[1;33m(\u001b[0m\u001b[1;34m\"Completed Try Loop\"\u001b[0m\u001b[1;33m)\u001b[0m\u001b[1;33m\u001b[0m\u001b[1;33m\u001b[0m\u001b[0m\n\u001b[0;32m      7\u001b[0m \u001b[1;32mexcept\u001b[0m \u001b[0mZeroDivisionError\u001b[0m \u001b[1;32mas\u001b[0m \u001b[0mError\u001b[0m\u001b[1;33m:\u001b[0m\u001b[1;33m\u001b[0m\u001b[1;33m\u001b[0m\u001b[0m\n",
      "\u001b[1;31mTypeError\u001b[0m: unsupported operand type(s) for /: 'int' and 'str'"
     ]
    }
   ],
   "source": [
    "print(\"====First Line====\")\n",
    "\n",
    "try:\n",
    "    print(\"In Try Loop\")\n",
    "    print(10/\"zero\")\n",
    "    print(\"Completed Try Loop\")\n",
    "except ZeroDivisionError as Error:\n",
    "    print(\"Issue Found 1 : {}\".format(Error))\n",
    "finally:\n",
    "    print(\"Closed DB/Files/other process\")\n",
    "\n",
    "print(\"====Last Line====\")"
   ]
  },
  {
   "cell_type": "code",
   "execution_count": null,
   "id": "b7407218",
   "metadata": {
    "ExecuteTime": {
     "end_time": "2020-08-20T06:26:25.948475Z",
     "start_time": "2020-08-20T06:26:25.670Z"
    }
   },
   "outputs": [],
   "source": [
    "print(\"====First Line====\")\n",
    "\n",
    "try:\n",
    "    print(\"In Try Loop\")\n",
    "    print(10/0)\n",
    "    print(\"Completed Try Loop\")\n",
    "except (TypeError, ZeroDivisionError) as Error:\n",
    "    print(\"Issue Found 1 : {}\".format(Error))\n",
    "finally:\n",
    "    print(\"Closed DB/Files/other process\")\n",
    "\n",
    "print(\"====Last Line====\")"
   ]
  },
  {
   "cell_type": "code",
   "execution_count": null,
   "id": "39f3b3c4",
   "metadata": {
    "ExecuteTime": {
     "start_time": "2020-08-20T06:26:25.997Z"
    }
   },
   "outputs": [],
   "source": [
    "import os\n",
    "print(\"====First Line====\")\n",
    "\n",
    "try:\n",
    "    print(\"In Try Loop\")\n",
    "    os._exit(0) # ==> Terminate abruptly\n",
    "    print(10/0)\n",
    "    print(\"Completed Try Loop\")\n",
    "except (TypeError, ZeroDivisionError) as Error:\n",
    "    print(\"Issue Found 1 : {}\".format(Error))\n",
    "finally:\n",
    "    print(\"Closed DB/Files/other process\")\n",
    "\n",
    "print(\"====Last Line====\")"
   ]
  },
  {
   "cell_type": "markdown",
   "id": "41829d58",
   "metadata": {},
   "source": [
    "## Using Else Block\n",
    "**Handling Exception : To gracefully terminate the program , Always executes even error occured/handled<br>**\n",
    "- **try<br>**\n",
    "    - Risky Code\n",
    "- **except<br>**\n",
    "    - Executes if Error in Try block\n",
    "- **else<br>**\n",
    "    - Executes if no Error in Try block / No other except bolck is executed\n",
    "- **finally<br>**\n",
    "    - Executes Always"
   ]
  },
  {
   "cell_type": "code",
   "execution_count": 1,
   "id": "e240bada",
   "metadata": {
    "ExecuteTime": {
     "end_time": "2020-08-20T06:30:25.892199Z",
     "start_time": "2020-08-20T06:30:25.753191Z"
    }
   },
   "outputs": [
    {
     "name": "stdout",
     "output_type": "stream",
     "text": [
      "====First Line====\n",
      "In Try Loop\n",
      "Issue Found 1 : division by zero\n",
      "Closed DB/Files/other process\n",
      "====Last Line====\n"
     ]
    }
   ],
   "source": [
    "print(\"====First Line====\")\n",
    "\n",
    "try:\n",
    "    print(\"In Try Loop\")\n",
    "    print(10/0)\n",
    "    print(\"Completed Try Loop\")\n",
    "except (TypeError, ZeroDivisionError) as Error:\n",
    "    print(\"Issue Found 1 : {}\".format(Error))\n",
    "else:\n",
    "    print(\"Successfully Executed : {}\".format(Error))\n",
    "finally:\n",
    "    print(\"Closed DB/Files/other process\")\n",
    "\n",
    "print(\"====Last Line====\")"
   ]
  },
  {
   "cell_type": "code",
   "execution_count": 3,
   "id": "a5b5c4fe",
   "metadata": {
    "ExecuteTime": {
     "end_time": "2020-08-20T06:30:49.242522Z",
     "start_time": "2020-08-20T06:30:49.209520Z"
    }
   },
   "outputs": [
    {
     "name": "stdout",
     "output_type": "stream",
     "text": [
      "====First Line====\n",
      "In Try Loop\n",
      "10.0\n",
      "Completed Try Loop\n",
      "Successfully Executed : {}\n",
      "Closed DB/Files/other process\n",
      "====Last Line====\n"
     ]
    }
   ],
   "source": [
    "print(\"====First Line====\")\n",
    "\n",
    "try:\n",
    "    print(\"In Try Loop\")\n",
    "    print(10/1)\n",
    "    print(\"Completed Try Loop\")\n",
    "except (TypeError, ZeroDivisionError) as Error:\n",
    "    print(\"Issue Found 1 : {}\".format(Error))\n",
    "else:\n",
    "    print(\"Successfully Executed : {}\")\n",
    "finally:\n",
    "    print(\"Closed DB/Files/other process\")\n",
    "\n",
    "print(\"====Last Line====\")"
   ]
  },
  {
   "cell_type": "markdown",
   "id": "16dffa20",
   "metadata": {},
   "source": [
    "## Raise Exceptions\n",
    "- Exception class must be defined"
   ]
  },
  {
   "cell_type": "code",
   "execution_count": 11,
   "id": "703bff6a",
   "metadata": {
    "ExecuteTime": {
     "end_time": "2020-08-20T06:55:29.632195Z",
     "start_time": "2020-08-20T06:55:28.075106Z"
    }
   },
   "outputs": [
    {
     "name": "stdout",
     "output_type": "stream",
     "text": [
      "Enter a number: -1\n"
     ]
    },
    {
     "ename": "TypeError",
     "evalue": "exceptions must derive from BaseException",
     "output_type": "error",
     "traceback": [
      "\u001b[1;31m---------------------------------------------------------------------------\u001b[0m",
      "\u001b[1;31mAssertionError\u001b[0m                            Traceback (most recent call last)",
      "\u001b[1;32m<ipython-input-11-308d24183110>\u001b[0m in \u001b[0;36m<module>\u001b[1;34m\u001b[0m\n\u001b[0;32m      4\u001b[0m     \u001b[0mnum\u001b[0m \u001b[1;33m=\u001b[0m \u001b[0mint\u001b[0m\u001b[1;33m(\u001b[0m\u001b[0minput\u001b[0m\u001b[1;33m(\u001b[0m\u001b[1;34m\"Enter a number: \"\u001b[0m\u001b[1;33m)\u001b[0m\u001b[1;33m)\u001b[0m\u001b[1;33m\u001b[0m\u001b[1;33m\u001b[0m\u001b[0m\n\u001b[1;32m----> 5\u001b[1;33m     \u001b[1;32massert\u001b[0m \u001b[0mnum\u001b[0m \u001b[1;33m%\u001b[0m \u001b[1;36m2\u001b[0m \u001b[1;33m==\u001b[0m \u001b[1;36m0\u001b[0m\u001b[1;33m\u001b[0m\u001b[1;33m\u001b[0m\u001b[0m\n\u001b[0m\u001b[0;32m      6\u001b[0m \u001b[1;32mexcept\u001b[0m\u001b[1;33m:\u001b[0m\u001b[1;33m\u001b[0m\u001b[1;33m\u001b[0m\u001b[0m\n",
      "\u001b[1;31mAssertionError\u001b[0m: ",
      "\nDuring handling of the above exception, another exception occurred:\n",
      "\u001b[1;31mTypeError\u001b[0m                                 Traceback (most recent call last)",
      "\u001b[1;32m<ipython-input-11-308d24183110>\u001b[0m in \u001b[0;36m<module>\u001b[1;34m\u001b[0m\n\u001b[0;32m      5\u001b[0m     \u001b[1;32massert\u001b[0m \u001b[0mnum\u001b[0m \u001b[1;33m%\u001b[0m \u001b[1;36m2\u001b[0m \u001b[1;33m==\u001b[0m \u001b[1;36m0\u001b[0m\u001b[1;33m\u001b[0m\u001b[1;33m\u001b[0m\u001b[0m\n\u001b[0;32m      6\u001b[0m \u001b[1;32mexcept\u001b[0m\u001b[1;33m:\u001b[0m\u001b[1;33m\u001b[0m\u001b[1;33m\u001b[0m\u001b[0m\n\u001b[1;32m----> 7\u001b[1;33m     \u001b[1;32mraise\u001b[0m\u001b[1;33m(\u001b[0m\u001b[1;34m\"NotAnEvenNumber\"\u001b[0m\u001b[1;33m)\u001b[0m\u001b[1;33m\u001b[0m\u001b[1;33m\u001b[0m\u001b[0m\n\u001b[0m\u001b[0;32m      8\u001b[0m \u001b[1;32melse\u001b[0m\u001b[1;33m:\u001b[0m\u001b[1;33m\u001b[0m\u001b[1;33m\u001b[0m\u001b[0m\n\u001b[0;32m      9\u001b[0m     \u001b[0mreciprocal\u001b[0m \u001b[1;33m=\u001b[0m \u001b[1;36m1\u001b[0m\u001b[1;33m/\u001b[0m\u001b[0mnum\u001b[0m\u001b[1;33m\u001b[0m\u001b[1;33m\u001b[0m\u001b[0m\n",
      "\u001b[1;31mTypeError\u001b[0m: exceptions must derive from BaseException"
     ]
    }
   ],
   "source": [
    "# program to print the reciprocal of even numbers\n",
    "\n",
    "try:\n",
    "    num = int(input(\"Enter a number: \"))\n",
    "    assert num % 2 == 0\n",
    "except:\n",
    "    raise(\"NotAnEvenNumber\")\n",
    "else:\n",
    "    reciprocal = 1/num\n",
    "    print(reciprocal)"
   ]
  },
  {
   "cell_type": "code",
   "execution_count": 29,
   "id": "6f62a988",
   "metadata": {
    "ExecuteTime": {
     "end_time": "2020-08-20T07:09:28.610182Z",
     "start_time": "2020-08-20T07:09:26.798078Z"
    }
   },
   "outputs": [
    {
     "name": "stdout",
     "output_type": "stream",
     "text": [
      "Enter a number: -1\n"
     ]
    },
    {
     "ename": "NotAnEvenNumber",
     "evalue": "-------",
     "output_type": "error",
     "traceback": [
      "\u001b[1;31m---------------------------------------------------------------------------\u001b[0m",
      "\u001b[1;31mNotAnEvenNumber\u001b[0m                           Traceback (most recent call last)",
      "\u001b[1;32m<ipython-input-29-cedceac38746>\u001b[0m in \u001b[0;36m<module>\u001b[1;34m\u001b[0m\n\u001b[0;32m      6\u001b[0m \u001b[0mnum\u001b[0m \u001b[1;33m=\u001b[0m \u001b[0mint\u001b[0m\u001b[1;33m(\u001b[0m\u001b[0minput\u001b[0m\u001b[1;33m(\u001b[0m\u001b[1;34m\"Enter a number: \"\u001b[0m\u001b[1;33m)\u001b[0m\u001b[1;33m)\u001b[0m\u001b[1;33m\u001b[0m\u001b[1;33m\u001b[0m\u001b[0m\n\u001b[0;32m      7\u001b[0m \u001b[1;32mif\u001b[0m \u001b[0mnum\u001b[0m \u001b[1;33m%\u001b[0m \u001b[1;36m2\u001b[0m \u001b[1;33m!=\u001b[0m \u001b[1;36m0\u001b[0m\u001b[1;33m:\u001b[0m\u001b[1;33m\u001b[0m\u001b[1;33m\u001b[0m\u001b[0m\n\u001b[1;32m----> 8\u001b[1;33m     \u001b[1;32mraise\u001b[0m \u001b[0mNotAnEvenNumber\u001b[0m\u001b[1;33m(\u001b[0m\u001b[1;33m[\u001b[0m\u001b[1;34m\"-------\"\u001b[0m\u001b[1;33m]\u001b[0m\u001b[1;33m)\u001b[0m\u001b[1;33m\u001b[0m\u001b[1;33m\u001b[0m\u001b[0m\n\u001b[0m\u001b[0;32m      9\u001b[0m \u001b[1;32melse\u001b[0m\u001b[1;33m:\u001b[0m\u001b[1;33m\u001b[0m\u001b[1;33m\u001b[0m\u001b[0m\n\u001b[0;32m     10\u001b[0m     \u001b[0mreciprocal\u001b[0m \u001b[1;33m=\u001b[0m \u001b[1;36m1\u001b[0m\u001b[1;33m/\u001b[0m\u001b[0mnum\u001b[0m\u001b[1;33m\u001b[0m\u001b[1;33m\u001b[0m\u001b[0m\n",
      "\u001b[1;31mNotAnEvenNumber\u001b[0m: -------"
     ]
    }
   ],
   "source": [
    "class NotAnEvenNumber(Exception):\n",
    "    def __init__(self, arg):\n",
    "        self.args = arg\n",
    "\n",
    "# program to print the reciprocal of even numbers\n",
    "num = int(input(\"Enter a number: \"))\n",
    "if num % 2 != 0:\n",
    "    raise NotAnEvenNumber([\"-------\"])\n",
    "else:\n",
    "    reciprocal = 1/num\n",
    "    print(reciprocal)"
   ]
  },
  {
   "cell_type": "code",
   "execution_count": 30,
   "id": "18dd3ce6",
   "metadata": {
    "ExecuteTime": {
     "end_time": "2020-08-20T07:09:35.508576Z",
     "start_time": "2020-08-20T07:09:35.472574Z"
    }
   },
   "outputs": [
    {
     "ename": "NotAnEvenNumber",
     "evalue": "Only integers are allowed",
     "output_type": "error",
     "traceback": [
      "\u001b[1;31m---------------------------------------------------------------------------\u001b[0m",
      "\u001b[1;31mNotAnEvenNumber\u001b[0m                           Traceback (most recent call last)",
      "\u001b[1;32m<ipython-input-30-6df0d664283b>\u001b[0m in \u001b[0;36m<module>\u001b[1;34m\u001b[0m\n\u001b[0;32m      2\u001b[0m \u001b[1;33m\u001b[0m\u001b[0m\n\u001b[0;32m      3\u001b[0m \u001b[1;32mif\u001b[0m \u001b[1;32mnot\u001b[0m \u001b[0mtype\u001b[0m\u001b[1;33m(\u001b[0m\u001b[0mx\u001b[0m\u001b[1;33m)\u001b[0m \u001b[1;32mis\u001b[0m \u001b[0mint\u001b[0m\u001b[1;33m:\u001b[0m\u001b[1;33m\u001b[0m\u001b[1;33m\u001b[0m\u001b[0m\n\u001b[1;32m----> 4\u001b[1;33m     \u001b[1;32mraise\u001b[0m \u001b[0mNotAnEvenNumber\u001b[0m\u001b[1;33m(\u001b[0m\u001b[1;33m[\u001b[0m\u001b[1;34m\"Only integers are allowed\"\u001b[0m\u001b[1;33m]\u001b[0m\u001b[1;33m)\u001b[0m\u001b[1;33m\u001b[0m\u001b[1;33m\u001b[0m\u001b[0m\n\u001b[0m",
      "\u001b[1;31mNotAnEvenNumber\u001b[0m: Only integers are allowed"
     ]
    }
   ],
   "source": [
    "x = \"hello\"\n",
    "\n",
    "if not type(x) is int:\n",
    "    raise NotAnEvenNumber([\"Only integers are allowed\"])"
   ]
  },
  {
   "cell_type": "markdown",
   "id": "fe98037b",
   "metadata": {},
   "source": [
    "## Assertions in Exception"
   ]
  },
  {
   "cell_type": "code",
   "execution_count": 31,
   "id": "3c17d225",
   "metadata": {
    "ExecuteTime": {
     "end_time": "2020-08-20T07:46:06.030749Z",
     "start_time": "2020-08-20T07:46:04.169642Z"
    }
   },
   "outputs": [
    {
     "name": "stdout",
     "output_type": "stream",
     "text": [
      "Enter a number: -1\n",
      "Not an even number!\n"
     ]
    }
   ],
   "source": [
    "class NotAnEvenNumber(Exception):\n",
    "    def __init__(self, arg):\n",
    "        self.args = arg\n",
    "\n",
    "try:\n",
    "    num = int(input(\"Enter a number: \"))\n",
    "    assert num % 2 == 0\n",
    "except:\n",
    "    print(\"Not an even number!\")\n",
    "else:\n",
    "    reciprocal = 1/num\n",
    "    print(reciprocal)"
   ]
  },
  {
   "cell_type": "code",
   "execution_count": null,
   "id": "e2c9bf03",
   "metadata": {},
   "outputs": [],
   "source": []
  }
 ],
 "metadata": {
  "kernelspec": {
   "display_name": "Python 3 (ipykernel)",
   "language": "python",
   "name": "python3"
  },
  "language_info": {
   "codemirror_mode": {
    "name": "ipython",
    "version": 3
   },
   "file_extension": ".py",
   "mimetype": "text/x-python",
   "name": "python",
   "nbconvert_exporter": "python",
   "pygments_lexer": "ipython3",
   "version": "3.8.13"
  },
  "toc": {
   "base_numbering": 1,
   "nav_menu": {},
   "number_sections": true,
   "sideBar": true,
   "skip_h1_title": false,
   "title_cell": "Table of Contents",
   "title_sidebar": "Contents",
   "toc_cell": true,
   "toc_position": {},
   "toc_section_display": true,
   "toc_window_display": true
  }
 },
 "nbformat": 4,
 "nbformat_minor": 5
}
