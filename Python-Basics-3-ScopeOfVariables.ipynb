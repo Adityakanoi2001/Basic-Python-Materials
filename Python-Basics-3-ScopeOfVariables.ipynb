{
 "cells": [
  {
   "cell_type": "markdown",
   "metadata": {
    "toc": true
   },
   "source": [
    "<h1>Table of Contents<span class=\"tocSkip\"></span></h1>\n",
    "<div class=\"toc\"><ul class=\"toc-item\"><li><span><a href=\"#Variables-Scope---LEGB\" data-toc-modified-id=\"Variables-Scope---LEGB-1\"><span class=\"toc-item-num\">1&nbsp;&nbsp;</span>Variables Scope - LEGB</a></span></li><li><span><a href=\"#References\" data-toc-modified-id=\"References-2\"><span class=\"toc-item-num\">2&nbsp;&nbsp;</span>References</a></span><ul class=\"toc-item\"><li><span><a href=\"#L-:-Local-Scope\" data-toc-modified-id=\"L-:-Local-Scope-2.1\"><span class=\"toc-item-num\">2.1&nbsp;&nbsp;</span>L : Local Scope</a></span></li><li><span><a href=\"#E-:-Enclosing-Scope-(nonlocal)\" data-toc-modified-id=\"E-:-Enclosing-Scope-(nonlocal)-2.2\"><span class=\"toc-item-num\">2.2&nbsp;&nbsp;</span>E : Enclosing Scope (nonlocal)</a></span><ul class=\"toc-item\"><li><span><a href=\"#Enclosing-vs-Local\" data-toc-modified-id=\"Enclosing-vs-Local-2.2.1\"><span class=\"toc-item-num\">2.2.1&nbsp;&nbsp;</span>Enclosing vs Local</a></span></li><li><span><a href=\"#Global-vs-Enclosing-vs-Local\" data-toc-modified-id=\"Global-vs-Enclosing-vs-Local-2.2.2\"><span class=\"toc-item-num\">2.2.2&nbsp;&nbsp;</span>Global vs Enclosing vs Local</a></span></li></ul></li><li><span><a href=\"#G-:-Global-Scope-(module)\" data-toc-modified-id=\"G-:-Global-Scope-(module)-2.3\"><span class=\"toc-item-num\">2.3&nbsp;&nbsp;</span>G : Global Scope (module)</a></span><ul class=\"toc-item\"><li><span><a href=\"#Global-vs-Local\" data-toc-modified-id=\"Global-vs-Local-2.3.1\"><span class=\"toc-item-num\">2.3.1&nbsp;&nbsp;</span>Global vs Local</a></span></li></ul></li><li><span><a href=\"#Built-In-Scope\" data-toc-modified-id=\"Built-In-Scope-2.4\"><span class=\"toc-item-num\">2.4&nbsp;&nbsp;</span>Built-In Scope</a></span><ul class=\"toc-item\"><li><span><a href=\"#Global-vs-Built-In\" data-toc-modified-id=\"Global-vs-Built-In-2.4.1\"><span class=\"toc-item-num\">2.4.1&nbsp;&nbsp;</span>Global vs Built-In</a></span></li></ul></li></ul></li></ul></div>"
   ]
  },
  {
   "cell_type": "markdown",
   "metadata": {},
   "source": [
    "# Variables Scope - LEGB\n",
    "In a Programe, Scope of variables determines<br>\n",
    "\n",
    "    • Where the variables can be accessed from\n",
    "    • What values the variables holding in different context\n",
    "\n",
    "`1) Local       : Variables defined with-in a Function`<br>\n",
    "`2) Enclosing   : Variables in Local scope of Enclosing function(Func with Func)`<br>\n",
    "`3) Global      : Variables declared in the Top level of the Module OR mentioned using Global KeyWord`<br>\n",
    "`4) Built-in    : Names that are Pre-Assigned in Python`<br><br>\n",
    "\n",
    "# References\n",
    "https://www.youtube.com/watch?v=QVdf0LgmICw"
   ]
  },
  {
   "cell_type": "markdown",
   "metadata": {},
   "source": [
    "## L : Local Scope\n",
    "    • Variables that will live until the function execution completes\n",
    "    • We cannot refer these variables anymore outside of the function\n",
    "    • If you want to Access these variables use **return**\n",
    "    \n",
    "    • SELF CONTAINED : It will not worry about what outside program doing"
   ]
  },
  {
   "cell_type": "code",
   "execution_count": 1,
   "metadata": {
    "ExecuteTime": {
     "end_time": "2022-09-24T17:08:14.370869Z",
     "start_time": "2022-09-24T17:08:14.351985Z"
    }
   },
   "outputs": [
    {
     "name": "stdout",
     "output_type": "stream",
     "text": [
      "Local Variable Y\n"
     ]
    }
   ],
   "source": [
    "def local_scope():\n",
    "    y = 'Local Variable Y'\n",
    "    print (y)\n",
    "\n",
    "local_scope()"
   ]
  },
  {
   "cell_type": "code",
   "execution_count": 2,
   "metadata": {
    "ExecuteTime": {
     "end_time": "2022-09-24T16:49:46.593310Z",
     "start_time": "2022-09-24T16:49:45.955847Z"
    },
    "deletable": false,
    "editable": false,
    "run_control": {
     "frozen": true
    }
   },
   "outputs": [
    {
     "name": "stdout",
     "output_type": "stream",
     "text": [
      "Local Variable Y\n"
     ]
    },
    {
     "ename": "NameError",
     "evalue": "name 'y' is not defined",
     "output_type": "error",
     "traceback": [
      "\u001b[0;31m---------------------------------------------------------------------------\u001b[0m",
      "\u001b[0;31mNameError\u001b[0m                                 Traceback (most recent call last)",
      "Input \u001b[0;32mIn [2]\u001b[0m, in \u001b[0;36m<cell line: 6>\u001b[0;34m()\u001b[0m\n\u001b[1;32m      3\u001b[0m     \u001b[38;5;28mprint\u001b[39m (y)\n\u001b[1;32m      5\u001b[0m local_scope()\n\u001b[0;32m----> 6\u001b[0m \u001b[38;5;28mprint\u001b[39m (\u001b[43my\u001b[49m)\n",
      "\u001b[0;31mNameError\u001b[0m: name 'y' is not defined"
     ]
    }
   ],
   "source": [
    "def local_scope():\n",
    "    y = 'Local Variable Y'\n",
    "    print (y)\n",
    "\n",
    "local_scope()\n",
    "print (y)         # Could not find as it is only available in local scope"
   ]
  },
  {
   "cell_type": "code",
   "execution_count": 2,
   "metadata": {
    "ExecuteTime": {
     "end_time": "2022-09-24T17:08:14.390620Z",
     "start_time": "2022-09-24T17:08:14.379683Z"
    }
   },
   "outputs": [
    {
     "name": "stdout",
     "output_type": "stream",
     "text": [
      "Local Variable Y - Become Global\n"
     ]
    }
   ],
   "source": [
    "def local_scope():\n",
    "    y = 'Local Variable Y'\n",
    "    return (y)\n",
    "\n",
    "print (local_scope() + ' - Become Global')"
   ]
  },
  {
   "cell_type": "code",
   "execution_count": 3,
   "metadata": {
    "ExecuteTime": {
     "end_time": "2022-09-24T17:08:14.410433Z",
     "start_time": "2022-09-24T17:08:14.404006Z"
    }
   },
   "outputs": [
    {
     "name": "stdout",
     "output_type": "stream",
     "text": [
      "Local Variable Z\n"
     ]
    }
   ],
   "source": [
    "def local_scope(z):\n",
    "    print (z)\n",
    "\n",
    "local_scope('Local Variable Z')"
   ]
  },
  {
   "cell_type": "code",
   "execution_count": 4,
   "metadata": {
    "ExecuteTime": {
     "end_time": "2022-09-24T16:50:03.993453Z",
     "start_time": "2022-09-24T16:50:03.237386Z"
    },
    "deletable": false,
    "editable": false,
    "run_control": {
     "frozen": true
    },
    "scrolled": true
   },
   "outputs": [
    {
     "name": "stdout",
     "output_type": "stream",
     "text": [
      "Local Variable Z\n"
     ]
    },
    {
     "ename": "NameError",
     "evalue": "name 'z' is not defined",
     "output_type": "error",
     "traceback": [
      "\u001b[0;31m---------------------------------------------------------------------------\u001b[0m",
      "\u001b[0;31mNameError\u001b[0m                                 Traceback (most recent call last)",
      "Input \u001b[0;32mIn [4]\u001b[0m, in \u001b[0;36m<cell line: 5>\u001b[0;34m()\u001b[0m\n\u001b[1;32m      2\u001b[0m     \u001b[38;5;28mprint\u001b[39m (z)\n\u001b[1;32m      4\u001b[0m local_scope(\u001b[38;5;124m'\u001b[39m\u001b[38;5;124mLocal Variable Z\u001b[39m\u001b[38;5;124m'\u001b[39m)\n\u001b[0;32m----> 5\u001b[0m \u001b[38;5;28mprint\u001b[39m (\u001b[43mz\u001b[49m)\n",
      "\u001b[0;31mNameError\u001b[0m: name 'z' is not defined"
     ]
    }
   ],
   "source": [
    "def local_scope(z):\n",
    "    print (z)\n",
    "\n",
    "local_scope('Local Variable Z')\n",
    "print (z)"
   ]
  },
  {
   "cell_type": "markdown",
   "metadata": {},
   "source": [
    "## E : Enclosing Scope (nonlocal)\n",
    "    • Enclosing scope is a nested functions\n",
    "    • Variable will always look for local scope if not found go for Enclosing scope\n",
    "    • Similar to Global and Local"
   ]
  },
  {
   "cell_type": "code",
   "execution_count": 4,
   "metadata": {
    "ExecuteTime": {
     "end_time": "2022-09-24T17:08:14.427278Z",
     "start_time": "2022-09-24T17:08:14.420100Z"
    }
   },
   "outputs": [
    {
     "name": "stdout",
     "output_type": "stream",
     "text": [
      "inner func x\n",
      "outer func x\n"
     ]
    }
   ],
   "source": [
    "def outer():\n",
    "    x = 'outer func x'\n",
    "  \n",
    "    def inner():\n",
    "        x = 'inner func x'\n",
    "        print (x)\n",
    "    \n",
    "    inner()\n",
    "    print(x)\n",
    "\n",
    "outer()"
   ]
  },
  {
   "cell_type": "markdown",
   "metadata": {},
   "source": [
    "### Enclosing vs Local"
   ]
  },
  {
   "cell_type": "code",
   "execution_count": 5,
   "metadata": {
    "ExecuteTime": {
     "end_time": "2022-09-24T17:08:14.442683Z",
     "start_time": "2022-09-24T17:08:14.432311Z"
    }
   },
   "outputs": [
    {
     "name": "stdout",
     "output_type": "stream",
     "text": [
      "outer func x\n",
      "outer func x\n"
     ]
    }
   ],
   "source": [
    "def outer():\n",
    "    x = 'outer func x'\n",
    "  \n",
    "    def inner():\n",
    "        #x = 'inner func x'\n",
    "        print (x)\n",
    "    \n",
    "    inner()\n",
    "    print(x)\n",
    "\n",
    "outer()"
   ]
  },
  {
   "cell_type": "code",
   "execution_count": 7,
   "metadata": {
    "ExecuteTime": {
     "end_time": "2022-09-24T16:53:48.759233Z",
     "start_time": "2022-09-24T16:53:48.670910Z"
    },
    "deletable": false,
    "editable": false,
    "run_control": {
     "frozen": true
    }
   },
   "outputs": [
    {
     "name": "stdout",
     "output_type": "stream",
     "text": [
      "inner func x\n"
     ]
    },
    {
     "ename": "NameError",
     "evalue": "name 'x' is not defined",
     "output_type": "error",
     "traceback": [
      "\u001b[0;31m---------------------------------------------------------------------------\u001b[0m",
      "\u001b[0;31mNameError\u001b[0m                                 Traceback (most recent call last)",
      "Input \u001b[0;32mIn [7]\u001b[0m, in \u001b[0;36m<cell line: 11>\u001b[0;34m()\u001b[0m\n\u001b[1;32m      8\u001b[0m     inner()\n\u001b[1;32m      9\u001b[0m     \u001b[38;5;28mprint\u001b[39m(x)\n\u001b[0;32m---> 11\u001b[0m \u001b[43mouter\u001b[49m\u001b[43m(\u001b[49m\u001b[43m)\u001b[49m\n",
      "Input \u001b[0;32mIn [7]\u001b[0m, in \u001b[0;36mouter\u001b[0;34m()\u001b[0m\n\u001b[1;32m      6\u001b[0m     \u001b[38;5;28mprint\u001b[39m (x)\n\u001b[1;32m      8\u001b[0m inner()\n\u001b[0;32m----> 9\u001b[0m \u001b[38;5;28mprint\u001b[39m(\u001b[43mx\u001b[49m)\n",
      "\u001b[0;31mNameError\u001b[0m: name 'x' is not defined"
     ]
    }
   ],
   "source": [
    "def outer():\n",
    "    #x = 'outer func x'\n",
    "  \n",
    "    def inner():\n",
    "        x = 'inner func x'\n",
    "        print (x)\n",
    "    \n",
    "    inner()\n",
    "    print(x)\n",
    "\n",
    "outer()"
   ]
  },
  {
   "cell_type": "code",
   "execution_count": 6,
   "metadata": {
    "ExecuteTime": {
     "end_time": "2022-09-24T17:08:14.463760Z",
     "start_time": "2022-09-24T17:08:14.453594Z"
    }
   },
   "outputs": [
    {
     "name": "stdout",
     "output_type": "stream",
     "text": [
      "inner func x\n",
      "inner func x\n"
     ]
    }
   ],
   "source": [
    "def outer():\n",
    "    x = 'outer func x'\n",
    "  \n",
    "    def inner():\n",
    "        nonlocal x\n",
    "        x = 'inner func x'\n",
    "        print (x)\n",
    "    \n",
    "    inner()\n",
    "    print(x)\n",
    "\n",
    "outer()"
   ]
  },
  {
   "cell_type": "markdown",
   "metadata": {},
   "source": [
    "### Global vs Enclosing vs Local"
   ]
  },
  {
   "cell_type": "code",
   "execution_count": 7,
   "metadata": {
    "ExecuteTime": {
     "end_time": "2022-09-24T17:08:14.477685Z",
     "start_time": "2022-09-24T17:08:14.470678Z"
    }
   },
   "outputs": [
    {
     "name": "stdout",
     "output_type": "stream",
     "text": [
      "inner func x\n",
      "outer func x\n",
      "Global Variabe X\n"
     ]
    }
   ],
   "source": [
    "x = 'Global Variabe X'\n",
    "\n",
    "def outer():\n",
    "    x = 'outer func x'\n",
    "  \n",
    "    def inner():\n",
    "        x = 'inner func x'\n",
    "        print (x)\n",
    "    \n",
    "    inner()\n",
    "    print(x)\n",
    "\n",
    "outer()\n",
    "print(x)"
   ]
  },
  {
   "cell_type": "code",
   "execution_count": 8,
   "metadata": {
    "ExecuteTime": {
     "end_time": "2022-09-24T17:08:14.490078Z",
     "start_time": "2022-09-24T17:08:14.482802Z"
    }
   },
   "outputs": [
    {
     "name": "stdout",
     "output_type": "stream",
     "text": [
      "inner func x\n",
      "Global Variabe X\n",
      "Global Variabe X\n"
     ]
    }
   ],
   "source": [
    "x = 'Global Variabe X'\n",
    "\n",
    "def outer():\n",
    "    #x = 'outer func x'\n",
    "  \n",
    "    def inner():\n",
    "        x = 'inner func x'\n",
    "        print (x)\n",
    "    \n",
    "    inner()\n",
    "    print(x)\n",
    "\n",
    "outer()\n",
    "print(x)"
   ]
  },
  {
   "cell_type": "code",
   "execution_count": 9,
   "metadata": {
    "ExecuteTime": {
     "end_time": "2022-09-24T17:08:14.500653Z",
     "start_time": "2022-09-24T17:08:14.494466Z"
    }
   },
   "outputs": [
    {
     "name": "stdout",
     "output_type": "stream",
     "text": [
      "Global Variabe X\n",
      "Global Variabe X\n",
      "Global Variabe X\n"
     ]
    }
   ],
   "source": [
    "x = 'Global Variabe X'\n",
    "\n",
    "def outer():\n",
    "    #x = 'outer func x'\n",
    "  \n",
    "    def inner():\n",
    "        #x = 'inner func x'\n",
    "        print (x)\n",
    "    \n",
    "    inner()\n",
    "    print(x)\n",
    "\n",
    "outer()\n",
    "print(x)"
   ]
  },
  {
   "cell_type": "code",
   "execution_count": 10,
   "metadata": {
    "ExecuteTime": {
     "end_time": "2022-09-24T17:08:14.546954Z",
     "start_time": "2022-09-24T17:08:14.532254Z"
    }
   },
   "outputs": [
    {
     "name": "stdout",
     "output_type": "stream",
     "text": [
      "inner func x\n",
      "outer func x\n",
      "outer func x\n"
     ]
    }
   ],
   "source": [
    "x = 'Global Variabe X'\n",
    "\n",
    "def outer():\n",
    "    global x\n",
    "    x = 'outer func x'\n",
    "    # At this point no Enclosing x\n",
    "  \n",
    "    def inner():\n",
    "        # nonlocal x\n",
    "        # So, nonlocal x cannot refer enclosing x\n",
    "        x = 'inner func x'\n",
    "        print (x)\n",
    "    \n",
    "    inner()\n",
    "    print(x)\n",
    "\n",
    "outer()\n",
    "print(x)"
   ]
  },
  {
   "cell_type": "code",
   "execution_count": 11,
   "metadata": {
    "ExecuteTime": {
     "end_time": "2022-09-24T17:08:14.564200Z",
     "start_time": "2022-09-24T17:08:14.555929Z"
    }
   },
   "outputs": [
    {
     "name": "stdout",
     "output_type": "stream",
     "text": [
      "inner func x\n",
      "inner func x\n",
      "Global Variabe X\n"
     ]
    }
   ],
   "source": [
    "x = 'Global Variabe X'\n",
    "\n",
    "def outer():\n",
    "    #global x\n",
    "    x = 'outer func x'\n",
    "  \n",
    "    def inner():\n",
    "        nonlocal x\n",
    "        x = 'inner func x'\n",
    "        print (x)\n",
    "    \n",
    "    inner()\n",
    "    print(x)\n",
    "\n",
    "outer()\n",
    "print(x)"
   ]
  },
  {
   "cell_type": "code",
   "execution_count": 1,
   "metadata": {
    "ExecuteTime": {
     "end_time": "2022-09-24T17:41:03.936663Z",
     "start_time": "2022-09-24T17:41:03.916185Z"
    },
    "deletable": false,
    "editable": false,
    "run_control": {
     "frozen": true
    }
   },
   "outputs": [
    {
     "ename": "SyntaxError",
     "evalue": "no binding for nonlocal 'x' found (4140025786.py, line 8)",
     "output_type": "error",
     "traceback": [
      "\u001b[0;36m  Input \u001b[0;32mIn [1]\u001b[0;36m\u001b[0m\n\u001b[0;31m    nonlocal x\u001b[0m\n\u001b[0m    ^\u001b[0m\n\u001b[0;31mSyntaxError\u001b[0m\u001b[0;31m:\u001b[0m no binding for nonlocal 'x' found\n"
     ]
    }
   ],
   "source": [
    "x = 'Global Variabe X'\n",
    "\n",
    "def outer():\n",
    "    global x\n",
    "    x = 'outer func x'\n",
    "  \n",
    "    def inner():\n",
    "        nonlocal x\n",
    "        x = 'inner func x'\n",
    "        print (x)\n",
    "    \n",
    "    inner()\n",
    "    print(x)\n",
    "\n",
    "outer()"
   ]
  },
  {
   "cell_type": "markdown",
   "metadata": {},
   "source": [
    "## G : Global Scope (module)\n",
    "    • Global Variables are defined for the whole program or module\n",
    "    • If a function variables having same variable name with global, it will act in local scope\n",
    "    • Global scope will never affect other scope until global keyword is used\n",
    "    • Should not use global keyword more often\n",
    "    \n",
    "    • It will not worry about what functions are doing - Until global keyword"
   ]
  },
  {
   "cell_type": "code",
   "execution_count": 12,
   "metadata": {
    "ExecuteTime": {
     "end_time": "2022-09-24T17:08:14.590336Z",
     "start_time": "2022-09-24T17:08:14.571845Z"
    }
   },
   "outputs": [
    {
     "name": "stdout",
     "output_type": "stream",
     "text": [
      "Global Variable X\n",
      "Local Variable Y\n"
     ]
    }
   ],
   "source": [
    "x = 'Global Variable X'\n",
    "\n",
    "def local_scope():\n",
    "    y = 'Local Variable Y'\n",
    "    print (y)\n",
    "\n",
    "print (x)\n",
    "local_scope()"
   ]
  },
  {
   "cell_type": "code",
   "execution_count": 13,
   "metadata": {
    "ExecuteTime": {
     "end_time": "2022-09-24T17:08:14.631961Z",
     "start_time": "2022-09-24T17:08:14.609579Z"
    }
   },
   "outputs": [
    {
     "name": "stdout",
     "output_type": "stream",
     "text": [
      "Global Variable X\n",
      "Global Variable X\n",
      "Local Variable Y\n"
     ]
    }
   ],
   "source": [
    "x = 'Global Variable X'\n",
    "\n",
    "def local_scope():\n",
    "    y = 'Local Variable Y'\n",
    "    print (x)\n",
    "    print (y)\n",
    "\n",
    "print (x)\n",
    "local_scope()"
   ]
  },
  {
   "cell_type": "code",
   "execution_count": 24,
   "metadata": {
    "ExecuteTime": {
     "end_time": "2022-09-24T17:08:43.458121Z",
     "start_time": "2022-09-24T17:08:43.407391Z"
    },
    "scrolled": false
   },
   "outputs": [
    {
     "name": "stdout",
     "output_type": "stream",
     "text": [
      "Global Variable X\n",
      "Global Variable X\n",
      "Local Variable Y\n",
      "{'In': ['',\n",
      "        'def local_scope():\\n'\n",
      "        \"    y = 'Local Variable Y'\\n\"\n",
      "        '    print (y)\\n'\n",
      "        '\\n'\n",
      "        'local_scope()',\n",
      "        'def local_scope():\\n'\n",
      "        \"    y = 'Local Variable Y'\\n\"\n",
      "        '    return (y)\\n'\n",
      "        '\\n'\n",
      "        \"print (local_scope() + ' - Become Global')\",\n",
      "        \"def local_scope(z):\\n    print (z)\\n\\nlocal_scope('Local Variable Z')\",\n",
      "        'def outer():\\n'\n",
      "        \"    x = 'outer func x'\\n\"\n",
      "        '  \\n'\n",
      "        '    def inner():\\n'\n",
      "        \"        x = 'inner func x'\\n\"\n",
      "        '        print (x)\\n'\n",
      "        '    \\n'\n",
      "        '    inner()\\n'\n",
      "        '    print(x)\\n'\n",
      "        '\\n'\n",
      "        'outer()',\n",
      "        'def outer():\\n'\n",
      "        \"    x = 'outer func x'\\n\"\n",
      "        '  \\n'\n",
      "        '    def inner():\\n'\n",
      "        \"        #x = 'inner func x'\\n\"\n",
      "        '        print (x)\\n'\n",
      "        '    \\n'\n",
      "        '    inner()\\n'\n",
      "        '    print(x)\\n'\n",
      "        '\\n'\n",
      "        'outer()',\n",
      "        'def outer():\\n'\n",
      "        \"    x = 'outer func x'\\n\"\n",
      "        '  \\n'\n",
      "        '    def inner():\\n'\n",
      "        '        nonlocal x\\n'\n",
      "        \"        x = 'inner func x'\\n\"\n",
      "        '        print (x)\\n'\n",
      "        '    \\n'\n",
      "        '    inner()\\n'\n",
      "        '    print(x)\\n'\n",
      "        '\\n'\n",
      "        'outer()',\n",
      "        \"x = 'Global Variabe X'\\n\"\n",
      "        '\\n'\n",
      "        'def outer():\\n'\n",
      "        \"    x = 'outer func x'\\n\"\n",
      "        '  \\n'\n",
      "        '    def inner():\\n'\n",
      "        \"        x = 'inner func x'\\n\"\n",
      "        '        print (x)\\n'\n",
      "        '    \\n'\n",
      "        '    inner()\\n'\n",
      "        '    print(x)\\n'\n",
      "        '\\n'\n",
      "        'outer()\\n'\n",
      "        'print(x)',\n",
      "        \"x = 'Global Variabe X'\\n\"\n",
      "        '\\n'\n",
      "        'def outer():\\n'\n",
      "        \"    #x = 'outer func x'\\n\"\n",
      "        '  \\n'\n",
      "        '    def inner():\\n'\n",
      "        \"        x = 'inner func x'\\n\"\n",
      "        '        print (x)\\n'\n",
      "        '    \\n'\n",
      "        '    inner()\\n'\n",
      "        '    print(x)\\n'\n",
      "        '\\n'\n",
      "        'outer()\\n'\n",
      "        'print(x)',\n",
      "        \"x = 'Global Variabe X'\\n\"\n",
      "        '\\n'\n",
      "        'def outer():\\n'\n",
      "        \"    #x = 'outer func x'\\n\"\n",
      "        '  \\n'\n",
      "        '    def inner():\\n'\n",
      "        \"        #x = 'inner func x'\\n\"\n",
      "        '        print (x)\\n'\n",
      "        '    \\n'\n",
      "        '    inner()\\n'\n",
      "        '    print(x)\\n'\n",
      "        '\\n'\n",
      "        'outer()\\n'\n",
      "        'print(x)',\n",
      "        \"x = 'Global Variabe X'\\n\"\n",
      "        '\\n'\n",
      "        'def outer():\\n'\n",
      "        '    global x\\n'\n",
      "        \"    x = 'outer func x'\\n\"\n",
      "        '    # At this point no Enclosing x\\n'\n",
      "        '  \\n'\n",
      "        '    def inner():\\n'\n",
      "        '        # nonlocal x\\n'\n",
      "        '        # So, nonlocal x cannot refer enclosing x\\n'\n",
      "        \"        x = 'inner func x'\\n\"\n",
      "        '        print (x)\\n'\n",
      "        '    \\n'\n",
      "        '    inner()\\n'\n",
      "        '    print(x)\\n'\n",
      "        '\\n'\n",
      "        'outer()\\n'\n",
      "        'print(x)',\n",
      "        \"x = 'Global Variabe X'\\n\"\n",
      "        '\\n'\n",
      "        'def outer():\\n'\n",
      "        '    #global x\\n'\n",
      "        \"    x = 'outer func x'\\n\"\n",
      "        '  \\n'\n",
      "        '    def inner():\\n'\n",
      "        '        nonlocal x\\n'\n",
      "        \"        x = 'inner func x'\\n\"\n",
      "        '        print (x)\\n'\n",
      "        '    \\n'\n",
      "        '    inner()\\n'\n",
      "        '    print(x)\\n'\n",
      "        '\\n'\n",
      "        'outer()\\n'\n",
      "        'print(x)',\n",
      "        \"x = 'Global Variable X'\\n\"\n",
      "        '\\n'\n",
      "        'def local_scope():\\n'\n",
      "        \"    y = 'Local Variable Y'\\n\"\n",
      "        '    print (y)\\n'\n",
      "        '\\n'\n",
      "        'print (x)\\n'\n",
      "        'local_scope()',\n",
      "        \"x = 'Global Variable X'\\n\"\n",
      "        '\\n'\n",
      "        'def local_scope():\\n'\n",
      "        \"    y = 'Local Variable Y'\\n\"\n",
      "        '    print (x)\\n'\n",
      "        '    print (y)\\n'\n",
      "        '\\n'\n",
      "        'print (x)\\n'\n",
      "        'local_scope()',\n",
      "        'import pprint\\n'\n",
      "        \"x = 'Global Variable X'\\n\"\n",
      "        '\\n'\n",
      "        'def local_scope():\\n'\n",
      "        \"    y = 'Local Variable Y'\\n\"\n",
      "        '    print (x)\\n'\n",
      "        '    print (y)\\n'\n",
      "        '    pprint.pprint(dict(globals()), width = 1)\\n'\n",
      "        '\\n'\n",
      "        'print (x)\\n'\n",
      "        'local_scope()',\n",
      "        \"x = 'Global Variable X'\\n\"\n",
      "        '\\n'\n",
      "        'def local_scope():\\n'\n",
      "        \"    x = 'Local Variable Y'\\n\"\n",
      "        '    print (x)\\n'\n",
      "        '\\n'\n",
      "        'local_scope()\\n'\n",
      "        'print (x)',\n",
      "        \"x = 'Global Variable X'\\n\"\n",
      "        '\\n'\n",
      "        'def local_scope():\\n'\n",
      "        '    global x\\n'\n",
      "        \"    x = 'Local Variable Y'\\n\"\n",
      "        '    print (x)\\n'\n",
      "        '\\n'\n",
      "        'local_scope()\\n'\n",
      "        'print (x)',\n",
      "        'def local_scope():\\n'\n",
      "        '    global x\\n'\n",
      "        \"    x = 'Local Variable Y'\\n\"\n",
      "        '    print (x)\\n'\n",
      "        '\\n'\n",
      "        \"x = 'Global Variable X'\\n\"\n",
      "        '\\n'\n",
      "        'local_scope()\\n'\n",
      "        'print (x)',\n",
      "        'def local_scope():\\n'\n",
      "        '    global x\\n'\n",
      "        \"    x = 'Local Variable Y'\\n\"\n",
      "        '    print (x)\\n'\n",
      "        '\\n'\n",
      "        'local_scope()\\n'\n",
      "        '\\n'\n",
      "        \"x = 'Global Variable X'\\n\"\n",
      "        'print (x)',\n",
      "        'import builtins\\n\\nprint(dir(builtins))',\n",
      "        'm = min([5,4,3,2,1])\\nprint (m)',\n",
      "        'def min(x):\\n    print (x)\\n\\nm = min([5,4,3,2,1])',\n",
      "        '#Restart kernal\\ndel min',\n",
      "        'def my_min(x):\\n    print (x)\\n\\nm = min([5,4,3,2,1])\\nprint (m)',\n",
      "        'import pprint\\n'\n",
      "        \"x = 'Global Variable X'\\n\"\n",
      "        '\\n'\n",
      "        'def local_scope():\\n'\n",
      "        \"    y = 'Local Variable Y'\\n\"\n",
      "        '    print (x)\\n'\n",
      "        '    print (y)\\n'\n",
      "        '    pprint.pprint(dict(globals()))\\n'\n",
      "        '\\n'\n",
      "        'print (x)\\n'\n",
      "        'local_scope()'],\n",
      " 'Out': {},\n",
      " '_': '',\n",
      " '__': '',\n",
      " '___': '',\n",
      " '__builtin__': <module 'builtins' (built-in)>,\n",
      " '__builtins__': <module 'builtins' (built-in)>,\n",
      " '__doc__': 'Automatically created module for IPython interactive environment',\n",
      " '__loader__': None,\n",
      " '__name__': '__main__',\n",
      " '__package__': None,\n",
      " '__spec__': None,\n",
      " '_dh': [PosixPath('/Users/dhivyamalathirajasekaran/PycharmProjects/MLProjects/PythonMaterials')],\n",
      " '_i': 'def my_min(x):\\n    print (x)\\n\\nm = min([5,4,3,2,1])\\nprint (m)',\n",
      " '_i1': 'def local_scope():\\n'\n",
      "        \"    y = 'Local Variable Y'\\n\"\n",
      "        '    print (y)\\n'\n",
      "        '\\n'\n",
      "        'local_scope()',\n",
      " '_i10': \"x = 'Global Variabe X'\\n\"\n",
      "         '\\n'\n",
      "         'def outer():\\n'\n",
      "         '    global x\\n'\n",
      "         \"    x = 'outer func x'\\n\"\n",
      "         '    # At this point no Enclosing x\\n'\n",
      "         '  \\n'\n",
      "         '    def inner():\\n'\n",
      "         '        # nonlocal x\\n'\n",
      "         '        # So, nonlocal x cannot refer enclosing x\\n'\n",
      "         \"        x = 'inner func x'\\n\"\n",
      "         '        print (x)\\n'\n",
      "         '    \\n'\n",
      "         '    inner()\\n'\n",
      "         '    print(x)\\n'\n",
      "         '\\n'\n",
      "         'outer()\\n'\n",
      "         'print(x)',\n",
      " '_i11': \"x = 'Global Variabe X'\\n\"\n",
      "         '\\n'\n",
      "         'def outer():\\n'\n",
      "         '    #global x\\n'\n",
      "         \"    x = 'outer func x'\\n\"\n",
      "         '  \\n'\n",
      "         '    def inner():\\n'\n",
      "         '        nonlocal x\\n'\n",
      "         \"        x = 'inner func x'\\n\"\n",
      "         '        print (x)\\n'\n",
      "         '    \\n'\n",
      "         '    inner()\\n'\n",
      "         '    print(x)\\n'\n",
      "         '\\n'\n",
      "         'outer()\\n'\n",
      "         'print(x)',\n",
      " '_i12': \"x = 'Global Variable X'\\n\"\n",
      "         '\\n'\n",
      "         'def local_scope():\\n'\n",
      "         \"    y = 'Local Variable Y'\\n\"\n",
      "         '    print (y)\\n'\n",
      "         '\\n'\n",
      "         'print (x)\\n'\n",
      "         'local_scope()',\n",
      " '_i13': \"x = 'Global Variable X'\\n\"\n",
      "         '\\n'\n",
      "         'def local_scope():\\n'\n",
      "         \"    y = 'Local Variable Y'\\n\"\n",
      "         '    print (x)\\n'\n",
      "         '    print (y)\\n'\n",
      "         '\\n'\n",
      "         'print (x)\\n'\n",
      "         'local_scope()',\n",
      " '_i14': 'import pprint\\n'\n",
      "         \"x = 'Global Variable X'\\n\"\n",
      "         '\\n'\n",
      "         'def local_scope():\\n'\n",
      "         \"    y = 'Local Variable Y'\\n\"\n",
      "         '    print (x)\\n'\n",
      "         '    print (y)\\n'\n",
      "         '    pprint.pprint(dict(globals()), width = 1)\\n'\n",
      "         '\\n'\n",
      "         'print (x)\\n'\n",
      "         'local_scope()',\n",
      " '_i15': \"x = 'Global Variable X'\\n\"\n",
      "         '\\n'\n",
      "         'def local_scope():\\n'\n",
      "         \"    x = 'Local Variable Y'\\n\"\n",
      "         '    print (x)\\n'\n",
      "         '\\n'\n",
      "         'local_scope()\\n'\n",
      "         'print (x)',\n",
      " '_i16': \"x = 'Global Variable X'\\n\"\n",
      "         '\\n'\n",
      "         'def local_scope():\\n'\n",
      "         '    global x\\n'\n",
      "         \"    x = 'Local Variable Y'\\n\"\n",
      "         '    print (x)\\n'\n",
      "         '\\n'\n",
      "         'local_scope()\\n'\n",
      "         'print (x)',\n",
      " '_i17': 'def local_scope():\\n'\n",
      "         '    global x\\n'\n",
      "         \"    x = 'Local Variable Y'\\n\"\n",
      "         '    print (x)\\n'\n",
      "         '\\n'\n",
      "         \"x = 'Global Variable X'\\n\"\n",
      "         '\\n'\n",
      "         'local_scope()\\n'\n",
      "         'print (x)',\n",
      " '_i18': 'def local_scope():\\n'\n",
      "         '    global x\\n'\n",
      "         \"    x = 'Local Variable Y'\\n\"\n",
      "         '    print (x)\\n'\n",
      "         '\\n'\n",
      "         'local_scope()\\n'\n",
      "         '\\n'\n",
      "         \"x = 'Global Variable X'\\n\"\n",
      "         'print (x)',\n",
      " '_i19': 'import builtins\\n\\nprint(dir(builtins))',\n",
      " '_i2': 'def local_scope():\\n'\n",
      "        \"    y = 'Local Variable Y'\\n\"\n",
      "        '    return (y)\\n'\n",
      "        '\\n'\n",
      "        \"print (local_scope() + ' - Become Global')\",\n",
      " '_i20': 'm = min([5,4,3,2,1])\\nprint (m)',\n",
      " '_i21': 'def min(x):\\n    print (x)\\n\\nm = min([5,4,3,2,1])',\n",
      " '_i22': '#Restart kernal\\ndel min',\n",
      " '_i23': 'def my_min(x):\\n    print (x)\\n\\nm = min([5,4,3,2,1])\\nprint (m)',\n",
      " '_i24': 'import pprint\\n'\n",
      "         \"x = 'Global Variable X'\\n\"\n",
      "         '\\n'\n",
      "         'def local_scope():\\n'\n",
      "         \"    y = 'Local Variable Y'\\n\"\n",
      "         '    print (x)\\n'\n",
      "         '    print (y)\\n'\n",
      "         '    pprint.pprint(dict(globals()))\\n'\n",
      "         '\\n'\n",
      "         'print (x)\\n'\n",
      "         'local_scope()',\n",
      " '_i3': \"def local_scope(z):\\n    print (z)\\n\\nlocal_scope('Local Variable Z')\",\n",
      " '_i4': 'def outer():\\n'\n",
      "        \"    x = 'outer func x'\\n\"\n",
      "        '  \\n'\n",
      "        '    def inner():\\n'\n",
      "        \"        x = 'inner func x'\\n\"\n",
      "        '        print (x)\\n'\n",
      "        '    \\n'\n",
      "        '    inner()\\n'\n",
      "        '    print(x)\\n'\n",
      "        '\\n'\n",
      "        'outer()',\n",
      " '_i5': 'def outer():\\n'\n",
      "        \"    x = 'outer func x'\\n\"\n",
      "        '  \\n'\n",
      "        '    def inner():\\n'\n",
      "        \"        #x = 'inner func x'\\n\"\n",
      "        '        print (x)\\n'\n",
      "        '    \\n'\n",
      "        '    inner()\\n'\n",
      "        '    print(x)\\n'\n",
      "        '\\n'\n",
      "        'outer()',\n",
      " '_i6': 'def outer():\\n'\n",
      "        \"    x = 'outer func x'\\n\"\n",
      "        '  \\n'\n",
      "        '    def inner():\\n'\n",
      "        '        nonlocal x\\n'\n",
      "        \"        x = 'inner func x'\\n\"\n",
      "        '        print (x)\\n'\n",
      "        '    \\n'\n",
      "        '    inner()\\n'\n",
      "        '    print(x)\\n'\n",
      "        '\\n'\n",
      "        'outer()',\n",
      " '_i7': \"x = 'Global Variabe X'\\n\"\n",
      "        '\\n'\n",
      "        'def outer():\\n'\n",
      "        \"    x = 'outer func x'\\n\"\n",
      "        '  \\n'\n",
      "        '    def inner():\\n'\n",
      "        \"        x = 'inner func x'\\n\"\n",
      "        '        print (x)\\n'\n",
      "        '    \\n'\n",
      "        '    inner()\\n'\n",
      "        '    print(x)\\n'\n",
      "        '\\n'\n",
      "        'outer()\\n'\n",
      "        'print(x)',\n",
      " '_i8': \"x = 'Global Variabe X'\\n\"\n",
      "        '\\n'\n",
      "        'def outer():\\n'\n",
      "        \"    #x = 'outer func x'\\n\"\n",
      "        '  \\n'\n",
      "        '    def inner():\\n'\n",
      "        \"        x = 'inner func x'\\n\"\n",
      "        '        print (x)\\n'\n",
      "        '    \\n'\n",
      "        '    inner()\\n'\n",
      "        '    print(x)\\n'\n",
      "        '\\n'\n",
      "        'outer()\\n'\n",
      "        'print(x)',\n",
      " '_i9': \"x = 'Global Variabe X'\\n\"\n",
      "        '\\n'\n",
      "        'def outer():\\n'\n",
      "        \"    #x = 'outer func x'\\n\"\n",
      "        '  \\n'\n",
      "        '    def inner():\\n'\n",
      "        \"        #x = 'inner func x'\\n\"\n",
      "        '        print (x)\\n'\n",
      "        '    \\n'\n",
      "        '    inner()\\n'\n",
      "        '    print(x)\\n'\n",
      "        '\\n'\n",
      "        'outer()\\n'\n",
      "        'print(x)',\n",
      " '_ih': ['',\n",
      "         'def local_scope():\\n'\n",
      "         \"    y = 'Local Variable Y'\\n\"\n",
      "         '    print (y)\\n'\n",
      "         '\\n'\n",
      "         'local_scope()',\n",
      "         'def local_scope():\\n'\n",
      "         \"    y = 'Local Variable Y'\\n\"\n",
      "         '    return (y)\\n'\n",
      "         '\\n'\n",
      "         \"print (local_scope() + ' - Become Global')\",\n",
      "         'def local_scope(z):\\n'\n",
      "         '    print (z)\\n'\n",
      "         '\\n'\n",
      "         \"local_scope('Local Variable Z')\",\n",
      "         'def outer():\\n'\n",
      "         \"    x = 'outer func x'\\n\"\n",
      "         '  \\n'\n",
      "         '    def inner():\\n'\n",
      "         \"        x = 'inner func x'\\n\"\n",
      "         '        print (x)\\n'\n",
      "         '    \\n'\n",
      "         '    inner()\\n'\n",
      "         '    print(x)\\n'\n",
      "         '\\n'\n",
      "         'outer()',\n",
      "         'def outer():\\n'\n",
      "         \"    x = 'outer func x'\\n\"\n",
      "         '  \\n'\n",
      "         '    def inner():\\n'\n",
      "         \"        #x = 'inner func x'\\n\"\n",
      "         '        print (x)\\n'\n",
      "         '    \\n'\n",
      "         '    inner()\\n'\n",
      "         '    print(x)\\n'\n",
      "         '\\n'\n",
      "         'outer()',\n",
      "         'def outer():\\n'\n",
      "         \"    x = 'outer func x'\\n\"\n",
      "         '  \\n'\n",
      "         '    def inner():\\n'\n",
      "         '        nonlocal x\\n'\n",
      "         \"        x = 'inner func x'\\n\"\n",
      "         '        print (x)\\n'\n",
      "         '    \\n'\n",
      "         '    inner()\\n'\n",
      "         '    print(x)\\n'\n",
      "         '\\n'\n",
      "         'outer()',\n",
      "         \"x = 'Global Variabe X'\\n\"\n",
      "         '\\n'\n",
      "         'def outer():\\n'\n",
      "         \"    x = 'outer func x'\\n\"\n",
      "         '  \\n'\n",
      "         '    def inner():\\n'\n",
      "         \"        x = 'inner func x'\\n\"\n",
      "         '        print (x)\\n'\n",
      "         '    \\n'\n",
      "         '    inner()\\n'\n",
      "         '    print(x)\\n'\n",
      "         '\\n'\n",
      "         'outer()\\n'\n",
      "         'print(x)',\n",
      "         \"x = 'Global Variabe X'\\n\"\n",
      "         '\\n'\n",
      "         'def outer():\\n'\n",
      "         \"    #x = 'outer func x'\\n\"\n",
      "         '  \\n'\n",
      "         '    def inner():\\n'\n",
      "         \"        x = 'inner func x'\\n\"\n",
      "         '        print (x)\\n'\n",
      "         '    \\n'\n",
      "         '    inner()\\n'\n",
      "         '    print(x)\\n'\n",
      "         '\\n'\n",
      "         'outer()\\n'\n",
      "         'print(x)',\n",
      "         \"x = 'Global Variabe X'\\n\"\n",
      "         '\\n'\n",
      "         'def outer():\\n'\n",
      "         \"    #x = 'outer func x'\\n\"\n",
      "         '  \\n'\n",
      "         '    def inner():\\n'\n",
      "         \"        #x = 'inner func x'\\n\"\n",
      "         '        print (x)\\n'\n",
      "         '    \\n'\n",
      "         '    inner()\\n'\n",
      "         '    print(x)\\n'\n",
      "         '\\n'\n",
      "         'outer()\\n'\n",
      "         'print(x)',\n",
      "         \"x = 'Global Variabe X'\\n\"\n",
      "         '\\n'\n",
      "         'def outer():\\n'\n",
      "         '    global x\\n'\n",
      "         \"    x = 'outer func x'\\n\"\n",
      "         '    # At this point no Enclosing x\\n'\n",
      "         '  \\n'\n",
      "         '    def inner():\\n'\n",
      "         '        # nonlocal x\\n'\n",
      "         '        # So, nonlocal x cannot refer enclosing x\\n'\n",
      "         \"        x = 'inner func x'\\n\"\n",
      "         '        print (x)\\n'\n",
      "         '    \\n'\n",
      "         '    inner()\\n'\n",
      "         '    print(x)\\n'\n",
      "         '\\n'\n",
      "         'outer()\\n'\n",
      "         'print(x)',\n",
      "         \"x = 'Global Variabe X'\\n\"\n",
      "         '\\n'\n",
      "         'def outer():\\n'\n",
      "         '    #global x\\n'\n",
      "         \"    x = 'outer func x'\\n\"\n",
      "         '  \\n'\n",
      "         '    def inner():\\n'\n",
      "         '        nonlocal x\\n'\n",
      "         \"        x = 'inner func x'\\n\"\n",
      "         '        print (x)\\n'\n",
      "         '    \\n'\n",
      "         '    inner()\\n'\n",
      "         '    print(x)\\n'\n",
      "         '\\n'\n",
      "         'outer()\\n'\n",
      "         'print(x)',\n",
      "         \"x = 'Global Variable X'\\n\"\n",
      "         '\\n'\n",
      "         'def local_scope():\\n'\n",
      "         \"    y = 'Local Variable Y'\\n\"\n",
      "         '    print (y)\\n'\n",
      "         '\\n'\n",
      "         'print (x)\\n'\n",
      "         'local_scope()',\n",
      "         \"x = 'Global Variable X'\\n\"\n",
      "         '\\n'\n",
      "         'def local_scope():\\n'\n",
      "         \"    y = 'Local Variable Y'\\n\"\n",
      "         '    print (x)\\n'\n",
      "         '    print (y)\\n'\n",
      "         '\\n'\n",
      "         'print (x)\\n'\n",
      "         'local_scope()',\n",
      "         'import pprint\\n'\n",
      "         \"x = 'Global Variable X'\\n\"\n",
      "         '\\n'\n",
      "         'def local_scope():\\n'\n",
      "         \"    y = 'Local Variable Y'\\n\"\n",
      "         '    print (x)\\n'\n",
      "         '    print (y)\\n'\n",
      "         '    pprint.pprint(dict(globals()), width = 1)\\n'\n",
      "         '\\n'\n",
      "         'print (x)\\n'\n",
      "         'local_scope()',\n",
      "         \"x = 'Global Variable X'\\n\"\n",
      "         '\\n'\n",
      "         'def local_scope():\\n'\n",
      "         \"    x = 'Local Variable Y'\\n\"\n",
      "         '    print (x)\\n'\n",
      "         '\\n'\n",
      "         'local_scope()\\n'\n",
      "         'print (x)',\n",
      "         \"x = 'Global Variable X'\\n\"\n",
      "         '\\n'\n",
      "         'def local_scope():\\n'\n",
      "         '    global x\\n'\n",
      "         \"    x = 'Local Variable Y'\\n\"\n",
      "         '    print (x)\\n'\n",
      "         '\\n'\n",
      "         'local_scope()\\n'\n",
      "         'print (x)',\n",
      "         'def local_scope():\\n'\n",
      "         '    global x\\n'\n",
      "         \"    x = 'Local Variable Y'\\n\"\n",
      "         '    print (x)\\n'\n",
      "         '\\n'\n",
      "         \"x = 'Global Variable X'\\n\"\n",
      "         '\\n'\n",
      "         'local_scope()\\n'\n",
      "         'print (x)',\n",
      "         'def local_scope():\\n'\n",
      "         '    global x\\n'\n",
      "         \"    x = 'Local Variable Y'\\n\"\n",
      "         '    print (x)\\n'\n",
      "         '\\n'\n",
      "         'local_scope()\\n'\n",
      "         '\\n'\n",
      "         \"x = 'Global Variable X'\\n\"\n",
      "         'print (x)',\n",
      "         'import builtins\\n\\nprint(dir(builtins))',\n",
      "         'm = min([5,4,3,2,1])\\nprint (m)',\n",
      "         'def min(x):\\n    print (x)\\n\\nm = min([5,4,3,2,1])',\n",
      "         '#Restart kernal\\ndel min',\n",
      "         'def my_min(x):\\n    print (x)\\n\\nm = min([5,4,3,2,1])\\nprint (m)',\n",
      "         'import pprint\\n'\n",
      "         \"x = 'Global Variable X'\\n\"\n",
      "         '\\n'\n",
      "         'def local_scope():\\n'\n",
      "         \"    y = 'Local Variable Y'\\n\"\n",
      "         '    print (x)\\n'\n",
      "         '    print (y)\\n'\n",
      "         '    pprint.pprint(dict(globals()))\\n'\n",
      "         '\\n'\n",
      "         'print (x)\\n'\n",
      "         'local_scope()'],\n",
      " '_ii': '#Restart kernal\\ndel min',\n",
      " '_iii': 'def min(x):\\n    print (x)\\n\\nm = min([5,4,3,2,1])',\n",
      " '_oh': {},\n",
      " 'builtins': <module 'builtins' (built-in)>,\n",
      " 'exit': <IPython.core.autocall.ZMQExitAutocall object at 0x7fee74471460>,\n",
      " 'get_ipython': <bound method InteractiveShell.get_ipython of <ipykernel.zmqshell.ZMQInteractiveShell object at 0x7fee74459730>>,\n",
      " 'local_scope': <function local_scope at 0x7fee744dab80>,\n",
      " 'm': 1,\n",
      " 'my_min': <function my_min at 0x7fee745148b0>,\n",
      " 'outer': <function outer at 0x7fee744f90d0>,\n",
      " 'pprint': <module 'pprint' from '/opt/anaconda3/lib/python3.8/pprint.py'>,\n",
      " 'quit': <IPython.core.autocall.ZMQExitAutocall object at 0x7fee74471460>,\n",
      " 'x': 'Global Variable X'}\n"
     ]
    }
   ],
   "source": [
    "import pprint\n",
    "x = 'Global Variable X'\n",
    "\n",
    "def local_scope():\n",
    "    y = 'Local Variable Y'\n",
    "    print (x)\n",
    "    print (y)\n",
    "    pprint.pprint(dict(globals()))\n",
    "\n",
    "print (x)\n",
    "local_scope()"
   ]
  },
  {
   "cell_type": "markdown",
   "metadata": {},
   "source": [
    "### Global vs Local"
   ]
  },
  {
   "cell_type": "code",
   "execution_count": 20,
   "metadata": {
    "ExecuteTime": {
     "end_time": "2020-05-14T04:54:02.384345Z",
     "start_time": "2020-05-14T04:54:02.352343Z"
    },
    "deletable": false,
    "editable": false,
    "run_control": {
     "frozen": true
    }
   },
   "outputs": [
    {
     "name": "stdout",
     "output_type": "stream",
     "text": [
      "Global Variable X\n",
      "Global Variable X\n",
      "Local Variable Y\n"
     ]
    },
    {
     "ename": "NameError",
     "evalue": "name 'y' is not defined",
     "output_type": "error",
     "traceback": [
      "\u001b[1;31m---------------------------------------------------------------------------\u001b[0m",
      "\u001b[1;31mNameError\u001b[0m                                 Traceback (most recent call last)",
      "\u001b[1;32m<ipython-input-20-8bd01e0bb1a7>\u001b[0m in \u001b[0;36m<module>\u001b[1;34m\u001b[0m\n\u001b[0;32m      8\u001b[0m \u001b[0mprint\u001b[0m \u001b[1;33m(\u001b[0m\u001b[0mx\u001b[0m\u001b[1;33m)\u001b[0m\u001b[1;33m\u001b[0m\u001b[1;33m\u001b[0m\u001b[0m\n\u001b[0;32m      9\u001b[0m \u001b[0mlocal_scope\u001b[0m\u001b[1;33m(\u001b[0m\u001b[1;33m)\u001b[0m\u001b[1;33m\u001b[0m\u001b[1;33m\u001b[0m\u001b[0m\n\u001b[1;32m---> 10\u001b[1;33m \u001b[0mprint\u001b[0m \u001b[1;33m(\u001b[0m\u001b[0my\u001b[0m\u001b[1;33m)\u001b[0m\u001b[1;33m\u001b[0m\u001b[1;33m\u001b[0m\u001b[0m\n\u001b[0m",
      "\u001b[1;31mNameError\u001b[0m: name 'y' is not defined"
     ]
    }
   ],
   "source": [
    "x = 'Global Variable X'\n",
    "\n",
    "def local_scope():\n",
    "    y = 'Local Variable Y'\n",
    "    print (x)\n",
    "    print (y)\n",
    "\n",
    "print (x)\n",
    "local_scope()\n",
    "print (y)"
   ]
  },
  {
   "cell_type": "code",
   "execution_count": 15,
   "metadata": {
    "ExecuteTime": {
     "end_time": "2022-09-24T17:08:15.018513Z",
     "start_time": "2022-09-24T17:08:15.011585Z"
    }
   },
   "outputs": [
    {
     "name": "stdout",
     "output_type": "stream",
     "text": [
      "Local Variable Y\n",
      "Global Variable X\n"
     ]
    }
   ],
   "source": [
    "x = 'Global Variable X'\n",
    "\n",
    "def local_scope():\n",
    "    x = 'Local Variable Y'\n",
    "    print (x)\n",
    "\n",
    "local_scope()\n",
    "print (x)"
   ]
  },
  {
   "cell_type": "code",
   "execution_count": 16,
   "metadata": {
    "ExecuteTime": {
     "end_time": "2022-09-24T17:08:15.048885Z",
     "start_time": "2022-09-24T17:08:15.025292Z"
    }
   },
   "outputs": [
    {
     "name": "stdout",
     "output_type": "stream",
     "text": [
      "Local Variable Y\n",
      "Local Variable Y\n"
     ]
    }
   ],
   "source": [
    "x = 'Global Variable X'\n",
    "\n",
    "def local_scope():\n",
    "    global x\n",
    "    x = 'Local Variable Y'\n",
    "    print (x)\n",
    "\n",
    "local_scope()\n",
    "print (x)"
   ]
  },
  {
   "cell_type": "code",
   "execution_count": 17,
   "metadata": {
    "ExecuteTime": {
     "end_time": "2022-09-24T17:08:15.128188Z",
     "start_time": "2022-09-24T17:08:15.103979Z"
    }
   },
   "outputs": [
    {
     "name": "stdout",
     "output_type": "stream",
     "text": [
      "Local Variable Y\n",
      "Local Variable Y\n"
     ]
    }
   ],
   "source": [
    "def local_scope():\n",
    "    global x\n",
    "    x = 'Local Variable Y'\n",
    "    print (x)\n",
    "\n",
    "x = 'Global Variable X'\n",
    "\n",
    "local_scope()\n",
    "print (x)"
   ]
  },
  {
   "cell_type": "code",
   "execution_count": 18,
   "metadata": {
    "ExecuteTime": {
     "end_time": "2022-09-24T17:08:15.180825Z",
     "start_time": "2022-09-24T17:08:15.148656Z"
    }
   },
   "outputs": [
    {
     "name": "stdout",
     "output_type": "stream",
     "text": [
      "Local Variable Y\n",
      "Global Variable X\n"
     ]
    }
   ],
   "source": [
    "def local_scope():\n",
    "    global x\n",
    "    x = 'Local Variable Y'\n",
    "    print (x)\n",
    "\n",
    "local_scope()\n",
    "\n",
    "x = 'Global Variable X'\n",
    "print (x)"
   ]
  },
  {
   "cell_type": "markdown",
   "metadata": {},
   "source": [
    "## Built-In Scope\n",
    "    • Nmes that are Pre-Assigned (Pre-Defined Functions)\n",
    "    • If we use the same name for user defined function, our function will override built-ins"
   ]
  },
  {
   "cell_type": "code",
   "execution_count": 19,
   "metadata": {
    "ExecuteTime": {
     "end_time": "2022-09-24T17:08:15.214865Z",
     "start_time": "2022-09-24T17:08:15.206213Z"
    }
   },
   "outputs": [
    {
     "name": "stdout",
     "output_type": "stream",
     "text": [
      "['ArithmeticError', 'AssertionError', 'AttributeError', 'BaseException', 'BlockingIOError', 'BrokenPipeError', 'BufferError', 'BytesWarning', 'ChildProcessError', 'ConnectionAbortedError', 'ConnectionError', 'ConnectionRefusedError', 'ConnectionResetError', 'DeprecationWarning', 'EOFError', 'Ellipsis', 'EnvironmentError', 'Exception', 'False', 'FileExistsError', 'FileNotFoundError', 'FloatingPointError', 'FutureWarning', 'GeneratorExit', 'IOError', 'ImportError', 'ImportWarning', 'IndentationError', 'IndexError', 'InterruptedError', 'IsADirectoryError', 'KeyError', 'KeyboardInterrupt', 'LookupError', 'MemoryError', 'ModuleNotFoundError', 'NameError', 'None', 'NotADirectoryError', 'NotImplemented', 'NotImplementedError', 'OSError', 'OverflowError', 'PendingDeprecationWarning', 'PermissionError', 'ProcessLookupError', 'RecursionError', 'ReferenceError', 'ResourceWarning', 'RuntimeError', 'RuntimeWarning', 'StopAsyncIteration', 'StopIteration', 'SyntaxError', 'SyntaxWarning', 'SystemError', 'SystemExit', 'TabError', 'TimeoutError', 'True', 'TypeError', 'UnboundLocalError', 'UnicodeDecodeError', 'UnicodeEncodeError', 'UnicodeError', 'UnicodeTranslateError', 'UnicodeWarning', 'UserWarning', 'ValueError', 'Warning', 'ZeroDivisionError', '__IPYTHON__', '__build_class__', '__debug__', '__doc__', '__import__', '__loader__', '__name__', '__package__', '__spec__', 'abs', 'all', 'any', 'ascii', 'bin', 'bool', 'breakpoint', 'bytearray', 'bytes', 'callable', 'chr', 'classmethod', 'compile', 'complex', 'copyright', 'credits', 'delattr', 'dict', 'dir', 'display', 'divmod', 'enumerate', 'eval', 'exec', 'execfile', 'filter', 'float', 'format', 'frozenset', 'get_ipython', 'getattr', 'globals', 'hasattr', 'hash', 'help', 'hex', 'id', 'input', 'int', 'isinstance', 'issubclass', 'iter', 'len', 'license', 'list', 'locals', 'map', 'max', 'memoryview', 'min', 'next', 'object', 'oct', 'open', 'ord', 'pow', 'print', 'property', 'range', 'repr', 'reversed', 'round', 'runfile', 'set', 'setattr', 'slice', 'sorted', 'staticmethod', 'str', 'sum', 'super', 'tuple', 'type', 'vars', 'zip']\n"
     ]
    }
   ],
   "source": [
    "import builtins\n",
    "\n",
    "print(dir(builtins))"
   ]
  },
  {
   "cell_type": "code",
   "execution_count": 20,
   "metadata": {
    "ExecuteTime": {
     "end_time": "2022-09-24T17:08:15.257148Z",
     "start_time": "2022-09-24T17:08:15.246682Z"
    }
   },
   "outputs": [
    {
     "name": "stdout",
     "output_type": "stream",
     "text": [
      "1\n"
     ]
    }
   ],
   "source": [
    "m = min([5,4,3,2,1])\n",
    "print (m)"
   ]
  },
  {
   "cell_type": "markdown",
   "metadata": {},
   "source": [
    "### Global vs Built-In"
   ]
  },
  {
   "cell_type": "code",
   "execution_count": 21,
   "metadata": {
    "ExecuteTime": {
     "end_time": "2022-09-24T17:08:15.300452Z",
     "start_time": "2022-09-24T17:08:15.292487Z"
    }
   },
   "outputs": [
    {
     "name": "stdout",
     "output_type": "stream",
     "text": [
      "[5, 4, 3, 2, 1]\n"
     ]
    }
   ],
   "source": [
    "def min(x):\n",
    "    print (x)\n",
    "\n",
    "m = min([5,4,3,2,1])"
   ]
  },
  {
   "cell_type": "code",
   "execution_count": 22,
   "metadata": {
    "ExecuteTime": {
     "end_time": "2022-09-24T17:08:15.341203Z",
     "start_time": "2022-09-24T17:08:15.328919Z"
    }
   },
   "outputs": [],
   "source": [
    "#Restart kernal\n",
    "del min"
   ]
  },
  {
   "cell_type": "code",
   "execution_count": 23,
   "metadata": {
    "ExecuteTime": {
     "end_time": "2022-09-24T17:08:15.405578Z",
     "start_time": "2022-09-24T17:08:15.363923Z"
    }
   },
   "outputs": [
    {
     "name": "stdout",
     "output_type": "stream",
     "text": [
      "1\n"
     ]
    }
   ],
   "source": [
    "def my_min(x):\n",
    "    print (x)\n",
    "\n",
    "m = min([5,4,3,2,1])\n",
    "print (m)"
   ]
  }
 ],
 "metadata": {
  "kernelspec": {
   "display_name": "Python 3 (ipykernel)",
   "language": "python",
   "name": "python3"
  },
  "language_info": {
   "codemirror_mode": {
    "name": "ipython",
    "version": 3
   },
   "file_extension": ".py",
   "mimetype": "text/x-python",
   "name": "python",
   "nbconvert_exporter": "python",
   "pygments_lexer": "ipython3",
   "version": "3.8.13"
  },
  "latex_envs": {
   "LaTeX_envs_menu_present": true,
   "autoclose": false,
   "autocomplete": true,
   "bibliofile": "biblio.bib",
   "cite_by": "apalike",
   "current_citInitial": 1,
   "eqLabelWithNumbers": true,
   "eqNumInitial": 1,
   "hotkeys": {
    "equation": "Ctrl-E",
    "itemize": "Ctrl-I"
   },
   "labels_anchors": false,
   "latex_user_defs": false,
   "report_style_numbering": false,
   "user_envs_cfg": false
  },
  "toc": {
   "base_numbering": 1,
   "nav_menu": {},
   "number_sections": true,
   "sideBar": true,
   "skip_h1_title": false,
   "title_cell": "Table of Contents",
   "title_sidebar": "Contents",
   "toc_cell": true,
   "toc_position": {
    "height": "601.25px",
    "left": "33px",
    "top": "103.469px",
    "width": "318.958px"
   },
   "toc_section_display": true,
   "toc_window_display": true
  },
  "varInspector": {
   "cols": {
    "lenName": 16,
    "lenType": 16,
    "lenVar": 40
   },
   "kernels_config": {
    "python": {
     "delete_cmd_postfix": "",
     "delete_cmd_prefix": "del ",
     "library": "var_list.py",
     "varRefreshCmd": "print(var_dic_list())"
    },
    "r": {
     "delete_cmd_postfix": ") ",
     "delete_cmd_prefix": "rm(",
     "library": "var_list.r",
     "varRefreshCmd": "cat(var_dic_list()) "
    }
   },
   "types_to_exclude": [
    "module",
    "function",
    "builtin_function_or_method",
    "instance",
    "_Feature"
   ],
   "window_display": false
  }
 },
 "nbformat": 4,
 "nbformat_minor": 2
}
