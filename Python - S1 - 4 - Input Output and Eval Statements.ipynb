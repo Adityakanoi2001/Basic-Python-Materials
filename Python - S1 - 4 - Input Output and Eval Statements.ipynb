{
 "cells": [
  {
   "cell_type": "markdown",
   "metadata": {
    "toc": true
   },
   "source": [
    "<h1>Table of Contents<span class=\"tocSkip\"></span></h1>\n",
    "<div class=\"toc\"><ul class=\"toc-item\"><li><span><a href=\"#In-Built-Functions\" data-toc-modified-id=\"In-Built-Functions-1\"><span class=\"toc-item-num\">1&nbsp;&nbsp;</span>In-Built Functions</a></span><ul class=\"toc-item\"><li><span><a href=\"#Input-Function\" data-toc-modified-id=\"Input-Function-1.1\"><span class=\"toc-item-num\">1.1&nbsp;&nbsp;</span>Input Function</a></span></li><li><span><a href=\"#Eval-Function\" data-toc-modified-id=\"Eval-Function-1.2\"><span class=\"toc-item-num\">1.2&nbsp;&nbsp;</span>Eval Function</a></span></li><li><span><a href=\"#Print-function\" data-toc-modified-id=\"Print-function-1.3\"><span class=\"toc-item-num\">1.3&nbsp;&nbsp;</span>Print function</a></span></li></ul></li><li><span><a href=\"#Exercise\" data-toc-modified-id=\"Exercise-2\"><span class=\"toc-item-num\">2&nbsp;&nbsp;</span>Exercise</a></span></li></ul></div>"
   ]
  },
  {
   "cell_type": "markdown",
   "metadata": {},
   "source": [
    "# In-Built Functions\n",
    "| Command                | Operation                            |\n",
    "|------------------------|--------------------------------------|\n",
    "| `input('any Type')`    | To Get the input value of the Object |\n",
    "| `print('any Type')`    | To Print value of the Object         |\n",
    "| `type('Object')`       | To Find Type of the Object           |\n",
    "| `id('Object')`         | To Find Address of the Object        |\n",
    "| `len('Object')`        | To Find Length of the Object         |\n",
    "| `split('Separator')`   | To Split the objects                 |\n",
    "| `eval('any Object')`   | To Evaluate the Objects accordingly  |\n",
    "| `argv['Slicing']`      | To List the command line arguments   |"
   ]
  },
  {
   "cell_type": "markdown",
   "metadata": {},
   "source": [
    "## Input Function\n",
    "`Input  : Function that are used to Read the user provided data or Run time values`<br>\n",
    "`Output : Function that are used to write the processed data to user`<br>\n",
    "`RTA    : Arguments that are passed into the script`<br>\n",
    "\n",
    "\n",
    "|<p align=\"left\">Python 2|<p align=\"left\">Python 3|<p align=\"left\">Default Output|<p align=\"left\">Other Output|\n",
    "|-|-|-|-|\n",
    "|<p align=\"left\">**raw_input()**|<p align=\"left\">**input()**|<p align=\"left\">String|<p align=\"left\">Type Casting is required|\n",
    "|<p align=\"left\">**input()**|<p align=\"left\">|<p align=\"left\">Depends on Value|<p align=\"left\">Type Casting is not required|"
   ]
  },
  {
   "cell_type": "code",
   "execution_count": 184,
   "metadata": {
    "ExecuteTime": {
     "end_time": "2022-09-24T14:18:49.868500Z",
     "start_time": "2022-09-24T14:17:51.318283Z"
    },
    "deletable": false,
    "editable": false,
    "run_control": {
     "frozen": true
    }
   },
   "outputs": [
    {
     "name": "stdout",
     "output_type": "stream",
     "text": [
      "Enter Some Value : 10\n",
      "Enter Some Value : 100\n",
      "<class 'str'> <class 'int'>\n"
     ]
    }
   ],
   "source": [
    "\n",
    "value1 = input(\"Enter Some Value : \")                             #Input function always consider the value as String\n",
    "value2 = int(input(\"Enter Some Value : \"))                        #Use Type casting to convert to other datatype\n",
    "print(type(value1),type(value2))"
   ]
  },
  {
   "cell_type": "code",
   "execution_count": 185,
   "metadata": {
    "ExecuteTime": {
     "end_time": "2022-09-24T14:19:27.750042Z",
     "start_time": "2022-09-24T14:18:49.871618Z"
    },
    "deletable": false,
    "editable": false,
    "run_control": {
     "frozen": true
    }
   },
   "outputs": [
    {
     "name": "stdout",
     "output_type": "stream",
     "text": [
      "Enter Some Value : 100\n",
      "Enter Some Value : 10\n",
      "110\n"
     ]
    }
   ],
   "source": [
    "value1 = int(input(\"Enter Some Value : \"))\n",
    "value2 = int(input(\"Enter Some Value : \"))\n",
    "print(value1 + value2)                                            #Use Type casting to convert to oher datatype"
   ]
  },
  {
   "cell_type": "code",
   "execution_count": 186,
   "metadata": {
    "ExecuteTime": {
     "end_time": "2022-09-24T14:19:47.161742Z",
     "start_time": "2022-09-24T14:19:27.755047Z"
    },
    "deletable": false,
    "editable": false,
    "run_control": {
     "frozen": true
    }
   },
   "outputs": [
    {
     "name": "stdout",
     "output_type": "stream",
     "text": [
      "Enter Some Value : 1000\n",
      "Enter Some Value : 999\n"
     ]
    },
    {
     "data": {
      "text/plain": [
       "1999"
      ]
     },
     "execution_count": 186,
     "metadata": {},
     "output_type": "execute_result"
    }
   ],
   "source": [
    "int(input(\"Enter Some Value : \")) + int(input(\"Enter Some Value : \"))"
   ]
  },
  {
   "cell_type": "code",
   "execution_count": 180,
   "metadata": {
    "ExecuteTime": {
     "end_time": "2022-09-24T14:27:41.597599Z",
     "start_time": "2022-09-24T14:27:41.582676Z"
    }
   },
   "outputs": [
    {
     "data": {
      "text/plain": [
       "1"
      ]
     },
     "execution_count": 180,
     "metadata": {},
     "output_type": "execute_result"
    }
   ],
   "source": [
    "x , y = [1,2]\n",
    "x"
   ]
  },
  {
   "cell_type": "code",
   "execution_count": 188,
   "metadata": {
    "ExecuteTime": {
     "end_time": "2022-09-24T14:20:19.310789Z",
     "start_time": "2022-09-24T14:19:47.247327Z"
    },
    "deletable": false,
    "editable": false,
    "run_control": {
     "frozen": true
    }
   },
   "outputs": [
    {
     "name": "stdout",
     "output_type": "stream",
     "text": [
      "Enter Some Values with comma sep : 100,222\n",
      "Sum :  322\n"
     ]
    }
   ],
   "source": [
    "a , b = [int(x) for x in input(\"Enter Some Values with comma sep : \").split(',')]\n",
    "print (\"Sum : \",a+b)"
   ]
  },
  {
   "cell_type": "code",
   "execution_count": 189,
   "metadata": {
    "ExecuteTime": {
     "end_time": "2022-09-24T14:20:35.676409Z",
     "start_time": "2022-09-24T14:20:19.314555Z"
    },
    "deletable": false,
    "editable": false,
    "run_control": {
     "frozen": true
    }
   },
   "outputs": [
    {
     "name": "stdout",
     "output_type": "stream",
     "text": [
      "Enter 3 Float Values : 10.5 2.3 55.66\n",
      "Sum :  68.46\n"
     ]
    }
   ],
   "source": [
    "a, b, c = [float(x) for x in input(\"Enter 3 Float Values : \").split(\" \")]    #Default seperator is Space\n",
    "print (\"Sum : \",a+b+c)"
   ]
  },
  {
   "cell_type": "markdown",
   "metadata": {},
   "source": [
    "## Eval Function"
   ]
  },
  {
   "cell_type": "code",
   "execution_count": 181,
   "metadata": {
    "ExecuteTime": {
     "end_time": "2022-09-24T14:27:41.631786Z",
     "start_time": "2022-09-24T14:27:41.601262Z"
    }
   },
   "outputs": [
    {
     "data": {
      "text/plain": [
       "-11.200000000000003"
      ]
     },
     "execution_count": 181,
     "metadata": {},
     "output_type": "execute_result"
    }
   ],
   "source": [
    "x = eval (\"10.5+22.3-44\")\n",
    "x"
   ]
  },
  {
   "cell_type": "code",
   "execution_count": 191,
   "metadata": {
    "ExecuteTime": {
     "end_time": "2022-09-24T14:20:57.353110Z",
     "start_time": "2022-09-24T14:20:35.710926Z"
    },
    "deletable": false,
    "editable": false,
    "run_control": {
     "frozen": true
    }
   },
   "outputs": [
    {
     "name": "stdout",
     "output_type": "stream",
     "text": [
      "Enter Some eval Function  : 111111111*111111111\n"
     ]
    },
    {
     "data": {
      "text/plain": [
       "12345678987654321"
      ]
     },
     "execution_count": 191,
     "metadata": {},
     "output_type": "execute_result"
    }
   ],
   "source": [
    "exp = input(\"Enter Some eval Function  : \")\n",
    "res = eval(exp)\n",
    "res"
   ]
  },
  {
   "cell_type": "code",
   "execution_count": 192,
   "metadata": {
    "ExecuteTime": {
     "end_time": "2022-09-24T14:21:16.013610Z",
     "start_time": "2022-09-24T14:20:57.355979Z"
    },
    "deletable": false,
    "editable": false,
    "run_control": {
     "frozen": true
    }
   },
   "outputs": [
    {
     "name": "stdout",
     "output_type": "stream",
     "text": [
      "Enter some data : [10]\n",
      "<class 'str'>\n"
     ]
    }
   ],
   "source": [
    "x = input(\"Enter some data : \")\n",
    "print(type(x))"
   ]
  },
  {
   "cell_type": "code",
   "execution_count": 193,
   "metadata": {
    "ExecuteTime": {
     "end_time": "2022-09-24T14:21:28.753960Z",
     "start_time": "2022-09-24T14:21:16.060345Z"
    },
    "deletable": false,
    "editable": false,
    "run_control": {
     "frozen": true
    }
   },
   "outputs": [
    {
     "name": "stdout",
     "output_type": "stream",
     "text": [
      "Enter some data : [10]\n",
      "<class 'list'>\n"
     ]
    }
   ],
   "source": [
    "x = input(\"Enter some data : \")\n",
    "print(type(eval(x)))"
   ]
  },
  {
   "cell_type": "code",
   "execution_count": 194,
   "metadata": {
    "ExecuteTime": {
     "end_time": "2022-09-24T14:21:45.237322Z",
     "start_time": "2022-09-24T14:21:28.759460Z"
    },
    "deletable": false,
    "editable": false,
    "run_control": {
     "frozen": true
    }
   },
   "outputs": [
    {
     "name": "stdout",
     "output_type": "stream",
     "text": [
      "Enter some data : 10.5\n",
      "<class 'float'>\n"
     ]
    }
   ],
   "source": [
    "x = input(\"Enter some data : \")\n",
    "print(type(eval(x)))"
   ]
  },
  {
   "cell_type": "code",
   "execution_count": 195,
   "metadata": {
    "ExecuteTime": {
     "end_time": "2022-09-24T14:22:02.637484Z",
     "start_time": "2022-09-24T14:21:45.243189Z"
    },
    "deletable": false,
    "editable": false,
    "run_control": {
     "frozen": true
    }
   },
   "outputs": [
    {
     "name": "stdout",
     "output_type": "stream",
     "text": [
      "Enter some data : \"Vignesh !!!\"\n",
      "<class 'str'>\n"
     ]
    }
   ],
   "source": [
    "x = input(\"Enter some data : \")\n",
    "print(type(eval(x)))"
   ]
  },
  {
   "cell_type": "code",
   "execution_count": 182,
   "metadata": {
    "ExecuteTime": {
     "end_time": "2022-09-24T14:24:06.459236Z",
     "start_time": "2022-09-24T14:23:25.179577Z"
    },
    "deletable": false,
    "editable": false,
    "run_control": {
     "frozen": true
    }
   },
   "outputs": [
    {
     "name": "stdout",
     "output_type": "stream",
     "text": [
      "Enter some data : Vignesh !!!\n"
     ]
    },
    {
     "ename": "SyntaxError",
     "evalue": "invalid syntax (<string>, line 1)",
     "output_type": "error",
     "traceback": [
      "Traceback \u001b[0;36m(most recent call last)\u001b[0m:\n",
      "  File \u001b[1;32m/opt/anaconda3/lib/python3.8/site-packages/IPython/core/interactiveshell.py:3398\u001b[0m in \u001b[1;35mrun_code\u001b[0m\n    exec(code_obj, self.user_global_ns, self.user_ns)\n",
      "\u001b[0;36m  Input \u001b[0;32mIn [182]\u001b[0;36m in \u001b[0;35m<cell line: 2>\u001b[0;36m\u001b[0m\n\u001b[0;31m    print(type(eval(x)))\u001b[0m\n",
      "\u001b[0;36m  File \u001b[0;32m<string>:1\u001b[0;36m\u001b[0m\n\u001b[0;31m    Vignesh !!!\u001b[0m\n\u001b[0m            ^\u001b[0m\n\u001b[0;31mSyntaxError\u001b[0m\u001b[0;31m:\u001b[0m invalid syntax\n"
     ]
    }
   ],
   "source": [
    "x = input(\"Enter some data : \")\n",
    "print(type(eval(x)))"
   ]
  },
  {
   "cell_type": "code",
   "execution_count": 183,
   "metadata": {
    "ExecuteTime": {
     "end_time": "2022-09-24T14:24:18.860843Z",
     "start_time": "2022-09-24T14:24:12.178865Z"
    },
    "deletable": false,
    "editable": false,
    "run_control": {
     "frozen": true
    }
   },
   "outputs": [
    {
     "name": "stdout",
     "output_type": "stream",
     "text": [
      "Enter some data : False\n",
      "<class 'bool'>\n"
     ]
    }
   ],
   "source": [
    "x = eval(input(\"Enter some data : \"))\n",
    "print(type(x))"
   ]
  },
  {
   "cell_type": "code",
   "execution_count": 182,
   "metadata": {
    "ExecuteTime": {
     "end_time": "2022-09-24T14:25:19.208451Z",
     "start_time": "2022-09-24T14:24:33.643243Z"
    },
    "deletable": false,
    "editable": false,
    "run_control": {
     "frozen": true
    }
   },
   "outputs": [
    {
     "name": "stdout",
     "output_type": "stream",
     "text": [
      "Enter some data : 10,11.2,True,\"Vignesh\"\n",
      "<class 'int'>\n",
      "<class 'float'>\n",
      "<class 'bool'>\n",
      "<class 'str'>\n"
     ]
    }
   ],
   "source": [
    "a = [eval(x) for x in input(\"Enter some data : \").split(\",\")]\n",
    "for x in a:\n",
    "    print(type(x)) "
   ]
  },
  {
   "cell_type": "markdown",
   "metadata": {},
   "source": [
    "## Print function\n",
    "|<p align=\"left\">Python|<p align=\"left\">Default Output|\n",
    "|-|-|\n",
    "|<p align=\"left\">**print ( no arguments )**|<p align=\"left\">New Line|\n",
    "|<p align=\"left\">**print ( \"String\", +, *, \\ )**|<p align=\"left\">Output String with Escape & Concatnation & Repetation|\n",
    "|<p align=\"left\">**print ( \"Arg with Attribute\", sep=';',end='' )**|<p align=\"left\">Arg with Atr Sep(space), end(new line)|\n",
    "|<p align=\"left\">**print ( \"Formated %s\" )**|<p align=\"left\">Formated String Using **%i %s %f %d**|\n",
    "|<p align=\"left\">**print ( \"Replacement {0} {1}\" )**|<p align=\"left\">Replace the function|"
   ]
  },
  {
   "cell_type": "code",
   "execution_count": 182,
   "metadata": {
    "ExecuteTime": {
     "end_time": "2022-09-24T14:27:41.647477Z",
     "start_time": "2022-09-24T14:27:41.641036Z"
    }
   },
   "outputs": [
    {
     "name": "stdout",
     "output_type": "stream",
     "text": [
      "Hello \n",
      "Python !!!\n"
     ]
    }
   ],
   "source": [
    "print(\"Hello \\nPython !!!\")"
   ]
  },
  {
   "cell_type": "code",
   "execution_count": 183,
   "metadata": {
    "ExecuteTime": {
     "end_time": "2022-09-24T14:27:41.658987Z",
     "start_time": "2022-09-24T14:27:41.651753Z"
    }
   },
   "outputs": [
    {
     "name": "stdout",
     "output_type": "stream",
     "text": [
      "Hello Python \n",
      "\n",
      "Hello Python !!! \n"
     ]
    }
   ],
   "source": [
    "print(\"Hello \" + \"Python \")\n",
    "print()\n",
    "print(\"Hello\",\"Python !!! \")"
   ]
  },
  {
   "cell_type": "code",
   "execution_count": 184,
   "metadata": {
    "ExecuteTime": {
     "end_time": "2022-09-24T14:27:41.676293Z",
     "start_time": "2022-09-24T14:27:41.662847Z"
    }
   },
   "outputs": [
    {
     "name": "stdout",
     "output_type": "stream",
     "text": [
      "Hello Python !!! Hello Python !!! Hello Python !!! \n",
      "Hello Python !!! Python !!! Python !!! \n"
     ]
    }
   ],
   "source": [
    "print(\"Hello Python !!! \" * 3)\n",
    "print(\"Hello\",\"Python !!! \" * 3)"
   ]
  },
  {
   "cell_type": "code",
   "execution_count": 185,
   "metadata": {
    "ExecuteTime": {
     "end_time": "2022-09-24T14:27:41.690633Z",
     "start_time": "2022-09-24T14:27:41.683291Z"
    }
   },
   "outputs": [
    {
     "name": "stdout",
     "output_type": "stream",
     "text": [
      "The values are :  10 20 30\n"
     ]
    }
   ],
   "source": [
    "a ,b, c = 10, 20, 30\n",
    "print(\"The values are : \",a, b, c)"
   ]
  },
  {
   "cell_type": "code",
   "execution_count": 186,
   "metadata": {
    "ExecuteTime": {
     "end_time": "2022-09-24T14:27:41.707759Z",
     "start_time": "2022-09-24T14:27:41.695564Z"
    }
   },
   "outputs": [
    {
     "name": "stdout",
     "output_type": "stream",
     "text": [
      "Python\n",
      "is\n",
      "very\n",
      "Easy\n"
     ]
    }
   ],
   "source": [
    "print(\"Python\")\n",
    "print(\"is\")\n",
    "print(\"very\")\n",
    "print(\"Easy\")"
   ]
  },
  {
   "cell_type": "code",
   "execution_count": 187,
   "metadata": {
    "ExecuteTime": {
     "end_time": "2022-09-24T14:27:41.734625Z",
     "start_time": "2022-09-24T14:27:41.715278Z"
    }
   },
   "outputs": [
    {
     "name": "stdout",
     "output_type": "stream",
     "text": [
      "Python is ; very \" Easy : "
     ]
    }
   ],
   "source": [
    "print(\"Python\",end=' ')\n",
    "print(\"is\",end=' ; ')\n",
    "print(\"very\",end=' \" ')\n",
    "print(\"Easy\",end=' : ')"
   ]
  },
  {
   "cell_type": "code",
   "execution_count": 188,
   "metadata": {
    "ExecuteTime": {
     "end_time": "2022-09-24T14:27:41.772780Z",
     "start_time": "2022-09-24T14:27:41.759564Z"
    }
   },
   "outputs": [
    {
     "name": "stdout",
     "output_type": "stream",
     "text": [
      "The values are :  10 20 30    ######    The values are :  - - - 10 - - - 20 - - - 30\n"
     ]
    }
   ],
   "source": [
    "a ,b, c = 10, 20, 30\n",
    "print(\"The values are : \",a, b, c,end='    ######    ')\n",
    "print(\"The values are : \",a, b, c,sep=' - - - ')"
   ]
  },
  {
   "cell_type": "code",
   "execution_count": 189,
   "metadata": {
    "ExecuteTime": {
     "end_time": "2022-09-24T14:27:41.810956Z",
     "start_time": "2022-09-24T14:27:41.800925Z"
    }
   },
   "outputs": [
    {
     "name": "stdout",
     "output_type": "stream",
     "text": [
      "Formated string a=10 b=20 c=30\n",
      "Hello Vignesh , the List is [10, 20, 30, 40]\n"
     ]
    }
   ],
   "source": [
    "a ,b, c = 10, 20, 30\n",
    "name = \"Vignesh\"\n",
    "list_1 = [10,20,30,40]\n",
    "print(\"Formated string a=%i b=%i c=%i\" %(a,b,c))\n",
    "print(\"Hello %s , the List is %s\" %(name,list_1))"
   ]
  },
  {
   "cell_type": "code",
   "execution_count": 190,
   "metadata": {
    "ExecuteTime": {
     "end_time": "2022-09-24T14:27:41.837468Z",
     "start_time": "2022-09-24T14:27:41.820889Z"
    },
    "scrolled": true
   },
   "outputs": [
    {
     "name": "stdout",
     "output_type": "stream",
     "text": [
      "Hello Vignesh, your 1000 Credit Card bill due date today \n",
      "Hello Vignesh, your 1000 Credit Card bill due date today \n",
      "Hello Vignesh, your 1000 Credit Card bill due date today \n"
     ]
    }
   ],
   "source": [
    "name = \"Vignesh\"\n",
    "bill  = \"1000\"\n",
    "card = \"Credit Card\"\n",
    "print (\"Hello {0}, your {1} {2} bill due date today \".format(name,bill,card))\n",
    "print (\"Hello {}, your {} {} bill due date today \".format(name,bill,card))\n",
    "print (\"Hello {y}, your {x} {z} bill due date today \".format(y=name,x=bill,z=card))"
   ]
  },
  {
   "cell_type": "code",
   "execution_count": 183,
   "metadata": {
    "ExecuteTime": {
     "end_time": "2022-09-24T14:25:31.921242Z",
     "start_time": "2022-09-24T14:25:19.213212Z"
    },
    "deletable": false,
    "editable": false,
    "run_control": {
     "frozen": true
    },
    "scrolled": true
   },
   "outputs": [
    {
     "name": "stdout",
     "output_type": "stream",
     "text": [
      "Enter some data : 10,11.2,True,Vignesh\n"
     ]
    },
    {
     "ename": "NameError",
     "evalue": "name 'Vignesh' is not defined",
     "output_type": "error",
     "traceback": [
      "\u001b[0;31m---------------------------------------------------------------------------\u001b[0m",
      "\u001b[0;31mNameError\u001b[0m                                 Traceback (most recent call last)",
      "Input \u001b[0;32mIn [183]\u001b[0m, in \u001b[0;36m<cell line: 1>\u001b[0;34m()\u001b[0m\n\u001b[0;32m----> 1\u001b[0m a \u001b[38;5;241m=\u001b[39m [\u001b[38;5;28meval\u001b[39m(x) \u001b[38;5;28;01mfor\u001b[39;00m x \u001b[38;5;129;01min\u001b[39;00m \u001b[38;5;28minput\u001b[39m(\u001b[38;5;124m\"\u001b[39m\u001b[38;5;124mEnter some data : \u001b[39m\u001b[38;5;124m\"\u001b[39m)\u001b[38;5;241m.\u001b[39msplit(\u001b[38;5;124m\"\u001b[39m\u001b[38;5;124m,\u001b[39m\u001b[38;5;124m\"\u001b[39m)]\n\u001b[1;32m      2\u001b[0m \u001b[38;5;28;01mfor\u001b[39;00m x \u001b[38;5;129;01min\u001b[39;00m a:\n\u001b[1;32m      3\u001b[0m     \u001b[38;5;28mprint\u001b[39m(\u001b[38;5;28mtype\u001b[39m(x))\n",
      "Input \u001b[0;32mIn [183]\u001b[0m, in \u001b[0;36m<listcomp>\u001b[0;34m(.0)\u001b[0m\n\u001b[0;32m----> 1\u001b[0m a \u001b[38;5;241m=\u001b[39m [\u001b[38;5;28;43meval\u001b[39;49m\u001b[43m(\u001b[49m\u001b[43mx\u001b[49m\u001b[43m)\u001b[49m \u001b[38;5;28;01mfor\u001b[39;00m x \u001b[38;5;129;01min\u001b[39;00m \u001b[38;5;28minput\u001b[39m(\u001b[38;5;124m\"\u001b[39m\u001b[38;5;124mEnter some data : \u001b[39m\u001b[38;5;124m\"\u001b[39m)\u001b[38;5;241m.\u001b[39msplit(\u001b[38;5;124m\"\u001b[39m\u001b[38;5;124m,\u001b[39m\u001b[38;5;124m\"\u001b[39m)]\n\u001b[1;32m      2\u001b[0m \u001b[38;5;28;01mfor\u001b[39;00m x \u001b[38;5;129;01min\u001b[39;00m a:\n\u001b[1;32m      3\u001b[0m     \u001b[38;5;28mprint\u001b[39m(\u001b[38;5;28mtype\u001b[39m(x))\n",
      "File \u001b[0;32m<string>:1\u001b[0m, in \u001b[0;36m<module>\u001b[0;34m\u001b[0m\n",
      "\u001b[0;31mNameError\u001b[0m: name 'Vignesh' is not defined"
     ]
    }
   ],
   "source": [
    "a = [eval(x) for x in input(\"Enter some data : \").split(\",\")]\n",
    "for x in a:\n",
    "    print(type(x)) "
   ]
  },
  {
   "cell_type": "markdown",
   "metadata": {},
   "source": [
    "# Exercise"
   ]
  },
  {
   "cell_type": "markdown",
   "metadata": {},
   "source": [
    "Q1. Ask the user to enter the number and then print its squares and cubes. "
   ]
  },
  {
   "cell_type": "code",
   "execution_count": 24,
   "metadata": {},
   "outputs": [],
   "source": [
    "#Try it here\n"
   ]
  },
  {
   "cell_type": "markdown",
   "metadata": {},
   "source": [
    "Q2. Write a program that asks user to input three numbers with separate input statements. Use the variable named total to store the sum of those numbers and avg to store the average of those nummbers.\n",
    "Then output the numbers along with the total and average. "
   ]
  },
  {
   "cell_type": "code",
   "execution_count": 27,
   "metadata": {},
   "outputs": [],
   "source": [
    "#Try it here\n"
   ]
  },
  {
   "cell_type": "markdown",
   "metadata": {},
   "source": [
    "Q3. Create a salary estimator. Ask user for the basic salary, using it compute HRA as 10% of basic salary, add conveyance allowance as Rs 3500 to it. \n",
    "Output all the salary components on the console."
   ]
  },
  {
   "cell_type": "code",
   "execution_count": 28,
   "metadata": {},
   "outputs": [],
   "source": [
    "#Try it here\n"
   ]
  },
  {
   "cell_type": "code",
   "execution_count": null,
   "metadata": {},
   "outputs": [],
   "source": []
  }
 ],
 "metadata": {
  "kernelspec": {
   "display_name": "Python 3 (ipykernel)",
   "language": "python",
   "name": "python3"
  },
  "language_info": {
   "codemirror_mode": {
    "name": "ipython",
    "version": 3
   },
   "file_extension": ".py",
   "mimetype": "text/x-python",
   "name": "python",
   "nbconvert_exporter": "python",
   "pygments_lexer": "ipython3",
   "version": "3.8.13"
  },
  "toc": {
   "base_numbering": 1,
   "nav_menu": {},
   "number_sections": true,
   "sideBar": true,
   "skip_h1_title": false,
   "title_cell": "Table of Contents",
   "title_sidebar": "Contents",
   "toc_cell": true,
   "toc_position": {},
   "toc_section_display": true,
   "toc_window_display": true
  }
 },
 "nbformat": 4,
 "nbformat_minor": 2
}
