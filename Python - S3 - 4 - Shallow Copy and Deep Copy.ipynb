{
 "cells": [
  {
   "cell_type": "markdown",
   "id": "920f9a38",
   "metadata": {
    "toc": true
   },
   "source": [
    "<h1>Table of Contents<span class=\"tocSkip\"></span></h1>\n",
    "<div class=\"toc\"><ul class=\"toc-item\"><li><span><a href=\"#Shallow-Copy-and--Deep-Copy\" data-toc-modified-id=\"Shallow-Copy-and--Deep-Copy-1\"><span class=\"toc-item-num\">1&nbsp;&nbsp;</span>Shallow Copy and  Deep Copy</a></span><ul class=\"toc-item\"><li><span><a href=\"#Assignment\" data-toc-modified-id=\"Assignment-1.1\"><span class=\"toc-item-num\">1.1&nbsp;&nbsp;</span>Assignment</a></span></li><li><span><a href=\"#Copy\" data-toc-modified-id=\"Copy-1.2\"><span class=\"toc-item-num\">1.2&nbsp;&nbsp;</span>Copy</a></span></li><li><span><a href=\"#Shallow-Copy\" data-toc-modified-id=\"Shallow-Copy-1.3\"><span class=\"toc-item-num\">1.3&nbsp;&nbsp;</span>Shallow Copy</a></span></li><li><span><a href=\"#Deep-Copy\" data-toc-modified-id=\"Deep-Copy-1.4\"><span class=\"toc-item-num\">1.4&nbsp;&nbsp;</span>Deep Copy</a></span></li></ul></li></ul></div>"
   ]
  },
  {
   "cell_type": "markdown",
   "id": "046be02c",
   "metadata": {},
   "source": [
    "# Shallow Copy and  Deep Copy"
   ]
  },
  {
   "cell_type": "markdown",
   "id": "fea12eef",
   "metadata": {},
   "source": [
    "## Assignment"
   ]
  },
  {
   "cell_type": "code",
   "execution_count": 48,
   "id": "05ffca68",
   "metadata": {
    "ExecuteTime": {
     "end_time": "2022-09-25T12:54:52.342052Z",
     "start_time": "2022-09-25T12:54:52.332274Z"
    }
   },
   "outputs": [],
   "source": [
    "l = [1,2,3,4]\n",
    "\n",
    "# Duplicate references created for the same object\n",
    "m = l"
   ]
  },
  {
   "cell_type": "code",
   "execution_count": 49,
   "id": "caf7516d",
   "metadata": {
    "ExecuteTime": {
     "end_time": "2022-09-25T12:55:13.963171Z",
     "start_time": "2022-09-25T12:55:13.956369Z"
    }
   },
   "outputs": [
    {
     "name": "stdout",
     "output_type": "stream",
     "text": [
      "[1, 2, 3, 4] 140174459579520\n",
      "\n",
      "[1, 2, 3, 4] 140174459579520\n"
     ]
    }
   ],
   "source": [
    "print(l, id(l))\n",
    "print()\n",
    "print(m, id(m))"
   ]
  },
  {
   "cell_type": "markdown",
   "id": "3aa46110",
   "metadata": {},
   "source": [
    "## Copy"
   ]
  },
  {
   "cell_type": "code",
   "execution_count": 52,
   "id": "5d82df24",
   "metadata": {
    "ExecuteTime": {
     "end_time": "2022-09-25T12:57:07.123077Z",
     "start_time": "2022-09-25T12:57:07.118807Z"
    }
   },
   "outputs": [],
   "source": [
    "x = [10,20,30,40]\n",
    "\n",
    "# It will create a copy of the object, but not object under object\n",
    "y = x.copy()"
   ]
  },
  {
   "cell_type": "code",
   "execution_count": 53,
   "id": "48307f4c",
   "metadata": {
    "ExecuteTime": {
     "end_time": "2022-09-25T12:57:07.664837Z",
     "start_time": "2022-09-25T12:57:07.658950Z"
    }
   },
   "outputs": [
    {
     "name": "stdout",
     "output_type": "stream",
     "text": [
      "[10, 20, 30, 40] 140174459580096\n",
      "\n",
      "[10, 20, 30, 40] 140174459591616\n"
     ]
    }
   ],
   "source": [
    "print(x, id(x))\n",
    "print()\n",
    "print(y, id(y))"
   ]
  },
  {
   "cell_type": "code",
   "execution_count": 54,
   "id": "262b03a5",
   "metadata": {
    "ExecuteTime": {
     "end_time": "2022-09-25T12:57:26.327107Z",
     "start_time": "2022-09-25T12:57:26.320947Z"
    }
   },
   "outputs": [],
   "source": [
    "x.append(9999)"
   ]
  },
  {
   "cell_type": "code",
   "execution_count": 55,
   "id": "14f0f2ce",
   "metadata": {
    "ExecuteTime": {
     "end_time": "2022-09-25T12:57:30.970008Z",
     "start_time": "2022-09-25T12:57:30.963196Z"
    }
   },
   "outputs": [
    {
     "name": "stdout",
     "output_type": "stream",
     "text": [
      "[10, 20, 30, 40, 9999] 140174459580096\n",
      "\n",
      "[10, 20, 30, 40] 140174459591616\n"
     ]
    }
   ],
   "source": [
    "print(x, id(x))\n",
    "print()\n",
    "print(y, id(y))"
   ]
  },
  {
   "cell_type": "markdown",
   "id": "f9a4d6f4",
   "metadata": {},
   "source": [
    "## Shallow Copy"
   ]
  },
  {
   "cell_type": "code",
   "execution_count": 35,
   "id": "73f81372",
   "metadata": {
    "ExecuteTime": {
     "end_time": "2022-09-25T12:53:23.158588Z",
     "start_time": "2022-09-25T12:53:23.151316Z"
    }
   },
   "outputs": [],
   "source": [
    "import copy\n",
    "x = [10,20,30,40]\n",
    "\n",
    "# It will create a copy of the object, if that object contain any references it will be reused\n",
    "y = copy.copy(x)"
   ]
  },
  {
   "cell_type": "code",
   "execution_count": 36,
   "id": "59371179",
   "metadata": {
    "ExecuteTime": {
     "end_time": "2022-09-25T12:53:23.737366Z",
     "start_time": "2022-09-25T12:53:23.730680Z"
    }
   },
   "outputs": [
    {
     "name": "stdout",
     "output_type": "stream",
     "text": [
      "[10, 20, 30, 40] 140174459461184\n",
      "\n",
      "[10, 20, 30, 40] 140174459581568\n"
     ]
    }
   ],
   "source": [
    "print(x, id(x))\n",
    "print()\n",
    "print(y, id(y))"
   ]
  },
  {
   "cell_type": "code",
   "execution_count": 37,
   "id": "95cffb80",
   "metadata": {
    "ExecuteTime": {
     "end_time": "2022-09-25T12:53:26.246210Z",
     "start_time": "2022-09-25T12:53:26.240807Z"
    }
   },
   "outputs": [],
   "source": [
    "x.append(100)"
   ]
  },
  {
   "cell_type": "code",
   "execution_count": 38,
   "id": "c57e2118",
   "metadata": {
    "ExecuteTime": {
     "end_time": "2022-09-25T12:53:26.785867Z",
     "start_time": "2022-09-25T12:53:26.779009Z"
    }
   },
   "outputs": [
    {
     "name": "stdout",
     "output_type": "stream",
     "text": [
      "[10, 20, 30, 40, 100] 140174459461184\n",
      "\n",
      "[10, 20, 30, 40] 140174459581568\n"
     ]
    }
   ],
   "source": [
    "print(x, id(x))\n",
    "print()\n",
    "print(y, id(y))"
   ]
  },
  {
   "cell_type": "code",
   "execution_count": 56,
   "id": "c3faaf01",
   "metadata": {
    "ExecuteTime": {
     "end_time": "2022-09-25T12:59:58.844263Z",
     "start_time": "2022-09-25T12:59:58.829533Z"
    }
   },
   "outputs": [],
   "source": [
    "import copy\n",
    "x = [10,20, [1000, 2000] ,40]\n",
    "\n",
    "# It will create a copy of the object, if that object contain any references it will be reused\n",
    "y = copy.copy(x)"
   ]
  },
  {
   "cell_type": "code",
   "execution_count": 57,
   "id": "33a5fba4",
   "metadata": {
    "ExecuteTime": {
     "end_time": "2022-09-25T12:59:59.192776Z",
     "start_time": "2022-09-25T12:59:59.174228Z"
    }
   },
   "outputs": [
    {
     "name": "stdout",
     "output_type": "stream",
     "text": [
      "[10, 20, [1000, 2000], 40] 140174459594176\n",
      "\n",
      "[10, 20, [1000, 2000], 40] 140174459457728\n"
     ]
    }
   ],
   "source": [
    "print(x, id(x))\n",
    "print()\n",
    "print(y, id(y))"
   ]
  },
  {
   "cell_type": "code",
   "execution_count": 58,
   "id": "127f1c8d",
   "metadata": {
    "ExecuteTime": {
     "end_time": "2022-09-25T12:59:59.803951Z",
     "start_time": "2022-09-25T12:59:59.798211Z"
    }
   },
   "outputs": [],
   "source": [
    "x[2][0] = 9999"
   ]
  },
  {
   "cell_type": "code",
   "execution_count": 60,
   "id": "8b084c60",
   "metadata": {
    "ExecuteTime": {
     "end_time": "2022-09-25T13:00:05.156362Z",
     "start_time": "2022-09-25T13:00:05.147313Z"
    }
   },
   "outputs": [
    {
     "name": "stdout",
     "output_type": "stream",
     "text": [
      "[10, 20, [9999, 2000], 40] 140174459594176\n",
      "\n",
      "[10, 20, [9999, 2000], 40] 140174459457728\n"
     ]
    }
   ],
   "source": [
    "print(x, id(x))\n",
    "print()\n",
    "print(y, id(y))"
   ]
  },
  {
   "cell_type": "code",
   "execution_count": 61,
   "id": "24b9f685",
   "metadata": {
    "ExecuteTime": {
     "end_time": "2022-09-25T13:00:19.042528Z",
     "start_time": "2022-09-25T13:00:19.034068Z"
    }
   },
   "outputs": [
    {
     "name": "stdout",
     "output_type": "stream",
     "text": [
      "[10, 20, [9999, 2000], 40] 140174459645440\n",
      "\n",
      "[10, 20, [9999, 2000], 40] 140174459645440\n"
     ]
    }
   ],
   "source": [
    "print(x, id(x[2]))\n",
    "print()\n",
    "print(y, id(y[2]))"
   ]
  },
  {
   "cell_type": "code",
   "execution_count": 43,
   "id": "379dbd1f",
   "metadata": {
    "ExecuteTime": {
     "end_time": "2022-09-25T12:53:54.479462Z",
     "start_time": "2022-09-25T12:53:54.474758Z"
    }
   },
   "outputs": [],
   "source": [
    "x.append(101010)"
   ]
  },
  {
   "cell_type": "code",
   "execution_count": 44,
   "id": "2de3e1ba",
   "metadata": {
    "ExecuteTime": {
     "end_time": "2022-09-25T12:53:57.261011Z",
     "start_time": "2022-09-25T12:53:57.254000Z"
    }
   },
   "outputs": [
    {
     "name": "stdout",
     "output_type": "stream",
     "text": [
      "[10, 20, [9999, 2000], 40, 101010] 140174459414784\n",
      "\n",
      "[10, 20, [9999, 2000], 40] 140174459268160\n"
     ]
    }
   ],
   "source": [
    "print(x, id(x))\n",
    "print()\n",
    "print(y, id(y))"
   ]
  },
  {
   "cell_type": "markdown",
   "id": "7da70864",
   "metadata": {},
   "source": [
    "## Deep Copy"
   ]
  },
  {
   "cell_type": "code",
   "execution_count": 62,
   "id": "25ea4820",
   "metadata": {
    "ExecuteTime": {
     "end_time": "2022-09-25T13:05:02.968710Z",
     "start_time": "2022-09-25T13:05:02.956904Z"
    }
   },
   "outputs": [],
   "source": [
    "import copy\n",
    "x = [10,20, [1000, 2000] ,40]\n",
    "\n",
    "# It will create a copy of the object and underlying objects as well\n",
    "y = copy.deepcopy(x)"
   ]
  },
  {
   "cell_type": "code",
   "execution_count": 64,
   "id": "a6003e05",
   "metadata": {
    "ExecuteTime": {
     "end_time": "2022-09-25T13:05:12.901377Z",
     "start_time": "2022-09-25T13:05:12.892520Z"
    }
   },
   "outputs": [
    {
     "name": "stdout",
     "output_type": "stream",
     "text": [
      "[10, 20, [1000, 2000], 40] 140174459632512\n",
      "\n",
      "[10, 20, [1000, 2000], 40] 140174459591616\n"
     ]
    }
   ],
   "source": [
    "print(x, id(x))\n",
    "print()\n",
    "print(y, id(y))"
   ]
  },
  {
   "cell_type": "code",
   "execution_count": 67,
   "id": "1fd77fc8",
   "metadata": {
    "ExecuteTime": {
     "end_time": "2022-09-25T13:05:38.704678Z",
     "start_time": "2022-09-25T13:05:38.628037Z"
    }
   },
   "outputs": [
    {
     "name": "stdout",
     "output_type": "stream",
     "text": [
      "[10, 20, [1000, 2000], 40] 140174459637376\n",
      "\n",
      "[10, 20, [1000, 2000], 40] 140174459594944\n"
     ]
    }
   ],
   "source": [
    "print(x, id(x[2]))\n",
    "print()\n",
    "print(y, id(y[2]))"
   ]
  },
  {
   "cell_type": "code",
   "execution_count": 68,
   "id": "ff33104f",
   "metadata": {
    "ExecuteTime": {
     "end_time": "2022-09-25T13:06:08.949440Z",
     "start_time": "2022-09-25T13:06:08.945949Z"
    }
   },
   "outputs": [],
   "source": [
    "x[2].append(9999)"
   ]
  },
  {
   "cell_type": "code",
   "execution_count": 69,
   "id": "419d316e",
   "metadata": {
    "ExecuteTime": {
     "end_time": "2022-09-25T13:06:17.857065Z",
     "start_time": "2022-09-25T13:06:17.851128Z"
    },
    "scrolled": true
   },
   "outputs": [
    {
     "name": "stdout",
     "output_type": "stream",
     "text": [
      "[10, 20, [1000, 2000, 9999], 40] 140174459632512\n",
      "\n",
      "[10, 20, [1000, 2000], 40] 140174459591616\n"
     ]
    }
   ],
   "source": [
    "print(x, id(x))\n",
    "print()\n",
    "print(y, id(y))"
   ]
  },
  {
   "cell_type": "code",
   "execution_count": null,
   "id": "8162bb2f",
   "metadata": {},
   "outputs": [],
   "source": [
    "# Shallow Copy and  Deep Copy\n",
    "\n",
    "## Assignment\n",
    "\n",
    "l = [1,2,3,4]\n",
    "\n",
    "# Duplicate references created for the same object\n",
    "m = l\n",
    "\n",
    "print(l, id(l))\n",
    "print()\n",
    "print(m, id(m))\n",
    "\n",
    "## Copy\n",
    "\n",
    "x = [10,20,30,40]\n",
    "\n",
    "# It will create a copy of the object, but not object under object\n",
    "y = x.copy()\n",
    "\n",
    "print(x, id(x))\n",
    "print()\n",
    "print(y, id(y))\n",
    "\n",
    "x.append(9999)\n",
    "\n",
    "print(x, id(x))\n",
    "print()\n",
    "print(y, id(y))\n",
    "\n",
    "## Shallow Copy\n",
    "\n",
    "import copy\n",
    "x = [10,20,30,40]\n",
    "\n",
    "# It will create a copy of the object, if that object contain any references it will be reused\n",
    "y = copy.copy(x)\n",
    "\n",
    "print(x, id(x))\n",
    "print()\n",
    "print(y, id(y))\n",
    "\n",
    "x.append(100)\n",
    "\n",
    "print(x, id(x))\n",
    "print()\n",
    "print(y, id(y))\n",
    "\n",
    "import copy\n",
    "x = [10,20, [1000, 2000] ,40]\n",
    "\n",
    "# It will create a copy of the object, if that object contain any references it will be reused\n",
    "y = copy.copy(x)\n",
    "\n",
    "print(x, id(x))\n",
    "print()\n",
    "print(y, id(y))\n",
    "\n",
    "x[2][0] = 9999\n",
    "\n",
    "print(x, id(x))\n",
    "print()\n",
    "print(y, id(y))\n",
    "\n",
    "print(x, id(x[2]))\n",
    "print()\n",
    "print(y, id(y[2]))\n",
    "\n",
    "x.append(101010)\n",
    "\n",
    "print(x, id(x))\n",
    "print()\n",
    "print(y, id(y))\n",
    "\n",
    "## Deep Copy\n",
    "\n",
    "import copy\n",
    "x = [10,20, [1000, 2000] ,40]\n",
    "\n",
    "# It will create a copy of the object and underlying objects as well\n",
    "y = copy.deepcopy(x)\n",
    "\n",
    "print(x, id(x))\n",
    "print()\n",
    "print(y, id(y))\n",
    "\n",
    "print(x, id(x[2]))\n",
    "print()\n",
    "print(y, id(y[2]))\n",
    "\n",
    "x[2].append(9999)\n",
    "\n",
    "print(x, id(x))\n",
    "print()\n",
    "print(y, id(y))"
   ]
  }
 ],
 "metadata": {
  "kernelspec": {
   "display_name": "Python 3 (ipykernel)",
   "language": "python",
   "name": "python3"
  },
  "language_info": {
   "codemirror_mode": {
    "name": "ipython",
    "version": 3
   },
   "file_extension": ".py",
   "mimetype": "text/x-python",
   "name": "python",
   "nbconvert_exporter": "python",
   "pygments_lexer": "ipython3",
   "version": "3.8.13"
  },
  "toc": {
   "base_numbering": 1,
   "nav_menu": {},
   "number_sections": true,
   "sideBar": true,
   "skip_h1_title": false,
   "title_cell": "Table of Contents",
   "title_sidebar": "Contents",
   "toc_cell": true,
   "toc_position": {},
   "toc_section_display": true,
   "toc_window_display": true
  }
 },
 "nbformat": 4,
 "nbformat_minor": 5
}
