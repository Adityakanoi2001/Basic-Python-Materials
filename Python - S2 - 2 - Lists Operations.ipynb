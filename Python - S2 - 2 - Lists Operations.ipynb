{
 "cells": [
  {
   "cell_type": "markdown",
   "metadata": {
    "toc": true
   },
   "source": [
    "<h1>Table of Contents<span class=\"tocSkip\"></span></h1>\n",
    "<div class=\"toc\"><ul class=\"toc-item\"><li><span><a href=\"#Python---Lists-Operations\" data-toc-modified-id=\"Python---Lists-Operations-1\"><span class=\"toc-item-num\">1&nbsp;&nbsp;</span>Python - Lists Operations</a></span><ul class=\"toc-item\"><li><span><a href=\"#Create-List\" data-toc-modified-id=\"Create-List-1.1\"><span class=\"toc-item-num\">1.1&nbsp;&nbsp;</span>Create List</a></span></li><li><span><a href=\"#Append\" data-toc-modified-id=\"Append-1.2\"><span class=\"toc-item-num\">1.2&nbsp;&nbsp;</span>Append</a></span></li><li><span><a href=\"#Extend\" data-toc-modified-id=\"Extend-1.3\"><span class=\"toc-item-num\">1.3&nbsp;&nbsp;</span>Extend</a></span></li><li><span><a href=\"#Insert\" data-toc-modified-id=\"Insert-1.4\"><span class=\"toc-item-num\">1.4&nbsp;&nbsp;</span>Insert</a></span></li><li><span><a href=\"#Remove\" data-toc-modified-id=\"Remove-1.5\"><span class=\"toc-item-num\">1.5&nbsp;&nbsp;</span>Remove</a></span></li><li><span><a href=\"#Pop\" data-toc-modified-id=\"Pop-1.6\"><span class=\"toc-item-num\">1.6&nbsp;&nbsp;</span>Pop</a></span></li><li><span><a href=\"#Del\" data-toc-modified-id=\"Del-1.7\"><span class=\"toc-item-num\">1.7&nbsp;&nbsp;</span>Del</a></span></li><li><span><a href=\"#Assignment\" data-toc-modified-id=\"Assignment-1.8\"><span class=\"toc-item-num\">1.8&nbsp;&nbsp;</span>Assignment</a></span></li><li><span><a href=\"#List\" data-toc-modified-id=\"List-1.9\"><span class=\"toc-item-num\">1.9&nbsp;&nbsp;</span>List</a></span></li><li><span><a href=\"#List\" data-toc-modified-id=\"List-1.10\"><span class=\"toc-item-num\">1.10&nbsp;&nbsp;</span>List</a></span></li><li><span><a href=\"#Index\" data-toc-modified-id=\"Index-1.11\"><span class=\"toc-item-num\">1.11&nbsp;&nbsp;</span>Index</a></span></li><li><span><a href=\"#Count\" data-toc-modified-id=\"Count-1.12\"><span class=\"toc-item-num\">1.12&nbsp;&nbsp;</span>Count</a></span></li><li><span><a href=\"#Slicing\" data-toc-modified-id=\"Slicing-1.13\"><span class=\"toc-item-num\">1.13&nbsp;&nbsp;</span>Slicing</a></span></li><li><span><a href=\"#String-to-List-(Split)\" data-toc-modified-id=\"String-to-List-(Split)-1.14\"><span class=\"toc-item-num\">1.14&nbsp;&nbsp;</span>String to List (Split)</a></span></li><li><span><a href=\"#List-Comprehension\" data-toc-modified-id=\"List-Comprehension-1.15\"><span class=\"toc-item-num\">1.15&nbsp;&nbsp;</span>List Comprehension</a></span></li><li><span><a href=\"#List-Concatenation-&amp;-Replicator-Operator\" data-toc-modified-id=\"List-Concatenation-&amp;-Replicator-Operator-1.16\"><span class=\"toc-item-num\">1.16&nbsp;&nbsp;</span>List Concatenation &amp; Replicator Operator</a></span></li></ul></li><li><span><a href=\"#Operatoins-in-List\" data-toc-modified-id=\"Operatoins-in-List-2\"><span class=\"toc-item-num\">2&nbsp;&nbsp;</span>Operatoins in List</a></span><ul class=\"toc-item\"><li><span><a href=\"#in-operator\" data-toc-modified-id=\"in-operator-2.1\"><span class=\"toc-item-num\">2.1&nbsp;&nbsp;</span>in operator</a></span></li><li><span><a href=\"#Looping\" data-toc-modified-id=\"Looping-2.2\"><span class=\"toc-item-num\">2.2&nbsp;&nbsp;</span>Looping</a></span></li><li><span><a href=\"#List-aliasing\" data-toc-modified-id=\"List-aliasing-2.3\"><span class=\"toc-item-num\">2.3&nbsp;&nbsp;</span>List aliasing</a></span></li><li><span><a href=\"#List-copying\" data-toc-modified-id=\"List-copying-2.4\"><span class=\"toc-item-num\">2.4&nbsp;&nbsp;</span>List copying</a></span></li></ul></li><li><span><a href=\"#Exercise-&amp;-Answers\" data-toc-modified-id=\"Exercise-&amp;-Answers-3\"><span class=\"toc-item-num\">3&nbsp;&nbsp;</span>Exercise &amp; Answers</a></span><ul class=\"toc-item\"><li><span><a href=\"#Exercise\" data-toc-modified-id=\"Exercise-3.1\"><span class=\"toc-item-num\">3.1&nbsp;&nbsp;</span>Exercise</a></span></li><li><span><a href=\"#Answer\" data-toc-modified-id=\"Answer-3.2\"><span class=\"toc-item-num\">3.2&nbsp;&nbsp;</span>Answer</a></span></li></ul></li></ul></div>"
   ]
  },
  {
   "cell_type": "markdown",
   "metadata": {},
   "source": [
    "# Python - Lists Operations"
   ]
  },
  {
   "cell_type": "markdown",
   "metadata": {},
   "source": [
    "## Create List"
   ]
  },
  {
   "cell_type": "markdown",
   "metadata": {},
   "source": [
    "Lists are mutable, i.e. the elements can be added, altered or removed from the list."
   ]
  },
  {
   "cell_type": "code",
   "execution_count": null,
   "metadata": {},
   "outputs": [],
   "source": [
    "my_list = [1 , 2, 3, 4, 5]\n",
    "my_list"
   ]
  },
  {
   "cell_type": "markdown",
   "metadata": {},
   "source": [
    "## Append"
   ]
  },
  {
   "cell_type": "markdown",
   "metadata": {},
   "source": [
    "append() can be used to add an element to the list. "
   ]
  },
  {
   "cell_type": "code",
   "execution_count": null,
   "metadata": {},
   "outputs": [],
   "source": [
    "my_list.append(6) # add new element 6 at end of list\n",
    "my_list"
   ]
  },
  {
   "cell_type": "code",
   "execution_count": null,
   "metadata": {},
   "outputs": [],
   "source": [
    "my_list.append([7,8]) # add list as new element in list\n",
    "my_list"
   ]
  },
  {
   "cell_type": "markdown",
   "metadata": {},
   "source": [
    "## Extend"
   ]
  },
  {
   "cell_type": "markdown",
   "metadata": {},
   "source": [
    "extend() can also be used to add list of elements into list."
   ]
  },
  {
   "cell_type": "code",
   "execution_count": null,
   "metadata": {},
   "outputs": [],
   "source": [
    "my_new_list = [1 , 2, 3, 4, 5]\n",
    "my_new_list"
   ]
  },
  {
   "cell_type": "code",
   "execution_count": null,
   "metadata": {},
   "outputs": [],
   "source": [
    "my_new_list.extend([6])  # an element can be added into the list\n",
    "my_new_list"
   ]
  },
  {
   "cell_type": "code",
   "execution_count": null,
   "metadata": {},
   "outputs": [],
   "source": [
    "my_new_list.extend([7, 8, 9 ])  # list of elements can also be added into the list \n",
    "my_new_list"
   ]
  },
  {
   "cell_type": "markdown",
   "metadata": {},
   "source": [
    "## Insert"
   ]
  },
  {
   "cell_type": "markdown",
   "metadata": {},
   "source": [
    "insert() can be used to add an element at the desired position. "
   ]
  },
  {
   "cell_type": "code",
   "execution_count": null,
   "metadata": {},
   "outputs": [],
   "source": [
    "my_list = [1 , 2, 3, 4, 5]\n",
    "my_list"
   ]
  },
  {
   "cell_type": "code",
   "execution_count": null,
   "metadata": {},
   "outputs": [],
   "source": [
    "my_list.insert(0, 'a')  #insert 'a' at first position\n",
    "my_list"
   ]
  },
  {
   "cell_type": "code",
   "execution_count": null,
   "metadata": {},
   "outputs": [],
   "source": [
    "my_list.insert(len(my_list) , '*****')  #insert '***** at last position\n",
    "my_list"
   ]
  },
  {
   "cell_type": "markdown",
   "metadata": {},
   "source": [
    "## Remove"
   ]
  },
  {
   "cell_type": "markdown",
   "metadata": {},
   "source": [
    "remove() can be used to find the first occurance of the element and to remove it."
   ]
  },
  {
   "cell_type": "code",
   "execution_count": null,
   "metadata": {},
   "outputs": [],
   "source": [
    "my_list = [1 , 2, 3, 4, 5]\n",
    "my_list"
   ]
  },
  {
   "cell_type": "code",
   "execution_count": null,
   "metadata": {},
   "outputs": [],
   "source": [
    "my_list.remove(3) # find first occurance of '3' and remove it from the list\n",
    "my_list"
   ]
  },
  {
   "cell_type": "markdown",
   "metadata": {},
   "source": [
    "## Pop"
   ]
  },
  {
   "cell_type": "markdown",
   "metadata": {},
   "source": [
    "pop() can be used to remove an element from specified index and store its value in a variable. "
   ]
  },
  {
   "cell_type": "code",
   "execution_count": null,
   "metadata": {},
   "outputs": [],
   "source": [
    "my_list = [1 , 2, 3, 4, 5]\n",
    "my_list"
   ]
  },
  {
   "cell_type": "code",
   "execution_count": null,
   "metadata": {},
   "outputs": [],
   "source": [
    "popped_element = my_list.pop(4)\n",
    "print(\"list--->\", my_list)\n",
    "print(\"popped element--->\", popped_element)"
   ]
  },
  {
   "cell_type": "markdown",
   "metadata": {},
   "source": [
    "## Del"
   ]
  },
  {
   "cell_type": "markdown",
   "metadata": {},
   "source": [
    "del() can also used to remove element from the list at specified location."
   ]
  },
  {
   "cell_type": "code",
   "execution_count": null,
   "metadata": {},
   "outputs": [],
   "source": [
    "my_list = [1 , 2, 3, 4, 5]\n",
    "my_list"
   ]
  },
  {
   "cell_type": "code",
   "execution_count": null,
   "metadata": {},
   "outputs": [],
   "source": [
    "del(my_list[1])  # removes the element at 1 index\n",
    "my_list"
   ]
  },
  {
   "cell_type": "markdown",
   "metadata": {},
   "source": [
    "## Assignment"
   ]
  },
  {
   "cell_type": "markdown",
   "metadata": {},
   "source": [
    "Assignment operator can be used to alter the element of list at the desired index."
   ]
  },
  {
   "cell_type": "code",
   "execution_count": null,
   "metadata": {},
   "outputs": [],
   "source": [
    "my_list = [1 , 2, 3, 4, 5]\n",
    "my_list"
   ]
  },
  {
   "cell_type": "code",
   "execution_count": null,
   "metadata": {},
   "outputs": [],
   "source": [
    "my_list[0] = 1111  # change the element at first position to 1111\n",
    "my_list"
   ]
  },
  {
   "cell_type": "code",
   "execution_count": null,
   "metadata": {},
   "outputs": [],
   "source": [
    "my_list[2] = 'abcd'  # change the element at third position to 'abcd'\n",
    "my_list"
   ]
  },
  {
   "cell_type": "markdown",
   "metadata": {},
   "source": [
    "## List"
   ]
  },
  {
   "cell_type": "markdown",
   "metadata": {},
   "source": [
    "sort() can be used to sort the list elements. Default is ascending order."
   ]
  },
  {
   "cell_type": "code",
   "execution_count": null,
   "metadata": {},
   "outputs": [],
   "source": [
    "my_list = [11 , 2, 39, 4, 57]\n",
    "print(\"list before sorting--->\", my_list)\n",
    "\n",
    "print()\n",
    "\n",
    "my_list.sort()\n",
    "print(\"list after sorting--->\", my_list)"
   ]
  },
  {
   "cell_type": "markdown",
   "metadata": {},
   "source": [
    "sort order can be specified as argument. Default is reverse = false. Arranges elements in descending order"
   ]
  },
  {
   "cell_type": "code",
   "execution_count": null,
   "metadata": {},
   "outputs": [],
   "source": [
    "my_list = [11 , 2, 39, 4, 57]\n",
    "print(\"list before sorting--->\", my_list)\n",
    "\n",
    "print()\n",
    "\n",
    "my_list.sort(reverse=True)\n",
    "print(\"list after sorting--->\", my_list)"
   ]
  },
  {
   "cell_type": "markdown",
   "metadata": {},
   "source": [
    "Alternative way to get the sorted list using sorted() method. Original list is not modified."
   ]
  },
  {
   "cell_type": "code",
   "execution_count": null,
   "metadata": {},
   "outputs": [],
   "source": [
    "my_list = [11 , 2, 39, 4, 57]\n",
    "print(\"list before sorted--->\", my_list)\n",
    "\n",
    "print()\n",
    "\n",
    "print(\"list after reversing the order--->\", list(sorted(my_list)))"
   ]
  },
  {
   "cell_type": "markdown",
   "metadata": {},
   "source": [
    "## List"
   ]
  },
  {
   "cell_type": "markdown",
   "metadata": {},
   "source": [
    "reverse() can be used to reverse the order of list elements. "
   ]
  },
  {
   "cell_type": "code",
   "execution_count": null,
   "metadata": {},
   "outputs": [],
   "source": [
    "my_list = [11 , 2, 39, 4, 57]\n",
    "print(\"list before reversing the order--->\", my_list)\n",
    "\n",
    "print()\n",
    "\n",
    "my_list.reverse()\n",
    "print(\"list after reversing the order--->\", my_list)"
   ]
  },
  {
   "cell_type": "markdown",
   "metadata": {},
   "source": [
    "Alternative way to get the reversed list using reversed() method. Original list is not modified."
   ]
  },
  {
   "cell_type": "code",
   "execution_count": null,
   "metadata": {},
   "outputs": [],
   "source": [
    "my_list = [11 , 2, 39, 4, 57]\n",
    "print(\"list before reversing the order--->\", my_list)\n",
    "\n",
    "print()\n",
    "\n",
    "print(\"list after reversing the order--->\", list(reversed(my_list)))"
   ]
  },
  {
   "cell_type": "markdown",
   "metadata": {},
   "source": [
    "## Index"
   ]
  },
  {
   "cell_type": "markdown",
   "metadata": {},
   "source": [
    "index(x) can be used to determine the location of first occurance of element 'x' in the list<br>\n",
    "they maintain the order in which they are inserted into the list. Indexing starts from zero. "
   ]
  },
  {
   "cell_type": "code",
   "execution_count": null,
   "metadata": {},
   "outputs": [],
   "source": [
    "my_list = [11 , 2, 39, 4, 57]\n",
    "my_list.index(39)  # find the location at which element 39 first occures"
   ]
  },
  {
   "cell_type": "code",
   "execution_count": null,
   "metadata": {},
   "outputs": [],
   "source": [
    "my_list = [1, 1.1, 'a', True]\n",
    "my_list"
   ]
  },
  {
   "cell_type": "code",
   "execution_count": null,
   "metadata": {},
   "outputs": [],
   "source": [
    "my_list[0]  # access first element of list"
   ]
  },
  {
   "cell_type": "code",
   "execution_count": null,
   "metadata": {},
   "outputs": [],
   "source": [
    "my_list[len(my_list) - 1] # aceess the last element of list"
   ]
  },
  {
   "cell_type": "markdown",
   "metadata": {},
   "source": [
    "Negative indexing is also allowed on the lists."
   ]
  },
  {
   "cell_type": "code",
   "execution_count": null,
   "metadata": {},
   "outputs": [],
   "source": [
    "print(my_list[0] , \"    \" , my_list[-4])\n",
    "print(my_list[1] , \"    \" , my_list[-3])\n",
    "print(my_list[2] , \"    \" , my_list[-2])\n",
    "print(my_list[3] , \"    \" , my_list[-1])"
   ]
  },
  {
   "cell_type": "code",
   "execution_count": null,
   "metadata": {},
   "outputs": [],
   "source": [
    "my_list = [1, 1.1, 'a', True]\n",
    "my_list\n",
    "\n",
    "my_list[0]  # access first element of list\n",
    "\n",
    "my_list[len(my_list) - 1] # aceess the last element of list\n",
    "\n",
    "Negative indexing is also allowed on the lists.\n",
    "\n",
    "print(my_list[0] , \"    \" , my_list[-4])\n",
    "print(my_list[1] , \"    \" , my_list[-3])\n",
    "print(my_list[2] , \"    \" , my_list[-2])\n",
    "print(my_list[3] , \"    \" , my_list[-1])my_list = [11 , 2, 39, 4, 57]\n",
    "my_list.index(45)  # find the location at which element 45 first occures, throws error as element not present in the list"
   ]
  },
  {
   "cell_type": "markdown",
   "metadata": {},
   "source": [
    "## Count"
   ]
  },
  {
   "cell_type": "markdown",
   "metadata": {},
   "source": [
    "count(x) can be used to determine the count of occurances of element 'x' in the list"
   ]
  },
  {
   "cell_type": "code",
   "execution_count": null,
   "metadata": {},
   "outputs": [],
   "source": [
    "my_list = [11 , 2, 39, 4, 57, 39, 34, 39 ]\n",
    "my_list.count(39)  # count the number of times 39 appears in the list"
   ]
  },
  {
   "cell_type": "code",
   "execution_count": null,
   "metadata": {},
   "outputs": [],
   "source": [
    "my_list = [11 , 2, 39, 4, 57, 39, 34, 39 ]\n",
    "my_list.count(9)  # count the number of times 9 appears in the list"
   ]
  },
  {
   "cell_type": "markdown",
   "metadata": {},
   "source": [
    "clear() can be used to remove all the elements of the list. "
   ]
  },
  {
   "cell_type": "markdown",
   "metadata": {},
   "source": [
    "## Slicing\n",
    "    • list[ start : end : step ]\n",
    "    • List is a kind of circle with start value 0."
   ]
  },
  {
   "cell_type": "code",
   "execution_count": 2,
   "metadata": {
    "ExecuteTime": {
     "end_time": "2020-05-15T13:12:21.534354Z",
     "start_time": "2020-05-15T13:12:21.517353Z"
    }
   },
   "outputs": [],
   "source": [
    "my_list      = [1, 2, 3, 4, 5, 6, 7, 8, 9, 10]\n",
    "# +ve Index     0, 1, 2, 3, 4, 5, 6, 7, 8, 9\n",
    "# -ve Index   -10,-9,-8,-7,-6,-5,-4,-3,-2,-1"
   ]
  },
  {
   "cell_type": "code",
   "execution_count": 6,
   "metadata": {
    "ExecuteTime": {
     "end_time": "2020-05-15T13:14:11.493643Z",
     "start_time": "2020-05-15T13:14:11.479643Z"
    }
   },
   "outputs": [
    {
     "name": "stdout",
     "output_type": "stream",
     "text": [
      "[1, 2, 3, 4, 5, 6, 7, 8, 9, 10]\n"
     ]
    }
   ],
   "source": [
    "print (my_list)"
   ]
  },
  {
   "cell_type": "code",
   "execution_count": 8,
   "metadata": {
    "ExecuteTime": {
     "end_time": "2020-05-15T13:14:14.504816Z",
     "start_time": "2020-05-15T13:14:14.492815Z"
    }
   },
   "outputs": [
    {
     "name": "stdout",
     "output_type": "stream",
     "text": [
      "1\n",
      "6\n"
     ]
    }
   ],
   "source": [
    "print (my_list[0])\n",
    "print (my_list[5])"
   ]
  },
  {
   "cell_type": "code",
   "execution_count": 11,
   "metadata": {
    "ExecuteTime": {
     "end_time": "2020-05-15T13:25:31.021510Z",
     "start_time": "2020-05-15T13:25:30.992508Z"
    }
   },
   "outputs": [
    {
     "name": "stdout",
     "output_type": "stream",
     "text": [
      "4\n",
      "10\n"
     ]
    }
   ],
   "source": [
    "print (my_list[-7])\n",
    "print (my_list[-1])"
   ]
  },
  {
   "cell_type": "code",
   "execution_count": 41,
   "metadata": {
    "ExecuteTime": {
     "end_time": "2020-05-15T14:25:09.330178Z",
     "start_time": "2020-05-15T14:25:09.307176Z"
    }
   },
   "outputs": [
    {
     "name": "stdout",
     "output_type": "stream",
     "text": [
      "[4, 5, 6, 7, 8, 9]\n",
      "[4, 5, 6, 7, 8, 9, 10]\n",
      "[]\n",
      "\n",
      "[]\n",
      "[2, 4, 6, 8]\n",
      "[2, 5, 8]\n",
      "\n",
      "[2, 3, 4, 5, 6, 7, 8, 9, 10]\n",
      "[3, 5, 7]\n",
      "[1, 2, 3, 4, 5]\n",
      "[1, 2, 3, 4, 5, 6, 7, 8, 9, 10]\n",
      "[1, 2, 3, 4, 5, 6, 7, 8, 9, 10]\n",
      "[]\n"
     ]
    }
   ],
   "source": [
    "my_list      = [1, 2, 3, 4, 5, 6, 7, 8, 9, 10]\n",
    "# +ve Index     0, 1, 2, 3, 4, 5, 6, 7, 8, 9\n",
    "# -ve Index   -10,-9,-8,-7,-6,-5,-4,-3,-2,-1\n",
    "\n",
    "\n",
    "\n",
    "# print (my_list[ start : end : step ])\n",
    "print (my_list[  3  :  9  ])            #         End  : 10 (empty-1)th element ;; default Step : 1\n",
    "print (my_list[  3  :     ])            # default End  : last (empty-1)th element\n",
    "print (my_list[  3  :  3  ])            # start and end same index => empty list\n",
    "print ()\n",
    "print (my_list[  3  :  3  : -2  ])      # start and end same index => empty list\n",
    "print (my_list[  1  :  8  :  2  ])      #         End  : at (5-1)th element ;;         step : 2 (every +2 element)\n",
    "print (my_list[  1  :  8  :  3  ])      #         End  : at (5-1)th element ;;         step : 3 (every +3 element)\n",
    "print ()\n",
    "print (my_list[  1  :     :     ])      # start 1 End  : at last    element ;; default step : 1 (every +1 element)\n",
    "print (my_list[     :     :     ])      # deflt 0 End  : at Last    element ;; default step : 1 (every +1 element)\n",
    "print (my_list[  0  : 100 :     ])      # deflt 0 End  : at Last    element ;; default step : 1 (every +1 element)\n",
    "print (my_list[  0  : 100 : -1  ])      # deflt 0 End  : at Last    element ;; default step :-1 (every -1 element)"
   ]
  },
  {
   "cell_type": "code",
   "execution_count": 52,
   "metadata": {
    "ExecuteTime": {
     "end_time": "2020-05-15T14:34:02.409668Z",
     "start_time": "2020-05-15T14:34:02.388667Z"
    },
    "scrolled": false
   },
   "outputs": [
    {
     "name": "stdout",
     "output_type": "stream",
     "text": [
      "[8, 9, 10]\n",
      "[]\n",
      "[8, 7, 6, 5, 4, 3, 2, 1]\n",
      "\n",
      "[6, 5, 4]\n",
      "[10, 8, 6, 4]\n",
      "\n",
      "[3, 5, 7]\n",
      "[1, 2, 3, 4, 5]\n",
      "[1]\n",
      "[10, 9, 8, 7, 6, 5, 4, 3, 2, 1]\n"
     ]
    }
   ],
   "source": [
    "my_list      = [1, 2, 3, 4, 5, 6, 7, 8, 9, 10]\n",
    "# +ve Index     0, 1, 2, 3, 4, 5, 6, 7, 8, 9\n",
    "# -ve Index   -10,-9,-8,-7,-6,-5,-4,-3,-2,-1\n",
    "\n",
    "\n",
    "\n",
    "# print (my_list[ start : end : step ])\n",
    "print (my_list[ -3  :     ])            # default End  : last (empty-1)th element\n",
    "print (my_list[ -3  :-100 ])            # start and end same index => empty list\n",
    "print (my_list[ -3  :-100 : -1  ])      # start and end same index => empty list\n",
    "print ()\n",
    "print (my_list[ -5  : -8  : -1  ])      #         End  : at (5-1)th element ;; default Step : 1\n",
    "print (my_list[ -1  :  2  : -2  ])      #         End  : at (5-1)th element ;; default Step : 1\n",
    "print ()\n",
    "print (my_list[  2  : -2  :  2  ])      # start 1 End  : at (-2-1)th element;;         step : 2 (every +2 element)\n",
    "print (my_list[     : -5  :     ])      # deflt 0 End  : at (5-1)th element ;; default step : 1 (every +1 element)\n",
    "print (my_list[  0  :     : -1  ])      # deflt 0 End  : at (5-1)th element ;; default step : 1 (every +1 element)\n",
    "print (my_list[     :     : -1  ])      # deflt 0 End  : at (5-1)th element ;; default step : 1 (every +1 element)"
   ]
  },
  {
   "cell_type": "code",
   "execution_count": null,
   "metadata": {},
   "outputs": [],
   "source": [
    "my_list = [11 , 2, 39, 4, 57, 39, 34, 39 ]\n",
    "print(\"Original list ---> \", my_list)\n",
    "\n",
    "my_list.clear()\n",
    "print(\"List after clearning the elements---> \", my_list)"
   ]
  },
  {
   "cell_type": "markdown",
   "metadata": {},
   "source": [
    "## String to List (Split)"
   ]
  },
  {
   "cell_type": "markdown",
   "metadata": {},
   "source": [
    "The split method returns a list of the words of string, assuming that words are separated by white spaces. "
   ]
  },
  {
   "cell_type": "code",
   "execution_count": null,
   "metadata": {},
   "outputs": [],
   "source": [
    "my_string = \"this is my string\"\n",
    "my_string"
   ]
  },
  {
   "cell_type": "code",
   "execution_count": null,
   "metadata": {},
   "outputs": [],
   "source": [
    "my_string.split()  # returns the list of words based on white space as delimeter"
   ]
  },
  {
   "cell_type": "code",
   "execution_count": null,
   "metadata": {},
   "outputs": [],
   "source": [
    "comma_separated_string = \"this, is, comma, separated, string\"\n",
    "comma_separated_string"
   ]
  },
  {
   "cell_type": "code",
   "execution_count": null,
   "metadata": {},
   "outputs": [],
   "source": [
    "list1 = comma_separated_string.split(',')  # returns the list of words based on comma as delimeter\n",
    "list1"
   ]
  },
  {
   "cell_type": "markdown",
   "metadata": {},
   "source": [
    "## List Comprehension\n",
    "`1) Using Normal way`<br>\n",
    "`2) Using Looping `<br>\n",
    "`3) Using (map/filter) + lambda`<br>\n",
    "`3) Using zip`<br>"
   ]
  },
  {
   "cell_type": "code",
   "execution_count": 12,
   "metadata": {
    "ExecuteTime": {
     "end_time": "2020-05-18T04:34:08.085394Z",
     "start_time": "2020-05-18T04:34:08.067794Z"
    }
   },
   "outputs": [
    {
     "name": "stdout",
     "output_type": "stream",
     "text": [
      "[1, 2, 3, 4, 5, 6, 7, 8, 9, 10]\n",
      "[1, 2, 3, 4, 5, 6, 7, 8, 9, 10]\n",
      "[1, 2, 3, 4, 5, 6, 7, 8, 9, 10]\n"
     ]
    }
   ],
   "source": [
    "numbers = [1, 2, 3, 4, 5, 6, 7, 8, 9, 10]\n",
    "\n",
    "'''List Comprehension : Normal '''\n",
    "my_list = []\n",
    "for n in numbers:\n",
    "    my_list.append(n)\n",
    "\n",
    "print (my_list)\n",
    "\n",
    "'''List Comprehension : Looping '''\n",
    "my_list = [n for n in numbers]\n",
    "print (my_list)\n",
    "\n",
    "'''List Comprehension : Function '''\n",
    "my_list = map(lambda n: n, numbers)\n",
    "print (list(my_list))"
   ]
  },
  {
   "cell_type": "code",
   "execution_count": 18,
   "metadata": {
    "ExecuteTime": {
     "end_time": "2020-05-18T04:38:37.861446Z",
     "start_time": "2020-05-18T04:38:37.839846Z"
    }
   },
   "outputs": [
    {
     "name": "stdout",
     "output_type": "stream",
     "text": [
      "[1, 4, 9, 16, 25, 36, 49, 64, 81, 100]\n",
      "[1, 4, 9, 16, 25, 36, 49, 64, 81, 100]\n",
      "[1, 4, 9, 16, 25, 36, 49, 64, 81, 100]\n"
     ]
    }
   ],
   "source": [
    "numbers = [1, 2, 3, 4, 5, 6, 7, 8, 9, 10]\n",
    "\n",
    "'''List Comprehension : Normal '''\n",
    "my_list = []\n",
    "for n in numbers:\n",
    "    my_list.append(n*n)\n",
    "\n",
    "print (my_list)\n",
    "\n",
    "'''List Comprehension : Looping '''\n",
    "my_list = [n*n for n in numbers]\n",
    "print (my_list)\n",
    "\n",
    "'''List Comprehension : Function '''\n",
    "my_list = map(lambda n: n*n, numbers)\n",
    "print (list(my_list))"
   ]
  },
  {
   "cell_type": "code",
   "execution_count": 16,
   "metadata": {
    "ExecuteTime": {
     "end_time": "2020-05-18T04:36:42.504752Z",
     "start_time": "2020-05-18T04:36:42.482152Z"
    }
   },
   "outputs": [
    {
     "name": "stdout",
     "output_type": "stream",
     "text": [
      "[2, 4, 6, 8, 10]\n",
      "[2, 4, 6, 8, 10]\n",
      "[2, 4, 6, 8, 10]\n"
     ]
    }
   ],
   "source": [
    "numbers = [1, 2, 3, 4, 5, 6, 7, 8, 9, 10]\n",
    "\n",
    "'''List Comprehension : Normal with condition '''\n",
    "my_list = []\n",
    "for n in numbers:\n",
    "    if n%2 == 0:\n",
    "        my_list.append(n)\n",
    "\n",
    "print (my_list)\n",
    "\n",
    "'''List Comprehension : Looping with condition '''\n",
    "my_list = [n for n in numbers if n%2 == 0]\n",
    "print (my_list)\n",
    "\n",
    "'''List Comprehension : Function with condition '''\n",
    "my_list = filter(lambda n: n%2 == 0, numbers)\n",
    "print (list(my_list))"
   ]
  },
  {
   "cell_type": "code",
   "execution_count": 26,
   "metadata": {
    "ExecuteTime": {
     "end_time": "2020-05-18T05:05:22.631433Z",
     "start_time": "2020-05-18T05:05:22.611833Z"
    }
   },
   "outputs": [
    {
     "name": "stdout",
     "output_type": "stream",
     "text": [
      "[('a', 0), ('a', 1), ('a', 2), ('b', 0), ('b', 1), ('b', 2), ('c', 0), ('c', 1), ('c', 2)]\n",
      "[('a', 0), ('a', 1), ('a', 2), ('b', 0), ('b', 1), ('b', 2), ('c', 0), ('c', 1), ('c', 2)]\n",
      "[('a', 0), ('b', 1), ('c', 2)]\n"
     ]
    }
   ],
   "source": [
    "'''List Comprehension : Normal with condition & Nested List '''\n",
    "my_list = []\n",
    "for letter in 'abc':\n",
    "    for n in range(3):\n",
    "      my_list.append((letter,n))\n",
    "\n",
    "print (my_list)\n",
    "\n",
    "'''List Comprehension : Looping with condition & Nested List '''\n",
    "my_list = [(letter,n ) for letter in 'abc' for n in range(3)]\n",
    "print (my_list)\n",
    "\n",
    "'''List Comprehension : ZIP '''\n",
    "print (list(zip('abc', range(3))))"
   ]
  },
  {
   "cell_type": "code",
   "execution_count": 25,
   "metadata": {
    "ExecuteTime": {
     "end_time": "2020-05-18T05:03:39.467939Z",
     "start_time": "2020-05-18T05:03:39.448339Z"
    },
    "scrolled": true
   },
   "outputs": [
    {
     "name": "stdout",
     "output_type": "stream",
     "text": [
      "[('Bruce Wyne', 'BatMan'), ('Clark', 'SuperMan'), ('Peter', 'SpiderMan'), ('Logan', 'X-Men'), ('Wade', 'DeadPool')]\n"
     ]
    }
   ],
   "source": [
    "names = ['Bruce Wyne', 'Clark', 'Peter', 'Logan', 'Wade']\n",
    "heros = ['BatMan', 'SuperMan', 'SpiderMan', 'X-Men', 'DeadPool']\n",
    "\n",
    "'''List Comprehension : ZIP '''\n",
    "print (list(zip(names, heros)))"
   ]
  },
  {
   "cell_type": "markdown",
   "metadata": {},
   "source": [
    "## List Concatenation & Replicator Operator"
   ]
  },
  {
   "cell_type": "raw",
   "metadata": {},
   "source": [
    "List Concatenation Operator: +\n",
    "List Replicator Operator: *"
   ]
  },
  {
   "cell_type": "markdown",
   "metadata": {},
   "source": [
    "# Operatoins in List"
   ]
  },
  {
   "cell_type": "markdown",
   "metadata": {},
   "source": [
    "## in operator"
   ]
  },
  {
   "cell_type": "markdown",
   "metadata": {},
   "source": [
    "The in operator is helpful to find out if a list contains an element in it or not. "
   ]
  },
  {
   "cell_type": "code",
   "execution_count": null,
   "metadata": {},
   "outputs": [],
   "source": [
    "my_list = [1, 1.1, 'a', True]\n",
    "my_list"
   ]
  },
  {
   "cell_type": "code",
   "execution_count": null,
   "metadata": {},
   "outputs": [],
   "source": [
    "1 in my_list  # check whether 1 is present in list"
   ]
  },
  {
   "cell_type": "code",
   "execution_count": null,
   "metadata": {},
   "outputs": [],
   "source": [
    "1 not in my_list # check whether 1 is not present in list"
   ]
  },
  {
   "cell_type": "code",
   "execution_count": null,
   "metadata": {},
   "outputs": [],
   "source": [
    "'this' in my_list #check whether 'this' is present in the list or not"
   ]
  },
  {
   "cell_type": "markdown",
   "metadata": {},
   "source": [
    "## Looping"
   ]
  },
  {
   "cell_type": "markdown",
   "metadata": {},
   "source": [
    "One can iterate over the elements present in the list using the for loop."
   ]
  },
  {
   "cell_type": "code",
   "execution_count": null,
   "metadata": {},
   "outputs": [],
   "source": [
    "my_list = [1, 1.1, 'a', True]\n",
    "my_list"
   ]
  },
  {
   "cell_type": "markdown",
   "metadata": {},
   "source": [
    "## List aliasing"
   ]
  },
  {
   "cell_type": "markdown",
   "metadata": {},
   "source": [
    "The same list can be referred by two different list variables. Changing the one list affects the other as well. "
   ]
  },
  {
   "cell_type": "code",
   "execution_count": null,
   "metadata": {},
   "outputs": [],
   "source": [
    "list1 = [1, 2, 3, 4, 5]\n",
    "print(\"Original list1\")\n",
    "print(\"list1---->   \", list1)\n",
    "\n",
    "print()\n",
    "\n",
    "list2 = list1  # list2 is referring to list1, both having same elements\n",
    "print(\"List2 is referring to list1, both having same elements\")\n",
    "print(\"list1---->   \", list1)\n",
    "print(\"list2---->   \", list2)\n",
    "\n",
    "\n",
    "print()\n",
    "#Alter the element of list1 , both lists will get altered\n",
    "list1[0] = 'a' #change first element of list1 \n",
    "print(\"After aletring the first element of list1, list2 is also altered\")\n",
    "print(\"list1---->   \", list1)\n",
    "print(\"list2---->   \", list2)\n",
    "\n",
    "print()\n",
    "#Alter the element of list2 , both lists will get altered\n",
    "list2[3] = '******' #change fourth element of list2\n",
    "print(\"After aletring the fourth element of list2, list1 is also altered\")\n",
    "print(\"list2---->   \", list2)\n",
    "print(\"list1---->   \", list1)"
   ]
  },
  {
   "cell_type": "markdown",
   "metadata": {},
   "source": [
    "## List copying"
   ]
  },
  {
   "cell_type": "markdown",
   "metadata": {},
   "source": [
    "In order to avoid the side effect, list elements can be copied using the following way. By that way, alterations in one list does not affect the elements in the other list from which its copied."
   ]
  },
  {
   "cell_type": "markdown",
   "metadata": {},
   "source": [
    "There are three ways of list copying. <br>\n",
    "    new_list = orig_list.copy()<br>\n",
    "    new_list = orig_list[:] <br>\n",
    "    new_list = list(orig_list) <br>"
   ]
  },
  {
   "cell_type": "code",
   "execution_count": null,
   "metadata": {},
   "outputs": [],
   "source": [
    "list1 = [1, 2, 3, 4, 5]\n",
    "print(\"Original list1\")\n",
    "print(\"list1---->   \", list1)\n",
    "\n",
    "print()\n",
    "\n",
    "list2 = list1[:]  # copy all elements of list1 into list2\n",
    "print(\"List1 and list2 are two different list , both having same elements\")\n",
    "print(\"list1---->   \", list1)\n",
    "print(\"list2---->   \", list2)\n",
    "\n",
    "\n",
    "print()\n",
    "#Alter the element of list1 \n",
    "list1[0] = 'a' #change first element of list1 \n",
    "print(\"After aletring the first element of list1, list2 is not altered\")\n",
    "print(\"list1---->   \", list1)\n",
    "print(\"list2---->   \", list2)\n",
    "\n",
    "print()\n",
    "#Alter the element of list2 \n",
    "list2[3] = '******' #change fourth element of list2\n",
    "print(\"After aletring the fourth element of list2, list1 is not altered\")\n",
    "print(\"list2---->   \", list2)\n",
    "print(\"list1---->   \", list1)"
   ]
  },
  {
   "cell_type": "code",
   "execution_count": null,
   "metadata": {},
   "outputs": [],
   "source": [
    "for element in my_list:\n",
    "    print(element)"
   ]
  },
  {
   "cell_type": "markdown",
   "metadata": {},
   "source": [
    "# Exercise & Answers"
   ]
  },
  {
   "cell_type": "markdown",
   "metadata": {},
   "source": [
    "## Exercise"
   ]
  },
  {
   "cell_type": "markdown",
   "metadata": {},
   "source": [
    "Q1. Write a program that accepts 5 lists from the user, each one of which contains three values in it assignment marks, midsem marks and compre marks. <br>\n",
    "    (a) Compute the total marks obtained by each student <br>\n",
    "    (b) Print out the average of the class. "
   ]
  },
  {
   "cell_type": "code",
   "execution_count": null,
   "metadata": {},
   "outputs": [],
   "source": [
    "#Try it here\n"
   ]
  },
  {
   "cell_type": "markdown",
   "metadata": {},
   "source": [
    "Q2. Ask a use to enter a sentence <br>\n",
    "    (a) Print out the third word of sentence <br>\n",
    "    (b) Print out every second word of sentence"
   ]
  },
  {
   "cell_type": "code",
   "execution_count": null,
   "metadata": {},
   "outputs": [],
   "source": [
    "#Try it here\n"
   ]
  },
  {
   "cell_type": "markdown",
   "metadata": {},
   "source": [
    "Q3. Create the following lists using a for loop.<br>\n",
    "    (a) A list consisting of the integers 0 through 49<br>\n",
    "    (b) A list containing the squares of integers 1 through 50 <br>\n",
    "    (c) The list ['aa', 'bb', 'cc'.....] that ends with 26 th letter 'z'.\n",
    "    "
   ]
  },
  {
   "cell_type": "code",
   "execution_count": null,
   "metadata": {},
   "outputs": [],
   "source": [
    "#Try it here\n"
   ]
  },
  {
   "cell_type": "markdown",
   "metadata": {},
   "source": [
    "Q4. Write a program that counts the number of occurances of word in a sentence entered by user without using built in function."
   ]
  },
  {
   "cell_type": "code",
   "execution_count": null,
   "metadata": {},
   "outputs": [],
   "source": [
    "#Try it here\n"
   ]
  },
  {
   "cell_type": "markdown",
   "metadata": {},
   "source": [
    "Q5. Ask a user to enter a list of strings. Create a new list that consists of those strings with their first characters removed."
   ]
  },
  {
   "cell_type": "code",
   "execution_count": null,
   "metadata": {},
   "outputs": [],
   "source": [
    "#Try it here\n"
   ]
  },
  {
   "cell_type": "markdown",
   "metadata": {},
   "source": [
    "Q1. Write a program that accepts 5 integers from the user. Store those integers as part of list. Output the following without using any of the built-in fuction available : <br>\n",
    "    (a) square of all the integers in the list <br>\n",
    "    (b) sum of all the integers in the list    <br>\n",
    "    (c) product of all the integers in the list <br>"
   ]
  },
  {
   "cell_type": "code",
   "execution_count": null,
   "metadata": {},
   "outputs": [],
   "source": [
    "#Try it here\n"
   ]
  },
  {
   "cell_type": "markdown",
   "metadata": {},
   "source": [
    "Q2. Write a program that will reverse the elements of the list without using any built-in function."
   ]
  },
  {
   "cell_type": "code",
   "execution_count": null,
   "metadata": {},
   "outputs": [],
   "source": [
    "#Try it here\n"
   ]
  },
  {
   "cell_type": "markdown",
   "metadata": {},
   "source": [
    "Q3. Start with the list [ 8, 9 , 10]. Do the following :<br>\n",
    "    (a) Set the second entry to 17 <br>\n",
    "    (b) Add 4,5, and 6 to the end of list<br>\n",
    "    (c) Remove the first entry from the list<br>\n",
    "    (d) Double the list<br>\n",
    "    (e) Insert 25 at the index 3 <br><br>\n",
    "    \n",
    "    The final list should look like [17, 10, 4, 25, 5, 6, 17, 10, 4, 5, 6 ]"
   ]
  },
  {
   "cell_type": "code",
   "execution_count": null,
   "metadata": {},
   "outputs": [],
   "source": [
    "#Try it here\n"
   ]
  },
  {
   "cell_type": "markdown",
   "metadata": {},
   "source": [
    "## Answer"
   ]
  },
  {
   "cell_type": "code",
   "execution_count": null,
   "metadata": {},
   "outputs": [],
   "source": [
    "#Q1 Solution\n",
    "\n",
    "count = 3\n",
    "\n",
    "number_list = []\n",
    "\n",
    "for i in range(count):\n",
    "    number = int(input(\"Enter an integer\\n\"))\n",
    "    number_list.append(number)\n",
    "\n",
    "sum = 0 \n",
    "product = 1 \n",
    "sq_number_list = []\n",
    "\n",
    "for number in number_list:\n",
    "    sum = sum + number\n",
    "    product = product * number\n",
    "    square = number * number \n",
    "    sq_number_list.append(square)\n",
    "    \n",
    "    \n",
    "print()\n",
    "print(\"The sum of all numbers is \" , sum)\n",
    "print(\"The product of all numbers is \" , product)\n",
    "print(\"The square of number is\")\n",
    "for i in range(len(number_list)):\n",
    "    print(\"number-->  \", number_list[i], \"   square --->\", sq_number_list[i])"
   ]
  },
  {
   "cell_type": "code",
   "execution_count": null,
   "metadata": {},
   "outputs": [],
   "source": [
    "#Q2 Solution\n",
    "\n",
    "orig_list = ['a', 'b', 'c', 'd', 'e']\n",
    "\n",
    "orig_list\n",
    "\n",
    "length = len(orig_list)\n",
    "length = length * (-1)\n",
    "\n",
    "for i in range(-1, length - 1, -1 ):\n",
    "    print(orig_list[i])"
   ]
  },
  {
   "cell_type": "code",
   "execution_count": null,
   "metadata": {},
   "outputs": [],
   "source": [
    "#Q3 Solution\n",
    "\n",
    "L = [ 8, 9 , 10]\n",
    "print(\"Original list \", L)\n",
    "\n",
    "#(a) Set the second entry to 17 \n",
    "L[1] = 17 \n",
    "print()\n",
    "print(\"(a) Set the second entry to 17--->\", L)\n",
    "\n",
    "#(b) Add 4,5, and 6 to the end of list\n",
    "L.extend([4,5,6])\n",
    "print()\n",
    "print(\"(b) Add 4,5, and 6 to the end of list--->\", L)\n",
    "\n",
    "#(c) Remove the first entry from the list\n",
    "L.remove(L[0])\n",
    "print()\n",
    "print(\"(c) Remove the first entry from the list--->\", L)\n",
    "\n",
    "#(d) Double the list\n",
    "L = L * 2\n",
    "print()\n",
    "print(\"(d) Double the list--->\", L)\n",
    "\n",
    "\n",
    "#(e) Insert 25 at the index 3 \n",
    "L.insert(3, 25)\n",
    "print()\n",
    "print(\"(d) Double the list--->\", L)"
   ]
  },
  {
   "cell_type": "code",
   "execution_count": null,
   "metadata": {},
   "outputs": [],
   "source": [
    "#Q1 solution\n",
    "\n",
    "count = 2\n",
    "\n",
    "mark_lists = []\n",
    "\n",
    "for i in range(count):\n",
    "    str_values = input(\"Enter a list containing assignment, midsem and regular exam marks separated by comma\\n\")\n",
    "    mark_list = str_values.split(\",\")\n",
    "    mark_list = [int(mark) for mark in mark_list]\n",
    "    mark_lists.append(mark_list)\n",
    "\n",
    "i = 1 \n",
    "grand_total = 0 \n",
    "\n",
    "print(\"\\n(ID)   Total\")\n",
    "for mark_list in mark_lists:\n",
    "    total = sum(mark_list)\n",
    "    print(\"(\", i, \") \", total)\n",
    "    grand_total = grand_total + total\n",
    "    i = i + 1\n",
    "\n",
    "average =   grand_total / len(mark_lists)  \n",
    "    \n",
    "print(\"\\n Average of the class : \", average)"
   ]
  },
  {
   "cell_type": "code",
   "execution_count": null,
   "metadata": {},
   "outputs": [],
   "source": [
    "#Q2 solution\n",
    "\n",
    "sentence = input(\"Please enter a sentense having more than three words\\n\")\n",
    "\n",
    "list_of_word = sentence.split()\n",
    "\n",
    "#(a) Print out the third word of sentence \n",
    "print('Third word of sentence : ', list_of_word[2])\n",
    "\n",
    "\n",
    "#(b) Print out every third word of sentence\n",
    "new_list = list_of_word[ 2: : 3]\n",
    "for word in new_list:\n",
    "        print(word)"
   ]
  },
  {
   "cell_type": "code",
   "execution_count": null,
   "metadata": {},
   "outputs": [],
   "source": [
    "#Q3 solution\n",
    "\n",
    "#(a) A list consisting of the integers 0 through 49\n",
    "print(\"A list consisting of the integers 0 through 49\")\n",
    "L = [i for i in range(50)]\n",
    "print(L)\n",
    "print()\n",
    "\n",
    "#(b) A list containing the squares of integers 1 through 50 \n",
    "print(\"A list containing the squares of integers 1 through 50 \")\n",
    "L = [i*i for i in range(51)]\n",
    "print(L)\n",
    "print()\n",
    "\n",
    "#(c) The list ['aa', 'bb', 'cc'.....] that ends with 26 th letter 'z'.\n",
    "string = 'abcdefghijklmnopqrstuvwxyz'\n",
    "print('The list  ')\n",
    "L = [letter * 2 for letter in string ]\n",
    "print(L)\n",
    "print()"
   ]
  },
  {
   "cell_type": "code",
   "execution_count": null,
   "metadata": {},
   "outputs": [],
   "source": [
    "#Q4 SOlution\n",
    "\n",
    "sentence = input(\"Please enter a sentense\\n\")\n",
    "\n",
    "list_of_word = sentence.split()\n",
    "\n",
    "list_of_unique_words = []\n",
    "count_of_unique_words = []\n",
    "\n",
    "for word in list_of_word:\n",
    "    cnt = list_of_word.count(word)\n",
    "    print(word , \"    \", cnt)"
   ]
  },
  {
   "cell_type": "code",
   "execution_count": null,
   "metadata": {},
   "outputs": [],
   "source": [
    "#Q5 SOlution\n",
    "\n",
    "count = 3\n",
    "list_of_strings = []\n",
    "list_of_modified_strings = []\n",
    "\n",
    "for i in range(count):\n",
    "    string = input(\"enter a string \\n\")\n",
    "    new_string = string[1:]\n",
    "    list_of_strings.append(string)\n",
    "    list_of_modified_strings.append(new_string)\n",
    "     \n",
    "print(\"The output is\\n\")  \n",
    "print(\"Original      Modified\")  \n",
    "for i in range(len(list_of_strings)):\n",
    "    print(list_of_strings[i], \"      \", list_of_modified_strings[i])"
   ]
  }
 ],
 "metadata": {
  "kernelspec": {
   "display_name": "Python 3 (ipykernel)",
   "language": "python",
   "name": "python3"
  },
  "language_info": {
   "codemirror_mode": {
    "name": "ipython",
    "version": 3
   },
   "file_extension": ".py",
   "mimetype": "text/x-python",
   "name": "python",
   "nbconvert_exporter": "python",
   "pygments_lexer": "ipython3",
   "version": "3.8.13"
  },
  "toc": {
   "base_numbering": 1,
   "nav_menu": {},
   "number_sections": true,
   "sideBar": true,
   "skip_h1_title": false,
   "title_cell": "Table of Contents",
   "title_sidebar": "Contents",
   "toc_cell": true,
   "toc_position": {},
   "toc_section_display": true,
   "toc_window_display": true
  }
 },
 "nbformat": 4,
 "nbformat_minor": 2
}
