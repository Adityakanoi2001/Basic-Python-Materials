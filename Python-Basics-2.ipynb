{
 "cells": [
  {
   "cell_type": "markdown",
   "metadata": {
    "toc": true
   },
   "source": [
    "<h1>Table of Contents<span class=\"tocSkip\"></span></h1>\n",
    "<div class=\"toc\"><ul class=\"toc-item\"><li><span><a href=\"#Variables-Scope---LEGB\" data-toc-modified-id=\"Variables-Scope---LEGB-1\"><span class=\"toc-item-num\">1&nbsp;&nbsp;</span>Variables Scope - LEGB</a></span><ul class=\"toc-item\"><li><span><a href=\"#L-:-Local-Scope\" data-toc-modified-id=\"L-:-Local-Scope-1.1\"><span class=\"toc-item-num\">1.1&nbsp;&nbsp;</span>L : Local Scope</a></span></li><li><span><a href=\"#E-:-Enclosing-Scope\" data-toc-modified-id=\"E-:-Enclosing-Scope-1.2\"><span class=\"toc-item-num\">1.2&nbsp;&nbsp;</span>E : Enclosing Scope</a></span><ul class=\"toc-item\"><li><span><a href=\"#Enclosing-vs-Local\" data-toc-modified-id=\"Enclosing-vs-Local-1.2.1\"><span class=\"toc-item-num\">1.2.1&nbsp;&nbsp;</span>Enclosing vs Local</a></span></li><li><span><a href=\"#Global-vs-Enclosing-vs-Local\" data-toc-modified-id=\"Global-vs-Enclosing-vs-Local-1.2.2\"><span class=\"toc-item-num\">1.2.2&nbsp;&nbsp;</span>Global vs Enclosing vs Local</a></span></li></ul></li><li><span><a href=\"#G-:-Global-Scope\" data-toc-modified-id=\"G-:-Global-Scope-1.3\"><span class=\"toc-item-num\">1.3&nbsp;&nbsp;</span>G : Global Scope</a></span><ul class=\"toc-item\"><li><span><a href=\"#Global-vs-Local\" data-toc-modified-id=\"Global-vs-Local-1.3.1\"><span class=\"toc-item-num\">1.3.1&nbsp;&nbsp;</span>Global vs Local</a></span></li></ul></li><li><span><a href=\"#Built-In-Scope\" data-toc-modified-id=\"Built-In-Scope-1.4\"><span class=\"toc-item-num\">1.4&nbsp;&nbsp;</span>Built-In Scope</a></span><ul class=\"toc-item\"><li><span><a href=\"#Global-vs-Built-In\" data-toc-modified-id=\"Global-vs-Built-In-1.4.1\"><span class=\"toc-item-num\">1.4.1&nbsp;&nbsp;</span>Global vs Built-In</a></span></li></ul></li></ul></li><li><span><a href=\"#Slicing-Operations\" data-toc-modified-id=\"Slicing-Operations-2\"><span class=\"toc-item-num\">2&nbsp;&nbsp;</span>Slicing Operations</a></span><ul class=\"toc-item\"><li><span><a href=\"#List-Slicing\" data-toc-modified-id=\"List-Slicing-2.1\"><span class=\"toc-item-num\">2.1&nbsp;&nbsp;</span>List Slicing</a></span></li><li><span><a href=\"#String-Slicing\" data-toc-modified-id=\"String-Slicing-2.2\"><span class=\"toc-item-num\">2.2&nbsp;&nbsp;</span>String Slicing</a></span></li></ul></li><li><span><a href=\"#Comprehensions\" data-toc-modified-id=\"Comprehensions-3\"><span class=\"toc-item-num\">3&nbsp;&nbsp;</span>Comprehensions</a></span><ul class=\"toc-item\"><li><span><a href=\"#List-Comprehension\" data-toc-modified-id=\"List-Comprehension-3.1\"><span class=\"toc-item-num\">3.1&nbsp;&nbsp;</span>List Comprehension</a></span></li><li><span><a href=\"#Dict-Comprehension\" data-toc-modified-id=\"Dict-Comprehension-3.2\"><span class=\"toc-item-num\">3.2&nbsp;&nbsp;</span>Dict Comprehension</a></span></li><li><span><a href=\"#Set-Comprehension\" data-toc-modified-id=\"Set-Comprehension-3.3\"><span class=\"toc-item-num\">3.3&nbsp;&nbsp;</span>Set Comprehension</a></span></li></ul></li><li><span><a href=\"#Sorting\" data-toc-modified-id=\"Sorting-4\"><span class=\"toc-item-num\">4&nbsp;&nbsp;</span>Sorting</a></span><ul class=\"toc-item\"><li><span><a href=\"#List-Sorting\" data-toc-modified-id=\"List-Sorting-4.1\"><span class=\"toc-item-num\">4.1&nbsp;&nbsp;</span>List Sorting</a></span></li><li><span><a href=\"#Tuple-Sorting\" data-toc-modified-id=\"Tuple-Sorting-4.2\"><span class=\"toc-item-num\">4.2&nbsp;&nbsp;</span>Tuple Sorting</a></span></li><li><span><a href=\"#Set-Sorting\" data-toc-modified-id=\"Set-Sorting-4.3\"><span class=\"toc-item-num\">4.3&nbsp;&nbsp;</span>Set Sorting</a></span></li><li><span><a href=\"#Dict-Sorting\" data-toc-modified-id=\"Dict-Sorting-4.4\"><span class=\"toc-item-num\">4.4&nbsp;&nbsp;</span>Dict Sorting</a></span></li></ul></li></ul></div>"
   ]
  },
  {
   "cell_type": "markdown",
   "metadata": {},
   "source": [
    "# Variables Scope - LEGB\n",
    "In a Programe, Scope of variables determines<br>\n",
    "\n",
    "    • Where the variables can be accessed from\n",
    "    • What values the variables holding in different context\n",
    "\n",
    "`1) Local       : Variables defined with-in a Function`<br>\n",
    "`2) Enclosing   : Variables in Local scope of Enclosing function(Func with Func)`<br>\n",
    "`3) Global      : Variables declared in the Top level of the Module OR mentioned using Global KeyWord`<br>\n",
    "`4) Built-in    : Names that are Pre-Assigned in Python`<br>"
   ]
  },
  {
   "cell_type": "markdown",
   "metadata": {},
   "source": [
    "## L : Local Scope\n",
    "    • Variables that will live until the function execution completes\n",
    "    • We cannot refer these variables anymore outside of the function\n",
    "    • If you want to Access these variables use **return**\n",
    "    \n",
    "    • SELF CONTAINED : It will not worry about what outside program doing"
   ]
  },
  {
   "cell_type": "code",
   "execution_count": 6,
   "metadata": {
    "ExecuteTime": {
     "end_time": "2020-05-14T04:44:05.627991Z",
     "start_time": "2020-05-14T04:44:05.607990Z"
    }
   },
   "outputs": [
    {
     "name": "stdout",
     "output_type": "stream",
     "text": [
      "Local Variable Y\n"
     ]
    }
   ],
   "source": [
    "def local_scope():\n",
    "  y = 'Local Variable Y'\n",
    "  print (y)\n",
    "\n",
    "local_scope()"
   ]
  },
  {
   "cell_type": "code",
   "execution_count": 7,
   "metadata": {
    "ExecuteTime": {
     "end_time": "2020-05-14T04:46:52.345910Z",
     "start_time": "2020-05-14T04:46:51.904897Z"
    }
   },
   "outputs": [
    {
     "name": "stdout",
     "output_type": "stream",
     "text": [
      "Local Variable Y\n"
     ]
    },
    {
     "ename": "NameError",
     "evalue": "name 'y' is not defined",
     "output_type": "error",
     "traceback": [
      "\u001b[1;31m---------------------------------------------------------------------------\u001b[0m",
      "\u001b[1;31mNameError\u001b[0m                                 Traceback (most recent call last)",
      "\u001b[1;32m<ipython-input-7-f66eef0d6dce>\u001b[0m in \u001b[0;36m<module>\u001b[1;34m\u001b[0m\n\u001b[0;32m      4\u001b[0m \u001b[1;33m\u001b[0m\u001b[0m\n\u001b[0;32m      5\u001b[0m \u001b[0mlocal_scope\u001b[0m\u001b[1;33m(\u001b[0m\u001b[1;33m)\u001b[0m\u001b[1;33m\u001b[0m\u001b[1;33m\u001b[0m\u001b[0m\n\u001b[1;32m----> 6\u001b[1;33m \u001b[0mprint\u001b[0m \u001b[1;33m(\u001b[0m\u001b[0my\u001b[0m\u001b[1;33m)\u001b[0m\u001b[1;33m\u001b[0m\u001b[1;33m\u001b[0m\u001b[0m\n\u001b[0m",
      "\u001b[1;31mNameError\u001b[0m: name 'y' is not defined"
     ]
    }
   ],
   "source": [
    "def local_scope():\n",
    "  y = 'Local Variable Y'\n",
    "  print (y)\n",
    "\n",
    "local_scope()\n",
    "print (y)"
   ]
  },
  {
   "cell_type": "code",
   "execution_count": 12,
   "metadata": {
    "ExecuteTime": {
     "end_time": "2020-05-14T04:49:47.446297Z",
     "start_time": "2020-05-14T04:49:47.430697Z"
    }
   },
   "outputs": [
    {
     "name": "stdout",
     "output_type": "stream",
     "text": [
      "Local Variable Y - Become Global\n"
     ]
    }
   ],
   "source": [
    "def local_scope():\n",
    "  y = 'Local Variable Y'\n",
    "  return (y)\n",
    "\n",
    "print (local_scope() + ' - Become Global')"
   ]
  },
  {
   "cell_type": "markdown",
   "metadata": {},
   "source": [
    "## E : Enclosing Scope\n",
    "    • Enclosing scope is a nested functions\n",
    "    • Variable will always look for local scope if not found go for Enclosing scope\n",
    "    • Similar to Global and Local"
   ]
  },
  {
   "cell_type": "code",
   "execution_count": 3,
   "metadata": {
    "ExecuteTime": {
     "end_time": "2020-05-14T05:24:47.677398Z",
     "start_time": "2020-05-14T05:24:47.649898Z"
    }
   },
   "outputs": [
    {
     "name": "stdout",
     "output_type": "stream",
     "text": [
      "inner func x\n",
      "outer func x\n"
     ]
    }
   ],
   "source": [
    "def outer():\n",
    "  x = 'outer func x'\n",
    "  \n",
    "  def inner():\n",
    "    x = 'inner func x'\n",
    "    print (x)\n",
    "    \n",
    "  inner()\n",
    "  print(x)\n",
    "\n",
    "outer()"
   ]
  },
  {
   "cell_type": "markdown",
   "metadata": {},
   "source": [
    "### Enclosing vs Local"
   ]
  },
  {
   "cell_type": "code",
   "execution_count": 4,
   "metadata": {
    "ExecuteTime": {
     "end_time": "2020-05-14T05:26:28.156836Z",
     "start_time": "2020-05-14T05:26:28.139336Z"
    }
   },
   "outputs": [
    {
     "name": "stdout",
     "output_type": "stream",
     "text": [
      "outer func x\n",
      "outer func x\n"
     ]
    }
   ],
   "source": [
    "def outer():\n",
    "  x = 'outer func x'\n",
    "  \n",
    "  def inner():\n",
    "    #x = 'inner func x'\n",
    "    print (x)\n",
    "    \n",
    "  inner()\n",
    "  print(x)\n",
    "\n",
    "outer()"
   ]
  },
  {
   "cell_type": "code",
   "execution_count": 5,
   "metadata": {
    "ExecuteTime": {
     "end_time": "2020-05-14T05:28:56.468102Z",
     "start_time": "2020-05-14T05:28:56.091081Z"
    }
   },
   "outputs": [
    {
     "name": "stdout",
     "output_type": "stream",
     "text": [
      "inner func x\n"
     ]
    },
    {
     "ename": "NameError",
     "evalue": "name 'x' is not defined",
     "output_type": "error",
     "traceback": [
      "\u001b[1;31m---------------------------------------------------------------------------\u001b[0m",
      "\u001b[1;31mNameError\u001b[0m                                 Traceback (most recent call last)",
      "\u001b[1;32m<ipython-input-5-60ad6c2327f0>\u001b[0m in \u001b[0;36m<module>\u001b[1;34m\u001b[0m\n\u001b[0;32m      9\u001b[0m   \u001b[0mprint\u001b[0m\u001b[1;33m(\u001b[0m\u001b[0mx\u001b[0m\u001b[1;33m)\u001b[0m\u001b[1;33m\u001b[0m\u001b[1;33m\u001b[0m\u001b[0m\n\u001b[0;32m     10\u001b[0m \u001b[1;33m\u001b[0m\u001b[0m\n\u001b[1;32m---> 11\u001b[1;33m \u001b[0mouter\u001b[0m\u001b[1;33m(\u001b[0m\u001b[1;33m)\u001b[0m\u001b[1;33m\u001b[0m\u001b[1;33m\u001b[0m\u001b[0m\n\u001b[0m",
      "\u001b[1;32m<ipython-input-5-60ad6c2327f0>\u001b[0m in \u001b[0;36mouter\u001b[1;34m()\u001b[0m\n\u001b[0;32m      7\u001b[0m \u001b[1;33m\u001b[0m\u001b[0m\n\u001b[0;32m      8\u001b[0m   \u001b[0minner\u001b[0m\u001b[1;33m(\u001b[0m\u001b[1;33m)\u001b[0m\u001b[1;33m\u001b[0m\u001b[1;33m\u001b[0m\u001b[0m\n\u001b[1;32m----> 9\u001b[1;33m   \u001b[0mprint\u001b[0m\u001b[1;33m(\u001b[0m\u001b[0mx\u001b[0m\u001b[1;33m)\u001b[0m\u001b[1;33m\u001b[0m\u001b[1;33m\u001b[0m\u001b[0m\n\u001b[0m\u001b[0;32m     10\u001b[0m \u001b[1;33m\u001b[0m\u001b[0m\n\u001b[0;32m     11\u001b[0m \u001b[0mouter\u001b[0m\u001b[1;33m(\u001b[0m\u001b[1;33m)\u001b[0m\u001b[1;33m\u001b[0m\u001b[1;33m\u001b[0m\u001b[0m\n",
      "\u001b[1;31mNameError\u001b[0m: name 'x' is not defined"
     ]
    }
   ],
   "source": [
    "def outer():\n",
    "  #x = 'outer func x'\n",
    "  \n",
    "  def inner():\n",
    "    x = 'inner func x'\n",
    "    print (x)\n",
    "    \n",
    "  inner()\n",
    "  print(x)\n",
    "\n",
    "outer()"
   ]
  },
  {
   "cell_type": "code",
   "execution_count": 9,
   "metadata": {
    "ExecuteTime": {
     "end_time": "2020-05-14T05:33:41.949001Z",
     "start_time": "2020-05-14T05:33:41.927401Z"
    }
   },
   "outputs": [
    {
     "name": "stdout",
     "output_type": "stream",
     "text": [
      "inner func x\n",
      "inner func x\n"
     ]
    }
   ],
   "source": [
    "def outer():\n",
    "  x = 'outer func x'\n",
    "  \n",
    "  def inner():\n",
    "    nonlocal x\n",
    "    x = 'inner func x'\n",
    "    print (x)\n",
    "    \n",
    "  inner()\n",
    "  print(x)\n",
    "\n",
    "outer()"
   ]
  },
  {
   "cell_type": "markdown",
   "metadata": {},
   "source": [
    "### Global vs Enclosing vs Local"
   ]
  },
  {
   "cell_type": "code",
   "execution_count": 8,
   "metadata": {
    "ExecuteTime": {
     "end_time": "2020-05-14T05:32:59.613981Z",
     "start_time": "2020-05-14T05:32:59.602981Z"
    }
   },
   "outputs": [
    {
     "name": "stdout",
     "output_type": "stream",
     "text": [
      "inner func x\n",
      "Global Variabe X\n"
     ]
    }
   ],
   "source": [
    "x = 'Global Variabe X'\n",
    "\n",
    "def outer():\n",
    "  #x = 'outer func x'\n",
    "  \n",
    "  def inner():\n",
    "    x = 'inner func x'\n",
    "    print (x)\n",
    "    \n",
    "  inner()\n",
    "  print(x)\n",
    "\n",
    "outer()"
   ]
  },
  {
   "cell_type": "code",
   "execution_count": 10,
   "metadata": {
    "ExecuteTime": {
     "end_time": "2020-05-14T05:34:28.817956Z",
     "start_time": "2020-05-14T05:34:28.784756Z"
    }
   },
   "outputs": [
    {
     "ename": "SyntaxError",
     "evalue": "no binding for nonlocal 'x' found (<ipython-input-10-00528ab043f1>, line 8)",
     "output_type": "error",
     "traceback": [
      "\u001b[1;36m  File \u001b[1;32m\"<ipython-input-10-00528ab043f1>\"\u001b[1;36m, line \u001b[1;32m8\u001b[0m\n\u001b[1;33m    nonlocal x\u001b[0m\n\u001b[1;37m    ^\u001b[0m\n\u001b[1;31mSyntaxError\u001b[0m\u001b[1;31m:\u001b[0m no binding for nonlocal 'x' found\n"
     ]
    }
   ],
   "source": [
    "x = 'Global Variabe X'\n",
    "\n",
    "def outer():\n",
    "  global x\n",
    "  x = 'outer func x'\n",
    "  # At this point no Enclosing x\n",
    "  \n",
    "  def inner():\n",
    "    nonlocal x\n",
    "    # So, nonlocal x cannot refer enclosing x\n",
    "    x = 'inner func x'\n",
    "    print (x)\n",
    "    \n",
    "  inner()\n",
    "  print(x)\n",
    "\n",
    "outer()"
   ]
  },
  {
   "cell_type": "code",
   "execution_count": 11,
   "metadata": {
    "ExecuteTime": {
     "end_time": "2020-05-14T05:36:23.134484Z",
     "start_time": "2020-05-14T05:36:23.118484Z"
    }
   },
   "outputs": [
    {
     "ename": "SyntaxError",
     "evalue": "name 'x' is assigned to before global declaration (<ipython-input-11-a31d99b39955>, line 7)",
     "output_type": "error",
     "traceback": [
      "\u001b[1;36m  File \u001b[1;32m\"<ipython-input-11-a31d99b39955>\"\u001b[1;36m, line \u001b[1;32m7\u001b[0m\n\u001b[1;33m    global x\u001b[0m\n\u001b[1;37m    ^\u001b[0m\n\u001b[1;31mSyntaxError\u001b[0m\u001b[1;31m:\u001b[0m name 'x' is assigned to before global declaration\n"
     ]
    }
   ],
   "source": [
    "x = 'Global Variabe X'\n",
    "\n",
    "def outer():\n",
    "  x = 'outer func x'\n",
    "  # At this point there is a Enclosing x\n",
    "  \n",
    "  global x\n",
    "  x = 'outer func x'\n",
    "  \n",
    "  def inner():\n",
    "    nonlocal x\n",
    "    \n",
    "    x = 'inner func x'\n",
    "    print (x)\n",
    "    \n",
    "  inner()\n",
    "  print(x)\n",
    "\n",
    "outer()"
   ]
  },
  {
   "cell_type": "code",
   "execution_count": 13,
   "metadata": {
    "ExecuteTime": {
     "end_time": "2020-05-14T05:37:32.753466Z",
     "start_time": "2020-05-14T05:37:32.714464Z"
    }
   },
   "outputs": [
    {
     "name": "stdout",
     "output_type": "stream",
     "text": [
      "inner func x\n",
      "outer func x\n",
      "Global Variabe X\n"
     ]
    }
   ],
   "source": [
    "x = 'Global Variabe X'\n",
    "\n",
    "def outer():\n",
    "  x = 'outer func x'\n",
    "  \n",
    "  def inner():\n",
    "    x = 'inner func x'\n",
    "    print (x)\n",
    "    \n",
    "  inner()\n",
    "  print(x)\n",
    "\n",
    "outer()\n",
    "print(x)"
   ]
  },
  {
   "cell_type": "code",
   "execution_count": 14,
   "metadata": {
    "ExecuteTime": {
     "end_time": "2020-05-14T05:37:54.742724Z",
     "start_time": "2020-05-14T05:37:54.713723Z"
    }
   },
   "outputs": [
    {
     "name": "stdout",
     "output_type": "stream",
     "text": [
      "Global Variabe X\n",
      "Global Variabe X\n",
      "Global Variabe X\n"
     ]
    }
   ],
   "source": [
    "x = 'Global Variabe X'\n",
    "\n",
    "def outer():\n",
    "  #x = 'outer func x'\n",
    "  \n",
    "  def inner():\n",
    "    #x = 'inner func x'\n",
    "    print (x)\n",
    "    \n",
    "  inner()\n",
    "  print(x)\n",
    "\n",
    "outer()\n",
    "print(x)"
   ]
  },
  {
   "cell_type": "markdown",
   "metadata": {},
   "source": [
    "## G : Global Scope\n",
    "    • Global Variables are defined for the whole program or module\n",
    "    • If a function variables having same variable name with global, it will act in local scope\n",
    "    • Global scope will never affect other scope until global keyword is used\n",
    "    • Should not use global keyword more often\n",
    "    \n",
    "    • It will not worry about what functions are doing - Until global keyword"
   ]
  },
  {
   "cell_type": "code",
   "execution_count": 15,
   "metadata": {
    "ExecuteTime": {
     "end_time": "2020-05-14T04:52:55.257378Z",
     "start_time": "2020-05-14T04:52:55.234777Z"
    }
   },
   "outputs": [
    {
     "name": "stdout",
     "output_type": "stream",
     "text": [
      "Global Variable X\n",
      "Local Variable Y\n"
     ]
    }
   ],
   "source": [
    "x = 'Global Variable X'\n",
    "\n",
    "def local_scope():\n",
    "  y = 'Local Variable Y'\n",
    "  print (y)\n",
    "\n",
    "print (x)\n",
    "local_scope()"
   ]
  },
  {
   "cell_type": "code",
   "execution_count": 19,
   "metadata": {
    "ExecuteTime": {
     "end_time": "2020-05-14T04:53:55.059811Z",
     "start_time": "2020-05-14T04:53:55.034210Z"
    }
   },
   "outputs": [
    {
     "name": "stdout",
     "output_type": "stream",
     "text": [
      "Global Variable X\n",
      "Global Variable X\n",
      "Local Variable Y\n"
     ]
    }
   ],
   "source": [
    "x = 'Global Variable X'\n",
    "\n",
    "def local_scope():\n",
    "  y = 'Local Variable Y'\n",
    "  print (x)\n",
    "  print (y)\n",
    "\n",
    "print (x)\n",
    "local_scope()"
   ]
  },
  {
   "cell_type": "code",
   "execution_count": 3,
   "metadata": {
    "ExecuteTime": {
     "end_time": "2020-06-21T07:00:05.678082Z",
     "start_time": "2020-06-21T07:00:05.622079Z"
    },
    "scrolled": false
   },
   "outputs": [
    {
     "name": "stdout",
     "output_type": "stream",
     "text": [
      "Global Variable X\n",
      "Global Variable X\n",
      "Local Variable Y\n",
      "{'In': ['',\n",
      "        'x '\n",
      "        '= '\n",
      "        \"'Global \"\n",
      "        'Variable '\n",
      "        \"X'\\n\"\n",
      "        '\\n'\n",
      "        'def '\n",
      "        'local_scope():\\n'\n",
      "        '  '\n",
      "        'y '\n",
      "        '= '\n",
      "        \"'Local \"\n",
      "        'Variable '\n",
      "        \"Y'\\n\"\n",
      "        '  '\n",
      "        'print '\n",
      "        '(x)\\n'\n",
      "        '  '\n",
      "        'print '\n",
      "        '(y)\\n'\n",
      "        '  '\n",
      "        'print(globals())\\n'\n",
      "        '\\n'\n",
      "        'print '\n",
      "        '(x)\\n'\n",
      "        'local_scope()',\n",
      "        'import '\n",
      "        'pprint\\n'\n",
      "        'x '\n",
      "        '= '\n",
      "        \"'Global \"\n",
      "        'Variable '\n",
      "        \"X'\\n\"\n",
      "        '\\n'\n",
      "        'def '\n",
      "        'local_scope():\\n'\n",
      "        '  '\n",
      "        'y '\n",
      "        '= '\n",
      "        \"'Local \"\n",
      "        'Variable '\n",
      "        \"Y'\\n\"\n",
      "        '  '\n",
      "        'print '\n",
      "        '(x)\\n'\n",
      "        '  '\n",
      "        'print '\n",
      "        '(y)\\n'\n",
      "        '  '\n",
      "        'print(globals())\\n'\n",
      "        '  '\n",
      "        'pprint.pprint(dict(globals()), '\n",
      "        'width '\n",
      "        '= '\n",
      "        '1)\\n'\n",
      "        '\\n'\n",
      "        'print '\n",
      "        '(x)\\n'\n",
      "        'local_scope()',\n",
      "        'import '\n",
      "        'pprint\\n'\n",
      "        'x '\n",
      "        '= '\n",
      "        \"'Global \"\n",
      "        'Variable '\n",
      "        \"X'\\n\"\n",
      "        '\\n'\n",
      "        'def '\n",
      "        'local_scope():\\n'\n",
      "        '  '\n",
      "        'y '\n",
      "        '= '\n",
      "        \"'Local \"\n",
      "        'Variable '\n",
      "        \"Y'\\n\"\n",
      "        '  '\n",
      "        'print '\n",
      "        '(x)\\n'\n",
      "        '  '\n",
      "        'print '\n",
      "        '(y)\\n'\n",
      "        '  '\n",
      "        'pprint.pprint(dict(globals()), '\n",
      "        'width '\n",
      "        '= '\n",
      "        '1)\\n'\n",
      "        '\\n'\n",
      "        'print '\n",
      "        '(x)\\n'\n",
      "        'local_scope()'],\n",
      " 'NamespaceMagics': <class 'IPython.core.magics.namespace.NamespaceMagics'>,\n",
      " 'Out': {},\n",
      " '_': '',\n",
      " '_Jupyter': <ipykernel.zmqshell.ZMQInteractiveShell object at 0x0000000004E93388>,\n",
      " '__': '',\n",
      " '___': '',\n",
      " '__builtin__': <module 'builtins' (built-in)>,\n",
      " '__builtins__': <module 'builtins' (built-in)>,\n",
      " '__doc__': 'Automatically '\n",
      "            'created '\n",
      "            'module '\n",
      "            'for '\n",
      "            'IPython '\n",
      "            'interactive '\n",
      "            'environment',\n",
      " '__loader__': None,\n",
      " '__name__': '__main__',\n",
      " '__package__': None,\n",
      " '__spec__': None,\n",
      " '_dh': ['C:\\\\Users\\\\Vignesh_Palanivel\\\\Google '\n",
      "         'Drive\\\\Jupyter '\n",
      "         'Notebooks\\\\Python_Notebooks'],\n",
      " '_getshapeof': <function _getshapeof at 0x0000000004FF5F78>,\n",
      " '_getsizeof': <function _getsizeof at 0x00000000050224C8>,\n",
      " '_i': 'import '\n",
      "       'pprint\\n'\n",
      "       'x '\n",
      "       '= '\n",
      "       \"'Global \"\n",
      "       'Variable '\n",
      "       \"X'\\n\"\n",
      "       '\\n'\n",
      "       'def '\n",
      "       'local_scope():\\n'\n",
      "       '  '\n",
      "       'y '\n",
      "       '= '\n",
      "       \"'Local \"\n",
      "       'Variable '\n",
      "       \"Y'\\n\"\n",
      "       '  '\n",
      "       'print '\n",
      "       '(x)\\n'\n",
      "       '  '\n",
      "       'print '\n",
      "       '(y)\\n'\n",
      "       '  '\n",
      "       'print(globals())\\n'\n",
      "       '  '\n",
      "       'pprint.pprint(dict(globals()), '\n",
      "       'width '\n",
      "       '= '\n",
      "       '1)\\n'\n",
      "       '\\n'\n",
      "       'print '\n",
      "       '(x)\\n'\n",
      "       'local_scope()',\n",
      " '_i1': 'x '\n",
      "        '= '\n",
      "        \"'Global \"\n",
      "        'Variable '\n",
      "        \"X'\\n\"\n",
      "        '\\n'\n",
      "        'def '\n",
      "        'local_scope():\\n'\n",
      "        '  '\n",
      "        'y '\n",
      "        '= '\n",
      "        \"'Local \"\n",
      "        'Variable '\n",
      "        \"Y'\\n\"\n",
      "        '  '\n",
      "        'print '\n",
      "        '(x)\\n'\n",
      "        '  '\n",
      "        'print '\n",
      "        '(y)\\n'\n",
      "        '  '\n",
      "        'print(globals())\\n'\n",
      "        '\\n'\n",
      "        'print '\n",
      "        '(x)\\n'\n",
      "        'local_scope()',\n",
      " '_i2': 'import '\n",
      "        'pprint\\n'\n",
      "        'x '\n",
      "        '= '\n",
      "        \"'Global \"\n",
      "        'Variable '\n",
      "        \"X'\\n\"\n",
      "        '\\n'\n",
      "        'def '\n",
      "        'local_scope():\\n'\n",
      "        '  '\n",
      "        'y '\n",
      "        '= '\n",
      "        \"'Local \"\n",
      "        'Variable '\n",
      "        \"Y'\\n\"\n",
      "        '  '\n",
      "        'print '\n",
      "        '(x)\\n'\n",
      "        '  '\n",
      "        'print '\n",
      "        '(y)\\n'\n",
      "        '  '\n",
      "        'print(globals())\\n'\n",
      "        '  '\n",
      "        'pprint.pprint(dict(globals()), '\n",
      "        'width '\n",
      "        '= '\n",
      "        '1)\\n'\n",
      "        '\\n'\n",
      "        'print '\n",
      "        '(x)\\n'\n",
      "        'local_scope()',\n",
      " '_i3': 'import '\n",
      "        'pprint\\n'\n",
      "        'x '\n",
      "        '= '\n",
      "        \"'Global \"\n",
      "        'Variable '\n",
      "        \"X'\\n\"\n",
      "        '\\n'\n",
      "        'def '\n",
      "        'local_scope():\\n'\n",
      "        '  '\n",
      "        'y '\n",
      "        '= '\n",
      "        \"'Local \"\n",
      "        'Variable '\n",
      "        \"Y'\\n\"\n",
      "        '  '\n",
      "        'print '\n",
      "        '(x)\\n'\n",
      "        '  '\n",
      "        'print '\n",
      "        '(y)\\n'\n",
      "        '  '\n",
      "        'pprint.pprint(dict(globals()), '\n",
      "        'width '\n",
      "        '= '\n",
      "        '1)\\n'\n",
      "        '\\n'\n",
      "        'print '\n",
      "        '(x)\\n'\n",
      "        'local_scope()',\n",
      " '_ih': ['',\n",
      "         'x '\n",
      "         '= '\n",
      "         \"'Global \"\n",
      "         'Variable '\n",
      "         \"X'\\n\"\n",
      "         '\\n'\n",
      "         'def '\n",
      "         'local_scope():\\n'\n",
      "         '  '\n",
      "         'y '\n",
      "         '= '\n",
      "         \"'Local \"\n",
      "         'Variable '\n",
      "         \"Y'\\n\"\n",
      "         '  '\n",
      "         'print '\n",
      "         '(x)\\n'\n",
      "         '  '\n",
      "         'print '\n",
      "         '(y)\\n'\n",
      "         '  '\n",
      "         'print(globals())\\n'\n",
      "         '\\n'\n",
      "         'print '\n",
      "         '(x)\\n'\n",
      "         'local_scope()',\n",
      "         'import '\n",
      "         'pprint\\n'\n",
      "         'x '\n",
      "         '= '\n",
      "         \"'Global \"\n",
      "         'Variable '\n",
      "         \"X'\\n\"\n",
      "         '\\n'\n",
      "         'def '\n",
      "         'local_scope():\\n'\n",
      "         '  '\n",
      "         'y '\n",
      "         '= '\n",
      "         \"'Local \"\n",
      "         'Variable '\n",
      "         \"Y'\\n\"\n",
      "         '  '\n",
      "         'print '\n",
      "         '(x)\\n'\n",
      "         '  '\n",
      "         'print '\n",
      "         '(y)\\n'\n",
      "         '  '\n",
      "         'print(globals())\\n'\n",
      "         '  '\n",
      "         'pprint.pprint(dict(globals()), '\n",
      "         'width '\n",
      "         '= '\n",
      "         '1)\\n'\n",
      "         '\\n'\n",
      "         'print '\n",
      "         '(x)\\n'\n",
      "         'local_scope()',\n",
      "         'import '\n",
      "         'pprint\\n'\n",
      "         'x '\n",
      "         '= '\n",
      "         \"'Global \"\n",
      "         'Variable '\n",
      "         \"X'\\n\"\n",
      "         '\\n'\n",
      "         'def '\n",
      "         'local_scope():\\n'\n",
      "         '  '\n",
      "         'y '\n",
      "         '= '\n",
      "         \"'Local \"\n",
      "         'Variable '\n",
      "         \"Y'\\n\"\n",
      "         '  '\n",
      "         'print '\n",
      "         '(x)\\n'\n",
      "         '  '\n",
      "         'print '\n",
      "         '(y)\\n'\n",
      "         '  '\n",
      "         'pprint.pprint(dict(globals()), '\n",
      "         'width '\n",
      "         '= '\n",
      "         '1)\\n'\n",
      "         '\\n'\n",
      "         'print '\n",
      "         '(x)\\n'\n",
      "         'local_scope()'],\n",
      " '_ii': 'x '\n",
      "        '= '\n",
      "        \"'Global \"\n",
      "        'Variable '\n",
      "        \"X'\\n\"\n",
      "        '\\n'\n",
      "        'def '\n",
      "        'local_scope():\\n'\n",
      "        '  '\n",
      "        'y '\n",
      "        '= '\n",
      "        \"'Local \"\n",
      "        'Variable '\n",
      "        \"Y'\\n\"\n",
      "        '  '\n",
      "        'print '\n",
      "        '(x)\\n'\n",
      "        '  '\n",
      "        'print '\n",
      "        '(y)\\n'\n",
      "        '  '\n",
      "        'print(globals())\\n'\n",
      "        '\\n'\n",
      "        'print '\n",
      "        '(x)\\n'\n",
      "        'local_scope()',\n",
      " '_iii': '',\n",
      " '_nms': <IPython.core.magics.namespace.NamespaceMagics object at 0x0000000005C5DB08>,\n",
      " '_oh': {},\n",
      " 'exit': <IPython.core.autocall.ZMQExitAutocall object at 0x0000000004FA4348>,\n",
      " 'get_ipython': <function get_ipython at 0x0000000002A3F0D8>,\n",
      " 'getsizeof': <built-in function getsizeof>,\n",
      " 'json': <module 'json' from 'C:\\\\ProgramData\\\\Anaconda3\\\\lib\\\\json\\\\__init__.py'>,\n",
      " 'local_scope': <function local_scope at 0x0000000004FF5E58>,\n",
      " 'np': <module 'numpy' from 'C:\\\\ProgramData\\\\Anaconda3\\\\lib\\\\site-packages\\\\numpy\\\\__init__.py'>,\n",
      " 'pprint': <module 'pprint' from 'C:\\\\ProgramData\\\\Anaconda3\\\\lib\\\\pprint.py'>,\n",
      " 'quit': <IPython.core.autocall.ZMQExitAutocall object at 0x0000000004FA4348>,\n",
      " 'var_dic_list': <function var_dic_list at 0x0000000004FF55E8>,\n",
      " 'x': 'Global '\n",
      "      'Variable '\n",
      "      'X',\n",
      " 'yapf_reformat': <function yapf_reformat at 0x00000000050220D8>}\n"
     ]
    }
   ],
   "source": [
    "import pprint\n",
    "x = 'Global Variable X'\n",
    "\n",
    "def local_scope():\n",
    "  y = 'Local Variable Y'\n",
    "  print (x)\n",
    "  print (y)\n",
    "  pprint.pprint(dict(globals()), width = 1)\n",
    "\n",
    "print (x)\n",
    "local_scope()"
   ]
  },
  {
   "cell_type": "markdown",
   "metadata": {},
   "source": [
    "### Global vs Local"
   ]
  },
  {
   "cell_type": "code",
   "execution_count": 20,
   "metadata": {
    "ExecuteTime": {
     "end_time": "2020-05-14T04:54:02.384345Z",
     "start_time": "2020-05-14T04:54:02.352343Z"
    }
   },
   "outputs": [
    {
     "name": "stdout",
     "output_type": "stream",
     "text": [
      "Global Variable X\n",
      "Global Variable X\n",
      "Local Variable Y\n"
     ]
    },
    {
     "ename": "NameError",
     "evalue": "name 'y' is not defined",
     "output_type": "error",
     "traceback": [
      "\u001b[1;31m---------------------------------------------------------------------------\u001b[0m",
      "\u001b[1;31mNameError\u001b[0m                                 Traceback (most recent call last)",
      "\u001b[1;32m<ipython-input-20-8bd01e0bb1a7>\u001b[0m in \u001b[0;36m<module>\u001b[1;34m\u001b[0m\n\u001b[0;32m      8\u001b[0m \u001b[0mprint\u001b[0m \u001b[1;33m(\u001b[0m\u001b[0mx\u001b[0m\u001b[1;33m)\u001b[0m\u001b[1;33m\u001b[0m\u001b[1;33m\u001b[0m\u001b[0m\n\u001b[0;32m      9\u001b[0m \u001b[0mlocal_scope\u001b[0m\u001b[1;33m(\u001b[0m\u001b[1;33m)\u001b[0m\u001b[1;33m\u001b[0m\u001b[1;33m\u001b[0m\u001b[0m\n\u001b[1;32m---> 10\u001b[1;33m \u001b[0mprint\u001b[0m \u001b[1;33m(\u001b[0m\u001b[0my\u001b[0m\u001b[1;33m)\u001b[0m\u001b[1;33m\u001b[0m\u001b[1;33m\u001b[0m\u001b[0m\n\u001b[0m",
      "\u001b[1;31mNameError\u001b[0m: name 'y' is not defined"
     ]
    }
   ],
   "source": [
    "x = 'Global Variable X'\n",
    "\n",
    "def local_scope():\n",
    "  y = 'Local Variable Y'\n",
    "  print (x)\n",
    "  print (y)\n",
    "\n",
    "print (x)\n",
    "local_scope()\n",
    "print (y)"
   ]
  },
  {
   "cell_type": "code",
   "execution_count": 22,
   "metadata": {
    "ExecuteTime": {
     "end_time": "2020-05-14T04:57:01.281404Z",
     "start_time": "2020-05-14T04:57:01.265804Z"
    }
   },
   "outputs": [
    {
     "name": "stdout",
     "output_type": "stream",
     "text": [
      "Local Variable Y\n",
      "Global Variable X\n"
     ]
    }
   ],
   "source": [
    "x = 'Global Variable X'\n",
    "\n",
    "def local_scope():\n",
    "  x = 'Local Variable Y'\n",
    "  print (x)\n",
    "\n",
    "local_scope()\n",
    "print (x)"
   ]
  },
  {
   "cell_type": "code",
   "execution_count": 24,
   "metadata": {
    "ExecuteTime": {
     "end_time": "2020-05-14T05:02:00.804176Z",
     "start_time": "2020-05-14T05:02:00.783576Z"
    }
   },
   "outputs": [
    {
     "name": "stdout",
     "output_type": "stream",
     "text": [
      "Local Variable Y\n",
      "Local Variable Y\n"
     ]
    }
   ],
   "source": [
    "x = 'Global Variable X'\n",
    "\n",
    "def local_scope():\n",
    "  global x\n",
    "  x = 'Local Variable Y'\n",
    "  print (x)\n",
    "\n",
    "local_scope()\n",
    "print (x)"
   ]
  },
  {
   "cell_type": "code",
   "execution_count": 30,
   "metadata": {
    "ExecuteTime": {
     "end_time": "2020-05-14T05:03:17.168453Z",
     "start_time": "2020-05-14T05:03:17.142853Z"
    }
   },
   "outputs": [
    {
     "name": "stdout",
     "output_type": "stream",
     "text": [
      "Local Variable Y\n",
      "Local Variable Y\n"
     ]
    }
   ],
   "source": [
    "def local_scope():\n",
    "  global x\n",
    "  x = 'Local Variable Y'\n",
    "  print (x)\n",
    "\n",
    "x = 'Global Variable X'\n",
    "\n",
    "local_scope()\n",
    "print (x)"
   ]
  },
  {
   "cell_type": "code",
   "execution_count": 32,
   "metadata": {
    "ExecuteTime": {
     "end_time": "2020-05-14T05:08:57.856413Z",
     "start_time": "2020-05-14T05:08:57.831413Z"
    }
   },
   "outputs": [
    {
     "name": "stdout",
     "output_type": "stream",
     "text": [
      "Local Variable Y\n",
      "Global Variable X\n"
     ]
    }
   ],
   "source": [
    "def local_scope():\n",
    "  global x\n",
    "  x = 'Local Variable Y'\n",
    "  print (x)\n",
    "\n",
    "local_scope()\n",
    "\n",
    "x = 'Global Variable X'\n",
    "print (x)"
   ]
  },
  {
   "cell_type": "code",
   "execution_count": 34,
   "metadata": {
    "ExecuteTime": {
     "end_time": "2020-05-14T05:09:35.245373Z",
     "start_time": "2020-05-14T05:09:35.219772Z"
    }
   },
   "outputs": [
    {
     "name": "stdout",
     "output_type": "stream",
     "text": [
      "Local Variable Z\n"
     ]
    }
   ],
   "source": [
    "def local_scope(z):\n",
    "  print (z)\n",
    "\n",
    "local_scope('Local Variable Z')"
   ]
  },
  {
   "cell_type": "code",
   "execution_count": 35,
   "metadata": {
    "ExecuteTime": {
     "end_time": "2020-05-14T05:09:46.412948Z",
     "start_time": "2020-05-14T05:09:46.371748Z"
    }
   },
   "outputs": [
    {
     "name": "stdout",
     "output_type": "stream",
     "text": [
      "Local Variable Z\n"
     ]
    },
    {
     "ename": "NameError",
     "evalue": "name 'z' is not defined",
     "output_type": "error",
     "traceback": [
      "\u001b[1;31m---------------------------------------------------------------------------\u001b[0m",
      "\u001b[1;31mNameError\u001b[0m                                 Traceback (most recent call last)",
      "\u001b[1;32m<ipython-input-35-a2d15469465f>\u001b[0m in \u001b[0;36m<module>\u001b[1;34m\u001b[0m\n\u001b[0;32m      3\u001b[0m \u001b[1;33m\u001b[0m\u001b[0m\n\u001b[0;32m      4\u001b[0m \u001b[0mlocal_scope\u001b[0m\u001b[1;33m(\u001b[0m\u001b[1;34m'Local Variable Z'\u001b[0m\u001b[1;33m)\u001b[0m\u001b[1;33m\u001b[0m\u001b[1;33m\u001b[0m\u001b[0m\n\u001b[1;32m----> 5\u001b[1;33m \u001b[0mprint\u001b[0m \u001b[1;33m(\u001b[0m\u001b[0mz\u001b[0m\u001b[1;33m)\u001b[0m\u001b[1;33m\u001b[0m\u001b[1;33m\u001b[0m\u001b[0m\n\u001b[0m",
      "\u001b[1;31mNameError\u001b[0m: name 'z' is not defined"
     ]
    }
   ],
   "source": [
    "def local_scope(z):\n",
    "  print (z)\n",
    "\n",
    "local_scope('Local Variable Z')\n",
    "print (z)"
   ]
  },
  {
   "cell_type": "markdown",
   "metadata": {},
   "source": [
    "## Built-In Scope\n",
    "    • Nmes that are Pre-Assigned (Pre-Defined Functions)\n",
    "    • If we use the same name for user defined function, our function will override built-ins"
   ]
  },
  {
   "cell_type": "code",
   "execution_count": 38,
   "metadata": {
    "ExecuteTime": {
     "end_time": "2020-05-14T05:13:21.284124Z",
     "start_time": "2020-05-14T05:13:21.268524Z"
    }
   },
   "outputs": [
    {
     "name": "stdout",
     "output_type": "stream",
     "text": [
      "['ArithmeticError', 'AssertionError', 'AttributeError', 'BaseException', 'BlockingIOError', 'BrokenPipeError', 'BufferError', 'BytesWarning', 'ChildProcessError', 'ConnectionAbortedError', 'ConnectionError', 'ConnectionRefusedError', 'ConnectionResetError', 'DeprecationWarning', 'EOFError', 'Ellipsis', 'EnvironmentError', 'Exception', 'False', 'FileExistsError', 'FileNotFoundError', 'FloatingPointError', 'FutureWarning', 'GeneratorExit', 'IOError', 'ImportError', 'ImportWarning', 'IndentationError', 'IndexError', 'InterruptedError', 'IsADirectoryError', 'KeyError', 'KeyboardInterrupt', 'LookupError', 'MemoryError', 'ModuleNotFoundError', 'NameError', 'None', 'NotADirectoryError', 'NotImplemented', 'NotImplementedError', 'OSError', 'OverflowError', 'PendingDeprecationWarning', 'PermissionError', 'ProcessLookupError', 'RecursionError', 'ReferenceError', 'ResourceWarning', 'RuntimeError', 'RuntimeWarning', 'StopAsyncIteration', 'StopIteration', 'SyntaxError', 'SyntaxWarning', 'SystemError', 'SystemExit', 'TabError', 'TimeoutError', 'True', 'TypeError', 'UnboundLocalError', 'UnicodeDecodeError', 'UnicodeEncodeError', 'UnicodeError', 'UnicodeTranslateError', 'UnicodeWarning', 'UserWarning', 'ValueError', 'Warning', 'WindowsError', 'ZeroDivisionError', '__IPYTHON__', '__build_class__', '__debug__', '__doc__', '__import__', '__loader__', '__name__', '__package__', '__spec__', 'abs', 'all', 'any', 'ascii', 'bin', 'bool', 'breakpoint', 'bytearray', 'bytes', 'callable', 'chr', 'classmethod', 'compile', 'complex', 'copyright', 'credits', 'delattr', 'dict', 'dir', 'display', 'divmod', 'enumerate', 'eval', 'exec', 'filter', 'float', 'format', 'frozenset', 'get_ipython', 'getattr', 'globals', 'hasattr', 'hash', 'help', 'hex', 'id', 'input', 'int', 'isinstance', 'issubclass', 'iter', 'len', 'license', 'list', 'locals', 'map', 'max', 'memoryview', 'min', 'next', 'object', 'oct', 'open', 'ord', 'pow', 'print', 'property', 'range', 'repr', 'reversed', 'round', 'set', 'setattr', 'slice', 'sorted', 'staticmethod', 'str', 'sum', 'super', 'tuple', 'type', 'vars', 'zip']\n"
     ]
    }
   ],
   "source": [
    "import builtins\n",
    "\n",
    "print(dir(builtins))"
   ]
  },
  {
   "cell_type": "code",
   "execution_count": 36,
   "metadata": {
    "ExecuteTime": {
     "end_time": "2020-05-14T05:12:07.851151Z",
     "start_time": "2020-05-14T05:12:07.833051Z"
    }
   },
   "outputs": [
    {
     "name": "stdout",
     "output_type": "stream",
     "text": [
      "1\n"
     ]
    }
   ],
   "source": [
    "m = min([5,4,3,2,1])\n",
    "print (m)"
   ]
  },
  {
   "cell_type": "markdown",
   "metadata": {},
   "source": [
    "### Global vs Built-In"
   ]
  },
  {
   "cell_type": "code",
   "execution_count": 44,
   "metadata": {
    "ExecuteTime": {
     "end_time": "2020-05-14T05:20:02.646324Z",
     "start_time": "2020-05-14T05:20:02.625724Z"
    }
   },
   "outputs": [
    {
     "name": "stdout",
     "output_type": "stream",
     "text": [
      "[5, 4, 3, 2, 1]\n"
     ]
    }
   ],
   "source": [
    "def min(x):\n",
    "  #print (x)\n",
    "\n",
    "m = min([5,4,3,2,1])"
   ]
  },
  {
   "cell_type": "code",
   "execution_count": null,
   "metadata": {},
   "outputs": [],
   "source": [
    "#Restart kernal"
   ]
  },
  {
   "cell_type": "code",
   "execution_count": 2,
   "metadata": {
    "ExecuteTime": {
     "end_time": "2020-05-14T05:20:51.978928Z",
     "start_time": "2020-05-14T05:20:51.941428Z"
    }
   },
   "outputs": [
    {
     "name": "stdout",
     "output_type": "stream",
     "text": [
      "1\n"
     ]
    }
   ],
   "source": [
    "def my_min(x):\n",
    "  print (x)\n",
    "\n",
    "m = min([5,4,3,2,1])\n",
    "print (m)"
   ]
  },
  {
   "cell_type": "markdown",
   "metadata": {},
   "source": [
    "# Slicing Operations\n",
    "## List Slicing\n",
    "    • list[ start : end : step ]\n",
    "    • List is a kind of circle with start value 0."
   ]
  },
  {
   "cell_type": "code",
   "execution_count": 2,
   "metadata": {
    "ExecuteTime": {
     "end_time": "2020-05-15T13:12:21.534354Z",
     "start_time": "2020-05-15T13:12:21.517353Z"
    }
   },
   "outputs": [],
   "source": [
    "my_list      = [1, 2, 3, 4, 5, 6, 7, 8, 9, 10]\n",
    "# +ve Index     0, 1, 2, 3, 4, 5, 6, 7, 8, 9\n",
    "# -ve Index   -10,-9,-8,-7,-6,-5,-4,-3,-2,-1"
   ]
  },
  {
   "cell_type": "code",
   "execution_count": 6,
   "metadata": {
    "ExecuteTime": {
     "end_time": "2020-05-15T13:14:11.493643Z",
     "start_time": "2020-05-15T13:14:11.479643Z"
    }
   },
   "outputs": [
    {
     "name": "stdout",
     "output_type": "stream",
     "text": [
      "[1, 2, 3, 4, 5, 6, 7, 8, 9, 10]\n"
     ]
    }
   ],
   "source": [
    "print (my_list)"
   ]
  },
  {
   "cell_type": "code",
   "execution_count": 8,
   "metadata": {
    "ExecuteTime": {
     "end_time": "2020-05-15T13:14:14.504816Z",
     "start_time": "2020-05-15T13:14:14.492815Z"
    }
   },
   "outputs": [
    {
     "name": "stdout",
     "output_type": "stream",
     "text": [
      "1\n",
      "6\n"
     ]
    }
   ],
   "source": [
    "print (my_list[0])\n",
    "print (my_list[5])"
   ]
  },
  {
   "cell_type": "code",
   "execution_count": 11,
   "metadata": {
    "ExecuteTime": {
     "end_time": "2020-05-15T13:25:31.021510Z",
     "start_time": "2020-05-15T13:25:30.992508Z"
    }
   },
   "outputs": [
    {
     "name": "stdout",
     "output_type": "stream",
     "text": [
      "4\n",
      "10\n"
     ]
    }
   ],
   "source": [
    "print (my_list[-7])\n",
    "print (my_list[-1])"
   ]
  },
  {
   "cell_type": "code",
   "execution_count": 41,
   "metadata": {
    "ExecuteTime": {
     "end_time": "2020-05-15T14:25:09.330178Z",
     "start_time": "2020-05-15T14:25:09.307176Z"
    }
   },
   "outputs": [
    {
     "name": "stdout",
     "output_type": "stream",
     "text": [
      "[4, 5, 6, 7, 8, 9]\n",
      "[4, 5, 6, 7, 8, 9, 10]\n",
      "[]\n",
      "\n",
      "[]\n",
      "[2, 4, 6, 8]\n",
      "[2, 5, 8]\n",
      "\n",
      "[2, 3, 4, 5, 6, 7, 8, 9, 10]\n",
      "[3, 5, 7]\n",
      "[1, 2, 3, 4, 5]\n",
      "[1, 2, 3, 4, 5, 6, 7, 8, 9, 10]\n",
      "[1, 2, 3, 4, 5, 6, 7, 8, 9, 10]\n",
      "[]\n"
     ]
    }
   ],
   "source": [
    "my_list      = [1, 2, 3, 4, 5, 6, 7, 8, 9, 10]\n",
    "# +ve Index     0, 1, 2, 3, 4, 5, 6, 7, 8, 9\n",
    "# -ve Index   -10,-9,-8,-7,-6,-5,-4,-3,-2,-1\n",
    "\n",
    "\n",
    "\n",
    "# print (my_list[ start : end : step ])\n",
    "print (my_list[  3  :  9  ])            #         End  : 10 (empty-1)th element ;; default Step : 1\n",
    "print (my_list[  3  :     ])            # default End  : last (empty-1)th element\n",
    "print (my_list[  3  :  3  ])            # start and end same index => empty list\n",
    "print ()\n",
    "print (my_list[  3  :  3  : -2  ])      # start and end same index => empty list\n",
    "print (my_list[  1  :  8  :  2  ])      #         End  : at (5-1)th element ;;         step : 2 (every +2 element)\n",
    "print (my_list[  1  :  8  :  3  ])      #         End  : at (5-1)th element ;;         step : 3 (every +3 element)\n",
    "print ()\n",
    "print (my_list[  1  :     :     ])      # start 1 End  : at last    element ;; default step : 1 (every +1 element)\n",
    "print (my_list[     :     :     ])      # deflt 0 End  : at Last    element ;; default step : 1 (every +1 element)\n",
    "print (my_list[  0  : 100 :     ])      # deflt 0 End  : at Last    element ;; default step : 1 (every +1 element)\n",
    "print (my_list[  0  : 100 : -1  ])      # deflt 0 End  : at Last    element ;; default step :-1 (every -1 element)"
   ]
  },
  {
   "cell_type": "code",
   "execution_count": 52,
   "metadata": {
    "ExecuteTime": {
     "end_time": "2020-05-15T14:34:02.409668Z",
     "start_time": "2020-05-15T14:34:02.388667Z"
    }
   },
   "outputs": [
    {
     "name": "stdout",
     "output_type": "stream",
     "text": [
      "[8, 9, 10]\n",
      "[]\n",
      "[8, 7, 6, 5, 4, 3, 2, 1]\n",
      "\n",
      "[6, 5, 4]\n",
      "[10, 8, 6, 4]\n",
      "\n",
      "[3, 5, 7]\n",
      "[1, 2, 3, 4, 5]\n",
      "[1]\n",
      "[10, 9, 8, 7, 6, 5, 4, 3, 2, 1]\n"
     ]
    }
   ],
   "source": [
    "my_list      = [1, 2, 3, 4, 5, 6, 7, 8, 9, 10]\n",
    "# +ve Index     0, 1, 2, 3, 4, 5, 6, 7, 8, 9\n",
    "# -ve Index   -10,-9,-8,-7,-6,-5,-4,-3,-2,-1\n",
    "\n",
    "\n",
    "\n",
    "# print (my_list[ start : end : step ])\n",
    "print (my_list[ -3  :     ])            # default End  : last (empty-1)th element\n",
    "print (my_list[ -3  :-100 ])            # start and end same index => empty list\n",
    "print (my_list[ -3  :-100 : -1  ])      # start and end same index => empty list\n",
    "print ()\n",
    "print (my_list[ -5  : -8  : -1  ])      #         End  : at (5-1)th element ;; default Step : 1\n",
    "print (my_list[ -1  :  2  : -2  ])      #         End  : at (5-1)th element ;; default Step : 1\n",
    "print ()\n",
    "print (my_list[  2  : -2  :  2  ])      # start 1 End  : at (-2-1)th element;;         step : 2 (every +2 element)\n",
    "print (my_list[     : -5  :     ])      # deflt 0 End  : at (5-1)th element ;; default step : 1 (every +1 element)\n",
    "print (my_list[  0  :     : -1  ])      # deflt 0 End  : at (5-1)th element ;; default step : 1 (every +1 element)\n",
    "print (my_list[     :     : -1  ])      # deflt 0 End  : at (5-1)th element ;; default step : 1 (every +1 element)"
   ]
  },
  {
   "cell_type": "markdown",
   "metadata": {},
   "source": [
    "## String Slicing\n",
    "    • str[ start : end : step ]\n",
    "    • str is a kind of circle with start value 0."
   ]
  },
  {
   "cell_type": "code",
   "execution_count": 63,
   "metadata": {
    "ExecuteTime": {
     "end_time": "2020-05-15T14:38:33.577178Z",
     "start_time": "2020-05-15T14:38:33.558177Z"
    }
   },
   "outputs": [
    {
     "name": "stdout",
     "output_type": "stream",
     "text": [
      "https://www.google-cloud.com\n"
     ]
    }
   ],
   "source": [
    "sample_url = 'https://www.google-cloud.com'\n",
    "# Index       0123456789...\n",
    "print (sample_url)"
   ]
  },
  {
   "cell_type": "code",
   "execution_count": 71,
   "metadata": {
    "ExecuteTime": {
     "end_time": "2020-05-15T14:41:15.049414Z",
     "start_time": "2020-05-15T14:41:15.036413Z"
    }
   },
   "outputs": [
    {
     "name": "stdout",
     "output_type": "stream",
     "text": [
      "https://www.google-cloud.com\n",
      "moc.duolc-elgoog.www//:sptth\n"
     ]
    }
   ],
   "source": [
    "print (sample_url[::])\n",
    "print (sample_url[::-1])"
   ]
  },
  {
   "cell_type": "code",
   "execution_count": 70,
   "metadata": {
    "ExecuteTime": {
     "end_time": "2020-05-15T14:41:05.095844Z",
     "start_time": "2020-05-15T14:41:05.086844Z"
    }
   },
   "outputs": [
    {
     "name": "stdout",
     "output_type": "stream",
     "text": [
      ".com\n",
      "https\n",
      "www.google-cloud\n"
     ]
    }
   ],
   "source": [
    "print (sample_url[-4::])\n",
    "print (sample_url[:5:])\n",
    "print (sample_url[8:-4:])"
   ]
  },
  {
   "cell_type": "markdown",
   "metadata": {},
   "source": [
    "# Comprehensions\n",
    "    • Easier,Compact and More readable way to create List, Set and Dict Comprehensions"
   ]
  },
  {
   "cell_type": "markdown",
   "metadata": {},
   "source": [
    "## List Comprehension\n",
    "`1) Using Normal way`<br>\n",
    "`2) Using Looping `<br>\n",
    "`3) Using (map/filter) + lambda`<br>\n",
    "`3) Using zip`<br>"
   ]
  },
  {
   "cell_type": "code",
   "execution_count": 12,
   "metadata": {
    "ExecuteTime": {
     "end_time": "2020-05-18T04:34:08.085394Z",
     "start_time": "2020-05-18T04:34:08.067794Z"
    }
   },
   "outputs": [
    {
     "name": "stdout",
     "output_type": "stream",
     "text": [
      "[1, 2, 3, 4, 5, 6, 7, 8, 9, 10]\n",
      "[1, 2, 3, 4, 5, 6, 7, 8, 9, 10]\n",
      "[1, 2, 3, 4, 5, 6, 7, 8, 9, 10]\n"
     ]
    }
   ],
   "source": [
    "numbers = [1, 2, 3, 4, 5, 6, 7, 8, 9, 10]\n",
    "\n",
    "'''List Comprehension : Normal '''\n",
    "my_list = []\n",
    "for n in numbers:\n",
    "    my_list.append(n)\n",
    "\n",
    "print (my_list)\n",
    "\n",
    "'''List Comprehension : Looping '''\n",
    "my_list = [n for n in numbers]\n",
    "print (my_list)\n",
    "\n",
    "'''List Comprehension : Function '''\n",
    "my_list = map(lambda n: n, numbers)\n",
    "print (list(my_list))"
   ]
  },
  {
   "cell_type": "code",
   "execution_count": 18,
   "metadata": {
    "ExecuteTime": {
     "end_time": "2020-05-18T04:38:37.861446Z",
     "start_time": "2020-05-18T04:38:37.839846Z"
    }
   },
   "outputs": [
    {
     "name": "stdout",
     "output_type": "stream",
     "text": [
      "[1, 4, 9, 16, 25, 36, 49, 64, 81, 100]\n",
      "[1, 4, 9, 16, 25, 36, 49, 64, 81, 100]\n",
      "[1, 4, 9, 16, 25, 36, 49, 64, 81, 100]\n"
     ]
    }
   ],
   "source": [
    "numbers = [1, 2, 3, 4, 5, 6, 7, 8, 9, 10]\n",
    "\n",
    "'''List Comprehension : Normal '''\n",
    "my_list = []\n",
    "for n in numbers:\n",
    "    my_list.append(n*n)\n",
    "\n",
    "print (my_list)\n",
    "\n",
    "'''List Comprehension : Looping '''\n",
    "my_list = [n*n for n in numbers]\n",
    "print (my_list)\n",
    "\n",
    "'''List Comprehension : Function '''\n",
    "my_list = map(lambda n: n*n, numbers)\n",
    "print (list(my_list))"
   ]
  },
  {
   "cell_type": "code",
   "execution_count": 16,
   "metadata": {
    "ExecuteTime": {
     "end_time": "2020-05-18T04:36:42.504752Z",
     "start_time": "2020-05-18T04:36:42.482152Z"
    }
   },
   "outputs": [
    {
     "name": "stdout",
     "output_type": "stream",
     "text": [
      "[2, 4, 6, 8, 10]\n",
      "[2, 4, 6, 8, 10]\n",
      "[2, 4, 6, 8, 10]\n"
     ]
    }
   ],
   "source": [
    "numbers = [1, 2, 3, 4, 5, 6, 7, 8, 9, 10]\n",
    "\n",
    "'''List Comprehension : Normal with condition '''\n",
    "my_list = []\n",
    "for n in numbers:\n",
    "    if n%2 == 0:\n",
    "        my_list.append(n)\n",
    "\n",
    "print (my_list)\n",
    "\n",
    "'''List Comprehension : Looping with condition '''\n",
    "my_list = [n for n in numbers if n%2 == 0]\n",
    "print (my_list)\n",
    "\n",
    "'''List Comprehension : Function with condition '''\n",
    "my_list = filter(lambda n: n%2 == 0, numbers)\n",
    "print (list(my_list))"
   ]
  },
  {
   "cell_type": "code",
   "execution_count": 26,
   "metadata": {
    "ExecuteTime": {
     "end_time": "2020-05-18T05:05:22.631433Z",
     "start_time": "2020-05-18T05:05:22.611833Z"
    }
   },
   "outputs": [
    {
     "name": "stdout",
     "output_type": "stream",
     "text": [
      "[('a', 0), ('a', 1), ('a', 2), ('b', 0), ('b', 1), ('b', 2), ('c', 0), ('c', 1), ('c', 2)]\n",
      "[('a', 0), ('a', 1), ('a', 2), ('b', 0), ('b', 1), ('b', 2), ('c', 0), ('c', 1), ('c', 2)]\n",
      "[('a', 0), ('b', 1), ('c', 2)]\n"
     ]
    }
   ],
   "source": [
    "'''List Comprehension : Normal with condition & Nested List '''\n",
    "my_list = []\n",
    "for letter in 'abc':\n",
    "    for n in range(3):\n",
    "      my_list.append((letter,n))\n",
    "\n",
    "print (my_list)\n",
    "\n",
    "'''List Comprehension : Looping with condition & Nested List '''\n",
    "my_list = [(letter,n ) for letter in 'abc' for n in range(3)]\n",
    "print (my_list)\n",
    "\n",
    "'''List Comprehension : ZIP '''\n",
    "print (list(zip('abc', range(3))))"
   ]
  },
  {
   "cell_type": "code",
   "execution_count": 25,
   "metadata": {
    "ExecuteTime": {
     "end_time": "2020-05-18T05:03:39.467939Z",
     "start_time": "2020-05-18T05:03:39.448339Z"
    }
   },
   "outputs": [
    {
     "name": "stdout",
     "output_type": "stream",
     "text": [
      "[('Bruce Wyne', 'BatMan'), ('Clark', 'SuperMan'), ('Peter', 'SpiderMan'), ('Logan', 'X-Men'), ('Wade', 'DeadPool')]\n"
     ]
    }
   ],
   "source": [
    "names = ['Bruce Wyne', 'Clark', 'Peter', 'Logan', 'Wade']\n",
    "heros = ['BatMan', 'SuperMan', 'SpiderMan', 'X-Men', 'DeadPool']\n",
    "\n",
    "'''List Comprehension : ZIP '''\n",
    "print (list(zip(names, heros)))"
   ]
  },
  {
   "cell_type": "markdown",
   "metadata": {},
   "source": [
    "## Dict Comprehension\n",
    "`1) Using Normal way`<br>\n",
    "`2) Using Looping `<br>\n",
    "`3) Using zip`<br>"
   ]
  },
  {
   "cell_type": "code",
   "execution_count": 37,
   "metadata": {
    "ExecuteTime": {
     "end_time": "2020-05-18T05:17:01.279618Z",
     "start_time": "2020-05-18T05:17:01.257017Z"
    }
   },
   "outputs": [
    {
     "name": "stdout",
     "output_type": "stream",
     "text": [
      "{'Bruce Wyne': 'DeadPool', 'Clark': 'DeadPool', 'Peter': 'DeadPool', 'Logan': 'DeadPool', 'Wade': 'DeadPool'}\n",
      "{'Bruce Wyne': 'BatMan', 'Clark': 'SuperMan', 'Peter': 'SpiderMan', 'Logan': 'X-Men', 'Wade': 'DeadPool'}\n"
     ]
    }
   ],
   "source": [
    "names = ['Bruce Wyne', 'Clark', 'Peter', 'Logan', 'Wade']\n",
    "heros = ['BatMan', 'SuperMan', 'SpiderMan', 'X-Men', 'DeadPool']\n",
    "\n",
    "\n",
    "'''Dict Comprehension : Looping '''\n",
    "'''Two List to Dict => Always need to use ZIP'''\n",
    "my_dict = {name: hero for name in names for hero in heros}\n",
    "print (my_dict)\n",
    "\n",
    "'''Dict Comprehension : ZIP & Normal'''\n",
    "my_dict = {}\n",
    "for name, hero in zip(names,heros):\n",
    "    my_dict[name] = hero\n",
    "\n",
    "print (my_dict)"
   ]
  },
  {
   "cell_type": "code",
   "execution_count": 33,
   "metadata": {
    "ExecuteTime": {
     "end_time": "2020-05-18T05:10:53.287489Z",
     "start_time": "2020-05-18T05:10:53.264389Z"
    }
   },
   "outputs": [
    {
     "name": "stdout",
     "output_type": "stream",
     "text": [
      "{'Bruce Wyne': 'DeadPool', 'Clark': 'DeadPool', 'Peter': 'DeadPool', 'Logan': 'DeadPool', 'Wade': 'DeadPool'}\n",
      "{'Bruce Wyne': 'BatMan', 'Clark': 'SuperMan', 'Peter': 'SpiderMan', 'Logan': 'X-Men', 'Wade': 'DeadPool'}\n"
     ]
    }
   ],
   "source": [
    "'''Dict Comprehension : ZIP '''\n",
    "my_dict = {name: hero for name,hero in zip(names,heros)}\n",
    "print (my_dict)"
   ]
  },
  {
   "cell_type": "code",
   "execution_count": 38,
   "metadata": {
    "ExecuteTime": {
     "end_time": "2020-05-18T05:17:10.949010Z",
     "start_time": "2020-05-18T05:17:10.933410Z"
    }
   },
   "outputs": [
    {
     "name": "stdout",
     "output_type": "stream",
     "text": [
      "{'Bruce Wyne': 'BatMan', 'Clark': 'SuperMan', 'Logan': 'X-Men', 'Wade': 'DeadPool'}\n"
     ]
    }
   ],
   "source": [
    "'''Dict Comprehension : ZIP with condition'''\n",
    "my_dict = {name: hero for name,hero in zip(names,heros) if name != 'Peter'}\n",
    "print (my_dict)"
   ]
  },
  {
   "cell_type": "markdown",
   "metadata": {},
   "source": [
    "## Set Comprehension"
   ]
  },
  {
   "cell_type": "code",
   "execution_count": 41,
   "metadata": {
    "ExecuteTime": {
     "end_time": "2020-05-18T05:22:08.346343Z",
     "start_time": "2020-05-18T05:22:08.315143Z"
    }
   },
   "outputs": [
    {
     "name": "stdout",
     "output_type": "stream",
     "text": [
      "{1, 2, 3, 4, 5, 6, 7, 8, 9}\n",
      "{1, 2, 3, 4, 5, 6, 7, 8, 9}\n"
     ]
    }
   ],
   "source": [
    "numbers_1 = [1,2,3,1,2,4,5,4,6,7,8,9,6]\n",
    "\n",
    "'''Set Comprehension : Normal'''\n",
    "my_set = set()\n",
    "for n in numbers_1:\n",
    "    my_set.add(n)\n",
    "\n",
    "print (my_set)\n",
    "\n",
    "'''Set Comprehension : Looping'''\n",
    "my_set = {n for n in numbers_1}\n",
    "print (my_set)"
   ]
  },
  {
   "cell_type": "code",
   "execution_count": 43,
   "metadata": {
    "ExecuteTime": {
     "end_time": "2020-05-18T05:22:47.325480Z",
     "start_time": "2020-05-18T05:22:47.309479Z"
    }
   },
   "outputs": [
    {
     "name": "stdout",
     "output_type": "stream",
     "text": [
      "{8, 2, 4, 6}\n",
      "{8, 2, 4, 6}\n"
     ]
    }
   ],
   "source": [
    "numbers_1 = [1,2,3,1,2,4,5,4,6,7,8,9,6]\n",
    "\n",
    "'''Set Comprehension : Normal'''\n",
    "my_set = set()\n",
    "for n in numbers_1:\n",
    "    if n%2 == 0:\n",
    "      my_set.add(n)\n",
    "\n",
    "print (my_set)\n",
    "\n",
    "'''Set Comprehension : Looping with condition '''\n",
    "my_set = {n for n in numbers_1 if n%2 == 0}\n",
    "print (my_set)"
   ]
  },
  {
   "cell_type": "markdown",
   "metadata": {},
   "source": [
    "# Sorting "
   ]
  },
  {
   "cell_type": "markdown",
   "metadata": {},
   "source": [
    "## List Sorting\n",
    "`1) sorted() Function => Returns New list of sorted object ;; Leave the original object`<br>\n",
    "`2) .sort()  Method   => Returns None but                  ;; Alter the original`<br>"
   ]
  },
  {
   "cell_type": "code",
   "execution_count": 13,
   "metadata": {
    "ExecuteTime": {
     "end_time": "2020-05-20T11:06:59.448542Z",
     "start_time": "2020-05-20T11:06:59.431541Z"
    }
   },
   "outputs": [
    {
     "name": "stdout",
     "output_type": "stream",
     "text": [
      "Sorted List :  [0, 1, 1, 2, 3, 4, 5, 6, 7, 9, 9]\n",
      "Origin List :  [9, 4, 9, 2, 1, 7, 3, 0, 5, 6, 1]\n",
      "\n",
      "Sort List   :  None\n",
      "Sort List   :  [0, 1, 1, 2, 3, 4, 5, 6, 7, 9, 9]\n"
     ]
    }
   ],
   "source": [
    "list = [9,4,9,2,1,7,3,0,5,6,1]\n",
    "\n",
    "'''sorted() Function Example'''\n",
    "s_list = sorted(list)\n",
    "print ('Sorted List : ', s_list)\n",
    "print ('Origin List : ', list)\n",
    "print()\n",
    "\n",
    "'''.sort() Method Example'''\n",
    "print ('Sort List   : ', list.sort())\n",
    "print ('Sort List   : ', list)"
   ]
  },
  {
   "cell_type": "code",
   "execution_count": 16,
   "metadata": {
    "ExecuteTime": {
     "end_time": "2020-05-20T11:08:48.328967Z",
     "start_time": "2020-05-20T11:08:48.299966Z"
    }
   },
   "outputs": [
    {
     "name": "stdout",
     "output_type": "stream",
     "text": [
      "Sorted List(Reversed) :  [9, 9, 7, 6, 5, 4, 3, 2, 1, 1, 0]\n",
      "Origin List(Reversed) :  [9, 4, 9, 2, 1, 7, 3, 0, 5, 6, 1]\n",
      "\n",
      "Sort List(Reversed)   :  None\n",
      "Sort List(Reversed)   :  [9, 9, 7, 6, 5, 4, 3, 2, 1, 1, 0]\n"
     ]
    }
   ],
   "source": [
    "list = [9,4,9,2,1,7,3,0,5,6,1]\n",
    "\n",
    "'''sorted() Function with Reverse'''\n",
    "s_list = sorted(list, reverse=True)\n",
    "print ('Sorted List(Reversed) : ', s_list)\n",
    "print ('Origin List(Reversed) : ', list)\n",
    "print()\n",
    "\n",
    "'''.sort() Method with Reverse'''\n",
    "print ('Sort List(Reversed)   : ', list.sort(reverse=True))\n",
    "print ('Sort List(Reversed)   : ', list)"
   ]
  },
  {
   "cell_type": "markdown",
   "metadata": {},
   "source": [
    "## Tuple Sorting\n",
    "`1) sorted() Function => Returns New list of sorted object ;; Leave the original object`<br>\n",
    "`2) .sort()  Method   => There is method in Tuple`<br>\n",
    "\n",
    "output will be in **List** not in **Tuple**"
   ]
  },
  {
   "cell_type": "code",
   "execution_count": 19,
   "metadata": {
    "ExecuteTime": {
     "end_time": "2020-05-20T11:12:06.247108Z",
     "start_time": "2020-05-20T11:12:06.219507Z"
    }
   },
   "outputs": [
    {
     "ename": "AttributeError",
     "evalue": "'tuple' object has no attribute 'sort'",
     "output_type": "error",
     "traceback": [
      "\u001b[1;31m---------------------------------------------------------------------------\u001b[0m",
      "\u001b[1;31mAttributeError\u001b[0m                            Traceback (most recent call last)",
      "\u001b[1;32m<ipython-input-19-fb041bbf184f>\u001b[0m in \u001b[0;36m<module>\u001b[1;34m\u001b[0m\n\u001b[0;32m      1\u001b[0m \u001b[0mtup\u001b[0m \u001b[1;33m=\u001b[0m \u001b[1;33m(\u001b[0m\u001b[1;36m9\u001b[0m\u001b[1;33m,\u001b[0m\u001b[1;36m4\u001b[0m\u001b[1;33m,\u001b[0m\u001b[1;36m9\u001b[0m\u001b[1;33m,\u001b[0m\u001b[1;36m2\u001b[0m\u001b[1;33m,\u001b[0m\u001b[1;36m1\u001b[0m\u001b[1;33m,\u001b[0m\u001b[1;36m7\u001b[0m\u001b[1;33m,\u001b[0m\u001b[1;36m3\u001b[0m\u001b[1;33m,\u001b[0m\u001b[1;36m0\u001b[0m\u001b[1;33m,\u001b[0m\u001b[1;36m5\u001b[0m\u001b[1;33m,\u001b[0m\u001b[1;36m6\u001b[0m\u001b[1;33m,\u001b[0m\u001b[1;36m1\u001b[0m\u001b[1;33m)\u001b[0m\u001b[1;33m\u001b[0m\u001b[1;33m\u001b[0m\u001b[0m\n\u001b[0;32m      2\u001b[0m \u001b[1;33m\u001b[0m\u001b[0m\n\u001b[1;32m----> 3\u001b[1;33m \u001b[0mtup\u001b[0m\u001b[1;33m.\u001b[0m\u001b[0msort\u001b[0m\u001b[1;33m(\u001b[0m\u001b[1;33m)\u001b[0m\u001b[1;33m\u001b[0m\u001b[1;33m\u001b[0m\u001b[0m\n\u001b[0m",
      "\u001b[1;31mAttributeError\u001b[0m: 'tuple' object has no attribute 'sort'"
     ]
    }
   ],
   "source": [
    "tup = (9,4,9,2,1,7,3,0,5,6,1)\n",
    "\n",
    "tup.sort()"
   ]
  },
  {
   "cell_type": "code",
   "execution_count": 24,
   "metadata": {
    "ExecuteTime": {
     "end_time": "2020-05-20T11:15:44.881975Z",
     "start_time": "2020-05-20T11:15:44.850775Z"
    }
   },
   "outputs": [
    {
     "name": "stdout",
     "output_type": "stream",
     "text": [
      "Sorted Tuple :  [0, 1, 1, 2, 3, 4, 5, 6, 7, 9, 9]\n",
      "Origin Tuple :  (9, 4, 9, 2, 1, 7, 3, 0, 5, 6, 1)\n",
      "\n",
      "Sorted List(Reversed) :  [9, 9, 7, 6, 5, 4, 3, 2, 1, 1, 0]\n",
      "Origin List(Reversed) :  (9, 4, 9, 2, 1, 7, 3, 0, 5, 6, 1)\n",
      "\n"
     ]
    }
   ],
   "source": [
    "tup = (9,4,9,2,1,7,3,0,5,6,1)\n",
    "\n",
    "'''sorted() Function Example with Reverse'''\n",
    "s_tup = sorted(tup)\n",
    "print ('Sorted Tuple : ', s_tup)\n",
    "print ('Origin Tuple : ', tup)\n",
    "print()\n",
    "\n",
    "s_tup = sorted(tup, reverse=True)\n",
    "print ('Sorted List(Reversed) : ', s_tup)\n",
    "print ('Origin List(Reversed) : ', tup)\n",
    "print()"
   ]
  },
  {
   "cell_type": "markdown",
   "metadata": {},
   "source": [
    "## Set Sorting\n",
    "`1) sorted() Function => Returns New list of sorted object ;; Leave the original object`<br>\n",
    "`2) .sort()  Method   => By Default set will SORT(nearly)`<br>\n",
    "\n",
    "1) sort function on string set, this set function sorts the items in Alphabetical order<br>\n",
    "\n",
    "Ref : https://docs.python.org/3.3/howto/sorting.html"
   ]
  },
  {
   "cell_type": "code",
   "execution_count": 46,
   "metadata": {
    "ExecuteTime": {
     "end_time": "2020-05-20T11:31:04.202573Z",
     "start_time": "2020-05-20T11:31:04.186973Z"
    }
   },
   "outputs": [
    {
     "name": "stdout",
     "output_type": "stream",
     "text": [
      "Origin Set :  {0, 1, 2, 3, 4, 5, 6, 7, 9}\n"
     ]
    }
   ],
   "source": [
    "sett = {9,4,9,2,1,7,3,0,5,6,1}\n",
    "\n",
    "print ('Origin Set : ', sett)"
   ]
  },
  {
   "cell_type": "code",
   "execution_count": 45,
   "metadata": {
    "ExecuteTime": {
     "end_time": "2020-05-20T11:31:01.357264Z",
     "start_time": "2020-05-20T11:31:01.326064Z"
    }
   },
   "outputs": [
    {
     "name": "stdout",
     "output_type": "stream",
     "text": [
      "Old Set Items        =  {'apple', 'banana', 'orange', 'kiwi', 'mango'}\n",
      "Sorted List from Set =  ['apple', 'banana', 'kiwi', 'mango', 'orange']\n",
      "\n",
      "Sorted List from Set(Reversed) =  ['orange', 'mango', 'kiwi', 'banana', 'apple']\n"
     ]
    }
   ],
   "source": [
    "'''Python set default/sorted method'''\n",
    "sortFruitSet = {'mango', 'kiwi', 'apple', 'orange', 'banana'}\n",
    "print(\"Old Set Items        = \", sortFruitSet)\n",
    "\n",
    "'''Python Set Sorting become list'''\n",
    "print(\"Sorted List from Set = \", sorted(sortFruitSet))\n",
    "\n",
    "print()\n",
    "'''Python Set Sorting become list'''\n",
    "print(\"Sorted List from Set(Reversed) = \", sorted(sortFruitSet, reverse = True))"
   ]
  },
  {
   "cell_type": "code",
   "execution_count": 3,
   "metadata": {
    "ExecuteTime": {
     "end_time": "2020-05-20T11:32:10.030409Z",
     "start_time": "2020-05-20T11:32:09.990407Z"
    }
   },
   "outputs": [
    {
     "name": "stdout",
     "output_type": "stream",
     "text": [
      "['0.000000000', '0.009518000', '0.018384000', '0.030810999', '10.277200999', '4.918560000']\n",
      "['0.000000000', '0.009518000', '0.018384000', '0.030810999', '4.918560000', '10.277200999']\n"
     ]
    }
   ],
   "source": [
    "s = set(['0.000000000', '0.009518000', '10.277200999', '0.030810999', '0.018384000', '4.918560000'])\n",
    "print (sorted(s))\n",
    "print (sorted(s, key=float))"
   ]
  },
  {
   "cell_type": "markdown",
   "metadata": {},
   "source": [
    "## Dict Sorting"
   ]
  },
  {
   "cell_type": "code",
   "execution_count": 5,
   "metadata": {
    "ExecuteTime": {
     "end_time": "2020-05-20T14:40:53.394879Z",
     "start_time": "2020-05-20T14:40:53.343876Z"
    }
   },
   "outputs": [
    {
     "data": {
      "text/plain": [
       "[1, 2, 3, 4, 5]"
      ]
     },
     "execution_count": 5,
     "metadata": {},
     "output_type": "execute_result"
    }
   ],
   "source": [
    "sorted({1: 'D', 2: 'B', 3: 'B', 4: 'E', 5: 'A'})"
   ]
  },
  {
   "cell_type": "code",
   "execution_count": 6,
   "metadata": {
    "ExecuteTime": {
     "end_time": "2020-05-20T14:43:47.127754Z",
     "start_time": "2020-05-20T14:43:47.115753Z"
    }
   },
   "outputs": [
    {
     "name": "stdout",
     "output_type": "stream",
     "text": [
      "[-4, -3, -1, 2]\n"
     ]
    }
   ],
   "source": [
    "list=[-1,2,-3,-4]\n",
    "print(sorted(list))"
   ]
  },
  {
   "cell_type": "code",
   "execution_count": 7,
   "metadata": {
    "ExecuteTime": {
     "end_time": "2020-05-20T14:44:46.654619Z",
     "start_time": "2020-05-20T14:44:46.634618Z"
    }
   },
   "outputs": [
    {
     "name": "stdout",
     "output_type": "stream",
     "text": [
      "[-1, 2, -3, -4]\n"
     ]
    }
   ],
   "source": [
    "list=[-1,2,-3,-4]\n",
    "print(sorted(list, key=abs))"
   ]
  },
  {
   "cell_type": "code",
   "execution_count": 15,
   "metadata": {
    "ExecuteTime": {
     "end_time": "2020-05-20T14:56:28.188886Z",
     "start_time": "2020-05-20T14:56:28.154285Z"
    }
   },
   "outputs": [
    {
     "data": {
      "text/plain": [
       "('john', 'A', 15)"
      ]
     },
     "execution_count": 15,
     "metadata": {},
     "output_type": "execute_result"
    }
   ],
   "source": [
    "class Student:\n",
    "        def __init__(self, name, grade, age):\n",
    "            self.name = name\n",
    "            self.grade = grade\n",
    "            self.age = age\n",
    "        def __repr__(self):\n",
    "            return repr((self.name, self.grade, self.age))\n",
    "\n",
    "Student('john', 'A', 15)"
   ]
  },
  {
   "cell_type": "code",
   "execution_count": 16,
   "metadata": {
    "ExecuteTime": {
     "end_time": "2020-05-20T14:56:32.727279Z",
     "start_time": "2020-05-20T14:56:32.706679Z"
    }
   },
   "outputs": [
    {
     "name": "stdout",
     "output_type": "stream",
     "text": [
      "['__class__', '__delattr__', '__dict__', '__dir__', '__doc__', '__eq__', '__format__', '__ge__', '__getattribute__', '__gt__', '__hash__', '__init__', '__init_subclass__', '__le__', '__lt__', '__module__', '__ne__', '__new__', '__reduce__', '__reduce_ex__', '__repr__', '__setattr__', '__sizeof__', '__str__', '__subclasshook__', '__weakref__', 'age', 'grade', 'name']\n"
     ]
    }
   ],
   "source": [
    "print(dir(Student('john', 'A', 15)))"
   ]
  },
  {
   "cell_type": "code",
   "execution_count": 56,
   "metadata": {
    "ExecuteTime": {
     "end_time": "2020-05-20T15:27:50.678758Z",
     "start_time": "2020-05-20T15:27:50.662757Z"
    }
   },
   "outputs": [
    {
     "name": "stdout",
     "output_type": "stream",
     "text": [
      "[('ajon', 'A', 15), ('john', 'A', 15), ('jane', 'B', 12), ('dave', 'B', 10)]\n"
     ]
    }
   ],
   "source": [
    "s4 = Student('ajon', 'A', 15)\n",
    "s1 = Student('john', 'A', 15)\n",
    "s2 = Student('jane', 'B', 12)\n",
    "s3 = Student('dave', 'B', 10)\n",
    "\n",
    "student_objects = [s4, s1, s2, s3]\n",
    "print (student_objects)"
   ]
  },
  {
   "cell_type": "code",
   "execution_count": 57,
   "metadata": {
    "ExecuteTime": {
     "end_time": "2020-05-20T15:27:51.243790Z",
     "start_time": "2020-05-20T15:27:50.860768Z"
    }
   },
   "outputs": [
    {
     "ename": "TypeError",
     "evalue": "'<' not supported between instances of 'Student' and 'Student'",
     "output_type": "error",
     "traceback": [
      "\u001b[1;31m---------------------------------------------------------------------------\u001b[0m",
      "\u001b[1;31mTypeError\u001b[0m                                 Traceback (most recent call last)",
      "\u001b[1;32m<ipython-input-57-a8e4809ee1a5>\u001b[0m in \u001b[0;36m<module>\u001b[1;34m\u001b[0m\n\u001b[1;32m----> 1\u001b[1;33m \u001b[0mstud\u001b[0m \u001b[1;33m=\u001b[0m \u001b[0msorted\u001b[0m\u001b[1;33m(\u001b[0m\u001b[0mstudent_objects\u001b[0m\u001b[1;33m)\u001b[0m\u001b[1;33m\u001b[0m\u001b[1;33m\u001b[0m\u001b[0m\n\u001b[0m",
      "\u001b[1;31mTypeError\u001b[0m: '<' not supported between instances of 'Student' and 'Student'"
     ]
    }
   ],
   "source": [
    "stud = sorted(student_objects)"
   ]
  },
  {
   "cell_type": "code",
   "execution_count": 59,
   "metadata": {
    "ExecuteTime": {
     "end_time": "2020-05-20T15:28:07.297708Z",
     "start_time": "2020-05-20T15:28:07.271707Z"
    }
   },
   "outputs": [
    {
     "name": "stdout",
     "output_type": "stream",
     "text": [
      "[('dave', 'B', 10), ('jane', 'B', 12), ('ajon', 'A', 15), ('john', 'A', 15)]\n"
     ]
    }
   ],
   "source": [
    "def sort_m(st):\n",
    "    return st.age\n",
    "stud = sorted(student_objects, key=sort_m)\n",
    "print(stud)"
   ]
  },
  {
   "cell_type": "code",
   "execution_count": 58,
   "metadata": {
    "ExecuteTime": {
     "end_time": "2020-05-20T15:27:52.487861Z",
     "start_time": "2020-05-20T15:27:52.469860Z"
    }
   },
   "outputs": [
    {
     "data": {
      "text/plain": [
       "[('dave', 'B', 10), ('jane', 'B', 12), ('ajon', 'A', 15), ('john', 'A', 15)]"
      ]
     },
     "execution_count": 58,
     "metadata": {},
     "output_type": "execute_result"
    }
   ],
   "source": [
    "sorted(student_objects, key=lambda student: student.age)   # sort by age"
   ]
  }
 ],
 "metadata": {
  "kernelspec": {
   "display_name": "Python 3",
   "language": "python",
   "name": "python3"
  },
  "language_info": {
   "codemirror_mode": {
    "name": "ipython",
    "version": 3
   },
   "file_extension": ".py",
   "mimetype": "text/x-python",
   "name": "python",
   "nbconvert_exporter": "python",
   "pygments_lexer": "ipython3",
   "version": "3.8.8"
  },
  "latex_envs": {
   "LaTeX_envs_menu_present": true,
   "autoclose": false,
   "autocomplete": true,
   "bibliofile": "biblio.bib",
   "cite_by": "apalike",
   "current_citInitial": 1,
   "eqLabelWithNumbers": true,
   "eqNumInitial": 1,
   "hotkeys": {
    "equation": "Ctrl-E",
    "itemize": "Ctrl-I"
   },
   "labels_anchors": false,
   "latex_user_defs": false,
   "report_style_numbering": false,
   "user_envs_cfg": false
  },
  "toc": {
   "base_numbering": 1,
   "nav_menu": {},
   "number_sections": true,
   "sideBar": true,
   "skip_h1_title": false,
   "title_cell": "Table of Contents",
   "title_sidebar": "Contents",
   "toc_cell": true,
   "toc_position": {
    "height": "601.25px",
    "left": "33px",
    "top": "103.469px",
    "width": "318.965px"
   },
   "toc_section_display": true,
   "toc_window_display": true
  },
  "varInspector": {
   "cols": {
    "lenName": 16,
    "lenType": 16,
    "lenVar": 40
   },
   "kernels_config": {
    "python": {
     "delete_cmd_postfix": "",
     "delete_cmd_prefix": "del ",
     "library": "var_list.py",
     "varRefreshCmd": "print(var_dic_list())"
    },
    "r": {
     "delete_cmd_postfix": ") ",
     "delete_cmd_prefix": "rm(",
     "library": "var_list.r",
     "varRefreshCmd": "cat(var_dic_list()) "
    }
   },
   "types_to_exclude": [
    "module",
    "function",
    "builtin_function_or_method",
    "instance",
    "_Feature"
   ],
   "window_display": false
  }
 },
 "nbformat": 4,
 "nbformat_minor": 2
}
