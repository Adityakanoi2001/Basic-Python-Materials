{
 "cells": [
  {
   "cell_type": "markdown",
   "id": "621be954",
   "metadata": {
    "toc": true
   },
   "source": [
    "<h1>Table of Contents<span class=\"tocSkip\"></span></h1>\n",
    "<div class=\"toc\"><ul class=\"toc-item\"><li><span><a href=\"#File-Handling\" data-toc-modified-id=\"File-Handling-1\"><span class=\"toc-item-num\">1&nbsp;&nbsp;</span>File Handling</a></span><ul class=\"toc-item\"><li><span><a href=\"#Types-of-Files\" data-toc-modified-id=\"Types-of-Files-1.1\"><span class=\"toc-item-num\">1.1&nbsp;&nbsp;</span>Types of Files</a></span></li><li><span><a href=\"#Properties-of-the-file-object\" data-toc-modified-id=\"Properties-of-the-file-object-1.2\"><span class=\"toc-item-num\">1.2&nbsp;&nbsp;</span>Properties of the file object</a></span></li><li><span><a href=\"#Reading-data-from-file\" data-toc-modified-id=\"Reading-data-from-file-1.3\"><span class=\"toc-item-num\">1.3&nbsp;&nbsp;</span>Reading data from file</a></span><ul class=\"toc-item\"><li><span><a href=\"#fileObject.read()\" data-toc-modified-id=\"fileObject.read()-1.3.1\"><span class=\"toc-item-num\">1.3.1&nbsp;&nbsp;</span>fileObject.read()</a></span></li><li><span><a href=\"#fileObject.read(n)\" data-toc-modified-id=\"fileObject.read(n)-1.3.2\"><span class=\"toc-item-num\">1.3.2&nbsp;&nbsp;</span>fileObject.read(n)</a></span></li><li><span><a href=\"#fileObject.readline()\" data-toc-modified-id=\"fileObject.readline()-1.3.3\"><span class=\"toc-item-num\">1.3.3&nbsp;&nbsp;</span>fileObject.readline()</a></span></li><li><span><a href=\"#fileObject.readlines()\" data-toc-modified-id=\"fileObject.readlines()-1.3.4\"><span class=\"toc-item-num\">1.3.4&nbsp;&nbsp;</span>fileObject.readlines()</a></span></li></ul></li><li><span><a href=\"#Write-Operations\" data-toc-modified-id=\"Write-Operations-1.4\"><span class=\"toc-item-num\">1.4&nbsp;&nbsp;</span>Write Operations</a></span></li><li><span><a href=\"#Tell-&amp;-Seek\" data-toc-modified-id=\"Tell-&amp;-Seek-1.5\"><span class=\"toc-item-num\">1.5&nbsp;&nbsp;</span>Tell &amp; Seek</a></span></li><li><span><a href=\"#Applications\" data-toc-modified-id=\"Applications-1.6\"><span class=\"toc-item-num\">1.6&nbsp;&nbsp;</span>Applications</a></span><ul class=\"toc-item\"><li><span><a href=\"#Check-file-Exsists-or-Not\" data-toc-modified-id=\"Check-file-Exsists-or-Not-1.6.1\"><span class=\"toc-item-num\">1.6.1&nbsp;&nbsp;</span>Check file Exsists or Not</a></span></li><li><span><a href=\"#Line-Word-Char---Count\" data-toc-modified-id=\"Line-Word-Char---Count-1.6.2\"><span class=\"toc-item-num\">1.6.2&nbsp;&nbsp;</span>Line Word Char - Count</a></span></li></ul></li><li><span><a href=\"#Binary-Data\" data-toc-modified-id=\"Binary-Data-1.7\"><span class=\"toc-item-num\">1.7&nbsp;&nbsp;</span>Binary Data</a></span></li><li><span><a href=\"#CSV-File-Handingling\" data-toc-modified-id=\"CSV-File-Handingling-1.8\"><span class=\"toc-item-num\">1.8&nbsp;&nbsp;</span>CSV File Handingling</a></span><ul class=\"toc-item\"><li><span><a href=\"#Writer-CSV\" data-toc-modified-id=\"Writer-CSV-1.8.1\"><span class=\"toc-item-num\">1.8.1&nbsp;&nbsp;</span>Writer CSV</a></span></li><li><span><a href=\"#Reader-CSV\" data-toc-modified-id=\"Reader-CSV-1.8.2\"><span class=\"toc-item-num\">1.8.2&nbsp;&nbsp;</span>Reader CSV</a></span></li></ul></li><li><span><a href=\"#Zip-and-UnZip\" data-toc-modified-id=\"Zip-and-UnZip-1.9\"><span class=\"toc-item-num\">1.9&nbsp;&nbsp;</span>Zip and UnZip</a></span><ul class=\"toc-item\"><li><span><a href=\"#zipfile.is_zipfile()\" data-toc-modified-id=\"zipfile.is_zipfile()-1.9.1\"><span class=\"toc-item-num\">1.9.1&nbsp;&nbsp;</span>zipfile.is_zipfile()</a></span></li><li><span><a href=\"#zfObj.write(file)\" data-toc-modified-id=\"zfObj.write(file)-1.9.2\"><span class=\"toc-item-num\">1.9.2&nbsp;&nbsp;</span>zfObj.write(file)</a></span></li><li><span><a href=\"#zfObj.namelist()\" data-toc-modified-id=\"zfObj.namelist()-1.9.3\"><span class=\"toc-item-num\">1.9.3&nbsp;&nbsp;</span>zfObj.namelist()</a></span></li><li><span><a href=\"#zfObj.infolist()\" data-toc-modified-id=\"zfObj.infolist()-1.9.4\"><span class=\"toc-item-num\">1.9.4&nbsp;&nbsp;</span>zfObj.infolist()</a></span></li></ul></li><li><span><a href=\"#OS-Module\" data-toc-modified-id=\"OS-Module-1.10\"><span class=\"toc-item-num\">1.10&nbsp;&nbsp;</span>OS Module</a></span></li></ul></li><li><span><a href=\"#Exercise-&amp;-Answers\" data-toc-modified-id=\"Exercise-&amp;-Answers-2\"><span class=\"toc-item-num\">2&nbsp;&nbsp;</span>Exercise &amp; Answers</a></span><ul class=\"toc-item\"><li><span><a href=\"#Exercise\" data-toc-modified-id=\"Exercise-2.1\"><span class=\"toc-item-num\">2.1&nbsp;&nbsp;</span>Exercise</a></span></li><li><span><a href=\"#Answers\" data-toc-modified-id=\"Answers-2.2\"><span class=\"toc-item-num\">2.2&nbsp;&nbsp;</span>Answers</a></span></li></ul></li></ul></div>"
   ]
  },
  {
   "cell_type": "markdown",
   "id": "d8cbff59",
   "metadata": {},
   "source": [
    "# File Handling\n",
    "    \n",
    "|<p align=\"left\">Mode |<p align=\"left\">Meaning|<p align=\"left\">Action|\n",
    "|----------|----------|----------|\n",
    "|<p align=\"left\">'w' <br> 'wb'  |<p align=\"left\">Write       |<p align=\"left\">Erases the existing file and create a new one <br> File pointer is placed at the beginning of the file <br> **File will be created if file is not available**|\n",
    "|<p align=\"left\">'w+'<br> 'w+b' |<p align=\"left\">Write / Read|<p align=\"left\">Erases the existing file and create a new one <br> File pointer is placed at the beginning of the file <br> **File will be created if file is not available**|\n",
    "|<p align=\"left\">'r' <br> 'rb'  |<p align=\"left\">Reading **(default)**|<p align=\"left\">Used only to read & File should be available <br> File pointer is placed at the beginning of the file <br> **FileNotFoundError**|\n",
    "|<p align=\"left\">'r+' <br> 'r+b'|<p align=\"left\">Read / Write|<p align=\"left\">Making changes to the file and reading from it <br> The file pointer is placed at the beginning of the file <br> **FileNotFoundError**|\n",
    "|<p align=\"left\">'a' <br> 'ab'  |<p align=\"left\">Appending    |<p align=\"left\">Adds information to the end of the file <br> File pointer is placed at the end of the file <br> **File will be created if file is not available**|\n",
    "|<p align=\"left\">'a+' <br> 'a+b'|<p align=\"left\">Append / Read|<p align=\"left\">Adds information to the end of the file<br> File pointer is placed at the end of the file <br> **File will be created if file is not available**|\n",
    "|<p align=\"left\">'x' <br> 'xb'  |<p align=\"left\">Exclusive Creation <br> **Python 3**|<p align=\"left\">This mode is used exclusively to create a file <br> If a file already exists, function call will fail<br>Only Write Operation <br> **FileExistsError**|"
   ]
  },
  {
   "cell_type": "markdown",
   "id": "064be6b2",
   "metadata": {},
   "source": [
    "**Opening and closing a file object**\n",
    "\n",
    "|<p align=\"left\">Object|<p align=\"left\">Operation|\n",
    "|-|-|\n",
    "|<p align=\"left\">file_object.open()|<p align=\"left\">Open a file|\n",
    "|<p align=\"left\">file_object.close()|<p align=\"left\">Close a file|\n",
    "|<p align=\"left\">with open() as file_object|<p align=\"left\">Open - Auto Close|"
   ]
  },
  {
   "cell_type": "markdown",
   "id": "df17388c",
   "metadata": {
    "ExecuteTime": {
     "end_time": "2022-10-08T11:17:58.049518Z",
     "start_time": "2022-10-08T11:17:58.030814Z"
    }
   },
   "source": [
    "## Types of Files\n",
    "| Types | Example |\n",
    "| ----- | ------- |\n",
    "| Text  | All readable Files |\n",
    "| Binary | Not readable Files | "
   ]
  },
  {
   "cell_type": "markdown",
   "id": "4af3b7a1",
   "metadata": {},
   "source": [
    "## Properties of the file object\n",
    "`1) fileobject.name         | Name of the file`<br>\n",
    "`2) fileobject.mode         | Mode of the file`<br>\n",
    "`3) fileobject.closed       | Check is the file closed`<br>\n",
    "`4) fileobject.readable()   | Check is the file readable`<br>\n",
    "`5) fileobject.writeable()  | Check is the file writeable`<br>"
   ]
  },
  {
   "cell_type": "code",
   "execution_count": 17,
   "id": "ccdd47d8",
   "metadata": {
    "ExecuteTime": {
     "end_time": "2020-08-20T16:42:35.117844Z",
     "start_time": "2020-08-20T16:42:35.098842Z"
    }
   },
   "outputs": [
    {
     "name": "stdout",
     "output_type": "stream",
     "text": [
      "This is the file name:  query.log\n",
      "This is the mode name:  r\n",
      "Is the file closed   :  False\n",
      "Is the file readable :  True\n",
      "Is the file writable :  False\n",
      "Is the file closed   :  True\n"
     ]
    }
   ],
   "source": [
    "'''\n",
    "Properties of the open function\n",
    "'''\n",
    "with open(\"query.log\", \"r\") as data_file:\n",
    "    print(\"This is the file name: \", data_file.name)                # Variable\n",
    "    print(\"This is the mode name: \", data_file.mode)                # Variable\n",
    "    print(\"Is the file closed   : \", data_file.closed)              # Boolean Variable\n",
    "    print(\"Is the file readable : \", data_file.readable())          # Boolean Function\n",
    "    print(\"Is the file writable : \", data_file.writable())          # Boolean Function\n",
    "print(\"Is the file closed   : \", data_file.closed)"
   ]
  },
  {
   "cell_type": "markdown",
   "id": "36b48a1f",
   "metadata": {},
   "source": [
    "## Reading data from file\n",
    "\n",
    "`1) fileObject = open(); fileObject.close()`<br>\n",
    "`2) with open()`<br>\n",
    "\n",
    "`1) fileObject.read()      | returns string | Read all data as strings`   <br>\n",
    "`2) fileObject.read(n)     | returns string | Read all data as chars`     <br>\n",
    "`3) fileObject.readline()  | returns string | Read a single line data`    <br>\n",
    "`4) fileObject.readlines() | returns list   | Read lines of data as List` <br>"
   ]
  },
  {
   "cell_type": "code",
   "execution_count": 17,
   "id": "e22eb9d3",
   "metadata": {
    "ExecuteTime": {
     "end_time": "2022-10-08T11:29:18.782852Z",
     "start_time": "2022-10-08T11:29:18.778064Z"
    }
   },
   "outputs": [],
   "source": [
    "text_file = 'supported-files/write.txt'\n",
    "query_file = 'supported-files/query.log'"
   ]
  },
  {
   "cell_type": "markdown",
   "id": "1e867c81",
   "metadata": {},
   "source": [
    "### fileObject.read()"
   ]
  },
  {
   "cell_type": "code",
   "execution_count": 7,
   "id": "4ac66a27",
   "metadata": {
    "ExecuteTime": {
     "end_time": "2022-10-08T11:25:58.256085Z",
     "start_time": "2022-10-08T11:25:58.248190Z"
    }
   },
   "outputs": [
    {
     "name": "stdout",
     "output_type": "stream",
     "text": [
      "Line 1 Line 2 Line 3 \n",
      "<class 'str'>\n"
     ]
    }
   ],
   "source": [
    "with open(text_file, \"r\") as data_file:\n",
    "    data = data_file.read()\n",
    "    print(data)\n",
    "    print(type(data))"
   ]
  },
  {
   "cell_type": "code",
   "execution_count": 6,
   "id": "ca37074e",
   "metadata": {
    "ExecuteTime": {
     "end_time": "2022-10-08T11:25:41.073456Z",
     "start_time": "2022-10-08T11:25:41.066935Z"
    }
   },
   "outputs": [
    {
     "name": "stdout",
     "output_type": "stream",
     "text": [
      "11-23-2019 11:01:49 PM -- INFO -- Query Executed -- REINDEX TABLE public.test;\n",
      "11-23-2019 11:01:49 PM -- INFO -- Query Executed -- REINDEX TABLE public.test_able;\n",
      "11-23-2019 11:01:49 PM -- INFO -- Query Executed -- REINDEX TABLE public.department;\n",
      "11-23-2019 11:01:49 PM -- INFO -- Query Executed -- REINDEX TABLE public.employee;\n",
      "<class 'str'>\n"
     ]
    }
   ],
   "source": [
    "with open(query_file, \"r\") as data_file:\n",
    "    data = data_file.read()\n",
    "    print(data)\n",
    "    print(type(data))"
   ]
  },
  {
   "cell_type": "markdown",
   "id": "f60622f2",
   "metadata": {},
   "source": [
    "### fileObject.read(n)"
   ]
  },
  {
   "cell_type": "code",
   "execution_count": 20,
   "id": "f068909a",
   "metadata": {
    "ExecuteTime": {
     "end_time": "2022-10-08T11:36:37.146847Z",
     "start_time": "2022-10-08T11:36:37.138215Z"
    }
   },
   "outputs": [
    {
     "name": "stdout",
     "output_type": "stream",
     "text": [
      "11-23-2019 11:01:49 PM -- INFO --\n",
      "<class 'str'>\n",
      "\n",
      " Query Executed -- REINDEX TABLE public.\n",
      "<class 'str'>\n"
     ]
    }
   ],
   "source": [
    "'''\n",
    "Read n chars from a file\n",
    "'''\n",
    "with open(query_file, \"r\") as data_file:\n",
    "    data = data_file.read(33)\n",
    "    print(data)\n",
    "    print(type(data))\n",
    "    \n",
    "    print()\n",
    "    \n",
    "    data = data_file.read(40)\n",
    "    print(data)\n",
    "    print(type(data))"
   ]
  },
  {
   "cell_type": "markdown",
   "id": "af012174",
   "metadata": {},
   "source": [
    "### fileObject.readline()"
   ]
  },
  {
   "cell_type": "code",
   "execution_count": 13,
   "id": "ef6a2749",
   "metadata": {
    "ExecuteTime": {
     "end_time": "2022-10-08T11:27:28.629915Z",
     "start_time": "2022-10-08T11:27:28.622394Z"
    }
   },
   "outputs": [
    {
     "name": "stdout",
     "output_type": "stream",
     "text": [
      "11-23-2019 11:01:49 PM -- INFO -- Query Executed -- REINDEX TABLE public.test;\n",
      "\n",
      "<class 'str'>\n",
      "11-23-2019 11:01:49 PM -- INFO -- Query Executed -- REINDEX TABLE public.test_able;\n",
      "\n",
      "<class 'str'>\n"
     ]
    }
   ],
   "source": [
    "'''\n",
    "Read line by line\n",
    "'''\n",
    "with open(query_file, \"r\") as data_file:\n",
    "    data = data_file.readline()\n",
    "    print(data)\n",
    "    print(type(data))\n",
    "    \n",
    "    data = data_file.readline()\n",
    "    print(data)\n",
    "    print(type(data))"
   ]
  },
  {
   "cell_type": "markdown",
   "id": "996ab0fe",
   "metadata": {},
   "source": [
    "### fileObject.readlines()"
   ]
  },
  {
   "cell_type": "code",
   "execution_count": 19,
   "id": "835a5d6b",
   "metadata": {
    "ExecuteTime": {
     "end_time": "2022-10-08T11:34:08.891170Z",
     "start_time": "2022-10-08T11:34:08.884675Z"
    }
   },
   "outputs": [
    {
     "name": "stdout",
     "output_type": "stream",
     "text": [
      "['11-23-2019 11:01:49 PM -- INFO -- Query Executed -- REINDEX TABLE public.test;\\n', '11-23-2019 11:01:49 PM -- INFO -- Query Executed -- REINDEX TABLE public.test_able;\\n', '11-23-2019 11:01:49 PM -- INFO -- Query Executed -- REINDEX TABLE public.department;\\n', '11-23-2019 11:01:49 PM -- INFO -- Query Executed -- REINDEX TABLE public.employee;']\n",
      "<class 'list'>\n"
     ]
    }
   ],
   "source": [
    "'''\n",
    "Read and Print all the lines of a file is a single line\n",
    "'''\n",
    "with open(query_file, \"r\") as data_file:\n",
    "    data = data_file.readlines()\n",
    "    print(data)\n",
    "    print(type(data))"
   ]
  },
  {
   "cell_type": "code",
   "execution_count": 16,
   "id": "7a902bbb",
   "metadata": {
    "ExecuteTime": {
     "end_time": "2022-10-08T11:28:39.737186Z",
     "start_time": "2022-10-08T11:28:39.726648Z"
    }
   },
   "outputs": [
    {
     "name": "stdout",
     "output_type": "stream",
     "text": [
      "11-23-2019 11:01:49 PM -- INFO -- Query Executed -- REINDEX TABLE public.test;\n",
      "\n",
      "11-23-2019 11:01:49 PM -- INFO -- Query Executed -- REINDEX TABLE public.test_able;\n",
      "\n",
      "11-23-2019 11:01:49 PM -- INFO -- Query Executed -- REINDEX TABLE public.department;\n",
      "\n",
      "11-23-2019 11:01:49 PM -- INFO -- Query Executed -- REINDEX TABLE public.employee;\n"
     ]
    }
   ],
   "source": [
    "'''\n",
    "Read and Print lines in loop\n",
    "'''\n",
    "with open(query_file, \"r\") as data_file:\n",
    "    for data in data_file.readlines():\n",
    "        print(data)"
   ]
  },
  {
   "cell_type": "markdown",
   "id": "f4250739",
   "metadata": {},
   "source": [
    "## Write Operations\n",
    "\n",
    "`1) fileObject.write(object)         | input as string`<br>\n",
    "`2) fileObject.writelines(object)    | input as list`<br>"
   ]
  },
  {
   "cell_type": "code",
   "execution_count": 17,
   "id": "4506df97",
   "metadata": {
    "ExecuteTime": {
     "end_time": "2022-10-08T11:29:18.782852Z",
     "start_time": "2022-10-08T11:29:18.778064Z"
    }
   },
   "outputs": [],
   "source": [
    "text_file = 'supported-files/write.txt'\n",
    "query_file = 'supported-files/query.log'"
   ]
  },
  {
   "cell_type": "code",
   "execution_count": 23,
   "id": "33459690",
   "metadata": {
    "ExecuteTime": {
     "end_time": "2022-10-08T11:38:00.736427Z",
     "start_time": "2022-10-08T11:38:00.727061Z"
    }
   },
   "outputs": [
    {
     "name": "stdout",
     "output_type": "stream",
     "text": [
      "['Line 1-Line 2-Line 3-']\n"
     ]
    }
   ],
   "source": [
    "'''\n",
    "Write a string will write continuously\n",
    "'''\n",
    "with open(text_file,'w+') as test:\n",
    "    test.write('Line 1-')\n",
    "    test.write('Line 2-')\n",
    "    test.write('Line 3-')\n",
    "\n",
    "with open(file_name,'r') as test:\n",
    "    print(test.readlines())"
   ]
  },
  {
   "cell_type": "code",
   "execution_count": 26,
   "id": "91f351a6",
   "metadata": {
    "ExecuteTime": {
     "end_time": "2022-10-08T11:39:39.845271Z",
     "start_time": "2022-10-08T11:39:39.836280Z"
    }
   },
   "outputs": [
    {
     "name": "stdout",
     "output_type": "stream",
     "text": [
      "['Line 1-Line 2-Line 3-']\n"
     ]
    }
   ],
   "source": [
    "'''\n",
    "Write a list will also write continuously\n",
    "'''\n",
    "l = ['Line 1-','Line 2-', 'Line 3-']\n",
    "with open(text_file,'w+') as test:\n",
    "    test.writelines(l)\n",
    "\n",
    "\n",
    "with open(text_file,'r') as test:\n",
    "    print(test.readlines())"
   ]
  },
  {
   "cell_type": "code",
   "execution_count": 27,
   "id": "445fb9ad",
   "metadata": {
    "ExecuteTime": {
     "end_time": "2022-10-08T11:39:40.142957Z",
     "start_time": "2022-10-08T11:39:40.132603Z"
    }
   },
   "outputs": [
    {
     "name": "stdout",
     "output_type": "stream",
     "text": [
      "['Line 1 \\n', 'Line 2 \\n', 'Line 3 \\n']\n"
     ]
    }
   ],
   "source": [
    "'''\n",
    "If we want new line , we need add explicitly on both string | List\n",
    "'''\n",
    "l = ['Line 1 \\n','Line 2 \\n', 'Line 3 \\n']\n",
    "with open(text_file,'w+') as test:\n",
    "    test.writelines(l)\n",
    "\n",
    "\n",
    "with open(text_file,'r') as test:\n",
    "    print(test.readlines())"
   ]
  },
  {
   "cell_type": "code",
   "execution_count": 28,
   "id": "7693781e",
   "metadata": {
    "ExecuteTime": {
     "end_time": "2022-10-08T11:39:41.917458Z",
     "start_time": "2022-10-08T11:39:41.909174Z"
    }
   },
   "outputs": [
    {
     "name": "stdout",
     "output_type": "stream",
     "text": [
      "['Line 1 \\n', 'Line 2 \\n', 'Line 3 \\n']\n"
     ]
    }
   ],
   "source": [
    "'''\n",
    "Looping through and adding new line for each element in list\n",
    "'''\n",
    "l = ['Line 1 ','Line 2 ', 'Line 3 ']\n",
    "with open(text_file,'w+') as test:\n",
    "    for i in l:\n",
    "        test.write(i)\n",
    "        test.write('\\n')\n",
    "\n",
    "        \n",
    "with open(text_file,'r') as test:\n",
    "    print(test.readlines())"
   ]
  },
  {
   "cell_type": "code",
   "execution_count": 23,
   "id": "4d4f975b",
   "metadata": {
    "ExecuteTime": {
     "end_time": "2020-08-20T16:47:53.961080Z",
     "start_time": "2020-08-20T16:47:53.941079Z"
    }
   },
   "outputs": [
    {
     "name": "stdout",
     "output_type": "stream",
     "text": [
      "['Line 1', 'Line 2', 'Line 3']\n"
     ]
    }
   ],
   "source": [
    "'''\n",
    "Removing new line from file using readlines and looping through the element\n",
    "'''\n",
    "all_data_new = list()\n",
    "with open(text_file, \"r\") as data_file:\n",
    "    all_data = data_file.readlines()\n",
    "    \n",
    "    for i in all_data:\n",
    "        all_data_new.append(i.rstrip())\n",
    "    print(all_data_new)"
   ]
  },
  {
   "cell_type": "markdown",
   "id": "fd6c767f",
   "metadata": {},
   "source": [
    "## Tell & Seek\n",
    "\n",
    "|<p align=\"left\">Object|<p align=\"left\">Type|<p align=\"left\">Operation|\n",
    "|-|-|-|\n",
    "|<p align=\"left\">file_object.tell() |<p align=\"left\">Integer|<p align=\"left\">Get the cursor / index location|\n",
    "|<p align=\"left\">file_object.seek() |<p align=\"left\">String|<p align=\"left\">To move the cursor to location from beginning|"
   ]
  },
  {
   "cell_type": "markdown",
   "id": "4e8a31e7",
   "metadata": {},
   "source": [
    "| Mode | Seek Position |\n",
    "| ---- | ------------- |\n",
    "| Read | Start |\n",
    "| Append | End |"
   ]
  },
  {
   "cell_type": "code",
   "execution_count": 2,
   "id": "d26d3345",
   "metadata": {
    "ExecuteTime": {
     "end_time": "2022-10-08T11:59:06.062476Z",
     "start_time": "2022-10-08T11:59:06.057459Z"
    }
   },
   "outputs": [],
   "source": [
    "text_file = 'supported-files/write.txt'\n",
    "query_file = 'supported-files/query.log'"
   ]
  },
  {
   "cell_type": "code",
   "execution_count": 3,
   "id": "17db1f6b",
   "metadata": {
    "ExecuteTime": {
     "end_time": "2022-10-08T11:59:06.246032Z",
     "start_time": "2022-10-08T11:59:06.236114Z"
    }
   },
   "outputs": [
    {
     "name": "stdout",
     "output_type": "stream",
     "text": [
      "0\n"
     ]
    }
   ],
   "source": [
    "'''\n",
    "Finding the read\\Write Pointer\n",
    "'''\n",
    "with open(text_file, \"r\") as data_file:\n",
    "    print(data_file.tell())"
   ]
  },
  {
   "cell_type": "code",
   "execution_count": 4,
   "id": "5ab5757a",
   "metadata": {
    "ExecuteTime": {
     "end_time": "2022-10-08T12:00:12.648175Z",
     "start_time": "2022-10-08T12:00:12.639037Z"
    }
   },
   "outputs": [
    {
     "name": "stdout",
     "output_type": "stream",
     "text": [
      "24\n"
     ]
    }
   ],
   "source": [
    "'''\n",
    "Finding the read\\Write Pointer\n",
    "'''\n",
    "with open(text_file, \"a\") as data_file:\n",
    "    print(data_file.tell())"
   ]
  },
  {
   "cell_type": "code",
   "execution_count": 5,
   "id": "b1455889",
   "metadata": {
    "ExecuteTime": {
     "end_time": "2022-10-08T12:05:54.406123Z",
     "start_time": "2022-10-08T12:05:54.396573Z"
    }
   },
   "outputs": [
    {
     "name": "stdout",
     "output_type": "stream",
     "text": [
      "0\n",
      "1000\n"
     ]
    }
   ],
   "source": [
    "'''\n",
    "Seek function will get the read\\write pointer to to the specied charecter (n+1)\n",
    "'''\n",
    "with open(text_file, \"r+\") as data_file:\n",
    "    print(data_file.tell())\n",
    "    \n",
    "    data_file.seek(1000, 0)\n",
    "    \n",
    "    print(data_file.tell())"
   ]
  },
  {
   "cell_type": "code",
   "execution_count": 6,
   "id": "bbdf42dc",
   "metadata": {
    "ExecuteTime": {
     "end_time": "2022-10-08T12:06:25.425580Z",
     "start_time": "2022-10-08T12:06:25.414881Z"
    }
   },
   "outputs": [
    {
     "name": "stdout",
     "output_type": "stream",
     "text": [
      "24\n",
      "36\n"
     ]
    }
   ],
   "source": [
    "'''\n",
    "Appending charecters to the file\n",
    "i.e : The specified string will be appended to last\n",
    "'''\n",
    "with open(text_file, \"a\") as data_file:\n",
    "    print(data_file.tell())\n",
    "    \n",
    "    data_file.write('This is Seek')\n",
    "    \n",
    "    print(data_file.tell())"
   ]
  },
  {
   "cell_type": "code",
   "execution_count": 17,
   "id": "73f8fc6b",
   "metadata": {
    "ExecuteTime": {
     "end_time": "2022-10-08T12:15:58.082870Z",
     "start_time": "2022-10-08T12:15:58.063794Z"
    }
   },
   "outputs": [
    {
     "name": "stdout",
     "output_type": "stream",
     "text": [
      "0\n",
      "Line 1 \n",
      "\n",
      "Line 2 \n",
      "\n",
      "LineThis is Seek....\n",
      "20\n",
      "37\n",
      "Line 1 \n",
      "\n",
      "Line 2 \n",
      "\n",
      "LineThis is Seek ||||\n"
     ]
    }
   ],
   "source": [
    "'''\n",
    "Seek function will get the read\\write pointer to to the specied charecter (n+1)\n",
    "Rewrite the charecters from n+1 with write function\n",
    "i.e : 20..25 charecters are replaced \n",
    "'''\n",
    "with open(text_file, \"r+\") as data_file:\n",
    "    print(data_file.tell())\n",
    "    for data in data_file.readlines():\n",
    "        print(data)\n",
    "    \n",
    "    data_file.seek(20, 0)\n",
    "    print(data_file.tell())\n",
    "    \n",
    "    data_file.write('This is Seek ||||')\n",
    "    print(data_file.tell())\n",
    "    \n",
    "    for data in data_file.readlines():\n",
    "        print(data)\n",
    "    \n",
    "    data_file.seek(0)\n",
    "    for data in data_file.readlines():\n",
    "        print(data)"
   ]
  },
  {
   "cell_type": "markdown",
   "id": "3915e80e",
   "metadata": {},
   "source": [
    "## Applications"
   ]
  },
  {
   "cell_type": "markdown",
   "id": "77ed533c",
   "metadata": {},
   "source": [
    "### Check file Exsists or Not"
   ]
  },
  {
   "cell_type": "code",
   "execution_count": 39,
   "id": "2c5ac188",
   "metadata": {
    "ExecuteTime": {
     "end_time": "2022-10-08T13:17:31.856175Z",
     "start_time": "2022-10-08T13:17:31.845380Z"
    }
   },
   "outputs": [
    {
     "name": "stdout",
     "output_type": "stream",
     "text": [
      "O File Exsists: supported-files/write.txt\n",
      "Line 1 \n",
      "Line 2 \n",
      "LineThis is Seek ||||\n",
      "\n",
      "O File Exsists: supported-files/query.log\n",
      "11-23-2019 11:01:49 PM -- INFO -- Query Executed -- REINDEX TABLE public.test;\n",
      "11-23-2019 11:01:49 PM -- INFO -- Query Executed -- REINDEX TABLE public.test_able;\n",
      "11-23-2019 11:01:49 PM -- INFO -- Query Executed -- REINDEX TABLE public.department;\n",
      "11-23-2019 11:01:49 PM -- INFO -- Query Executed -- REINDEX TABLE public.employee;\n",
      "\n",
      "X File not Exsists: supported-files/query1.log\n"
     ]
    }
   ],
   "source": [
    "'''\n",
    "Check the input is a file or not\n",
    "'''\n",
    "\n",
    "import os\n",
    "import sys\n",
    "\n",
    "text_file = 'supported-files/write.txt'\n",
    "query_file = 'supported-files/query.log'\n",
    "query1_file = 'supported-files/query1.log'\n",
    "\n",
    "for file in [text_file, query_file, query1_file]:\n",
    "    if os.path.isfile(file):\n",
    "        print(f'O File Exsists: {file}')\n",
    "        with open(file, 'r') as read_file:\n",
    "            print(read_file.read())\n",
    "            print()\n",
    "    else:\n",
    "        print(f'X File not Exsists: {file}')\n",
    "            "
   ]
  },
  {
   "cell_type": "markdown",
   "id": "1c850744",
   "metadata": {},
   "source": [
    "### Line Word Char - Count"
   ]
  },
  {
   "cell_type": "code",
   "execution_count": 48,
   "id": "e4376bdb",
   "metadata": {
    "ExecuteTime": {
     "end_time": "2022-10-08T13:21:38.705991Z",
     "start_time": "2022-10-08T13:21:38.692576Z"
    }
   },
   "outputs": [
    {
     "name": "stdout",
     "output_type": "stream",
     "text": [
      "O File Exsists: supported-files/query.log\n",
      "Number of lines :  4\n",
      "Number of words :  48\n",
      "Number of charas:  283\n",
      "Number of spaces:  44\n"
     ]
    }
   ],
   "source": [
    "import os\n",
    "import sys\n",
    "\n",
    "query_file = 'supported-files/query.log'\n",
    "\n",
    "if os.path.isfile(query_file):\n",
    "    print(f'O File Exsists: {query_file}')\n",
    "    with open(query_file, 'r') as read_file:\n",
    "        num_lines = num_words = num_charc = num_spaces = 0\n",
    "\n",
    "        if read_file:\n",
    "            for line in read_file:\n",
    "                line = line.strip(os.linesep)\n",
    "                num_lines = num_lines + 1\n",
    "\n",
    "                num_words += len(line.split())\n",
    "\n",
    "                num_charc += sum(1 for c in line if c not in (os.linesep, ' '))\n",
    "\n",
    "                num_spaces += sum(1 for c in line if c in (os.linesep, ' '))\n",
    "    \n",
    "    # printing total line count\n",
    "    print(\"Number of lines : \", num_lines)\n",
    "    \n",
    "    # printing total word count\n",
    "    print(\"Number of words : \", num_words)\n",
    "     \n",
    "    # printing total character count\n",
    "    print(\"Number of charas: \", num_charc)\n",
    "     \n",
    "    # printing total space count\n",
    "    print(\"Number of spaces: \", num_spaces)\n",
    "else:\n",
    "    print(f'X File not Exsists: {file}')"
   ]
  },
  {
   "cell_type": "markdown",
   "id": "1e5e4474",
   "metadata": {},
   "source": [
    "## Binary Data\n",
    "```\n",
    "Read/Write Video File\n",
    "Read/Write Image File\n",
    "```"
   ]
  },
  {
   "cell_type": "markdown",
   "id": "dc5091b3",
   "metadata": {
    "ExecuteTime": {
     "end_time": "2022-10-08T13:30:58.147487Z",
     "start_time": "2022-10-08T13:30:58.142648Z"
    }
   },
   "source": [
    "## CSV File Handingling\n",
    "```\n",
    "|    Object  |           Usage               |\n",
    "| ---------- | ----------------------------- |\n",
    "| csv.writer | Accepts List as Input         |\n",
    "| csv.reader | Return Generator of List Data |\n",
    "```"
   ]
  },
  {
   "cell_type": "code",
   "execution_count": 51,
   "id": "44b38336",
   "metadata": {
    "ExecuteTime": {
     "end_time": "2022-10-08T13:44:20.364210Z",
     "start_time": "2022-10-08T13:44:20.358416Z"
    }
   },
   "outputs": [],
   "source": [
    "text_file = 'supported-files/write.txt'\n",
    "query_file = 'supported-files/query.log'\n",
    "csv_file = 'supported-files/emp.csv'"
   ]
  },
  {
   "cell_type": "markdown",
   "id": "f87fde8c",
   "metadata": {},
   "source": [
    "### Writer CSV"
   ]
  },
  {
   "cell_type": "code",
   "execution_count": 55,
   "id": "0f12882a",
   "metadata": {
    "ExecuteTime": {
     "end_time": "2022-10-08T13:48:02.771918Z",
     "start_time": "2022-10-08T13:47:41.447985Z"
    },
    "scrolled": true
   },
   "outputs": [
    {
     "name": "stdout",
     "output_type": "stream",
     "text": [
      "Enter no of Employees: 2\n",
      "Enter Employee Number: 111\n",
      "Enter Employee Name   : Vignesh\n",
      "Enter Employee Salary : 10\n",
      "Enter Employee Address: BLR\n",
      "Enter Employee Number: 222\n",
      "Enter Employee Name   : Dhivya\n",
      "Enter Employee Salary : 20\n",
      "Enter Employee Address: BLR\n",
      "Completed CSV file creation\n"
     ]
    }
   ],
   "source": [
    "import csv\n",
    "\n",
    "\n",
    "with open(csv_file, 'w', newline='') as csv_obj:\n",
    "    writer = csv.writer(csv_obj)\n",
    "    writer.writerow(['ENO', 'ENAME', 'ESAL', 'EADDR'])\n",
    "    n = int(input('Enter no of Employees: '))\n",
    "    \n",
    "    for i in range(n):\n",
    "        eno = int(input('Enter Employee Number: '))\n",
    "        ename = input('Enter Employee Name   : ')\n",
    "        esal = int(input('Enter Employee Salary : '))\n",
    "        eadd = input('Enter Employee Address: ')\n",
    "        writer.writerow([eno, ename, esal, eadd])\n",
    "\n",
    "print('Completed CSV file creation')"
   ]
  },
  {
   "cell_type": "markdown",
   "id": "a89b45ac",
   "metadata": {},
   "source": [
    "### Reader CSV"
   ]
  },
  {
   "cell_type": "code",
   "execution_count": 62,
   "id": "148d1f45",
   "metadata": {
    "ExecuteTime": {
     "end_time": "2022-10-08T14:25:44.018077Z",
     "start_time": "2022-10-08T14:25:44.007349Z"
    }
   },
   "outputs": [
    {
     "name": "stdout",
     "output_type": "stream",
     "text": [
      "ENO \tENAME \tESAL \tEADDR \t\n",
      "111 \tVignesh \t10 \tBLR \t\n",
      "222 \tDhivya \t20 \tBLR \t\n"
     ]
    }
   ],
   "source": [
    "import csv\n",
    "\n",
    "with open(csv_file, 'r') as csv_obj:\n",
    "    reader = csv.reader(csv_obj)\n",
    "    for line in reader:\n",
    "        for word in line:\n",
    "            print(word, '\\t', end='')\n",
    "        print()"
   ]
  },
  {
   "cell_type": "markdown",
   "id": "f769ae16",
   "metadata": {},
   "source": [
    "## Zip and UnZip\n",
    "```\n",
    "1) Compression\n",
    "2) Reduce Size\n",
    "\n",
    "- zipfile.is_zipfile(filename)\n",
    "- zfObj.write(file)\n",
    "- zfObj.namelist()\n",
    "```\n"
   ]
  },
  {
   "cell_type": "code",
   "execution_count": 75,
   "id": "93b92a76",
   "metadata": {
    "ExecuteTime": {
     "end_time": "2022-10-08T15:03:36.211499Z",
     "start_time": "2022-10-08T15:03:36.204602Z"
    }
   },
   "outputs": [],
   "source": [
    "text_file = 'supported-files/write.txt'\n",
    "query_file = 'supported-files/query.log'\n",
    "csv_file = 'supported-files/emp.csv'\n",
    "zip_file = 'supported-files/write.zip'"
   ]
  },
  {
   "cell_type": "markdown",
   "id": "4f408ef8",
   "metadata": {},
   "source": [
    "### zipfile.is_zipfile()"
   ]
  },
  {
   "cell_type": "code",
   "execution_count": 67,
   "id": "24f187be",
   "metadata": {
    "ExecuteTime": {
     "end_time": "2022-10-08T14:55:01.604821Z",
     "start_time": "2022-10-08T14:55:01.591045Z"
    }
   },
   "outputs": [
    {
     "name": "stdout",
     "output_type": "stream",
     "text": [
      "     supported-files/write.txt  False\n",
      "     supported-files/query.log  False\n",
      "       supported-files/emp.csv  False\n"
     ]
    }
   ],
   "source": [
    "import zipfile\n",
    "\n",
    "for filename in [text_file, query_file, csv_file]:\n",
    "    print('{:>30}  {}'.format(filename, zipfile.is_zipfile(filename)))"
   ]
  },
  {
   "cell_type": "markdown",
   "id": "9138e044",
   "metadata": {},
   "source": [
    "### zfObj.write(file)"
   ]
  },
  {
   "cell_type": "code",
   "execution_count": 77,
   "id": "eafaa126",
   "metadata": {
    "ExecuteTime": {
     "end_time": "2022-10-08T15:04:16.371936Z",
     "start_time": "2022-10-08T15:04:16.361232Z"
    }
   },
   "outputs": [
    {
     "name": "stdout",
     "output_type": "stream",
     "text": [
      "Creating Archive...\n",
      "Adding file: supported-files/write.txt\n",
      "Adding file: supported-files/query.log\n",
      "Adding file: supported-files/emp.csv\n"
     ]
    }
   ],
   "source": [
    "import zipfile\n",
    "\n",
    "print('Creating Archive...')\n",
    "with zipfile.ZipFile(zip_file, 'w') as zf:\n",
    "    for file in [text_file, query_file, csv_file]:\n",
    "        print(f'Adding file: {file}')\n",
    "        zf.write(file)"
   ]
  },
  {
   "cell_type": "markdown",
   "id": "966290ea",
   "metadata": {},
   "source": [
    "### zfObj.namelist()"
   ]
  },
  {
   "cell_type": "code",
   "execution_count": 81,
   "id": "b74ae539",
   "metadata": {
    "ExecuteTime": {
     "end_time": "2022-10-08T15:09:18.689007Z",
     "start_time": "2022-10-08T15:09:18.679611Z"
    }
   },
   "outputs": [
    {
     "name": "stdout",
     "output_type": "stream",
     "text": [
      "['supported-files/write.txt', 'supported-files/query.log', 'supported-files/emp.csv']\n"
     ]
    }
   ],
   "source": [
    "import zipfile\n",
    "\n",
    "with zipfile.ZipFile(zip_file, 'r') as zf:\n",
    "    print(zf.namelist())"
   ]
  },
  {
   "cell_type": "markdown",
   "id": "16dda14e",
   "metadata": {},
   "source": [
    "### zfObj.infolist()\n",
    "```\n",
    "info.filename\n",
    "info.comment\n",
    "info.date_time\n",
    "info.create_system\n",
    "info.create_version\n",
    "info.compress_size\n",
    "info.file_size, 'bytes\n",
    "```"
   ]
  },
  {
   "cell_type": "code",
   "execution_count": 86,
   "id": "22fb790a",
   "metadata": {
    "ExecuteTime": {
     "end_time": "2022-10-08T15:52:06.841524Z",
     "start_time": "2022-10-08T15:52:06.829429Z"
    }
   },
   "outputs": [
    {
     "name": "stdout",
     "output_type": "stream",
     "text": [
      "info.filename : supported-files/write.txt\n",
      "  Comment     : b''\n",
      "info.date_time: (2022, 10, 8, 17, 45, 58)\n",
      "  Modified    : 2022-10-08 17:45:58\n",
      "  System      : Unix\n",
      "  ZIP version : 20\n",
      "  Compressed  : 37 bytes\n",
      "  Uncompressed: 37 bytes\n",
      "\n",
      "info.filename : supported-files/query.log\n",
      "  Comment     : b''\n",
      "info.date_time: (2022, 10, 8, 16, 54, 46)\n",
      "  Modified    : 2022-10-08 16:54:46\n",
      "  System      : Unix\n",
      "  ZIP version : 20\n",
      "  Compressed  : 330 bytes\n",
      "  Uncompressed: 330 bytes\n",
      "\n",
      "info.filename : supported-files/emp.csv\n",
      "  Comment     : b''\n",
      "info.date_time: (2022, 10, 8, 19, 18, 2)\n",
      "  Modified    : 2022-10-08 19:18:02\n",
      "  System      : Unix\n",
      "  ZIP version : 20\n",
      "  Compressed  : 61 bytes\n",
      "  Uncompressed: 61 bytes\n",
      "\n"
     ]
    }
   ],
   "source": [
    "import datetime\n",
    "import zipfile\n",
    "\n",
    "with zipfile.ZipFile(zip_file) as zf:\n",
    "    for info in zf.infolist():\n",
    "        print(f'info.filename : {info.filename}')\n",
    "        print(f'  Comment     : {info.comment}')\n",
    "        print(f'info.date_time: {info.date_time}')\n",
    "        \n",
    "        mod_date = datetime.datetime(*info.date_time)\n",
    "        print('  Modified    :', mod_date)\n",
    "        \n",
    "        if info.create_system == 0:\n",
    "            system = 'Windows'\n",
    "        elif info.create_system == 3:\n",
    "            system = 'Unix'\n",
    "        else:\n",
    "            system = 'UNKNOWN'\n",
    "        \n",
    "        print('  System      :', system)\n",
    "        print('  ZIP version :', info.create_version)\n",
    "        print('  Compressed  :', info.compress_size, 'bytes')\n",
    "        print('  Uncompressed:', info.file_size, 'bytes')\n",
    "        print()"
   ]
  },
  {
   "cell_type": "markdown",
   "id": "ef647da2",
   "metadata": {},
   "source": [
    "## OS Module\n",
    "```\n",
    "- os.getcwd()\n",
    "- os.mkdir()\n",
    "- os.makedirs()\n",
    "- os.rmdir()\n",
    "- os.removedirs()\n",
    "- os.rename()\n",
    "- os.listdir()\n",
    "- os.walk(path, topdown=True, onerror=None, followlinks=False)\n",
    "- os.system(cmd)\n",
    "--------------------------------------------------------------\n",
    "\n",
    "- os.stat(file)\n",
    "    - st_mode = Protection Bits \n",
    "    - st_ino  = Inode Number\n",
    "    - st_dev  = Device\n",
    "    - st_nlink= No of Hard Links\n",
    "    - st_uid  = User-Id of the Owner\n",
    "    - st_git  = Group-Id of the Owner\n",
    "    - st_size = Size of the File\n",
    "    - st_atime= Last Accessed Time\n",
    "    - st_mtime= Last Modified Time\n",
    "    - st_ctime= Last Change in Metadata\n",
    "``` "
   ]
  },
  {
   "cell_type": "code",
   "execution_count": 87,
   "id": "2c500705",
   "metadata": {
    "ExecuteTime": {
     "end_time": "2022-10-08T16:17:26.580541Z",
     "start_time": "2022-10-08T16:17:26.571308Z"
    }
   },
   "outputs": [
    {
     "data": {
      "text/plain": [
       "'/Users/dhivyamalathirajasekaran/PycharmProjects/MLProjects/PythonMaterials'"
      ]
     },
     "execution_count": 87,
     "metadata": {},
     "output_type": "execute_result"
    }
   ],
   "source": [
    "import os\n",
    "\n",
    "os.getcwd()"
   ]
  },
  {
   "cell_type": "code",
   "execution_count": 88,
   "id": "e3e4a5a5",
   "metadata": {
    "ExecuteTime": {
     "end_time": "2022-10-08T16:17:55.974240Z",
     "start_time": "2022-10-08T16:17:55.965158Z"
    }
   },
   "outputs": [
    {
     "data": {
      "text/plain": [
       "['Python-Basics-4.ipynb',\n",
       " 'Python-Basics-ShallowCopy-DeepCopy-RegEx-.ipynb',\n",
       " 'Python-Basics-2.ipynb',\n",
       " 'Python-Basics-OOPS.ipynb',\n",
       " 'Python-Basics-3.ipynb',\n",
       " 'Python-Basics-1.ipynb',\n",
       " 'README.md',\n",
       " '.gitignore',\n",
       " 'supported-files',\n",
       " 'Python-Basics-ScopeOfVariables.ipynb',\n",
       " 'Python-PEP8.ipynb',\n",
       " 'templates',\n",
       " '.ipynb_checkpoints',\n",
       " '.git',\n",
       " 'Practice_Programs.ipynb']"
      ]
     },
     "execution_count": 88,
     "metadata": {},
     "output_type": "execute_result"
    }
   ],
   "source": [
    "import os\n",
    "os.listdir('.')"
   ]
  },
  {
   "cell_type": "code",
   "execution_count": 94,
   "id": "14d0a96c",
   "metadata": {
    "ExecuteTime": {
     "end_time": "2022-10-08T16:24:29.260416Z",
     "start_time": "2022-10-08T16:24:29.245238Z"
    },
    "scrolled": false
   },
   "outputs": [
    {
     "name": "stdout",
     "output_type": "stream",
     "text": [
      "dirpath  : /Users/dhivyamalathirajasekaran/PycharmProjects/MLProjects/PythonMaterials\n",
      "dirnames : ['supported-files', 'templates', '.ipynb_checkpoints', '.git']\n",
      "filenames: ['Python-Basics-4.ipynb', 'Python-Basics-ShallowCopy-DeepCopy-RegEx-.ipynb', 'Python-Basics-2.ipynb', 'Python-Basics-OOPS.ipynb', 'Python-Basics-3.ipynb', 'Python-Basics-1.ipynb', 'README.md', '.gitignore', 'Python-Basics-ScopeOfVariables.ipynb', 'Python-PEP8.ipynb', 'Practice_Programs.ipynb']\n",
      "\n",
      "dirpath  : /Users/dhivyamalathirajasekaran/PycharmProjects/MLProjects/PythonMaterials/supported-files\n",
      "dirnames : ['.ipynb_checkpoints']\n",
      "filenames: ['query.log', 'write.zip', 'emp.csv', 'write.txt']\n",
      "\n",
      "dirpath  : /Users/dhivyamalathirajasekaran/PycharmProjects/MLProjects/PythonMaterials/templates\n",
      "dirnames : []\n",
      "filenames: ['Index_Jinja_Template.html']\n",
      "\n"
     ]
    }
   ],
   "source": [
    "import os\n",
    "\n",
    "for dirpath, dirnames, filenames in os.walk('/Users/dhivyamalathirajasekaran/PycharmProjects/MLProjects/PythonMaterials'):\n",
    "    if '.git' not in dirpath and '.' not in dirpath and '__pycache__' not in dirpath: \n",
    "        print(f'dirpath  : {dirpath}')\n",
    "        print(f'dirnames : {dirnames}')\n",
    "        print(f'filenames: {filenames}')\n",
    "        print()"
   ]
  },
  {
   "cell_type": "code",
   "execution_count": 106,
   "id": "b7b7752c",
   "metadata": {
    "ExecuteTime": {
     "end_time": "2022-10-08T16:44:28.382089Z",
     "start_time": "2022-10-08T16:44:28.373302Z"
    }
   },
   "outputs": [
    {
     "data": {
      "text/plain": [
       "os.stat_result(st_mode=33188, st_ino=25526593, st_dev=16777220, st_nlink=1, st_uid=501, st_gid=20, st_size=330, st_atime=1665228292, st_mtime=1665228287, st_ctime=1665228291)"
      ]
     },
     "execution_count": 106,
     "metadata": {},
     "output_type": "execute_result"
    }
   ],
   "source": [
    "import os\n",
    "\n",
    "os.stat('supported-files/query.log')"
   ]
  },
  {
   "cell_type": "code",
   "execution_count": 112,
   "id": "d53ea034",
   "metadata": {
    "ExecuteTime": {
     "end_time": "2022-10-08T16:50:46.438260Z",
     "start_time": "2022-10-08T16:50:46.429511Z"
    }
   },
   "outputs": [
    {
     "name": "stdout",
     "output_type": "stream",
     "text": [
      "2022-10-08 16:54:47.199668\n"
     ]
    }
   ],
   "source": [
    "import os\n",
    "import datetime\n",
    "\n",
    "stat = os.stat('supported-files/query.log')\n",
    "print(datetime.datetime.fromtimestamp(stat.st_mtime))"
   ]
  },
  {
   "cell_type": "markdown",
   "id": "c69e41b5",
   "metadata": {},
   "source": [
    "# Exercise & Answers"
   ]
  },
  {
   "cell_type": "markdown",
   "id": "32ef2078",
   "metadata": {},
   "source": [
    "## Exercise"
   ]
  },
  {
   "cell_type": "markdown",
   "id": "ab57af2d",
   "metadata": {},
   "source": [
    "Q1. Read the content of wordlist.txt file and determine <br>\n",
    "    - all three letter words \n",
    "    - the biggest word \n",
    "    - list of duplicate words"
   ]
  },
  {
   "cell_type": "code",
   "execution_count": null,
   "id": "1dea0f7b",
   "metadata": {},
   "outputs": [],
   "source": [
    "#Try it here\n"
   ]
  },
  {
   "cell_type": "markdown",
   "id": "d5a2973d",
   "metadata": {},
   "source": [
    "Q2. You are given a file called users.txt that lists log-on and log-oof times for users of a system. A typical line of the file looks like this : <br>\n",
    "    Pravin,14:22,14.37<br>\n",
    "    Pawar,13.24,13.56<br>\n",
    "Each line has three entries separated by commas : a username, a log-on time and a log-off time. Times are given in 24-hour format. You may assume that all log-ons and log-offs occurs within a single workday. <br>\n",
    "Write a program that scans through the file and prints out all users who were online for at least an hour."
   ]
  },
  {
   "cell_type": "code",
   "execution_count": null,
   "id": "a405af35",
   "metadata": {},
   "outputs": [],
   "source": [
    "#Try it here\n"
   ]
  },
  {
   "cell_type": "markdown",
   "id": "d12d6734",
   "metadata": {},
   "source": [
    "Q1. Write a program that reads a file and prints out number of lines present in it. Also outputs the size of each line."
   ]
  },
  {
   "cell_type": "code",
   "execution_count": null,
   "id": "84790b75",
   "metadata": {},
   "outputs": [],
   "source": [
    "#Try it here\n"
   ]
  },
  {
   "cell_type": "markdown",
   "id": "db8823db",
   "metadata": {},
   "source": [
    "Q2. Write a program that reads a file and prints out number of words present in it. Also outputs the size of each word."
   ]
  },
  {
   "cell_type": "code",
   "execution_count": null,
   "id": "00440a25",
   "metadata": {},
   "outputs": [],
   "source": [
    "#Try it here\n"
   ]
  },
  {
   "cell_type": "markdown",
   "id": "66f787d8",
   "metadata": {},
   "source": [
    "Q3. Write a program that reads a file and prints out occurences of each word. "
   ]
  },
  {
   "cell_type": "code",
   "execution_count": null,
   "id": "9155f287",
   "metadata": {},
   "outputs": [],
   "source": [
    "#Try it here\n"
   ]
  },
  {
   "cell_type": "markdown",
   "id": "c08311ed",
   "metadata": {},
   "source": [
    "Q1. Write a program that reads a list of tempratures from a file called temps.txt, converts those temperatures into Farenheit and writes the result into file called ftemps.txt."
   ]
  },
  {
   "cell_type": "code",
   "execution_count": null,
   "id": "9c86c5ca",
   "metadata": {},
   "outputs": [],
   "source": [
    "#Try it here\n"
   ]
  },
  {
   "cell_type": "markdown",
   "id": "61338a4f",
   "metadata": {},
   "source": [
    "Q2. You are given a file called employees.txt. A typical line in the file looks like :<br>\n",
    "    Pravin pawar     pravin.pawar@gmail.com  12341234<br>\n",
    "There is a name, email address and contact number, each separated by tabs. Write a program that reads through the file line-by-line, and for each line, capitalizes the first letter of first name and last name and adds code \"91-20\" to the contact number. Your program should write this to a new file called employees2.txt. Here is what the first line of the new file should look like : <br>    \n",
    "    Pravin Pawar     pravin.pawar@gmail.com  91-20-12341234<br>"
   ]
  },
  {
   "cell_type": "code",
   "execution_count": null,
   "id": "e90464c3",
   "metadata": {},
   "outputs": [],
   "source": [
    "#Try it here\n"
   ]
  },
  {
   "cell_type": "code",
   "execution_count": null,
   "id": "6fc8e10f",
   "metadata": {},
   "outputs": [],
   "source": []
  },
  {
   "cell_type": "markdown",
   "id": "246d8d44",
   "metadata": {},
   "source": [
    "## Answers"
   ]
  },
  {
   "cell_type": "code",
   "execution_count": null,
   "id": "ef3d9852",
   "metadata": {},
   "outputs": [],
   "source": [
    "# Solution1\n",
    "file_name = \"wordlist.txt\"\n",
    "\n",
    "file = open(file_name)\n",
    "\n",
    "all_3_letter_words = []\n",
    "\n",
    "largest_word = \"\"\n",
    "largest_word_size = 0 \n",
    "\n",
    "all_unique_words = []\n",
    "duplicate_words = []\n",
    "\n",
    "for line in file:\n",
    "    word = line.strip()\n",
    "\n",
    "    if len(word) == 3:\n",
    "        all_3_letter_words.append(word)\n",
    "    \n",
    "    if len(word) > largest_word_size:\n",
    "        largest_word_size = len(word)\n",
    "        largest_word = word\n",
    "    \n",
    "    if word in all_unique_words:\n",
    "        duplicate_words.append(word)\n",
    "    else:\n",
    "        all_unique_words.append(word)\n",
    "        \n",
    "        \n",
    "print(\"All three letter words : \")        \n",
    "for word in all_3_letter_words:\n",
    "    print(word)\n",
    "print()    \n",
    "\n",
    "print(\"largest_word---->\", largest_word)\n",
    "print()\n",
    "\n",
    "print(\"All duplicate words : \")        \n",
    "for word in duplicate_words:\n",
    "    print(word)    \n",
    "print()\n",
    "\n",
    "print(\"All unique words : \")        \n",
    "for word in all_unique_words:\n",
    "    print(word)    \n",
    "print()\n",
    "\n",
    "file.close()"
   ]
  },
  {
   "cell_type": "code",
   "execution_count": null,
   "id": "d7cf4888",
   "metadata": {},
   "outputs": [],
   "source": [
    "# Solution2\n",
    "\n",
    "file_name = \"users.txt\"\n",
    "\n",
    "file = open(file_name)\n",
    "\n",
    "u_names = []\n",
    "start_times = []\n",
    "end_times = []\n",
    "\n",
    "for line in file:\n",
    "    words = line.split(\",\")\n",
    "    \n",
    "    u_names.append(words[0])\n",
    "    start_times.append(words[1])\n",
    "    end_times.append(words[2])\n",
    "\n",
    "index = 0 \n",
    "for u_name in u_names:\n",
    "    #print(u_name, \" \" , start_times[index], \" \", end_times[index])\n",
    "    \n",
    "    #convert start time into hours and minutes\n",
    "    start_time = start_times[index]\n",
    "    splitted_start_time = start_time.split(\":\")\n",
    "    \n",
    "    end_time = end_times[index]\n",
    "    splitted_end_time = end_time.split(\":\")\n",
    "\n",
    "    start_hour = int(splitted_start_time[0])\n",
    "    end_hour = int(splitted_end_time[0])\n",
    "    \n",
    "    if end_hour - start_hour >= 1 :\n",
    "        print(\"User \", u_name, \" logged in for more than one hour\")\n",
    "    index = index + 1\n",
    "    \n",
    "    #print(\"******\\n\")\n",
    "file.close()"
   ]
  },
  {
   "cell_type": "code",
   "execution_count": null,
   "id": "3ebca8a1",
   "metadata": {},
   "outputs": [],
   "source": [
    "#Solution 1\n",
    "\n",
    "file_name = \"dummy_file.txt\"\n",
    "\n",
    "file = open(file_name)  # get handle to the file\n",
    "\n",
    "file_content = file.read()  # read the contents of file\n",
    "\n",
    "lines = file_content.split(\"\\n\") # determine line by end line character\n",
    "\n",
    "print(\"The file \", file_name, \" contains \", len(lines), \" lines. \")\n",
    "\n",
    "line_no = 1\n",
    "for line in lines:\n",
    "    print(\"Line \", line_no, \"contains \", len(line), \" characters. \")\n",
    "    line_no = line_no + 1"
   ]
  },
  {
   "cell_type": "code",
   "execution_count": null,
   "id": "fbe12771",
   "metadata": {},
   "outputs": [],
   "source": [
    "#Solution 2\n",
    "\n",
    "file_name = \"dummy_file.txt\"\n",
    "\n",
    "file = open(file_name)  # get handle to the file\n",
    "\n",
    "file_content = file.read()  # read the contents of file\n",
    "\n",
    "lines = file_content.split(\"\\n\") # determine line by end line character\n",
    "\n",
    "print(\"The file \", file_name, \" contains \", len(lines), \" lines. \")\n",
    "\n",
    "line_no = 1\n",
    "for line in lines:\n",
    "    word = line.split()\n",
    "    print(\"Line \", line_no, \"contains \", len(word), \" words. \")\n",
    "    line_no = line_no + 1\n"
   ]
  },
  {
   "cell_type": "code",
   "execution_count": null,
   "id": "fe755530",
   "metadata": {},
   "outputs": [],
   "source": [
    "#Solution 3\n",
    "\n",
    "file_name = \"dummy_file.txt\"\n",
    "\n",
    "file = open(file_name)  # get handle to the file\n",
    "\n",
    "file_content = file.read()  # read the contents of file\n",
    "\n",
    "lines = file_content.split(\"\\n\") # determine line by end line character\n",
    "\n",
    "print(\"The file \", file_name, \" contains \", len(lines), \" lines. \\n\")\n",
    "\n",
    "word_list = []  # list of unique words\n",
    "word_count = [] # list of unique word counts\n",
    "\n",
    "line_no = 1\n",
    "for line in lines:\n",
    "    words = line.split()\n",
    "    print(\"Line \", line_no, \"contains \", len(words), \" words. \")\n",
    "    \n",
    "    # Iterate over each word of each line, if word is present in the word list then increment count by one , otherwise add the \n",
    "    # word into the word list with initial count of 1\n",
    "    for word in words:\n",
    "        if word in word_list:\n",
    "            word_index = word_list.index(word)\n",
    "            word_count[word_index] = word_count[word_index ] + 1\n",
    "        else:\n",
    "            list_length = len(word_list)\n",
    "            word_list.append(word)\n",
    "            word_count.append(1)\n",
    "    line_no = line_no + 1\n",
    "    \n",
    "#print the word list with count\n",
    "print()\n",
    "\n",
    "index = 0 \n",
    "for word in word_list:\n",
    "    print(\"The word \\\"\", word , \"\\\" appears \", word_count[index], \" times.\")\n",
    "    index = index + 1\n"
   ]
  },
  {
   "cell_type": "code",
   "execution_count": null,
   "id": "35ca113f",
   "metadata": {},
   "outputs": [],
   "source": [
    "#Solution 1\n",
    "\n",
    "temp_file_name = \"temps.txt\"\n",
    "f_temp_file_name = \"ftemps.txt\"\n",
    "\n",
    "temp = []\n",
    "f_temp = []\n",
    "\n",
    "temp_file = open(temp_file_name)\n",
    "\n",
    "for line in temp_file:\n",
    "    tmp = float(line)\n",
    "    temp.append(tmp)\n",
    "    \n",
    "    ftemp = (tmp * 9 / 5) + 32\n",
    "    f_temp.append(ftemp)\n",
    "    \n",
    "    #print(tmp, \"  \", ftemp)\n",
    "    \n",
    "temp_file.close()    \n",
    "\n",
    "f_temp_file = open(f_temp_file_name, \"w\")\n",
    "\n",
    "for t in f_temp:\n",
    "    #print(t)\n",
    "    f_temp_file.write(str(t) + \"\\n\")\n",
    "\n",
    "f_temp_file.close()"
   ]
  },
  {
   "cell_type": "code",
   "execution_count": null,
   "id": "1b8a3857",
   "metadata": {},
   "outputs": [],
   "source": [
    "#Solution 2\n",
    "\n",
    "emp_file_name = \"employees.txt\"\n",
    "emp_file_name2 = \"employees2.txt\"\n",
    "\n",
    "emp_names = []\n",
    "emails = []\n",
    "contacts = []\n",
    "\n",
    "emp_file = open(emp_file_name)\n",
    "\n",
    "for line in emp_file:\n",
    "    words = line.split(\"\\\\t\")\n",
    "    emp_names.append(words[0])\n",
    "    emails.append(words[1])\n",
    "    contacts.append(words[2])\n",
    "    \n",
    "emp_file.close()\n",
    "   \n",
    "emp_file2 = open(emp_file_name2, \"w\")\n",
    "\n",
    "index = 0 \n",
    "for emp_name in emp_names:\n",
    "    \n",
    "    emp_name_parts = emp_name.split()\n",
    "    modified_name = \"\"\n",
    "    for part in emp_name_parts:\n",
    "        if part[0].islower():\n",
    "            first_part = part[0].upper()\n",
    "            remaining_part = part[1:]\n",
    "            modified_part = first_part + remaining_part            \n",
    "        else:\n",
    "            modified_part = part\n",
    "        modified_name = modified_name + \" \" + modified_part    \n",
    "\n",
    "    emp_file2.write(modified_name + \"\\t\")        \n",
    "    modified_name = \"\"     \n",
    "        \n",
    "    emp_file2.write(emails[index] + \"\\t\") \n",
    "    \n",
    "    contact = contacts[index]\n",
    "    contact = \"91-20-\" + contact\n",
    "    emp_file2.write(contact) \n",
    "    \n",
    "    index = index + 1\n",
    "    emp_file2.write(\"\\n\")  \n",
    "    \n",
    "emp_file2.close()                                       "
   ]
  },
  {
   "cell_type": "code",
   "execution_count": null,
   "id": "c2960b10",
   "metadata": {},
   "outputs": [],
   "source": []
  }
 ],
 "metadata": {
  "kernelspec": {
   "display_name": "Python 3 (ipykernel)",
   "language": "python",
   "name": "python3"
  },
  "language_info": {
   "codemirror_mode": {
    "name": "ipython",
    "version": 3
   },
   "file_extension": ".py",
   "mimetype": "text/x-python",
   "name": "python",
   "nbconvert_exporter": "python",
   "pygments_lexer": "ipython3",
   "version": "3.8.13"
  },
  "toc": {
   "base_numbering": 1,
   "nav_menu": {},
   "number_sections": true,
   "sideBar": true,
   "skip_h1_title": false,
   "title_cell": "Table of Contents",
   "title_sidebar": "Contents",
   "toc_cell": true,
   "toc_position": {},
   "toc_section_display": true,
   "toc_window_display": true
  }
 },
 "nbformat": 4,
 "nbformat_minor": 5
}
