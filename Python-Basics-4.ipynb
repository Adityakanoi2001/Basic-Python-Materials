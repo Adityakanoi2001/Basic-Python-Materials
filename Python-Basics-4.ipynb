{
 "cells": [
  {
   "cell_type": "markdown",
   "metadata": {
    "toc": true
   },
   "source": [
    "<h1>Table of Contents<span class=\"tocSkip\"></span></h1>\n",
    "<div class=\"toc\"><ul class=\"toc-item\"><li><span><a href=\"#Exception-Handling\" data-toc-modified-id=\"Exception-Handling-1\"><span class=\"toc-item-num\">1&nbsp;&nbsp;</span>Exception Handling</a></span><ul class=\"toc-item\"><li><span><a href=\"#What-is-Exception\" data-toc-modified-id=\"What-is-Exception-1.1\"><span class=\"toc-item-num\">1.1&nbsp;&nbsp;</span>What is Exception</a></span></li><li><span><a href=\"#Handling-Exception\" data-toc-modified-id=\"Handling-Exception-1.2\"><span class=\"toc-item-num\">1.2&nbsp;&nbsp;</span>Handling Exception</a></span></li><li><span><a href=\"#Handling-Multiple-Exceptions\" data-toc-modified-id=\"Handling-Multiple-Exceptions-1.3\"><span class=\"toc-item-num\">1.3&nbsp;&nbsp;</span>Handling Multiple Exceptions</a></span></li><li><span><a href=\"#Using-Finally-Block\" data-toc-modified-id=\"Using-Finally-Block-1.4\"><span class=\"toc-item-num\">1.4&nbsp;&nbsp;</span>Using Finally Block</a></span></li><li><span><a href=\"#Using-Else-Block\" data-toc-modified-id=\"Using-Else-Block-1.5\"><span class=\"toc-item-num\">1.5&nbsp;&nbsp;</span>Using Else Block</a></span></li><li><span><a href=\"#Raise-Exceptions\" data-toc-modified-id=\"Raise-Exceptions-1.6\"><span class=\"toc-item-num\">1.6&nbsp;&nbsp;</span>Raise Exceptions</a></span></li><li><span><a href=\"#Assertions-in-Exception\" data-toc-modified-id=\"Assertions-in-Exception-1.7\"><span class=\"toc-item-num\">1.7&nbsp;&nbsp;</span>Assertions in Exception</a></span></li></ul></li><li><span><a href=\"#File-Handling\" data-toc-modified-id=\"File-Handling-2\"><span class=\"toc-item-num\">2&nbsp;&nbsp;</span>File Handling</a></span><ul class=\"toc-item\"><li><span><a href=\"#Properties-of-the-file-object\" data-toc-modified-id=\"Properties-of-the-file-object-2.1\"><span class=\"toc-item-num\">2.1&nbsp;&nbsp;</span>Properties of the file object</a></span></li><li><span><a href=\"#Reading-data-from-file\" data-toc-modified-id=\"Reading-data-from-file-2.2\"><span class=\"toc-item-num\">2.2&nbsp;&nbsp;</span>Reading data from file</a></span></li><li><span><a href=\"#Write-Operations\" data-toc-modified-id=\"Write-Operations-2.3\"><span class=\"toc-item-num\">2.3&nbsp;&nbsp;</span>Write Operations</a></span></li><li><span><a href=\"#Tell-&amp;-Seek\" data-toc-modified-id=\"Tell-&amp;-Seek-2.4\"><span class=\"toc-item-num\">2.4&nbsp;&nbsp;</span>Tell &amp; Seek</a></span></li></ul></li></ul></div>"
   ]
  },
  {
   "cell_type": "markdown",
   "metadata": {},
   "source": [
    "# Exception Handling\n",
    "\n",
    "`try - except/finally : Try Block requires either except or finally`<br>\n",
    "`try - except - else  : Else Block requires both try and except`<br>"
   ]
  },
  {
   "cell_type": "markdown",
   "metadata": {},
   "source": [
    "## What is Exception\n",
    "When Exceptions occur, the Python interpreter stops the current process and passes it to the calling process until it is handled.\n",
    "If not handled, the program will crash. There are two types<br><br>\n",
    "\n",
    "\n",
    "**1) Syntax Error : Occur when the parser detects an incorrect statement<br>**\n",
    "**2) Runtime Exp : occur at the time of execution**<br><br>\n",
    "\n",
    "\n",
    "1) Pre-Defined Exceptions<br>\n",
    "2) User-Defined Exceptions"
   ]
  },
  {
   "cell_type": "code",
   "execution_count": 2,
   "metadata": {
    "ExecuteTime": {
     "end_time": "2020-08-20T05:31:37.009393Z",
     "start_time": "2020-08-20T05:31:36.962390Z"
    }
   },
   "outputs": [
    {
     "ename": "ZeroDivisionError",
     "evalue": "division by zero",
     "output_type": "error",
     "traceback": [
      "\u001b[1;31m---------------------------------------------------------------------------\u001b[0m",
      "\u001b[1;31mZeroDivisionError\u001b[0m                         Traceback (most recent call last)",
      "\u001b[1;32m<ipython-input-2-fe01563e1bc6>\u001b[0m in \u001b[0;36m<module>\u001b[1;34m\u001b[0m\n\u001b[1;32m----> 1\u001b[1;33m \u001b[0mprint\u001b[0m\u001b[1;33m(\u001b[0m\u001b[1;36m10\u001b[0m\u001b[1;33m/\u001b[0m\u001b[1;36m0\u001b[0m\u001b[1;33m)\u001b[0m\u001b[1;33m\u001b[0m\u001b[1;33m\u001b[0m\u001b[0m\n\u001b[0m",
      "\u001b[1;31mZeroDivisionError\u001b[0m: division by zero"
     ]
    }
   ],
   "source": [
    "print(10/0)"
   ]
  },
  {
   "cell_type": "code",
   "execution_count": 4,
   "metadata": {
    "ExecuteTime": {
     "end_time": "2020-08-20T05:32:16.193634Z",
     "start_time": "2020-08-20T05:32:14.511538Z"
    }
   },
   "outputs": [
    {
     "name": "stdout",
     "output_type": "stream",
     "text": [
      "Enter Number : 10\n",
      "10\n"
     ]
    }
   ],
   "source": [
    "num = int(input(\"Enter Number : \"))\n",
    "print(num)"
   ]
  },
  {
   "cell_type": "code",
   "execution_count": 5,
   "metadata": {
    "ExecuteTime": {
     "end_time": "2020-08-20T05:32:28.707350Z",
     "start_time": "2020-08-20T05:32:25.894189Z"
    }
   },
   "outputs": [
    {
     "name": "stdout",
     "output_type": "stream",
     "text": [
      "Enter NumberVignesh\n"
     ]
    },
    {
     "ename": "ValueError",
     "evalue": "invalid literal for int() with base 10: 'Vignesh'",
     "output_type": "error",
     "traceback": [
      "\u001b[1;31m---------------------------------------------------------------------------\u001b[0m",
      "\u001b[1;31mValueError\u001b[0m                                Traceback (most recent call last)",
      "\u001b[1;32m<ipython-input-5-d5f56d0bc004>\u001b[0m in \u001b[0;36m<module>\u001b[1;34m\u001b[0m\n\u001b[1;32m----> 1\u001b[1;33m \u001b[0mnum\u001b[0m \u001b[1;33m=\u001b[0m \u001b[0mint\u001b[0m\u001b[1;33m(\u001b[0m\u001b[0minput\u001b[0m\u001b[1;33m(\u001b[0m\u001b[1;34m\"Enter Number\"\u001b[0m\u001b[1;33m)\u001b[0m\u001b[1;33m)\u001b[0m\u001b[1;33m\u001b[0m\u001b[1;33m\u001b[0m\u001b[0m\n\u001b[0m\u001b[0;32m      2\u001b[0m \u001b[0mprint\u001b[0m\u001b[1;33m(\u001b[0m\u001b[0mnum\u001b[0m\u001b[1;33m)\u001b[0m\u001b[1;33m\u001b[0m\u001b[1;33m\u001b[0m\u001b[0m\n",
      "\u001b[1;31mValueError\u001b[0m: invalid literal for int() with base 10: 'Vignesh'"
     ]
    }
   ],
   "source": [
    "num = int(input(\"Enter Number\"))\n",
    "print(num)"
   ]
  },
  {
   "cell_type": "markdown",
   "metadata": {
    "ExecuteTime": {
     "end_time": "2020-08-20T05:34:11.173211Z",
     "start_time": "2020-08-20T05:34:11.135208Z"
    }
   },
   "source": [
    "## Handling Exception\n",
    "**Handling Exception : To gracefully terminate the program<br>**\n",
    "- try<br>\n",
    "- except<br>"
   ]
  },
  {
   "cell_type": "code",
   "execution_count": 8,
   "metadata": {
    "ExecuteTime": {
     "end_time": "2020-08-20T05:38:39.336549Z",
     "start_time": "2020-08-20T05:38:39.278545Z"
    }
   },
   "outputs": [
    {
     "name": "stdout",
     "output_type": "stream",
     "text": [
      "====First Line====\n",
      "Issue Found\n",
      "====Last Line====\n"
     ]
    }
   ],
   "source": [
    "print(\"====First Line====\")\n",
    "\n",
    "try:\n",
    "    print(10/0)\n",
    "except:\n",
    "    print(\"Issue Found\")\n",
    "\n",
    "print(\"====Last Line====\")"
   ]
  },
  {
   "cell_type": "code",
   "execution_count": 11,
   "metadata": {
    "ExecuteTime": {
     "end_time": "2020-08-20T05:40:18.471219Z",
     "start_time": "2020-08-20T05:40:18.453218Z"
    }
   },
   "outputs": [
    {
     "name": "stdout",
     "output_type": "stream",
     "text": [
      "====First Line====\n",
      "In Try Loop\n",
      "Issue Found : division by zero\n",
      "====Last Line====\n"
     ]
    }
   ],
   "source": [
    "print(\"====First Line====\")\n",
    "\n",
    "try:\n",
    "    print(\"In Try Loop\")\n",
    "    print(10/0)\n",
    "    print(\"Completed Try Loop\")\n",
    "except Exception as Error:\n",
    "    print(\"Issue Found : {}\".format(Error))\n",
    "\n",
    "print(\"====Last Line====\")"
   ]
  },
  {
   "cell_type": "markdown",
   "metadata": {},
   "source": [
    " ## Handling Multiple Exceptions\n",
    " - Prioritize from Top to Bottom\n",
    " - Exception will **not** handle another Exception (Use Nested Try-Except)\n",
    " - Handling multiple Exceptions in single Except block"
   ]
  },
  {
   "cell_type": "code",
   "execution_count": 13,
   "metadata": {
    "ExecuteTime": {
     "end_time": "2020-08-20T05:47:34.806141Z",
     "start_time": "2020-08-20T05:47:34.792140Z"
    }
   },
   "outputs": [
    {
     "name": "stdout",
     "output_type": "stream",
     "text": [
      "====First Line====\n",
      "In Try Loop\n",
      "Issue Found 1 : division by zero\n",
      "====Last Line====\n"
     ]
    }
   ],
   "source": [
    "print(\"====First Line====\")\n",
    "\n",
    "try:\n",
    "    print(\"In Try Loop\")\n",
    "    print(10/0)\n",
    "    print(\"Completed Try Loop\")\n",
    "except ZeroDivisionError as Error:\n",
    "    print(\"Issue Found 1 : {}\".format(Error))\n",
    "except Exception as Error:\n",
    "    print(\"Issue Found 2 : {}\".format(Error))\n",
    "\n",
    "print(\"====Last Line====\")"
   ]
  },
  {
   "cell_type": "code",
   "execution_count": 17,
   "metadata": {
    "ExecuteTime": {
     "end_time": "2020-08-20T05:48:51.969555Z",
     "start_time": "2020-08-20T05:48:51.952554Z"
    }
   },
   "outputs": [
    {
     "name": "stdout",
     "output_type": "stream",
     "text": [
      "====First Line====\n",
      "In Try Loop\n",
      "Issue Found 2 : unsupported operand type(s) for /: 'int' and 'str'\n",
      "====Last Line====\n"
     ]
    }
   ],
   "source": [
    "print(\"====First Line====\")\n",
    "\n",
    "try:\n",
    "    print(\"In Try Loop\")\n",
    "    print(10/\"zero\")\n",
    "    print(\"Completed Try Loop\")\n",
    "except ZeroDivisionError as Error:\n",
    "    print(\"Issue Found 1 : {}\".format(Error))\n",
    "except TypeError as Error:\n",
    "    print(\"Issue Found 2 : {}\".format(Error))\n",
    "except Exception as Error:\n",
    "    print(\"Issue Found 3 : {}\".format(Error))\n",
    "\n",
    "print(\"====Last Line====\")"
   ]
  },
  {
   "cell_type": "code",
   "execution_count": 18,
   "metadata": {
    "ExecuteTime": {
     "end_time": "2020-08-20T05:50:14.494275Z",
     "start_time": "2020-08-20T05:50:14.474274Z"
    }
   },
   "outputs": [
    {
     "name": "stdout",
     "output_type": "stream",
     "text": [
      "====First Line====\n",
      "In Try Loop\n",
      "Issue Found 1 : unsupported operand type(s) for /: 'int' and 'str'\n",
      "====Last Line====\n"
     ]
    }
   ],
   "source": [
    "print(\"====First Line====\")\n",
    "\n",
    "try:\n",
    "    print(\"In Try Loop\")\n",
    "    print(10/\"zero\")\n",
    "    print(\"Completed Try Loop\")\n",
    "except Exception as Error:\n",
    "    print(\"Issue Found 1 : {}\".format(Error))\n",
    "except TypeError as Error:\n",
    "    print(\"Issue Found 2 : {}\".format(Error))\n",
    "except ZeroDivisionError as Error:\n",
    "    print(\"Issue Found 3 : {}\".format(Error))\n",
    "\n",
    "print(\"====Last Line====\")"
   ]
  },
  {
   "cell_type": "code",
   "execution_count": 19,
   "metadata": {
    "ExecuteTime": {
     "end_time": "2020-08-20T05:51:28.606514Z",
     "start_time": "2020-08-20T05:51:28.532510Z"
    }
   },
   "outputs": [
    {
     "name": "stdout",
     "output_type": "stream",
     "text": [
      "====First Line====\n",
      "In Try Loop\n",
      "Issue Found 2 : unsupported operand type(s) for /: 'int' and 'str'\n"
     ]
    },
    {
     "ename": "ZeroDivisionError",
     "evalue": "division by zero",
     "output_type": "error",
     "traceback": [
      "\u001b[1;31m---------------------------------------------------------------------------\u001b[0m",
      "\u001b[1;31mTypeError\u001b[0m                                 Traceback (most recent call last)",
      "\u001b[1;32m<ipython-input-19-16334bef1f1e>\u001b[0m in \u001b[0;36m<module>\u001b[1;34m\u001b[0m\n\u001b[0;32m      4\u001b[0m     \u001b[0mprint\u001b[0m\u001b[1;33m(\u001b[0m\u001b[1;34m\"In Try Loop\"\u001b[0m\u001b[1;33m)\u001b[0m\u001b[1;33m\u001b[0m\u001b[1;33m\u001b[0m\u001b[0m\n\u001b[1;32m----> 5\u001b[1;33m     \u001b[0mprint\u001b[0m\u001b[1;33m(\u001b[0m\u001b[1;36m10\u001b[0m\u001b[1;33m/\u001b[0m\u001b[1;34m\"zero\"\u001b[0m\u001b[1;33m)\u001b[0m\u001b[1;33m\u001b[0m\u001b[1;33m\u001b[0m\u001b[0m\n\u001b[0m\u001b[0;32m      6\u001b[0m     \u001b[0mprint\u001b[0m\u001b[1;33m(\u001b[0m\u001b[1;34m\"Completed Try Loop\"\u001b[0m\u001b[1;33m)\u001b[0m\u001b[1;33m\u001b[0m\u001b[1;33m\u001b[0m\u001b[0m\n",
      "\u001b[1;31mTypeError\u001b[0m: unsupported operand type(s) for /: 'int' and 'str'",
      "\nDuring handling of the above exception, another exception occurred:\n",
      "\u001b[1;31mZeroDivisionError\u001b[0m                         Traceback (most recent call last)",
      "\u001b[1;32m<ipython-input-19-16334bef1f1e>\u001b[0m in \u001b[0;36m<module>\u001b[1;34m\u001b[0m\n\u001b[0;32m      9\u001b[0m \u001b[1;32mexcept\u001b[0m \u001b[0mTypeError\u001b[0m \u001b[1;32mas\u001b[0m \u001b[0mError\u001b[0m\u001b[1;33m:\u001b[0m\u001b[1;33m\u001b[0m\u001b[1;33m\u001b[0m\u001b[0m\n\u001b[0;32m     10\u001b[0m     \u001b[0mprint\u001b[0m\u001b[1;33m(\u001b[0m\u001b[1;34m\"Issue Found 2 : {}\"\u001b[0m\u001b[1;33m.\u001b[0m\u001b[0mformat\u001b[0m\u001b[1;33m(\u001b[0m\u001b[0mError\u001b[0m\u001b[1;33m)\u001b[0m\u001b[1;33m)\u001b[0m\u001b[1;33m\u001b[0m\u001b[1;33m\u001b[0m\u001b[0m\n\u001b[1;32m---> 11\u001b[1;33m     \u001b[0mprint\u001b[0m\u001b[1;33m(\u001b[0m\u001b[1;36m10\u001b[0m\u001b[1;33m/\u001b[0m\u001b[1;36m0\u001b[0m\u001b[1;33m)\u001b[0m\u001b[1;33m\u001b[0m\u001b[1;33m\u001b[0m\u001b[0m\n\u001b[0m\u001b[0;32m     12\u001b[0m \u001b[1;32mexcept\u001b[0m \u001b[0mException\u001b[0m \u001b[1;32mas\u001b[0m \u001b[0mError\u001b[0m\u001b[1;33m:\u001b[0m\u001b[1;33m\u001b[0m\u001b[1;33m\u001b[0m\u001b[0m\n\u001b[0;32m     13\u001b[0m     \u001b[0mprint\u001b[0m\u001b[1;33m(\u001b[0m\u001b[1;34m\"Issue Found 3 : {}\"\u001b[0m\u001b[1;33m.\u001b[0m\u001b[0mformat\u001b[0m\u001b[1;33m(\u001b[0m\u001b[0mError\u001b[0m\u001b[1;33m)\u001b[0m\u001b[1;33m)\u001b[0m\u001b[1;33m\u001b[0m\u001b[1;33m\u001b[0m\u001b[0m\n",
      "\u001b[1;31mZeroDivisionError\u001b[0m: division by zero"
     ]
    }
   ],
   "source": [
    "print(\"====First Line====\")\n",
    "\n",
    "try:\n",
    "    print(\"In Try Loop\")\n",
    "    print(10/\"zero\")\n",
    "    print(\"Completed Try Loop\")\n",
    "except ZeroDivisionError as Error:\n",
    "    print(\"Issue Found 1 : {}\".format(Error))\n",
    "except TypeError as Error:\n",
    "    print(\"Issue Found 2 : {}\".format(Error))\n",
    "    print(10/0)\n",
    "except Exception as Error:\n",
    "    print(\"Issue Found 3 : {}\".format(Error))\n",
    "\n",
    "print(\"====Last Line====\")"
   ]
  },
  {
   "cell_type": "code",
   "execution_count": 20,
   "metadata": {
    "ExecuteTime": {
     "end_time": "2020-08-20T05:52:23.026626Z",
     "start_time": "2020-08-20T05:52:22.981624Z"
    }
   },
   "outputs": [
    {
     "name": "stdout",
     "output_type": "stream",
     "text": [
      "====First Line====\n",
      "In Try Loop\n",
      "Issue Found 1 : unsupported operand type(s) for /: 'int' and 'str'\n"
     ]
    },
    {
     "ename": "ZeroDivisionError",
     "evalue": "division by zero",
     "output_type": "error",
     "traceback": [
      "\u001b[1;31m---------------------------------------------------------------------------\u001b[0m",
      "\u001b[1;31mTypeError\u001b[0m                                 Traceback (most recent call last)",
      "\u001b[1;32m<ipython-input-20-81d28910eb2b>\u001b[0m in \u001b[0;36m<module>\u001b[1;34m\u001b[0m\n\u001b[0;32m      4\u001b[0m     \u001b[0mprint\u001b[0m\u001b[1;33m(\u001b[0m\u001b[1;34m\"In Try Loop\"\u001b[0m\u001b[1;33m)\u001b[0m\u001b[1;33m\u001b[0m\u001b[1;33m\u001b[0m\u001b[0m\n\u001b[1;32m----> 5\u001b[1;33m     \u001b[0mprint\u001b[0m\u001b[1;33m(\u001b[0m\u001b[1;36m10\u001b[0m\u001b[1;33m/\u001b[0m\u001b[1;34m\"zero\"\u001b[0m\u001b[1;33m)\u001b[0m\u001b[1;33m\u001b[0m\u001b[1;33m\u001b[0m\u001b[0m\n\u001b[0m\u001b[0;32m      6\u001b[0m     \u001b[0mprint\u001b[0m\u001b[1;33m(\u001b[0m\u001b[1;34m\"Completed Try Loop\"\u001b[0m\u001b[1;33m)\u001b[0m\u001b[1;33m\u001b[0m\u001b[1;33m\u001b[0m\u001b[0m\n",
      "\u001b[1;31mTypeError\u001b[0m: unsupported operand type(s) for /: 'int' and 'str'",
      "\nDuring handling of the above exception, another exception occurred:\n",
      "\u001b[1;31mZeroDivisionError\u001b[0m                         Traceback (most recent call last)",
      "\u001b[1;32m<ipython-input-20-81d28910eb2b>\u001b[0m in \u001b[0;36m<module>\u001b[1;34m\u001b[0m\n\u001b[0;32m      7\u001b[0m \u001b[1;32mexcept\u001b[0m \u001b[0mTypeError\u001b[0m \u001b[1;32mas\u001b[0m \u001b[0mError\u001b[0m\u001b[1;33m:\u001b[0m\u001b[1;33m\u001b[0m\u001b[1;33m\u001b[0m\u001b[0m\n\u001b[0;32m      8\u001b[0m     \u001b[0mprint\u001b[0m\u001b[1;33m(\u001b[0m\u001b[1;34m\"Issue Found 1 : {}\"\u001b[0m\u001b[1;33m.\u001b[0m\u001b[0mformat\u001b[0m\u001b[1;33m(\u001b[0m\u001b[0mError\u001b[0m\u001b[1;33m)\u001b[0m\u001b[1;33m)\u001b[0m\u001b[1;33m\u001b[0m\u001b[1;33m\u001b[0m\u001b[0m\n\u001b[1;32m----> 9\u001b[1;33m     \u001b[0mprint\u001b[0m\u001b[1;33m(\u001b[0m\u001b[1;36m10\u001b[0m\u001b[1;33m/\u001b[0m\u001b[1;36m0\u001b[0m\u001b[1;33m)\u001b[0m\u001b[1;33m\u001b[0m\u001b[1;33m\u001b[0m\u001b[0m\n\u001b[0m\u001b[0;32m     10\u001b[0m \u001b[1;32mexcept\u001b[0m \u001b[0mZeroDivisionError\u001b[0m \u001b[1;32mas\u001b[0m \u001b[0mError\u001b[0m\u001b[1;33m:\u001b[0m\u001b[1;33m\u001b[0m\u001b[1;33m\u001b[0m\u001b[0m\n\u001b[0;32m     11\u001b[0m     \u001b[0mprint\u001b[0m\u001b[1;33m(\u001b[0m\u001b[1;34m\"Issue Found 2 : {}\"\u001b[0m\u001b[1;33m.\u001b[0m\u001b[0mformat\u001b[0m\u001b[1;33m(\u001b[0m\u001b[0mError\u001b[0m\u001b[1;33m)\u001b[0m\u001b[1;33m)\u001b[0m\u001b[1;33m\u001b[0m\u001b[1;33m\u001b[0m\u001b[0m\n",
      "\u001b[1;31mZeroDivisionError\u001b[0m: division by zero"
     ]
    }
   ],
   "source": [
    "print(\"====First Line====\")\n",
    "\n",
    "try:\n",
    "    print(\"In Try Loop\")\n",
    "    print(10/\"zero\")\n",
    "    print(\"Completed Try Loop\")\n",
    "except TypeError as Error:\n",
    "    print(\"Issue Found 1 : {}\".format(Error))\n",
    "    print(10/0)\n",
    "except ZeroDivisionError as Error:\n",
    "    print(\"Issue Found 2 : {}\".format(Error))\n",
    "except Exception as Error:\n",
    "    print(\"Issue Found 3 : {}\".format(Error))\n",
    "\n",
    "print(\"====Last Line====\")"
   ]
  },
  {
   "cell_type": "code",
   "execution_count": 21,
   "metadata": {
    "ExecuteTime": {
     "end_time": "2020-08-20T05:56:42.115445Z",
     "start_time": "2020-08-20T05:56:42.092444Z"
    },
    "scrolled": true
   },
   "outputs": [
    {
     "name": "stdout",
     "output_type": "stream",
     "text": [
      "====First Line====\n",
      "In Try Loop\n",
      "Issue Found 1 : unsupported operand type(s) for /: 'int' and 'str'\n",
      "====Last Line====\n"
     ]
    }
   ],
   "source": [
    "print(\"====First Line====\")\n",
    "\n",
    "try:\n",
    "    print(\"In Try Loop\")\n",
    "    print(10/\"zero\")\n",
    "    print(\"Completed Try Loop\")\n",
    "except (TypeError, ZeroDivisionError) as Error:\n",
    "    print(\"Issue Found 1 : {}\".format(Error))\n",
    "\n",
    "print(\"====Last Line====\")"
   ]
  },
  {
   "cell_type": "code",
   "execution_count": 22,
   "metadata": {
    "ExecuteTime": {
     "end_time": "2020-08-20T05:56:59.144419Z",
     "start_time": "2020-08-20T05:56:59.122418Z"
    }
   },
   "outputs": [
    {
     "name": "stdout",
     "output_type": "stream",
     "text": [
      "====First Line====\n",
      "In Try Loop\n",
      "Issue Found 1 : division by zero\n",
      "====Last Line====\n"
     ]
    }
   ],
   "source": [
    "print(\"====First Line====\")\n",
    "\n",
    "try:\n",
    "    print(\"In Try Loop\")\n",
    "    print(10/0)\n",
    "    print(\"Completed Try Loop\")\n",
    "except (TypeError, ZeroDivisionError) as Error:\n",
    "    print(\"Issue Found 1 : {}\".format(Error))\n",
    "\n",
    "print(\"====Last Line====\")"
   ]
  },
  {
   "cell_type": "markdown",
   "metadata": {},
   "source": [
    "## Using Finally Block\n",
    "**Handling Exception : To gracefully terminate the program , Always executes even error occured/handled<br>**\n",
    "- try<br>\n",
    "- except<br>\n",
    "- finally<br>\n",
    "\n",
    "**Only one situation where finally block skips<br>**\n",
    "Exiting the program"
   ]
  },
  {
   "cell_type": "code",
   "execution_count": 1,
   "metadata": {
    "ExecuteTime": {
     "end_time": "2020-08-20T06:26:25.943475Z",
     "start_time": "2020-08-20T06:26:25.367442Z"
    }
   },
   "outputs": [
    {
     "name": "stdout",
     "output_type": "stream",
     "text": [
      "====First Line====\n",
      "In Try Loop\n",
      "Closed DB/Files/other process\n"
     ]
    },
    {
     "ename": "TypeError",
     "evalue": "unsupported operand type(s) for /: 'int' and 'str'",
     "output_type": "error",
     "traceback": [
      "\u001b[1;31m---------------------------------------------------------------------------\u001b[0m",
      "\u001b[1;31mTypeError\u001b[0m                                 Traceback (most recent call last)",
      "\u001b[1;32m<ipython-input-1-1d68ef063108>\u001b[0m in \u001b[0;36m<module>\u001b[1;34m\u001b[0m\n\u001b[0;32m      3\u001b[0m \u001b[1;32mtry\u001b[0m\u001b[1;33m:\u001b[0m\u001b[1;33m\u001b[0m\u001b[1;33m\u001b[0m\u001b[0m\n\u001b[0;32m      4\u001b[0m     \u001b[0mprint\u001b[0m\u001b[1;33m(\u001b[0m\u001b[1;34m\"In Try Loop\"\u001b[0m\u001b[1;33m)\u001b[0m\u001b[1;33m\u001b[0m\u001b[1;33m\u001b[0m\u001b[0m\n\u001b[1;32m----> 5\u001b[1;33m     \u001b[0mprint\u001b[0m\u001b[1;33m(\u001b[0m\u001b[1;36m10\u001b[0m\u001b[1;33m/\u001b[0m\u001b[1;34m\"zero\"\u001b[0m\u001b[1;33m)\u001b[0m\u001b[1;33m\u001b[0m\u001b[1;33m\u001b[0m\u001b[0m\n\u001b[0m\u001b[0;32m      6\u001b[0m     \u001b[0mprint\u001b[0m\u001b[1;33m(\u001b[0m\u001b[1;34m\"Completed Try Loop\"\u001b[0m\u001b[1;33m)\u001b[0m\u001b[1;33m\u001b[0m\u001b[1;33m\u001b[0m\u001b[0m\n\u001b[0;32m      7\u001b[0m \u001b[1;32mexcept\u001b[0m \u001b[0mZeroDivisionError\u001b[0m \u001b[1;32mas\u001b[0m \u001b[0mError\u001b[0m\u001b[1;33m:\u001b[0m\u001b[1;33m\u001b[0m\u001b[1;33m\u001b[0m\u001b[0m\n",
      "\u001b[1;31mTypeError\u001b[0m: unsupported operand type(s) for /: 'int' and 'str'"
     ]
    }
   ],
   "source": [
    "print(\"====First Line====\")\n",
    "\n",
    "try:\n",
    "    print(\"In Try Loop\")\n",
    "    print(10/\"zero\")\n",
    "    print(\"Completed Try Loop\")\n",
    "except ZeroDivisionError as Error:\n",
    "    print(\"Issue Found 1 : {}\".format(Error))\n",
    "finally:\n",
    "    print(\"Closed DB/Files/other process\")\n",
    "\n",
    "print(\"====Last Line====\")"
   ]
  },
  {
   "cell_type": "code",
   "execution_count": null,
   "metadata": {
    "ExecuteTime": {
     "end_time": "2020-08-20T06:26:25.948475Z",
     "start_time": "2020-08-20T06:26:25.670Z"
    }
   },
   "outputs": [],
   "source": [
    "print(\"====First Line====\")\n",
    "\n",
    "try:\n",
    "    print(\"In Try Loop\")\n",
    "    print(10/0)\n",
    "    print(\"Completed Try Loop\")\n",
    "except (TypeError, ZeroDivisionError) as Error:\n",
    "    print(\"Issue Found 1 : {}\".format(Error))\n",
    "finally:\n",
    "    print(\"Closed DB/Files/other process\")\n",
    "\n",
    "print(\"====Last Line====\")"
   ]
  },
  {
   "cell_type": "code",
   "execution_count": null,
   "metadata": {
    "ExecuteTime": {
     "start_time": "2020-08-20T06:26:25.997Z"
    }
   },
   "outputs": [],
   "source": [
    "import os\n",
    "print(\"====First Line====\")\n",
    "\n",
    "try:\n",
    "    print(\"In Try Loop\")\n",
    "    os._exit(0) # ==> Terminate abruptly\n",
    "    print(10/0)\n",
    "    print(\"Completed Try Loop\")\n",
    "except (TypeError, ZeroDivisionError) as Error:\n",
    "    print(\"Issue Found 1 : {}\".format(Error))\n",
    "finally:\n",
    "    print(\"Closed DB/Files/other process\")\n",
    "\n",
    "print(\"====Last Line====\")"
   ]
  },
  {
   "cell_type": "markdown",
   "metadata": {},
   "source": [
    "## Using Else Block\n",
    "**Handling Exception : To gracefully terminate the program , Always executes even error occured/handled<br>**\n",
    "- **try<br>**\n",
    "    - Risky Code\n",
    "- **except<br>**\n",
    "    - Executes if Error in Try block\n",
    "- **else<br>**\n",
    "    - Executes if no Error in Try block / No other except bolck is executed\n",
    "- **finally<br>**\n",
    "    - Executes Always"
   ]
  },
  {
   "cell_type": "code",
   "execution_count": 1,
   "metadata": {
    "ExecuteTime": {
     "end_time": "2020-08-20T06:30:25.892199Z",
     "start_time": "2020-08-20T06:30:25.753191Z"
    }
   },
   "outputs": [
    {
     "name": "stdout",
     "output_type": "stream",
     "text": [
      "====First Line====\n",
      "In Try Loop\n",
      "Issue Found 1 : division by zero\n",
      "Closed DB/Files/other process\n",
      "====Last Line====\n"
     ]
    }
   ],
   "source": [
    "print(\"====First Line====\")\n",
    "\n",
    "try:\n",
    "    print(\"In Try Loop\")\n",
    "    print(10/0)\n",
    "    print(\"Completed Try Loop\")\n",
    "except (TypeError, ZeroDivisionError) as Error:\n",
    "    print(\"Issue Found 1 : {}\".format(Error))\n",
    "else:\n",
    "    print(\"Successfully Executed : {}\".format(Error))\n",
    "finally:\n",
    "    print(\"Closed DB/Files/other process\")\n",
    "\n",
    "print(\"====Last Line====\")"
   ]
  },
  {
   "cell_type": "code",
   "execution_count": 3,
   "metadata": {
    "ExecuteTime": {
     "end_time": "2020-08-20T06:30:49.242522Z",
     "start_time": "2020-08-20T06:30:49.209520Z"
    }
   },
   "outputs": [
    {
     "name": "stdout",
     "output_type": "stream",
     "text": [
      "====First Line====\n",
      "In Try Loop\n",
      "10.0\n",
      "Completed Try Loop\n",
      "Successfully Executed : {}\n",
      "Closed DB/Files/other process\n",
      "====Last Line====\n"
     ]
    }
   ],
   "source": [
    "print(\"====First Line====\")\n",
    "\n",
    "try:\n",
    "    print(\"In Try Loop\")\n",
    "    print(10/1)\n",
    "    print(\"Completed Try Loop\")\n",
    "except (TypeError, ZeroDivisionError) as Error:\n",
    "    print(\"Issue Found 1 : {}\".format(Error))\n",
    "else:\n",
    "    print(\"Successfully Executed : {}\")\n",
    "finally:\n",
    "    print(\"Closed DB/Files/other process\")\n",
    "\n",
    "print(\"====Last Line====\")"
   ]
  },
  {
   "cell_type": "markdown",
   "metadata": {},
   "source": [
    "## Raise Exceptions\n",
    "- Exception class must be defined"
   ]
  },
  {
   "cell_type": "code",
   "execution_count": 11,
   "metadata": {
    "ExecuteTime": {
     "end_time": "2020-08-20T06:55:29.632195Z",
     "start_time": "2020-08-20T06:55:28.075106Z"
    }
   },
   "outputs": [
    {
     "name": "stdout",
     "output_type": "stream",
     "text": [
      "Enter a number: -1\n"
     ]
    },
    {
     "ename": "TypeError",
     "evalue": "exceptions must derive from BaseException",
     "output_type": "error",
     "traceback": [
      "\u001b[1;31m---------------------------------------------------------------------------\u001b[0m",
      "\u001b[1;31mAssertionError\u001b[0m                            Traceback (most recent call last)",
      "\u001b[1;32m<ipython-input-11-308d24183110>\u001b[0m in \u001b[0;36m<module>\u001b[1;34m\u001b[0m\n\u001b[0;32m      4\u001b[0m     \u001b[0mnum\u001b[0m \u001b[1;33m=\u001b[0m \u001b[0mint\u001b[0m\u001b[1;33m(\u001b[0m\u001b[0minput\u001b[0m\u001b[1;33m(\u001b[0m\u001b[1;34m\"Enter a number: \"\u001b[0m\u001b[1;33m)\u001b[0m\u001b[1;33m)\u001b[0m\u001b[1;33m\u001b[0m\u001b[1;33m\u001b[0m\u001b[0m\n\u001b[1;32m----> 5\u001b[1;33m     \u001b[1;32massert\u001b[0m \u001b[0mnum\u001b[0m \u001b[1;33m%\u001b[0m \u001b[1;36m2\u001b[0m \u001b[1;33m==\u001b[0m \u001b[1;36m0\u001b[0m\u001b[1;33m\u001b[0m\u001b[1;33m\u001b[0m\u001b[0m\n\u001b[0m\u001b[0;32m      6\u001b[0m \u001b[1;32mexcept\u001b[0m\u001b[1;33m:\u001b[0m\u001b[1;33m\u001b[0m\u001b[1;33m\u001b[0m\u001b[0m\n",
      "\u001b[1;31mAssertionError\u001b[0m: ",
      "\nDuring handling of the above exception, another exception occurred:\n",
      "\u001b[1;31mTypeError\u001b[0m                                 Traceback (most recent call last)",
      "\u001b[1;32m<ipython-input-11-308d24183110>\u001b[0m in \u001b[0;36m<module>\u001b[1;34m\u001b[0m\n\u001b[0;32m      5\u001b[0m     \u001b[1;32massert\u001b[0m \u001b[0mnum\u001b[0m \u001b[1;33m%\u001b[0m \u001b[1;36m2\u001b[0m \u001b[1;33m==\u001b[0m \u001b[1;36m0\u001b[0m\u001b[1;33m\u001b[0m\u001b[1;33m\u001b[0m\u001b[0m\n\u001b[0;32m      6\u001b[0m \u001b[1;32mexcept\u001b[0m\u001b[1;33m:\u001b[0m\u001b[1;33m\u001b[0m\u001b[1;33m\u001b[0m\u001b[0m\n\u001b[1;32m----> 7\u001b[1;33m     \u001b[1;32mraise\u001b[0m\u001b[1;33m(\u001b[0m\u001b[1;34m\"NotAnEvenNumber\"\u001b[0m\u001b[1;33m)\u001b[0m\u001b[1;33m\u001b[0m\u001b[1;33m\u001b[0m\u001b[0m\n\u001b[0m\u001b[0;32m      8\u001b[0m \u001b[1;32melse\u001b[0m\u001b[1;33m:\u001b[0m\u001b[1;33m\u001b[0m\u001b[1;33m\u001b[0m\u001b[0m\n\u001b[0;32m      9\u001b[0m     \u001b[0mreciprocal\u001b[0m \u001b[1;33m=\u001b[0m \u001b[1;36m1\u001b[0m\u001b[1;33m/\u001b[0m\u001b[0mnum\u001b[0m\u001b[1;33m\u001b[0m\u001b[1;33m\u001b[0m\u001b[0m\n",
      "\u001b[1;31mTypeError\u001b[0m: exceptions must derive from BaseException"
     ]
    }
   ],
   "source": [
    "# program to print the reciprocal of even numbers\n",
    "\n",
    "try:\n",
    "    num = int(input(\"Enter a number: \"))\n",
    "    assert num % 2 == 0\n",
    "except:\n",
    "    raise(\"NotAnEvenNumber\")\n",
    "else:\n",
    "    reciprocal = 1/num\n",
    "    print(reciprocal)"
   ]
  },
  {
   "cell_type": "code",
   "execution_count": 29,
   "metadata": {
    "ExecuteTime": {
     "end_time": "2020-08-20T07:09:28.610182Z",
     "start_time": "2020-08-20T07:09:26.798078Z"
    }
   },
   "outputs": [
    {
     "name": "stdout",
     "output_type": "stream",
     "text": [
      "Enter a number: -1\n"
     ]
    },
    {
     "ename": "NotAnEvenNumber",
     "evalue": "-------",
     "output_type": "error",
     "traceback": [
      "\u001b[1;31m---------------------------------------------------------------------------\u001b[0m",
      "\u001b[1;31mNotAnEvenNumber\u001b[0m                           Traceback (most recent call last)",
      "\u001b[1;32m<ipython-input-29-cedceac38746>\u001b[0m in \u001b[0;36m<module>\u001b[1;34m\u001b[0m\n\u001b[0;32m      6\u001b[0m \u001b[0mnum\u001b[0m \u001b[1;33m=\u001b[0m \u001b[0mint\u001b[0m\u001b[1;33m(\u001b[0m\u001b[0minput\u001b[0m\u001b[1;33m(\u001b[0m\u001b[1;34m\"Enter a number: \"\u001b[0m\u001b[1;33m)\u001b[0m\u001b[1;33m)\u001b[0m\u001b[1;33m\u001b[0m\u001b[1;33m\u001b[0m\u001b[0m\n\u001b[0;32m      7\u001b[0m \u001b[1;32mif\u001b[0m \u001b[0mnum\u001b[0m \u001b[1;33m%\u001b[0m \u001b[1;36m2\u001b[0m \u001b[1;33m!=\u001b[0m \u001b[1;36m0\u001b[0m\u001b[1;33m:\u001b[0m\u001b[1;33m\u001b[0m\u001b[1;33m\u001b[0m\u001b[0m\n\u001b[1;32m----> 8\u001b[1;33m     \u001b[1;32mraise\u001b[0m \u001b[0mNotAnEvenNumber\u001b[0m\u001b[1;33m(\u001b[0m\u001b[1;33m[\u001b[0m\u001b[1;34m\"-------\"\u001b[0m\u001b[1;33m]\u001b[0m\u001b[1;33m)\u001b[0m\u001b[1;33m\u001b[0m\u001b[1;33m\u001b[0m\u001b[0m\n\u001b[0m\u001b[0;32m      9\u001b[0m \u001b[1;32melse\u001b[0m\u001b[1;33m:\u001b[0m\u001b[1;33m\u001b[0m\u001b[1;33m\u001b[0m\u001b[0m\n\u001b[0;32m     10\u001b[0m     \u001b[0mreciprocal\u001b[0m \u001b[1;33m=\u001b[0m \u001b[1;36m1\u001b[0m\u001b[1;33m/\u001b[0m\u001b[0mnum\u001b[0m\u001b[1;33m\u001b[0m\u001b[1;33m\u001b[0m\u001b[0m\n",
      "\u001b[1;31mNotAnEvenNumber\u001b[0m: -------"
     ]
    }
   ],
   "source": [
    "class NotAnEvenNumber(Exception):\n",
    "    def __init__(self, arg):\n",
    "        self.args = arg\n",
    "\n",
    "# program to print the reciprocal of even numbers\n",
    "num = int(input(\"Enter a number: \"))\n",
    "if num % 2 != 0:\n",
    "    raise NotAnEvenNumber([\"-------\"])\n",
    "else:\n",
    "    reciprocal = 1/num\n",
    "    print(reciprocal)"
   ]
  },
  {
   "cell_type": "code",
   "execution_count": 30,
   "metadata": {
    "ExecuteTime": {
     "end_time": "2020-08-20T07:09:35.508576Z",
     "start_time": "2020-08-20T07:09:35.472574Z"
    }
   },
   "outputs": [
    {
     "ename": "NotAnEvenNumber",
     "evalue": "Only integers are allowed",
     "output_type": "error",
     "traceback": [
      "\u001b[1;31m---------------------------------------------------------------------------\u001b[0m",
      "\u001b[1;31mNotAnEvenNumber\u001b[0m                           Traceback (most recent call last)",
      "\u001b[1;32m<ipython-input-30-6df0d664283b>\u001b[0m in \u001b[0;36m<module>\u001b[1;34m\u001b[0m\n\u001b[0;32m      2\u001b[0m \u001b[1;33m\u001b[0m\u001b[0m\n\u001b[0;32m      3\u001b[0m \u001b[1;32mif\u001b[0m \u001b[1;32mnot\u001b[0m \u001b[0mtype\u001b[0m\u001b[1;33m(\u001b[0m\u001b[0mx\u001b[0m\u001b[1;33m)\u001b[0m \u001b[1;32mis\u001b[0m \u001b[0mint\u001b[0m\u001b[1;33m:\u001b[0m\u001b[1;33m\u001b[0m\u001b[1;33m\u001b[0m\u001b[0m\n\u001b[1;32m----> 4\u001b[1;33m     \u001b[1;32mraise\u001b[0m \u001b[0mNotAnEvenNumber\u001b[0m\u001b[1;33m(\u001b[0m\u001b[1;33m[\u001b[0m\u001b[1;34m\"Only integers are allowed\"\u001b[0m\u001b[1;33m]\u001b[0m\u001b[1;33m)\u001b[0m\u001b[1;33m\u001b[0m\u001b[1;33m\u001b[0m\u001b[0m\n\u001b[0m",
      "\u001b[1;31mNotAnEvenNumber\u001b[0m: Only integers are allowed"
     ]
    }
   ],
   "source": [
    "x = \"hello\"\n",
    "\n",
    "if not type(x) is int:\n",
    "    raise NotAnEvenNumber([\"Only integers are allowed\"])"
   ]
  },
  {
   "cell_type": "markdown",
   "metadata": {},
   "source": [
    "## Assertions in Exception"
   ]
  },
  {
   "cell_type": "code",
   "execution_count": 31,
   "metadata": {
    "ExecuteTime": {
     "end_time": "2020-08-20T07:46:06.030749Z",
     "start_time": "2020-08-20T07:46:04.169642Z"
    }
   },
   "outputs": [
    {
     "name": "stdout",
     "output_type": "stream",
     "text": [
      "Enter a number: -1\n",
      "Not an even number!\n"
     ]
    }
   ],
   "source": [
    "class NotAnEvenNumber(Exception):\n",
    "    def __init__(self, arg):\n",
    "        self.args = arg\n",
    "\n",
    "try:\n",
    "    num = int(input(\"Enter a number: \"))\n",
    "    assert num % 2 == 0\n",
    "except:\n",
    "    print(\"Not an even number!\")\n",
    "else:\n",
    "    reciprocal = 1/num\n",
    "    print(reciprocal)"
   ]
  },
  {
   "cell_type": "markdown",
   "metadata": {},
   "source": [
    "# File Handling\n",
    "    \n",
    "|<p align=\"left\">Mode |<p align=\"left\">Meaning|<p align=\"left\">Action|\n",
    "|----------|----------|----------|\n",
    "|<p align=\"left\">'w' <br> 'wb'  |<p align=\"left\">Write       |<p align=\"left\">Erases the existing file and create a new one <br> File pointer is placed at the beginning of the file <br> **File will be created if file is not available**|\n",
    "|<p align=\"left\">'w+'<br> 'w+b' |<p align=\"left\">Write / Read|<p align=\"left\">Erases the existing file and create a new one <br> File pointer is placed at the beginning of the file <br> **File will be created if file is not available**|\n",
    "|<p align=\"left\">'r' <br> 'rb'  |<p align=\"left\">Reading **(default)**|<p align=\"left\">Used only to read & File should be available <br> File pointer is placed at the beginning of the file <br> **FileNotFoundError**|\n",
    "|<p align=\"left\">'r+' <br> 'r+b'|<p align=\"left\">Read / Write|<p align=\"left\">Making changes to the file and reading from it <br> The file pointer is placed at the beginning of the file <br> **FileNotFoundError**|\n",
    "|<p align=\"left\">'a' <br> 'ab'  |<p align=\"left\">Appending    |<p align=\"left\">Adds information to the end of the file <br> File pointer is placed at the end of the file <br> **File will be created if file is not available**|\n",
    "|<p align=\"left\">'a+' <br> 'a+b'|<p align=\"left\">Append / Read|<p align=\"left\">Adds information to the end of the file<br> File pointer is placed at the end of the file <br> **File will be created if file is not available**|\n",
    "|<p align=\"left\">'x' <br> 'xb'  |<p align=\"left\">Exclusive Creation <br> **Python 3**|<p align=\"left\">This mode is used exclusively to create a file <br> If a file already exists, function call will fail<br>Only Write Operation <br> **FileExistsError**|"
   ]
  },
  {
   "cell_type": "markdown",
   "metadata": {},
   "source": [
    "**Opening and closing a file object**\n",
    "\n",
    "|<p align=\"left\">Object|<p align=\"left\">Operation|\n",
    "|-|-|\n",
    "|<p align=\"left\">file_object.open()|<p align=\"left\">Open a file|\n",
    "|<p align=\"left\">file_object.close()|<p align=\"left\">Close a file|\n",
    "|<p align=\"left\">with open() as file_object|<p align=\"left\">Open - Auto Close|"
   ]
  },
  {
   "cell_type": "markdown",
   "metadata": {},
   "source": [
    "## Properties of the file object\n",
    "`1) fileobject.name         | Name of the file`<br>\n",
    "`2) fileobject.mode         | Mode of the file`<br>\n",
    "`3) fileobject.closed       | Check is the file closed`<br>\n",
    "`4) fileobject.readable()   | Check is the file readable`<br>\n",
    "`5) fileobject.writeable()  | Check is the file writeable`<br>"
   ]
  },
  {
   "cell_type": "code",
   "execution_count": 17,
   "metadata": {
    "ExecuteTime": {
     "end_time": "2020-08-20T16:42:35.117844Z",
     "start_time": "2020-08-20T16:42:35.098842Z"
    }
   },
   "outputs": [
    {
     "name": "stdout",
     "output_type": "stream",
     "text": [
      "This is the file name:  query.log\n",
      "This is the mode name:  r\n",
      "Is the file closed   :  False\n",
      "Is the file readable :  True\n",
      "Is the file writable :  False\n",
      "Is the file closed   :  True\n"
     ]
    }
   ],
   "source": [
    "'''\n",
    "Properties of the open function\n",
    "'''\n",
    "with open(\"query.log\", \"r\") as data_file:\n",
    "    print(\"This is the file name: \", data_file.name)                # Variable\n",
    "    print(\"This is the mode name: \", data_file.mode)                # Variable\n",
    "    print(\"Is the file closed   : \", data_file.closed)              # Boolean Variable\n",
    "    print(\"Is the file readable : \", data_file.readable())          # Boolean Function\n",
    "    print(\"Is the file writable : \", data_file.writable())          # Boolean Function\n",
    "print(\"Is the file closed   : \", data_file.closed)"
   ]
  },
  {
   "cell_type": "markdown",
   "metadata": {},
   "source": [
    "## Reading data from file\n",
    "\n",
    "`1) fileObject = open(); fileObject.close()`<br>\n",
    "`2) with open()`<br>\n",
    "\n",
    "`1) fileObject.read()      | returns string | Read all data as strings`   <br>\n",
    "`2) fileObject.read(n)     | returns string | Read all data as chars`     <br>\n",
    "`3) fileObject.readline()  | returns string | Read a single line data`    <br>\n",
    "`4) fileObject.readlines() | returns list   | Read lines of data as List` <br>"
   ]
  },
  {
   "cell_type": "code",
   "execution_count": 14,
   "metadata": {
    "ExecuteTime": {
     "end_time": "2020-08-20T16:26:45.538531Z",
     "start_time": "2020-08-20T16:26:45.501529Z"
    }
   },
   "outputs": [
    {
     "ename": "FileNotFoundError",
     "evalue": "[Errno 2] No such file or directory: 'abc.txt'",
     "output_type": "error",
     "traceback": [
      "\u001b[1;31m---------------------------------------------------------------------------\u001b[0m",
      "\u001b[1;31mFileNotFoundError\u001b[0m                         Traceback (most recent call last)",
      "\u001b[1;32m<ipython-input-14-ce351b99ec22>\u001b[0m in \u001b[0;36m<module>\u001b[1;34m\u001b[0m\n\u001b[1;32m----> 1\u001b[1;33m \u001b[1;32mwith\u001b[0m \u001b[0mopen\u001b[0m\u001b[1;33m(\u001b[0m\u001b[1;34m\"abc.txt\"\u001b[0m\u001b[1;33m,\u001b[0m \u001b[1;34m\"r\"\u001b[0m\u001b[1;33m)\u001b[0m \u001b[1;32mas\u001b[0m \u001b[0mdata_file\u001b[0m\u001b[1;33m:\u001b[0m\u001b[1;33m\u001b[0m\u001b[1;33m\u001b[0m\u001b[0m\n\u001b[0m\u001b[0;32m      2\u001b[0m     \u001b[0mdata\u001b[0m \u001b[1;33m=\u001b[0m \u001b[0mdata_file\u001b[0m\u001b[1;33m.\u001b[0m\u001b[0mread\u001b[0m\u001b[1;33m(\u001b[0m\u001b[1;33m)\u001b[0m\u001b[1;33m\u001b[0m\u001b[1;33m\u001b[0m\u001b[0m\n\u001b[0;32m      3\u001b[0m     \u001b[0mprint\u001b[0m\u001b[1;33m(\u001b[0m\u001b[0mdata\u001b[0m\u001b[1;33m)\u001b[0m\u001b[1;33m\u001b[0m\u001b[1;33m\u001b[0m\u001b[0m\n\u001b[0;32m      4\u001b[0m     \u001b[0mprint\u001b[0m\u001b[1;33m(\u001b[0m\u001b[0mtype\u001b[0m\u001b[1;33m(\u001b[0m\u001b[0mdata\u001b[0m\u001b[1;33m)\u001b[0m\u001b[1;33m)\u001b[0m\u001b[1;33m\u001b[0m\u001b[1;33m\u001b[0m\u001b[0m\n",
      "\u001b[1;31mFileNotFoundError\u001b[0m: [Errno 2] No such file or directory: 'abc.txt'"
     ]
    }
   ],
   "source": [
    "with open(\"abc.txt\", \"r\") as data_file:\n",
    "    data = data_file.read()\n",
    "    print(data)\n",
    "    print(type(data))"
   ]
  },
  {
   "cell_type": "code",
   "execution_count": 13,
   "metadata": {
    "ExecuteTime": {
     "end_time": "2020-08-20T16:26:39.246171Z",
     "start_time": "2020-08-20T16:26:39.217169Z"
    }
   },
   "outputs": [
    {
     "name": "stdout",
     "output_type": "stream",
     "text": [
      "11-23-2019 11:01:49 PM -- INFO -- Query Executed -- REINDEX TABLE public.test;\n",
      "11-23-2019 11:01:49 PM -- INFO -- Query Executed -- REINDEX TABLE public.test_able;\n",
      "11-23-2019 11:01:49 PM -- INFO -- Query Executed -- REINDEX TABLE public.department;\n",
      "11-23-2019 11:01:49 PM -- INFO -- Query Executed -- REINDEX TABLE public.employee;\n",
      "\n",
      "<class 'str'>\n"
     ]
    }
   ],
   "source": [
    "with open(\"query.log\", \"r\") as data_file:\n",
    "    data = data_file.read()\n",
    "    print(data)\n",
    "    print(type(data))"
   ]
  },
  {
   "cell_type": "code",
   "execution_count": 15,
   "metadata": {
    "ExecuteTime": {
     "end_time": "2020-08-20T16:27:12.708085Z",
     "start_time": "2020-08-20T16:27:12.683083Z"
    }
   },
   "outputs": [
    {
     "name": "stdout",
     "output_type": "stream",
     "text": [
      "11-23-2019 11:01:49 PM -- INFO -- Query Executed -\n",
      "<class 'str'>\n",
      "- REINDEX TABLE public.test;\n",
      "11-23-2019 11:01:49 P\n",
      "<class 'str'>\n"
     ]
    }
   ],
   "source": [
    "with open(\"query.log\", \"r\") as data_file:\n",
    "    data = data_file.read(50)\n",
    "    print(data)\n",
    "    print(type(data))\n",
    "    \n",
    "    data = data_file.read(50)\n",
    "    print(data)\n",
    "    print(type(data))"
   ]
  },
  {
   "cell_type": "code",
   "execution_count": 11,
   "metadata": {
    "ExecuteTime": {
     "end_time": "2020-08-20T16:26:34.015872Z",
     "start_time": "2020-08-20T16:26:33.999871Z"
    }
   },
   "outputs": [
    {
     "name": "stdout",
     "output_type": "stream",
     "text": [
      "11-23-2019 11:01:49 PM -- INFO -- Query Executed -- REINDEX TABLE public.test;\n",
      "\n",
      "<class 'str'>\n",
      "11-23-2019 11:01:49 PM -- INFO -- Query Executed -- REINDEX TABLE public.test_able;\n",
      "\n",
      "<class 'str'>\n"
     ]
    }
   ],
   "source": [
    "with open(\"query.log\", \"r\") as data_file:\n",
    "    data = data_file.readline()\n",
    "    print(data)\n",
    "    print(type(data))\n",
    "    \n",
    "    data = data_file.readline()\n",
    "    print(data)\n",
    "    print(type(data))"
   ]
  },
  {
   "cell_type": "code",
   "execution_count": 10,
   "metadata": {
    "ExecuteTime": {
     "end_time": "2020-08-20T16:26:31.894750Z",
     "start_time": "2020-08-20T16:26:31.871749Z"
    }
   },
   "outputs": [
    {
     "name": "stdout",
     "output_type": "stream",
     "text": [
      "['11-23-2019 11:01:49 PM -- INFO -- Query Executed -- REINDEX TABLE public.test;\\n', '11-23-2019 11:01:49 PM -- INFO -- Query Executed -- REINDEX TABLE public.test_able;\\n', '11-23-2019 11:01:49 PM -- INFO -- Query Executed -- REINDEX TABLE public.department;\\n', '11-23-2019 11:01:49 PM -- INFO -- Query Executed -- REINDEX TABLE public.employee;\\n']\n",
      "<class 'list'>\n"
     ]
    }
   ],
   "source": [
    "with open(\"query.log\", \"r\") as data_file:\n",
    "    data = data_file.readlines()\n",
    "    print(data)\n",
    "    print(type(data))"
   ]
  },
  {
   "cell_type": "markdown",
   "metadata": {},
   "source": [
    "## Write Operations\n",
    "\n",
    "`1) fileObject.write(object)         | input as string`<br>\n",
    "`2) fileObject.writelines(object)    | input as list`<br>"
   ]
  },
  {
   "cell_type": "code",
   "execution_count": 18,
   "metadata": {
    "ExecuteTime": {
     "end_time": "2020-08-20T16:45:46.594795Z",
     "start_time": "2020-08-20T16:45:46.547793Z"
    }
   },
   "outputs": [
    {
     "name": "stdout",
     "output_type": "stream",
     "text": [
      "['Line 1 Line 2 Line 3 ']\n"
     ]
    }
   ],
   "source": [
    "'''\n",
    "Write a string will write continuously\n",
    "'''\n",
    "with open('abc.txt','w+') as test:\n",
    "    test.write('Line 1 ')\n",
    "    test.write('Line 2 ')\n",
    "    test.write('Line 3 ')\n",
    "with open('abc.txt','r') as test:\n",
    "    print(test.readlines())"
   ]
  },
  {
   "cell_type": "code",
   "execution_count": 19,
   "metadata": {
    "ExecuteTime": {
     "end_time": "2020-08-20T16:46:13.152314Z",
     "start_time": "2020-08-20T16:46:13.115312Z"
    }
   },
   "outputs": [
    {
     "name": "stdout",
     "output_type": "stream",
     "text": [
      "['Line 1 Line 2 Line 3 ']\n"
     ]
    }
   ],
   "source": [
    "'''\n",
    "Write a list will also write continuously\n",
    "'''\n",
    "l = ['Line 1 ','Line 2 ', 'Line 3 ']\n",
    "with open('abc.txt','w+') as test:\n",
    "    test.writelines(l)\n",
    "with open('abc.txt','r') as test:\n",
    "    print(test.readlines())"
   ]
  },
  {
   "cell_type": "code",
   "execution_count": 20,
   "metadata": {
    "ExecuteTime": {
     "end_time": "2020-08-20T16:46:30.972334Z",
     "start_time": "2020-08-20T16:46:30.948332Z"
    }
   },
   "outputs": [
    {
     "name": "stdout",
     "output_type": "stream",
     "text": [
      "['Line 1 \\n', 'Line 2 \\n', 'Line 3 \\n']\n"
     ]
    }
   ],
   "source": [
    "'''\n",
    "If we want new line , we need add explicitly on both string | List\n",
    "'''\n",
    "l = ['Line 1 \\n','Line 2 \\n', 'Line 3 \\n']\n",
    "with open('abc.txt','w+') as test:\n",
    "    test.writelines(l)\n",
    "with open('abc.txt','r') as test:\n",
    "    print(test.readlines())"
   ]
  },
  {
   "cell_type": "code",
   "execution_count": 21,
   "metadata": {
    "ExecuteTime": {
     "end_time": "2020-08-20T16:46:45.675175Z",
     "start_time": "2020-08-20T16:46:45.647173Z"
    }
   },
   "outputs": [
    {
     "name": "stdout",
     "output_type": "stream",
     "text": [
      "['Line 1 \\n', 'Line 2 \\n', 'Line 3 \\n']\n"
     ]
    }
   ],
   "source": [
    "'''\n",
    "Looping through and adding new line for each element in list\n",
    "'''\n",
    "l = ['Line 1 ','Line 2 ', 'Line 3 ']\n",
    "with open('abc.txt','w+') as test:\n",
    "    for i in l:\n",
    "        test.write(i)\n",
    "        test.write('\\n')\n",
    "with open('abc.txt','r') as test:\n",
    "    print(test.readlines())"
   ]
  },
  {
   "cell_type": "code",
   "execution_count": 23,
   "metadata": {
    "ExecuteTime": {
     "end_time": "2020-08-20T16:47:53.961080Z",
     "start_time": "2020-08-20T16:47:53.941079Z"
    }
   },
   "outputs": [
    {
     "name": "stdout",
     "output_type": "stream",
     "text": [
      "['Line 1', 'Line 2', 'Line 3']\n"
     ]
    }
   ],
   "source": [
    "'''\n",
    "Removing new line from file using readlines and looping through the element\n",
    "'''\n",
    "all_data_new = list()\n",
    "with open(\"abc.txt\", \"r\") as data_file:\n",
    "    all_data = data_file.readlines()\n",
    "    for i in all_data:\n",
    "        all_data_new.append(i.rstrip())\n",
    "    print(all_data_new)"
   ]
  },
  {
   "cell_type": "markdown",
   "metadata": {},
   "source": [
    "## Tell & Seek\n",
    "\n",
    "|<p align=\"left\">Object|<p align=\"left\">Type|<p align=\"left\">Operation|\n",
    "|-|-|-|\n",
    "|<p align=\"left\">file_object.tell() |<p align=\"left\">Integer|<p align=\"left\">Get the cursor / index location|\n",
    "|<p align=\"left\">file_object.seek() |<p align=\"left\">String|<p align=\"left\">To move the cursor to location from beginning|"
   ]
  },
  {
   "cell_type": "code",
   "execution_count": 25,
   "metadata": {
    "ExecuteTime": {
     "end_time": "2020-08-20T16:56:18.595944Z",
     "start_time": "2020-08-20T16:56:18.576943Z"
    }
   },
   "outputs": [
    {
     "name": "stdout",
     "output_type": "stream",
     "text": [
      "0\n"
     ]
    }
   ],
   "source": [
    "'''\n",
    "Finding the read\\Write Pointer\n",
    "'''\n",
    "with open(\"abc.txt\", \"r\") as data_file:\n",
    "    print(data_file.tell())"
   ]
  },
  {
   "cell_type": "code",
   "execution_count": 27,
   "metadata": {
    "ExecuteTime": {
     "end_time": "2020-08-20T16:57:52.868336Z",
     "start_time": "2020-08-20T16:57:52.843334Z"
    }
   },
   "outputs": [
    {
     "name": "stdout",
     "output_type": "stream",
     "text": [
      "27\n"
     ]
    }
   ],
   "source": [
    "'''\n",
    "Finding the read\\Write Pointer\n",
    "'''\n",
    "with open(\"abc.txt\", \"a\") as data_file:\n",
    "    print(data_file.tell())"
   ]
  },
  {
   "cell_type": "code",
   "execution_count": 28,
   "metadata": {
    "ExecuteTime": {
     "end_time": "2020-08-20T16:58:37.125867Z",
     "start_time": "2020-08-20T16:58:37.103866Z"
    }
   },
   "outputs": [
    {
     "name": "stdout",
     "output_type": "stream",
     "text": [
      "0\n",
      "1000\n"
     ]
    }
   ],
   "source": [
    "'''\n",
    "Seek function will get the read\\write pointer to to the specied charecter (n+1)\n",
    "'''\n",
    "with open(\"abc.txt\", \"r+\") as data_file:\n",
    "    print(data_file.tell())\n",
    "    data_file.seek(1000, 0)\n",
    "    print(data_file.tell())"
   ]
  },
  {
   "cell_type": "code",
   "execution_count": 29,
   "metadata": {
    "ExecuteTime": {
     "end_time": "2020-08-20T16:59:24.328567Z",
     "start_time": "2020-08-20T16:59:24.296565Z"
    }
   },
   "outputs": [
    {
     "name": "stdout",
     "output_type": "stream",
     "text": [
      "27\n",
      "39\n"
     ]
    }
   ],
   "source": [
    "'''\n",
    "Appending charecters to the file\n",
    "i.e : The specified string will be appended to last\n",
    "'''\n",
    "with open(\"abc.txt\", \"a\") as data_file:\n",
    "    print(data_file.tell())\n",
    "    data_file.write('This is Seek')\n",
    "    print(data_file.tell())"
   ]
  },
  {
   "cell_type": "code",
   "execution_count": 30,
   "metadata": {
    "ExecuteTime": {
     "end_time": "2020-08-20T17:00:23.707963Z",
     "start_time": "2020-08-20T17:00:23.684962Z"
    }
   },
   "outputs": [
    {
     "name": "stdout",
     "output_type": "stream",
     "text": [
      "0\n",
      "20\n",
      "32\n"
     ]
    }
   ],
   "source": [
    "'''\n",
    "Seek function will get the read\\write pointer to to the specied charecter (n+1)\n",
    "Rewrite the charecters from n+1 with write function\n",
    "i.e : 20..25 charecters are replaced \n",
    "'''\n",
    "with open(\"input.txt\", \"r+\") as data_file:\n",
    "    print(data_file.tell())\n",
    "    data_file.seek(20, 0)\n",
    "    print(data_file.tell())\n",
    "    data_file.write('This is Seek')\n",
    "    print(data_file.tell())"
   ]
  }
 ],
 "metadata": {
  "kernelspec": {
   "display_name": "Python 3",
   "language": "python",
   "name": "python3"
  },
  "language_info": {
   "codemirror_mode": {
    "name": "ipython",
    "version": 3
   },
   "file_extension": ".py",
   "mimetype": "text/x-python",
   "name": "python",
   "nbconvert_exporter": "python",
   "pygments_lexer": "ipython3",
   "version": "3.8.8"
  },
  "latex_envs": {
   "LaTeX_envs_menu_present": true,
   "autoclose": true,
   "autocomplete": true,
   "bibliofile": "biblio.bib",
   "cite_by": "apalike",
   "current_citInitial": 1,
   "eqLabelWithNumbers": true,
   "eqNumInitial": 1,
   "hotkeys": {
    "equation": "Ctrl-E",
    "itemize": "Ctrl-I"
   },
   "labels_anchors": false,
   "latex_user_defs": false,
   "report_style_numbering": true,
   "user_envs_cfg": false
  },
  "toc": {
   "base_numbering": 1,
   "nav_menu": {},
   "number_sections": true,
   "sideBar": true,
   "skip_h1_title": false,
   "title_cell": "Table of Contents",
   "title_sidebar": "Contents",
   "toc_cell": true,
   "toc_position": {},
   "toc_section_display": true,
   "toc_window_display": true
  },
  "varInspector": {
   "cols": {
    "lenName": 16,
    "lenType": 16,
    "lenVar": 40
   },
   "kernels_config": {
    "python": {
     "delete_cmd_postfix": "",
     "delete_cmd_prefix": "del ",
     "library": "var_list.py",
     "varRefreshCmd": "print(var_dic_list())"
    },
    "r": {
     "delete_cmd_postfix": ") ",
     "delete_cmd_prefix": "rm(",
     "library": "var_list.r",
     "varRefreshCmd": "cat(var_dic_list()) "
    }
   },
   "types_to_exclude": [
    "module",
    "function",
    "builtin_function_or_method",
    "instance",
    "_Feature"
   ],
   "window_display": false
  }
 },
 "nbformat": 4,
 "nbformat_minor": 4
}
