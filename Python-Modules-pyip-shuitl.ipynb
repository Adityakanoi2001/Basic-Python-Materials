{
 "cells": [
  {
   "cell_type": "markdown",
   "id": "68544c8b",
   "metadata": {
    "toc": true
   },
   "source": [
    "<h1>Table of Contents<span class=\"tocSkip\"></span></h1>\n",
    "<div class=\"toc\"><ul class=\"toc-item\"><li><span><a href=\"#PyInputPlus\" data-toc-modified-id=\"PyInputPlus-1\"><span class=\"toc-item-num\">1&nbsp;&nbsp;</span>PyInputPlus</a></span><ul class=\"toc-item\"><li><span><a href=\"#PyInputPlus-Installation\" data-toc-modified-id=\"PyInputPlus-Installation-1.1\"><span class=\"toc-item-num\">1.1&nbsp;&nbsp;</span>PyInputPlus Installation</a></span></li><li><span><a href=\"#inputInt()\" data-toc-modified-id=\"inputInt()-1.2\"><span class=\"toc-item-num\">1.2&nbsp;&nbsp;</span>inputInt()</a></span></li><li><span><a href=\"#blockRegexes\" data-toc-modified-id=\"blockRegexes-1.3\"><span class=\"toc-item-num\">1.3&nbsp;&nbsp;</span>blockRegexes</a></span></li><li><span><a href=\"#allowRegexes\" data-toc-modified-id=\"allowRegexes-1.4\"><span class=\"toc-item-num\">1.4&nbsp;&nbsp;</span>allowRegexes</a></span></li><li><span><a href=\"#Without-Default\" data-toc-modified-id=\"Without-Default-1.5\"><span class=\"toc-item-num\">1.5&nbsp;&nbsp;</span>Without Default</a></span></li><li><span><a href=\"#With-Default\" data-toc-modified-id=\"With-Default-1.6\"><span class=\"toc-item-num\">1.6&nbsp;&nbsp;</span>With Default</a></span></li></ul></li><li><span><a href=\"#Shutil\" data-toc-modified-id=\"Shutil-2\"><span class=\"toc-item-num\">2&nbsp;&nbsp;</span>Shutil</a></span><ul class=\"toc-item\"><li><span><a href=\"#shutil.copy\" data-toc-modified-id=\"shutil.copy-2.1\"><span class=\"toc-item-num\">2.1&nbsp;&nbsp;</span>shutil.copy</a></span></li><li><span><a href=\"#shutil.copy2\" data-toc-modified-id=\"shutil.copy2-2.2\"><span class=\"toc-item-num\">2.2&nbsp;&nbsp;</span>shutil.copy2</a></span></li><li><span><a href=\"#shutil.copyfile\" data-toc-modified-id=\"shutil.copyfile-2.3\"><span class=\"toc-item-num\">2.3&nbsp;&nbsp;</span>shutil.copyfile</a></span></li><li><span><a href=\"#shutil.copytree\" data-toc-modified-id=\"shutil.copytree-2.4\"><span class=\"toc-item-num\">2.4&nbsp;&nbsp;</span>shutil.copytree</a></span></li><li><span><a href=\"#shutil.rmtree\" data-toc-modified-id=\"shutil.rmtree-2.5\"><span class=\"toc-item-num\">2.5&nbsp;&nbsp;</span>shutil.rmtree</a></span></li><li><span><a href=\"#shutil.move\" data-toc-modified-id=\"shutil.move-2.6\"><span class=\"toc-item-num\">2.6&nbsp;&nbsp;</span>shutil.move</a></span></li><li><span><a href=\"#shutil.which\" data-toc-modified-id=\"shutil.which-2.7\"><span class=\"toc-item-num\">2.7&nbsp;&nbsp;</span>shutil.which</a></span></li><li><span><a href=\"#Application\" data-toc-modified-id=\"Application-2.8\"><span class=\"toc-item-num\">2.8&nbsp;&nbsp;</span>Application</a></span><ul class=\"toc-item\"><li><span><a href=\"#Filter-&amp;-Copy-files\" data-toc-modified-id=\"Filter-&amp;-Copy-files-2.8.1\"><span class=\"toc-item-num\">2.8.1&nbsp;&nbsp;</span>Filter &amp; Copy files</a></span></li></ul></li></ul></li></ul></div>"
   ]
  },
  {
   "cell_type": "markdown",
   "id": "6d7d3b7c",
   "metadata": {},
   "source": [
    "# PyInputPlus\n",
    "```\n",
    "- PyInputPlus: Module will keep asking the user for input until they enter valid input.\n",
    "- Its not a part of Standard Library of Python\n",
    "```"
   ]
  },
  {
   "cell_type": "markdown",
   "id": "e7d32cf8",
   "metadata": {},
   "source": [
    "| Function   | Input | Additional Args |\n",
    "| ---------- | ----- | --------------- |\n",
    "| inputNum() | Accepts Numeric value | It takes additional parameters ‘min’, ‘max’, ‘greaterThan’ and ‘lessThan’ for bounds. Returns an int or float |\n",
    "| inputStr() | Accepts String value | It provides features such as ‘blockRegexes’, ‘timeout’, ‘limit’ etc |\n",
    "| inputInt() | Accepts Integer value | This also takes additional parameters ‘min’, ‘max’, ‘greaterThan’ and ‘lessThan’  for bounds. Returns an int |\n",
    "| inputFloat() | Accepts Floating-Point Numeric value | Also takes additional ‘min’, ‘max’, ‘greaterThan’ and ‘lessThan’  parameters. Returns a float |\n",
    "| inputBool() | Accepts Boolean value | Input can be any case-insensitive form of ‘true’/’false’ and ‘T’/’F’. Returns a boolean value |\n",
    "| inputChoice() | Takes a list of strings and accepts one of them as input | \n",
    "| inputMenu() | Similar to inputChoice(), but the choices are presented as items in a menu | Menu items can be marked with letters or numbers, using the ‘lettered’ and ‘numbered’ parameters |\n",
    "| inputDate() | Accepts a date in a strftime format | We need to pass this format to the ‘formats’ parameter. Returns a datetime.date object |\n",
    "| inputTime() | Accepts a time in a strftime format | Returns a datetime.time object |\n",
    "| inputDatetime() |  Accepts a date and time in a strftime format | Returns a datetime.datetime object |\n",
    "| inputYesNo() | Accepts ‘yes’/’no’ or ‘y’/’n’ in case-insensitive form | Returns ‘yes’ or ‘no’ |"
   ]
  },
  {
   "cell_type": "markdown",
   "id": "b3382044",
   "metadata": {},
   "source": [
    "## PyInputPlus Installation"
   ]
  },
  {
   "cell_type": "code",
   "execution_count": 2,
   "id": "87b263fd",
   "metadata": {
    "ExecuteTime": {
     "end_time": "2022-10-05T17:32:55.192516Z",
     "start_time": "2022-10-05T17:32:28.443716Z"
    },
    "deletable": false,
    "editable": false,
    "run_control": {
     "frozen": true
    }
   },
   "outputs": [
    {
     "name": "stdout",
     "output_type": "stream",
     "text": [
      "Collecting PyInputPlus\n",
      "  Downloading PyInputPlus-0.2.12.tar.gz (20 kB)\n",
      "  Installing build dependencies ... \u001b[?25ldone\n",
      "\u001b[?25h  Getting requirements to build wheel ... \u001b[?25ldone\n",
      "\u001b[?25h  Preparing metadata (pyproject.toml) ... \u001b[?25ldone\n",
      "\u001b[?25hCollecting pysimplevalidate>=0.2.7\n",
      "  Downloading PySimpleValidate-0.2.12.tar.gz (22 kB)\n",
      "  Installing build dependencies ... \u001b[?25ldone\n",
      "\u001b[?25h  Getting requirements to build wheel ... \u001b[?25ldone\n",
      "\u001b[?25h  Preparing metadata (pyproject.toml) ... \u001b[?25ldone\n",
      "\u001b[?25hCollecting stdiomask>=0.0.3\n",
      "  Downloading stdiomask-0.0.6.tar.gz (3.6 kB)\n",
      "  Installing build dependencies ... \u001b[?25ldone\n",
      "\u001b[?25h  Getting requirements to build wheel ... \u001b[?25ldone\n",
      "\u001b[?25h  Preparing metadata (pyproject.toml) ... \u001b[?25ldone\n",
      "\u001b[?25hBuilding wheels for collected packages: PyInputPlus, pysimplevalidate, stdiomask\n",
      "  Building wheel for PyInputPlus (pyproject.toml) ... \u001b[?25ldone\n",
      "\u001b[?25h  Created wheel for PyInputPlus: filename=PyInputPlus-0.2.12-py3-none-any.whl size=11297 sha256=8df6facde17b73df44c7b4c875ee4bbdeb5ef535789d524faf1690af851769a7\n",
      "  Stored in directory: /Users/dhivyamalathirajasekaran/Library/Caches/pip/wheels/b9/b4/e7/825446929f44b25d05f4df52bc4f7d211e5dec4c547126a098\n",
      "  Building wheel for pysimplevalidate (pyproject.toml) ... \u001b[?25ldone\n",
      "\u001b[?25h  Created wheel for pysimplevalidate: filename=PySimpleValidate-0.2.12-py3-none-any.whl size=16175 sha256=bf3d1a6b0ac8aba9beb03f77e5a68b59846f1cc3373ce5a48585cff0a7a08801\n",
      "  Stored in directory: /Users/dhivyamalathirajasekaran/Library/Caches/pip/wheels/bd/d4/a5/a003719238ab12962e430310093e567ab7d29bc3bfe062b14c\n",
      "  Building wheel for stdiomask (pyproject.toml) ... \u001b[?25ldone\n",
      "\u001b[?25h  Created wheel for stdiomask: filename=stdiomask-0.0.6-py3-none-any.whl size=3306 sha256=9ab06ba595137b9077dd55c62798bf0feabbac33dc7b1d50b887829d355cd162\n",
      "  Stored in directory: /Users/dhivyamalathirajasekaran/Library/Caches/pip/wheels/c1/e9/4e/bcdfc282cffe91bb88e951ad9a05fb166ed6460bbe3c6dc02b\n",
      "Successfully built PyInputPlus pysimplevalidate stdiomask\n",
      "Installing collected packages: stdiomask, pysimplevalidate, PyInputPlus\n",
      "Successfully installed PyInputPlus-0.2.12 pysimplevalidate-0.2.12 stdiomask-0.0.6\n"
     ]
    }
   ],
   "source": [
    "!pip install PyInputPlus"
   ]
  },
  {
   "cell_type": "markdown",
   "id": "7827ae34",
   "metadata": {},
   "source": [
    "## inputInt()"
   ]
  },
  {
   "cell_type": "code",
   "execution_count": 1,
   "id": "751b7808",
   "metadata": {
    "ExecuteTime": {
     "end_time": "2022-10-09T10:24:44.286369Z",
     "start_time": "2022-10-09T10:24:33.459217Z"
    },
    "deletable": false,
    "editable": false,
    "run_control": {
     "frozen": true
    }
   },
   "outputs": [
    {
     "name": "stdout",
     "output_type": "stream",
     "text": [
      "Enter a string... Vignesh\n"
     ]
    }
   ],
   "source": [
    "import pyinputplus as pyip\n",
    "\n",
    "inp = pyip.inputStr(prompt=\"Enter a string... \", blank=True)"
   ]
  },
  {
   "cell_type": "code",
   "execution_count": 1,
   "id": "3430035f",
   "metadata": {
    "ExecuteTime": {
     "end_time": "2022-10-05T17:46:22.072994Z",
     "start_time": "2022-10-05T17:46:09.238500Z"
    },
    "deletable": false,
    "editable": false,
    "run_control": {
     "frozen": true
    }
   },
   "outputs": [
    {
     "name": "stdout",
     "output_type": "stream",
     "text": [
      "Enter an Integer... 90\n",
      "Input Provided: 90\n"
     ]
    }
   ],
   "source": [
    "import pyinputplus as pyip\n",
    "  \n",
    "# integer input with specific bounds\n",
    "inp = pyip.inputInt(prompt = \"Enter an Integer... \", min = 0, lessThan = 99 )\n",
    "  \n",
    "print(f'Input Provided: {inp}')"
   ]
  },
  {
   "cell_type": "code",
   "execution_count": 2,
   "id": "5b9b50ee",
   "metadata": {
    "ExecuteTime": {
     "end_time": "2022-10-05T17:46:26.187499Z",
     "start_time": "2022-10-05T17:46:22.081765Z"
    },
    "deletable": false,
    "editable": false,
    "run_control": {
     "frozen": true
    }
   },
   "outputs": [
    {
     "name": "stdout",
     "output_type": "stream",
     "text": [
      "Enter an Integer... 100\n",
      "Number must be less than 99.\n",
      "Enter an Integer... -1\n",
      "Number must be at minimum 0.\n",
      "Input Provided: 0\n"
     ]
    }
   ],
   "source": [
    "import pyinputplus as pyip\n",
    "  \n",
    "# integer input with specific bounds\n",
    "inp = pyip.inputInt(prompt = \"Enter an Integer... \",\n",
    "                    min = 0,\n",
    "                    lessThan = 99,\n",
    "                    limit = 2,\n",
    "                    default = 0,)\n",
    "  \n",
    "print(f'Input Provided: {inp}')"
   ]
  },
  {
   "cell_type": "markdown",
   "id": "58546aaf",
   "metadata": {},
   "source": [
    "## blockRegexes"
   ]
  },
  {
   "cell_type": "code",
   "execution_count": 3,
   "id": "e75a086b",
   "metadata": {
    "ExecuteTime": {
     "end_time": "2022-10-09T10:33:37.670333Z",
     "start_time": "2022-10-09T10:33:28.972322Z"
    },
    "deletable": false,
    "editable": false,
    "run_control": {
     "frozen": true
    }
   },
   "outputs": [
    {
     "name": "stdout",
     "output_type": "stream",
     "text": [
      "Enter a string... Vignesh\n",
      "This response is invalid.\n",
      "Enter a string... Dhivya\n",
      "This response is invalid.\n",
      "Enter a string... BBQ\n"
     ]
    }
   ],
   "source": [
    "import pyinputplus as pyip\n",
    "\n",
    "inp = pyip.inputStr(prompt=\"Enter a string... \",blank=True, blockRegexes = 'aeiou')"
   ]
  },
  {
   "cell_type": "markdown",
   "id": "eea15d09",
   "metadata": {},
   "source": [
    "## allowRegexes"
   ]
  },
  {
   "cell_type": "code",
   "execution_count": 4,
   "id": "9f6ea92c",
   "metadata": {
    "ExecuteTime": {
     "end_time": "2022-10-09T10:34:00.235584Z",
     "start_time": "2022-10-09T10:33:56.251831Z"
    },
    "deletable": false,
    "editable": false,
    "run_control": {
     "frozen": true
    }
   },
   "outputs": [
    {
     "name": "stdout",
     "output_type": "stream",
     "text": [
      "Enter a string... BBQ\n"
     ]
    }
   ],
   "source": [
    "import pyinputplus as pyip\n",
    "\n",
    "inp = pyip.inputStr(prompt=\"Enter a string... \",blank=True, allowRegexes = 'aeiou')"
   ]
  },
  {
   "cell_type": "markdown",
   "id": "3ce2e43d",
   "metadata": {},
   "source": [
    "## Without Default"
   ]
  },
  {
   "cell_type": "code",
   "execution_count": 12,
   "id": "84debd32",
   "metadata": {
    "ExecuteTime": {
     "end_time": "2022-10-05T17:42:25.310640Z",
     "start_time": "2022-10-05T17:42:23.071504Z"
    },
    "deletable": false,
    "editable": false,
    "run_control": {
     "frozen": true
    }
   },
   "outputs": [
    {
     "name": "stdout",
     "output_type": "stream",
     "text": [
      "\n",
      "Blank values are not allowed.\n",
      "\n",
      "Blank values are not allowed.\n",
      "\n",
      "Blank values are not allowed.\n"
     ]
    },
    {
     "ename": "RetryLimitException",
     "evalue": "",
     "output_type": "error",
     "traceback": [
      "\u001b[0;31m---------------------------------------------------------------------------\u001b[0m",
      "\u001b[0;31mValidationException\u001b[0m                       Traceback (most recent call last)",
      "File \u001b[0;32m/opt/anaconda3/lib/python3.8/site-packages/pyinputplus/__init__.py:167\u001b[0m, in \u001b[0;36m_genericInput\u001b[0;34m(prompt, default, timeout, limit, applyFunc, validationFunc, postValidateApplyFunc, passwordMask)\u001b[0m\n\u001b[1;32m    166\u001b[0m \u001b[38;5;28;01mtry\u001b[39;00m:\n\u001b[0;32m--> 167\u001b[0m     possibleNewUserInput \u001b[38;5;241m=\u001b[39m \u001b[43mvalidationFunc\u001b[49m\u001b[43m(\u001b[49m\n\u001b[1;32m    168\u001b[0m \u001b[43m        \u001b[49m\u001b[43muserInput\u001b[49m\n\u001b[1;32m    169\u001b[0m \u001b[43m    \u001b[49m\u001b[43m)\u001b[49m  \u001b[38;5;66;03m# If validation fails, this function will raise an exception. Returns an updated value to use as user input (e.g. stripped of whitespace, etc.)\u001b[39;00m\n\u001b[1;32m    170\u001b[0m     \u001b[38;5;28;01mif\u001b[39;00m possibleNewUserInput \u001b[38;5;129;01mis\u001b[39;00m \u001b[38;5;129;01mnot\u001b[39;00m \u001b[38;5;28;01mNone\u001b[39;00m:\n",
      "File \u001b[0;32m/opt/anaconda3/lib/python3.8/site-packages/pyinputplus/__init__.py:243\u001b[0m, in \u001b[0;36minputStr.<locals>.<lambda>\u001b[0;34m(value)\u001b[0m\n\u001b[1;32m    241\u001b[0m pysv\u001b[38;5;241m.\u001b[39m_validateGenericParameters(blank, strip, allowRegexes, blockRegexes)\n\u001b[0;32m--> 243\u001b[0m validationFunc \u001b[38;5;241m=\u001b[39m \u001b[38;5;28;01mlambda\u001b[39;00m value: \u001b[43mpysv\u001b[49m\u001b[38;5;241;43m.\u001b[39;49m\u001b[43m_prevalidationCheck\u001b[49m\u001b[43m(\u001b[49m\n\u001b[1;32m    244\u001b[0m \u001b[43m    \u001b[49m\u001b[43mvalue\u001b[49m\u001b[43m,\u001b[49m\u001b[43m \u001b[49m\u001b[43mblank\u001b[49m\u001b[38;5;241;43m=\u001b[39;49m\u001b[43mblank\u001b[49m\u001b[43m,\u001b[49m\u001b[43m \u001b[49m\u001b[43mstrip\u001b[49m\u001b[38;5;241;43m=\u001b[39;49m\u001b[43mstrip\u001b[49m\u001b[43m,\u001b[49m\u001b[43m \u001b[49m\u001b[43mallowRegexes\u001b[49m\u001b[38;5;241;43m=\u001b[39;49m\u001b[43mallowRegexes\u001b[49m\u001b[43m,\u001b[49m\u001b[43m \u001b[49m\u001b[43mblockRegexes\u001b[49m\u001b[38;5;241;43m=\u001b[39;49m\u001b[43mblockRegexes\u001b[49m\u001b[43m,\u001b[49m\u001b[43m \u001b[49m\u001b[43mexcMsg\u001b[49m\u001b[38;5;241;43m=\u001b[39;49m\u001b[38;5;28;43;01mNone\u001b[39;49;00m\u001b[43m,\u001b[49m\n\u001b[1;32m    245\u001b[0m \u001b[43m\u001b[49m\u001b[43m)\u001b[49m[\u001b[38;5;241m1\u001b[39m]\n\u001b[1;32m    247\u001b[0m \u001b[38;5;28;01mreturn\u001b[39;00m _genericInput(\n\u001b[1;32m    248\u001b[0m     prompt\u001b[38;5;241m=\u001b[39mprompt,\n\u001b[1;32m    249\u001b[0m     default\u001b[38;5;241m=\u001b[39mdefault,\n\u001b[0;32m   (...)\u001b[0m\n\u001b[1;32m    254\u001b[0m     validationFunc\u001b[38;5;241m=\u001b[39mvalidationFunc,\n\u001b[1;32m    255\u001b[0m )\n",
      "File \u001b[0;32m/opt/anaconda3/lib/python3.8/site-packages/pysimplevalidate/__init__.py:250\u001b[0m, in \u001b[0;36m_prevalidationCheck\u001b[0;34m(value, blank, strip, allowRegexes, blockRegexes, excMsg)\u001b[0m\n\u001b[1;32m    248\u001b[0m \u001b[38;5;28;01mif\u001b[39;00m \u001b[38;5;129;01mnot\u001b[39;00m blank \u001b[38;5;129;01mand\u001b[39;00m value \u001b[38;5;241m==\u001b[39m \u001b[38;5;124m\"\u001b[39m\u001b[38;5;124m\"\u001b[39m:\n\u001b[1;32m    249\u001b[0m     \u001b[38;5;66;03m# value is blank but blanks aren't allowed.\u001b[39;00m\n\u001b[0;32m--> 250\u001b[0m     \u001b[43m_raiseValidationException\u001b[49m\u001b[43m(\u001b[49m\u001b[43m_\u001b[49m\u001b[43m(\u001b[49m\u001b[38;5;124;43m\"\u001b[39;49m\u001b[38;5;124;43mBlank values are not allowed.\u001b[39;49m\u001b[38;5;124;43m\"\u001b[39;49m\u001b[43m)\u001b[49m\u001b[43m,\u001b[49m\u001b[43m \u001b[49m\u001b[43mexcMsg\u001b[49m\u001b[43m)\u001b[49m\n\u001b[1;32m    251\u001b[0m \u001b[38;5;28;01melif\u001b[39;00m blank \u001b[38;5;129;01mand\u001b[39;00m value \u001b[38;5;241m==\u001b[39m \u001b[38;5;124m\"\u001b[39m\u001b[38;5;124m\"\u001b[39m:\n",
      "File \u001b[0;32m/opt/anaconda3/lib/python3.8/site-packages/pysimplevalidate/__init__.py:222\u001b[0m, in \u001b[0;36m_raiseValidationException\u001b[0;34m(standardExcMsg, customExcMsg)\u001b[0m\n\u001b[1;32m    221\u001b[0m \u001b[38;5;28;01mif\u001b[39;00m customExcMsg \u001b[38;5;129;01mis\u001b[39;00m \u001b[38;5;28;01mNone\u001b[39;00m:\n\u001b[0;32m--> 222\u001b[0m     \u001b[38;5;28;01mraise\u001b[39;00m ValidationException(\u001b[38;5;28mstr\u001b[39m(standardExcMsg))\n\u001b[1;32m    223\u001b[0m \u001b[38;5;28;01melse\u001b[39;00m:\n",
      "\u001b[0;31mValidationException\u001b[0m: Blank values are not allowed.",
      "\nDuring handling of the above exception, another exception occurred:\n",
      "\u001b[0;31mRetryLimitException\u001b[0m                       Traceback (most recent call last)",
      "Input \u001b[0;32mIn [12]\u001b[0m, in \u001b[0;36m<cell line: 4>\u001b[0;34m()\u001b[0m\n\u001b[1;32m      1\u001b[0m \u001b[38;5;28;01mimport\u001b[39;00m \u001b[38;5;21;01mpyinputplus\u001b[39;00m \u001b[38;5;28;01mas\u001b[39;00m \u001b[38;5;21;01mpyip\u001b[39;00m\n\u001b[1;32m      3\u001b[0m \u001b[38;5;66;03m# integer input with specific bounds\u001b[39;00m\n\u001b[0;32m----> 4\u001b[0m inp \u001b[38;5;241m=\u001b[39m \u001b[43mpyip\u001b[49m\u001b[38;5;241;43m.\u001b[39;49m\u001b[43minputStr\u001b[49m\u001b[43m(\u001b[49m\u001b[43mlimit\u001b[49m\u001b[43m \u001b[49m\u001b[38;5;241;43m=\u001b[39;49m\u001b[43m \u001b[49m\u001b[38;5;241;43m3\u001b[39;49m\u001b[43m)\u001b[49m\n\u001b[1;32m      6\u001b[0m \u001b[38;5;28mprint\u001b[39m(\u001b[38;5;124mf\u001b[39m\u001b[38;5;124m'\u001b[39m\u001b[38;5;124mInput Provided: \u001b[39m\u001b[38;5;132;01m{\u001b[39;00minp\u001b[38;5;132;01m}\u001b[39;00m\u001b[38;5;124m'\u001b[39m)\n",
      "File \u001b[0;32m/opt/anaconda3/lib/python3.8/site-packages/pyinputplus/__init__.py:247\u001b[0m, in \u001b[0;36minputStr\u001b[0;34m(prompt, default, blank, timeout, limit, strip, allowRegexes, blockRegexes, applyFunc, postValidateApplyFunc)\u001b[0m\n\u001b[1;32m    241\u001b[0m pysv\u001b[38;5;241m.\u001b[39m_validateGenericParameters(blank, strip, allowRegexes, blockRegexes)\n\u001b[1;32m    243\u001b[0m validationFunc \u001b[38;5;241m=\u001b[39m \u001b[38;5;28;01mlambda\u001b[39;00m value: pysv\u001b[38;5;241m.\u001b[39m_prevalidationCheck(\n\u001b[1;32m    244\u001b[0m     value, blank\u001b[38;5;241m=\u001b[39mblank, strip\u001b[38;5;241m=\u001b[39mstrip, allowRegexes\u001b[38;5;241m=\u001b[39mallowRegexes, blockRegexes\u001b[38;5;241m=\u001b[39mblockRegexes, excMsg\u001b[38;5;241m=\u001b[39m\u001b[38;5;28;01mNone\u001b[39;00m,\n\u001b[1;32m    245\u001b[0m )[\u001b[38;5;241m1\u001b[39m]\n\u001b[0;32m--> 247\u001b[0m \u001b[38;5;28;01mreturn\u001b[39;00m \u001b[43m_genericInput\u001b[49m\u001b[43m(\u001b[49m\n\u001b[1;32m    248\u001b[0m \u001b[43m    \u001b[49m\u001b[43mprompt\u001b[49m\u001b[38;5;241;43m=\u001b[39;49m\u001b[43mprompt\u001b[49m\u001b[43m,\u001b[49m\n\u001b[1;32m    249\u001b[0m \u001b[43m    \u001b[49m\u001b[43mdefault\u001b[49m\u001b[38;5;241;43m=\u001b[39;49m\u001b[43mdefault\u001b[49m\u001b[43m,\u001b[49m\n\u001b[1;32m    250\u001b[0m \u001b[43m    \u001b[49m\u001b[43mtimeout\u001b[49m\u001b[38;5;241;43m=\u001b[39;49m\u001b[43mtimeout\u001b[49m\u001b[43m,\u001b[49m\n\u001b[1;32m    251\u001b[0m \u001b[43m    \u001b[49m\u001b[43mlimit\u001b[49m\u001b[38;5;241;43m=\u001b[39;49m\u001b[43mlimit\u001b[49m\u001b[43m,\u001b[49m\n\u001b[1;32m    252\u001b[0m \u001b[43m    \u001b[49m\u001b[43mapplyFunc\u001b[49m\u001b[38;5;241;43m=\u001b[39;49m\u001b[43mapplyFunc\u001b[49m\u001b[43m,\u001b[49m\n\u001b[1;32m    253\u001b[0m \u001b[43m    \u001b[49m\u001b[43mpostValidateApplyFunc\u001b[49m\u001b[38;5;241;43m=\u001b[39;49m\u001b[43mpostValidateApplyFunc\u001b[49m\u001b[43m,\u001b[49m\n\u001b[1;32m    254\u001b[0m \u001b[43m    \u001b[49m\u001b[43mvalidationFunc\u001b[49m\u001b[38;5;241;43m=\u001b[39;49m\u001b[43mvalidationFunc\u001b[49m\u001b[43m,\u001b[49m\n\u001b[1;32m    255\u001b[0m \u001b[43m\u001b[49m\u001b[43m)\u001b[49m\n",
      "File \u001b[0;32m/opt/anaconda3/lib/python3.8/site-packages/pyinputplus/__init__.py:188\u001b[0m, in \u001b[0;36m_genericInput\u001b[0;34m(prompt, default, timeout, limit, applyFunc, validationFunc, postValidateApplyFunc, passwordMask)\u001b[0m\n\u001b[1;32m    185\u001b[0m         \u001b[38;5;28;01mreturn\u001b[39;00m default\n\u001b[1;32m    186\u001b[0m     \u001b[38;5;28;01melse\u001b[39;00m:\n\u001b[1;32m    187\u001b[0m         \u001b[38;5;66;03m# If there is no default, then raise the timeout/limit exception.\u001b[39;00m\n\u001b[0;32m--> 188\u001b[0m         \u001b[38;5;28;01mraise\u001b[39;00m limitOrTimeoutException\n\u001b[1;32m    189\u001b[0m \u001b[38;5;28;01melse\u001b[39;00m:\n\u001b[1;32m    190\u001b[0m     \u001b[38;5;66;03m# If there was no timeout/limit exceeded, let the user enter input again.\u001b[39;00m\n\u001b[1;32m    191\u001b[0m     \u001b[38;5;28;01mcontinue\u001b[39;00m\n",
      "\u001b[0;31mRetryLimitException\u001b[0m: "
     ]
    }
   ],
   "source": [
    "import pyinputplus as pyip\n",
    "  \n",
    "# integer input with specific bounds\n",
    "inp = pyip.inputStr(limit = 3)\n",
    "  \n",
    "print(f'Input Provided: {inp}')"
   ]
  },
  {
   "cell_type": "markdown",
   "id": "a3f0eaa7",
   "metadata": {},
   "source": [
    "## With Default"
   ]
  },
  {
   "cell_type": "code",
   "execution_count": 3,
   "id": "64af2db9",
   "metadata": {
    "ExecuteTime": {
     "end_time": "2022-10-05T17:46:29.970804Z",
     "start_time": "2022-10-05T17:46:26.199714Z"
    },
    "deletable": false,
    "editable": false,
    "run_control": {
     "frozen": true
    }
   },
   "outputs": [
    {
     "name": "stdout",
     "output_type": "stream",
     "text": [
      "\n",
      "Blank values are not allowed.\n",
      "\n",
      "Blank values are not allowed.\n",
      "\n",
      "Blank values are not allowed.\n",
      "Input: hello\n"
     ]
    }
   ],
   "source": [
    "import pyinputplus as pyip\n",
    "  \n",
    "# integer input with specific bounds\n",
    "inp = pyip.inputStr(limit = 3, default='hello')\n",
    "  \n",
    "print(f'Input: {inp}')"
   ]
  },
  {
   "cell_type": "markdown",
   "id": "b6c29852",
   "metadata": {},
   "source": [
    "# Shutil\n",
    "```\n",
    "- Shutil module offers high-level operation on a file like a copy, create, and remote operation on the file.\n",
    "- It comes under Python’s standard utility modules.\n",
    "```"
   ]
  },
  {
   "cell_type": "code",
   "execution_count": 14,
   "id": "35bf4aed",
   "metadata": {
    "ExecuteTime": {
     "end_time": "2022-10-09T11:05:17.967892Z",
     "start_time": "2022-10-09T11:05:17.951359Z"
    }
   },
   "outputs": [],
   "source": [
    "src_file = 'supported-files/write.txt'\n",
    "dtn_file = 'supported-files/shutil-copy.txt'\n",
    "dtn2_file = 'supported-files/shutil-copy2.txt'\n",
    "copy_file = 'supported-files/shutil-copyfile.txt'"
   ]
  },
  {
   "cell_type": "markdown",
   "id": "3563b4ed",
   "metadata": {},
   "source": [
    "## shutil.copy"
   ]
  },
  {
   "cell_type": "code",
   "execution_count": 5,
   "id": "919776ea",
   "metadata": {
    "ExecuteTime": {
     "end_time": "2022-10-09T10:43:28.791842Z",
     "start_time": "2022-10-09T10:43:28.778128Z"
    }
   },
   "outputs": [
    {
     "name": "stdout",
     "output_type": "stream",
     "text": [
      "Source File Path     : supported-files/write.txt\n",
      "Destination File Path: supported-files/shutil-copy.txt\n"
     ]
    }
   ],
   "source": [
    "import shutil\n",
    "\n",
    "dest = shutil.copy(src_file, dtn_file)\n",
    "\n",
    "print(\"Source File Path     :\", src_file)\n",
    "print(\"Destination File Path:\", dest)"
   ]
  },
  {
   "cell_type": "code",
   "execution_count": 8,
   "id": "30f285ad",
   "metadata": {
    "ExecuteTime": {
     "end_time": "2022-10-09T10:46:16.819065Z",
     "start_time": "2022-10-09T10:46:16.812981Z"
    }
   },
   "outputs": [],
   "source": [
    "src_file = 'supported-files/write.txt'\n",
    "dtn_file = 'supported-files/shutil/'"
   ]
  },
  {
   "cell_type": "code",
   "execution_count": 9,
   "id": "7f0d6b9b",
   "metadata": {
    "ExecuteTime": {
     "end_time": "2022-10-09T10:46:17.329007Z",
     "start_time": "2022-10-09T10:46:17.274335Z"
    },
    "deletable": false,
    "editable": false,
    "run_control": {
     "frozen": true
    }
   },
   "outputs": [
    {
     "ename": "FileNotFoundError",
     "evalue": "[Errno 2] No such file or directory: 'supported-files/shutil/'",
     "output_type": "error",
     "traceback": [
      "\u001b[0;31m---------------------------------------------------------------------------\u001b[0m",
      "\u001b[0;31mFileNotFoundError\u001b[0m                         Traceback (most recent call last)",
      "Input \u001b[0;32mIn [9]\u001b[0m, in \u001b[0;36m<cell line: 3>\u001b[0;34m()\u001b[0m\n\u001b[1;32m      1\u001b[0m \u001b[38;5;28;01mimport\u001b[39;00m \u001b[38;5;21;01mshutil\u001b[39;00m\n\u001b[0;32m----> 3\u001b[0m dest \u001b[38;5;241m=\u001b[39m \u001b[43mshutil\u001b[49m\u001b[38;5;241;43m.\u001b[39;49m\u001b[43mcopy\u001b[49m\u001b[43m(\u001b[49m\u001b[43msrc_file\u001b[49m\u001b[43m,\u001b[49m\u001b[43m \u001b[49m\u001b[43mdtn_file\u001b[49m\u001b[43m)\u001b[49m\n\u001b[1;32m      5\u001b[0m \u001b[38;5;28mprint\u001b[39m(\u001b[38;5;124m\"\u001b[39m\u001b[38;5;124mSource File Path     :\u001b[39m\u001b[38;5;124m\"\u001b[39m, src_file)\n\u001b[1;32m      6\u001b[0m \u001b[38;5;28mprint\u001b[39m(\u001b[38;5;124m\"\u001b[39m\u001b[38;5;124mDestination File Path:\u001b[39m\u001b[38;5;124m\"\u001b[39m, dest)\n",
      "File \u001b[0;32m/opt/anaconda3/lib/python3.8/shutil.py:418\u001b[0m, in \u001b[0;36mcopy\u001b[0;34m(src, dst, follow_symlinks)\u001b[0m\n\u001b[1;32m    416\u001b[0m \u001b[38;5;28;01mif\u001b[39;00m os\u001b[38;5;241m.\u001b[39mpath\u001b[38;5;241m.\u001b[39misdir(dst):\n\u001b[1;32m    417\u001b[0m     dst \u001b[38;5;241m=\u001b[39m os\u001b[38;5;241m.\u001b[39mpath\u001b[38;5;241m.\u001b[39mjoin(dst, os\u001b[38;5;241m.\u001b[39mpath\u001b[38;5;241m.\u001b[39mbasename(src))\n\u001b[0;32m--> 418\u001b[0m \u001b[43mcopyfile\u001b[49m\u001b[43m(\u001b[49m\u001b[43msrc\u001b[49m\u001b[43m,\u001b[49m\u001b[43m \u001b[49m\u001b[43mdst\u001b[49m\u001b[43m,\u001b[49m\u001b[43m \u001b[49m\u001b[43mfollow_symlinks\u001b[49m\u001b[38;5;241;43m=\u001b[39;49m\u001b[43mfollow_symlinks\u001b[49m\u001b[43m)\u001b[49m\n\u001b[1;32m    419\u001b[0m copymode(src, dst, follow_symlinks\u001b[38;5;241m=\u001b[39mfollow_symlinks)\n\u001b[1;32m    420\u001b[0m \u001b[38;5;28;01mreturn\u001b[39;00m dst\n",
      "File \u001b[0;32m/opt/anaconda3/lib/python3.8/shutil.py:264\u001b[0m, in \u001b[0;36mcopyfile\u001b[0;34m(src, dst, follow_symlinks)\u001b[0m\n\u001b[1;32m    262\u001b[0m     os\u001b[38;5;241m.\u001b[39msymlink(os\u001b[38;5;241m.\u001b[39mreadlink(src), dst)\n\u001b[1;32m    263\u001b[0m \u001b[38;5;28;01melse\u001b[39;00m:\n\u001b[0;32m--> 264\u001b[0m     \u001b[38;5;28;01mwith\u001b[39;00m \u001b[38;5;28mopen\u001b[39m(src, \u001b[38;5;124m'\u001b[39m\u001b[38;5;124mrb\u001b[39m\u001b[38;5;124m'\u001b[39m) \u001b[38;5;28;01mas\u001b[39;00m fsrc, \u001b[38;5;28;43mopen\u001b[39;49m\u001b[43m(\u001b[49m\u001b[43mdst\u001b[49m\u001b[43m,\u001b[49m\u001b[43m \u001b[49m\u001b[38;5;124;43m'\u001b[39;49m\u001b[38;5;124;43mwb\u001b[39;49m\u001b[38;5;124;43m'\u001b[39;49m\u001b[43m)\u001b[49m \u001b[38;5;28;01mas\u001b[39;00m fdst:\n\u001b[1;32m    265\u001b[0m         \u001b[38;5;66;03m# macOS\u001b[39;00m\n\u001b[1;32m    266\u001b[0m         \u001b[38;5;28;01mif\u001b[39;00m _HAS_FCOPYFILE:\n\u001b[1;32m    267\u001b[0m             \u001b[38;5;28;01mtry\u001b[39;00m:\n",
      "\u001b[0;31mFileNotFoundError\u001b[0m: [Errno 2] No such file or directory: 'supported-files/shutil/'"
     ]
    }
   ],
   "source": [
    "import shutil\n",
    "\n",
    "dest = shutil.copy(src_file, dtn_file)\n",
    "\n",
    "print(\"Source File Path     :\", src_file)\n",
    "print(\"Destination File Path:\", dest)"
   ]
  },
  {
   "cell_type": "markdown",
   "id": "f8de6895",
   "metadata": {},
   "source": [
    "## shutil.copy2"
   ]
  },
  {
   "cell_type": "code",
   "execution_count": 13,
   "id": "62ffe97f",
   "metadata": {
    "ExecuteTime": {
     "end_time": "2022-10-09T11:03:19.779287Z",
     "start_time": "2022-10-09T11:03:19.751637Z"
    }
   },
   "outputs": [
    {
     "name": "stdout",
     "output_type": "stream",
     "text": [
      "Listing the Files Before Copy:\n",
      "['query.log', 'shutil-copy2.txt', 'write.zip', 'emp.csv', 'shutil-copy.txt', 'write.txt', '.ipynb_checkpoints']\n",
      "\n",
      "Metadata: os.stat_result(st_mode=33188, st_ino=25526488, st_dev=16777220, st_nlink=1, st_uid=501, st_gid=20, st_size=37, st_atime=1665231359, st_mtime=1665231358, st_ctime=1665231358) \n",
      "\n",
      "Listing the Files Before Copy:\n",
      "['query.log', 'shutil-copy2.txt', 'write.zip', 'emp.csv', 'shutil-copy.txt', 'write.txt', '.ipynb_checkpoints']\n",
      "\n",
      "Metadata: os.stat_result(st_mode=33188, st_ino=25526488, st_dev=16777220, st_nlink=1, st_uid=501, st_gid=20, st_size=37, st_atime=1665231359, st_mtime=1665231358, st_ctime=1665231358)\n"
     ]
    }
   ],
   "source": [
    "import os\n",
    "import shutil\n",
    "\n",
    "print(\"Listing the Files Before Copy:\")\n",
    "print(os.listdir('./supported-files'))\n",
    "print()\n",
    "\n",
    "metadata = os.stat(src_file)\n",
    "print(\"Metadata:\", metadata, \"\\n\")\n",
    "\n",
    "# dtn2_file: Can be a directory but it should be present\n",
    "dest = shutil.copy2(src_file, dtn2_file)\n",
    "print(\"Listing the Files After Copy:\")\n",
    "print(os.listdir('./supported-files'))\n",
    "print()\n",
    "\n",
    "matadata = os.stat(dest)\n",
    "print(\"Metadata:\", metadata)"
   ]
  },
  {
   "cell_type": "markdown",
   "id": "35c49ce8",
   "metadata": {},
   "source": [
    "## shutil.copyfile"
   ]
  },
  {
   "cell_type": "code",
   "execution_count": 15,
   "id": "64fc7ba8",
   "metadata": {
    "ExecuteTime": {
     "end_time": "2022-10-09T11:05:53.129765Z",
     "start_time": "2022-10-09T11:05:53.106987Z"
    }
   },
   "outputs": [
    {
     "name": "stdout",
     "output_type": "stream",
     "text": [
      "Destination path: supported-files/shutil-copyfile.txt\n"
     ]
    }
   ],
   "source": [
    "import shutil\n",
    "\n",
    "dest = shutil.copyfile(src_file, copy_file)\n",
    "\n",
    "print(\"Destination path:\", dest)"
   ]
  },
  {
   "cell_type": "markdown",
   "id": "c1f47284",
   "metadata": {},
   "source": [
    "## shutil.copytree"
   ]
  },
  {
   "cell_type": "code",
   "execution_count": 24,
   "id": "ab9e7b2f",
   "metadata": {
    "ExecuteTime": {
     "end_time": "2022-10-09T11:37:02.601952Z",
     "start_time": "2022-10-09T11:37:02.594277Z"
    }
   },
   "outputs": [],
   "source": [
    "src_file = 'supported-files/write.txt'\n",
    "dtn_file = 'supported-files/shutil-copy.txt'\n",
    "dtn2_file = 'supported-files/shutil-copy2.txt'\n",
    "copy_file = 'supported-files/shutil-copyfile.txt'\n",
    "move_file = 'supported-files/shutil-movefile.txt'\n",
    "\n",
    "src_dir = './supported-files'\n",
    "dst_dir = './supported-files/shutil-copytree'"
   ]
  },
  {
   "cell_type": "code",
   "execution_count": 17,
   "id": "03c28831",
   "metadata": {
    "ExecuteTime": {
     "end_time": "2022-10-09T11:13:19.336796Z",
     "start_time": "2022-10-09T11:13:19.312309Z"
    }
   },
   "outputs": [
    {
     "name": "stdout",
     "output_type": "stream",
     "text": [
      "Listing the DIR Before Copy:\n",
      "['query.log', 'shutil-copy2.txt', 'write.zip', 'emp.csv', 'shutil-copyfile.txt', 'shutil-copy.txt', 'write.txt', '.ipynb_checkpoints']\n",
      "Listing the DIR After Copy:\n",
      "['query.log', 'shutil-copy2.txt', 'write.zip', 'emp.csv', 'shutil-copyfile.txt', 'shutil-copy.txt', 'write.txt', 'shutil-copytree', '.ipynb_checkpoints']\n"
     ]
    }
   ],
   "source": [
    "import os\n",
    "import shutil\n",
    "\n",
    "print(\"Listing the DIR Before Copy:\")\n",
    "print(os.listdir(src_dir))\n",
    "\n",
    "destination = shutil.copytree(src_dir, dst_dir)\n",
    "\n",
    "print(\"Listing the DIR After Copy:\")\n",
    "print(os.listdir(src_dir))"
   ]
  },
  {
   "cell_type": "markdown",
   "id": "4bae05b3",
   "metadata": {},
   "source": [
    "## shutil.rmtree"
   ]
  },
  {
   "cell_type": "code",
   "execution_count": 18,
   "id": "53c5d1ae",
   "metadata": {
    "ExecuteTime": {
     "end_time": "2022-10-09T11:15:20.161397Z",
     "start_time": "2022-10-09T11:15:20.153253Z"
    }
   },
   "outputs": [],
   "source": [
    "import shutil\n",
    "\n",
    "shutil.rmtree(dst_dir)"
   ]
  },
  {
   "cell_type": "markdown",
   "id": "45690a3d",
   "metadata": {},
   "source": [
    "## shutil.move"
   ]
  },
  {
   "cell_type": "code",
   "execution_count": 25,
   "id": "cd7ec019",
   "metadata": {
    "ExecuteTime": {
     "end_time": "2022-10-09T11:37:04.298082Z",
     "start_time": "2022-10-09T11:37:04.253161Z"
    }
   },
   "outputs": [
    {
     "data": {
      "text/plain": [
       "'supported-files/shutil-movefile.txt'"
      ]
     },
     "execution_count": 25,
     "metadata": {},
     "output_type": "execute_result"
    }
   ],
   "source": [
    "import shutil\n",
    "\n",
    "shutil.move(copy_file, move_file)"
   ]
  },
  {
   "cell_type": "markdown",
   "id": "fb283d31",
   "metadata": {},
   "source": [
    "## shutil.which"
   ]
  },
  {
   "cell_type": "code",
   "execution_count": 21,
   "id": "30228956",
   "metadata": {
    "ExecuteTime": {
     "end_time": "2022-10-09T11:16:54.196067Z",
     "start_time": "2022-10-09T11:16:54.188187Z"
    }
   },
   "outputs": [
    {
     "name": "stdout",
     "output_type": "stream",
     "text": [
      "/opt/anaconda3/bin/anaconda\n"
     ]
    }
   ],
   "source": [
    "import shutil \n",
    "   \n",
    "# file search \n",
    "cmd = 'anaconda'\n",
    "   \n",
    "# Using shutil.which() method\n",
    "locate = shutil.which(cmd)\n",
    "   \n",
    "# Print result\n",
    "print(locate)"
   ]
  },
  {
   "cell_type": "markdown",
   "id": "2a3879f6",
   "metadata": {},
   "source": [
    "## Application\n",
    "### Filter & Copy files"
   ]
  },
  {
   "cell_type": "code",
   "execution_count": 26,
   "id": "03443208",
   "metadata": {
    "ExecuteTime": {
     "end_time": "2022-10-09T12:43:39.617349Z",
     "start_time": "2022-10-09T12:43:39.607490Z"
    }
   },
   "outputs": [],
   "source": [
    "import os\n",
    "import glob\n",
    "import shutil\n",
    "\n",
    "# Capable to filter only one extension\n",
    "def find_files_using_glob(dir, extsn):\n",
    "    return glob.glob(os.path.join(dir,f\"*.{extsn}\"))\n",
    "\n",
    "# Capable to filter only one extension\n",
    "def find_files_using_os(dir, extsn):\n",
    "    return [f for f in os.listdir(dir) if os.path.isfile(f) and f.endswith(extsn)]\n",
    "\n",
    "# Capable to filter multiple extensions\n",
    "def find_files_using_os_lambda_list_comprehension(dir, extsn):\n",
    "    return filter(lambda f: f.endswith(extsn), [os.path.join(dir,f) for f in os.listdir(dir) if os.path.isfile(os.path.join(dir,f))])"
   ]
  },
  {
   "cell_type": "code",
   "execution_count": 27,
   "id": "d306e610",
   "metadata": {
    "ExecuteTime": {
     "end_time": "2022-10-09T12:43:43.017629Z",
     "start_time": "2022-10-09T12:43:42.991647Z"
    },
    "deletable": false,
    "editable": false,
    "run_control": {
     "frozen": true
    }
   },
   "outputs": [
    {
     "name": "stdout",
     "output_type": "stream",
     "text": [
      "/Users/dhivyamalathirajasekaran/PycharmProjects/MLProjects/PythonMaterials/templates/shutil-copy2.txt\n",
      "/Users/dhivyamalathirajasekaran/PycharmProjects/MLProjects/PythonMaterials/templates/shutil-copy.txt\n",
      "/Users/dhivyamalathirajasekaran/PycharmProjects/MLProjects/PythonMaterials/templates/write.txt\n",
      "/Users/dhivyamalathirajasekaran/PycharmProjects/MLProjects/PythonMaterials/templates/shutil-movefile.txt\n"
     ]
    }
   ],
   "source": [
    "src_dir = '/Users/dhivyamalathirajasekaran/PycharmProjects/MLProjects/PythonMaterials/supported-files'\n",
    "dst_dir = '/Users/dhivyamalathirajasekaran/PycharmProjects/MLProjects/PythonMaterials/templates'\n",
    "extsn = 'txt'\n",
    "\n",
    "# If we need to pass multiple extensions need one more for-loop\n",
    "for file in find_files_using_glob(src_dir, extsn):\n",
    "    dest = shutil.copy(file, dst_dir)\n",
    "    print(dest)"
   ]
  },
  {
   "cell_type": "code",
   "execution_count": 28,
   "id": "69ac4304",
   "metadata": {
    "ExecuteTime": {
     "end_time": "2022-10-09T12:43:54.075607Z",
     "start_time": "2022-10-09T12:43:54.054457Z"
    },
    "deletable": false,
    "editable": false,
    "run_control": {
     "frozen": true
    }
   },
   "outputs": [
    {
     "name": "stdout",
     "output_type": "stream",
     "text": [
      "/Users/dhivyamalathirajasekaran/PycharmProjects/MLProjects/PythonMaterials/templates/shutil-copy2.txt\n",
      "/Users/dhivyamalathirajasekaran/PycharmProjects/MLProjects/PythonMaterials/templates/shutil-copy.txt\n",
      "/Users/dhivyamalathirajasekaran/PycharmProjects/MLProjects/PythonMaterials/templates/write.txt\n",
      "/Users/dhivyamalathirajasekaran/PycharmProjects/MLProjects/PythonMaterials/templates/shutil-movefile.txt\n"
     ]
    }
   ],
   "source": [
    "src_dir = '/Users/dhivyamalathirajasekaran/PycharmProjects/MLProjects/PythonMaterials/supported-files'\n",
    "dst_dir = '/Users/dhivyamalathirajasekaran/PycharmProjects/MLProjects/PythonMaterials/templates'\n",
    "extsn = ('.txt', '.pdf', '.jpg')\n",
    "\n",
    "# Supports Multiple Extension\n",
    "for file in find_files_using_os_lambda_list_comprehension(src_dir, extsn):\n",
    "    dest = shutil.copy(file, dst_dir)\n",
    "    print(dest)"
   ]
  },
  {
   "cell_type": "code",
   "execution_count": 29,
   "id": "1a3a9bdf",
   "metadata": {
    "ExecuteTime": {
     "end_time": "2022-10-09T12:44:05.921741Z",
     "start_time": "2022-10-09T12:44:05.910490Z"
    },
    "deletable": false,
    "editable": false,
    "run_control": {
     "frozen": true
    }
   },
   "outputs": [
    {
     "name": "stdout",
     "output_type": "stream",
     "text": [
      "/Users/dhivyamalathirajasekaran/PycharmProjects/MLProjects/PythonMaterials/templates/shutil-copy2.txt\n",
      "/Users/dhivyamalathirajasekaran/PycharmProjects/MLProjects/PythonMaterials/templates/shutil-copy.txt\n",
      "/Users/dhivyamalathirajasekaran/PycharmProjects/MLProjects/PythonMaterials/templates/write.txt\n",
      "/Users/dhivyamalathirajasekaran/PycharmProjects/MLProjects/PythonMaterials/templates/shutil-movefile.txt\n"
     ]
    }
   ],
   "source": [
    "src_dir = '/Users/dhivyamalathirajasekaran/PycharmProjects/MLProjects/PythonMaterials/supported-files'\n",
    "dst_dir = '/Users/dhivyamalathirajasekaran/PycharmProjects/MLProjects/PythonMaterials/templates'\n",
    "extsn = ('.txt', '.pdf', '.jpg')\n",
    "\n",
    "for i in find_files_using_os_lambda_list_comprehension(dst_dir, extsn):\n",
    "    print(i)\n",
    "    os.remove(i)"
   ]
  },
  {
   "cell_type": "code",
   "execution_count": null,
   "id": "e011bd73",
   "metadata": {},
   "outputs": [],
   "source": []
  }
 ],
 "metadata": {
  "kernelspec": {
   "display_name": "Python 3 (ipykernel)",
   "language": "python",
   "name": "python3"
  },
  "language_info": {
   "codemirror_mode": {
    "name": "ipython",
    "version": 3
   },
   "file_extension": ".py",
   "mimetype": "text/x-python",
   "name": "python",
   "nbconvert_exporter": "python",
   "pygments_lexer": "ipython3",
   "version": "3.8.13"
  },
  "toc": {
   "base_numbering": 1,
   "nav_menu": {},
   "number_sections": true,
   "sideBar": true,
   "skip_h1_title": false,
   "title_cell": "Table of Contents",
   "title_sidebar": "Contents",
   "toc_cell": true,
   "toc_position": {
    "height": "calc(100% - 180px)",
    "left": "10px",
    "top": "150px",
    "width": "380px"
   },
   "toc_section_display": true,
   "toc_window_display": true
  }
 },
 "nbformat": 4,
 "nbformat_minor": 5
}
