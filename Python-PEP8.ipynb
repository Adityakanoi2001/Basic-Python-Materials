{
 "cells": [
  {
   "cell_type": "markdown",
   "id": "52238712",
   "metadata": {},
   "source": [
    "# Python Enhancement Propsal"
   ]
  },
  {
   "cell_type": "markdown",
   "id": "dc51cffc",
   "metadata": {},
   "source": [
    "## Naming Conventions"
   ]
  },
  {
   "cell_type": "markdown",
   "id": "8e85bf1b",
   "metadata": {},
   "source": [
    "**Camel Case:**  Second Subsequent Word 1st Char is Capitalized\n",
    "\n",
    "**Pascal Case:** All the word 1st Char is Capitalized\n",
    "\n",
    "**Snake Case:**  All the chars ar Lower case and words separated by \"_\""
   ]
  },
  {
   "cell_type": "markdown",
   "id": "7dcc9af8",
   "metadata": {},
   "source": [
    "### Variables"
   ]
  },
  {
   "cell_type": "code",
   "execution_count": 3,
   "id": "b6266690",
   "metadata": {},
   "outputs": [],
   "source": [
    "# Variables: Snake case\n",
    "\n",
    "value = 10\n",
    "employee_age = 35\n",
    "roll_number  = 101"
   ]
  },
  {
   "cell_type": "markdown",
   "id": "16512847",
   "metadata": {},
   "source": [
    "### Functions"
   ]
  },
  {
   "cell_type": "code",
   "execution_count": 4,
   "id": "7ad7993e",
   "metadata": {},
   "outputs": [],
   "source": [
    "# Funcrions: Snake Case\n",
    "\n",
    "def add():\n",
    "    pass\n",
    "\n",
    "def calc_mean_meadian():\n",
    "    pass"
   ]
  },
  {
   "cell_type": "markdown",
   "id": "9a835784",
   "metadata": {},
   "source": [
    "### Class"
   ]
  },
  {
   "cell_type": "code",
   "execution_count": 5,
   "id": "d2a6dce4",
   "metadata": {},
   "outputs": [],
   "source": [
    "# Class: PascalCase\n",
    "\n",
    "class FullTimeEmployee:\n",
    "    pass"
   ]
  },
  {
   "cell_type": "markdown",
   "id": "45ba25dd",
   "metadata": {},
   "source": [
    "### Methods"
   ]
  },
  {
   "cell_type": "code",
   "execution_count": null,
   "id": "07f59fd5",
   "metadata": {},
   "outputs": [],
   "source": [
    "# Method: Snake Case\n",
    "\n",
    "class FullTimeEmployee:        # Pascal Case\n",
    "    def full_time_sal(self):   # sanke Case\n",
    "        pass\n",
    "    \n",
    "    def part_time_sal(self):   # sanke Case\n",
    "        pass"
   ]
  },
  {
   "cell_type": "markdown",
   "id": "b25a9844",
   "metadata": {},
   "source": [
    "### Constants"
   ]
  },
  {
   "cell_type": "code",
   "execution_count": 7,
   "id": "9ad9f3f2",
   "metadata": {},
   "outputs": [],
   "source": [
    "# Constants: ALL CAPS WITH SNAKE CASE FORMAT\n",
    "\n",
    "PI = 3.141\n",
    "CONSTANT_PI = 3.141"
   ]
  },
  {
   "cell_type": "markdown",
   "id": "fe1a918d",
   "metadata": {},
   "source": [
    "### Module"
   ]
  },
  {
   "cell_type": "code",
   "execution_count": 10,
   "id": "dd920a71",
   "metadata": {},
   "outputs": [],
   "source": [
    "# Module: Short & Snake Case (Filename)\n",
    "\n",
    "# psycopg.py\n",
    "# yaml.py\n",
    "# json.py"
   ]
  },
  {
   "cell_type": "markdown",
   "id": "5195412c",
   "metadata": {},
   "source": [
    "### Packages"
   ]
  },
  {
   "cell_type": "code",
   "execution_count": 11,
   "id": "293d4855",
   "metadata": {},
   "outputs": [],
   "source": [
    "# Module: one word & Snake Case (Directory Name)\n",
    "\n",
    "# Jenkins"
   ]
  },
  {
   "cell_type": "markdown",
   "id": "c498801b",
   "metadata": {},
   "source": [
    "## Indentations"
   ]
  },
  {
   "cell_type": "markdown",
   "id": "48fc9206",
   "metadata": {},
   "source": [
    "### Block Indendation"
   ]
  },
  {
   "cell_type": "code",
   "execution_count": 13,
   "id": "47e55ddb",
   "metadata": {},
   "outputs": [
    {
     "name": "stdout",
     "output_type": "stream",
     "text": [
      "You are Under the Guidence of Adults\n"
     ]
    }
   ],
   "source": [
    "# Block Indendation: 4 Spaces recomended\n",
    "#                  : No Tabs Recomended\n",
    "\n",
    "age = 17\n",
    "\n",
    "if age > 17:\n",
    "    print(\"You are now good to be Alone\")\n",
    "else:\n",
    "    print(\"You are Under the Guidence of Adults\")"
   ]
  },
  {
   "cell_type": "code",
   "execution_count": 14,
   "id": "54c8a742",
   "metadata": {},
   "outputs": [
    {
     "ename": "IndentationError",
     "evalue": "expected an indented block (Temp/ipykernel_8408/99513770.py, line 4)",
     "output_type": "error",
     "traceback": [
      "\u001b[1;36m  File \u001b[1;32m\"C:\\Users\\Dell\\AppData\\Local\\Temp/ipykernel_8408/99513770.py\"\u001b[1;36m, line \u001b[1;32m4\u001b[0m\n\u001b[1;33m    print(\"You are now good to be Alone\")\u001b[0m\n\u001b[1;37m    ^\u001b[0m\n\u001b[1;31mIndentationError\u001b[0m\u001b[1;31m:\u001b[0m expected an indented block\n"
     ]
    }
   ],
   "source": [
    "age = 17\n",
    "\n",
    "if age > 17:\n",
    "print(\"You are now good to be Alone\")"
   ]
  },
  {
   "cell_type": "code",
   "execution_count": 17,
   "id": "2d829fc1",
   "metadata": {},
   "outputs": [
    {
     "name": "stdout",
     "output_type": "stream",
     "text": [
      "You are Under the Guidence of Adults\n"
     ]
    }
   ],
   "source": [
    "age = 17\n",
    "\n",
    "if age > 17:\n",
    " print(\"You are now good to be Alone\")\n",
    "else:\n",
    "                   print(\"You are Under the Guidence of Adults\")"
   ]
  },
  {
   "cell_type": "markdown",
   "id": "a170c5be",
   "metadata": {},
   "source": [
    "### Line Breaks"
   ]
  },
  {
   "cell_type": "code",
   "execution_count": 25,
   "id": "550f69b6",
   "metadata": {},
   "outputs": [],
   "source": [
    "# Line Breaks: Maximum of 79 Chars\n",
    "\n",
    "def add(int_arg, float_arg,\n",
    "        complex_arg, boolarg):\n",
    "    pass\n",
    "\n",
    "\n",
    "if (age > 0 and age > 1):\n",
    "    pass"
   ]
  },
  {
   "cell_type": "code",
   "execution_count": 27,
   "id": "0d2f6884",
   "metadata": {},
   "outputs": [],
   "source": [
    "def add(int_arg, float_arg,\n",
    "complex_arg, boolarg):\n",
    "    pass"
   ]
  },
  {
   "cell_type": "code",
   "execution_count": 22,
   "id": "35e71a0a",
   "metadata": {},
   "outputs": [],
   "source": [
    "age = 17\n",
    "\n",
    "if (age>0\n",
    "    and\n",
    "    age>17):\n",
    "    pass"
   ]
  },
  {
   "cell_type": "markdown",
   "id": "0b4e1fbd",
   "metadata": {},
   "source": [
    "### Hanging Indents"
   ]
  },
  {
   "cell_type": "code",
   "execution_count": 28,
   "id": "c4591846",
   "metadata": {},
   "outputs": [],
   "source": [
    "# Hanging Indent: Maximum of 79 Chars\n",
    "\n",
    "def add(\n",
    "    int_arg, float_arg,\n",
    "    complex_arg, boolarg):\n",
    "    pass"
   ]
  },
  {
   "cell_type": "markdown",
   "id": "d2acbcf6",
   "metadata": {},
   "source": [
    "## Code Layouts"
   ]
  },
  {
   "cell_type": "markdown",
   "id": "2d16b3e5",
   "metadata": {},
   "source": [
    "### 2 Blank Lines"
   ]
  },
  {
   "cell_type": "code",
   "execution_count": 37,
   "id": "bf8100e7",
   "metadata": {},
   "outputs": [],
   "source": [
    "# Two Blank lines\n",
    "\n",
    "class FullTimeEmployee:  # Class\n",
    "    pass\n",
    "class PartTimeEmployee:  # Class\n",
    "    pass\n",
    "def OldTimeEmployee():   # Function\n",
    "    pass"
   ]
  },
  {
   "cell_type": "code",
   "execution_count": 36,
   "id": "44782250",
   "metadata": {},
   "outputs": [],
   "source": [
    "# Two Blank lines\n",
    "\n",
    "class FullTimeEmployee: # Class\n",
    "    pass\n",
    "\n",
    "\n",
    "class PartTimeEmployee: # Class\n",
    "    pass\n",
    "\n",
    "\n",
    "def OldTimeEmployee():  # Function\n",
    "    pass\n",
    "\n",
    "\n",
    "def AlumniEmployee():   # Function\n",
    "    pass"
   ]
  },
  {
   "cell_type": "markdown",
   "id": "5d101130",
   "metadata": {},
   "source": [
    "### 1 Blank Line"
   ]
  },
  {
   "cell_type": "code",
   "execution_count": 38,
   "id": "308c981a",
   "metadata": {},
   "outputs": [],
   "source": [
    "class FullTimeEmployee:\n",
    "    def monthly_sal():        # Methods\n",
    "        pass\n",
    "    \n",
    "    def monthly_allowence():  # Methods\n",
    "        pass"
   ]
  },
  {
   "cell_type": "markdown",
   "id": "89f2b214",
   "metadata": {},
   "source": [
    "### Clear Steps"
   ]
  },
  {
   "cell_type": "code",
   "execution_count": 39,
   "id": "12d9800d",
   "metadata": {},
   "outputs": [],
   "source": [
    "def calc_step(num_list):\n",
    "    sum_list = 0\n",
    "    for i in num_list:\n",
    "        sum_list = sum_list + 1\n",
    "    mean = sum_list / len(num_list)\n",
    "    for j in num_list:\n",
    "        sum_squares = sum_squares + j ** 2\n",
    "    mean_sq = sum_squares / len(num_list)\n",
    "    return mean_sq - mean ** 2"
   ]
  },
  {
   "cell_type": "code",
   "execution_count": 40,
   "id": "a3939ab8",
   "metadata": {},
   "outputs": [],
   "source": [
    "def calc_step(num_list):\n",
    "    sum_list = 0\n",
    "    \n",
    "    for i in num_list:\n",
    "        sum_list = sum_list + 1\n",
    "    mean = sum_list / len(num_list)\n",
    "    \n",
    "    for j in num_list:\n",
    "        sum_squares = sum_squares + j ** 2\n",
    "    mean_sq = sum_squares / len(num_list)\n",
    "\n",
    "    \n",
    "    return mean_sq - mean ** 2"
   ]
  },
  {
   "cell_type": "markdown",
   "id": "d66a7903",
   "metadata": {},
   "source": [
    "## Comments"
   ]
  },
  {
   "cell_type": "markdown",
   "id": "c2878ac0",
   "metadata": {},
   "source": [
    "### Block Comments"
   ]
  },
  {
   "cell_type": "code",
   "execution_count": 1,
   "id": "86899052",
   "metadata": {},
   "outputs": [
    {
     "name": "stdout",
     "output_type": "stream",
     "text": [
      "The Zen of Python, by Tim Peters\n",
      "\n",
      "Beautiful is better than ugly.\n",
      "Explicit is better than implicit.\n",
      "Simple is better than complex.\n",
      "Complex is better than complicated.\n",
      "Flat is better than nested.\n",
      "Sparse is better than dense.\n",
      "Readability counts.\n",
      "Special cases aren't special enough to break the rules.\n",
      "Although practicality beats purity.\n",
      "Errors should never pass silently.\n",
      "Unless explicitly silenced.\n",
      "In the face of ambiguity, refuse the temptation to guess.\n",
      "There should be one-- and preferably only one --obvious way to do it.\n",
      "Although that way may not be obvious at first unless you're Dutch.\n",
      "Now is better than never.\n",
      "Although never is often better than *right* now.\n",
      "If the implementation is hard to explain, it's a bad idea.\n",
      "If the implementation is easy to explain, it may be a good idea.\n",
      "Namespaces are one honking great idea -- let's do more of those!\n"
     ]
    }
   ],
   "source": [
    "import this"
   ]
  }
 ],
 "metadata": {
  "kernelspec": {
   "display_name": "Python 3 (ipykernel)",
   "language": "python",
   "name": "python3"
  },
  "language_info": {
   "codemirror_mode": {
    "name": "ipython",
    "version": 3
   },
   "file_extension": ".py",
   "mimetype": "text/x-python",
   "name": "python",
   "nbconvert_exporter": "python",
   "pygments_lexer": "ipython3",
   "version": "3.9.7"
  }
 },
 "nbformat": 4,
 "nbformat_minor": 5
}
